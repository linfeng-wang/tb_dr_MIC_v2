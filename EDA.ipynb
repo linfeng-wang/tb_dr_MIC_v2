{
 "cells": [
  {
   "cell_type": "code",
   "execution_count": 33,
   "metadata": {},
   "outputs": [],
   "source": [
    "import numpy as np\n",
    "import pandas as pd\n",
    "# from icecream import ic\n",
    "import subprocess\n",
    "import json\n",
    "import os\n",
    "import plotly.graph_objects as go\n",
    "from matplotlib import pyplot as plt\n",
    "# import geopandas as gpd\n",
    "# from shapely.geometry import Polygon\n",
    "# from shapely.ops import cascaded_union, unary_union\n",
    "# from shapely import geometry\n",
    "# from geopy import distance\n",
    "%matplotlib inline\n",
    "# import plotly.express as px \n",
    "from scipy import signal\n",
    "from tqdm import tqdm\n",
    "# from Bio import Phylo\n",
    "# import ete3\n",
    "import itertools\n",
    "import sklearn"
   ]
  },
  {
   "cell_type": "code",
   "execution_count": 2,
   "metadata": {},
   "outputs": [],
   "source": [
    "df = pd.read_csv('data1/CRyPTIC_reuse_table_20221019_cleaned.csv')\n"
   ]
  },
  {
   "cell_type": "code",
   "execution_count": 13,
   "metadata": {},
   "outputs": [
    {
     "data": {
      "text/plain": [
       "Index(['UNIQUEID', 'AMI_BINARY_PHENOTYPE', 'BDQ_BINARY_PHENOTYPE',\n",
       "       'CFZ_BINARY_PHENOTYPE', 'DLM_BINARY_PHENOTYPE', 'EMB_BINARY_PHENOTYPE',\n",
       "       'ETH_BINARY_PHENOTYPE', 'INH_BINARY_PHENOTYPE', 'KAN_BINARY_PHENOTYPE',\n",
       "       'LEV_BINARY_PHENOTYPE', 'LZD_BINARY_PHENOTYPE', 'MXF_BINARY_PHENOTYPE',\n",
       "       'RIF_BINARY_PHENOTYPE', 'RFB_BINARY_PHENOTYPE', 'AMI_MIC', 'BDQ_MIC',\n",
       "       'CFZ_MIC', 'DLM_MIC', 'EMB_MIC', 'ETH_MIC', 'INH_MIC', 'KAN_MIC',\n",
       "       'LEV_MIC', 'LZD_MIC', 'MXF_MIC', 'RIF_MIC', 'RFB_MIC',\n",
       "       'AMI_PHENOTYPE_QUALITY', 'BDQ_PHENOTYPE_QUALITY',\n",
       "       'CFZ_PHENOTYPE_QUALITY', 'EMB_PHENOTYPE_QUALITY',\n",
       "       'ETH_PHENOTYPE_QUALITY', 'INH_PHENOTYPE_QUALITY',\n",
       "       'KAN_PHENOTYPE_QUALITY', 'LEV_PHENOTYPE_QUALITY',\n",
       "       'LZD_PHENOTYPE_QUALITY', 'MXF_PHENOTYPE_QUALITY',\n",
       "       'RIF_PHENOTYPE_QUALITY', 'RFB_PHENOTYPE_QUALITY', 'ENA_SAMPLE', 'VCF',\n",
       "       'REGENOTYPED_VCF', 'wgs_id'],\n",
       "      dtype='object')"
      ]
     },
     "execution_count": 13,
     "metadata": {},
     "output_type": "execute_result"
    }
   ],
   "source": [
    "df.columns"
   ]
  },
  {
   "cell_type": "code",
   "execution_count": null,
   "metadata": {},
   "outputs": [],
   "source": []
  },
  {
   "cell_type": "code",
   "execution_count": 41,
   "metadata": {},
   "outputs": [],
   "source": [
    "df_pheno = df[['AMI_BINARY_PHENOTYPE', 'BDQ_BINARY_PHENOTYPE',\n",
    "       'CFZ_BINARY_PHENOTYPE', 'DLM_BINARY_PHENOTYPE', 'EMB_BINARY_PHENOTYPE',\n",
    "       'ETH_BINARY_PHENOTYPE', 'INH_BINARY_PHENOTYPE', 'KAN_BINARY_PHENOTYPE',\n",
    "       'LEV_BINARY_PHENOTYPE', 'LZD_BINARY_PHENOTYPE', 'MXF_BINARY_PHENOTYPE',\n",
    "       'RIF_BINARY_PHENOTYPE', 'RFB_BINARY_PHENOTYPE']]\n",
    "# Correcting the approach to count 'S', 'I', and 'R' for each column and save in a new dataframe\n",
    "\n",
    "# Importing pandas for dataframe manipulation\n",
    "import pandas as pd\n",
    "\n",
    "# Assuming df is the initial dataframe\n",
    "# Creating a new DataFrame to store counts\n",
    "counts_df = pd.DataFrame(columns=['S', 'I', 'R'])\n",
    "\n",
    "# Looping through each column in the original dataframe\n",
    "for column in df_pheno.columns:\n",
    "    # Counting occurrences of 'S', 'I', and 'R'\n",
    "    s_count = (df[column] == 'S').sum()\n",
    "    i_count = (df[column] == 'I').sum()\n",
    "    r_count = (df[column] == 'R').sum()\n",
    "    \n",
    "    # Adding the counts to the new dataframe\n",
    "    counts_df.loc[column] = [s_count, i_count, r_count]\n",
    "\n",
    "counts_df['Phenotype'] = counts_df.index.str.replace('_BINARY_PHENOTYPE', '')\n"
   ]
  },
  {
   "cell_type": "code",
   "execution_count": 59,
   "metadata": {},
   "outputs": [
    {
     "data": {
      "text/html": [
       "<div>\n",
       "<style scoped>\n",
       "    .dataframe tbody tr th:only-of-type {\n",
       "        vertical-align: middle;\n",
       "    }\n",
       "\n",
       "    .dataframe tbody tr th {\n",
       "        vertical-align: top;\n",
       "    }\n",
       "\n",
       "    .dataframe thead th {\n",
       "        text-align: right;\n",
       "    }\n",
       "</style>\n",
       "<table border=\"1\" class=\"dataframe\">\n",
       "  <thead>\n",
       "    <tr style=\"text-align: right;\">\n",
       "      <th></th>\n",
       "      <th>S</th>\n",
       "      <th>I</th>\n",
       "      <th>R</th>\n",
       "      <th>Phenotype</th>\n",
       "      <th>Total</th>\n",
       "      <th>S%</th>\n",
       "      <th>I%</th>\n",
       "      <th>R%</th>\n",
       "    </tr>\n",
       "  </thead>\n",
       "  <tbody>\n",
       "    <tr>\n",
       "      <th>AMI_BINARY_PHENOTYPE</th>\n",
       "      <td>11186</td>\n",
       "      <td>0</td>\n",
       "      <td>882</td>\n",
       "      <td>AMI</td>\n",
       "      <td>12068</td>\n",
       "      <td>92.691415</td>\n",
       "      <td>0.0</td>\n",
       "      <td>7.308585</td>\n",
       "    </tr>\n",
       "    <tr>\n",
       "      <th>BDQ_BINARY_PHENOTYPE</th>\n",
       "      <td>11955</td>\n",
       "      <td>0</td>\n",
       "      <td>109</td>\n",
       "      <td>BDQ</td>\n",
       "      <td>12064</td>\n",
       "      <td>99.096485</td>\n",
       "      <td>0.0</td>\n",
       "      <td>0.903515</td>\n",
       "    </tr>\n",
       "    <tr>\n",
       "      <th>CFZ_BINARY_PHENOTYPE</th>\n",
       "      <td>11520</td>\n",
       "      <td>0</td>\n",
       "      <td>525</td>\n",
       "      <td>CFZ</td>\n",
       "      <td>12045</td>\n",
       "      <td>95.641345</td>\n",
       "      <td>0.0</td>\n",
       "      <td>4.358655</td>\n",
       "    </tr>\n",
       "    <tr>\n",
       "      <th>DLM_BINARY_PHENOTYPE</th>\n",
       "      <td>11737</td>\n",
       "      <td>0</td>\n",
       "      <td>186</td>\n",
       "      <td>DLM</td>\n",
       "      <td>11923</td>\n",
       "      <td>98.43999</td>\n",
       "      <td>0.0</td>\n",
       "      <td>1.56001</td>\n",
       "    </tr>\n",
       "    <tr>\n",
       "      <th>EMB_BINARY_PHENOTYPE</th>\n",
       "      <td>8334</td>\n",
       "      <td>1559</td>\n",
       "      <td>2261</td>\n",
       "      <td>EMB</td>\n",
       "      <td>12154</td>\n",
       "      <td>68.570018</td>\n",
       "      <td>12.827053</td>\n",
       "      <td>18.602929</td>\n",
       "    </tr>\n",
       "    <tr>\n",
       "      <th>ETH_BINARY_PHENOTYPE</th>\n",
       "      <td>9429</td>\n",
       "      <td>972</td>\n",
       "      <td>1727</td>\n",
       "      <td>ETH</td>\n",
       "      <td>12128</td>\n",
       "      <td>77.745712</td>\n",
       "      <td>8.014512</td>\n",
       "      <td>14.239776</td>\n",
       "    </tr>\n",
       "    <tr>\n",
       "      <th>INH_BINARY_PHENOTYPE</th>\n",
       "      <td>6159</td>\n",
       "      <td>0</td>\n",
       "      <td>5907</td>\n",
       "      <td>INH</td>\n",
       "      <td>12066</td>\n",
       "      <td>51.044257</td>\n",
       "      <td>0.0</td>\n",
       "      <td>48.955743</td>\n",
       "    </tr>\n",
       "    <tr>\n",
       "      <th>KAN_BINARY_PHENOTYPE</th>\n",
       "      <td>11006</td>\n",
       "      <td>0</td>\n",
       "      <td>1120</td>\n",
       "      <td>KAN</td>\n",
       "      <td>12126</td>\n",
       "      <td>90.763648</td>\n",
       "      <td>0.0</td>\n",
       "      <td>9.236352</td>\n",
       "    </tr>\n",
       "    <tr>\n",
       "      <th>LEV_BINARY_PHENOTYPE</th>\n",
       "      <td>10014</td>\n",
       "      <td>0</td>\n",
       "      <td>2145</td>\n",
       "      <td>LEV</td>\n",
       "      <td>12159</td>\n",
       "      <td>82.358747</td>\n",
       "      <td>0.0</td>\n",
       "      <td>17.641253</td>\n",
       "    </tr>\n",
       "    <tr>\n",
       "      <th>LZD_BINARY_PHENOTYPE</th>\n",
       "      <td>12029</td>\n",
       "      <td>0</td>\n",
       "      <td>156</td>\n",
       "      <td>LZD</td>\n",
       "      <td>12185</td>\n",
       "      <td>98.719737</td>\n",
       "      <td>0.0</td>\n",
       "      <td>1.280263</td>\n",
       "    </tr>\n",
       "    <tr>\n",
       "      <th>MXF_BINARY_PHENOTYPE</th>\n",
       "      <td>10466</td>\n",
       "      <td>0</td>\n",
       "      <td>1724</td>\n",
       "      <td>MXF</td>\n",
       "      <td>12190</td>\n",
       "      <td>85.85726</td>\n",
       "      <td>0.0</td>\n",
       "      <td>14.14274</td>\n",
       "    </tr>\n",
       "    <tr>\n",
       "      <th>RIF_BINARY_PHENOTYPE</th>\n",
       "      <td>7412</td>\n",
       "      <td>0</td>\n",
       "      <td>4683</td>\n",
       "      <td>RIF</td>\n",
       "      <td>12095</td>\n",
       "      <td>61.281521</td>\n",
       "      <td>0.0</td>\n",
       "      <td>38.718479</td>\n",
       "    </tr>\n",
       "    <tr>\n",
       "      <th>RFB_BINARY_PHENOTYPE</th>\n",
       "      <td>7682</td>\n",
       "      <td>0</td>\n",
       "      <td>4464</td>\n",
       "      <td>RFB</td>\n",
       "      <td>12146</td>\n",
       "      <td>63.24716</td>\n",
       "      <td>0.0</td>\n",
       "      <td>36.75284</td>\n",
       "    </tr>\n",
       "  </tbody>\n",
       "</table>\n",
       "</div>"
      ],
      "text/plain": [
       "                          S     I     R Phenotype  Total         S%  \\\n",
       "AMI_BINARY_PHENOTYPE  11186     0   882       AMI  12068  92.691415   \n",
       "BDQ_BINARY_PHENOTYPE  11955     0   109       BDQ  12064  99.096485   \n",
       "CFZ_BINARY_PHENOTYPE  11520     0   525       CFZ  12045  95.641345   \n",
       "DLM_BINARY_PHENOTYPE  11737     0   186       DLM  11923   98.43999   \n",
       "EMB_BINARY_PHENOTYPE   8334  1559  2261       EMB  12154  68.570018   \n",
       "ETH_BINARY_PHENOTYPE   9429   972  1727       ETH  12128  77.745712   \n",
       "INH_BINARY_PHENOTYPE   6159     0  5907       INH  12066  51.044257   \n",
       "KAN_BINARY_PHENOTYPE  11006     0  1120       KAN  12126  90.763648   \n",
       "LEV_BINARY_PHENOTYPE  10014     0  2145       LEV  12159  82.358747   \n",
       "LZD_BINARY_PHENOTYPE  12029     0   156       LZD  12185  98.719737   \n",
       "MXF_BINARY_PHENOTYPE  10466     0  1724       MXF  12190   85.85726   \n",
       "RIF_BINARY_PHENOTYPE   7412     0  4683       RIF  12095  61.281521   \n",
       "RFB_BINARY_PHENOTYPE   7682     0  4464       RFB  12146   63.24716   \n",
       "\n",
       "                             I%         R%  \n",
       "AMI_BINARY_PHENOTYPE        0.0   7.308585  \n",
       "BDQ_BINARY_PHENOTYPE        0.0   0.903515  \n",
       "CFZ_BINARY_PHENOTYPE        0.0   4.358655  \n",
       "DLM_BINARY_PHENOTYPE        0.0    1.56001  \n",
       "EMB_BINARY_PHENOTYPE  12.827053  18.602929  \n",
       "ETH_BINARY_PHENOTYPE   8.014512  14.239776  \n",
       "INH_BINARY_PHENOTYPE        0.0  48.955743  \n",
       "KAN_BINARY_PHENOTYPE        0.0   9.236352  \n",
       "LEV_BINARY_PHENOTYPE        0.0  17.641253  \n",
       "LZD_BINARY_PHENOTYPE        0.0   1.280263  \n",
       "MXF_BINARY_PHENOTYPE        0.0   14.14274  \n",
       "RIF_BINARY_PHENOTYPE        0.0  38.718479  \n",
       "RFB_BINARY_PHENOTYPE        0.0   36.75284  "
      ]
     },
     "execution_count": 59,
     "metadata": {},
     "output_type": "execute_result"
    }
   ],
   "source": [
    "counts_df"
   ]
  },
  {
   "cell_type": "code",
   "execution_count": 58,
   "metadata": {},
   "outputs": [
    {
     "data": {
      "application/vnd.plotly.v1+json": {
       "config": {
        "plotlyServerURL": "https://plot.ly"
       },
       "data": [
        {
         "marker": {
          "color": "#28A745"
         },
         "name": "S",
         "type": "bar",
         "width": 0.7,
         "x": [
          "AMI",
          "BDQ",
          "CFZ",
          "DLM",
          "EMB",
          "ETH",
          "INH",
          "KAN",
          "LEV",
          "LZD",
          "MXF",
          "RIF",
          "RFB"
         ],
         "y": [
          11186,
          11955,
          11520,
          11737,
          8334,
          9429,
          6159,
          11006,
          10014,
          12029,
          10466,
          7412,
          7682
         ]
        },
        {
         "marker": {
          "color": "#E0ACD5"
         },
         "name": "I",
         "type": "bar",
         "width": 0.7,
         "x": [
          "AMI",
          "BDQ",
          "CFZ",
          "DLM",
          "EMB",
          "ETH",
          "INH",
          "KAN",
          "LEV",
          "LZD",
          "MXF",
          "RIF",
          "RFB"
         ],
         "y": [
          0,
          0,
          0,
          0,
          1559,
          972,
          0,
          0,
          0,
          0,
          0,
          0,
          0
         ]
        },
        {
         "marker": {
          "color": "#DC3545"
         },
         "name": "R",
         "type": "bar",
         "width": 0.7,
         "x": [
          "AMI",
          "BDQ",
          "CFZ",
          "DLM",
          "EMB",
          "ETH",
          "INH",
          "KAN",
          "LEV",
          "LZD",
          "MXF",
          "RIF",
          "RFB"
         ],
         "y": [
          882,
          109,
          525,
          186,
          2261,
          1727,
          5907,
          1120,
          2145,
          156,
          1724,
          4683,
          4464
         ]
        }
       ],
       "layout": {
        "barmode": "stack",
        "height": 600,
        "template": {
         "data": {
          "bar": [
           {
            "error_x": {
             "color": "rgb(36,36,36)"
            },
            "error_y": {
             "color": "rgb(36,36,36)"
            },
            "marker": {
             "line": {
              "color": "white",
              "width": 0.5
             },
             "pattern": {
              "fillmode": "overlay",
              "size": 10,
              "solidity": 0.2
             }
            },
            "type": "bar"
           }
          ],
          "barpolar": [
           {
            "marker": {
             "line": {
              "color": "white",
              "width": 0.5
             },
             "pattern": {
              "fillmode": "overlay",
              "size": 10,
              "solidity": 0.2
             }
            },
            "type": "barpolar"
           }
          ],
          "carpet": [
           {
            "aaxis": {
             "endlinecolor": "rgb(36,36,36)",
             "gridcolor": "white",
             "linecolor": "white",
             "minorgridcolor": "white",
             "startlinecolor": "rgb(36,36,36)"
            },
            "baxis": {
             "endlinecolor": "rgb(36,36,36)",
             "gridcolor": "white",
             "linecolor": "white",
             "minorgridcolor": "white",
             "startlinecolor": "rgb(36,36,36)"
            },
            "type": "carpet"
           }
          ],
          "choropleth": [
           {
            "colorbar": {
             "outlinewidth": 1,
             "tickcolor": "rgb(36,36,36)",
             "ticks": "outside"
            },
            "type": "choropleth"
           }
          ],
          "contour": [
           {
            "colorbar": {
             "outlinewidth": 1,
             "tickcolor": "rgb(36,36,36)",
             "ticks": "outside"
            },
            "colorscale": [
             [
              0,
              "#440154"
             ],
             [
              0.1111111111111111,
              "#482878"
             ],
             [
              0.2222222222222222,
              "#3e4989"
             ],
             [
              0.3333333333333333,
              "#31688e"
             ],
             [
              0.4444444444444444,
              "#26828e"
             ],
             [
              0.5555555555555556,
              "#1f9e89"
             ],
             [
              0.6666666666666666,
              "#35b779"
             ],
             [
              0.7777777777777778,
              "#6ece58"
             ],
             [
              0.8888888888888888,
              "#b5de2b"
             ],
             [
              1,
              "#fde725"
             ]
            ],
            "type": "contour"
           }
          ],
          "contourcarpet": [
           {
            "colorbar": {
             "outlinewidth": 1,
             "tickcolor": "rgb(36,36,36)",
             "ticks": "outside"
            },
            "type": "contourcarpet"
           }
          ],
          "heatmap": [
           {
            "colorbar": {
             "outlinewidth": 1,
             "tickcolor": "rgb(36,36,36)",
             "ticks": "outside"
            },
            "colorscale": [
             [
              0,
              "#440154"
             ],
             [
              0.1111111111111111,
              "#482878"
             ],
             [
              0.2222222222222222,
              "#3e4989"
             ],
             [
              0.3333333333333333,
              "#31688e"
             ],
             [
              0.4444444444444444,
              "#26828e"
             ],
             [
              0.5555555555555556,
              "#1f9e89"
             ],
             [
              0.6666666666666666,
              "#35b779"
             ],
             [
              0.7777777777777778,
              "#6ece58"
             ],
             [
              0.8888888888888888,
              "#b5de2b"
             ],
             [
              1,
              "#fde725"
             ]
            ],
            "type": "heatmap"
           }
          ],
          "heatmapgl": [
           {
            "colorbar": {
             "outlinewidth": 1,
             "tickcolor": "rgb(36,36,36)",
             "ticks": "outside"
            },
            "colorscale": [
             [
              0,
              "#440154"
             ],
             [
              0.1111111111111111,
              "#482878"
             ],
             [
              0.2222222222222222,
              "#3e4989"
             ],
             [
              0.3333333333333333,
              "#31688e"
             ],
             [
              0.4444444444444444,
              "#26828e"
             ],
             [
              0.5555555555555556,
              "#1f9e89"
             ],
             [
              0.6666666666666666,
              "#35b779"
             ],
             [
              0.7777777777777778,
              "#6ece58"
             ],
             [
              0.8888888888888888,
              "#b5de2b"
             ],
             [
              1,
              "#fde725"
             ]
            ],
            "type": "heatmapgl"
           }
          ],
          "histogram": [
           {
            "marker": {
             "line": {
              "color": "white",
              "width": 0.6
             }
            },
            "type": "histogram"
           }
          ],
          "histogram2d": [
           {
            "colorbar": {
             "outlinewidth": 1,
             "tickcolor": "rgb(36,36,36)",
             "ticks": "outside"
            },
            "colorscale": [
             [
              0,
              "#440154"
             ],
             [
              0.1111111111111111,
              "#482878"
             ],
             [
              0.2222222222222222,
              "#3e4989"
             ],
             [
              0.3333333333333333,
              "#31688e"
             ],
             [
              0.4444444444444444,
              "#26828e"
             ],
             [
              0.5555555555555556,
              "#1f9e89"
             ],
             [
              0.6666666666666666,
              "#35b779"
             ],
             [
              0.7777777777777778,
              "#6ece58"
             ],
             [
              0.8888888888888888,
              "#b5de2b"
             ],
             [
              1,
              "#fde725"
             ]
            ],
            "type": "histogram2d"
           }
          ],
          "histogram2dcontour": [
           {
            "colorbar": {
             "outlinewidth": 1,
             "tickcolor": "rgb(36,36,36)",
             "ticks": "outside"
            },
            "colorscale": [
             [
              0,
              "#440154"
             ],
             [
              0.1111111111111111,
              "#482878"
             ],
             [
              0.2222222222222222,
              "#3e4989"
             ],
             [
              0.3333333333333333,
              "#31688e"
             ],
             [
              0.4444444444444444,
              "#26828e"
             ],
             [
              0.5555555555555556,
              "#1f9e89"
             ],
             [
              0.6666666666666666,
              "#35b779"
             ],
             [
              0.7777777777777778,
              "#6ece58"
             ],
             [
              0.8888888888888888,
              "#b5de2b"
             ],
             [
              1,
              "#fde725"
             ]
            ],
            "type": "histogram2dcontour"
           }
          ],
          "mesh3d": [
           {
            "colorbar": {
             "outlinewidth": 1,
             "tickcolor": "rgb(36,36,36)",
             "ticks": "outside"
            },
            "type": "mesh3d"
           }
          ],
          "parcoords": [
           {
            "line": {
             "colorbar": {
              "outlinewidth": 1,
              "tickcolor": "rgb(36,36,36)",
              "ticks": "outside"
             }
            },
            "type": "parcoords"
           }
          ],
          "pie": [
           {
            "automargin": true,
            "type": "pie"
           }
          ],
          "scatter": [
           {
            "fillpattern": {
             "fillmode": "overlay",
             "size": 10,
             "solidity": 0.2
            },
            "type": "scatter"
           }
          ],
          "scatter3d": [
           {
            "line": {
             "colorbar": {
              "outlinewidth": 1,
              "tickcolor": "rgb(36,36,36)",
              "ticks": "outside"
             }
            },
            "marker": {
             "colorbar": {
              "outlinewidth": 1,
              "tickcolor": "rgb(36,36,36)",
              "ticks": "outside"
             }
            },
            "type": "scatter3d"
           }
          ],
          "scattercarpet": [
           {
            "marker": {
             "colorbar": {
              "outlinewidth": 1,
              "tickcolor": "rgb(36,36,36)",
              "ticks": "outside"
             }
            },
            "type": "scattercarpet"
           }
          ],
          "scattergeo": [
           {
            "marker": {
             "colorbar": {
              "outlinewidth": 1,
              "tickcolor": "rgb(36,36,36)",
              "ticks": "outside"
             }
            },
            "type": "scattergeo"
           }
          ],
          "scattergl": [
           {
            "marker": {
             "colorbar": {
              "outlinewidth": 1,
              "tickcolor": "rgb(36,36,36)",
              "ticks": "outside"
             }
            },
            "type": "scattergl"
           }
          ],
          "scattermapbox": [
           {
            "marker": {
             "colorbar": {
              "outlinewidth": 1,
              "tickcolor": "rgb(36,36,36)",
              "ticks": "outside"
             }
            },
            "type": "scattermapbox"
           }
          ],
          "scatterpolar": [
           {
            "marker": {
             "colorbar": {
              "outlinewidth": 1,
              "tickcolor": "rgb(36,36,36)",
              "ticks": "outside"
             }
            },
            "type": "scatterpolar"
           }
          ],
          "scatterpolargl": [
           {
            "marker": {
             "colorbar": {
              "outlinewidth": 1,
              "tickcolor": "rgb(36,36,36)",
              "ticks": "outside"
             }
            },
            "type": "scatterpolargl"
           }
          ],
          "scatterternary": [
           {
            "marker": {
             "colorbar": {
              "outlinewidth": 1,
              "tickcolor": "rgb(36,36,36)",
              "ticks": "outside"
             }
            },
            "type": "scatterternary"
           }
          ],
          "surface": [
           {
            "colorbar": {
             "outlinewidth": 1,
             "tickcolor": "rgb(36,36,36)",
             "ticks": "outside"
            },
            "colorscale": [
             [
              0,
              "#440154"
             ],
             [
              0.1111111111111111,
              "#482878"
             ],
             [
              0.2222222222222222,
              "#3e4989"
             ],
             [
              0.3333333333333333,
              "#31688e"
             ],
             [
              0.4444444444444444,
              "#26828e"
             ],
             [
              0.5555555555555556,
              "#1f9e89"
             ],
             [
              0.6666666666666666,
              "#35b779"
             ],
             [
              0.7777777777777778,
              "#6ece58"
             ],
             [
              0.8888888888888888,
              "#b5de2b"
             ],
             [
              1,
              "#fde725"
             ]
            ],
            "type": "surface"
           }
          ],
          "table": [
           {
            "cells": {
             "fill": {
              "color": "rgb(237,237,237)"
             },
             "line": {
              "color": "white"
             }
            },
            "header": {
             "fill": {
              "color": "rgb(217,217,217)"
             },
             "line": {
              "color": "white"
             }
            },
            "type": "table"
           }
          ]
         },
         "layout": {
          "annotationdefaults": {
           "arrowhead": 0,
           "arrowwidth": 1
          },
          "autotypenumbers": "strict",
          "coloraxis": {
           "colorbar": {
            "outlinewidth": 1,
            "tickcolor": "rgb(36,36,36)",
            "ticks": "outside"
           }
          },
          "colorscale": {
           "diverging": [
            [
             0,
             "rgb(103,0,31)"
            ],
            [
             0.1,
             "rgb(178,24,43)"
            ],
            [
             0.2,
             "rgb(214,96,77)"
            ],
            [
             0.3,
             "rgb(244,165,130)"
            ],
            [
             0.4,
             "rgb(253,219,199)"
            ],
            [
             0.5,
             "rgb(247,247,247)"
            ],
            [
             0.6,
             "rgb(209,229,240)"
            ],
            [
             0.7,
             "rgb(146,197,222)"
            ],
            [
             0.8,
             "rgb(67,147,195)"
            ],
            [
             0.9,
             "rgb(33,102,172)"
            ],
            [
             1,
             "rgb(5,48,97)"
            ]
           ],
           "sequential": [
            [
             0,
             "#440154"
            ],
            [
             0.1111111111111111,
             "#482878"
            ],
            [
             0.2222222222222222,
             "#3e4989"
            ],
            [
             0.3333333333333333,
             "#31688e"
            ],
            [
             0.4444444444444444,
             "#26828e"
            ],
            [
             0.5555555555555556,
             "#1f9e89"
            ],
            [
             0.6666666666666666,
             "#35b779"
            ],
            [
             0.7777777777777778,
             "#6ece58"
            ],
            [
             0.8888888888888888,
             "#b5de2b"
            ],
            [
             1,
             "#fde725"
            ]
           ],
           "sequentialminus": [
            [
             0,
             "#440154"
            ],
            [
             0.1111111111111111,
             "#482878"
            ],
            [
             0.2222222222222222,
             "#3e4989"
            ],
            [
             0.3333333333333333,
             "#31688e"
            ],
            [
             0.4444444444444444,
             "#26828e"
            ],
            [
             0.5555555555555556,
             "#1f9e89"
            ],
            [
             0.6666666666666666,
             "#35b779"
            ],
            [
             0.7777777777777778,
             "#6ece58"
            ],
            [
             0.8888888888888888,
             "#b5de2b"
            ],
            [
             1,
             "#fde725"
            ]
           ]
          },
          "colorway": [
           "#1F77B4",
           "#FF7F0E",
           "#2CA02C",
           "#D62728",
           "#9467BD",
           "#8C564B",
           "#E377C2",
           "#7F7F7F",
           "#BCBD22",
           "#17BECF"
          ],
          "font": {
           "color": "rgb(36,36,36)"
          },
          "geo": {
           "bgcolor": "white",
           "lakecolor": "white",
           "landcolor": "white",
           "showlakes": true,
           "showland": true,
           "subunitcolor": "white"
          },
          "hoverlabel": {
           "align": "left"
          },
          "hovermode": "closest",
          "mapbox": {
           "style": "light"
          },
          "paper_bgcolor": "white",
          "plot_bgcolor": "white",
          "polar": {
           "angularaxis": {
            "gridcolor": "rgb(232,232,232)",
            "linecolor": "rgb(36,36,36)",
            "showgrid": false,
            "showline": true,
            "ticks": "outside"
           },
           "bgcolor": "white",
           "radialaxis": {
            "gridcolor": "rgb(232,232,232)",
            "linecolor": "rgb(36,36,36)",
            "showgrid": false,
            "showline": true,
            "ticks": "outside"
           }
          },
          "scene": {
           "xaxis": {
            "backgroundcolor": "white",
            "gridcolor": "rgb(232,232,232)",
            "gridwidth": 2,
            "linecolor": "rgb(36,36,36)",
            "showbackground": true,
            "showgrid": false,
            "showline": true,
            "ticks": "outside",
            "zeroline": false,
            "zerolinecolor": "rgb(36,36,36)"
           },
           "yaxis": {
            "backgroundcolor": "white",
            "gridcolor": "rgb(232,232,232)",
            "gridwidth": 2,
            "linecolor": "rgb(36,36,36)",
            "showbackground": true,
            "showgrid": false,
            "showline": true,
            "ticks": "outside",
            "zeroline": false,
            "zerolinecolor": "rgb(36,36,36)"
           },
           "zaxis": {
            "backgroundcolor": "white",
            "gridcolor": "rgb(232,232,232)",
            "gridwidth": 2,
            "linecolor": "rgb(36,36,36)",
            "showbackground": true,
            "showgrid": false,
            "showline": true,
            "ticks": "outside",
            "zeroline": false,
            "zerolinecolor": "rgb(36,36,36)"
           }
          },
          "shapedefaults": {
           "fillcolor": "black",
           "line": {
            "width": 0
           },
           "opacity": 0.3
          },
          "ternary": {
           "aaxis": {
            "gridcolor": "rgb(232,232,232)",
            "linecolor": "rgb(36,36,36)",
            "showgrid": false,
            "showline": true,
            "ticks": "outside"
           },
           "baxis": {
            "gridcolor": "rgb(232,232,232)",
            "linecolor": "rgb(36,36,36)",
            "showgrid": false,
            "showline": true,
            "ticks": "outside"
           },
           "bgcolor": "white",
           "caxis": {
            "gridcolor": "rgb(232,232,232)",
            "linecolor": "rgb(36,36,36)",
            "showgrid": false,
            "showline": true,
            "ticks": "outside"
           }
          },
          "title": {
           "x": 0.05
          },
          "xaxis": {
           "automargin": true,
           "gridcolor": "rgb(232,232,232)",
           "linecolor": "rgb(36,36,36)",
           "showgrid": false,
           "showline": true,
           "ticks": "outside",
           "title": {
            "standoff": 15
           },
           "zeroline": false,
           "zerolinecolor": "rgb(36,36,36)"
          },
          "yaxis": {
           "automargin": true,
           "gridcolor": "rgb(232,232,232)",
           "linecolor": "rgb(36,36,36)",
           "showgrid": false,
           "showline": true,
           "ticks": "outside",
           "title": {
            "standoff": 15
           },
           "zeroline": false,
           "zerolinecolor": "rgb(36,36,36)"
          }
         }
        },
        "title": {
         "text": "Stacked Bar Chart of Phenotypes"
        },
        "width": 600,
        "xaxis": {
         "categoryorder": "total descending",
         "title": {
          "text": ""
         }
        },
        "yaxis": {
         "title": {
          "text": "%"
         }
        }
       }
      },
      "text/html": [
       "<div>                            <div id=\"46493a8c-5e48-45eb-9619-f19cd5c293a1\" class=\"plotly-graph-div\" style=\"height:600px; width:600px;\"></div>            <script type=\"text/javascript\">                require([\"plotly\"], function(Plotly) {                    window.PLOTLYENV=window.PLOTLYENV || {};                                    if (document.getElementById(\"46493a8c-5e48-45eb-9619-f19cd5c293a1\")) {                    Plotly.newPlot(                        \"46493a8c-5e48-45eb-9619-f19cd5c293a1\",                        [{\"marker\":{\"color\":\"#28A745\"},\"name\":\"S\",\"x\":[\"AMI\",\"BDQ\",\"CFZ\",\"DLM\",\"EMB\",\"ETH\",\"INH\",\"KAN\",\"LEV\",\"LZD\",\"MXF\",\"RIF\",\"RFB\"],\"y\":[11186,11955,11520,11737,8334,9429,6159,11006,10014,12029,10466,7412,7682],\"type\":\"bar\",\"width\":0.7},{\"marker\":{\"color\":\"#E0ACD5\"},\"name\":\"I\",\"x\":[\"AMI\",\"BDQ\",\"CFZ\",\"DLM\",\"EMB\",\"ETH\",\"INH\",\"KAN\",\"LEV\",\"LZD\",\"MXF\",\"RIF\",\"RFB\"],\"y\":[0,0,0,0,1559,972,0,0,0,0,0,0,0],\"type\":\"bar\",\"width\":0.7},{\"marker\":{\"color\":\"#DC3545\"},\"name\":\"R\",\"x\":[\"AMI\",\"BDQ\",\"CFZ\",\"DLM\",\"EMB\",\"ETH\",\"INH\",\"KAN\",\"LEV\",\"LZD\",\"MXF\",\"RIF\",\"RFB\"],\"y\":[882,109,525,186,2261,1727,5907,1120,2145,156,1724,4683,4464],\"type\":\"bar\",\"width\":0.7}],                        {\"template\":{\"data\":{\"barpolar\":[{\"marker\":{\"line\":{\"color\":\"white\",\"width\":0.5},\"pattern\":{\"fillmode\":\"overlay\",\"size\":10,\"solidity\":0.2}},\"type\":\"barpolar\"}],\"bar\":[{\"error_x\":{\"color\":\"rgb(36,36,36)\"},\"error_y\":{\"color\":\"rgb(36,36,36)\"},\"marker\":{\"line\":{\"color\":\"white\",\"width\":0.5},\"pattern\":{\"fillmode\":\"overlay\",\"size\":10,\"solidity\":0.2}},\"type\":\"bar\"}],\"carpet\":[{\"aaxis\":{\"endlinecolor\":\"rgb(36,36,36)\",\"gridcolor\":\"white\",\"linecolor\":\"white\",\"minorgridcolor\":\"white\",\"startlinecolor\":\"rgb(36,36,36)\"},\"baxis\":{\"endlinecolor\":\"rgb(36,36,36)\",\"gridcolor\":\"white\",\"linecolor\":\"white\",\"minorgridcolor\":\"white\",\"startlinecolor\":\"rgb(36,36,36)\"},\"type\":\"carpet\"}],\"choropleth\":[{\"colorbar\":{\"outlinewidth\":1,\"tickcolor\":\"rgb(36,36,36)\",\"ticks\":\"outside\"},\"type\":\"choropleth\"}],\"contourcarpet\":[{\"colorbar\":{\"outlinewidth\":1,\"tickcolor\":\"rgb(36,36,36)\",\"ticks\":\"outside\"},\"type\":\"contourcarpet\"}],\"contour\":[{\"colorbar\":{\"outlinewidth\":1,\"tickcolor\":\"rgb(36,36,36)\",\"ticks\":\"outside\"},\"colorscale\":[[0.0,\"#440154\"],[0.1111111111111111,\"#482878\"],[0.2222222222222222,\"#3e4989\"],[0.3333333333333333,\"#31688e\"],[0.4444444444444444,\"#26828e\"],[0.5555555555555556,\"#1f9e89\"],[0.6666666666666666,\"#35b779\"],[0.7777777777777778,\"#6ece58\"],[0.8888888888888888,\"#b5de2b\"],[1.0,\"#fde725\"]],\"type\":\"contour\"}],\"heatmapgl\":[{\"colorbar\":{\"outlinewidth\":1,\"tickcolor\":\"rgb(36,36,36)\",\"ticks\":\"outside\"},\"colorscale\":[[0.0,\"#440154\"],[0.1111111111111111,\"#482878\"],[0.2222222222222222,\"#3e4989\"],[0.3333333333333333,\"#31688e\"],[0.4444444444444444,\"#26828e\"],[0.5555555555555556,\"#1f9e89\"],[0.6666666666666666,\"#35b779\"],[0.7777777777777778,\"#6ece58\"],[0.8888888888888888,\"#b5de2b\"],[1.0,\"#fde725\"]],\"type\":\"heatmapgl\"}],\"heatmap\":[{\"colorbar\":{\"outlinewidth\":1,\"tickcolor\":\"rgb(36,36,36)\",\"ticks\":\"outside\"},\"colorscale\":[[0.0,\"#440154\"],[0.1111111111111111,\"#482878\"],[0.2222222222222222,\"#3e4989\"],[0.3333333333333333,\"#31688e\"],[0.4444444444444444,\"#26828e\"],[0.5555555555555556,\"#1f9e89\"],[0.6666666666666666,\"#35b779\"],[0.7777777777777778,\"#6ece58\"],[0.8888888888888888,\"#b5de2b\"],[1.0,\"#fde725\"]],\"type\":\"heatmap\"}],\"histogram2dcontour\":[{\"colorbar\":{\"outlinewidth\":1,\"tickcolor\":\"rgb(36,36,36)\",\"ticks\":\"outside\"},\"colorscale\":[[0.0,\"#440154\"],[0.1111111111111111,\"#482878\"],[0.2222222222222222,\"#3e4989\"],[0.3333333333333333,\"#31688e\"],[0.4444444444444444,\"#26828e\"],[0.5555555555555556,\"#1f9e89\"],[0.6666666666666666,\"#35b779\"],[0.7777777777777778,\"#6ece58\"],[0.8888888888888888,\"#b5de2b\"],[1.0,\"#fde725\"]],\"type\":\"histogram2dcontour\"}],\"histogram2d\":[{\"colorbar\":{\"outlinewidth\":1,\"tickcolor\":\"rgb(36,36,36)\",\"ticks\":\"outside\"},\"colorscale\":[[0.0,\"#440154\"],[0.1111111111111111,\"#482878\"],[0.2222222222222222,\"#3e4989\"],[0.3333333333333333,\"#31688e\"],[0.4444444444444444,\"#26828e\"],[0.5555555555555556,\"#1f9e89\"],[0.6666666666666666,\"#35b779\"],[0.7777777777777778,\"#6ece58\"],[0.8888888888888888,\"#b5de2b\"],[1.0,\"#fde725\"]],\"type\":\"histogram2d\"}],\"histogram\":[{\"marker\":{\"line\":{\"color\":\"white\",\"width\":0.6}},\"type\":\"histogram\"}],\"mesh3d\":[{\"colorbar\":{\"outlinewidth\":1,\"tickcolor\":\"rgb(36,36,36)\",\"ticks\":\"outside\"},\"type\":\"mesh3d\"}],\"parcoords\":[{\"line\":{\"colorbar\":{\"outlinewidth\":1,\"tickcolor\":\"rgb(36,36,36)\",\"ticks\":\"outside\"}},\"type\":\"parcoords\"}],\"pie\":[{\"automargin\":true,\"type\":\"pie\"}],\"scatter3d\":[{\"line\":{\"colorbar\":{\"outlinewidth\":1,\"tickcolor\":\"rgb(36,36,36)\",\"ticks\":\"outside\"}},\"marker\":{\"colorbar\":{\"outlinewidth\":1,\"tickcolor\":\"rgb(36,36,36)\",\"ticks\":\"outside\"}},\"type\":\"scatter3d\"}],\"scattercarpet\":[{\"marker\":{\"colorbar\":{\"outlinewidth\":1,\"tickcolor\":\"rgb(36,36,36)\",\"ticks\":\"outside\"}},\"type\":\"scattercarpet\"}],\"scattergeo\":[{\"marker\":{\"colorbar\":{\"outlinewidth\":1,\"tickcolor\":\"rgb(36,36,36)\",\"ticks\":\"outside\"}},\"type\":\"scattergeo\"}],\"scattergl\":[{\"marker\":{\"colorbar\":{\"outlinewidth\":1,\"tickcolor\":\"rgb(36,36,36)\",\"ticks\":\"outside\"}},\"type\":\"scattergl\"}],\"scattermapbox\":[{\"marker\":{\"colorbar\":{\"outlinewidth\":1,\"tickcolor\":\"rgb(36,36,36)\",\"ticks\":\"outside\"}},\"type\":\"scattermapbox\"}],\"scatterpolargl\":[{\"marker\":{\"colorbar\":{\"outlinewidth\":1,\"tickcolor\":\"rgb(36,36,36)\",\"ticks\":\"outside\"}},\"type\":\"scatterpolargl\"}],\"scatterpolar\":[{\"marker\":{\"colorbar\":{\"outlinewidth\":1,\"tickcolor\":\"rgb(36,36,36)\",\"ticks\":\"outside\"}},\"type\":\"scatterpolar\"}],\"scatter\":[{\"fillpattern\":{\"fillmode\":\"overlay\",\"size\":10,\"solidity\":0.2},\"type\":\"scatter\"}],\"scatterternary\":[{\"marker\":{\"colorbar\":{\"outlinewidth\":1,\"tickcolor\":\"rgb(36,36,36)\",\"ticks\":\"outside\"}},\"type\":\"scatterternary\"}],\"surface\":[{\"colorbar\":{\"outlinewidth\":1,\"tickcolor\":\"rgb(36,36,36)\",\"ticks\":\"outside\"},\"colorscale\":[[0.0,\"#440154\"],[0.1111111111111111,\"#482878\"],[0.2222222222222222,\"#3e4989\"],[0.3333333333333333,\"#31688e\"],[0.4444444444444444,\"#26828e\"],[0.5555555555555556,\"#1f9e89\"],[0.6666666666666666,\"#35b779\"],[0.7777777777777778,\"#6ece58\"],[0.8888888888888888,\"#b5de2b\"],[1.0,\"#fde725\"]],\"type\":\"surface\"}],\"table\":[{\"cells\":{\"fill\":{\"color\":\"rgb(237,237,237)\"},\"line\":{\"color\":\"white\"}},\"header\":{\"fill\":{\"color\":\"rgb(217,217,217)\"},\"line\":{\"color\":\"white\"}},\"type\":\"table\"}]},\"layout\":{\"annotationdefaults\":{\"arrowhead\":0,\"arrowwidth\":1},\"autotypenumbers\":\"strict\",\"coloraxis\":{\"colorbar\":{\"outlinewidth\":1,\"tickcolor\":\"rgb(36,36,36)\",\"ticks\":\"outside\"}},\"colorscale\":{\"diverging\":[[0.0,\"rgb(103,0,31)\"],[0.1,\"rgb(178,24,43)\"],[0.2,\"rgb(214,96,77)\"],[0.3,\"rgb(244,165,130)\"],[0.4,\"rgb(253,219,199)\"],[0.5,\"rgb(247,247,247)\"],[0.6,\"rgb(209,229,240)\"],[0.7,\"rgb(146,197,222)\"],[0.8,\"rgb(67,147,195)\"],[0.9,\"rgb(33,102,172)\"],[1.0,\"rgb(5,48,97)\"]],\"sequential\":[[0.0,\"#440154\"],[0.1111111111111111,\"#482878\"],[0.2222222222222222,\"#3e4989\"],[0.3333333333333333,\"#31688e\"],[0.4444444444444444,\"#26828e\"],[0.5555555555555556,\"#1f9e89\"],[0.6666666666666666,\"#35b779\"],[0.7777777777777778,\"#6ece58\"],[0.8888888888888888,\"#b5de2b\"],[1.0,\"#fde725\"]],\"sequentialminus\":[[0.0,\"#440154\"],[0.1111111111111111,\"#482878\"],[0.2222222222222222,\"#3e4989\"],[0.3333333333333333,\"#31688e\"],[0.4444444444444444,\"#26828e\"],[0.5555555555555556,\"#1f9e89\"],[0.6666666666666666,\"#35b779\"],[0.7777777777777778,\"#6ece58\"],[0.8888888888888888,\"#b5de2b\"],[1.0,\"#fde725\"]]},\"colorway\":[\"#1F77B4\",\"#FF7F0E\",\"#2CA02C\",\"#D62728\",\"#9467BD\",\"#8C564B\",\"#E377C2\",\"#7F7F7F\",\"#BCBD22\",\"#17BECF\"],\"font\":{\"color\":\"rgb(36,36,36)\"},\"geo\":{\"bgcolor\":\"white\",\"lakecolor\":\"white\",\"landcolor\":\"white\",\"showlakes\":true,\"showland\":true,\"subunitcolor\":\"white\"},\"hoverlabel\":{\"align\":\"left\"},\"hovermode\":\"closest\",\"mapbox\":{\"style\":\"light\"},\"paper_bgcolor\":\"white\",\"plot_bgcolor\":\"white\",\"polar\":{\"angularaxis\":{\"gridcolor\":\"rgb(232,232,232)\",\"linecolor\":\"rgb(36,36,36)\",\"showgrid\":false,\"showline\":true,\"ticks\":\"outside\"},\"bgcolor\":\"white\",\"radialaxis\":{\"gridcolor\":\"rgb(232,232,232)\",\"linecolor\":\"rgb(36,36,36)\",\"showgrid\":false,\"showline\":true,\"ticks\":\"outside\"}},\"scene\":{\"xaxis\":{\"backgroundcolor\":\"white\",\"gridcolor\":\"rgb(232,232,232)\",\"gridwidth\":2,\"linecolor\":\"rgb(36,36,36)\",\"showbackground\":true,\"showgrid\":false,\"showline\":true,\"ticks\":\"outside\",\"zeroline\":false,\"zerolinecolor\":\"rgb(36,36,36)\"},\"yaxis\":{\"backgroundcolor\":\"white\",\"gridcolor\":\"rgb(232,232,232)\",\"gridwidth\":2,\"linecolor\":\"rgb(36,36,36)\",\"showbackground\":true,\"showgrid\":false,\"showline\":true,\"ticks\":\"outside\",\"zeroline\":false,\"zerolinecolor\":\"rgb(36,36,36)\"},\"zaxis\":{\"backgroundcolor\":\"white\",\"gridcolor\":\"rgb(232,232,232)\",\"gridwidth\":2,\"linecolor\":\"rgb(36,36,36)\",\"showbackground\":true,\"showgrid\":false,\"showline\":true,\"ticks\":\"outside\",\"zeroline\":false,\"zerolinecolor\":\"rgb(36,36,36)\"}},\"shapedefaults\":{\"fillcolor\":\"black\",\"line\":{\"width\":0},\"opacity\":0.3},\"ternary\":{\"aaxis\":{\"gridcolor\":\"rgb(232,232,232)\",\"linecolor\":\"rgb(36,36,36)\",\"showgrid\":false,\"showline\":true,\"ticks\":\"outside\"},\"baxis\":{\"gridcolor\":\"rgb(232,232,232)\",\"linecolor\":\"rgb(36,36,36)\",\"showgrid\":false,\"showline\":true,\"ticks\":\"outside\"},\"bgcolor\":\"white\",\"caxis\":{\"gridcolor\":\"rgb(232,232,232)\",\"linecolor\":\"rgb(36,36,36)\",\"showgrid\":false,\"showline\":true,\"ticks\":\"outside\"}},\"title\":{\"x\":0.05},\"xaxis\":{\"automargin\":true,\"gridcolor\":\"rgb(232,232,232)\",\"linecolor\":\"rgb(36,36,36)\",\"showgrid\":false,\"showline\":true,\"ticks\":\"outside\",\"title\":{\"standoff\":15},\"zeroline\":false,\"zerolinecolor\":\"rgb(36,36,36)\"},\"yaxis\":{\"automargin\":true,\"gridcolor\":\"rgb(232,232,232)\",\"linecolor\":\"rgb(36,36,36)\",\"showgrid\":false,\"showline\":true,\"ticks\":\"outside\",\"title\":{\"standoff\":15},\"zeroline\":false,\"zerolinecolor\":\"rgb(36,36,36)\"}}},\"xaxis\":{\"title\":{\"text\":\"\"},\"categoryorder\":\"total descending\"},\"barmode\":\"stack\",\"title\":{\"text\":\"Stacked Bar Chart of Phenotypes\"},\"yaxis\":{\"title\":{\"text\":\"%\"}},\"width\":600,\"height\":600},                        {\"responsive\": true}                    ).then(function(){\n",
       "                            \n",
       "var gd = document.getElementById('46493a8c-5e48-45eb-9619-f19cd5c293a1');\n",
       "var x = new MutationObserver(function (mutations, observer) {{\n",
       "        var display = window.getComputedStyle(gd).display;\n",
       "        if (!display || display === 'none') {{\n",
       "            console.log([gd, 'removed!']);\n",
       "            Plotly.purge(gd);\n",
       "            observer.disconnect();\n",
       "        }}\n",
       "}});\n",
       "\n",
       "// Listen for the removal of the full notebook cells\n",
       "var notebookContainer = gd.closest('#notebook-container');\n",
       "if (notebookContainer) {{\n",
       "    x.observe(notebookContainer, {childList: true});\n",
       "}}\n",
       "\n",
       "// Listen for the clearing of the current output cell\n",
       "var outputEl = gd.closest('.output');\n",
       "if (outputEl) {{\n",
       "    x.observe(outputEl, {childList: true});\n",
       "}}\n",
       "\n",
       "                        })                };                });            </script>        </div>"
      ]
     },
     "metadata": {},
     "output_type": "display_data"
    }
   ],
   "source": [
    "colors = ['#28A745', '#E0ACD5', '#DC3545']  # Light blue, very light blue, light grey\n",
    "\n",
    "counts_df['Total'] = counts_df['S'] + counts_df['I'] + counts_df['R']\n",
    "\n",
    "counts_df['S%'] = (counts_df['S'] / counts_df['Total']) * 100\n",
    "counts_df['I%'] = (counts_df['I'] / counts_df['Total']) * 100\n",
    "counts_df['R%'] = (counts_df['R'] / counts_df['Total']) * 100\n",
    "\n",
    "fig = go.Figure(data=[\n",
    "    go.Bar(name='S', x=counts_df[\"Phenotype\"], y=counts_df[\"S\"], marker_color=colors[0]),\n",
    "    go.Bar(name='I', x=counts_df[\"Phenotype\"], y=counts_df[\"I\"], marker_color=colors[1]),\n",
    "    go.Bar(name='R', x=counts_df[\"Phenotype\"], y=counts_df[\"R\"], marker_color=colors[2])\n",
    "])\n",
    "\n",
    "# Change the bar mode\n",
    "fig.update_layout(barmode='stack', title='Stacked Bar Chart of Phenotypes',\n",
    "                  xaxis_title=\"\", yaxis_title=\"%\",\n",
    "                  xaxis={'categoryorder':'total descending'}, template=\"simple_white\",\n",
    "                  width=600,  # Adjust the width to make the plot more narrow\n",
    "                  height=600,)\n",
    "\n",
    "fig.update_traces(width=0.7)\n",
    "\n",
    "# Show figure\n",
    "fig.show()"
   ]
  },
  {
   "cell_type": "code",
   "execution_count": 9,
   "metadata": {},
   "outputs": [
    {
     "data": {
      "text/plain": [
       "EMB_BINARY_PHENOTYPE\n",
       "S                       8334\n",
       "R                       2261\n",
       "I                       1559\n",
       "dtype: int64"
      ]
     },
     "execution_count": 9,
     "metadata": {},
     "output_type": "execute_result"
    }
   ],
   "source": [
    "df[['EMB_BINARY_PHENOTYPE']].value_counts()"
   ]
  },
  {
   "cell_type": "code",
   "execution_count": 6,
   "metadata": {},
   "outputs": [
    {
     "data": {
      "text/plain": [
       "AMI_BINARY_PHENOTYPE  BDQ_BINARY_PHENOTYPE  CFZ_BINARY_PHENOTYPE  DLM_BINARY_PHENOTYPE  EMB_BINARY_PHENOTYPE  ETH_BINARY_PHENOTYPE  INH_BINARY_PHENOTYPE  KAN_BINARY_PHENOTYPE  LEV_BINARY_PHENOTYPE  LZD_BINARY_PHENOTYPE  MXF_BINARY_PHENOTYPE  RIF_BINARY_PHENOTYPE  RFB_BINARY_PHENOTYPE\n",
       "S                     S                     S                     S                     S                     S                     S                     S                     S                     S                     S                     S                     S                       4608\n",
       "                                                                                                                                    R                     S                     S                     S                     S                     S                     S                        647\n",
       "                                                                                        I                     S                     R                     S                     S                     S                     S                     R                     R                        371\n",
       "                                                                                        R                     S                     R                     S                     S                     S                     S                     R                     R                        371\n",
       "                                                                                        S                     S                     R                     S                     S                     S                     S                     R                     R                        362\n",
       "                                                                                                                                                                                                                                                                                                ... \n",
       "                                            R                     R                     R                     R                     R                     R                     R                     S                     R                     R                     R                          1\n",
       "                                                                                        I                     S                     S                     S                     S                     S                     S                     S                     S                          1\n",
       "                                            S                     S                     I                     R                     R                     R                     S                     S                     S                     S                     S                          1\n",
       "                                            R                     R                     I                     S                     S                     R                     S                     S                     S                     R                     R                          1\n",
       "R                     S                     S                     S                     S                     R                     R                     R                     R                     S                     R                     R                     S                          1\n",
       "Length: 525, dtype: int64"
      ]
     },
     "execution_count": 6,
     "metadata": {},
     "output_type": "execute_result"
    }
   ],
   "source": [
    "df[['AMI_BINARY_PHENOTYPE', 'BDQ_BINARY_PHENOTYPE',\n",
    "       'CFZ_BINARY_PHENOTYPE', 'DLM_BINARY_PHENOTYPE', 'EMB_BINARY_PHENOTYPE',\n",
    "       'ETH_BINARY_PHENOTYPE', 'INH_BINARY_PHENOTYPE', 'KAN_BINARY_PHENOTYPE',\n",
    "       'LEV_BINARY_PHENOTYPE', 'LZD_BINARY_PHENOTYPE', 'MXF_BINARY_PHENOTYPE',\n",
    "       'RIF_BINARY_PHENOTYPE', 'RFB_BINARY_PHENOTYPE']].value_counts()"
   ]
  }
 ],
 "metadata": {
  "kernelspec": {
   "display_name": "ml-workshop",
   "language": "python",
   "name": "python3"
  },
  "language_info": {
   "codemirror_mode": {
    "name": "ipython",
    "version": 3
   },
   "file_extension": ".py",
   "mimetype": "text/x-python",
   "name": "python",
   "nbconvert_exporter": "python",
   "pygments_lexer": "ipython3",
   "version": "3.9.15"
  }
 },
 "nbformat": 4,
 "nbformat_minor": 2
}
