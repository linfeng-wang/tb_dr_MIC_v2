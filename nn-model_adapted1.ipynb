{
 "cells": [
  {
   "cell_type": "markdown",
   "metadata": {},
   "source": [
    "trying to increase the layers so that the model is more similar to Anna Green's model."
   ]
  },
  {
   "cell_type": "code",
   "execution_count": 1,
   "metadata": {},
   "outputs": [],
   "source": [
    "#%%\n",
    "from array import array\n",
    "from cmath import nan\n",
    "from pyexpat import model\n",
    "import statistics\n",
    "from tkinter.ttk import Separator\n",
    "import numpy as np\n",
    "import pandas as pd\n",
    "import os\n",
    "import torch\n",
    "import torch.nn as nn\n",
    "import torch.nn.functional as F\n",
    "import torch.optim as optim\n",
    "from torchviz import make_dot\n",
    "from torch.utils.data import Dataset, TensorDataset, DataLoader\n",
    "from torch.utils.data.dataset import random_split\n",
    "from torchvision import datasets, transforms\n",
    "from torch.autograd import variable\n",
    "from itertools import chain\n",
    "from sklearn import metrics as met\n",
    "import pickle\n",
    "from icecream import ic\n",
    "\n",
    "import matplotlib.pyplot as plt\n",
    "import pathlib\n",
    "from sklearn.model_selection import train_test_split\n",
    "\n",
    "from sklearn.preprocessing import LabelEncoder\n",
    "from sklearn.preprocessing import OneHotEncoder\n",
    "from importlib import reload\n",
    "# import util\n",
    "# import model_torch_simple\n",
    "# from torchmetrics import Accuracy\n",
    "from tqdm import tqdm\n",
    "import argparse\n",
    "from icecream import ic\n",
    "import numpy as np\n",
    "from PIL import Image\n",
    "device = 'cuda' if torch.cuda.is_available() else 'cpu'\n"
   ]
  },
  {
   "cell_type": "code",
   "execution_count": 2,
   "metadata": {},
   "outputs": [
    {
     "data": {
      "text/plain": [
       "<torch._C.Generator at 0x7f621d11a1f0>"
      ]
     },
     "execution_count": 2,
     "metadata": {},
     "output_type": "execute_result"
    }
   ],
   "source": [
    "seed = 42\n",
    "# torch.backends.cudnn.deterministic = True\n",
    "# torch.backends.cudnn.benchmark = False\n",
    "torch.manual_seed(seed)\n",
    "# torch.cuda.manual_seed_all(seed)"
   ]
  },
  {
   "cell_type": "code",
   "execution_count": 3,
   "metadata": {},
   "outputs": [],
   "source": [
    "def value_counts_list(lst):\n",
    "    \"\"\"\n",
    "    Computes the frequency count of unique elements in a list and returns a dictionary, sorted by frequency count in\n",
    "    descending order.\n",
    "\n",
    "    Args:\n",
    "    - lst (list): List of elements\n",
    "\n",
    "    Returns:\n",
    "    - dict: Dictionary with unique elements as keys and their frequency count as values, sorted by frequency count\n",
    "    in descending order\n",
    "    \"\"\"\n",
    "    value_counts = {}\n",
    "    for item in lst:\n",
    "        if item in value_counts:\n",
    "            value_counts[item] += 1\n",
    "        else:\n",
    "            value_counts[item] = 1\n",
    "    sorted_value_counts = dict(sorted(value_counts.items(), key=lambda x: x[1], reverse=True))\n",
    "    return sorted_value_counts\n",
    "\n",
    "def print_full(x):\n",
    "    pd.set_option('display.max_rows', None)\n",
    "    pd.set_option('display.max_columns', None)\n",
    "    pd.set_option('display.width', 2000)\n",
    "    pd.set_option('display.float_format', '{:20,.2f}'.format)\n",
    "    pd.set_option('display.max_colwidth', None)\n",
    "    print(x)\n",
    "    pd.reset_option('display.max_rows')\n",
    "    pd.reset_option('display.max_columns')\n",
    "    pd.reset_option('display.width')\n",
    "    pd.reset_option('display.float_format')\n",
    "    pd.reset_option('display.max_colwidth')"
   ]
  },
  {
   "attachments": {},
   "cell_type": "markdown",
   "metadata": {},
   "source": [
    "### Loading data"
   ]
  },
  {
   "cell_type": "code",
   "execution_count": 4,
   "metadata": {},
   "outputs": [],
   "source": [
    "train_data = pd.read_csv('/mnt/storageG1/lwang/Projects/tb_dr_MIC_v2/data1/gene_seq_train.csv')\n",
    "# train_target = pd.read_csv('/mnt/storageG1/lwang/Projects/tb_dr_MIC/data0/res_train.csv')\n",
    "\n",
    "train_target = pd.read_csv('/mnt/storageG1/lwang/Projects/tb_dr_MIC_v2/data1/res_train.csv')\n",
    "#don't touch test data, split out validation data from training data during training\n",
    "test_data = pd.read_csv('/mnt/storageG1/lwang/Projects/tb_dr_MIC_v2/data1/gene_seq_test.csv')\n",
    "# test_target = pd.read_csv('/mnt/storageG1/lwang/Projects/tb_dr_MIC/data0/res_test.csv')\n",
    "test_target = pd.read_csv('/mnt/storageG1/lwang/Projects/tb_dr_MIC_v2/data1/res_test.csv')"
   ]
  },
  {
   "cell_type": "code",
   "execution_count": 5,
   "metadata": {},
   "outputs": [],
   "source": [
    "from sklearn.preprocessing import StandardScaler\n",
    "def normalize_dataframe(df):\n",
    "    \"\"\"\n",
    "    Normalize the given DataFrame column-wise while keeping NaN values unchanged.\n",
    "\n",
    "    :param df: Pandas DataFrame to be normalized.\n",
    "    :return: Normalized DataFrame.\n",
    "    \"\"\"\n",
    "    scaler = StandardScaler()\n",
    "    for column in df.columns:\n",
    "        # Extract the non-NaN values and their indices\n",
    "        non_nan_values = df[column].dropna()\n",
    "        indices = non_nan_values.index\n",
    "        \n",
    "        # Normalize the non-NaN values\n",
    "        normalized_values = scaler.fit_transform(non_nan_values.values.reshape(-1, 1)).flatten()\n",
    "        \n",
    "        # Assign the normalized values back to the DataFrame\n",
    "        df.loc[indices, column] = normalized_values\n",
    "    \n",
    "    return df\n",
    "\n",
    "# train_target = normalize_dataframe(train_target)\n"
   ]
  },
  {
   "cell_type": "code",
   "execution_count": 6,
   "metadata": {},
   "outputs": [],
   "source": [
    "N_samples = train_data.shape[0]\n",
    "DRUGS = ['AMIKACIN',\n",
    " 'CAPREOMYCIN',\n",
    " 'CIPROFLOXACIN',\n",
    " 'ETHAMBUTOL',\n",
    " 'ETHIONAMIDE',\n",
    " 'ISONIAZID',\n",
    " 'KANAMYCIN',\n",
    " 'LEVOFLOXACIN',\n",
    " 'MOXIFLOXACIN',\n",
    " 'OFLOXACIN',\n",
    " 'PYRAZINAMIDE',\n",
    " 'RIFAMPICIN',\n",
    " 'STREPTOMYCIN']\n",
    "\n",
    "DRUGS = train_target.columns\n",
    "LOCI = train_data.columns\n",
    "assert set(DRUGS) == set(train_target.columns)\n",
    "N_drugs = len(DRUGS)"
   ]
  },
  {
   "cell_type": "markdown",
   "metadata": {},
   "source": [
    "# Feature engineering"
   ]
  },
  {
   "cell_type": "code",
   "execution_count": 7,
   "metadata": {},
   "outputs": [],
   "source": [
    "def one_hot_torch(seq: str, dtype=torch.int8):\n",
    "    seq_bytes = torch.ByteTensor(list(bytes(seq, \"utf-8\")))\n",
    "    acgt_bytes = torch.ByteTensor(list(bytes(\"ACGT\", \"utf-8\")))\n",
    "    arr = torch.zeros(4, (len(seq_bytes)), dtype=dtype)\n",
    "    arr[0, seq_bytes == acgt_bytes[0]] = 1\n",
    "    arr[1, seq_bytes == acgt_bytes[1]] = 1\n",
    "    arr[2, seq_bytes == acgt_bytes[2]] = 1\n",
    "    arr[3, seq_bytes == acgt_bytes[3]] = 1\n",
    "    return arr\n",
    "\n",
    "# def one_hot_torch(seq):\n",
    "#     oh = []\n",
    "#     for sample in seq:\n",
    "#         sample = torch.ByteTensor(list(bytes(sample, \"utf-8\")))\n",
    "#         acgt_bytes = torch.ByteTensor(list(bytes(\"ACGT\", \"utf-8\")))\n",
    "#         arr = torch.zeros((len(sample), 4), dtype=torch.int8)\n",
    "#         arr[sample == acgt_bytes[0], 0] = 1\n",
    "#         arr[sample == acgt_bytes[1], 1] = 1\n",
    "#         arr[sample == acgt_bytes[2], 2] = 1\n",
    "#         arr[sample == acgt_bytes[3], 3] = 1\n",
    "#         oh.append(arr)\n",
    "#     return torch.stack(oh)\n",
    "\n",
    "def my_padding(seq_tuple):\n",
    "    list_x_ = list(seq_tuple)\n",
    "    max_len = len(max(list_x_, key=len))\n",
    "    for i, x in enumerate(list_x_):\n",
    "        list_x_[i] = x + \"N\"*(max_len-len(x))\n",
    "    return list_x_\n",
    "\n",
    "#! faster than my_padding try to incorporate\n",
    "def collate_padded_batch(batch):\n",
    "    # get max length of seqs in batch\n",
    "    max_len = max([x[0].shape[1] for x in batch])\n",
    "    return torch.utils.data.default_collate(\n",
    "        [(F.pad(x[0], (0, max_len - x[0].shape[1])), x[1]) for x in batch] #how does F.pad work\n",
    "    )\n",
    "\n",
    "\n",
    "def get_masked_loss(loss_fn):\n",
    "    \"\"\"\n",
    "    Returns a loss function that ignores NaN values\n",
    "    \"\"\"\n",
    "\n",
    "    def masked_loss(y_true, y_pred):\n",
    "        y_pred = y_pred.view(-1, 13)  # Ensure y_pred has the same shape as y_true and non_nan_mask\n",
    "        # ic(y_pred.shape)\n",
    "        # ic(y_true.shape)\n",
    "        non_nan_mask = ~y_true.isnan()\n",
    "        # ic(non_nan_mask)\n",
    "        y_true_non_nan = y_true[non_nan_mask]\n",
    "        y_pred_non_nan = y_pred[non_nan_mask]\n",
    "\n",
    "        return loss_fn(y_pred_non_nan, y_true_non_nan)\n",
    "\n",
    "    return masked_loss\n",
    "\n",
    "masked_MSE = get_masked_loss(torch.nn.MSELoss())"
   ]
  },
  {
   "cell_type": "markdown",
   "metadata": {},
   "source": [
    "# Dateset"
   ]
  },
  {
   "cell_type": "code",
   "execution_count": 8,
   "metadata": {},
   "outputs": [],
   "source": [
    "class OneHotSeqsDataset(torch.utils.data.Dataset): #? what's the difference between using inheritance and not?\n",
    "    def __init__(\n",
    "        self,\n",
    "        seq_df,\n",
    "        res_df,\n",
    "        target_loci=LOCI,\n",
    "        target_drugs=DRUGS,\n",
    "        one_hot_dtype=torch.int8,\n",
    "        transform=None,\n",
    "    ):\n",
    "        self.transform = transform\n",
    "        self.seq_df = seq_df[target_loci]\n",
    "        self.res_df = res_df[target_drugs]\n",
    "        if not self.seq_df.index.equals(self.res_df.index):\n",
    "            raise ValueError(\n",
    "                \"Indices of sequence and resistance dataframes don't match up\"\n",
    "            )\n",
    "        self.one_hot_dtype = one_hot_dtype\n",
    "\n",
    "    def __getitem__(self, index):\n",
    "        \"\"\"\n",
    "        numerical index --> get `index`-th sample\n",
    "        string index --> get sample with name `index`\n",
    "        \"\"\"\n",
    "        if isinstance(index, int):\n",
    "            seqs_comb = self.seq_df.iloc[index].str.cat()\n",
    "            res = self.res_df.iloc[index]\n",
    "        elif isinstance(index, str):\n",
    "            seqs_comb = self.seq_df.loc[index].str.cat()\n",
    "            res = self.res_df.loc[index]\n",
    "        else:\n",
    "            raise ValueError(\n",
    "                \"Index needs to be an integer or a sample name present in the dataset\"\n",
    "            )\n",
    "\n",
    "        if self.transform:\n",
    "            res = np.log(res)\n",
    "            \n",
    "            # self.res_mean = self.res_df.mean()\n",
    "            # self.res_std = self.res_df.std()\n",
    "            # res = (res - self.res_mean) / self.res_std\n",
    "            # res = self.transform(res)\n",
    "        return one_hot_torch(seqs_comb, dtype=self.one_hot_dtype), torch.tensor(res)\n",
    "\n",
    "    def __len__(self):\n",
    "        return self.res_df.shape[0]\n",
    "\n",
    "training_dataset = OneHotSeqsDataset(train_data, train_target, one_hot_dtype=torch.float, transform=True)\n",
    "train_dataset, val_dataset = random_split(training_dataset, [int(len(training_dataset)*0.9), len(training_dataset)-int(len(training_dataset)*0.9)])"
   ]
  },
  {
   "cell_type": "code",
   "execution_count": 9,
   "metadata": {},
   "outputs": [
    {
     "name": "stdout",
     "output_type": "stream",
     "text": [
      "tensor([[0., 0., 0.,  ..., 0., 0., 1.],\n",
      "        [0., 0., 0.,  ..., 1., 0., 0.],\n",
      "        [0., 0., 0.,  ..., 0., 1., 0.],\n",
      "        [0., 0., 0.,  ..., 0., 0., 0.]])\n",
      "tensor([-2.0794, -5.5215, -4.1997, -5.5215, -2.0794, -2.0794, -4.4874, -0.6931,\n",
      "        -2.8134, -3.5066, -3.5066, -4.1997, -3.5066], dtype=torch.float64)\n"
     ]
    }
   ],
   "source": [
    "for x, y in train_dataset:\n",
    "    print(x)\n",
    "    print(y)\n",
    "    break"
   ]
  },
  {
   "cell_type": "markdown",
   "metadata": {},
   "source": [
    "# Model"
   ]
  },
  {
   "cell_type": "code",
   "execution_count": 10,
   "metadata": {},
   "outputs": [],
   "source": [
    "def save_to_file(file_path, appendix, epoch, lr, cnndr, fcdr, l2, train_loss, test_loss):\n",
    "    train_loss = [float(arr) for arr in train_loss]\n",
    "    test_loss = [float(arr) for arr in test_loss]\n",
    "    with open(file_path, \"a\") as f:\n",
    "        f.write(f\">> {appendix}, Epoch: {epoch}, LR: {lr}, cnnDR: {cnndr},  fnDR: {fcdr}, l2decay: {l2}\\n\")\n",
    "        f.write(f\"--- Train Loss: {train_loss}\\n\")\n",
    "        f.write(f\"--- Test Loss: {test_loss}\\n\")"
   ]
  },
  {
   "cell_type": "code",
   "execution_count": 20,
   "metadata": {},
   "outputs": [],
   "source": [
    "torch.cuda.empty_cache()\n",
    "\n",
    "class Model(nn.Module):\n",
    "    def __init__(\n",
    "        self,\n",
    "        in_channels=4,\n",
    "        num_classes=1,\n",
    "        num_filters=64,\n",
    "        filter_length=25,\n",
    "        num_conv_layers=2,\n",
    "        filter_scaling_factor=1,  # New parameter\n",
    "        num_dense_neurons=256,\n",
    "        num_dense_layers=2,\n",
    "        conv_dropout_rate=0.0,\n",
    "        dense_dropout_rate=0.2,\n",
    "        return_logits=False,\n",
    "    ):\n",
    "        super().__init__()\n",
    "        self.in_channels = in_channels\n",
    "        self.num_classes = num_classes\n",
    "        self.num_filters = num_filters\n",
    "        self.filter_length = filter_length\n",
    "        self.num_conv_layers = num_conv_layers\n",
    "        self.num_dense_layers = num_dense_layers\n",
    "        self.conv_dropout_rate = conv_dropout_rate\n",
    "        self.dense_dropout_rate = dense_dropout_rate\n",
    "        self.return_logits = return_logits\n",
    "        \n",
    "        # now define the actual model\n",
    "        self.feature_extraction_layer = self._conv_layer(\n",
    "            in_channels, num_filters, filter_length\n",
    "        )\n",
    "        \n",
    "        #dynamic filter scaling from deepram\n",
    "        current_num_filters = num_filters\n",
    "        \n",
    "        self.conv_layers1 = nn.ModuleList()\n",
    "        for i in range(num_conv_layers):\n",
    "            layer = self._conv_layer(current_num_filters, int(current_num_filters * filter_scaling_factor), 12)\n",
    "            self.conv_layers1.append(layer)\n",
    "            current_num_filters = int(current_num_filters * filter_scaling_factor)\n",
    "\n",
    "        self.conv_layers2 = nn.ModuleList()\n",
    "        for i in range(2):\n",
    "            layer = self._conv_layer(current_num_filters, int(current_num_filters * filter_scaling_factor), 12)\n",
    "            self.conv_layers2.append(layer)\n",
    "            current_num_filters = int(current_num_filters * filter_scaling_factor)\n",
    "\n",
    "        self.dense_layers = nn.ModuleList(\n",
    "            self._dense_layer(input_dim, num_dense_neurons)\n",
    "            for input_dim in [current_num_filters]\n",
    "            + [num_dense_neurons] * (num_dense_layers - 1) #how does this work?\n",
    "        )\n",
    "        \n",
    "        \n",
    "        # self.dense_layers = nn.ModuleList(\n",
    "        #     self._dense_layer(input_dim, num_dense_neurons)\n",
    "        #     for input_dim in [current_num_filters]\n",
    "        #     + [num_dense_neurons] * (num_dense_layers - 1) #how does this work?\n",
    "        # )\n",
    "        \n",
    "        \n",
    "        self.prediction_layer = (\n",
    "            nn.Linear(num_dense_neurons, num_classes)\n",
    "            if return_logits\n",
    "            else nn.Sequential(nn.Linear(num_dense_neurons, num_classes), nn.ReLU()) #difference between sequential and nn.moduleList?\n",
    "        )\n",
    "        \n",
    "        self.maxpool = nn.MaxPool2d(3, stride=1)\n",
    "        \n",
    "        self.apply(self.init_weights)    \n",
    "        \n",
    "        \n",
    "    \n",
    "    def init_weights(self, m):\n",
    "        if isinstance(m, nn.Linear):\n",
    "            nn.init.kaiming_normal_(m.weight, mode='fan_in', nonlinearity='relu')\n",
    "            if m.bias is not None:\n",
    "                nn.init.constant_(m.bias, 0)\n",
    "    \n",
    "    def _conv_layer(self, in_channels, out_channels, kernel_size):\n",
    "        return nn.Sequential(\n",
    "            nn.Dropout(p=self.conv_dropout_rate),\n",
    "            nn.Conv1d(in_channels, out_channels, kernel_size=kernel_size),\n",
    "            nn.BatchNorm1d(out_channels),\n",
    "            nn.ReLU(),\n",
    "        )\n",
    "\n",
    "    def _dense_layer(self, n_in, n_out):\n",
    "        return nn.Sequential(\n",
    "            nn.Dropout(p=self.dense_dropout_rate),\n",
    "            nn.Linear(n_in, n_out),\n",
    "            nn.BatchNorm1d(n_out),\n",
    "            nn.ReLU(),\n",
    "        )\n",
    "\n",
    "    def forward(self, x):\n",
    "        # first pass over input\n",
    "        # print(x.size())\n",
    "        x = self.feature_extraction_layer(x)\n",
    "        # conv layers\n",
    "        for layer in self.conv_layers1:\n",
    "            x = layer(x)\n",
    "        # global max pool 1D\n",
    "        # x = torch.max(x, dim=-1).values\n",
    "        # x = x.view(x.size(0), -1)  # Flattening the tensor to [batch_size, features]\n",
    "        ic(x.size())\n",
    "        x = self.maxpool(x)\n",
    "        \n",
    "        ic(x.size())\n",
    "        \n",
    "        for layer in self.conv_layers2:\n",
    "            x = layer(x)\n",
    "        ic(x.size())\n",
    "            \n",
    "        x = self.maxpool(x)\n",
    "        ic(x.size())\n",
    "        \n",
    "        # ic(x.shape)\n",
    "        # fully connected layers\n",
    "        x = x.view(x.size(0), -1)  # Flattening the tensor to [batch_size, features]\n",
    "        ic(x.size())\n",
    "        \n",
    "        for layer in self.dense_layers:\n",
    "            x = layer(x)\n",
    "        ic(x.shape)\n",
    "        x = self.prediction_layer(x)\n",
    "        ic(x.shape)\n",
    "        return x\n",
    "\n",
    "model = Model(\n",
    "num_classes=13,\n",
    "num_filters=64,\n",
    "num_conv_layers=1,\n",
    "num_dense_neurons=256, # batch_size = 64\n",
    "# num_dense_neurons=128, # batch_size = 64\n",
    "num_dense_layers=1,\n",
    "return_logits=True,\n",
    "conv_dropout_rate=0,\n",
    "dense_dropout_rate=0.2\n",
    ").to(device)\n",
    "\n",
    "# model = Model( #! way too memory intensive\n",
    "# num_classes=13,\n",
    "# num_filters=128,\n",
    "# num_conv_layers=2,\n",
    "# num_dense_neurons=64, # batch_size = 64\n",
    "\n",
    "# num_dense_layers=2,\n",
    "# return_logits=True,\n",
    "# conv_dropout_rate=0,\n",
    "# dense_dropout_rate=0\n",
    "# ).to(device)\n",
    "## early stopping\n",
    "best_val_loss = float('inf')\n",
    "patience = 10  # How many epochs to wait after last time validation loss improved.\n",
    "patience_counter = 0\n",
    "\n",
    "\n",
    "\n",
    "epoch = 250\n",
    "batch_size = 128\n",
    "# lr = 0.0085\n",
    "# lr = 0.00002\n",
    "lr = 1e-4\n",
    "\n",
    "train_loader = DataLoader(dataset=train_dataset, batch_size=batch_size, shuffle=True, collate_fn=collate_padded_batch ,num_workers=8, drop_last=True)\n",
    "test_loader = DataLoader(dataset=val_dataset, batch_size=batch_size, collate_fn=collate_padded_batch, num_workers=8, shuffle=True, drop_last=True)\n",
    "# criterion = nn.MSELoss()\n",
    "criterion = masked_MSE\n",
    "optimizer = torch.optim.Adam(model.parameters(), lr=lr,  weight_decay=1e-9)\n",
    "\n",
    "# optimizer = torch.optim.SGD(model.parameters(), lr=lr)\n",
    "# optimizer = torch.optim.RMSprop(model.parameters(), lr=lr)\n",
    "# scheduler = torch.optim.lr_scheduler.ReduceLROnPlateau(optimizer, 'min', factor=0.5, patience=2, verbose=True)"
   ]
  },
  {
   "cell_type": "code",
   "execution_count": 21,
   "metadata": {},
   "outputs": [
    {
     "name": "stderr",
     "output_type": "stream",
     "text": [
      "ic| x.size(): torch.Size([2, 64, 56815])\n",
      "ic| x.size(): torch.Size([2, 62, 56813])\n"
     ]
    },
    {
     "ename": "RuntimeError",
     "evalue": "Given groups=1, weight of size [64, 64, 12], expected input[2, 62, 56813] to have 64 channels, but got 62 channels instead",
     "output_type": "error",
     "traceback": [
      "\u001b[0;31m---------------------------------------------------------------------------\u001b[0m",
      "\u001b[0;31mRuntimeError\u001b[0m                              Traceback (most recent call last)",
      "\u001b[0;32m/tmp/ipykernel_72784/1624272071.py\u001b[0m in \u001b[0;36m<module>\u001b[0;34m\u001b[0m\n\u001b[1;32m      1\u001b[0m \u001b[0;32mfrom\u001b[0m \u001b[0mtorchsummary\u001b[0m \u001b[0;32mimport\u001b[0m \u001b[0msummary\u001b[0m\u001b[0;34m\u001b[0m\u001b[0;34m\u001b[0m\u001b[0m\n\u001b[0;32m----> 2\u001b[0;31m \u001b[0msummary\u001b[0m\u001b[0;34m(\u001b[0m\u001b[0mmodel\u001b[0m\u001b[0;34m,\u001b[0m \u001b[0;34m(\u001b[0m\u001b[0;36m4\u001b[0m\u001b[0;34m,\u001b[0m \u001b[0;36m56850\u001b[0m\u001b[0;34m)\u001b[0m\u001b[0;34m)\u001b[0m\u001b[0;34m\u001b[0m\u001b[0;34m\u001b[0m\u001b[0m\n\u001b[0m",
      "\u001b[0;32m/mnt/storageG1/lwang/miniconda3/envs/ml-workshop/lib/python3.9/site-packages/torchsummary/torchsummary.py\u001b[0m in \u001b[0;36msummary\u001b[0;34m(model, input_size, batch_size, device)\u001b[0m\n\u001b[1;32m     70\u001b[0m     \u001b[0;31m# make a forward pass\u001b[0m\u001b[0;34m\u001b[0m\u001b[0;34m\u001b[0m\u001b[0m\n\u001b[1;32m     71\u001b[0m     \u001b[0;31m# print(x.shape)\u001b[0m\u001b[0;34m\u001b[0m\u001b[0;34m\u001b[0m\u001b[0m\n\u001b[0;32m---> 72\u001b[0;31m     \u001b[0mmodel\u001b[0m\u001b[0;34m(\u001b[0m\u001b[0;34m*\u001b[0m\u001b[0mx\u001b[0m\u001b[0;34m)\u001b[0m\u001b[0;34m\u001b[0m\u001b[0;34m\u001b[0m\u001b[0m\n\u001b[0m\u001b[1;32m     73\u001b[0m \u001b[0;34m\u001b[0m\u001b[0m\n\u001b[1;32m     74\u001b[0m     \u001b[0;31m# remove these hooks\u001b[0m\u001b[0;34m\u001b[0m\u001b[0;34m\u001b[0m\u001b[0m\n",
      "\u001b[0;32m/mnt/storageG1/lwang/miniconda3/envs/ml-workshop/lib/python3.9/site-packages/torch/nn/modules/module.py\u001b[0m in \u001b[0;36m_call_impl\u001b[0;34m(self, *input, **kwargs)\u001b[0m\n\u001b[1;32m   1128\u001b[0m         if not (self._backward_hooks or self._forward_hooks or self._forward_pre_hooks or _global_backward_hooks\n\u001b[1;32m   1129\u001b[0m                 or _global_forward_hooks or _global_forward_pre_hooks):\n\u001b[0;32m-> 1130\u001b[0;31m             \u001b[0;32mreturn\u001b[0m \u001b[0mforward_call\u001b[0m\u001b[0;34m(\u001b[0m\u001b[0;34m*\u001b[0m\u001b[0minput\u001b[0m\u001b[0;34m,\u001b[0m \u001b[0;34m**\u001b[0m\u001b[0mkwargs\u001b[0m\u001b[0;34m)\u001b[0m\u001b[0;34m\u001b[0m\u001b[0;34m\u001b[0m\u001b[0m\n\u001b[0m\u001b[1;32m   1131\u001b[0m         \u001b[0;31m# Do not call functions when jit is used\u001b[0m\u001b[0;34m\u001b[0m\u001b[0;34m\u001b[0m\u001b[0m\n\u001b[1;32m   1132\u001b[0m         \u001b[0mfull_backward_hooks\u001b[0m\u001b[0;34m,\u001b[0m \u001b[0mnon_full_backward_hooks\u001b[0m \u001b[0;34m=\u001b[0m \u001b[0;34m[\u001b[0m\u001b[0;34m]\u001b[0m\u001b[0;34m,\u001b[0m \u001b[0;34m[\u001b[0m\u001b[0;34m]\u001b[0m\u001b[0;34m\u001b[0m\u001b[0;34m\u001b[0m\u001b[0m\n",
      "\u001b[0;32m/tmp/ipykernel_72784/2664276894.py\u001b[0m in \u001b[0;36mforward\u001b[0;34m(self, x)\u001b[0m\n\u001b[1;32m    111\u001b[0m \u001b[0;34m\u001b[0m\u001b[0m\n\u001b[1;32m    112\u001b[0m         \u001b[0;32mfor\u001b[0m \u001b[0mlayer\u001b[0m \u001b[0;32min\u001b[0m \u001b[0mself\u001b[0m\u001b[0;34m.\u001b[0m\u001b[0mconv_layers2\u001b[0m\u001b[0;34m:\u001b[0m\u001b[0;34m\u001b[0m\u001b[0;34m\u001b[0m\u001b[0m\n\u001b[0;32m--> 113\u001b[0;31m             \u001b[0mx\u001b[0m \u001b[0;34m=\u001b[0m \u001b[0mlayer\u001b[0m\u001b[0;34m(\u001b[0m\u001b[0mx\u001b[0m\u001b[0;34m)\u001b[0m\u001b[0;34m\u001b[0m\u001b[0;34m\u001b[0m\u001b[0m\n\u001b[0m\u001b[1;32m    114\u001b[0m         \u001b[0mic\u001b[0m\u001b[0;34m(\u001b[0m\u001b[0mx\u001b[0m\u001b[0;34m.\u001b[0m\u001b[0msize\u001b[0m\u001b[0;34m(\u001b[0m\u001b[0;34m)\u001b[0m\u001b[0;34m)\u001b[0m\u001b[0;34m\u001b[0m\u001b[0;34m\u001b[0m\u001b[0m\n\u001b[1;32m    115\u001b[0m \u001b[0;34m\u001b[0m\u001b[0m\n",
      "\u001b[0;32m/mnt/storageG1/lwang/miniconda3/envs/ml-workshop/lib/python3.9/site-packages/torch/nn/modules/module.py\u001b[0m in \u001b[0;36m_call_impl\u001b[0;34m(self, *input, **kwargs)\u001b[0m\n\u001b[1;32m   1128\u001b[0m         if not (self._backward_hooks or self._forward_hooks or self._forward_pre_hooks or _global_backward_hooks\n\u001b[1;32m   1129\u001b[0m                 or _global_forward_hooks or _global_forward_pre_hooks):\n\u001b[0;32m-> 1130\u001b[0;31m             \u001b[0;32mreturn\u001b[0m \u001b[0mforward_call\u001b[0m\u001b[0;34m(\u001b[0m\u001b[0;34m*\u001b[0m\u001b[0minput\u001b[0m\u001b[0;34m,\u001b[0m \u001b[0;34m**\u001b[0m\u001b[0mkwargs\u001b[0m\u001b[0;34m)\u001b[0m\u001b[0;34m\u001b[0m\u001b[0;34m\u001b[0m\u001b[0m\n\u001b[0m\u001b[1;32m   1131\u001b[0m         \u001b[0;31m# Do not call functions when jit is used\u001b[0m\u001b[0;34m\u001b[0m\u001b[0;34m\u001b[0m\u001b[0m\n\u001b[1;32m   1132\u001b[0m         \u001b[0mfull_backward_hooks\u001b[0m\u001b[0;34m,\u001b[0m \u001b[0mnon_full_backward_hooks\u001b[0m \u001b[0;34m=\u001b[0m \u001b[0;34m[\u001b[0m\u001b[0;34m]\u001b[0m\u001b[0;34m,\u001b[0m \u001b[0;34m[\u001b[0m\u001b[0;34m]\u001b[0m\u001b[0;34m\u001b[0m\u001b[0;34m\u001b[0m\u001b[0m\n",
      "\u001b[0;32m/mnt/storageG1/lwang/miniconda3/envs/ml-workshop/lib/python3.9/site-packages/torch/nn/modules/container.py\u001b[0m in \u001b[0;36mforward\u001b[0;34m(self, input)\u001b[0m\n\u001b[1;32m    137\u001b[0m     \u001b[0;32mdef\u001b[0m \u001b[0mforward\u001b[0m\u001b[0;34m(\u001b[0m\u001b[0mself\u001b[0m\u001b[0;34m,\u001b[0m \u001b[0minput\u001b[0m\u001b[0;34m)\u001b[0m\u001b[0;34m:\u001b[0m\u001b[0;34m\u001b[0m\u001b[0;34m\u001b[0m\u001b[0m\n\u001b[1;32m    138\u001b[0m         \u001b[0;32mfor\u001b[0m \u001b[0mmodule\u001b[0m \u001b[0;32min\u001b[0m \u001b[0mself\u001b[0m\u001b[0;34m:\u001b[0m\u001b[0;34m\u001b[0m\u001b[0;34m\u001b[0m\u001b[0m\n\u001b[0;32m--> 139\u001b[0;31m             \u001b[0minput\u001b[0m \u001b[0;34m=\u001b[0m \u001b[0mmodule\u001b[0m\u001b[0;34m(\u001b[0m\u001b[0minput\u001b[0m\u001b[0;34m)\u001b[0m\u001b[0;34m\u001b[0m\u001b[0;34m\u001b[0m\u001b[0m\n\u001b[0m\u001b[1;32m    140\u001b[0m         \u001b[0;32mreturn\u001b[0m \u001b[0minput\u001b[0m\u001b[0;34m\u001b[0m\u001b[0;34m\u001b[0m\u001b[0m\n\u001b[1;32m    141\u001b[0m \u001b[0;34m\u001b[0m\u001b[0m\n",
      "\u001b[0;32m/mnt/storageG1/lwang/miniconda3/envs/ml-workshop/lib/python3.9/site-packages/torch/nn/modules/module.py\u001b[0m in \u001b[0;36m_call_impl\u001b[0;34m(self, *input, **kwargs)\u001b[0m\n\u001b[1;32m   1146\u001b[0m             \u001b[0minput\u001b[0m \u001b[0;34m=\u001b[0m \u001b[0mbw_hook\u001b[0m\u001b[0;34m.\u001b[0m\u001b[0msetup_input_hook\u001b[0m\u001b[0;34m(\u001b[0m\u001b[0minput\u001b[0m\u001b[0;34m)\u001b[0m\u001b[0;34m\u001b[0m\u001b[0;34m\u001b[0m\u001b[0m\n\u001b[1;32m   1147\u001b[0m \u001b[0;34m\u001b[0m\u001b[0m\n\u001b[0;32m-> 1148\u001b[0;31m         \u001b[0mresult\u001b[0m \u001b[0;34m=\u001b[0m \u001b[0mforward_call\u001b[0m\u001b[0;34m(\u001b[0m\u001b[0;34m*\u001b[0m\u001b[0minput\u001b[0m\u001b[0;34m,\u001b[0m \u001b[0;34m**\u001b[0m\u001b[0mkwargs\u001b[0m\u001b[0;34m)\u001b[0m\u001b[0;34m\u001b[0m\u001b[0;34m\u001b[0m\u001b[0m\n\u001b[0m\u001b[1;32m   1149\u001b[0m         \u001b[0;32mif\u001b[0m \u001b[0m_global_forward_hooks\u001b[0m \u001b[0;32mor\u001b[0m \u001b[0mself\u001b[0m\u001b[0;34m.\u001b[0m\u001b[0m_forward_hooks\u001b[0m\u001b[0;34m:\u001b[0m\u001b[0;34m\u001b[0m\u001b[0;34m\u001b[0m\u001b[0m\n\u001b[1;32m   1150\u001b[0m             \u001b[0;32mfor\u001b[0m \u001b[0mhook\u001b[0m \u001b[0;32min\u001b[0m \u001b[0;34m(\u001b[0m\u001b[0;34m*\u001b[0m\u001b[0m_global_forward_hooks\u001b[0m\u001b[0;34m.\u001b[0m\u001b[0mvalues\u001b[0m\u001b[0;34m(\u001b[0m\u001b[0;34m)\u001b[0m\u001b[0;34m,\u001b[0m \u001b[0;34m*\u001b[0m\u001b[0mself\u001b[0m\u001b[0;34m.\u001b[0m\u001b[0m_forward_hooks\u001b[0m\u001b[0;34m.\u001b[0m\u001b[0mvalues\u001b[0m\u001b[0;34m(\u001b[0m\u001b[0;34m)\u001b[0m\u001b[0;34m)\u001b[0m\u001b[0;34m:\u001b[0m\u001b[0;34m\u001b[0m\u001b[0;34m\u001b[0m\u001b[0m\n",
      "\u001b[0;32m/mnt/storageG1/lwang/miniconda3/envs/ml-workshop/lib/python3.9/site-packages/torch/nn/modules/conv.py\u001b[0m in \u001b[0;36mforward\u001b[0;34m(self, input)\u001b[0m\n\u001b[1;32m    305\u001b[0m \u001b[0;34m\u001b[0m\u001b[0m\n\u001b[1;32m    306\u001b[0m     \u001b[0;32mdef\u001b[0m \u001b[0mforward\u001b[0m\u001b[0;34m(\u001b[0m\u001b[0mself\u001b[0m\u001b[0;34m,\u001b[0m \u001b[0minput\u001b[0m\u001b[0;34m:\u001b[0m \u001b[0mTensor\u001b[0m\u001b[0;34m)\u001b[0m \u001b[0;34m->\u001b[0m \u001b[0mTensor\u001b[0m\u001b[0;34m:\u001b[0m\u001b[0;34m\u001b[0m\u001b[0;34m\u001b[0m\u001b[0m\n\u001b[0;32m--> 307\u001b[0;31m         \u001b[0;32mreturn\u001b[0m \u001b[0mself\u001b[0m\u001b[0;34m.\u001b[0m\u001b[0m_conv_forward\u001b[0m\u001b[0;34m(\u001b[0m\u001b[0minput\u001b[0m\u001b[0;34m,\u001b[0m \u001b[0mself\u001b[0m\u001b[0;34m.\u001b[0m\u001b[0mweight\u001b[0m\u001b[0;34m,\u001b[0m \u001b[0mself\u001b[0m\u001b[0;34m.\u001b[0m\u001b[0mbias\u001b[0m\u001b[0;34m)\u001b[0m\u001b[0;34m\u001b[0m\u001b[0;34m\u001b[0m\u001b[0m\n\u001b[0m\u001b[1;32m    308\u001b[0m \u001b[0;34m\u001b[0m\u001b[0m\n\u001b[1;32m    309\u001b[0m \u001b[0;34m\u001b[0m\u001b[0m\n",
      "\u001b[0;32m/mnt/storageG1/lwang/miniconda3/envs/ml-workshop/lib/python3.9/site-packages/torch/nn/modules/conv.py\u001b[0m in \u001b[0;36m_conv_forward\u001b[0;34m(self, input, weight, bias)\u001b[0m\n\u001b[1;32m    301\u001b[0m                             \u001b[0mweight\u001b[0m\u001b[0;34m,\u001b[0m \u001b[0mbias\u001b[0m\u001b[0;34m,\u001b[0m \u001b[0mself\u001b[0m\u001b[0;34m.\u001b[0m\u001b[0mstride\u001b[0m\u001b[0;34m,\u001b[0m\u001b[0;34m\u001b[0m\u001b[0;34m\u001b[0m\u001b[0m\n\u001b[1;32m    302\u001b[0m                             _single(0), self.dilation, self.groups)\n\u001b[0;32m--> 303\u001b[0;31m         return F.conv1d(input, weight, bias, self.stride,\n\u001b[0m\u001b[1;32m    304\u001b[0m                         self.padding, self.dilation, self.groups)\n\u001b[1;32m    305\u001b[0m \u001b[0;34m\u001b[0m\u001b[0m\n",
      "\u001b[0;31mRuntimeError\u001b[0m: Given groups=1, weight of size [64, 64, 12], expected input[2, 62, 56813] to have 64 channels, but got 62 channels instead"
     ]
    }
   ],
   "source": [
    "from torchsummary import summary\n",
    "summary(model, (4, 56850))\n"
   ]
  },
  {
   "cell_type": "markdown",
   "metadata": {},
   "source": [
    "# Training"
   ]
  },
  {
   "cell_type": "markdown",
   "metadata": {},
   "source": [
    "### Training"
   ]
  },
  {
   "cell_type": "code",
   "execution_count": 13,
   "metadata": {},
   "outputs": [
    {
     "name": "stderr",
     "output_type": "stream",
     "text": [
      "  0%|          | 1/250 [00:59<4:08:04, 59.78s/it]"
     ]
    },
    {
     "name": "stdout",
     "output_type": "stream",
     "text": [
      "Epoch 1\n",
      "Training loss: 4.988264560699463\n",
      "Validation loss: 4.333120346069336\n",
      "Current val loss: 4.333120346069336\n",
      "Best val loss: inf\n"
     ]
    },
    {
     "name": "stderr",
     "output_type": "stream",
     "text": [
      "  1%|          | 2/250 [01:58<4:04:45, 59.22s/it]"
     ]
    },
    {
     "name": "stdout",
     "output_type": "stream",
     "text": [
      "Epoch 2\n",
      "Training loss: 3.7572221755981445\n",
      "Validation loss: 3.7874393463134766\n",
      "Current val loss: 3.7874393463134766\n",
      "Best val loss: 4.333120346069336\n"
     ]
    },
    {
     "name": "stderr",
     "output_type": "stream",
     "text": [
      "  1%|          | 3/250 [02:57<4:02:30, 58.91s/it]"
     ]
    },
    {
     "name": "stdout",
     "output_type": "stream",
     "text": [
      "Epoch 3\n",
      "Training loss: 3.0997262001037598\n",
      "Validation loss: 3.3925602436065674\n",
      "Current val loss: 3.3925602436065674\n",
      "Best val loss: 3.7874393463134766\n"
     ]
    },
    {
     "name": "stderr",
     "output_type": "stream",
     "text": [
      "  2%|▏         | 4/250 [03:55<4:00:43, 58.71s/it]"
     ]
    },
    {
     "name": "stdout",
     "output_type": "stream",
     "text": [
      "Epoch 4\n",
      "Training loss: 2.7588436603546143\n",
      "Validation loss: 3.1348371505737305\n",
      "Current val loss: 3.1348371505737305\n",
      "Best val loss: 3.3925602436065674\n"
     ]
    },
    {
     "name": "stderr",
     "output_type": "stream",
     "text": [
      "  2%|▏         | 5/250 [04:54<3:59:39, 58.69s/it]"
     ]
    },
    {
     "name": "stdout",
     "output_type": "stream",
     "text": [
      "Epoch 5\n",
      "Training loss: 2.5757429599761963\n",
      "Validation loss: 2.9125070571899414\n",
      "Current val loss: 2.9125070571899414\n",
      "Best val loss: 3.1348371505737305\n"
     ]
    },
    {
     "name": "stderr",
     "output_type": "stream",
     "text": [
      "  2%|▏         | 6/250 [05:52<3:58:08, 58.56s/it]"
     ]
    },
    {
     "name": "stdout",
     "output_type": "stream",
     "text": [
      "Epoch 6\n",
      "Training loss: 2.47212815284729\n",
      "Validation loss: 2.7735466957092285\n",
      "Current val loss: 2.7735466957092285\n",
      "Best val loss: 2.9125070571899414\n"
     ]
    },
    {
     "name": "stderr",
     "output_type": "stream",
     "text": [
      "  3%|▎         | 7/250 [06:50<3:56:50, 58.48s/it]"
     ]
    },
    {
     "name": "stdout",
     "output_type": "stream",
     "text": [
      "Epoch 7\n",
      "Training loss: 2.4208927154541016\n",
      "Validation loss: 2.6481802463531494\n",
      "Current val loss: 2.6481802463531494\n",
      "Best val loss: 2.7735466957092285\n"
     ]
    },
    {
     "name": "stderr",
     "output_type": "stream",
     "text": [
      "  3%|▎         | 8/250 [07:49<3:55:39, 58.43s/it]"
     ]
    },
    {
     "name": "stdout",
     "output_type": "stream",
     "text": [
      "Epoch 8\n",
      "Training loss: 2.3982527256011963\n",
      "Validation loss: 2.5471696853637695\n",
      "Current val loss: 2.5471696853637695\n",
      "Best val loss: 2.6481802463531494\n"
     ]
    },
    {
     "name": "stderr",
     "output_type": "stream",
     "text": [
      "  4%|▎         | 9/250 [08:47<3:54:37, 58.41s/it]"
     ]
    },
    {
     "name": "stdout",
     "output_type": "stream",
     "text": [
      "Epoch 9\n",
      "Training loss: 2.3607730865478516\n",
      "Validation loss: 2.494853973388672\n",
      "Current val loss: 2.494853973388672\n",
      "Best val loss: 2.5471696853637695\n"
     ]
    },
    {
     "name": "stderr",
     "output_type": "stream",
     "text": [
      "  4%|▍         | 10/250 [09:45<3:53:24, 58.35s/it]"
     ]
    },
    {
     "name": "stdout",
     "output_type": "stream",
     "text": [
      "Epoch 10\n",
      "Training loss: 2.3439981937408447\n",
      "Validation loss: 2.447114944458008\n",
      "Current val loss: 2.447114944458008\n",
      "Best val loss: 2.494853973388672\n"
     ]
    },
    {
     "name": "stderr",
     "output_type": "stream",
     "text": [
      "  4%|▍         | 11/250 [10:44<3:52:25, 58.35s/it]"
     ]
    },
    {
     "name": "stdout",
     "output_type": "stream",
     "text": [
      "Epoch 11\n",
      "Training loss: 2.326813220977783\n",
      "Validation loss: 2.430324077606201\n",
      "Current val loss: 2.430324077606201\n",
      "Best val loss: 2.447114944458008\n"
     ]
    },
    {
     "name": "stderr",
     "output_type": "stream",
     "text": [
      "  5%|▍         | 12/250 [11:42<3:51:13, 58.29s/it]"
     ]
    },
    {
     "name": "stdout",
     "output_type": "stream",
     "text": [
      "Epoch 12\n",
      "Training loss: 2.3055078983306885\n",
      "Validation loss: 2.35713529586792\n",
      "Current val loss: 2.35713529586792\n",
      "Best val loss: 2.430324077606201\n"
     ]
    },
    {
     "name": "stderr",
     "output_type": "stream",
     "text": [
      "  5%|▌         | 13/250 [12:40<3:50:11, 58.28s/it]"
     ]
    },
    {
     "name": "stdout",
     "output_type": "stream",
     "text": [
      "Epoch 13\n",
      "Training loss: 2.2821311950683594\n",
      "Validation loss: 2.340672731399536\n",
      "Current val loss: 2.340672731399536\n",
      "Best val loss: 2.35713529586792\n"
     ]
    },
    {
     "name": "stderr",
     "output_type": "stream",
     "text": [
      "  6%|▌         | 14/250 [13:38<3:48:59, 58.22s/it]"
     ]
    },
    {
     "name": "stdout",
     "output_type": "stream",
     "text": [
      "Epoch 14\n",
      "Training loss: 2.2561163902282715\n",
      "Validation loss: 2.2940287590026855\n",
      "Current val loss: 2.2940287590026855\n",
      "Best val loss: 2.340672731399536\n"
     ]
    },
    {
     "name": "stderr",
     "output_type": "stream",
     "text": [
      "  6%|▌         | 15/250 [14:36<3:47:50, 58.17s/it]"
     ]
    },
    {
     "name": "stdout",
     "output_type": "stream",
     "text": [
      "Epoch 15\n",
      "Training loss: 2.2034988403320312\n",
      "Validation loss: 2.2153658866882324\n",
      "Current val loss: 2.2153658866882324\n",
      "Best val loss: 2.2940287590026855\n"
     ]
    },
    {
     "name": "stderr",
     "output_type": "stream",
     "text": [
      "  6%|▋         | 16/250 [15:34<3:46:56, 58.19s/it]"
     ]
    },
    {
     "name": "stdout",
     "output_type": "stream",
     "text": [
      "Epoch 16\n",
      "Training loss: 2.1098551750183105\n",
      "Validation loss: 2.0552008152008057\n",
      "Current val loss: 2.0552008152008057\n",
      "Best val loss: 2.2153658866882324\n"
     ]
    },
    {
     "name": "stderr",
     "output_type": "stream",
     "text": [
      "  7%|▋         | 17/250 [16:32<3:45:52, 58.16s/it]"
     ]
    },
    {
     "name": "stdout",
     "output_type": "stream",
     "text": [
      "Epoch 17\n",
      "Training loss: 2.0221405029296875\n",
      "Validation loss: 1.8976894617080688\n",
      "Current val loss: 1.8976894617080688\n",
      "Best val loss: 2.0552008152008057\n"
     ]
    },
    {
     "name": "stderr",
     "output_type": "stream",
     "text": [
      "  7%|▋         | 18/250 [17:31<3:45:00, 58.19s/it]"
     ]
    },
    {
     "name": "stdout",
     "output_type": "stream",
     "text": [
      "Epoch 18\n",
      "Training loss: 1.9706209897994995\n",
      "Validation loss: 1.805314302444458\n",
      "Current val loss: 1.805314302444458\n",
      "Best val loss: 1.8976894617080688\n"
     ]
    },
    {
     "name": "stderr",
     "output_type": "stream",
     "text": [
      "  8%|▊         | 19/250 [18:29<3:44:19, 58.27s/it]"
     ]
    },
    {
     "name": "stdout",
     "output_type": "stream",
     "text": [
      "Epoch 19\n",
      "Training loss: 1.9354071617126465\n",
      "Validation loss: 1.7633968591690063\n",
      "Current val loss: 1.7633968591690063\n",
      "Best val loss: 1.805314302444458\n"
     ]
    },
    {
     "name": "stderr",
     "output_type": "stream",
     "text": [
      "  8%|▊         | 20/250 [19:28<3:43:42, 58.36s/it]"
     ]
    },
    {
     "name": "stdout",
     "output_type": "stream",
     "text": [
      "Epoch 20\n",
      "Training loss: 1.886275291442871\n",
      "Validation loss: 1.7297453880310059\n",
      "Current val loss: 1.7297453880310059\n",
      "Best val loss: 1.7633968591690063\n"
     ]
    },
    {
     "name": "stderr",
     "output_type": "stream",
     "text": [
      "  8%|▊         | 21/250 [20:26<3:42:29, 58.30s/it]"
     ]
    },
    {
     "name": "stdout",
     "output_type": "stream",
     "text": [
      "Epoch 21\n",
      "Training loss: 1.8402774333953857\n",
      "Validation loss: 1.676571249961853\n",
      "Current val loss: 1.676571249961853\n",
      "Best val loss: 1.7297453880310059\n"
     ]
    },
    {
     "name": "stderr",
     "output_type": "stream",
     "text": [
      "  9%|▉         | 22/250 [21:24<3:41:30, 58.29s/it]"
     ]
    },
    {
     "name": "stdout",
     "output_type": "stream",
     "text": [
      "Epoch 22\n",
      "Training loss: 1.8089981079101562\n",
      "Validation loss: 1.6255316734313965\n",
      "Current val loss: 1.6255316734313965\n",
      "Best val loss: 1.676571249961853\n"
     ]
    },
    {
     "name": "stderr",
     "output_type": "stream",
     "text": [
      "  9%|▉         | 23/250 [22:22<3:40:15, 58.22s/it]"
     ]
    },
    {
     "name": "stdout",
     "output_type": "stream",
     "text": [
      "Epoch 23\n",
      "Training loss: 1.7857091426849365\n",
      "Validation loss: 1.6264253854751587\n",
      "Current val loss: 1.6264253854751587\n",
      "Best val loss: 1.6255316734313965\n"
     ]
    },
    {
     "name": "stderr",
     "output_type": "stream",
     "text": [
      " 10%|▉         | 24/250 [23:20<3:39:12, 58.19s/it]"
     ]
    },
    {
     "name": "stdout",
     "output_type": "stream",
     "text": [
      "Epoch 24\n",
      "Training loss: 1.7511264085769653\n",
      "Validation loss: 1.5745089054107666\n",
      "Current val loss: 1.5745089054107666\n",
      "Best val loss: 1.6255316734313965\n"
     ]
    },
    {
     "name": "stderr",
     "output_type": "stream",
     "text": [
      " 10%|█         | 25/250 [24:18<3:38:10, 58.18s/it]"
     ]
    },
    {
     "name": "stdout",
     "output_type": "stream",
     "text": [
      "Epoch 25\n",
      "Training loss: 1.7235721349716187\n",
      "Validation loss: 1.5377869606018066\n",
      "Current val loss: 1.5377869606018066\n",
      "Best val loss: 1.5745089054107666\n"
     ]
    },
    {
     "name": "stderr",
     "output_type": "stream",
     "text": [
      " 10%|█         | 26/250 [25:17<3:37:30, 58.26s/it]"
     ]
    },
    {
     "name": "stdout",
     "output_type": "stream",
     "text": [
      "Epoch 26\n",
      "Training loss: 1.6786431074142456\n",
      "Validation loss: 1.5036178827285767\n",
      "Current val loss: 1.5036178827285767\n",
      "Best val loss: 1.5377869606018066\n"
     ]
    },
    {
     "name": "stderr",
     "output_type": "stream",
     "text": [
      " 11%|█         | 27/250 [26:15<3:36:26, 58.24s/it]"
     ]
    },
    {
     "name": "stdout",
     "output_type": "stream",
     "text": [
      "Epoch 27\n",
      "Training loss: 1.6455893516540527\n",
      "Validation loss: 1.465163230895996\n",
      "Current val loss: 1.465163230895996\n",
      "Best val loss: 1.5036178827285767\n"
     ]
    },
    {
     "name": "stderr",
     "output_type": "stream",
     "text": [
      " 11%|█         | 28/250 [27:13<3:35:16, 58.18s/it]"
     ]
    },
    {
     "name": "stdout",
     "output_type": "stream",
     "text": [
      "Epoch 28\n",
      "Training loss: 1.5898911952972412\n",
      "Validation loss: 1.3798167705535889\n",
      "Current val loss: 1.3798167705535889\n",
      "Best val loss: 1.465163230895996\n"
     ]
    },
    {
     "name": "stderr",
     "output_type": "stream",
     "text": [
      " 12%|█▏        | 29/250 [28:11<3:34:13, 58.16s/it]"
     ]
    },
    {
     "name": "stdout",
     "output_type": "stream",
     "text": [
      "Epoch 29\n",
      "Training loss: 1.540360689163208\n",
      "Validation loss: 1.3319199085235596\n",
      "Current val loss: 1.3319199085235596\n",
      "Best val loss: 1.3798167705535889\n"
     ]
    },
    {
     "name": "stderr",
     "output_type": "stream",
     "text": [
      " 12%|█▏        | 30/250 [29:09<3:33:14, 58.16s/it]"
     ]
    },
    {
     "name": "stdout",
     "output_type": "stream",
     "text": [
      "Epoch 30\n",
      "Training loss: 1.487296462059021\n",
      "Validation loss: 1.284205675125122\n",
      "Current val loss: 1.284205675125122\n",
      "Best val loss: 1.3319199085235596\n"
     ]
    },
    {
     "name": "stderr",
     "output_type": "stream",
     "text": [
      " 12%|█▏        | 31/250 [30:08<3:32:12, 58.14s/it]"
     ]
    },
    {
     "name": "stdout",
     "output_type": "stream",
     "text": [
      "Epoch 31\n",
      "Training loss: 1.4459359645843506\n",
      "Validation loss: 1.2640671730041504\n",
      "Current val loss: 1.2640671730041504\n",
      "Best val loss: 1.284205675125122\n"
     ]
    },
    {
     "name": "stderr",
     "output_type": "stream",
     "text": [
      " 13%|█▎        | 32/250 [31:06<3:31:14, 58.14s/it]"
     ]
    },
    {
     "name": "stdout",
     "output_type": "stream",
     "text": [
      "Epoch 32\n",
      "Training loss: 1.4217431545257568\n",
      "Validation loss: 1.2599267959594727\n",
      "Current val loss: 1.2599267959594727\n",
      "Best val loss: 1.2640671730041504\n"
     ]
    },
    {
     "name": "stderr",
     "output_type": "stream",
     "text": [
      " 13%|█▎        | 33/250 [32:04<3:30:14, 58.13s/it]"
     ]
    },
    {
     "name": "stdout",
     "output_type": "stream",
     "text": [
      "Epoch 33\n",
      "Training loss: 1.4035887718200684\n",
      "Validation loss: 1.2403557300567627\n",
      "Current val loss: 1.2403557300567627\n",
      "Best val loss: 1.2599267959594727\n"
     ]
    },
    {
     "name": "stderr",
     "output_type": "stream",
     "text": [
      " 14%|█▎        | 34/250 [33:02<3:29:23, 58.16s/it]"
     ]
    },
    {
     "name": "stdout",
     "output_type": "stream",
     "text": [
      "Epoch 34\n",
      "Training loss: 1.3705881834030151\n",
      "Validation loss: 1.216085433959961\n",
      "Current val loss: 1.216085433959961\n",
      "Best val loss: 1.2403557300567627\n"
     ]
    },
    {
     "name": "stderr",
     "output_type": "stream",
     "text": [
      " 14%|█▍        | 35/250 [34:00<3:28:24, 58.16s/it]"
     ]
    },
    {
     "name": "stdout",
     "output_type": "stream",
     "text": [
      "Epoch 35\n",
      "Training loss: 1.3648581504821777\n",
      "Validation loss: 1.226932406425476\n",
      "Current val loss: 1.226932406425476\n",
      "Best val loss: 1.216085433959961\n"
     ]
    },
    {
     "name": "stderr",
     "output_type": "stream",
     "text": [
      " 14%|█▍        | 36/250 [34:59<3:27:52, 58.28s/it]"
     ]
    },
    {
     "name": "stdout",
     "output_type": "stream",
     "text": [
      "Epoch 36\n",
      "Training loss: 1.3337323665618896\n",
      "Validation loss: 1.1969163417816162\n",
      "Current val loss: 1.1969163417816162\n",
      "Best val loss: 1.216085433959961\n"
     ]
    },
    {
     "name": "stderr",
     "output_type": "stream",
     "text": [
      " 15%|█▍        | 37/250 [35:57<3:27:04, 58.33s/it]"
     ]
    },
    {
     "name": "stdout",
     "output_type": "stream",
     "text": [
      "Epoch 37\n",
      "Training loss: 1.3080518245697021\n",
      "Validation loss: 1.2217334508895874\n",
      "Current val loss: 1.2217334508895874\n",
      "Best val loss: 1.1969163417816162\n"
     ]
    },
    {
     "name": "stderr",
     "output_type": "stream",
     "text": [
      " 15%|█▌        | 38/250 [36:56<3:26:09, 58.35s/it]"
     ]
    },
    {
     "name": "stdout",
     "output_type": "stream",
     "text": [
      "Epoch 38\n",
      "Training loss: 1.280334711074829\n",
      "Validation loss: 1.191495418548584\n",
      "Current val loss: 1.191495418548584\n",
      "Best val loss: 1.1969163417816162\n"
     ]
    },
    {
     "name": "stderr",
     "output_type": "stream",
     "text": [
      " 16%|█▌        | 39/250 [37:54<3:25:21, 58.40s/it]"
     ]
    },
    {
     "name": "stdout",
     "output_type": "stream",
     "text": [
      "Epoch 39\n",
      "Training loss: 1.2749896049499512\n",
      "Validation loss: 1.1506474018096924\n",
      "Current val loss: 1.1506474018096924\n",
      "Best val loss: 1.191495418548584\n"
     ]
    },
    {
     "name": "stderr",
     "output_type": "stream",
     "text": [
      " 16%|█▌        | 40/250 [38:52<3:24:23, 58.40s/it]"
     ]
    },
    {
     "name": "stdout",
     "output_type": "stream",
     "text": [
      "Epoch 40\n",
      "Training loss: 1.2471072673797607\n",
      "Validation loss: 1.1572707891464233\n",
      "Current val loss: 1.1572707891464233\n",
      "Best val loss: 1.1506474018096924\n"
     ]
    },
    {
     "name": "stderr",
     "output_type": "stream",
     "text": [
      " 16%|█▋        | 41/250 [39:51<3:23:18, 58.36s/it]"
     ]
    },
    {
     "name": "stdout",
     "output_type": "stream",
     "text": [
      "Epoch 41\n",
      "Training loss: 1.2370797395706177\n",
      "Validation loss: 1.1396138668060303\n",
      "Current val loss: 1.1396138668060303\n",
      "Best val loss: 1.1506474018096924\n"
     ]
    },
    {
     "name": "stderr",
     "output_type": "stream",
     "text": [
      " 17%|█▋        | 42/250 [40:49<3:22:17, 58.35s/it]"
     ]
    },
    {
     "name": "stdout",
     "output_type": "stream",
     "text": [
      "Epoch 42\n",
      "Training loss: 1.2246649265289307\n",
      "Validation loss: 1.1304008960723877\n",
      "Current val loss: 1.1304008960723877\n",
      "Best val loss: 1.1396138668060303\n"
     ]
    },
    {
     "name": "stderr",
     "output_type": "stream",
     "text": [
      " 17%|█▋        | 43/250 [41:48<3:21:35, 58.43s/it]"
     ]
    },
    {
     "name": "stdout",
     "output_type": "stream",
     "text": [
      "Epoch 43\n",
      "Training loss: 1.2078332901000977\n",
      "Validation loss: 1.133994221687317\n",
      "Current val loss: 1.133994221687317\n",
      "Best val loss: 1.1304008960723877\n"
     ]
    },
    {
     "name": "stderr",
     "output_type": "stream",
     "text": [
      " 18%|█▊        | 44/250 [42:46<3:20:41, 58.45s/it]"
     ]
    },
    {
     "name": "stdout",
     "output_type": "stream",
     "text": [
      "Epoch 44\n",
      "Training loss: 1.2028758525848389\n",
      "Validation loss: 1.1363444328308105\n",
      "Current val loss: 1.1363444328308105\n",
      "Best val loss: 1.1304008960723877\n"
     ]
    },
    {
     "name": "stderr",
     "output_type": "stream",
     "text": [
      " 18%|█▊        | 45/250 [43:45<3:19:33, 58.41s/it]"
     ]
    },
    {
     "name": "stdout",
     "output_type": "stream",
     "text": [
      "Epoch 45\n",
      "Training loss: 1.1924573183059692\n",
      "Validation loss: 1.1007568836212158\n",
      "Current val loss: 1.1007568836212158\n",
      "Best val loss: 1.1304008960723877\n"
     ]
    },
    {
     "name": "stderr",
     "output_type": "stream",
     "text": [
      " 18%|█▊        | 46/250 [44:43<3:18:19, 58.33s/it]"
     ]
    },
    {
     "name": "stdout",
     "output_type": "stream",
     "text": [
      "Epoch 46\n",
      "Training loss: 1.1909399032592773\n",
      "Validation loss: 1.122450828552246\n",
      "Current val loss: 1.122450828552246\n",
      "Best val loss: 1.1007568836212158\n"
     ]
    },
    {
     "name": "stderr",
     "output_type": "stream",
     "text": [
      " 19%|█▉        | 47/250 [45:41<3:17:26, 58.36s/it]"
     ]
    },
    {
     "name": "stdout",
     "output_type": "stream",
     "text": [
      "Epoch 47\n",
      "Training loss: 1.1709414720535278\n",
      "Validation loss: 1.1096203327178955\n",
      "Current val loss: 1.1096203327178955\n",
      "Best val loss: 1.1007568836212158\n"
     ]
    },
    {
     "name": "stderr",
     "output_type": "stream",
     "text": [
      " 19%|█▉        | 48/250 [46:40<3:16:35, 58.39s/it]"
     ]
    },
    {
     "name": "stdout",
     "output_type": "stream",
     "text": [
      "Epoch 48\n",
      "Training loss: 1.165332555770874\n",
      "Validation loss: 1.087404489517212\n",
      "Current val loss: 1.087404489517212\n",
      "Best val loss: 1.1007568836212158\n"
     ]
    },
    {
     "name": "stderr",
     "output_type": "stream",
     "text": [
      " 20%|█▉        | 49/250 [47:38<3:15:40, 58.41s/it]"
     ]
    },
    {
     "name": "stdout",
     "output_type": "stream",
     "text": [
      "Epoch 49\n",
      "Training loss: 1.1579108238220215\n",
      "Validation loss: 1.0831263065338135\n",
      "Current val loss: 1.0831263065338135\n",
      "Best val loss: 1.087404489517212\n"
     ]
    },
    {
     "name": "stderr",
     "output_type": "stream",
     "text": [
      " 20%|██        | 50/250 [48:36<3:14:39, 58.40s/it]"
     ]
    },
    {
     "name": "stdout",
     "output_type": "stream",
     "text": [
      "Epoch 50\n",
      "Training loss: 1.1461929082870483\n",
      "Validation loss: 1.0799332857131958\n",
      "Current val loss: 1.0799332857131958\n",
      "Best val loss: 1.0831263065338135\n"
     ]
    },
    {
     "name": "stderr",
     "output_type": "stream",
     "text": [
      " 20%|██        | 51/250 [49:35<3:13:24, 58.31s/it]"
     ]
    },
    {
     "name": "stdout",
     "output_type": "stream",
     "text": [
      "Epoch 51\n",
      "Training loss: 1.1157331466674805\n",
      "Validation loss: 1.0607740879058838\n",
      "Current val loss: 1.0607740879058838\n",
      "Best val loss: 1.0799332857131958\n"
     ]
    },
    {
     "name": "stderr",
     "output_type": "stream",
     "text": [
      " 21%|██        | 52/250 [50:33<3:12:10, 58.23s/it]"
     ]
    },
    {
     "name": "stdout",
     "output_type": "stream",
     "text": [
      "Epoch 52\n",
      "Training loss: 1.1202328205108643\n",
      "Validation loss: 1.0461390018463135\n",
      "Current val loss: 1.0461390018463135\n",
      "Best val loss: 1.0607740879058838\n"
     ]
    },
    {
     "name": "stderr",
     "output_type": "stream",
     "text": [
      " 21%|██        | 53/250 [51:31<3:11:07, 58.21s/it]"
     ]
    },
    {
     "name": "stdout",
     "output_type": "stream",
     "text": [
      "Epoch 53\n",
      "Training loss: 1.1215035915374756\n",
      "Validation loss: 1.0401841402053833\n",
      "Current val loss: 1.0401841402053833\n",
      "Best val loss: 1.0461390018463135\n"
     ]
    },
    {
     "name": "stderr",
     "output_type": "stream",
     "text": [
      " 22%|██▏       | 54/250 [52:29<3:10:20, 58.27s/it]"
     ]
    },
    {
     "name": "stdout",
     "output_type": "stream",
     "text": [
      "Epoch 54\n",
      "Training loss: 1.1072252988815308\n",
      "Validation loss: 1.028294324874878\n",
      "Current val loss: 1.028294324874878\n",
      "Best val loss: 1.0401841402053833\n"
     ]
    },
    {
     "name": "stderr",
     "output_type": "stream",
     "text": [
      " 22%|██▏       | 55/250 [53:27<3:09:11, 58.21s/it]"
     ]
    },
    {
     "name": "stdout",
     "output_type": "stream",
     "text": [
      "Epoch 55\n",
      "Training loss: 1.0984017848968506\n",
      "Validation loss: 1.0295161008834839\n",
      "Current val loss: 1.0295161008834839\n",
      "Best val loss: 1.028294324874878\n"
     ]
    },
    {
     "name": "stderr",
     "output_type": "stream",
     "text": [
      " 22%|██▏       | 56/250 [54:26<3:08:22, 58.26s/it]"
     ]
    },
    {
     "name": "stdout",
     "output_type": "stream",
     "text": [
      "Epoch 56\n",
      "Training loss: 1.091274619102478\n",
      "Validation loss: 1.0175261497497559\n",
      "Current val loss: 1.0175261497497559\n",
      "Best val loss: 1.028294324874878\n"
     ]
    },
    {
     "name": "stderr",
     "output_type": "stream",
     "text": [
      " 23%|██▎       | 57/250 [55:24<3:07:26, 58.27s/it]"
     ]
    },
    {
     "name": "stdout",
     "output_type": "stream",
     "text": [
      "Epoch 57\n",
      "Training loss: 1.091212511062622\n",
      "Validation loss: 1.0007985830307007\n",
      "Current val loss: 1.0007985830307007\n",
      "Best val loss: 1.0175261497497559\n"
     ]
    },
    {
     "name": "stderr",
     "output_type": "stream",
     "text": [
      " 23%|██▎       | 58/250 [56:22<3:06:24, 58.25s/it]"
     ]
    },
    {
     "name": "stdout",
     "output_type": "stream",
     "text": [
      "Epoch 58\n",
      "Training loss: 1.0743144750595093\n",
      "Validation loss: 1.0143157243728638\n",
      "Current val loss: 1.0143157243728638\n",
      "Best val loss: 1.0007985830307007\n"
     ]
    },
    {
     "name": "stderr",
     "output_type": "stream",
     "text": [
      " 24%|██▎       | 59/250 [57:20<3:05:19, 58.22s/it]"
     ]
    },
    {
     "name": "stdout",
     "output_type": "stream",
     "text": [
      "Epoch 59\n",
      "Training loss: 1.0812809467315674\n",
      "Validation loss: 1.0059237480163574\n",
      "Current val loss: 1.0059237480163574\n",
      "Best val loss: 1.0007985830307007\n"
     ]
    },
    {
     "name": "stderr",
     "output_type": "stream",
     "text": [
      " 24%|██▍       | 60/250 [58:18<3:04:21, 58.22s/it]"
     ]
    },
    {
     "name": "stdout",
     "output_type": "stream",
     "text": [
      "Epoch 60\n",
      "Training loss: 1.0714884996414185\n",
      "Validation loss: 0.9934769868850708\n",
      "Current val loss: 0.9934769868850708\n",
      "Best val loss: 1.0007985830307007\n"
     ]
    },
    {
     "name": "stderr",
     "output_type": "stream",
     "text": [
      " 24%|██▍       | 61/250 [59:17<3:03:26, 58.24s/it]"
     ]
    },
    {
     "name": "stdout",
     "output_type": "stream",
     "text": [
      "Epoch 61\n",
      "Training loss: 1.063179612159729\n",
      "Validation loss: 0.9929711818695068\n",
      "Current val loss: 0.9929711818695068\n",
      "Best val loss: 0.9934769868850708\n"
     ]
    },
    {
     "name": "stderr",
     "output_type": "stream",
     "text": [
      " 25%|██▍       | 62/250 [1:00:15<3:02:17, 58.18s/it]"
     ]
    },
    {
     "name": "stdout",
     "output_type": "stream",
     "text": [
      "Epoch 62\n",
      "Training loss: 1.0630507469177246\n",
      "Validation loss: 0.9976683855056763\n",
      "Current val loss: 0.9976683855056763\n",
      "Best val loss: 0.9929711818695068\n"
     ]
    },
    {
     "name": "stderr",
     "output_type": "stream",
     "text": [
      " 25%|██▌       | 63/250 [1:01:13<3:01:36, 58.27s/it]"
     ]
    },
    {
     "name": "stdout",
     "output_type": "stream",
     "text": [
      "Epoch 63\n",
      "Training loss: 1.050351858139038\n",
      "Validation loss: 0.9759358167648315\n",
      "Current val loss: 0.9759358167648315\n",
      "Best val loss: 0.9929711818695068\n"
     ]
    },
    {
     "name": "stderr",
     "output_type": "stream",
     "text": [
      " 26%|██▌       | 64/250 [1:02:12<3:00:39, 58.27s/it]"
     ]
    },
    {
     "name": "stdout",
     "output_type": "stream",
     "text": [
      "Epoch 64\n",
      "Training loss: 1.0566887855529785\n",
      "Validation loss: 0.984043538570404\n",
      "Current val loss: 0.984043538570404\n",
      "Best val loss: 0.9759358167648315\n"
     ]
    },
    {
     "name": "stderr",
     "output_type": "stream",
     "text": [
      " 26%|██▌       | 65/250 [1:03:10<2:59:37, 58.26s/it]"
     ]
    },
    {
     "name": "stdout",
     "output_type": "stream",
     "text": [
      "Epoch 65\n",
      "Training loss: 1.0467796325683594\n",
      "Validation loss: 0.9970542788505554\n",
      "Current val loss: 0.9970542788505554\n",
      "Best val loss: 0.9759358167648315\n"
     ]
    },
    {
     "name": "stderr",
     "output_type": "stream",
     "text": [
      " 26%|██▋       | 66/250 [1:04:08<2:58:33, 58.23s/it]"
     ]
    },
    {
     "name": "stdout",
     "output_type": "stream",
     "text": [
      "Epoch 66\n",
      "Training loss: 1.0441794395446777\n",
      "Validation loss: 0.9748585224151611\n",
      "Current val loss: 0.9748585224151611\n",
      "Best val loss: 0.9759358167648315\n"
     ]
    },
    {
     "name": "stderr",
     "output_type": "stream",
     "text": [
      " 27%|██▋       | 67/250 [1:05:06<2:57:33, 58.21s/it]"
     ]
    },
    {
     "name": "stdout",
     "output_type": "stream",
     "text": [
      "Epoch 67\n",
      "Training loss: 1.0428411960601807\n",
      "Validation loss: 0.9773572683334351\n",
      "Current val loss: 0.9773572683334351\n",
      "Best val loss: 0.9748585224151611\n"
     ]
    },
    {
     "name": "stderr",
     "output_type": "stream",
     "text": [
      " 27%|██▋       | 68/250 [1:06:04<2:56:38, 58.23s/it]"
     ]
    },
    {
     "name": "stdout",
     "output_type": "stream",
     "text": [
      "Epoch 68\n",
      "Training loss: 1.032789707183838\n",
      "Validation loss: 0.9791557192802429\n",
      "Current val loss: 0.9791557192802429\n",
      "Best val loss: 0.9748585224151611\n"
     ]
    },
    {
     "name": "stderr",
     "output_type": "stream",
     "text": [
      " 28%|██▊       | 69/250 [1:07:03<2:55:55, 58.32s/it]"
     ]
    },
    {
     "name": "stdout",
     "output_type": "stream",
     "text": [
      "Epoch 69\n",
      "Training loss: 1.0220133066177368\n",
      "Validation loss: 0.959693431854248\n",
      "Current val loss: 0.959693431854248\n",
      "Best val loss: 0.9748585224151611\n"
     ]
    },
    {
     "name": "stderr",
     "output_type": "stream",
     "text": [
      " 28%|██▊       | 70/250 [1:08:01<2:55:04, 58.36s/it]"
     ]
    },
    {
     "name": "stdout",
     "output_type": "stream",
     "text": [
      "Epoch 70\n",
      "Training loss: 1.0122506618499756\n",
      "Validation loss: 0.9566732048988342\n",
      "Current val loss: 0.9566732048988342\n",
      "Best val loss: 0.959693431854248\n"
     ]
    },
    {
     "name": "stderr",
     "output_type": "stream",
     "text": [
      " 28%|██▊       | 71/250 [1:09:00<2:53:59, 58.32s/it]"
     ]
    },
    {
     "name": "stdout",
     "output_type": "stream",
     "text": [
      "Epoch 71\n",
      "Training loss: 1.0200444459915161\n",
      "Validation loss: 0.9635626077651978\n",
      "Current val loss: 0.9635626077651978\n",
      "Best val loss: 0.9566732048988342\n"
     ]
    },
    {
     "name": "stderr",
     "output_type": "stream",
     "text": [
      " 29%|██▉       | 72/250 [1:09:58<2:53:09, 58.37s/it]"
     ]
    },
    {
     "name": "stdout",
     "output_type": "stream",
     "text": [
      "Epoch 72\n",
      "Training loss: 1.018088936805725\n",
      "Validation loss: 0.975295901298523\n",
      "Current val loss: 0.975295901298523\n",
      "Best val loss: 0.9566732048988342\n"
     ]
    },
    {
     "name": "stderr",
     "output_type": "stream",
     "text": [
      " 29%|██▉       | 73/250 [1:10:56<2:52:07, 58.35s/it]"
     ]
    },
    {
     "name": "stdout",
     "output_type": "stream",
     "text": [
      "Epoch 73\n",
      "Training loss: 1.0138972997665405\n",
      "Validation loss: 0.9494810700416565\n",
      "Current val loss: 0.9494810700416565\n",
      "Best val loss: 0.9566732048988342\n"
     ]
    },
    {
     "name": "stderr",
     "output_type": "stream",
     "text": [
      " 30%|██▉       | 74/250 [1:11:55<2:51:18, 58.40s/it]"
     ]
    },
    {
     "name": "stdout",
     "output_type": "stream",
     "text": [
      "Epoch 74\n",
      "Training loss: 1.0114713907241821\n",
      "Validation loss: 0.9446799159049988\n",
      "Current val loss: 0.9446799159049988\n",
      "Best val loss: 0.9494810700416565\n"
     ]
    },
    {
     "name": "stderr",
     "output_type": "stream",
     "text": [
      " 30%|███       | 75/250 [1:12:53<2:50:18, 58.39s/it]"
     ]
    },
    {
     "name": "stdout",
     "output_type": "stream",
     "text": [
      "Epoch 75\n",
      "Training loss: 1.003203272819519\n",
      "Validation loss: 0.9463571310043335\n",
      "Current val loss: 0.9463571310043335\n",
      "Best val loss: 0.9446799159049988\n"
     ]
    },
    {
     "name": "stderr",
     "output_type": "stream",
     "text": [
      " 30%|███       | 76/250 [1:13:52<2:49:16, 58.37s/it]"
     ]
    },
    {
     "name": "stdout",
     "output_type": "stream",
     "text": [
      "Epoch 76\n",
      "Training loss: 0.9971848726272583\n",
      "Validation loss: 0.9518428444862366\n",
      "Current val loss: 0.9518428444862366\n",
      "Best val loss: 0.9446799159049988\n"
     ]
    },
    {
     "name": "stderr",
     "output_type": "stream",
     "text": [
      " 31%|███       | 77/250 [1:14:50<2:48:03, 58.29s/it]"
     ]
    },
    {
     "name": "stdout",
     "output_type": "stream",
     "text": [
      "Epoch 77\n",
      "Training loss: 1.0036275386810303\n",
      "Validation loss: 0.9566763639450073\n",
      "Current val loss: 0.9566763639450073\n",
      "Best val loss: 0.9446799159049988\n"
     ]
    },
    {
     "name": "stderr",
     "output_type": "stream",
     "text": [
      " 31%|███       | 78/250 [1:15:48<2:47:09, 58.31s/it]"
     ]
    },
    {
     "name": "stdout",
     "output_type": "stream",
     "text": [
      "Epoch 78\n",
      "Training loss: 0.9947186708450317\n",
      "Validation loss: 0.9330195188522339\n",
      "Current val loss: 0.9330195188522339\n",
      "Best val loss: 0.9446799159049988\n"
     ]
    },
    {
     "name": "stderr",
     "output_type": "stream",
     "text": [
      " 32%|███▏      | 79/250 [1:16:46<2:46:19, 58.36s/it]"
     ]
    },
    {
     "name": "stdout",
     "output_type": "stream",
     "text": [
      "Epoch 79\n",
      "Training loss: 0.9890596270561218\n",
      "Validation loss: 0.9275685548782349\n",
      "Current val loss: 0.9275685548782349\n",
      "Best val loss: 0.9330195188522339\n"
     ]
    },
    {
     "name": "stderr",
     "output_type": "stream",
     "text": [
      " 32%|███▏      | 80/250 [1:17:45<2:45:19, 58.35s/it]"
     ]
    },
    {
     "name": "stdout",
     "output_type": "stream",
     "text": [
      "Epoch 80\n",
      "Training loss: 0.9794255495071411\n",
      "Validation loss: 0.9237344264984131\n",
      "Current val loss: 0.9237344264984131\n",
      "Best val loss: 0.9275685548782349\n"
     ]
    },
    {
     "name": "stderr",
     "output_type": "stream",
     "text": [
      " 32%|███▏      | 81/250 [1:18:43<2:44:16, 58.32s/it]"
     ]
    },
    {
     "name": "stdout",
     "output_type": "stream",
     "text": [
      "Epoch 81\n",
      "Training loss: 0.9809275269508362\n",
      "Validation loss: 0.9416310787200928\n",
      "Current val loss: 0.9416310787200928\n",
      "Best val loss: 0.9237344264984131\n"
     ]
    },
    {
     "name": "stderr",
     "output_type": "stream",
     "text": [
      " 33%|███▎      | 82/250 [1:19:41<2:43:22, 58.35s/it]"
     ]
    },
    {
     "name": "stdout",
     "output_type": "stream",
     "text": [
      "Epoch 82\n",
      "Training loss: 0.9810054302215576\n",
      "Validation loss: 0.9306790828704834\n",
      "Current val loss: 0.9306790828704834\n",
      "Best val loss: 0.9237344264984131\n"
     ]
    },
    {
     "name": "stderr",
     "output_type": "stream",
     "text": [
      " 33%|███▎      | 83/250 [1:20:40<2:42:16, 58.30s/it]"
     ]
    },
    {
     "name": "stdout",
     "output_type": "stream",
     "text": [
      "Epoch 83\n",
      "Training loss: 0.9639750123023987\n",
      "Validation loss: 0.9368698596954346\n",
      "Current val loss: 0.9368698596954346\n",
      "Best val loss: 0.9237344264984131\n"
     ]
    },
    {
     "name": "stderr",
     "output_type": "stream",
     "text": [
      " 34%|███▎      | 84/250 [1:21:38<2:41:07, 58.24s/it]"
     ]
    },
    {
     "name": "stdout",
     "output_type": "stream",
     "text": [
      "Epoch 84\n",
      "Training loss: 0.9674317240715027\n",
      "Validation loss: 0.9283945560455322\n",
      "Current val loss: 0.9283945560455322\n",
      "Best val loss: 0.9237344264984131\n"
     ]
    },
    {
     "name": "stderr",
     "output_type": "stream",
     "text": [
      " 34%|███▍      | 85/250 [1:22:36<2:40:14, 58.27s/it]"
     ]
    },
    {
     "name": "stdout",
     "output_type": "stream",
     "text": [
      "Epoch 85\n",
      "Training loss: 0.972814679145813\n",
      "Validation loss: 0.9247502088546753\n",
      "Current val loss: 0.9247502088546753\n",
      "Best val loss: 0.9237344264984131\n"
     ]
    },
    {
     "name": "stderr",
     "output_type": "stream",
     "text": [
      " 34%|███▍      | 86/250 [1:23:34<2:39:21, 58.30s/it]"
     ]
    },
    {
     "name": "stdout",
     "output_type": "stream",
     "text": [
      "Epoch 86\n",
      "Training loss: 0.9662120342254639\n",
      "Validation loss: 0.9258418679237366\n",
      "Current val loss: 0.9258418679237366\n",
      "Best val loss: 0.9237344264984131\n"
     ]
    },
    {
     "name": "stderr",
     "output_type": "stream",
     "text": [
      " 35%|███▍      | 87/250 [1:24:33<2:38:25, 58.32s/it]"
     ]
    },
    {
     "name": "stdout",
     "output_type": "stream",
     "text": [
      "Epoch 87\n",
      "Training loss: 0.9560416340827942\n",
      "Validation loss: 0.9236768484115601\n",
      "Current val loss: 0.9236768484115601\n",
      "Best val loss: 0.9237344264984131\n"
     ]
    },
    {
     "name": "stderr",
     "output_type": "stream",
     "text": [
      " 35%|███▌      | 88/250 [1:25:31<2:37:15, 58.25s/it]"
     ]
    },
    {
     "name": "stdout",
     "output_type": "stream",
     "text": [
      "Epoch 88\n",
      "Training loss: 0.9535219073295593\n",
      "Validation loss: 0.9301518797874451\n",
      "Current val loss: 0.9301518797874451\n",
      "Best val loss: 0.9236768484115601\n"
     ]
    },
    {
     "name": "stderr",
     "output_type": "stream",
     "text": [
      " 36%|███▌      | 89/250 [1:26:29<2:36:02, 58.15s/it]"
     ]
    },
    {
     "name": "stdout",
     "output_type": "stream",
     "text": [
      "Epoch 89\n",
      "Training loss: 0.9586297869682312\n",
      "Validation loss: 0.9187029600143433\n",
      "Current val loss: 0.9187029600143433\n",
      "Best val loss: 0.9236768484115601\n"
     ]
    },
    {
     "name": "stderr",
     "output_type": "stream",
     "text": [
      " 36%|███▌      | 90/250 [1:27:27<2:35:06, 58.16s/it]"
     ]
    },
    {
     "name": "stdout",
     "output_type": "stream",
     "text": [
      "Epoch 90\n",
      "Training loss: 0.9497878551483154\n",
      "Validation loss: 0.9074569940567017\n",
      "Current val loss: 0.9074569940567017\n",
      "Best val loss: 0.9187029600143433\n"
     ]
    },
    {
     "name": "stderr",
     "output_type": "stream",
     "text": [
      " 36%|███▋      | 91/250 [1:28:25<2:34:17, 58.22s/it]"
     ]
    },
    {
     "name": "stdout",
     "output_type": "stream",
     "text": [
      "Epoch 91\n",
      "Training loss: 0.946214497089386\n",
      "Validation loss: 0.9057830572128296\n",
      "Current val loss: 0.9057830572128296\n",
      "Best val loss: 0.9074569940567017\n"
     ]
    },
    {
     "name": "stderr",
     "output_type": "stream",
     "text": [
      " 37%|███▋      | 92/250 [1:29:24<2:33:15, 58.20s/it]"
     ]
    },
    {
     "name": "stdout",
     "output_type": "stream",
     "text": [
      "Epoch 92\n",
      "Training loss: 0.9389116168022156\n",
      "Validation loss: 0.9130684733390808\n",
      "Current val loss: 0.9130684733390808\n",
      "Best val loss: 0.9057830572128296\n"
     ]
    },
    {
     "name": "stderr",
     "output_type": "stream",
     "text": [
      " 37%|███▋      | 93/250 [1:30:22<2:32:13, 58.18s/it]"
     ]
    },
    {
     "name": "stdout",
     "output_type": "stream",
     "text": [
      "Epoch 93\n",
      "Training loss: 0.9261351227760315\n",
      "Validation loss: 0.8859202861785889\n",
      "Current val loss: 0.8859202861785889\n",
      "Best val loss: 0.9057830572128296\n"
     ]
    },
    {
     "name": "stderr",
     "output_type": "stream",
     "text": [
      " 38%|███▊      | 94/250 [1:31:20<2:31:07, 58.13s/it]"
     ]
    },
    {
     "name": "stdout",
     "output_type": "stream",
     "text": [
      "Epoch 94\n",
      "Training loss: 0.9259905815124512\n",
      "Validation loss: 0.9168362617492676\n",
      "Current val loss: 0.9168362617492676\n",
      "Best val loss: 0.8859202861785889\n"
     ]
    },
    {
     "name": "stderr",
     "output_type": "stream",
     "text": [
      " 38%|███▊      | 95/250 [1:32:18<2:30:22, 58.21s/it]"
     ]
    },
    {
     "name": "stdout",
     "output_type": "stream",
     "text": [
      "Epoch 95\n",
      "Training loss: 0.927530825138092\n",
      "Validation loss: 0.9183875322341919\n",
      "Current val loss: 0.9183875322341919\n",
      "Best val loss: 0.8859202861785889\n"
     ]
    },
    {
     "name": "stderr",
     "output_type": "stream",
     "text": [
      " 38%|███▊      | 96/250 [1:33:16<2:29:16, 58.16s/it]"
     ]
    },
    {
     "name": "stdout",
     "output_type": "stream",
     "text": [
      "Epoch 96\n",
      "Training loss: 0.9231702089309692\n",
      "Validation loss: 0.905154824256897\n",
      "Current val loss: 0.905154824256897\n",
      "Best val loss: 0.8859202861785889\n"
     ]
    },
    {
     "name": "stderr",
     "output_type": "stream",
     "text": [
      " 39%|███▉      | 97/250 [1:34:14<2:28:20, 58.17s/it]"
     ]
    },
    {
     "name": "stdout",
     "output_type": "stream",
     "text": [
      "Epoch 97\n",
      "Training loss: 0.9150241017341614\n",
      "Validation loss: 0.9113094806671143\n",
      "Current val loss: 0.9113094806671143\n",
      "Best val loss: 0.8859202861785889\n"
     ]
    },
    {
     "name": "stderr",
     "output_type": "stream",
     "text": [
      " 39%|███▉      | 98/250 [1:35:13<2:27:35, 58.26s/it]"
     ]
    },
    {
     "name": "stdout",
     "output_type": "stream",
     "text": [
      "Epoch 98\n",
      "Training loss: 0.921328604221344\n",
      "Validation loss: 0.9197138547897339\n",
      "Current val loss: 0.9197138547897339\n",
      "Best val loss: 0.8859202861785889\n"
     ]
    },
    {
     "name": "stderr",
     "output_type": "stream",
     "text": [
      " 40%|███▉      | 99/250 [1:36:11<2:26:47, 58.33s/it]"
     ]
    },
    {
     "name": "stdout",
     "output_type": "stream",
     "text": [
      "Epoch 99\n",
      "Training loss: 0.9168237447738647\n",
      "Validation loss: 0.9108394980430603\n",
      "Current val loss: 0.9108394980430603\n",
      "Best val loss: 0.8859202861785889\n"
     ]
    },
    {
     "name": "stderr",
     "output_type": "stream",
     "text": [
      " 40%|████      | 100/250 [1:37:10<2:25:53, 58.36s/it]"
     ]
    },
    {
     "name": "stdout",
     "output_type": "stream",
     "text": [
      "Epoch 100\n",
      "Training loss: 0.9040654897689819\n",
      "Validation loss: 0.919602632522583\n",
      "Current val loss: 0.919602632522583\n",
      "Best val loss: 0.8859202861785889\n"
     ]
    },
    {
     "name": "stderr",
     "output_type": "stream",
     "text": [
      " 40%|████      | 101/250 [1:38:08<2:24:57, 58.37s/it]"
     ]
    },
    {
     "name": "stdout",
     "output_type": "stream",
     "text": [
      "Epoch 101\n",
      "Training loss: 0.9013394117355347\n",
      "Validation loss: 0.9317436814308167\n",
      "Current val loss: 0.9317436814308167\n",
      "Best val loss: 0.8859202861785889\n"
     ]
    },
    {
     "name": "stderr",
     "output_type": "stream",
     "text": [
      " 41%|████      | 102/250 [1:39:06<2:23:57, 58.36s/it]"
     ]
    },
    {
     "name": "stdout",
     "output_type": "stream",
     "text": [
      "Epoch 102\n",
      "Training loss: 0.907595694065094\n",
      "Validation loss: 0.9355772733688354\n",
      "Current val loss: 0.9355772733688354\n",
      "Best val loss: 0.8859202861785889\n"
     ]
    },
    {
     "name": "stderr",
     "output_type": "stream",
     "text": [
      " 41%|████      | 102/250 [1:40:05<2:25:13, 58.88s/it]"
     ]
    },
    {
     "name": "stdout",
     "output_type": "stream",
     "text": [
      "Epoch 103\n",
      "Training loss: 0.9023496508598328\n",
      "Validation loss: 0.9120012521743774\n",
      "Current val loss: 0.9120012521743774\n",
      "Best val loss: 0.8859202861785889\n",
      "Early stopping triggered\n",
      "==============================\n"
     ]
    },
    {
     "name": "stderr",
     "output_type": "stream",
     "text": [
      "\n"
     ]
    },
    {
     "ename": "TypeError",
     "evalue": "save_to_file() got an unexpected keyword argument 'fc_dr'",
     "output_type": "error",
     "traceback": [
      "\u001b[0;31m---------------------------------------------------------------------------\u001b[0m",
      "\u001b[0;31mTypeError\u001b[0m                                 Traceback (most recent call last)",
      "\u001b[0;32m/tmp/ipykernel_15979/4069541150.py\u001b[0m in \u001b[0;36m<module>\u001b[0;34m\u001b[0m\n\u001b[1;32m     95\u001b[0m \u001b[0mprint\u001b[0m\u001b[0;34m(\u001b[0m\u001b[0;34m'==='\u001b[0m\u001b[0;34m*\u001b[0m\u001b[0;36m10\u001b[0m\u001b[0;34m)\u001b[0m\u001b[0;34m\u001b[0m\u001b[0;34m\u001b[0m\u001b[0m\n\u001b[1;32m     96\u001b[0m \u001b[0;31m# torch.save(model.state_dict(), '/mnt/storageG1/lwang/Projects/tb_dr_MIC/saved_models/final_seq_model1-44ep.pt')\u001b[0m\u001b[0;34m\u001b[0m\u001b[0;34m\u001b[0m\u001b[0m\n\u001b[0;32m---> 97\u001b[0;31m \u001b[0msave_to_file\u001b[0m\u001b[0;34m(\u001b[0m\u001b[0;34m'trials3.txt'\u001b[0m\u001b[0;34m,\u001b[0m \u001b[0;34m'training_final1'\u001b[0m \u001b[0;34m,\u001b[0m\u001b[0mepoch\u001b[0m\u001b[0;34m,\u001b[0m \u001b[0mlr\u001b[0m\u001b[0;34m=\u001b[0m\u001b[0;36m1e-4\u001b[0m\u001b[0;34m,\u001b[0m \u001b[0mfc_dr\u001b[0m\u001b[0;34m=\u001b[0m\u001b[0;36m0.2\u001b[0m\u001b[0;34m,\u001b[0m \u001b[0ml2\u001b[0m\u001b[0;34m=\u001b[0m\u001b[0;36m1e-9\u001b[0m\u001b[0;34m,\u001b[0m \u001b[0mtrain_loss\u001b[0m \u001b[0;34m=\u001b[0m \u001b[0mtrain_epoch_loss\u001b[0m\u001b[0;34m,\u001b[0m \u001b[0mtest_loss\u001b[0m \u001b[0;34m=\u001b[0m \u001b[0mtest_epoch_loss\u001b[0m\u001b[0;34m)\u001b[0m\u001b[0;34m\u001b[0m\u001b[0;34m\u001b[0m\u001b[0m\n\u001b[0m\u001b[1;32m     98\u001b[0m \u001b[0;34m\u001b[0m\u001b[0m\n\u001b[1;32m     99\u001b[0m \u001b[0mfig\u001b[0m\u001b[0;34m,\u001b[0m \u001b[0max\u001b[0m \u001b[0;34m=\u001b[0m \u001b[0mplt\u001b[0m\u001b[0;34m.\u001b[0m\u001b[0msubplots\u001b[0m\u001b[0;34m(\u001b[0m\u001b[0;34m)\u001b[0m\u001b[0;34m\u001b[0m\u001b[0;34m\u001b[0m\u001b[0m\n",
      "\u001b[0;31mTypeError\u001b[0m: save_to_file() got an unexpected keyword argument 'fc_dr'"
     ]
    }
   ],
   "source": [
    "torch.cuda.empty_cache()\n",
    "import gc; gc.collect()\n",
    "# ic.enable()\n",
    "ic.disable()\n",
    "\n",
    "train_epoch_loss = []\n",
    "test_epoch_loss = []\n",
    "\n",
    "\n",
    "\n",
    "for e in tqdm(range(1, epoch+1)):\n",
    "    model.train()\n",
    "    train_batch_loss = []\n",
    "    test_batch_loss = []\n",
    "    # print(f'Epoch {e}')\n",
    "    for x_train, y_train in train_loader:\n",
    "        x_batch = torch.squeeze(x_train, 0).to(device)\n",
    "        y_batch = y_train.to(device)\n",
    "        x_batch = x_batch.float()\n",
    "        y_batch = y_batch.float()\n",
    "        # y_batch = y_batch.view(-1)\n",
    "        # y_batch = one_hot_torch(y).to(device)\n",
    "        # print('batch y size before flatten:',y_batch.size())\n",
    "        # y_batch = y_batch.flatten()\n",
    "        # print('batch y size after flatten:',y_batch.size())\n",
    "        # print(x_batch.size())\n",
    "        # print(x_batch.size())\n",
    "    # For example, if you have a convolutional layer with 64 output channels, 3 input channels, and a kernel size of 3x3, the weight parameters would have a dimension of (64, 3, 3, 3)\n",
    "        # print(x_batch.size())\n",
    "        pred = model(x_batch.float())\n",
    "        # print('y_batch')\n",
    "        # print(y_batch)\n",
    "        # print('pred')\n",
    "        # print(pred)\n",
    "        # pred = pred.unsqueeze(0)\n",
    "        # ic(pred)\n",
    "        # ic(y_batch)\n",
    "        ic(pred.size())\n",
    "        loss_train = criterion(y_batch, pred)\n",
    "        # print('loss_train')\n",
    "        # print(loss_train)\n",
    "        train_batch_loss.append(loss_train)\n",
    "        \n",
    "        optimizer.zero_grad()\n",
    "        loss_train.backward()\n",
    "        optimizer.step()\n",
    "        # print(f'Batch - GPU Memory Allocated: {torch.cuda.memory_allocated() / 1024**2:.2f} MB')\n",
    "\n",
    "    train_epoch_loss.append(torch.mean(torch.stack(train_batch_loss)).detach().cpu().numpy())\n",
    "    model.eval()\n",
    "    with torch.no_grad():\n",
    "        # print('>> test')\n",
    "        for x_test, y_test in test_loader:\n",
    "            x_batch = torch.squeeze(x_test, 0).to(device)\n",
    "            x_batch = x_batch.float()\n",
    "            y_batch = y_test.float().to(device)\n",
    "            # print(x_batch.size())\n",
    "            # y_batch = torch.Tensor.float(y).to(device)\n",
    "            # x_batch = x_batch.permute(0, 3, 1, 2).to(device)\n",
    "            pred = model(x_batch.float())\n",
    "            # pred = pred.unsqueeze(0)\n",
    "\n",
    "            loss_test = criterion(y_batch, pred)\n",
    "            test_batch_loss.append(loss_test)\n",
    "        test_epoch_loss.append(torch.mean(torch.stack(test_batch_loss)).detach().cpu().numpy())\n",
    "\n",
    "    print(f'Epoch {e}')\n",
    "    print(f\"Training loss: {torch.mean(torch.stack(train_batch_loss)).detach().cpu().numpy()}\")\n",
    "    print(f\"Validation loss: {torch.mean(torch.stack(test_batch_loss)).detach().cpu().numpy()}\") \n",
    "    # scheduler.step(torch.mean(torch.stack(test_batch_loss)))\n",
    "    # print(train_batch_loss)\n",
    "    # print(test_batch_loss)\n",
    "    # print(f\"Training loss: {np.mean(train_batch_loss)}\")\n",
    "    # print(f\"Validation loss: {np.mean(test_batch_loss)}\")\n",
    "    #! implementing early stopping\n",
    "    current_val_loss = torch.mean(torch.stack(test_batch_loss)).detach().cpu().numpy()\n",
    "    print(f'Current val loss: {current_val_loss}')\n",
    "    print(f'Best val loss: {best_val_loss}')\n",
    "    if current_val_loss < best_val_loss:\n",
    "        best_val_loss = current_val_loss\n",
    "        patience_counter = 0  # reset patience counter\n",
    "        # Save the best model\n",
    "        # torch.save(model.state_dict(), '/mnt/storageG1/lwang/Projects/tb_dr_MIC/saved_models/aa-model_final.pth')\n",
    "\n",
    "    else:\n",
    "        patience_counter += 1\n",
    "        if patience_counter >= patience:\n",
    "            print(\"Early stopping triggered\")\n",
    "            torch.save({\n",
    "            'optimizer': optimizer.state_dict(),\n",
    "            'model': model.state_dict(),\n",
    "        }, '/mnt/storageG1/lwang/Projects/tb_dr_MIC_v2/saved_models/aa-model_final1.pth')\n",
    "            break  # Early stopping\n",
    "        \n",
    "print('==='*10)\n",
    "# torch.save(model.state_dict(), '/mnt/storageG1/lwang/Projects/tb_dr_MIC/saved_models/final_seq_model1-44ep.pt')\n",
    "save_to_file('trials3.txt', 'training_final1' ,epoch, lr=1e-4, fc_dr=0.2, l2=1e-9, train_loss = train_epoch_loss, test_loss = test_epoch_loss)\n",
    "\n",
    "fig, ax = plt.subplots()\n",
    "x = np.arange(1, epoch+1, 1)\n",
    "ax.plot(x, train_epoch_loss,label='Training')\n",
    "# ax.plot(x, test_epoch_loss,label='Validation')\n",
    "ax.legend()\n",
    "ax.set_xlabel(\"Number of Epoch\")\n",
    "ax.set_ylabel(\"Loss\")\n",
    "ax.set_xticks(np.arange(0, epoch+1, 10))\n",
    "ax.set_title(f'Loss: Learning_rate:{lr}')\n",
    "# ax_2 = ax.twinx()\n",
    "# ax_2.plot(history[\"lr\"], \"k--\", lw=1)\n",
    "# ax_2.set_yscale(\"log\")\n",
    "# ax.set_ylim(ax.get_ylim()[0], history[\"training_losses\"][0])\n",
    "ax.grid(axis=\"x\")\n",
    "fig.tight_layout()\n",
    "fig.show()\n",
    "fig.savefig(f'./graphs1/loss_lr_{lr}_final1.png')\n",
    "print(f'./graphs1/loss_lr_{lr}_final1.png')\n",
    "\n",
    "# torch.save({\n",
    "#     'optimizer': optimizer.state_dict(),\n",
    "#     'model': model.state_dict(),\n",
    "# }, '/mnt/storageG1/lwang/Projects/tb_dr_MIC/saved_models/seq-{appendix}-{epoch}-{lr}-{cnndr}-{fcdr}-{l2}.pth')"
   ]
  },
  {
   "cell_type": "code",
   "execution_count": 12,
   "metadata": {},
   "outputs": [
    {
     "ename": "ValueError",
     "evalue": "x and y must have same first dimension, but have shapes (80,) and (10800,)",
     "output_type": "error",
     "traceback": [
      "\u001b[0;31m---------------------------------------------------------------------------\u001b[0m",
      "\u001b[0;31mValueError\u001b[0m                                Traceback (most recent call last)",
      "\u001b[0;32m/tmp/ipykernel_121505/2026533407.py\u001b[0m in \u001b[0;36m<module>\u001b[0;34m\u001b[0m\n\u001b[1;32m      1\u001b[0m \u001b[0mfig\u001b[0m\u001b[0;34m,\u001b[0m \u001b[0max\u001b[0m \u001b[0;34m=\u001b[0m \u001b[0mplt\u001b[0m\u001b[0;34m.\u001b[0m\u001b[0msubplots\u001b[0m\u001b[0;34m(\u001b[0m\u001b[0;34m)\u001b[0m\u001b[0;34m\u001b[0m\u001b[0;34m\u001b[0m\u001b[0m\n\u001b[1;32m      2\u001b[0m \u001b[0mx\u001b[0m \u001b[0;34m=\u001b[0m \u001b[0mnp\u001b[0m\u001b[0;34m.\u001b[0m\u001b[0marange\u001b[0m\u001b[0;34m(\u001b[0m\u001b[0;36m1\u001b[0m\u001b[0;34m,\u001b[0m \u001b[0mepoch\u001b[0m\u001b[0;34m+\u001b[0m\u001b[0;36m1\u001b[0m\u001b[0;34m,\u001b[0m \u001b[0;36m1\u001b[0m\u001b[0;34m)\u001b[0m\u001b[0;34m\u001b[0m\u001b[0;34m\u001b[0m\u001b[0m\n\u001b[0;32m----> 3\u001b[0;31m \u001b[0max\u001b[0m\u001b[0;34m.\u001b[0m\u001b[0mplot\u001b[0m\u001b[0;34m(\u001b[0m\u001b[0mx\u001b[0m\u001b[0;34m,\u001b[0m \u001b[0mtrain_epoch_loss\u001b[0m\u001b[0;34m,\u001b[0m\u001b[0mlabel\u001b[0m\u001b[0;34m=\u001b[0m\u001b[0;34m'Training'\u001b[0m\u001b[0;34m)\u001b[0m\u001b[0;34m\u001b[0m\u001b[0;34m\u001b[0m\u001b[0m\n\u001b[0m\u001b[1;32m      4\u001b[0m \u001b[0;31m# ax.plot(x, test_epoch_loss,label='Validation')\u001b[0m\u001b[0;34m\u001b[0m\u001b[0;34m\u001b[0m\u001b[0m\n\u001b[1;32m      5\u001b[0m \u001b[0max\u001b[0m\u001b[0;34m.\u001b[0m\u001b[0mlegend\u001b[0m\u001b[0;34m(\u001b[0m\u001b[0;34m)\u001b[0m\u001b[0;34m\u001b[0m\u001b[0;34m\u001b[0m\u001b[0m\n",
      "\u001b[0;32m/mnt/storageG1/lwang/miniconda3/envs/ml-workshop/lib/python3.9/site-packages/matplotlib/axes/_axes.py\u001b[0m in \u001b[0;36mplot\u001b[0;34m(self, scalex, scaley, data, *args, **kwargs)\u001b[0m\n\u001b[1;32m   1630\u001b[0m         \"\"\"\n\u001b[1;32m   1631\u001b[0m         \u001b[0mkwargs\u001b[0m \u001b[0;34m=\u001b[0m \u001b[0mcbook\u001b[0m\u001b[0;34m.\u001b[0m\u001b[0mnormalize_kwargs\u001b[0m\u001b[0;34m(\u001b[0m\u001b[0mkwargs\u001b[0m\u001b[0;34m,\u001b[0m \u001b[0mmlines\u001b[0m\u001b[0;34m.\u001b[0m\u001b[0mLine2D\u001b[0m\u001b[0;34m)\u001b[0m\u001b[0;34m\u001b[0m\u001b[0;34m\u001b[0m\u001b[0m\n\u001b[0;32m-> 1632\u001b[0;31m         \u001b[0mlines\u001b[0m \u001b[0;34m=\u001b[0m \u001b[0;34m[\u001b[0m\u001b[0;34m*\u001b[0m\u001b[0mself\u001b[0m\u001b[0;34m.\u001b[0m\u001b[0m_get_lines\u001b[0m\u001b[0;34m(\u001b[0m\u001b[0;34m*\u001b[0m\u001b[0margs\u001b[0m\u001b[0;34m,\u001b[0m \u001b[0mdata\u001b[0m\u001b[0;34m=\u001b[0m\u001b[0mdata\u001b[0m\u001b[0;34m,\u001b[0m \u001b[0;34m**\u001b[0m\u001b[0mkwargs\u001b[0m\u001b[0;34m)\u001b[0m\u001b[0;34m]\u001b[0m\u001b[0;34m\u001b[0m\u001b[0;34m\u001b[0m\u001b[0m\n\u001b[0m\u001b[1;32m   1633\u001b[0m         \u001b[0;32mfor\u001b[0m \u001b[0mline\u001b[0m \u001b[0;32min\u001b[0m \u001b[0mlines\u001b[0m\u001b[0;34m:\u001b[0m\u001b[0;34m\u001b[0m\u001b[0;34m\u001b[0m\u001b[0m\n\u001b[1;32m   1634\u001b[0m             \u001b[0mself\u001b[0m\u001b[0;34m.\u001b[0m\u001b[0madd_line\u001b[0m\u001b[0;34m(\u001b[0m\u001b[0mline\u001b[0m\u001b[0;34m)\u001b[0m\u001b[0;34m\u001b[0m\u001b[0;34m\u001b[0m\u001b[0m\n",
      "\u001b[0;32m/mnt/storageG1/lwang/miniconda3/envs/ml-workshop/lib/python3.9/site-packages/matplotlib/axes/_base.py\u001b[0m in \u001b[0;36m__call__\u001b[0;34m(self, data, *args, **kwargs)\u001b[0m\n\u001b[1;32m    310\u001b[0m                 \u001b[0mthis\u001b[0m \u001b[0;34m+=\u001b[0m \u001b[0margs\u001b[0m\u001b[0;34m[\u001b[0m\u001b[0;36m0\u001b[0m\u001b[0;34m]\u001b[0m\u001b[0;34m,\u001b[0m\u001b[0;34m\u001b[0m\u001b[0;34m\u001b[0m\u001b[0m\n\u001b[1;32m    311\u001b[0m                 \u001b[0margs\u001b[0m \u001b[0;34m=\u001b[0m \u001b[0margs\u001b[0m\u001b[0;34m[\u001b[0m\u001b[0;36m1\u001b[0m\u001b[0;34m:\u001b[0m\u001b[0;34m]\u001b[0m\u001b[0;34m\u001b[0m\u001b[0;34m\u001b[0m\u001b[0m\n\u001b[0;32m--> 312\u001b[0;31m             \u001b[0;32myield\u001b[0m \u001b[0;32mfrom\u001b[0m \u001b[0mself\u001b[0m\u001b[0;34m.\u001b[0m\u001b[0m_plot_args\u001b[0m\u001b[0;34m(\u001b[0m\u001b[0mthis\u001b[0m\u001b[0;34m,\u001b[0m \u001b[0mkwargs\u001b[0m\u001b[0;34m)\u001b[0m\u001b[0;34m\u001b[0m\u001b[0;34m\u001b[0m\u001b[0m\n\u001b[0m\u001b[1;32m    313\u001b[0m \u001b[0;34m\u001b[0m\u001b[0m\n\u001b[1;32m    314\u001b[0m     \u001b[0;32mdef\u001b[0m \u001b[0mget_next_color\u001b[0m\u001b[0;34m(\u001b[0m\u001b[0mself\u001b[0m\u001b[0;34m)\u001b[0m\u001b[0;34m:\u001b[0m\u001b[0;34m\u001b[0m\u001b[0;34m\u001b[0m\u001b[0m\n",
      "\u001b[0;32m/mnt/storageG1/lwang/miniconda3/envs/ml-workshop/lib/python3.9/site-packages/matplotlib/axes/_base.py\u001b[0m in \u001b[0;36m_plot_args\u001b[0;34m(self, tup, kwargs, return_kwargs)\u001b[0m\n\u001b[1;32m    496\u001b[0m \u001b[0;34m\u001b[0m\u001b[0m\n\u001b[1;32m    497\u001b[0m         \u001b[0;32mif\u001b[0m \u001b[0mx\u001b[0m\u001b[0;34m.\u001b[0m\u001b[0mshape\u001b[0m\u001b[0;34m[\u001b[0m\u001b[0;36m0\u001b[0m\u001b[0;34m]\u001b[0m \u001b[0;34m!=\u001b[0m \u001b[0my\u001b[0m\u001b[0;34m.\u001b[0m\u001b[0mshape\u001b[0m\u001b[0;34m[\u001b[0m\u001b[0;36m0\u001b[0m\u001b[0;34m]\u001b[0m\u001b[0;34m:\u001b[0m\u001b[0;34m\u001b[0m\u001b[0;34m\u001b[0m\u001b[0m\n\u001b[0;32m--> 498\u001b[0;31m             raise ValueError(f\"x and y must have same first dimension, but \"\n\u001b[0m\u001b[1;32m    499\u001b[0m                              f\"have shapes {x.shape} and {y.shape}\")\n\u001b[1;32m    500\u001b[0m         \u001b[0;32mif\u001b[0m \u001b[0mx\u001b[0m\u001b[0;34m.\u001b[0m\u001b[0mndim\u001b[0m \u001b[0;34m>\u001b[0m \u001b[0;36m2\u001b[0m \u001b[0;32mor\u001b[0m \u001b[0my\u001b[0m\u001b[0;34m.\u001b[0m\u001b[0mndim\u001b[0m \u001b[0;34m>\u001b[0m \u001b[0;36m2\u001b[0m\u001b[0;34m:\u001b[0m\u001b[0;34m\u001b[0m\u001b[0;34m\u001b[0m\u001b[0m\n",
      "\u001b[0;31mValueError\u001b[0m: x and y must have same first dimension, but have shapes (80,) and (10800,)"
     ]
    },
    {
     "data": {
      "image/png": "[encoded data removed]",
      "text/plain": [
       "<Figure size 432x288 with 1 Axes>"
      ]
     },
     "metadata": {
      "needs_background": "light"
     },
     "output_type": "display_data"
    }
   ],
   "source": [
    "\n",
    "fig, ax = plt.subplots(facecolor = 'white')\n",
    "x = np.arange(1, epoch+1, 1)\n",
    "ax.plot(x, train_epoch_loss,label='Training')\n",
    "# ax.plot(x, test_epoch_loss,label='Validation')\n",
    "ax.legend()\n",
    "ax.set_xlabel(\"Number of Epoch\")\n",
    "ax.set_ylabel(\"Loss\")\n",
    "ax.set_xticks(np.arange(0, epoch+1, 10))\n",
    "ax.set_title(f'Loss: Learning_rate:{lr}')\n",
    "# ax_2 = ax.twinx()\n",
    "# ax_2.plot(history[\"lr\"], \"k--\", lw=1)\n",
    "# ax_2.set_yscale(\"log\")\n",
    "# ax.set_ylim(ax.get_ylim()[0], history[\"training_losses\"][0])\n",
    "ax.grid(axis=\"x\")\n",
    "fig.tight_layout()\n",
    "fig.show()\n",
    "fig.savefig(f'./graphs1/loss_lr_{lr}_long.png')\n",
    "print(f'./graphs1/loss_lr_{lr}.png')"
   ]
  },
  {
   "cell_type": "markdown",
   "metadata": {},
   "source": [
    "## AUC"
   ]
  },
  {
   "cell_type": "code",
   "execution_count": null,
   "metadata": {},
   "outputs": [
    {
     "ename": "NameError",
     "evalue": "name 'cnn_dr' is not defined",
     "output_type": "error",
     "traceback": [
      "\u001b[0;31m---------------------------------------------------------------------------\u001b[0m",
      "\u001b[0;31mNameError\u001b[0m                                 Traceback (most recent call last)",
      "\u001b[0;32m/tmp/ipykernel_35237/2427433004.py\u001b[0m in \u001b[0;36m<module>\u001b[0;34m\u001b[0m\n\u001b[1;32m      7\u001b[0m \u001b[0max\u001b[0m\u001b[0;34m.\u001b[0m\u001b[0mset_ylabel\u001b[0m\u001b[0;34m(\u001b[0m\u001b[0;34m\"Loss\"\u001b[0m\u001b[0;34m)\u001b[0m\u001b[0;34m\u001b[0m\u001b[0;34m\u001b[0m\u001b[0m\n\u001b[1;32m      8\u001b[0m \u001b[0max\u001b[0m\u001b[0;34m.\u001b[0m\u001b[0mset_xticks\u001b[0m\u001b[0;34m(\u001b[0m\u001b[0mnp\u001b[0m\u001b[0;34m.\u001b[0m\u001b[0marange\u001b[0m\u001b[0;34m(\u001b[0m\u001b[0;36m0\u001b[0m\u001b[0;34m,\u001b[0m \u001b[0mepoch\u001b[0m\u001b[0;34m+\u001b[0m\u001b[0;36m1\u001b[0m\u001b[0;34m,\u001b[0m \u001b[0;36m10\u001b[0m\u001b[0;34m)\u001b[0m\u001b[0;34m)\u001b[0m\u001b[0;34m\u001b[0m\u001b[0;34m\u001b[0m\u001b[0m\n\u001b[0;32m----> 9\u001b[0;31m \u001b[0max\u001b[0m\u001b[0;34m.\u001b[0m\u001b[0mset_title\u001b[0m\u001b[0;34m(\u001b[0m\u001b[0;34mf'Loss: Learning_rate:{lr}, cnn_dr:{cnn_dr}, cnn_dr:{fc_dr}'\u001b[0m\u001b[0;34m)\u001b[0m\u001b[0;34m\u001b[0m\u001b[0;34m\u001b[0m\u001b[0m\n\u001b[0m\u001b[1;32m     10\u001b[0m \u001b[0;31m# ax_2 = ax.twinx()\u001b[0m\u001b[0;34m\u001b[0m\u001b[0;34m\u001b[0m\u001b[0m\n\u001b[1;32m     11\u001b[0m \u001b[0;31m# ax_2.plot(history[\"lr\"], \"k--\", lw=1)\u001b[0m\u001b[0;34m\u001b[0m\u001b[0;34m\u001b[0m\u001b[0m\n",
      "\u001b[0;31mNameError\u001b[0m: name 'cnn_dr' is not defined"
     ]
    },
    {
     "data": {
      "image/png": "[encoded data removed]",
      "text/plain": [
       "<Figure size 432x288 with 1 Axes>"
      ]
     },
     "metadata": {
      "needs_background": "light"
     },
     "output_type": "display_data"
    }
   ],
   "source": [
    "fig, ax = plt.subplots(facecolor = 'white')\n",
    "x = np.arange(1, epoch+1, 1)\n",
    "ax.plot(x, train_epoch_loss,label='Training')\n",
    "ax.plot(x, test_epoch_loss,label='Validation')\n",
    "ax.legend()\n",
    "ax.set_xlabel(\"Number of Epoch\")\n",
    "ax.set_ylabel(\"Loss\")\n",
    "ax.set_xticks(np.arange(0, epoch+1, 10))\n",
    "ax.set_title(f'Loss: Learning_rate:{lr}, cnn_dr:{cnn_dr}, cnn_dr:{fc_dr}')\n",
    "# ax_2 = ax.twinx()\n",
    "# ax_2.plot(history[\"lr\"], \"k--\", lw=1)\n",
    "# ax_2.set_yscale(\"log\")\n",
    "# ax.set_ylim(ax.get_ylim()[0], history[\"training_losses\"][0])\n",
    "ax.grid(axis=\"x\")\n",
    "fig.tight_layout()\n",
    "fig.show()"
   ]
  },
  {
   "cell_type": "code",
   "execution_count": null,
   "metadata": {},
   "outputs": [],
   "source": [
    "test_dataset = OneHotSeqsDataset(test_data, test_target, one_hot_dtype=torch.float)\n",
    "test_loader = DataLoader(dataset=test_dataset, batch_size=batch_size, collate_fn=collate_padded_batch ,num_workers=8)"
   ]
  },
  {
   "cell_type": "code",
   "execution_count": null,
   "metadata": {},
   "outputs": [],
   "source": [
    "torch.cuda.empty_cache()\n",
    "import gc; gc.collect()\n",
    "# ic.enable()\n",
    "ic.disable()\n",
    "\n",
    "model.load_state_dict(torch.load('saved_weights/training_torch_simple_mask_copy_split_model_128f64n-spe30-rand5-100e'))\n",
    "\n",
    "output = []\n",
    "model.eval()\n",
    "with torch.no_grad():\n",
    "\n",
    "    for x, y in test_loader:\n",
    "        x_batch = torch.squeeze(x, 0).to(device)\n",
    "        y_batch = y.to(device)\n",
    "        x_batch = x_batch.float()\n",
    "        y_batch = y_batch.float()\n",
    "        pred = model(x_batch.float())\n",
    "        output.append(pred)\n",
    "        \n",
    "original_value_output = np.exp(output)"
   ]
  },
  {
   "cell_type": "code",
   "execution_count": null,
   "metadata": {},
   "outputs": [],
   "source": []
  },
  {
   "cell_type": "code",
   "execution_count": null,
   "metadata": {},
   "outputs": [
    {
     "data": {
      "image/png": "[encoded data removed]",
      "text/plain": [
       "<Figure size 576x432 with 1 Axes>"
      ]
     },
     "metadata": {
      "needs_background": "light"
     },
     "output_type": "display_data"
    },
    {
     "name": "stdout",
     "output_type": "stream",
     "text": [
      "AUC Score: 1.0\n"
     ]
    }
   ],
   "source": [
    "from sklearn.metrics import roc_auc_score, roc_curve\n",
    "\n",
    "def calculate_auc(labels, scores):\n",
    "    \"\"\"\n",
    "    Calculate the Area Under the Receiver Operating Characteristic Curve (AUC)\n",
    "    given true binary labels and prediction scores.\n",
    "    \n",
    "    :param labels: List of true binary labels (0 or 1).\n",
    "    :param scores: List of prediction scores (probabilities or continuous output of the model).\n",
    "    :return: AUC score.\n",
    "    \"\"\"\n",
    "    auc_score = roc_auc_score(labels, scores)\n",
    "    \n",
    "    # Calculate ROC curve\n",
    "    fpr, tpr, thresholds = roc_curve(labels, scores)\n",
    "    \n",
    "    # Plot ROC curve\n",
    "    plt.figure(figsize=(8, 6))\n",
    "    plt.plot(fpr, tpr, color='darkorange', lw=2, label=f'ROC curve (area = {auc_score:.2f})')\n",
    "    plt.plot([0, 1], [0, 1], color='navy', lw=2, linestyle='--')\n",
    "    plt.xlim([0.0, 1.0])\n",
    "    plt.ylim([0.0, 1.05])\n",
    "    plt.xlabel('False Positive Rate')\n",
    "    plt.ylabel('True Positive Rate')\n",
    "    plt.title('Receiver Operating Characteristic (ROC) Curve')\n",
    "    plt.legend(loc=\"lower right\")\n",
    "    plt.show()\n",
    "    \n",
    "    return auc_score\n",
    "\n",
    "# Example usage\n",
    "true_labels = [0, 1, 1, 0, 1]  # True binary labels\n",
    "prediction_scores = [0.1, 0.4, 0.8, 0.3, 0.7]  # Prediction scores or probabilities\n",
    "\n",
    "auc_score = calculate_auc(true_labels, prediction_scores)\n",
    "print(f\"AUC Score: {auc_score}\")"
   ]
  },
  {
   "cell_type": "markdown",
   "metadata": {},
   "source": [
    "# testing out hyper-parameters"
   ]
  },
  {
   "cell_type": "code",
   "execution_count": null,
   "metadata": {},
   "outputs": [
    {
     "data": {
      "text/plain": [
       "143"
      ]
     },
     "execution_count": 15,
     "metadata": {},
     "output_type": "execute_result"
    }
   ],
   "source": []
  },
  {
   "cell_type": "code",
   "execution_count": 12,
   "metadata": {},
   "outputs": [
    {
     "name": "stdout",
     "output_type": "stream",
     "text": [
      "STDOUT: Sat Mar  9 15:26:12 2024       \n",
      "+-----------------------------------------------------------------------------+\n",
      "| NVIDIA-SMI 455.32.00    Driver Version: 455.32.00    CUDA Version: 11.1     |\n",
      "|-------------------------------+----------------------+----------------------+\n",
      "| GPU  Name        Persistence-M| Bus-Id        Disp.A | Volatile Uncorr. ECC |\n",
      "| Fan  Temp  Perf  Pwr:Usage/Cap|         Memory-Usage | GPU-Util  Compute M. |\n",
      "|                               |                      |               MIG M. |\n",
      "|===============================+======================+======================|\n",
      "|   0  Tesla V100-PCIE...  On   | 00000000:41:00.0 Off |                    0 |\n",
      "| N/A   36C    P0    34W / 250W |    721MiB / 32510MiB |      0%      Default |\n",
      "|                               |                      |                  N/A |\n",
      "+-------------------------------+----------------------+----------------------+\n",
      "                                                                               \n",
      "+-----------------------------------------------------------------------------+\n",
      "| Processes:                                                                  |\n",
      "|  GPU   GI   CI        PID   Type   Process name                  GPU Memory |\n",
      "|        ID   ID                                                   Usage      |\n",
      "|=============================================================================|\n",
      "|    0   N/A  N/A    128288      C   ...vs/ml-workshop/bin/python      717MiB |\n",
      "+-----------------------------------------------------------------------------+\n",
      "\n",
      "STDERR: \n",
      "STDOUT: \n",
      "STDERR: ls: cannot access 'non_existent_file': No such file or directory\n",
      "\n"
     ]
    }
   ],
   "source": [
    "import subprocess\n",
    "\n",
    "def run_bash_command(command):\n",
    "    \"\"\"\n",
    "    Runs a bash command and returns its output.\n",
    "    \n",
    "    :param command: The command to run as a string.\n",
    "    :return: A tuple containing the command's stdout and stderr.\n",
    "    \"\"\"\n",
    "    try:\n",
    "        # Run command\n",
    "        result = subprocess.run(command, shell=True, check=True, stdout=subprocess.PIPE, stderr=subprocess.PIPE, text=True)\n",
    "        \n",
    "        # Return stdout and stderr\n",
    "        return result.stdout, result.stderr\n",
    "    except subprocess.CalledProcessError as e:\n",
    "        # Handle errors in the called executable\n",
    "        return e.stdout, e.stderr\n",
    "    except Exception as e:\n",
    "        # Handle other errors related to subprocess.run()\n",
    "        return None, str(e)\n",
    "\n",
    "# Example usage\n",
    "stdout, stderr = run_bash_command('nvidia-smi')\n",
    "print('STDOUT:', stdout)\n",
    "print('STDERR:', stderr)\n",
    "\n",
    "# Example of a command that generates an error\n",
    "stdout, stderr = run_bash_command('ls non_existent_file')\n",
    "print('STDOUT:', stdout)\n",
    "print('STDERR:', stderr)"
   ]
  },
  {
   "cell_type": "code",
   "execution_count": 14,
   "metadata": {},
   "outputs": [],
   "source": [
    "\n",
    "def save_to_file(file_path, appendix, epoch, lr, cnndr, fcdr, l2, train_loss, test_loss):\n",
    "    train_loss = [float(arr) for arr in train_loss]\n",
    "    test_loss = [float(arr) for arr in test_loss]\n",
    "    with open(file_path, \"a\") as f:\n",
    "        f.write(f\">> {appendix}, Epoch: {epoch}, LR: {lr}, cnnDR: {cnndr},  fnDR: {fcdr}, l2decay: {l2}\\n\")\n",
    "        f.write(f\"--- Train Loss: {train_loss}\\n\")\n",
    "        f.write(f\"--- Test Loss: {test_loss}\\n\")\n",
    "        \n",
    "def hyper_params_test(appendix, lr, fc_dr=0,cnn_dr=0, l2=0, epoch=50):\n",
    "    print('lr:', lr, '| fc_dr:',  fc_dr, '| cnn_dr:', cnn_dr, '| l2:', l2, '==='*10)\n",
    "    torch.cuda.empty_cache()\n",
    "    import gc; gc.collect()\n",
    "    \n",
    "    # stdout, stderr = run_bash_command('nvidia-smi')\n",
    "    # print('STDOUT:', stdout)\n",
    "    # print('STDERR:', stderr)\n",
    "    # model = Model(\n",
    "    # num_classes=13,\n",
    "    # num_filters=128,\n",
    "    # num_conv_layers=2,\n",
    "    # num_dense_neurons=64, # batch_size = 64\n",
    "    # num_dense_layers=2,\n",
    "    # return_logits=True,\n",
    "    # dense_dropout_rate=fc_dr,\n",
    "    # conv_dropout_rate=cnn_dr\n",
    "    # ).to(device)\n",
    "    \n",
    "    model = Model(\n",
    "    num_classes=13,\n",
    "    num_filters=64,\n",
    "    num_conv_layers=2,\n",
    "    num_dense_neurons=256, # batch_size = 64\n",
    "    # num_dense_neurons=128, # batch_size = 64\n",
    "    num_dense_layers=2,\n",
    "    return_logits=True,\n",
    "    conv_dropout_rate=cnn_dr,\n",
    "    dense_dropout_rate=fc_dr\n",
    "    ).to(device)\n",
    "\n",
    "    # stdout, stderr = run_bash_command('nvidia-smi')\n",
    "    # print('STDOUT:', stdout)\n",
    "    # print('STDERR:', stderr)\n",
    "    \n",
    "    epoch = epoch\n",
    "    batch_size = 128\n",
    "    lr = lr\n",
    "\n",
    "    train_loader = DataLoader(dataset=train_dataset, batch_size=batch_size, shuffle=True, collate_fn=collate_padded_batch)\n",
    "    test_loader = DataLoader(dataset=val_dataset, batch_size=batch_size, collate_fn=collate_padded_batch)\n",
    "    # criterion = nn.MSELoss()\n",
    "    criterion = masked_MSE\n",
    "    optimizer = torch.optim.Adam(model.parameters(), lr=lr, weight_decay=l2)\n",
    "    # optimizer = torch.optim.RMSprop(model.parameters(), lr=lr)\n",
    "    # scheduler = torch.optim.lr_scheduler.ReduceLROnPlateau(optimizer, 'min', factor=0.5, patience=2, verbose=True)\n",
    "    \n",
    "    ic.disable()\n",
    "    # ic.enable()\n",
    "    train_epoch_loss = []\n",
    "    test_epoch_loss = []\n",
    "\n",
    "    for e in tqdm(range(1, epoch+1)):\n",
    "        model.train()\n",
    "        train_batch_loss = []\n",
    "        test_batch_loss = []\n",
    "        \n",
    "        for x, y in train_loader:\n",
    "            x_batch = torch.squeeze(x, 0).to(device)\n",
    "            y_batch = y.to(device)\n",
    "            x_batch = x_batch.float()\n",
    "            y_batch = y_batch.float()\n",
    "            pred = model(x_batch.float())\n",
    "            loss_train = criterion(y_batch, pred)\n",
    "            ic(loss_train)\n",
    "            train_batch_loss.append(loss_train)\n",
    "    \n",
    "            optimizer.zero_grad()\n",
    "            loss_train.backward()\n",
    "            optimizer.step()\n",
    "            # print(f'Batch - GPU Memory Allocated: {torch.cuda.memory_allocated() / 1024**2:.2f} MB')\n",
    "        train_epoch_loss.append(torch.mean(torch.stack(train_batch_loss)).detach().cpu().numpy())\n",
    "        with torch.no_grad():\n",
    "            # print('test')\n",
    "            for x, y in test_loader:\n",
    "                x_batch = x.to(device)\n",
    "                y_batch = y.to(device)\n",
    "                pred = model(x_batch.float())\n",
    "                loss_test = criterion(y_batch, pred)\n",
    "                test_batch_loss.append(loss_test)\n",
    "            test_epoch_loss.append(torch.mean(torch.stack(test_batch_loss)).detach().cpu().numpy())\n",
    "    x = np.arange(1, epoch+1, 1)\n",
    "    fig, ax = plt.subplots(facecolor = 'white')\n",
    "    ax.plot(x, train_epoch_loss,label='Training')\n",
    "    ax.plot(x, test_epoch_loss,label='Validation')\n",
    "    ax.legend()\n",
    "    ax.set_xlabel(\"Number of Epoch\")\n",
    "    ax.set_ylabel(\"Loss\")\n",
    "    ax.set_xticks(np.arange(0, epoch+1, 10))\n",
    "    ax.set_title(f'Loss: Learning_rate:{lr}, cnn_dr:{cnn_dr}, fc_dr:{fc_dr}')\n",
    "    # ax_2 = ax.twinx()\n",
    "    # ax_2.plot(history[\"lr\"], \"k--\", lw=1)\n",
    "    # ax_2.set_yscale(\"log\")\n",
    "    # ax.set_ylim(ax.get_ylim()[0], history[\"training_losses\"][0])\n",
    "    ax.grid(axis=\"x\")\n",
    "    fig.tight_layout()\n",
    "    fig.show()\n",
    "    fig.savefig(f'./graphs2/{appendix}_loss_lr_{lr}_cnn_dr_{cnn_dr}_fc_dr_{fc_dr}_l2{l2}.png')\n",
    "    save_to_file('trials3.txt', appendix ,epoch, lr, cnn_dr, fc_dr, l2, train_epoch_loss, test_epoch_loss)\n",
    "    print(f'./graphs2/{appendix}_loss_lr_{lr}_cnn_dr_{cnn_dr}_fc_dr_{fc_dr}_l2{l2}.png')\n",
    "    \n",
    "    torch.save({\n",
    "    'optimizer': optimizer.state_dict(),\n",
    "    'model': model.state_dict(),\n",
    "}, '/mnt/storageG1/lwang/Projects/tb_dr_MIC/saved_models/seq-{appendix}-{epoch}-{lr}-{cnndr}-{fcdr}-{l2}.pth')"
   ]
  },
  {
   "cell_type": "code",
   "execution_count": 15,
   "metadata": {},
   "outputs": [
    {
     "name": "stdout",
     "output_type": "stream",
     "text": [
      "lr: 0.0001 | fc_dr: 0.2 | cnn_dr: 0 | l2: 1e-09 ==============================\n"
     ]
    },
    {
     "name": "stderr",
     "output_type": "stream",
     "text": [
      "  0%|          | 0/250 [00:00<?, ?it/s]"
     ]
    },
    {
     "name": "stderr",
     "output_type": "stream",
     "text": [
      "  2%|▏         | 5/250 [05:51<4:47:26, 70.40s/it]\n"
     ]
    },
    {
     "ename": "KeyboardInterrupt",
     "evalue": "",
     "output_type": "error",
     "traceback": [
      "\u001b[0;31m---------------------------------------------------------------------------\u001b[0m",
      "\u001b[0;31mKeyboardInterrupt\u001b[0m                         Traceback (most recent call last)",
      "\u001b[0;32m/tmp/ipykernel_128288/1772424696.py\u001b[0m in \u001b[0;36m<module>\u001b[0;34m\u001b[0m\n\u001b[1;32m      7\u001b[0m         \u001b[0;32mfor\u001b[0m \u001b[0mdecay\u001b[0m \u001b[0;32min\u001b[0m \u001b[0;34m[\u001b[0m\u001b[0;36m1e-9\u001b[0m\u001b[0;34m]\u001b[0m\u001b[0;34m:\u001b[0m\u001b[0;34m\u001b[0m\u001b[0;34m\u001b[0m\u001b[0m\n\u001b[1;32m      8\u001b[0m             \u001b[0;32mfor\u001b[0m \u001b[0mcnn_dr\u001b[0m \u001b[0;32min\u001b[0m \u001b[0;34m[\u001b[0m\u001b[0;36m0.2\u001b[0m\u001b[0;34m,\u001b[0m \u001b[0;36m0.3\u001b[0m\u001b[0;34m,\u001b[0m \u001b[0;36m0.4\u001b[0m\u001b[0;34m,\u001b[0m \u001b[0;36m0.5\u001b[0m\u001b[0;34m]\u001b[0m\u001b[0;34m:\u001b[0m\u001b[0;34m\u001b[0m\u001b[0;34m\u001b[0m\u001b[0m\n\u001b[0;32m----> 9\u001b[0;31m                 \u001b[0mhyper_params_test\u001b[0m\u001b[0;34m(\u001b[0m\u001b[0;34m'64-2-256-2-128-log-reg'\u001b[0m\u001b[0;34m,\u001b[0m \u001b[0mlr\u001b[0m\u001b[0;34m,\u001b[0m \u001b[0mcnn_dr\u001b[0m \u001b[0;34m=\u001b[0m \u001b[0;36m0\u001b[0m\u001b[0;34m,\u001b[0m \u001b[0mfc_dr\u001b[0m\u001b[0;34m=\u001b[0m\u001b[0mfc_dr\u001b[0m\u001b[0;34m,\u001b[0m \u001b[0ml2\u001b[0m\u001b[0;34m=\u001b[0m\u001b[0mdecay\u001b[0m\u001b[0;34m,\u001b[0m \u001b[0mepoch\u001b[0m\u001b[0;34m=\u001b[0m\u001b[0mepoch\u001b[0m\u001b[0;34m)\u001b[0m\u001b[0;34m\u001b[0m\u001b[0;34m\u001b[0m\u001b[0m\n\u001b[0m\u001b[1;32m     10\u001b[0m \u001b[0;34m\u001b[0m\u001b[0m\n\u001b[1;32m     11\u001b[0m \u001b[0;31m# epoch = 44\u001b[0m\u001b[0;34m\u001b[0m\u001b[0;34m\u001b[0m\u001b[0m\n",
      "\u001b[0;32m/tmp/ipykernel_128288/3224701672.py\u001b[0m in \u001b[0;36mhyper_params_test\u001b[0;34m(appendix, lr, fc_dr, cnn_dr, l2, epoch)\u001b[0m\n\u001b[1;32m     70\u001b[0m             \u001b[0my_batch\u001b[0m \u001b[0;34m=\u001b[0m \u001b[0my_batch\u001b[0m\u001b[0;34m.\u001b[0m\u001b[0mfloat\u001b[0m\u001b[0;34m(\u001b[0m\u001b[0;34m)\u001b[0m\u001b[0;34m\u001b[0m\u001b[0;34m\u001b[0m\u001b[0m\n\u001b[1;32m     71\u001b[0m             \u001b[0mpred\u001b[0m \u001b[0;34m=\u001b[0m \u001b[0mmodel\u001b[0m\u001b[0;34m(\u001b[0m\u001b[0mx_batch\u001b[0m\u001b[0;34m.\u001b[0m\u001b[0mfloat\u001b[0m\u001b[0;34m(\u001b[0m\u001b[0;34m)\u001b[0m\u001b[0;34m)\u001b[0m\u001b[0;34m\u001b[0m\u001b[0;34m\u001b[0m\u001b[0m\n\u001b[0;32m---> 72\u001b[0;31m             \u001b[0mloss_train\u001b[0m \u001b[0;34m=\u001b[0m \u001b[0mcriterion\u001b[0m\u001b[0;34m(\u001b[0m\u001b[0my_batch\u001b[0m\u001b[0;34m,\u001b[0m \u001b[0mpred\u001b[0m\u001b[0;34m)\u001b[0m\u001b[0;34m\u001b[0m\u001b[0;34m\u001b[0m\u001b[0m\n\u001b[0m\u001b[1;32m     73\u001b[0m             \u001b[0mic\u001b[0m\u001b[0;34m(\u001b[0m\u001b[0mloss_train\u001b[0m\u001b[0;34m)\u001b[0m\u001b[0;34m\u001b[0m\u001b[0;34m\u001b[0m\u001b[0m\n\u001b[1;32m     74\u001b[0m             \u001b[0mtrain_batch_loss\u001b[0m\u001b[0;34m.\u001b[0m\u001b[0mappend\u001b[0m\u001b[0;34m(\u001b[0m\u001b[0mloss_train\u001b[0m\u001b[0;34m)\u001b[0m\u001b[0;34m\u001b[0m\u001b[0;34m\u001b[0m\u001b[0m\n",
      "\u001b[0;32m/tmp/ipykernel_128288/2254641781.py\u001b[0m in \u001b[0;36mmasked_loss\u001b[0;34m(y_true, y_pred)\u001b[0m\n\u001b[1;32m     49\u001b[0m         \u001b[0mnon_nan_mask\u001b[0m \u001b[0;34m=\u001b[0m \u001b[0;34m~\u001b[0m\u001b[0my_true\u001b[0m\u001b[0;34m.\u001b[0m\u001b[0misnan\u001b[0m\u001b[0;34m(\u001b[0m\u001b[0;34m)\u001b[0m\u001b[0;34m\u001b[0m\u001b[0;34m\u001b[0m\u001b[0m\n\u001b[1;32m     50\u001b[0m         \u001b[0;31m# ic(non_nan_mask)\u001b[0m\u001b[0;34m\u001b[0m\u001b[0;34m\u001b[0m\u001b[0m\n\u001b[0;32m---> 51\u001b[0;31m         \u001b[0my_true_non_nan\u001b[0m \u001b[0;34m=\u001b[0m \u001b[0my_true\u001b[0m\u001b[0;34m[\u001b[0m\u001b[0mnon_nan_mask\u001b[0m\u001b[0;34m]\u001b[0m\u001b[0;34m\u001b[0m\u001b[0;34m\u001b[0m\u001b[0m\n\u001b[0m\u001b[1;32m     52\u001b[0m         \u001b[0my_pred_non_nan\u001b[0m \u001b[0;34m=\u001b[0m \u001b[0my_pred\u001b[0m\u001b[0;34m[\u001b[0m\u001b[0mnon_nan_mask\u001b[0m\u001b[0;34m]\u001b[0m\u001b[0;34m\u001b[0m\u001b[0;34m\u001b[0m\u001b[0m\n\u001b[1;32m     53\u001b[0m \u001b[0;34m\u001b[0m\u001b[0m\n",
      "\u001b[0;31mKeyboardInterrupt\u001b[0m: "
     ]
    }
   ],
   "source": [
    "torch.cuda.empty_cache()\n",
    "import gc; gc.collect()\n",
    "\n",
    "epoch = 250\n",
    "for lr in [1e-4]:\n",
    "    for fc_dr in [0.2]:\n",
    "        for decay in [1e-9]:\n",
    "            for cnn_dr in [0.2, 0.3, 0.4, 0.5]:\n",
    "                hyper_params_test('64-2-256-2-128-log-reg', lr, cnn_dr = 0, fc_dr=fc_dr, l2=decay, epoch=epoch)\n",
    "\n",
    "# epoch = 44\n",
    "# for lr in [1e-4]:\n",
    "#     for fc_dr in [0.4]:\n",
    "#         for cnn_dr in [0.4]:\n",
    "#             for decay in [1e-8]:\n",
    "#                 hyper_params_test('final_model', lr, fc_dr=fc_dr, cnn_dr=cnn_dr, l2=decay, epoch=epoch)\n",
    "\n",
    "# epoch = 50\n",
    "# for lr in [1e-4]:\n",
    "#     for fc_dr in [0.4]:\n",
    "#         for cnn_dr in [0, 0.2, 0.3, 0.4, 0.5]:\n",
    "#             for decay in [1e-8]:\n",
    "#                 hyper_params_test('64-2-256-2-128-log-reg', lr, fc_dr=fc_dr, cnn_dr=cnn_dr, l2=decay, epoch=epoch)"
   ]
  },
  {
   "cell_type": "code",
   "execution_count": null,
   "metadata": {},
   "outputs": [
    {
     "name": "stdout",
     "output_type": "stream",
     "text": [
      "lr: 0.004 | fc_dr: 0.2 | cnn_dr: 0 ==============================\n"
     ]
    },
    {
     "name": "stderr",
     "output_type": "stream",
     "text": [
      "100%|██████████| 20/20 [18:21<00:00, 55.09s/it]\n"
     ]
    },
    {
     "name": "stdout",
     "output_type": "stream",
     "text": [
      "lr: 0.005 | fc_dr: 0.2 | cnn_dr: 0 ==============================\n"
     ]
    },
    {
     "name": "stderr",
     "output_type": "stream",
     "text": [
      "100%|██████████| 20/20 [18:24<00:00, 55.23s/it]\n"
     ]
    },
    {
     "name": "stdout",
     "output_type": "stream",
     "text": [
      "lr: 0.007 | fc_dr: 0.2 | cnn_dr: 0 ==============================\n"
     ]
    },
    {
     "name": "stderr",
     "output_type": "stream",
     "text": [
      "100%|██████████| 20/20 [18:13<00:00, 54.66s/it]\n"
     ]
    },
    {
     "name": "stdout",
     "output_type": "stream",
     "text": [
      "lr: 0.008 | fc_dr: 0.2 | cnn_dr: 0 ==============================\n"
     ]
    },
    {
     "name": "stderr",
     "output_type": "stream",
     "text": [
      "100%|██████████| 20/20 [18:10<00:00, 54.54s/it]\n"
     ]
    },
    {
     "name": "stdout",
     "output_type": "stream",
     "text": [
      "lr: 0.0085 | fc_dr: 0.2 | cnn_dr: 0 ==============================\n"
     ]
    },
    {
     "name": "stderr",
     "output_type": "stream",
     "text": [
      "100%|██████████| 20/20 [18:20<00:00, 55.00s/it]\n"
     ]
    },
    {
     "name": "stdout",
     "output_type": "stream",
     "text": [
      "lr: 0.0095 | fc_dr: 0.2 | cnn_dr: 0 ==============================\n"
     ]
    },
    {
     "name": "stderr",
     "output_type": "stream",
     "text": [
      "100%|██████████| 20/20 [18:13<00:00, 54.69s/it]\n"
     ]
    },
    {
     "data": {
      "image/png": "[encoded data removed]",
      "text/plain": [
       "<Figure size 432x288 with 1 Axes>"
      ]
     },
     "metadata": {
      "needs_background": "light"
     },
     "output_type": "display_data"
    },
    {
     "data": {
      "image/png": "[encoded data removed]",
      "text/plain": [
       "<Figure size 432x288 with 1 Axes>"
      ]
     },
     "metadata": {
      "needs_background": "light"
     },
     "output_type": "display_data"
    },
    {
     "data": {
      "image/png": "[encoded data removed]",
      "text/plain": [
       "<Figure size 432x288 with 1 Axes>"
      ]
     },
     "metadata": {
      "needs_background": "light"
     },
     "output_type": "display_data"
    },
    {
     "data": {
      "image/png": "[encoded data removed]",
      "text/plain": [
       "<Figure size 432x288 with 1 Axes>"
      ]
     },
     "metadata": {
      "needs_background": "light"
     },
     "output_type": "display_data"
    },
    {
     "data": {
      "image/png": "[encoded data removed]",
      "text/plain": [
       "<Figure size 432x288 with 1 Axes>"
      ]
     },
     "metadata": {
      "needs_background": "light"
     },
     "output_type": "display_data"
    },
    {
     "data": {
      "image/png": "[encoded data removed]",
      "text/plain": [
       "<Figure size 432x288 with 1 Axes>"
      ]
     },
     "metadata": {
      "needs_background": "light"
     },
     "output_type": "display_data"
    }
   ],
   "source": [
    "# for x in np.arange(0.0000,0.0101,0.0005):\n",
    "for x in [0.004,0.005, 0.007,0.008,0.0085, 0.0095]:\n",
    "    if x == 0:\n",
    "        continue\n",
    "    else:\n",
    "        hyper_params_test(x, epoch=20)"
   ]
  },
  {
   "cell_type": "code",
   "execution_count": null,
   "metadata": {},
   "outputs": [],
   "source": [
    "# for x in np.arange(0.0000,0.0101,0.0005):\n",
    "for x in [0.004,0.005, 0.007,0.008,0.0085, 0.0095]:\n",
    "    if x == 0:\n",
    "        continue\n",
    "    else:\n",
    "        hyper_params_test(x, epoch=20)"
   ]
  },
  {
   "cell_type": "code",
   "execution_count": null,
   "metadata": {},
   "outputs": [
    {
     "data": {
      "image/png": "[encoded data removed]",
      "text/plain": [
       "<Figure size 432x288 with 1 Axes>"
      ]
     },
     "metadata": {
      "needs_background": "light"
     },
     "output_type": "display_data"
    }
   ],
   "source": [
    "#%%\n",
    "fig, ax = plt.subplots(facecolor = 'white')\n",
    "x = np.arange(1, epoch+1, 1)\n",
    "ax.plot(x, train_epoch_loss,label='Training')\n",
    "ax.plot(x, test_epoch_loss,label='Validation')\n",
    "ax.legend()\n",
    "ax.set_xlabel(\"Number of Epoch\")\n",
    "ax.set_ylabel(\"Loss\")\n",
    "ax.set_xticks(np.arange(0, epoch+1, 10))\n",
    "ax.set_title(f'Loss: Learning_rate:{lr}')\n",
    "# ax_2 = ax.twinx()\n",
    "# ax_2.plot(history[\"lr\"], \"k--\", lw=1)\n",
    "# ax_2.set_yscale(\"log\")\n",
    "# ax.set_ylim(ax.get_ylim()[0], history[\"training_losses\"][0])\n",
    "ax.grid(axis=\"x\")\n",
    "fig.tight_layout()\n",
    "fig.show()\n",
    "#%%\n",
    "# a = torch.zeros(1, 2, 3, 4, 5, 6)\n",
    "# b = a.view(a.shape[:2], -1, a.shape[5:])\n",
    "# %%\n",
    "# from torchviz import make_dot\n",
    "# x = torch.randn(2, 4, 56).to(device)\n",
    "# m = model_torch_simple.raw_seq_model().to(device)\n",
    "# y = m(x)\n",
    "# make_dot(y, params=dict(list(m.named_parameters()))).render(\"cnn_torchviz\", format=\"png\")"
   ]
  },
  {
   "cell_type": "markdown",
   "metadata": {},
   "source": [
    "# Testing"
   ]
  },
  {
   "cell_type": "markdown",
   "metadata": {},
   "source": [
    "# Explanable AI"
   ]
  },
  {
   "cell_type": "code",
   "execution_count": 27,
   "metadata": {},
   "outputs": [],
   "source": [
    "testing_dataset = OneHotSeqsDataset(test_data, test_target, one_hot_dtype=torch.float, transform=True)\n",
    "testing_loader = DataLoader(dataset=testing_dataset, batch_size=128, collate_fn=collate_padded_batch, num_workers=8, shuffle=True, drop_last=True)"
   ]
  },
  {
   "cell_type": "code",
   "execution_count": 28,
   "metadata": {},
   "outputs": [
    {
     "name": "stderr",
     "output_type": "stream",
     "text": [
      "ic| x.shape: torch.Size([128, 256])\n",
      "ic| x.shape: torch.Size([128, 13])\n",
      "ic| x.shape: torch.Size([128, 256])\n",
      "ic| x.shape: torch.Size([128, 13])\n",
      "ic| x.shape: torch.Size([128, 256])\n",
      "ic| x.shape: torch.Size([128, 13])\n",
      "ic| x.shape: torch.Size([128, 256])\n",
      "ic| x.shape: torch.Size([128, 13])\n",
      "ic| x.shape: torch.Size([128, 256])\n",
      "ic| x.shape: torch.Size([128, 13])\n",
      "ic| x.shape: torch.Size([128, 256])\n",
      "ic| x.shape: torch.Size([128, 13])\n",
      "ic| x.shape: torch.Size([128, 256])\n",
      "ic| x.shape: torch.Size([128, 13])\n",
      "ic| x.shape: torch.Size([128, 256])\n",
      "ic| x.shape: torch.Size([128, 13])\n",
      "ic| x.shape: torch.Size([128, 256])\n",
      "ic| x.shape: torch.Size([128, 13])\n"
     ]
    }
   ],
   "source": [
    "\n",
    "save_path = '/mnt/storageG1/lwang/Projects/tb_dr_MIC_v2/saved_models/aa-model_final1.pth'\n",
    "\n",
    "# Load the saved file\n",
    "checkpoint = torch.load(save_path)\n",
    "ic.disable()\n",
    "\n",
    "# Initialize the model and optimizer\n",
    "model = Model(\n",
    "num_classes=13,\n",
    "num_filters=64,\n",
    "num_conv_layers=2,\n",
    "num_dense_neurons=256, # batch_size = 64\n",
    "# num_dense_neurons=128, # batch_size = 64\n",
    "num_dense_layers=2,\n",
    "return_logits=True,\n",
    "conv_dropout_rate=0,\n",
    "dense_dropout_rate=0.2\n",
    ").to(device)\n",
    "\n",
    "optimizer = torch.optim.Adam(model.parameters(), lr=lr,  weight_decay=1e-9)\n",
    "\n",
    "# optimizer = optimizer_class(model.parameters(), ...)  # Add the necessary arguments as per your optimizer's initialization method\n",
    "\n",
    "# Load the model and optimizer states\n",
    "model.load_state_dict(checkpoint['model'])\n",
    "optimizer.load_state_dict(checkpoint['optimizer'])\n",
    "\n",
    "# Make sure to call .eval() or .train() on your model depending on what you're planning to do next\n",
    "model.eval()  # For inference\n",
    "# or\n",
    "# model.train()  # For further training\n",
    "\n",
    "\n",
    "pred_list = []\n",
    "target_list  = []\n",
    "mse_list = []\n",
    "with torch.no_grad():\n",
    "    for x_test, y_test in testing_loader:\n",
    "        x_batch = torch.squeeze(x_test, 0).to(device)\n",
    "        x_batch = x_batch.float()\n",
    "        y_batch = y_test.float().to(device)\n",
    "        # print(x_batch.size())\n",
    "        # y_batch = torch.Tensor.float(y).to(device)\n",
    "        # x_batch = x_batch.permute(0, 3, 1, 2).to(device)\n",
    "        pred = model(x_batch.float())\n",
    "        pred_list.append(pred)\n",
    "        target_list.append(y_batch)\n",
    "        # pred = pred.unsqueeze(0)\n",
    "        loss_test = criterion(y_batch, pred)\n",
    "        mse_list.append(loss_test)\n",
    "        # test_batch_loss.append(loss_test)\n",
    "        # test_epoch_loss.append(torch.mean(torch.stack(test_batch_loss)).detach().cpu().numpy())\n"
   ]
  },
  {
   "cell_type": "code",
   "execution_count": 39,
   "metadata": {},
   "outputs": [
    {
     "data": {
      "text/plain": [
       "0.90581405"
      ]
     },
     "execution_count": 39,
     "metadata": {},
     "output_type": "execute_result"
    }
   ],
   "source": [
    "np.mean([x.detach().cpu().numpy() for x in mse_list])"
   ]
  },
  {
   "cell_type": "code",
   "execution_count": 22,
   "metadata": {},
   "outputs": [],
   "source": [
    "test1 = test1.to(device).float()\n",
    "# full_seq_input = full_seq_input[None, :]"
   ]
  },
  {
   "cell_type": "code",
   "execution_count": 26,
   "metadata": {},
   "outputs": [
    {
     "data": {
      "text/plain": [
       "1206"
      ]
     },
     "execution_count": 26,
     "metadata": {},
     "output_type": "execute_result"
    }
   ],
   "source": [
    "len(testing_loader)"
   ]
  },
  {
   "cell_type": "code",
   "execution_count": 24,
   "metadata": {},
   "outputs": [
    {
     "data": {
      "text/plain": [
       "tensor([[[[0., 0., 0.,  ..., 0., 0., 1.],\n",
       "          [0., 0., 0.,  ..., 0., 0., 0.],\n",
       "          [0., 0., 0.,  ..., 1., 1., 0.],\n",
       "          [0., 0., 0.,  ..., 0., 0., 0.]]]], device='cuda:0')"
      ]
     },
     "execution_count": 24,
     "metadata": {},
     "output_type": "execute_result"
    }
   ],
   "source": [
    "test1[None, :]"
   ]
  },
  {
   "cell_type": "code",
   "execution_count": 142,
   "metadata": {},
   "outputs": [],
   "source": [
    "# testing_dataset = OneHotSeqsDataset(test_data, test_target, one_hot_dtype=torch.float, transform=True)\n",
    "testing_loader1 = DataLoader(dataset=testing_dataset, batch_size=1, collate_fn=collate_padded_batch, num_workers=8, shuffle=True, drop_last=True)\n",
    "ic.disable()\n",
    "model.eval()\n",
    "pred_list = []\n",
    "target_list  = []\n",
    "mse_list = []\n",
    "with torch.no_grad():\n",
    "    for x_test, y_test in testing_loader1:\n",
    "        xtest1 = x_test.to(device).float()\n",
    "        ytest1 = y_test.to(device).float()\n",
    "        pred = model(xtest1)\n",
    "        pred_list.append(pred.detach().cpu().numpy()) \n",
    "        target_list.append(y_test.detach().cpu().numpy())"
   ]
  },
  {
   "cell_type": "markdown",
   "metadata": {},
   "source": [
    "## Mic calc"
   ]
  },
  {
   "cell_type": "code",
   "execution_count": 146,
   "metadata": {},
   "outputs": [
    {
     "name": "stdout",
     "output_type": "stream",
     "text": [
      "[0.73516759 0.75171939 0.9372342  1.00391215 0.57611664 0.69781489\n",
      " 1.59391217 0.62171372 0.65177489 0.42724136 0.84407789 1.88967746\n",
      " 1.20451594]\n",
      "0.9180675616108638\n"
     ]
    }
   ],
   "source": [
    "pred_list = np.array(pred_list).squeeze()\n",
    "target_list = np.array(target_list).squeeze()\n",
    "mse_list = (pred_list - target_list)**2\n",
    "mse_out = np.nanmean(mse_list, axis=0)\n",
    "print(mse_out)\n",
    "print(np.mean(mse_out))"
   ]
  },
  {
   "cell_type": "code",
   "execution_count": 147,
   "metadata": {},
   "outputs": [
    {
     "name": "stdout",
     "output_type": "stream",
     "text": [
      "[1.99657691e+01 2.19492095e-02 1.20861531e-01 1.84303685e-02\n",
      " 2.18870026e+01 1.48684251e+01 1.62012543e+01 2.61311525e+01\n",
      " 6.15298126e+00 2.21063227e-01 1.96245250e+00 1.24928044e+01\n",
      " 9.46748127e-01]\n",
      "9.30699186242598\n"
     ]
    }
   ],
   "source": [
    "pred_list = np.array(pred_list).squeeze()\n",
    "target_list = np.array(target_list).squeeze()\n",
    "mse_list = (np.exp(pred_list) - np.exp(target_list))**2\n",
    "mse_out = np.nanmean(mse_list, axis=0)\n",
    "print(mse_out)\n",
    "print(np.mean(mse_out))"
   ]
  },
  {
   "cell_type": "markdown",
   "metadata": {},
   "source": [
    "## Ea calc"
   ]
  },
  {
   "cell_type": "code",
   "execution_count": 129,
   "metadata": {},
   "outputs": [],
   "source": [
    "def find_range_vectorized(target_values, quest_values):\n",
    "    # Convert lists to numpy arrays for efficient broadcasting\n",
    "    target_values =  np.exp(np.array(target_values)) # Reshape for broadcasting\n",
    "    quest_values =  np.exp(np.array(quest_values))\n",
    "\n",
    "    # Perform broadcasting to compare each quest value against all target values\n",
    "    # This creates a boolean matrix where rows correspond to target values and columns to quest values\n",
    "    in_range_matrix = (target_values / 2 <= quest_values) & (quest_values <= target_values * 2)\n",
    "    # in_range_matrix = np.abs(np.log2(target_values) - np.log2(quest_values))\n",
    "    # in_range_matrix  = in_range_matrix  <= 1\n",
    "    \n",
    "    # print(mse)\n",
    "    return in_range_matrix\n",
    "# Example usage\n",
    "# target_values = [[10, 20, 30, 40, 50], [10, 20, 30, 40, 50]]\n",
    "# quest_values = [[25, 5, 60, 1, 1], [10, 20, 30, 40, 50]]\n",
    "result = find_range_vectorized(target_list, pred_list)"
   ]
  },
  {
   "cell_type": "code",
   "execution_count": 148,
   "metadata": {},
   "outputs": [
    {
     "data": {
      "text/plain": [
       "array([0.21734211, 0.04858502, 0.07807854, 0.01177044, 1.1826788 ,\n",
       "       1.069281  , 0.02535057, 1.8139412 , 0.41462198, 0.45923612,\n",
       "       0.28088352, 0.1602019 , 0.06000657], dtype=float32)"
      ]
     },
     "execution_count": 148,
     "metadata": {},
     "output_type": "execute_result"
    }
   ],
   "source": [
    "np.exp(pred_list[0])"
   ]
  },
  {
   "cell_type": "code",
   "execution_count": 135,
   "metadata": {},
   "outputs": [],
   "source": [
    "target_values_ =  np.exp(np.array(target_list)) # Reshape for broadcasting\n",
    "quest_values_ =  np.exp(np.array(pred_list))\n"
   ]
  },
  {
   "cell_type": "code",
   "execution_count": 140,
   "metadata": {},
   "outputs": [
    {
     "data": {
      "text/plain": [
       "array([0.125  , 0.03   , 0.06   , 0.015  , 1.     , 0.5    , 0.01125,\n",
       "       2.     , 0.25   , 0.25   , 0.25   , 0.12   , 0.03   ])"
      ]
     },
     "execution_count": 140,
     "metadata": {},
     "output_type": "execute_result"
    }
   ],
   "source": [
    "target_values_[0]"
   ]
  },
  {
   "cell_type": "code",
   "execution_count": 139,
   "metadata": {},
   "outputs": [
    {
     "data": {
      "text/plain": [
       "array([0.20576242, 0.04286296, 0.07199533, 0.01137355, 1.0734862 ,\n",
       "       1.108645  , 0.0211071 , 1.6586974 , 0.39099902, 0.42291912,\n",
       "       0.2614918 , 0.12359841, 0.05220049], dtype=float32)"
      ]
     },
     "execution_count": 139,
     "metadata": {},
     "output_type": "execute_result"
    }
   ],
   "source": [
    "quest_values_[0]"
   ]
  },
  {
   "cell_type": "code",
   "execution_count": 141,
   "metadata": {},
   "outputs": [
    {
     "data": {
      "text/plain": [
       "array([[ True,  True,  True, ...,  True,  True,  True],\n",
       "       [ True,  True, False, ...,  True,  True,  True],\n",
       "       [False, False, False, ..., False,  True,  True],\n",
       "       ...,\n",
       "       [ True, False, False, ...,  True, False,  True],\n",
       "       [ True,  True, False, ..., False,  True, False],\n",
       "       [ True, False,  True, ...,  True,  True,  True]])"
      ]
     },
     "execution_count": 141,
     "metadata": {},
     "output_type": "execute_result"
    }
   ],
   "source": [
    "result"
   ]
  },
  {
   "cell_type": "code",
   "execution_count": 132,
   "metadata": {},
   "outputs": [
    {
     "data": {
      "text/plain": [
       "array([0.59784411, 0.67247098, 0.45854063, 0.50746269, 0.7106136 ,\n",
       "       0.64510779, 0.41293532, 0.56467662, 0.74626866, 0.77280265,\n",
       "       0.64013267, 0.53067993, 0.69402985])"
      ]
     },
     "execution_count": 132,
     "metadata": {},
     "output_type": "execute_result"
    }
   ],
   "source": [
    "np.nanmean(result, axis=0)"
   ]
  },
  {
   "cell_type": "code",
   "execution_count": 128,
   "metadata": {},
   "outputs": [
    {
     "data": {
      "text/plain": [
       "array([1., 1., 1., 1., 1., 1., 1., 1., 1., 1., 1., 1., 1.])"
      ]
     },
     "execution_count": 128,
     "metadata": {},
     "output_type": "execute_result"
    }
   ],
   "source": [
    "accuracies"
   ]
  },
  {
   "cell_type": "code",
   "execution_count": null,
   "metadata": {},
   "outputs": [],
   "source": []
  },
  {
   "cell_type": "code",
   "execution_count": 111,
   "metadata": {},
   "outputs": [
    {
     "ename": "NameError",
     "evalue": "name 'y_true' is not defined",
     "output_type": "error",
     "traceback": [
      "\u001b[0;31m---------------------------------------------------------------------------\u001b[0m",
      "\u001b[0;31mNameError\u001b[0m                                 Traceback (most recent call last)",
      "\u001b[0;32m/tmp/ipykernel_14808/3183972873.py\u001b[0m in \u001b[0;36m<module>\u001b[0;34m\u001b[0m\n\u001b[1;32m      4\u001b[0m \u001b[0;34m\u001b[0m\u001b[0m\n\u001b[1;32m      5\u001b[0m \u001b[0;32mfor\u001b[0m \u001b[0mi\u001b[0m \u001b[0;32min\u001b[0m \u001b[0mrange\u001b[0m\u001b[0;34m(\u001b[0m\u001b[0mresult\u001b[0m\u001b[0;34m.\u001b[0m\u001b[0mshape\u001b[0m\u001b[0;34m[\u001b[0m\u001b[0;36m0\u001b[0m\u001b[0;34m]\u001b[0m\u001b[0;34m)\u001b[0m\u001b[0;34m:\u001b[0m\u001b[0;34m\u001b[0m\u001b[0;34m\u001b[0m\u001b[0m\n\u001b[0;32m----> 6\u001b[0;31m     \u001b[0mf1\u001b[0m \u001b[0;34m=\u001b[0m \u001b[0mf1_score\u001b[0m\u001b[0;34m(\u001b[0m\u001b[0my_true\u001b[0m\u001b[0;34m,\u001b[0m \u001b[0mresult\u001b[0m\u001b[0;34m[\u001b[0m\u001b[0mi\u001b[0m\u001b[0;34m,\u001b[0m \u001b[0;34m:\u001b[0m\u001b[0;34m]\u001b[0m\u001b[0;34m)\u001b[0m\u001b[0;34m\u001b[0m\u001b[0;34m\u001b[0m\u001b[0m\n\u001b[0m\u001b[1;32m      7\u001b[0m     \u001b[0maccuracy\u001b[0m \u001b[0;34m=\u001b[0m \u001b[0maccuracy_score\u001b[0m\u001b[0;34m(\u001b[0m\u001b[0my_true\u001b[0m\u001b[0;34m,\u001b[0m \u001b[0mresult\u001b[0m\u001b[0;34m[\u001b[0m\u001b[0mi\u001b[0m\u001b[0;34m,\u001b[0m \u001b[0;34m:\u001b[0m\u001b[0;34m]\u001b[0m\u001b[0;34m)\u001b[0m\u001b[0;34m\u001b[0m\u001b[0;34m\u001b[0m\u001b[0m\n\u001b[1;32m      8\u001b[0m     \u001b[0mprint\u001b[0m\u001b[0;34m(\u001b[0m\u001b[0;34mf\"Model {i+1} - F1 Score: {f1}, Accuracy: {accuracy}\"\u001b[0m\u001b[0;34m)\u001b[0m\u001b[0;34m\u001b[0m\u001b[0;34m\u001b[0m\u001b[0m\n",
      "\u001b[0;31mNameError\u001b[0m: name 'y_true' is not defined"
     ]
    }
   ],
   "source": [
    "import numpy as np\n",
    "from sklearn.metrics import f1_score, accuracy_score\n",
    "\n",
    "\n",
    "for i in range(result.shape[0]):\n",
    "    f1 = f1_score(y_true, result[i, :])\n",
    "    accuracy = accuracy_score(y_true, result[i, :])\n",
    "    print(f\"Model {i+1} - F1 Score: {f1}, Accuracy: {accuracy}\")\n"
   ]
  },
  {
   "cell_type": "code",
   "execution_count": 83,
   "metadata": {},
   "outputs": [
    {
     "data": {
      "text/plain": [
       "array([0.73516759, 0.75171939, 0.9372342 , 1.00391215, 0.57611664,\n",
       "       0.69781489, 1.59391217, 0.62171372, 0.65177489, 0.42724136,\n",
       "       0.84407789, 1.88967746, 1.20451594])"
      ]
     },
     "execution_count": 83,
     "metadata": {},
     "output_type": "execute_result"
    }
   ],
   "source": [
    "mse_out"
   ]
  },
  {
   "cell_type": "code",
   "execution_count": null,
   "metadata": {},
   "outputs": [],
   "source": [
    "def EA_calc(target_matrix: np.array):\n",
    "    drugs = ['AMI', 'BDQ', 'CFZ', 'DLM', 'EMB', 'ETH', 'INH', 'KAN', 'LEV', 'LZD', 'MXF', 'RIF', 'RFB']\n",
    "    for x, drug in zip(range(target_matrix.shape[1]), drugs):\n",
    "        ea_count = len([item for item in target_matrix[:,x] if item == True])\n",
    "        ea_rate = (ea_count / len(target_matrix[:,x])) * 100\n",
    "        print(drug, ea_rate)\n",
    "        \n",
    "def MSE_calc(target_matrix: np.array):\n",
    "    drugs = ['AMI', 'BDQ', 'CFZ', 'DLM', 'EMB', 'ETH', 'INH', 'KAN', 'LEV', 'LZD', 'MXF', 'RIF', 'RFB']\n",
    "    for x, drug in zip(range(target_matrix.shape[1]), drugs):\n",
    "        mse = np.mean(target_matrix[:,x])\n",
    "        print(drug, mse)\n",
    "        "
   ]
  },
  {
   "cell_type": "code",
   "execution_count": null,
   "metadata": {},
   "outputs": [],
   "source": []
  },
  {
   "cell_type": "code",
   "execution_count": 50,
   "metadata": {},
   "outputs": [
    {
     "data": {
      "text/plain": [
       "[array([[-1.5810331 , -3.1497471 , -2.631154  , -4.4764647 ,  0.07091149,\n",
       "          0.1031385 , -3.8581457 ,  0.5060326 , -0.9390502 , -0.86057425,\n",
       "         -1.3413523 , -2.0907176 , -2.9526634 ]], dtype=float32),\n",
       " array([[-1.6480583 , -3.399836  , -2.8341248 , -4.601759  , -0.12617642,\n",
       "          0.01240166, -4.2072573 ,  0.40726072, -1.0163114 , -0.9696862 ,\n",
       "         -1.4959887 , -2.3658447 , -3.0637436 ]], dtype=float32),\n",
       " array([[ 1.7333795 , -3.1506734 , -2.5390346 , -4.0204735 ,  1.4878073 ,\n",
       "          1.1591023 ,  0.66148174,  2.5474248 , -0.20441489, -1.0884866 ,\n",
       "         -0.44853333,  2.10234   ,  1.3385557 ]], dtype=float32),\n",
       " array([[-1.5590793 , -3.116135  , -2.565436  , -4.4179916 ,  0.10928752,\n",
       "         -0.082398  , -3.7833533 ,  0.4698366 , -0.947845  , -0.8893929 ,\n",
       "         -1.2869158 , -2.0749    , -2.9242966 ]], dtype=float32),\n",
       " array([[-1.4860641 , -3.2058256 , -2.6555393 , -4.432949  , -0.00669682,\n",
       "         -0.09760089, -4.021046  ,  0.4431815 , -0.9616137 , -0.90421396,\n",
       "         -1.3610817 , -2.2731419 , -2.91721   ]], dtype=float32),\n",
       " array([[-1.2615111 , -2.809803  , -2.4878092 , -4.2570853 ,  0.32822788,\n",
       "          1.5717448 , -2.2368329 ,  0.7766759 , -0.7016536 , -0.6482908 ,\n",
       "         -0.988071  , -1.8902739 , -2.8333852 ]], dtype=float32),\n",
       " array([[-0.55451334, -3.2041075 , -2.2627337 , -3.6852703 ,  1.6436443 ,\n",
       "          1.5845773 ,  0.7928056 ,  1.0892241 ,  0.74936193, -0.8741662 ,\n",
       "          0.55324054,  2.1902373 ,  1.363049  ]], dtype=float32),\n",
       " array([[-1.9291697 , -3.6361954 , -2.983995  , -4.6489925 , -0.30159327,\n",
       "         -0.21456125, -4.264311  ,  0.09450056, -1.1964722 , -1.1353861 ,\n",
       "         -2.0268536 , -2.3733811 , -2.9299307 ]], dtype=float32),\n",
       " array([[-1.7306775 , -3.1141057 , -2.823135  , -4.496423  ,  0.19198373,\n",
       "          0.04005248, -3.5781171 ,  0.4435867 , -0.82906866, -0.85602844,\n",
       "         -1.2293346 , -2.30582   , -2.9206815 ]], dtype=float32),\n",
       " array([[-1.7964865 , -3.6169055 , -2.7967324 , -4.2594185 ,  1.0917852 ,\n",
       "          1.544425  , -0.1581434 ,  0.11501066, -0.76748335, -1.1551206 ,\n",
       "         -1.2845281 ,  2.642296  ,  1.5402496 ]], dtype=float32),\n",
       " array([[-1.4987465 , -3.1365836 , -2.5532746 , -4.4182043 ,  0.03617171,\n",
       "         -0.14313528, -3.783312  ,  0.47714296, -0.99408364, -0.88999623,\n",
       "         -1.4132297 , -2.1407826 , -2.8845878 ]], dtype=float32),\n",
       " array([[-1.616131  , -3.266886  , -2.6820688 , -4.494608  , -0.03424504,\n",
       "         -0.12431488, -3.9341884 ,  0.36900288, -1.0598811 , -0.960903  ,\n",
       "         -1.5709717 , -2.3259976 , -2.933599  ]], dtype=float32),\n",
       " array([[-1.5243089 , -3.1393015 , -2.5502856 , -4.457627  ,  0.03177751,\n",
       "         -0.1136987 , -3.847149  ,  0.49817258, -0.97945863, -0.89140624,\n",
       "         -1.3433907 , -2.1927526 , -2.9438438 ]], dtype=float32),\n",
       " array([[-1.5671088 , -3.7772708 , -2.9725957 , -5.0384073 ,  0.7376938 ,\n",
       "          0.2684337 , -0.09330848,  0.20018208, -1.147979  , -1.3268147 ,\n",
       "         -1.8982443 ,  1.5813339 ,  0.5803013 ]], dtype=float32),\n",
       " array([[-1.5465775 , -3.131982  , -2.5814934 , -4.4506907 ,  0.04389248,\n",
       "         -0.09013506, -3.8416252 ,  0.5230989 , -0.97092724, -0.89981264,\n",
       "         -1.3333827 , -2.1988652 , -2.9491277 ]], dtype=float32),\n",
       " array([[-1.3051987 , -3.0103052 , -2.5667305 , -4.3716693 ,  0.13173515,\n",
       "          0.16716763, -3.934784  ,  0.61428285, -0.82550424, -0.7450562 ,\n",
       "         -1.0588487 , -2.233353  , -3.0487444 ]], dtype=float32),\n",
       " array([[-1.8646184 , -3.4943209 , -2.663535  , -4.4217477 ,  1.5628585 ,\n",
       "          0.6508509 ,  0.3390332 , -0.24862273, -0.7849316 , -1.0774087 ,\n",
       "         -1.3035561 ,  2.509566  ,  1.4835966 ]], dtype=float32),\n",
       " array([[-1.8513061 , -3.1172054 , -2.6004643 , -4.4530025 ,  1.1820627 ,\n",
       "          0.05187079,  0.3587613 ,  0.02787786, -1.1121488 , -1.0692301 ,\n",
       "         -2.3893151 ,  1.7790561 ,  0.4524192 ]], dtype=float32),\n",
       " array([[-1.9189359 , -3.3222985 , -2.8514774 , -4.4226685 ,  1.1873829 ,\n",
       "          0.15742657,  0.26109815, -0.3541293 , -1.0496491 , -1.2138951 ,\n",
       "         -2.1286187 ,  2.158613  ,  1.2840524 ]], dtype=float32),\n",
       " array([[-1.6650352 , -3.7217178 , -2.7882068 , -4.686466  ,  0.9859945 ,\n",
       "          0.24244717, -1.9592354 ,  0.59792393, -0.70780206, -1.0153658 ,\n",
       "         -1.5124213 ,  0.04748725, -1.3216577 ]], dtype=float32),\n",
       " array([[-1.3312472 , -2.9687502 , -2.5330238 , -4.36456   ,  0.13575199,\n",
       "          0.13324086, -3.945586  ,  0.61743134, -0.82113814, -0.7602387 ,\n",
       "         -1.0492842 , -2.2314847 , -3.0156326 ]], dtype=float32),\n",
       " array([[-1.5860945 , -3.190453  , -2.679604  , -4.437315  , -0.01952691,\n",
       "         -0.14280078, -3.9105608 ,  0.39378032, -1.014133  , -0.92470425,\n",
       "         -1.4449877 , -2.2563684 , -2.9198136 ]], dtype=float32),\n",
       " array([[-1.5262827 , -3.02444   , -2.55004   , -4.4421644 ,  0.16778198,\n",
       "          0.06698638, -3.674954  ,  0.595502  , -0.8803881 , -0.77819073,\n",
       "         -1.2698152 , -1.8313204 , -2.813301  ]], dtype=float32),\n",
       " array([[-1.5708562 , -3.2424185 , -2.6907907 , -4.5788574 , -0.00571654,\n",
       "         -0.21272245, -3.9219337 ,  0.33980092, -1.1687689 , -0.98273474,\n",
       "         -1.581404  , -2.3901486 , -3.0008624 ]], dtype=float32),\n",
       " array([[-1.5485924 , -3.1403573 , -2.5855162 , -4.464853  ,  0.04610556,\n",
       "         -0.08291971, -3.8373995 ,  0.4945209 , -0.9624801 , -0.9110674 ,\n",
       "         -1.2878983 , -2.1092422 , -2.8999753 ]], dtype=float32),\n",
       " array([[-1.371975  , -3.021239  , -2.5855336 , -4.395879  ,  0.14083879,\n",
       "          0.11459058, -3.9540205 ,  0.57603747, -0.80447906, -0.7674768 ,\n",
       "         -1.0413579 , -2.2443817 , -3.0077746 ]], dtype=float32),\n",
       " array([[-1.793979  , -3.2078612 , -2.91289   , -4.53956   ,  0.19740635,\n",
       "          0.05974623, -3.5629063 ,  0.38755745, -0.92126405, -0.9165986 ,\n",
       "         -1.4260263 , -2.2902334 , -2.931747  ]], dtype=float32),\n",
       " array([[-1.9584752 , -3.8308754 , -3.4087212 , -4.9827394 ,  0.5627469 ,\n",
       "          0.31287664, -0.39287454,  0.04231861, -1.0354294 , -1.1586398 ,\n",
       "         -1.6798489 ,  1.7431442 ,  0.3491416 ]], dtype=float32),\n",
       " array([[-1.592252  , -3.179498  , -2.6409261 , -4.4410477 , -0.01020513,\n",
       "         -0.15029326, -3.892023  ,  0.3864481 , -1.0205327 , -0.9235454 ,\n",
       "         -1.448366  , -2.2438142 , -2.9028237 ]], dtype=float32),\n",
       " array([[-1.1988300e+00, -2.9274433e+00, -2.2992625e+00, -4.2001877e+00,\n",
       "          1.6275439e-01,  3.0227080e-03, -3.6092494e+00,  8.0521935e-01,\n",
       "         -7.1099907e-01, -6.8911868e-01, -1.0035776e+00, -1.7629771e+00,\n",
       "         -2.9428208e+00]], dtype=float32),\n",
       " array([[-1.6835670e+00, -3.8348076e+00, -3.0152884e+00, -4.4100685e+00,\n",
       "          2.2699386e-03,  4.6077928e-01, -4.1634789e+00, -7.3278420e-02,\n",
       "         -1.0704048e+00, -1.0225720e+00, -1.8747631e+00, -2.6960440e+00,\n",
       "         -3.0081573e+00]], dtype=float32),\n",
       " array([[-1.8053902 , -3.2431448 , -2.8893867 , -4.3369927 , -0.07324732,\n",
       "         -0.15739793, -3.7398767 ,  0.05725458, -1.1959528 , -1.0930536 ,\n",
       "         -2.4539623 , -1.6828749 , -2.5060463 ]], dtype=float32),\n",
       " array([[-1.4830898 , -3.0993226 , -2.5461926 , -4.4431777 ,  0.05486812,\n",
       "         -0.05905423, -3.78562   ,  0.5553863 , -0.90928966, -0.87783724,\n",
       "         -1.2558933 , -2.1509721 , -2.9384458 ]], dtype=float32),\n",
       " array([[-2.0790505 , -3.8697345 , -3.0434425 , -4.536443  ,  1.2884295 ,\n",
       "          0.63817585,  0.4555005 , -0.31337807, -1.069387  , -1.2865105 ,\n",
       "         -1.674059  ,  2.492171  ,  1.4103479 ]], dtype=float32),\n",
       " array([[-1.5384219 , -3.0806952 , -2.5490751 , -4.4723444 ,  0.05546721,\n",
       "          0.10385133, -3.8204217 ,  0.5609992 , -0.8452928 , -0.80485415,\n",
       "         -1.2127895 , -2.0152762 , -2.9280512 ]], dtype=float32),\n",
       " array([[-1.5392491 , -3.0939724 , -2.5286603 , -4.486477  ,  0.10401259,\n",
       "         -0.0051365 , -3.7613728 ,  0.60033053, -0.9819681 , -0.8500603 ,\n",
       "         -1.3018973 , -2.1584933 , -2.942528  ]], dtype=float32),\n",
       " array([[-1.9392247 , -3.2731187 , -2.7094398 , -4.4378657 ,  0.92857903,\n",
       "          0.04512286, -1.2243412 ,  0.19718803, -0.884226  , -1.0494298 ,\n",
       "         -2.3669152 ,  0.57741314, -0.9070219 ]], dtype=float32),\n",
       " array([[-1.5288676 , -3.1666348 , -2.5771766 , -4.7692533 ,  0.21200651,\n",
       "          0.12125698,  0.25790805,  0.3420294 , -1.0490311 , -1.0227921 ,\n",
       "         -1.5836693 , -1.052836  , -2.0426776 ]], dtype=float32),\n",
       " array([[-1.6004685, -3.4532557, -2.6112645, -3.7213128,  1.541568 ,\n",
       "          1.641946 ,  0.6100239,  0.1028307,  1.1395336, -1.0849806,\n",
       "          0.8080853,  2.2136173,  1.3606738]], dtype=float32),\n",
       " array([[-1.7419881 , -3.5414522 , -2.785295  , -4.2992306 ,  1.2753855 ,\n",
       "          0.59098727,  0.29090798,  0.13724984,  0.28724658, -0.9562362 ,\n",
       "         -0.06267316,  2.668588  ,  1.6052098 ]], dtype=float32),\n",
       " array([[-1.5593083 , -3.343555  , -2.7036798 , -4.9466124 ,  0.06636306,\n",
       "         -0.08416324,  0.07858846,  0.17818132, -1.1804508 , -1.128466  ,\n",
       "         -1.8405058 , -1.5521286 , -2.4448247 ]], dtype=float32),\n",
       " array([[-1.4673473 , -3.1433344 , -2.6428123 , -4.43735   ,  0.00805493,\n",
       "          0.0796028 , -4.037244  ,  0.55831784, -0.9315472 , -0.878067  ,\n",
       "         -1.272618  , -2.2969453 , -3.007194  ]], dtype=float32),\n",
       " array([[-1.94043   , -3.9794405 , -3.1669736 , -4.6709776 ,  0.48303235,\n",
       "          1.9547266 , -1.1321161 ,  0.16844319, -1.0008545 , -1.2043188 ,\n",
       "         -1.6801051 ,  1.3048933 ,  0.5530553 ]], dtype=float32),\n",
       " array([[-1.1981362 , -3.1727378 , -2.4376543 , -4.491824  ,  0.7147978 ,\n",
       "          1.6535614 , -1.1928072 ,  0.8037528 , -0.47134426, -0.76212364,\n",
       "         -0.9586638 ,  2.6129773 ,  1.2924421 ]], dtype=float32),\n",
       " array([[-1.3027104 , -3.0972004 , -2.5095625 , -4.4029245 ,  0.11041848,\n",
       "          0.08847763, -3.944996  ,  0.70575625, -0.83685696, -0.7562854 ,\n",
       "         -1.1846882 , -1.9377835 , -2.9436464 ]], dtype=float32),\n",
       " array([[-1.83861339e+00, -3.70245624e+00, -2.95905662e+00,\n",
       "         -4.30291653e+00, -1.11062594e-01,  1.37321144e-01,\n",
       "         -4.18620014e+00,  4.17262502e-03, -9.49276865e-01,\n",
       "         -1.09085977e+00, -1.71254849e+00, -2.52167439e+00,\n",
       "         -2.91590524e+00]], dtype=float32),\n",
       " array([[-1.5420665 , -3.2180388 , -2.5932665 , -4.480512  ,  0.18413427,\n",
       "         -0.24090499, -3.8345273 ,  0.5455346 , -0.9488247 , -0.8821221 ,\n",
       "         -1.603102  ,  0.09563664, -1.0265937 ]], dtype=float32),\n",
       " array([[-1.7273045 , -3.6836355 , -2.8257456 , -4.545008  ,  1.3193147 ,\n",
       "          1.9795346 , -0.42854926,  0.4232346 , -0.6255676 , -1.0482727 ,\n",
       "         -1.0941322 ,  2.6045992 ,  1.3295333 ]], dtype=float32),\n",
       " array([[-1.9158467 , -3.2270505 , -2.6180062 , -4.458132  ,  1.1529411 ,\n",
       "          0.03386441,  0.35661122,  0.10349145, -1.0797307 , -1.09468   ,\n",
       "         -2.3117428 ,  1.4655606 , -0.389866  ]], dtype=float32),\n",
       " array([[-1.3563434 , -2.9575353 , -2.5352347 , -4.382632  ,  0.1401177 ,\n",
       "          0.13175334, -3.928183  ,  0.6107942 , -0.8077053 , -0.7656047 ,\n",
       "         -1.0334147 , -2.2189019 , -2.9851823 ]], dtype=float32),\n",
       " array([[-1.4546221 , -3.0903442 , -2.5091352 , -4.440588  ,  0.07651702,\n",
       "         -0.06008557, -3.7329125 ,  0.6025554 , -0.90883964, -0.85529166,\n",
       "         -1.251006  , -2.0807898 , -2.8943422 ]], dtype=float32),\n",
       " array([[-1.71381   , -3.451133  , -2.804309  , -4.617305  , -0.15129206,\n",
       "         -0.11777549, -4.0996823 ,  0.33711147, -1.1238891 , -1.0535728 ,\n",
       "         -1.6660441 , -2.255337  , -2.937924  ]], dtype=float32),\n",
       " array([[-1.504404  , -3.1249652 , -2.5604796 , -4.4663115 ,  0.05692955,\n",
       "         -0.07668348, -3.7871954 ,  0.54872644, -0.9395789 , -0.89116555,\n",
       "         -1.2752753 , -2.1372182 , -2.9318917 ]], dtype=float32),\n",
       " array([[-1.5960175 , -3.1819606 , -2.6673584 , -4.4562397 , -0.02045093,\n",
       "         -0.1395958 , -3.8882947 ,  0.38681364, -1.0237215 , -0.9256219 ,\n",
       "         -1.4536757 , -2.267031  , -2.9287539 ]], dtype=float32),\n",
       " array([[-1.7468649 , -3.1528122 , -2.8404453 , -4.4983883 ,  0.2052556 ,\n",
       "          0.08518597, -3.6679738 ,  0.42177245, -0.8213652 , -0.8794058 ,\n",
       "         -1.2963411 , -2.4523838 , -3.0132606 ]], dtype=float32),\n",
       " array([[-1.719308  , -3.8204956 , -3.5868711 , -4.898801  ,  1.7597369 ,\n",
       "         -0.19454804,  0.4209305 ,  0.5591443 , -0.9747248 , -1.0076598 ,\n",
       "         -1.544517  ,  2.7030737 , -0.90235084]], dtype=float32),\n",
       " array([[-2.081476  , -3.7369018 , -2.9575863 , -4.393771  ,  1.3324405 ,\n",
       "          0.5966761 ,  0.19180325, -0.5178948 , -0.9134385 , -1.2598048 ,\n",
       "         -1.5680865 ,  2.313197  ,  1.3538187 ]], dtype=float32),\n",
       " array([[-1.7314239 , -3.298268  , -2.772542  , -4.510686  ,  0.43327352,\n",
       "          0.03599485, -3.0611908 ,  0.65121573, -0.7177193 , -0.7907818 ,\n",
       "         -1.3065966 , -0.74926996, -2.174016  ]], dtype=float32),\n",
       " array([[-1.8493978 , -3.2153425 , -2.7886877 , -4.2907104 ,  1.2137357 ,\n",
       "          0.32931706,  0.34706998, -0.3093864 , -0.9151739 , -1.155542  ,\n",
       "         -2.0119298 ,  2.2812905 ,  1.3376878 ]], dtype=float32),\n",
       " array([[-2.0215266 , -3.608721  , -2.9047117 , -4.1691427 ,  0.08597273,\n",
       "          1.5296504 , -2.5902743 , -0.22011322, -0.81379634, -0.99504906,\n",
       "         -1.7104625 , -1.9683864 , -2.416163  ]], dtype=float32),\n",
       " array([[-2.039727  , -3.9067194 , -2.6239629 , -4.804288  ,  1.6148753 ,\n",
       "          0.23159918, -0.64837795, -0.02317507, -0.89215654, -1.2594031 ,\n",
       "         -1.6343118 ,  1.3499637 , -0.23760946]], dtype=float32),\n",
       " array([[-1.427383  , -3.0229576 , -2.4324718 , -4.3632374 ,  0.08968708,\n",
       "          0.01854699, -3.7260091 ,  0.6696729 , -0.8967069 , -0.7552824 ,\n",
       "         -1.2410597 , -1.9348783 , -2.944946  ]], dtype=float32),\n",
       " array([[-1.3610036 , -2.9703093 , -2.5288484 , -4.3746676 ,  0.15456215,\n",
       "          0.1108221 , -3.9153585 ,  0.61566   , -0.82112604, -0.7542209 ,\n",
       "         -1.064322  , -2.1582572 , -2.975069  ]], dtype=float32),\n",
       " array([[-1.2711676 , -3.1550825 , -2.3530943 , -4.2857075 ,  1.46819   ,\n",
       "          0.29336265,  0.52159536,  0.42203283, -0.1146168 , -0.8435983 ,\n",
       "         -0.601371  ,  2.2734957 ,  0.02336945]], dtype=float32),\n",
       " array([[-1.8941537 , -4.0377283 , -3.0421772 , -4.788886  ,  0.7525196 ,\n",
       "          0.32298803,  0.00826816, -0.18092296, -1.1491789 , -1.3499981 ,\n",
       "         -1.666473  ,  2.1586354 ,  1.2679214 ]], dtype=float32),\n",
       " array([[-1.8370229 , -3.5660398 , -2.720975  , -4.5291348 ,  1.1472867 ,\n",
       "          0.42803222,  0.3476511 , -0.03015057, -0.96037996, -1.1669276 ,\n",
       "         -1.4562787 ,  2.4686563 ,  1.416775  ]], dtype=float32),\n",
       " array([[-1.0980817 , -2.949328  , -2.3356245 , -4.3090467 ,  0.19511142,\n",
       "          0.28040826, -3.7339628 ,  0.8012851 , -0.69558907, -0.6295517 ,\n",
       "         -0.9342783 , -1.6689891 , -2.8500557 ]], dtype=float32),\n",
       " array([[-1.7472388 , -3.7026656 , -2.951873  , -4.7228804 ,  0.23768356,\n",
       "         -0.02069613, -3.3005912 ,  0.47747365, -1.0233092 , -1.033956  ,\n",
       "         -1.7357512 , -0.86487883, -2.227267  ]], dtype=float32),\n",
       " array([[-1.452524  , -2.9883807 , -2.513967  , -4.2658396 ,  0.18633595,\n",
       "          0.05643018, -3.496597  ,  0.53829205, -0.7121752 , -0.7203112 ,\n",
       "         -1.1213663 , -2.0965116 , -2.923015  ]], dtype=float32),\n",
       " array([[-1.6795168 , -3.4291408 , -2.7902343 , -4.4412055 ,  1.3572146 ,\n",
       "          0.5845686 ,  0.38692114,  0.10272706, -0.88884866, -1.063236  ,\n",
       "         -1.333773  ,  2.590121  ,  1.5963693 ]], dtype=float32),\n",
       " array([[-1.5580008e+00, -3.2310846e+00, -2.6302195e+00, -4.4680462e+00,\n",
       "         -1.3073608e-03, -1.3198969e-01, -3.9276686e+00,  4.0158117e-01,\n",
       "         -1.0353326e+00, -9.3443161e-01, -1.5267049e+00, -2.2601554e+00,\n",
       "         -2.8895357e+00]], dtype=float32),\n",
       " array([[-1.865213  , -3.6475625 , -2.8398263 , -4.167568  ,  1.518326  ,\n",
       "          0.8349215 ,  0.4005942 , -0.08524109,  1.1725425 , -1.1929404 ,\n",
       "          0.73964894,  2.3573475 ,  1.1894413 ]], dtype=float32),\n",
       " array([[-1.6366528 , -3.0868382 , -2.678743  , -4.466237  ,  0.12205326,\n",
       "          0.03855252, -3.6069632 ,  0.5263915 , -0.8471536 , -0.78314465,\n",
       "         -1.2645046 , -2.0958793 , -2.9400036 ]], dtype=float32),\n",
       " array([[-1.839889  , -3.377478  , -2.6211824 , -3.910408  ,  1.7306863 ,\n",
       "          0.96710575,  0.49702436, -0.1890074 ,  1.1763474 , -1.0063255 ,\n",
       "          0.714273  ,  2.2713172 ,  1.3335555 ]], dtype=float32),\n",
       " array([[-1.5106207 , -3.182562  , -2.5006757 , -4.0971427 ,  1.6640801 ,\n",
       "          1.8394184 ,  0.28656858,  0.5292345 ,  0.0543064 , -0.8600937 ,\n",
       "         -0.2394849 ,  2.826684  ,  1.6084926 ]], dtype=float32),\n",
       " array([[-1.3615154 , -3.3822396 , -2.4115753 , -3.907295  ,  1.7643616 ,\n",
       "          0.9306507 ,  0.649057  ,  0.23832606,  1.0583316 , -0.92903405,\n",
       "          0.7448271 ,  2.3149807 ,  1.4433185 ]], dtype=float32),\n",
       " array([[-2.1234725 , -3.626684  , -2.8467708 , -4.0990086 ,  1.6779203 ,\n",
       "          0.97460127,  0.39920652, -0.30514887,  1.2631583 , -1.0764859 ,\n",
       "          0.8222893 ,  2.3540478 ,  1.4052564 ]], dtype=float32),\n",
       " array([[-1.6370112 , -3.3583977 , -2.74008   , -4.544748  , -0.08929892,\n",
       "          0.05211027, -4.0059257 ,  0.3750915 , -0.9557074 , -0.91568464,\n",
       "         -1.4413174 , -2.320229  , -3.0132942 ]], dtype=float32),\n",
       " array([[-1.5911777e+00, -3.2215259e+00, -2.6683223e+00, -4.4748511e+00,\n",
       "         -3.5480633e-03, -1.2678149e-01, -3.9419892e+00,  3.8702530e-01,\n",
       "         -1.0162214e+00, -9.2946392e-01, -1.4452977e+00, -2.2943671e+00,\n",
       "         -2.9245725e+00]], dtype=float32),\n",
       " array([[ 1.8215376 , -3.3224034 , -2.559218  , -4.083098  ,  1.5140288 ,\n",
       "          1.12147   ,  0.52577215,  2.6391108 ,  0.7596298 , -1.1063055 ,\n",
       "          0.5400228 ,  1.8094692 ,  1.0399753 ]], dtype=float32),\n",
       " array([[-1.7237923 , -3.622224  , -2.8586693 , -4.7163143 ,  0.551651  ,\n",
       "          0.27610934, -0.24017532,  0.16698681, -0.9674322 , -1.1661277 ,\n",
       "         -1.4520929 ,  2.1244233 ,  1.1566598 ]], dtype=float32),\n",
       " array([[-2.0913277 , -4.00674   , -3.4031422 , -4.965627  ,  0.52077633,\n",
       "          1.7220738 , -1.3189335 ,  0.18409322, -1.051562  , -1.1465708 ,\n",
       "         -1.6238505 ,  1.8819371 ,  0.85727257]], dtype=float32),\n",
       " array([[ 2.0777783 , -3.1970122 , -2.5489192 , -3.8730192 ,  1.94368   ,\n",
       "          0.67318106,  0.8038165 ,  2.671863  ,  0.8315323 , -0.669951  ,\n",
       "          0.44733614,  1.788586  , -0.25923327]], dtype=float32),\n",
       " array([[-1.3192645 , -2.9507637 , -2.5313406 , -4.343227  ,  0.17536736,\n",
       "          0.18592787, -3.8740253 ,  0.60279804, -0.8051534 , -0.73984754,\n",
       "         -1.0260134 , -2.1834476 , -2.9752223 ]], dtype=float32),\n",
       " array([[-1.4277507 , -3.013887  , -2.6741734 , -4.3897767 ,  0.22469857,\n",
       "          1.5528181 , -2.122726  ,  0.6816965 , -0.78014857, -0.81475854,\n",
       "         -1.2182307 , -1.729372  , -2.5841923 ]], dtype=float32),\n",
       " array([[-1.6988612 , -3.5192385 , -3.260747  , -4.771893  ,  1.6635203 ,\n",
       "         -0.05309231,  0.54826385,  0.5344965 , -0.92985255, -0.9398024 ,\n",
       "         -1.4721622 ,  2.633971  , -0.692449  ]], dtype=float32),\n",
       " array([[-1.405959  , -2.966537  , -2.491981  , -4.410514  ,  0.14606854,\n",
       "          0.13307175, -3.7724922 ,  0.5903341 , -0.82519585, -0.7509548 ,\n",
       "         -1.0901977 , -2.1075013 , -2.9559624 ]], dtype=float32),\n",
       " array([[ 2.031103  , -2.9775956 , -1.9027736 , -3.8449214 ,  1.4941591 ,\n",
       "          1.0765594 ,  0.7215653 ,  2.7551856 ,  0.7540628 , -0.80304784,\n",
       "          0.5627081 ,  1.86668   ,  0.40485185]], dtype=float32),\n",
       " array([[-1.5093453 , -3.3163922 , -2.6948712 , -4.3697186 ,  0.05490946,\n",
       "         -0.02908239, -3.6897578 ,  0.43148932, -0.41686985, -0.81075865,\n",
       "         -1.0561608 , -1.5966015 , -2.4050865 ]], dtype=float32),\n",
       " array([[-1.5150647 , -3.0837488 , -2.534216  , -4.4034696 ,  0.07631924,\n",
       "         -0.07425733, -3.797781  ,  0.5132075 , -0.9661557 , -0.8706232 ,\n",
       "         -1.3252345 , -2.207219  , -2.9415708 ]], dtype=float32),\n",
       " array([[-2.0442698 , -3.1630187 , -2.5521984 , -3.887371  ,  1.5293943 ,\n",
       "          0.47967714,  0.3982489 , -0.49721724,  1.127086  , -1.0186591 ,\n",
       "          0.1986605 ,  2.0191715 ,  1.1044697 ]], dtype=float32),\n",
       " array([[-1.7311233 , -3.7262645 , -3.4565105 , -4.7729073 ,  1.7231795 ,\n",
       "         -0.20070875,  0.40007114,  0.5544984 , -0.9572701 , -0.99254775,\n",
       "         -1.500257  ,  2.66214   , -0.94892603]], dtype=float32),\n",
       " array([[-1.910056  , -3.5969079 , -2.949214  , -4.547619  , -0.23429722,\n",
       "         -0.09973784, -4.2102118 ,  0.01532193, -1.1909527 , -1.1530559 ,\n",
       "         -1.9821864 , -2.2114248 , -2.7169547 ]], dtype=float32),\n",
       " array([[-1.513143  , -3.1457517 , -2.5684571 , -4.186608  ,  1.6277801 ,\n",
       "          0.98874474,  0.836819  ,  0.21583734,  0.5790339 , -0.8341487 ,\n",
       "          0.18179107,  2.643851  ,  1.6886194 ]], dtype=float32),\n",
       " array([[-1.5268718 , -3.0747993 , -2.5471344 , -4.453822  ,  0.08031712,\n",
       "         -0.03324766, -3.7727373 ,  0.5647662 , -0.9434263 , -0.86256987,\n",
       "         -1.2535629 , -2.1431813 , -2.9344778 ]], dtype=float32),\n",
       " array([[-1.3669251 , -3.1282542 , -2.3950336 , -3.7407768 ,  1.7530094 ,\n",
       "          1.8744705 ,  0.5388759 ,  0.40436906,  0.7301355 , -0.9244596 ,\n",
       "          0.727314  ,  2.459291  ,  1.3878636 ]], dtype=float32),\n",
       " array([[-1.7737594 , -3.3764625 , -2.6251254 , -4.064587  ,  1.7368575 ,\n",
       "          0.97525424,  0.42378885, -0.18905213,  0.77010804, -1.0056785 ,\n",
       "          0.327887  ,  2.375088  ,  1.5290118 ]], dtype=float32),\n",
       " array([[-1.1896163 , -2.8612092 , -2.2282782 , -4.2675953 ,  0.23184505,\n",
       "          0.12976143, -3.6128902 ,  0.75129896, -0.7055908 , -0.58489645,\n",
       "         -0.9761135 , -1.7512355 , -2.9639034 ]], dtype=float32),\n",
       " array([[-1.5339345 , -3.1480107 , -2.5738    , -4.4656553 ,  0.02479296,\n",
       "         -0.1259642 , -3.8324835 ,  0.46265766, -0.9928766 , -0.9188259 ,\n",
       "         -1.3668324 , -2.1707363 , -2.9103403 ]], dtype=float32),\n",
       " array([[-1.4198389 , -2.966225  , -2.4919908 , -4.3512163 ,  0.11431056,\n",
       "          0.12148916, -3.799127  ,  0.6181294 , -0.8805937 , -0.7303553 ,\n",
       "         -1.1420742 , -2.0958247 , -3.0202076 ]], dtype=float32),\n",
       " array([[-1.4800375 , -3.041437  , -2.52642   , -4.4921536 ,  0.09854733,\n",
       "          0.02465235, -3.7194285 ,  0.61195344, -0.8905625 , -0.8130452 ,\n",
       "         -1.2477763 , -2.096525  , -2.9679914 ]], dtype=float32),\n",
       " array([[-1.097456  , -2.9827023 , -2.360744  , -3.9583938 ,  1.4697013 ,\n",
       "          0.7381186 ,  0.8453539 ,  0.4812562 ,  1.1276706 , -0.65697104,\n",
       "          0.64564085,  1.4904222 , -0.08389755]], dtype=float32),\n",
       " array([[-1.8317245 , -3.2312877 , -2.8782406 , -4.4161835 , -0.06799401,\n",
       "         -0.2600449 , -3.9195654 ,  0.10278646, -1.1115583 , -1.0527717 ,\n",
       "         -2.3356416 , -1.9795911 , -2.7080593 ]], dtype=float32),\n",
       " array([[-1.8282253 , -3.1606438 , -2.6959972 , -4.4151325 ,  1.3394425 ,\n",
       "          0.15825546,  0.36406288, -0.41616178, -1.011631  , -1.159468  ,\n",
       "         -2.0607085 ,  2.5323973 ,  1.4503968 ]], dtype=float32),\n",
       " array([[ 1.7313035 , -3.392023  , -2.7433655 , -4.1086655 ,  1.3313236 ,\n",
       "          1.1150125 ,  0.4579429 ,  2.6632276 ,  0.7714496 , -1.1501299 ,\n",
       "          0.66052526,  1.8206476 ,  1.1018596 ]], dtype=float32),\n",
       " array([[-1.5923439 , -3.838473  , -2.91125   , -4.375124  , -0.01111164,\n",
       "          0.45506272, -3.9035811 , -0.07381239, -1.058138  , -1.0982755 ,\n",
       "         -2.0940309 , -2.2514246 , -2.6391606 ]], dtype=float32),\n",
       " array([[-1.4722944 , -3.0753465 , -2.5577579 , -4.3872166 ,  0.03193434,\n",
       "          0.0897477 , -3.855423  ,  0.5256614 , -0.8636507 , -0.80567974,\n",
       "         -1.184575  , -2.1351604 , -2.9892886 ]], dtype=float32),\n",
       " array([[-1.5002393 , -3.0760143 , -2.6118207 , -4.41646   ,  0.10126841,\n",
       "          0.0244058 , -3.8708894 ,  0.49259865, -0.8853079 , -0.8160979 ,\n",
       "         -1.2583292 , -2.177241  , -2.935395  ]], dtype=float32),\n",
       " array([[-1.9650656 , -3.5012634 , -2.8024597 , -4.2941375 ,  1.545144  ,\n",
       "          0.553159  ,  0.45556068, -0.3644424 , -0.7943606 , -1.1162881 ,\n",
       "         -1.3631973 ,  2.5154307 ,  1.447521  ]], dtype=float32),\n",
       " array([[-2.003808  , -3.5741317 , -3.103627  , -4.5661035 , -0.22912961,\n",
       "         -0.10849247, -3.8472056 ,  0.07641416, -1.0208656 , -1.1334482 ,\n",
       "         -1.7979871 , -2.5835845 , -2.8450732 ]], dtype=float32),\n",
       " array([[ 1.8109871 , -3.5440443 , -2.8091273 , -4.0810337 ,  1.3840678 ,\n",
       "          0.88447964,  0.19868469,  2.4366996 , -0.5759612 , -1.1340162 ,\n",
       "         -0.9522663 ,  1.8681664 ,  0.82532114]], dtype=float32),\n",
       " array([[-1.2758921 , -2.972835  , -2.4629395 , -4.33965   ,  0.14072019,\n",
       "          0.14741924, -3.9050741 ,  0.71309096, -0.81759363, -0.7039628 ,\n",
       "         -1.0612615 , -2.0491323 , -3.0164227 ]], dtype=float32),\n",
       " array([[-1.8802307 , -3.464311  , -2.6104286 , -4.7951813 ,  1.3732369 ,\n",
       "          0.26547515,  0.397996  , -0.02711256, -1.29822   , -1.1739765 ,\n",
       "         -1.8840374 ,  1.9980457 ,  0.2200423 ]], dtype=float32),\n",
       " array([[-2.24993   , -3.772082  , -2.8824866 , -4.5403256 ,  1.231606  ,\n",
       "          0.8251945 , -0.5053561 , -0.34454316, -0.7791724 , -1.2252266 ,\n",
       "         -1.5279428 ,  2.101695  ,  0.9564791 ]], dtype=float32),\n",
       " array([[ 1.316017  , -3.6705735 , -3.0206609 , -4.1199303 ,  0.35354218,\n",
       "          0.8629683 , -1.8505433 ,  1.896272  , -0.8863967 , -0.88372654,\n",
       "         -1.5068043 , -0.892865  , -1.7901132 ]], dtype=float32),\n",
       " array([[-1.5126315 , -3.0872262 , -2.573121  , -4.512171  ,  0.11926449,\n",
       "          0.06325227, -3.7902303 ,  0.57258844, -0.90523535, -0.80549973,\n",
       "         -1.2375989 , -2.2271397 , -3.0135918 ]], dtype=float32),\n",
       " array([[-1.5641549e+00, -3.2132561e+00, -2.6265097e+00, -4.4459505e+00,\n",
       "         -4.3583661e-04, -1.5811267e-01, -3.9049087e+00,  3.8382140e-01,\n",
       "         -9.8314112e-01, -9.1704881e-01, -1.4502387e+00, -2.2340209e+00,\n",
       "         -2.8849366e+00]], dtype=float32),\n",
       " array([[-1.3741633 , -2.9801407 , -2.555414  , -4.384502  ,  0.11278142,\n",
       "          0.08450554, -3.919745  ,  0.6326055 , -0.8072954 , -0.76184726,\n",
       "         -1.0587404 , -2.2241552 , -3.0030127 ]], dtype=float32),\n",
       " array([[-2.1543267 , -3.565655  , -2.8134646 , -4.144853  ,  1.7295413 ,\n",
       "          0.906416  ,  0.35465667, -0.3294958 ,  0.6640607 , -1.0203121 ,\n",
       "          0.28509945,  2.4646647 ,  1.4991949 ]], dtype=float32),\n",
       " array([[-1.5950391 , -3.2287338 , -2.6741686 , -4.467558  , -0.01191915,\n",
       "         -0.16026887, -3.9498715 ,  0.37625852, -1.0163678 , -0.9350278 ,\n",
       "         -1.4450474 , -2.2665207 , -2.9050045 ]], dtype=float32),\n",
       " array([[-1.7234663 , -3.7710347 , -2.937859  , -4.8335123 , -0.25676128,\n",
       "         -0.12554565, -3.8736115 , -0.13543911, -1.3880926 , -1.1889511 ,\n",
       "         -2.1147316 , -2.434398  , -2.7377334 ]], dtype=float32),\n",
       " array([[-1.8170425 , -4.0421295 , -3.0427675 , -4.9513693 ,  0.42672345,\n",
       "          1.5842323 , -1.2431843 ,  0.30738968, -1.1828563 , -1.292267  ,\n",
       "         -1.789315  ,  1.4554086 ,  0.5678446 ]], dtype=float32),\n",
       " array([[-1.4575922 , -3.1082075 , -2.5641303 , -4.3992677 ,  0.02475012,\n",
       "         -0.09234051, -3.8043046 ,  0.50758994, -0.9773484 , -0.867547  ,\n",
       "         -1.3528079 , -2.085217  , -2.958158  ]], dtype=float32),\n",
       " array([[-1.5859238 , -3.210564  , -2.6236365 , -4.476591  ,  0.02230229,\n",
       "         -0.10757528, -3.89944   ,  0.35832876, -1.0352749 , -0.92227167,\n",
       "         -1.5175761 , -2.2770321 , -2.88375   ]], dtype=float32),\n",
       " array([[-1.527588  , -3.0569003 , -2.5786946 , -4.4564304 ,  0.08171684,\n",
       "          0.02813401, -3.814876  ,  0.57383305, -0.9518155 , -0.82399946,\n",
       "         -1.2957797 , -2.1598756 , -2.9781327 ]], dtype=float32),\n",
       " array([[-1.7620908 , -3.8806014 , -3.205203  , -4.741173  ,  0.6445614 ,\n",
       "          2.1570659 , -1.8010359 ,  0.30423737, -0.8790676 , -1.1300976 ,\n",
       "         -1.7680148 , -0.15387972, -1.3374764 ]], dtype=float32),\n",
       " array([[-1.615775  , -3.2179549 , -2.6501536 , -4.4142256 , -0.0248437 ,\n",
       "         -0.1595766 , -3.864665  ,  0.31098953, -1.0311431 , -0.95268255,\n",
       "         -1.5569762 , -2.3732123 , -2.9330626 ]], dtype=float32),\n",
       " array([[-1.5118994 , -3.0875466 , -2.5706584 , -4.4964876 ,  0.22022027,\n",
       "          0.10456435, -3.6287582 ,  0.5621684 , -0.77549785, -0.7274897 ,\n",
       "         -1.0651025 , -1.5567343 , -2.550706  ]], dtype=float32),\n",
       " array([[-1.8626169 , -3.611108  , -2.9251182 , -4.705175  , -0.2421507 ,\n",
       "         -0.15669933, -4.176926  ,  0.20927121, -1.1554983 , -1.0988913 ,\n",
       "         -1.9040383 , -2.3790262 , -2.9875407 ]], dtype=float32),\n",
       " array([[-1.6890552 , -4.283009  , -3.532207  , -5.3502007 ,  0.22636649,\n",
       "          0.85088885, -2.0101483 ,  0.0922418 , -1.2844027 , -1.4608244 ,\n",
       "         -2.204374  , -0.05615347, -0.67546576]], dtype=float32),\n",
       " array([[-1.6140443 , -3.2194796 , -2.6392362 , -4.510132  ,  0.09693155,\n",
       "         -0.05131303, -3.413073  ,  0.27940798, -0.9996428 , -0.88990384,\n",
       "         -1.4922575 , -1.9586673 , -2.7441442 ]], dtype=float32),\n",
       " array([[-1.720262  , -3.7268498 , -3.0632296 , -4.6830587 ,  0.5622755 ,\n",
       "          0.3777722 , -0.1755597 ,  0.21515088, -0.92373675, -1.1856636 ,\n",
       "         -1.614055  ,  1.9031506 ,  0.8231982 ]], dtype=float32),\n",
       " array([[-1.956761 , -3.837462 , -3.1187074, -4.437435 ,  1.2413844,\n",
       "          0.6490942,  0.4236848,  0.136343 ,  0.2003003, -1.1092138,\n",
       "         -0.2770288,  3.0344434,  1.8405031]], dtype=float32),\n",
       " array([[-1.473115  , -3.262604  , -2.7846029 , -4.192427  ,  0.31230295,\n",
       "          0.07085975, -3.0485702 ,  0.2873834 ,  0.31153843, -0.8835651 ,\n",
       "         -0.27331516, -1.3447437 , -2.3830552 ]], dtype=float32),\n",
       " array([[-1.6128488 , -3.698678  , -2.8299282 , -4.916457  , -0.13547078,\n",
       "         -0.1945309 , -4.2526097 ,  0.14925493, -1.3403958 , -1.1336108 ,\n",
       "         -2.0394962 , -2.4536335 , -2.8908648 ]], dtype=float32),\n",
       " array([[-1.3096116 , -3.046571  , -2.378751  , -4.054072  ,  0.80922973,\n",
       "          0.48619828, -1.6944728 ,  0.42192987,  1.0787634 , -0.7968214 ,\n",
       "          0.787149  , -0.37903288, -1.7805349 ]], dtype=float32),\n",
       " array([[-1.732202  , -3.7034414 , -2.8907413 , -4.7153287 ,  1.0204861 ,\n",
       "          0.4244951 ,  0.11882427,  0.15226074, -0.9792997 , -1.1125792 ,\n",
       "         -1.3606933 ,  2.4301343 ,  1.3971578 ]], dtype=float32),\n",
       " array([[-1.5426322 , -3.1658769 , -2.6015837 , -4.478387  ,  0.04370943,\n",
       "         -0.0997838 , -3.902779  ,  0.47110283, -0.97553486, -0.90470034,\n",
       "         -1.358477  , -2.2320044 , -2.9190426 ]], dtype=float32),\n",
       " array([[-1.7382139 , -3.7727327 , -2.9188497 , -4.676403  ,  0.99593925,\n",
       "          0.59102887,  0.1477024 ,  0.18352623, -0.9775157 , -1.1451575 ,\n",
       "         -1.4063296 ,  2.496146  ,  1.3730569 ]], dtype=float32),\n",
       " array([[-1.6372882 , -3.572333  , -2.7980323 , -4.2563806 ,  1.5092565 ,\n",
       "          1.9890046 ,  0.21735221,  0.16765682, -0.7369134 , -1.1819043 ,\n",
       "         -1.2835613 ,  2.5947378 ,  1.2702897 ]], dtype=float32),\n",
       " array([[-1.7578932 , -3.5471041 , -2.9390006 , -4.7782955 ,  1.2882029 ,\n",
       "          0.46997514,  0.35878828,  0.06757211, -1.1158855 , -1.1213704 ,\n",
       "         -1.6340288 ,  2.4400802 ,  1.3518693 ]], dtype=float32),\n",
       " array([[-2.0303211 , -3.715065  , -2.8254464 , -4.212896  ,  1.3130425 ,\n",
       "          0.8939194 ,  0.29207414, -0.36171192, -0.52811563, -1.2067503 ,\n",
       "         -1.1219323 ,  2.4813879 ,  1.5316638 ]], dtype=float32),\n",
       " array([[-1.7555162 , -4.1170826 , -3.1886597 , -5.3391066 ,  0.798166  ,\n",
       "          0.19915113, -0.8776482 ,  0.0627052 , -1.3897697 , -1.4639945 ,\n",
       "         -1.9671806 ,  1.31509   ,  0.20190684]], dtype=float32),\n",
       " array([[ 2.232795  , -2.6528907 , -1.8059605 , -3.5900047 ,  1.3739661 ,\n",
       "          1.1082001 ,  0.61421895,  2.6882815 ,  1.0058228 , -0.66407585,\n",
       "          0.96516985,  1.7568136 ,  0.14402793]], dtype=float32),\n",
       " array([[-1.8847501 , -4.3160734 , -3.2922492 , -4.5634117 , -0.0767803 ,\n",
       "          0.53187793, -4.498334  , -0.2551061 , -1.2204877 , -1.1706476 ,\n",
       "         -2.127118  , -2.608443  , -2.7362618 ]], dtype=float32),\n",
       " array([[-1.3848709 , -3.0063567 , -2.5767434 , -4.3858986 ,  0.12521654,\n",
       "          0.08643324, -3.923954  ,  0.62037283, -0.8500488 , -0.7890604 ,\n",
       "         -1.1242241 , -2.2023962 , -2.9897668 ]], dtype=float32),\n",
       " array([[-1.7199844 , -3.9540324 , -3.0755205 , -4.439417  ,  0.08698475,\n",
       "          0.59910977, -4.161644  , -0.08564789, -1.026699  , -1.0281793 ,\n",
       "         -1.8139817 , -2.7210488 , -2.9032307 ]], dtype=float32),\n",
       " array([[-1.5063821 , -3.1083148 , -2.5760624 , -4.457572  ,  0.04590677,\n",
       "         -0.10220414, -3.8262992 ,  0.55464995, -0.9211307 , -0.8828941 ,\n",
       "         -1.2168525 , -2.0884435 , -2.8821435 ]], dtype=float32),\n",
       " array([[-0.9397206 , -3.0378706 , -2.6595368 , -4.511925  ,  2.0893726 ,\n",
       "          1.7660674 ,  1.6243029 ,  0.9886899 , -0.14198522, -0.8595936 ,\n",
       "         -0.43050104,  2.613563  ,  1.1834736 ]], dtype=float32),\n",
       " array([[-1.5291386 , -3.0425286 , -2.5405664 , -4.463217  ,  0.08577742,\n",
       "          0.05017872, -3.7946758 ,  0.5754606 , -0.92864275, -0.80963945,\n",
       "         -1.257117  , -2.154861  , -2.9969103 ]], dtype=float32),\n",
       " array([[-1.5832654 , -3.2146866 , -2.6672764 , -4.4298096 , -0.03411616,\n",
       "         -0.18291858, -3.879746  ,  0.3589035 , -0.97224325, -0.9153609 ,\n",
       "         -1.4971448 , -2.1169746 , -2.8213186 ]], dtype=float32),\n",
       " array([[-1.5530208 , -3.0930777 , -2.571022  , -4.5149474 ,  0.09428146,\n",
       "         -0.01850783, -3.760869  ,  0.54460937, -0.98782176, -0.8759698 ,\n",
       "         -1.33563   , -2.0810778 , -2.8639524 ]], dtype=float32),\n",
       " array([[-1.7405595 , -3.7685764 , -2.974461  , -4.873051  , -0.3059351 ,\n",
       "         -0.24043995, -4.3266087 ,  0.07817293, -1.354759  , -1.1829817 ,\n",
       "         -2.1599007 , -2.5302808 , -3.0043511 ]], dtype=float32),\n",
       " array([[-1.5868609 , -3.276636  , -2.6257763 , -4.010469  ,  1.7037756 ,\n",
       "          0.9027051 ,  0.7428085 ,  0.09010565,  0.7916747 , -0.9380369 ,\n",
       "          0.50819856,  2.5433903 ,  1.520972  ]], dtype=float32),\n",
       " array([[-1.5935054 , -3.2166743 , -2.6490974 , -4.43758   , -0.01120108,\n",
       "         -0.15515459, -3.897729  ,  0.37618035, -0.9982895 , -0.93361485,\n",
       "         -1.4098955 , -2.1968348 , -2.8563285 ]], dtype=float32),\n",
       " array([[-1.8255086 , -3.799693  , -3.556027  , -4.8868656 ,  1.7424915 ,\n",
       "         -0.21027663,  0.39633965,  0.4837138 , -1.0380226 , -0.9860206 ,\n",
       "         -1.5848116 ,  2.6277702 , -0.95501375]], dtype=float32),\n",
       " array([[-1.5346296 , -3.5008147 , -2.8266873 , -5.021108  ,  0.4822574 ,\n",
       "          0.48086703, -1.9421868 ,  0.6464651 , -0.9545962 , -0.9800175 ,\n",
       "         -1.2410141 ,  1.833202  ,  0.56357706]], dtype=float32),\n",
       " array([[-1.9357823 , -3.985129  , -3.2505846 , -5.349432  ,  0.3330883 ,\n",
       "          0.30793157, -2.359541  ,  0.42624497, -1.2423273 , -1.2422076 ,\n",
       "         -1.6825418 ,  1.2361556 ,  0.00754948]], dtype=float32),\n",
       " array([[-1.6444197 , -3.2913349 , -2.6579292 , -4.2719083 ,  1.5453289 ,\n",
       "          0.8618128 , -0.0611769 ,  0.25043303,  0.6194486 , -0.89322394,\n",
       "          0.3691228 ,  2.6990702 ,  1.5661274 ]], dtype=float32),\n",
       " array([[-1.4043255 , -3.1207364 , -2.508233  , -4.348557  ,  0.01144978,\n",
       "         -0.12661621, -3.8179016 ,  0.53305197, -0.9531036 , -0.8437049 ,\n",
       "         -1.3715305 , -2.1654851 , -2.9483347 ]], dtype=float32),\n",
       " array([[-1.373624  , -2.989857  , -2.5609016 , -4.381053  ,  0.15237105,\n",
       "          0.10917028, -3.9426675 ,  0.5900619 , -0.81236607, -0.773277  ,\n",
       "         -1.036093  , -2.2258465 , -3.0132842 ]], dtype=float32),\n",
       " array([[-0.8863024 , -3.009764  , -2.4352927 , -4.12667   ,  1.2018936 ,\n",
       "          0.6381146 ,  0.757831  ,  0.7170111 ,  1.0827297 , -0.71297634,\n",
       "          0.62073   ,  1.5521061 , -0.09475474]], dtype=float32),\n",
       " array([[-1.5129086 , -3.0565746 , -2.5658493 , -4.456677  ,  0.06603321,\n",
       "          0.07604183, -3.8131685 ,  0.58126944, -0.9315221 , -0.80022943,\n",
       "         -1.3151056 , -2.0326145 , -2.9710119 ]], dtype=float32),\n",
       " array([[-1.5893321 , -3.1532967 , -2.4937344 , -4.136871  ,  1.5848961 ,\n",
       "          0.6312959 ,  0.5716726 ,  0.28118688,  0.8764828 , -0.8324489 ,\n",
       "          0.37417483,  2.4670548 ,  1.355392  ]], dtype=float32),\n",
       " array([[-1.7359817 , -2.8348124 , -2.544672  , -4.0879955 ,  0.14418852,\n",
       "         -0.31526303, -3.4134393 ,  0.29561102, -1.0460469 , -0.8998528 ,\n",
       "         -2.246714  , -1.5113094 , -2.6201458 ]], dtype=float32),\n",
       " array([[-1.9592475 , -3.4918058 , -2.71247   , -4.014846  ,  1.7035723 ,\n",
       "          0.8190055 ,  0.4476999 , -0.28320864,  0.5611319 , -1.0706967 ,\n",
       "          0.08214378,  2.3760693 ,  1.406981  ]], dtype=float32),\n",
       " array([[-1.4662464 , -3.0403535 , -2.5007772 , -4.432044  ,  0.09458103,\n",
       "         -0.02454133, -3.784934  ,  0.6219418 , -0.934006  , -0.83220416,\n",
       "         -1.250494  , -2.1527078 , -2.9408386 ]], dtype=float32),\n",
       " array([[ 1.9706563 , -3.1721718 , -2.5709682 , -3.910494  ,  1.9888058 ,\n",
       "          0.579198  ,  0.80336255,  2.7977643 ,  0.4593054 , -0.68774223,\n",
       "          0.04356419,  1.8618562 , -0.2383333 ]], dtype=float32),\n",
       " array([[-1.9039693e+00, -3.9196756e+00, -3.0359063e+00, -4.8447123e+00,\n",
       "          7.5300582e-02,  4.2429489e-01, -1.0263932e-01,  4.7156457e-03,\n",
       "         -1.1315464e+00, -1.2255446e+00, -1.9670118e+00, -1.0577128e+00,\n",
       "         -2.0311913e+00]], dtype=float32),\n",
       " array([[-1.1690465 , -2.8217115 , -2.103509  , -3.916093  ,  1.7234991 ,\n",
       "          1.1851144 ,  1.1155548 ,  0.45346296,  1.178944  , -0.65403   ,\n",
       "          0.69584614,  1.9930055 ,  0.47752252]], dtype=float32),\n",
       " array([[-1.5497702 , -3.5328987 , -3.0600533 , -5.1006823 ,  0.1900256 ,\n",
       "          0.12751806, -4.016798  ,  0.633225  , -0.9537412 , -0.9692264 ,\n",
       "         -1.5028864 , -1.1223545 , -2.0972676 ]], dtype=float32),\n",
       " array([[-1.5035559 , -3.0692804 , -2.5607934 , -4.417325  ,  0.02586412,\n",
       "         -0.02862328, -3.8212852 ,  0.60881096, -0.9608006 , -0.8430758 ,\n",
       "         -1.3002235 , -2.1255546 , -2.9349856 ]], dtype=float32),\n",
       " array([[-1.6395739 , -3.7406182 , -2.7832813 , -4.847824  ,  0.8451164 ,\n",
       "          0.40072015,  0.03958406,  0.03342539, -1.2323182 , -1.2385501 ,\n",
       "         -1.6703863 ,  2.0978024 ,  1.1454382 ]], dtype=float32),\n",
       " array([[-1.7046402 , -3.0221357 , -2.7122924 , -4.214096  , -0.08247545,\n",
       "         -0.29366165, -3.7853377 ,  0.1405258 , -1.2197021 , -0.9809386 ,\n",
       "         -2.3899732 , -1.9359512 , -2.6950736 ]], dtype=float32),\n",
       " array([[-1.559959  , -3.275811  , -2.7240496 , -4.814334  ,  0.12544096,\n",
       "          0.12908119,  0.28259575,  0.23144482, -1.2819692 , -1.1268779 ,\n",
       "         -1.6854746 , -1.0608562 , -2.2159052 ]], dtype=float32),\n",
       " array([[-1.6784595 , -3.5509613 , -2.9202046 , -4.604317  , -0.18708721,\n",
       "         -0.17418164, -4.183174  ,  0.19665243, -1.148822  , -1.0755323 ,\n",
       "         -1.8525299 , -2.246856  , -2.7848992 ]], dtype=float32),\n",
       " array([[-1.7130978 , -3.5359402 , -2.9846466 , -4.6267643 , -0.19409055,\n",
       "         -0.1565865 , -4.2161565 ,  0.17359452, -1.175712  , -1.1166244 ,\n",
       "         -1.9313744 , -1.8830802 , -2.5456882 ]], dtype=float32),\n",
       " array([[-1.7775611 , -3.9776633 , -3.3148432 , -5.1339407 ,  1.2439461 ,\n",
       "          0.15255582, -1.5401766 ,  0.55202997, -0.605781  , -0.9569735 ,\n",
       "         -1.3233777 ,  1.8399704 , -0.87489784]], dtype=float32),\n",
       " array([[-1.4070536 , -2.9606693 , -2.4933493 , -4.308651  ,  0.23944512,\n",
       "          1.3983891 , -2.179072  ,  0.667246  , -0.92754203, -0.79248303,\n",
       "         -1.2135749 , -1.8769702 , -2.7207189 ]], dtype=float32),\n",
       " array([[-1.7394907e+00, -3.3134017e+00, -2.6865687e+00, -4.5553565e+00,\n",
       "         -9.3298860e-02, -1.4693290e-03, -3.9870920e+00,  3.0586496e-01,\n",
       "         -9.4103616e-01, -9.5928711e-01, -1.4844505e+00, -2.3116529e+00,\n",
       "         -3.0188456e+00]], dtype=float32),\n",
       " array([[-1.4908537 , -2.987316  , -2.4880118 , -4.4824944 ,  0.13301593,\n",
       "          0.08479089, -3.7404346 ,  0.6274928 , -0.8413561 , -0.75913537,\n",
       "         -1.125777  , -2.0596936 , -2.9448514 ]], dtype=float32),\n",
       " array([[-1.7963763 , -3.7879574 , -3.4855006 , -4.862778  ,  1.7340255 ,\n",
       "         -0.23629355,  0.40314043,  0.469369  , -1.1192096 , -1.0093752 ,\n",
       "         -1.6371166 ,  2.6331842 , -0.8538333 ]], dtype=float32),\n",
       " array([[-1.6758766 , -3.2382917 , -2.565775  , -4.82672   ,  0.35288063,\n",
       "          0.06798927,  0.3992087 , -0.01704524, -1.3982631 , -1.1950389 ,\n",
       "         -1.7144241 , -0.85146827, -1.8075995 ]], dtype=float32),\n",
       " array([[-1.9327163 , -3.8356605 , -3.2867231 , -5.399556  ,  0.31981334,\n",
       "          0.33018622, -2.3680491 ,  0.4363481 , -1.2477912 , -1.1606194 ,\n",
       "         -1.648742  ,  1.1164203 ,  0.04426684]], dtype=float32),\n",
       " array([[-1.4096204 , -2.9745667 , -2.4716477 , -4.4924917 ,  0.16936871,\n",
       "          0.14467672, -3.7098804 ,  0.64664036, -0.8029459 , -0.72128767,\n",
       "         -1.0594134 , -2.0393672 , -2.9228678 ]], dtype=float32),\n",
       " array([[-1.7060223e+00, -3.2818959e+00, -2.6307828e+00, -4.5371165e+00,\n",
       "         -3.1197444e-03, -1.4299953e-01, -3.5712771e+00,  1.2639715e-01,\n",
       "         -1.0819192e+00, -9.9541485e-01, -1.5948106e+00, -2.1919196e+00,\n",
       "         -2.7972827e+00]], dtype=float32),\n",
       " array([[-1.6734067 , -3.5224493 , -2.8344946 , -4.301007  , -0.11214452,\n",
       "          0.05968329, -4.053762  ,  0.12664765, -0.9899293 , -1.0372667 ,\n",
       "         -1.7263099 , -2.3326719 , -2.796071  ]], dtype=float32),\n",
       " array([[-1.9803632 , -3.2648313 , -2.838946  , -4.2550135 , -0.12273578,\n",
       "         -0.37464496, -3.9521437 , -0.01548856, -1.2093263 , -1.0570382 ,\n",
       "         -2.6362681 , -1.9992554 , -2.8171396 ]], dtype=float32),\n",
       " array([[-1.7906038 , -3.1566372 , -2.8558002 , -4.5199347 ,  0.21436056,\n",
       "          0.03053881, -3.6292415 ,  0.4388036 , -0.85175765, -0.87717   ,\n",
       "         -1.332029  , -2.3241556 , -2.9687865 ]], dtype=float32),\n",
       " array([[-1.5724703 , -3.2334192 , -2.658905  , -4.458803  , -0.02226572,\n",
       "         -0.15058059, -3.8793101 ,  0.4205801 , -1.0286885 , -0.9431872 ,\n",
       "         -1.5255843 , -2.2841144 , -2.9398847 ]], dtype=float32),\n",
       " array([[-1.4933745e+00, -3.0342491e+00, -2.5239131e+00, -4.4215040e+00,\n",
       "          1.0963226e-01,  6.2771887e-04, -3.7700377e+00,  5.7817966e-01,\n",
       "         -9.3260151e-01, -8.0246001e-01, -1.2319647e+00, -2.1363077e+00,\n",
       "         -2.9456971e+00]], dtype=float32),\n",
       " array([[-1.339725  , -2.938441  , -2.517477  , -4.355113  ,  0.14770764,\n",
       "          0.11998498, -3.9059775 ,  0.6358089 , -0.7807797 , -0.72098523,\n",
       "         -1.0127714 , -2.1842635 , -3.0036607 ]], dtype=float32),\n",
       " array([[ 1.7361468, -3.3934593, -2.4458003, -4.0031905,  1.4089031,\n",
       "          1.0672977,  0.5562355,  2.5572753,  0.8012771, -1.1750199,\n",
       "          0.5110931,  1.6759368,  0.9540154]], dtype=float32),\n",
       " array([[-1.6439524 , -3.3222206 , -2.7700977 , -4.5063386 , -0.02673198,\n",
       "         -0.13861006, -3.9283767 ,  0.26888135, -0.9934115 , -1.0140289 ,\n",
       "         -1.6046541 , -1.9336348 , -2.7490196 ]], dtype=float32),\n",
       " array([[-1.9081948 , -3.2007878 , -2.739498  , -4.2774954 , -0.13438714,\n",
       "         -0.43023348, -3.8947349 ,  0.11259597, -1.2161405 , -1.0192391 ,\n",
       "         -2.5225325 , -2.1712806 , -2.929246  ]], dtype=float32),\n",
       " array([[ 2.0654972, -2.794918 , -2.007617 , -3.8134482,  1.5293593,\n",
       "          1.4491543,  1.2238083,  2.8200407,  1.148651 , -0.9128072,\n",
       "          1.0412662,  2.016556 ,  1.3148347]], dtype=float32),\n",
       " array([[-1.8402443 , -3.4795141 , -2.6783466 , -4.2968264 ,  1.6658144 ,\n",
       "          0.7140572 ,  0.16377243, -0.16010648, -0.55385906, -1.0570401 ,\n",
       "         -1.0660995 ,  2.7249107 ,  1.434568  ]], dtype=float32),\n",
       " array([[-1.5741612 , -3.1960306 , -2.6622052 , -4.441607  , -0.01440497,\n",
       "         -0.1515424 , -3.9080377 ,  0.39974555, -1.026536  , -0.9254087 ,\n",
       "         -1.4406936 , -2.2305954 , -2.8990338 ]], dtype=float32),\n",
       " array([[-1.618628  , -3.4064658 , -2.878347  , -4.8022623 ,  0.41551927,\n",
       "          0.13107681,  0.2501213 ,  0.45020363, -1.0017818 , -0.9853093 ,\n",
       "         -1.4939766 , -0.6263061 , -1.9309525 ]], dtype=float32),\n",
       " array([[-1.6320568 , -3.4488337 , -2.8030992 , -4.5753593 , -0.15359756,\n",
       "         -0.1369398 , -4.198896  ,  0.3151098 , -1.0945418 , -1.0325836 ,\n",
       "         -1.6221812 , -2.3616402 , -2.937758  ]], dtype=float32),\n",
       " array([[-1.8218131 , -3.0975592 , -2.6368666 , -4.263646  ,  1.3067956 ,\n",
       "          0.1386548 ,  0.36515716, -0.3607002 , -0.9022372 , -1.0872931 ,\n",
       "         -1.9529645 ,  2.4877284 ,  1.4704713 ]], dtype=float32),\n",
       " array([[-1.5967737 , -3.1833065 , -2.6548982 , -4.4571166 , -0.00989053,\n",
       "         -0.15536961, -3.922275  ,  0.3894387 , -1.0327426 , -0.92222095,\n",
       "         -1.4793059 , -2.2470627 , -2.9042668 ]], dtype=float32),\n",
       " array([[ 1.7078735 , -3.4049032 , -2.504142  , -4.058431  ,  1.3073494 ,\n",
       "          1.1845484 ,  0.32153058,  2.5372396 ,  0.7129681 , -1.2157886 ,\n",
       "          0.57442224,  1.7820003 ,  1.0615268 ]], dtype=float32),\n",
       " array([[-1.4245199 , -3.0069582 , -2.430041  , -4.344319  ,  0.06810614,\n",
       "         -0.0416929 , -3.7632012 ,  0.62868375, -0.91676086, -0.7753492 ,\n",
       "         -1.2023951 , -1.9730698 , -2.9670615 ]], dtype=float32),\n",
       " array([[-1.6987998 , -3.4094608 , -2.8440585 , -4.514393  , -0.16056663,\n",
       "         -0.1816591 , -4.1291847 ,  0.28258127, -1.1141933 , -1.0349176 ,\n",
       "         -1.7021053 , -2.2542095 , -2.9146261 ]], dtype=float32),\n",
       " array([[-1.4340681e+00, -3.1427958e+00, -2.3795574e+00, -4.0839491e+00,\n",
       "          1.5094452e+00,  5.9516597e-01,  7.1538931e-01,  2.3547529e-01,\n",
       "          6.2359047e-01, -8.2730657e-01,  1.3692337e-01,  1.5652615e+00,\n",
       "          3.9552934e-03]], dtype=float32),\n",
       " array([[-2.0840662 , -3.4038124 , -2.8504946 , -4.158681  ,  1.3475899 ,\n",
       "          0.26751378,  0.3151506 , -0.47638667, -0.6738805 , -1.238748  ,\n",
       "         -1.8279802 ,  2.1526854 ,  1.20877   ]], dtype=float32),\n",
       " array([[-1.6205729 , -3.247469  , -2.6874409 , -4.5082684 , -0.04278875,\n",
       "         -0.17175424, -3.9598866 ,  0.36620122, -1.0825466 , -0.96041757,\n",
       "         -1.582924  , -2.28592   , -2.9352484 ]], dtype=float32),\n",
       " array([[-1.8655171 , -3.5420916 , -2.887751  , -4.5479946 , -0.20968428,\n",
       "         -0.18922126, -4.1779323 ,  0.16600244, -1.0601687 , -1.0770088 ,\n",
       "         -1.8401039 , -2.37391   , -2.999764  ]], dtype=float32),\n",
       " array([[-1.3585225 , -2.9207177 , -2.582259  , -4.3395677 ,  0.1358422 ,\n",
       "          0.537735  , -3.5625265 ,  0.6342241 , -0.7915892 , -0.72457486,\n",
       "         -1.0296452 , -2.1565871 , -3.0642009 ]], dtype=float32),\n",
       " array([[-1.485072  , -3.0365686 , -2.5388696 , -4.478919  ,  0.12423585,\n",
       "          0.04908885, -3.7455015 ,  0.6499807 , -0.93518287, -0.80907667,\n",
       "         -1.2503914 , -2.1735365 , -3.0023384 ]], dtype=float32),\n",
       " array([[-1.3784858 , -2.994876  , -2.5468562 , -4.363165  ,  0.184244  ,\n",
       "          0.11336488, -3.8495762 ,  0.59785235, -0.7942737 , -0.7300382 ,\n",
       "         -1.0541538 , -2.0241055 , -2.9260461 ]], dtype=float32),\n",
       " array([[-1.1381022 , -2.9221377 , -2.3447595 , -4.288143  ,  0.13914496,\n",
       "          0.15758428, -3.8505409 ,  0.73883516, -0.7417418 , -0.65976435,\n",
       "         -0.9652035 , -1.9850307 , -3.0088673 ]], dtype=float32),\n",
       " array([[-2.046684  , -3.3930194 , -2.712239  , -4.6425796 ,  0.2531077 ,\n",
       "         -0.19569236,  0.18497169, -0.25726393, -1.3834587 , -1.3546468 ,\n",
       "         -2.5262098 , -0.31861576, -1.4086083 ]], dtype=float32),\n",
       " array([[-1.872176  , -4.377681  , -3.2070856 , -4.6805663 , -0.25203896,\n",
       "          0.29542136, -4.6253557 , -0.34765851, -1.2986888 , -1.2144824 ,\n",
       "         -2.363201  , -3.050577  , -3.0262833 ]], dtype=float32),\n",
       " array([[-1.7317213 , -3.4185274 , -2.7988486 , -4.0955305 ,  1.4097264 ,\n",
       "          1.1408964 ,  0.7293251 ,  0.07870083,  0.8052191 , -1.1450257 ,\n",
       "          0.37290832,  2.5107272 ,  1.5726495 ]], dtype=float32),\n",
       " array([[-1.8141834 , -3.5240443 , -2.9193547 , -4.6693325 ,  0.06500424,\n",
       "         -0.25139153, -3.6977434 ,  0.23278885, -1.0325253 , -1.0872614 ,\n",
       "         -1.6965815 , -1.4070568 , -2.491333  ]], dtype=float32),\n",
       " array([[-2.1333673 , -4.187114  , -3.4913979 , -5.0046673 ,  0.566546  ,\n",
       "          1.7526205 , -1.3408785 ,  0.17139673, -1.0526292 , -1.1725639 ,\n",
       "         -1.7389058 ,  1.8394434 ,  0.769282  ]], dtype=float32),\n",
       " array([[-1.7756963 , -3.4842978 , -2.8467937 , -4.787529  ,  0.37115672,\n",
       "          0.01587673, -3.5510921 ,  0.5499367 , -0.97438365, -0.890851  ,\n",
       "         -1.5202338 , -0.98762   , -2.219498  ]], dtype=float32),\n",
       " array([[-1.6170744 , -3.1810334 , -2.611257  , -4.4847794 ,  0.03245866,\n",
       "         -0.05714161, -3.8069158 ,  0.38608938, -1.0348248 , -0.9422476 ,\n",
       "         -1.3927485 , -2.1723254 , -2.9236226 ]], dtype=float32),\n",
       " array([[-1.450321  , -3.5033834 , -2.9651666 , -4.4135866 ,  1.6677148 ,\n",
       "         -0.09171686,  0.21019298,  0.28327066,  0.81218755, -0.8295826 ,\n",
       "          0.23342803,  2.045725  , -0.47839987]], dtype=float32),\n",
       " array([[-2.0321093 , -3.7984579 , -3.2363532 , -4.816868  ,  0.85529685,\n",
       "          0.18888235, -0.0528982 , -0.10522928, -1.1390399 , -1.2014219 ,\n",
       "         -1.7631823 ,  2.1080687 ,  0.6500465 ]], dtype=float32),\n",
       " array([[-1.7998613 , -3.2226484 , -2.6605513 , -4.6045737 ,  1.2913542 ,\n",
       "          0.03998262,  0.3667265 , -0.04822972, -1.1944853 , -1.0843774 ,\n",
       "         -2.3192677 ,  2.4251325 ,  0.916677  ]], dtype=float32),\n",
       " array([[-1.5429668e+00, -3.2106080e+00, -2.5989254e+00, -4.4378991e+00,\n",
       "         -6.8262964e-04, -1.6081756e-01, -3.8496034e+00,  4.3940383e-01,\n",
       "         -1.0080823e+00, -9.2937613e-01, -1.5336144e+00, -2.2009418e+00,\n",
       "         -2.8984666e+00]], dtype=float32),\n",
       " array([[-2.0799568 , -3.6124785 , -2.7941184 , -4.6549397 ,  1.3068209 ,\n",
       "         -0.18229306,  0.20192344,  0.04280493, -1.1779312 , -1.2731372 ,\n",
       "         -2.2366197 ,  2.0213094 , -0.5074004 ]], dtype=float32),\n",
       " array([[-1.5620762 , -3.248544  , -2.6357646 , -4.0891333 ,  1.5734847 ,\n",
       "          1.9148457 ,  0.33958682,  0.30875003, -0.33594108, -1.0048168 ,\n",
       "         -0.82572657,  2.679191  ,  1.4776227 ]], dtype=float32),\n",
       " array([[-0.9760061 , -2.9030058 , -2.20362   , -3.937968  ,  0.9963639 ,\n",
       "          1.6164811 ,  1.2623727 ,  0.5548056 ,  0.49934423, -0.68954915,\n",
       "          0.12047496,  0.5012427 , -0.5150858 ]], dtype=float32),\n",
       " array([[-1.7951881 , -3.4707406 , -2.8462684 , -4.654969  ,  1.3361621 ,\n",
       "          0.5203396 ,  0.4183321 , -0.03296352, -0.9768154 , -1.0981064 ,\n",
       "         -1.512176  ,  2.5640829 ,  1.5753314 ]], dtype=float32),\n",
       " array([[-1.5668939 , -3.692288  , -2.6518183 , -4.018119  ,  1.7042524 ,\n",
       "          1.2853051 ,  0.70484877,  0.25077823,  1.2760588 , -1.0928696 ,\n",
       "          0.8714212 ,  2.4811325 ,  1.4423352 ]], dtype=float32),\n",
       " array([[-1.536447  , -3.2531552 , -2.6277535 , -4.42272   , -0.03381184,\n",
       "         -0.15110055, -3.9638228 ,  0.39278093, -0.98430973, -0.9192835 ,\n",
       "         -1.4432896 , -2.2450745 , -2.934801  ]], dtype=float32),\n",
       " array([[-1.5424091 , -3.168504  , -2.5664458 , -4.4920616 ,  0.0310586 ,\n",
       "         -0.08446573, -3.7949266 ,  0.48361182, -0.9624266 , -0.91214174,\n",
       "         -1.339155  , -2.1029227 , -2.8910723 ]], dtype=float32),\n",
       " array([[-1.3597354 , -2.9692602 , -2.5480373 , -4.3874474 ,  0.15058959,\n",
       "          0.14375414, -3.9268093 ,  0.60656273, -0.80832934, -0.7580649 ,\n",
       "         -1.0366826 , -2.24115   , -3.0272243 ]], dtype=float32),\n",
       " array([[-0.99376315, -2.841758  , -2.046736  , -4.335618  ,  0.21904492,\n",
       "          0.10544734, -3.0841963 ,  1.0123329 , -0.6399599 , -0.5035953 ,\n",
       "         -1.2256732 ,  2.3453047 ,  1.0281093 ]], dtype=float32),\n",
       " array([[-1.7053472 , -3.6247077 , -2.8937442 , -4.7066097 , -0.2158801 ,\n",
       "         -0.19133148, -4.192821  ,  0.09830982, -1.2185014 , -1.1024319 ,\n",
       "         -1.9955465 , -2.3367615 , -2.7932236 ]], dtype=float32),\n",
       " array([[-2.0128777 , -3.0553558 , -2.6336026 , -3.832512  ,  1.531293  ,\n",
       "          0.28395492,  0.37825686, -0.46854734,  0.3848552 , -0.94149286,\n",
       "         -0.5497962 ,  2.238682  ,  1.2495253 ]], dtype=float32),\n",
       " array([[-2.0716405 , -4.0274034 , -3.2565722 , -4.882967  ,  0.5781336 ,\n",
       "          1.6969717 , -1.1279747 ,  0.17843501, -1.0508343 , -1.1493188 ,\n",
       "         -1.5660278 ,  2.0620375 ,  0.92831564]], dtype=float32),\n",
       " array([[-1.7147726 , -3.4311764 , -2.8036656 , -4.5401216 , -0.1670771 ,\n",
       "         -0.1353485 , -4.047878  ,  0.22059715, -1.0911273 , -1.0455214 ,\n",
       "         -1.6804354 , -2.2011063 , -2.912745  ]], dtype=float32),\n",
       " array([[-1.7562538 , -3.5722425 , -2.8876443 , -4.6558733 , -0.2529163 ,\n",
       "         -0.20318183, -4.2887044 ,  0.1256385 , -1.2577511 , -1.1012627 ,\n",
       "         -1.9478848 , -2.4607522 , -2.9000037 ]], dtype=float32),\n",
       " array([[-1.6793541 , -3.401901  , -2.4755821 , -3.6049001 ,  1.7897661 ,\n",
       "          1.7667592 ,  0.78899366,  0.21749617,  0.8412457 , -0.88642293,\n",
       "          0.49197578,  2.2047546 ,  1.3278474 ]], dtype=float32),\n",
       " array([[ 2.389136  , -2.309233  , -1.2325287 , -3.6419466 ,  1.9142058 ,\n",
       "          1.3659998 ,  1.3489361 ,  2.8390017 ,  1.5905195 , -0.55944854,\n",
       "          1.5308121 ,  2.2084363 ,  0.69543576]], dtype=float32),\n",
       " array([[-1.4844879 , -3.0334542 , -2.563478  , -4.4597654 ,  0.15849096,\n",
       "          0.05172196, -3.7562146 ,  0.64222616, -0.9102326 , -0.78815526,\n",
       "         -1.1843984 , -2.2340171 , -3.0208926 ]], dtype=float32),\n",
       " array([[ 1.5636414 , -3.7036376 , -3.0856311 , -4.1440506 ,  1.079402  ,\n",
       "          0.87337154,  0.20771545,  2.5203176 ,  0.13661231, -1.1667842 ,\n",
       "         -0.16453773,  1.9622203 ,  1.014681  ]], dtype=float32),\n",
       " array([[-1.7046019 , -3.7258577 , -2.9250193 , -4.756921  , -0.2615372 ,\n",
       "         -0.14359254, -4.3413177 ,  0.10641552, -1.2428124 , -1.1083606 ,\n",
       "         -2.0187168 , -2.381324  , -2.8498154 ]], dtype=float32),\n",
       " array([[-1.52463   , -3.0712416 , -2.5273354 , -4.4463854 ,  0.11628143,\n",
       "         -0.03058308, -3.7914274 ,  0.5556319 , -0.93332845, -0.85213256,\n",
       "         -1.2206497 , -2.071646  , -2.9094481 ]], dtype=float32),\n",
       " array([[-1.5857824 , -3.1866171 , -2.6123638 , -4.465759  ,  0.00981394,\n",
       "         -0.10871875, -3.8895931 ,  0.4038729 , -1.0104572 , -0.9391058 ,\n",
       "         -1.3884224 , -2.188687  , -2.9127712 ]], dtype=float32),\n",
       " array([[ 1.5664521 , -3.4174511 , -2.4951243 , -3.8589463 ,  1.4891245 ,\n",
       "          1.1440263 ,  0.60447586,  2.5716133 ,  0.54683995, -1.0878915 ,\n",
       "          0.3236261 ,  1.7812132 ,  1.1762365 ]], dtype=float32),\n",
       " array([[-1.9079614e+00, -3.7975824e+00, -3.0496557e+00, -4.7583399e+00,\n",
       "         -3.1848690e-01, -1.8961465e-01, -4.3631301e+00,  3.2856259e-03,\n",
       "         -1.3074040e+00, -1.1689852e+00, -2.2052450e+00, -2.3918996e+00,\n",
       "         -2.8826575e+00]], dtype=float32),\n",
       " array([[-1.5017043 , -3.0415719 , -2.526666  , -4.467086  ,  0.15327021,\n",
       "          0.08082703, -3.7761657 ,  0.6024865 , -0.900468  , -0.79289585,\n",
       "         -1.2096465 , -2.2226193 , -3.056616  ]], dtype=float32),\n",
       " array([[-1.351899  , -2.9898593 , -2.5753613 , -4.3817496 ,  0.12817186,\n",
       "          0.15851364, -3.9594393 ,  0.6056506 , -0.80307674, -0.7579258 ,\n",
       "         -0.99693197, -2.2577374 , -3.0495315 ]], dtype=float32),\n",
       " array([[-1.5023407 , -3.0144498 , -2.5148435 , -4.433155  ,  0.11934284,\n",
       "          0.0533314 , -3.7822409 ,  0.59743685, -0.92158026, -0.8001631 ,\n",
       "         -1.2506781 , -2.1409292 , -2.9777408 ]], dtype=float32),\n",
       " array([[-1.7532077 , -3.3388855 , -2.7354746 , -4.5625725 , -0.05591781,\n",
       "         -0.17065617, -3.9596682 ,  0.26270142, -1.0420374 , -1.0089849 ,\n",
       "         -1.6656939 , -2.1259096 , -2.883237  ]], dtype=float32),\n",
       " array([[-0.804332  , -3.0678098 , -2.5260847 , -4.4462566 ,  2.1891956 ,\n",
       "          1.9087865 ,  1.7868946 ,  0.94654936,  1.0292596 , -0.8082337 ,\n",
       "          0.70428365,  2.485799  ,  1.4670026 ]], dtype=float32),\n",
       " array([[-1.9737859 , -3.6414793 , -3.1021395 , -4.6159    , -0.16451156,\n",
       "          0.02302848, -3.887794  ,  0.14097115, -1.0104371 , -1.0821592 ,\n",
       "         -1.7882369 , -2.7339365 , -2.9729385 ]], dtype=float32),\n",
       " array([[-1.7842125 , -3.1895766 , -2.808432  , -4.4080553 ,  0.04465348,\n",
       "         -0.30015832, -3.6514046 ,  0.07682056, -1.1884798 , -1.0606698 ,\n",
       "         -2.4468064 , -1.497884  , -2.421578  ]], dtype=float32),\n",
       " array([[-1.5933598 , -2.9209802 , -2.3972967 , -4.0014625 ,  1.4639046 ,\n",
       "          0.47282195,  0.6522201 , -0.15803212,  0.9635032 , -0.9225674 ,\n",
       "         -0.01346571,  1.997206  ,  0.6560803 ]], dtype=float32),\n",
       " array([[-1.6631786 , -3.4992044 , -2.822425  , -4.252714  , -0.07258241,\n",
       "          0.11445739, -4.0987697 ,  0.10180307, -0.93317056, -1.0208277 ,\n",
       "         -1.6982356 , -2.3103416 , -2.9017124 ]], dtype=float32),\n",
       " array([[ 1.9021696 , -3.261563  , -2.5718007 , -4.171382  ,  1.3253291 ,\n",
       "          1.2475581 ,  0.9199142 ,  2.7732415 ,  0.75286627, -1.1822617 ,\n",
       "          0.55030495,  1.8000042 ,  1.2073164 ]], dtype=float32),\n",
       " array([[ 1.6274265 , -3.5295506 , -2.88128   , -4.2318926 ,  1.239919  ,\n",
       "          1.0072747 ,  0.38686937,  2.5797033 ,  0.07980855, -1.2069379 ,\n",
       "         -0.18186837,  1.9220731 ,  1.3339328 ]], dtype=float32),\n",
       " array([[-1.9410602 , -3.4104602 , -2.6646156 , -3.977698  ,  1.7644079 ,\n",
       "          0.83600724,  0.4833972 , -0.237897  ,  0.69841385, -0.9533347 ,\n",
       "          0.29877377,  2.4066732 ,  1.4542136 ]], dtype=float32),\n",
       " array([[-1.9975060e+00, -3.5256727e+00, -2.7708397e+00, -4.1775799e+00,\n",
       "          1.6590002e+00,  1.0589993e+00,  4.7705337e-01, -2.2898510e-01,\n",
       "          5.2022672e-01, -1.1023477e+00,  8.8922679e-05,  2.4975212e+00,\n",
       "          1.5619571e+00]], dtype=float32),\n",
       " array([[-1.4479923 , -3.3897076 , -2.4713573 , -4.472508  ,  0.9927143 ,\n",
       "          0.34931588, -1.8781266 ,  0.52369535, -0.42489886, -0.8999089 ,\n",
       "         -1.0858572 ,  0.3774159 , -1.098886  ]], dtype=float32),\n",
       " array([[-1.3021497 , -2.8919394 , -2.5698214 , -4.2705574 ,  0.28229168,\n",
       "          1.5297147 , -2.2311153 ,  0.7069264 , -0.7940854 , -0.7211297 ,\n",
       "         -1.0980413 , -1.9153513 , -2.7985463 ]], dtype=float32),\n",
       " array([[ 2.2218068 , -2.6778827 , -1.7005656 , -3.7418692 ,  1.906551  ,\n",
       "          1.1854587 ,  1.0886991 ,  2.7918587 ,  0.29599345, -0.6758571 ,\n",
       "          0.26283786,  2.3944116 ,  0.45270362]], dtype=float32),\n",
       " array([[-1.1336744 , -2.9078147 , -2.3635957 , -4.277286  ,  0.16989878,\n",
       "          0.19425812, -3.8359761 ,  0.78826046, -0.73580855, -0.6307384 ,\n",
       "         -0.96451086, -2.0034049 , -3.0218797 ]], dtype=float32),\n",
       " array([[-1.9672879 , -4.383153  , -3.2525954 , -4.650545  , -0.0898606 ,\n",
       "          0.5436849 , -4.4608207 , -0.24646126, -1.2442833 , -1.1298491 ,\n",
       "         -2.1371884 , -2.9434319 , -3.0583313 ]], dtype=float32),\n",
       " array([[-2.030473  , -4.0314035 , -3.294209  , -4.819399  ,  0.6108959 ,\n",
       "          1.6285952 , -1.1281657 ,  0.14428332, -1.1010662 , -1.1202546 ,\n",
       "         -1.600228  ,  2.0514052 ,  0.9314791 ]], dtype=float32),\n",
       " array([[-0.7637312, -3.0151942, -2.4655862, -4.3012023,  2.1376333,\n",
       "          1.8002516,  1.8266168,  0.8904789,  1.4722635, -0.805541 ,\n",
       "          1.0736042,  2.4927523,  1.6162003]], dtype=float32),\n",
       " array([[-1.5530766 , -3.1864207 , -2.5068579 , -3.9018905 ,  1.975018  ,\n",
       "          1.9409373 ,  1.0521786 ,  0.35446697,  1.5431222 , -0.91939205,\n",
       "          1.2343887 ,  2.5257547 ,  1.4808857 ]], dtype=float32),\n",
       " array([[-1.1730593 , -2.9721124 , -2.3240762 , -4.360012  ,  0.14161491,\n",
       "          0.30105   , -3.3295493 ,  0.85654765, -0.8228498 , -0.6821404 ,\n",
       "         -1.0617265 , -1.670541  , -2.93005   ]], dtype=float32),\n",
       " array([[-1.5185632 , -3.4217017 , -2.83721   , -4.794259  ,  0.61053926,\n",
       "          0.38278008, -0.11682808,  0.37600943, -0.944882  , -1.061387  ,\n",
       "         -1.3309051 ,  2.3102186 ,  1.230074  ]], dtype=float32),\n",
       " array([[-1.7334968 , -3.4834716 , -3.0613961 , -4.5092554 , -0.10298567,\n",
       "         -0.05844056, -3.7898347 ,  0.24069604, -1.0517904 , -1.0745214 ,\n",
       "         -1.7352005 , -2.381397  , -2.8194916 ]], dtype=float32),\n",
       " array([[-1.7872852 , -3.2933514 , -2.9441226 , -4.463536  , -0.0266601 ,\n",
       "         -0.10889555, -3.7656622 ,  0.322402  , -0.9452579 , -1.0199006 ,\n",
       "         -1.5985628 , -2.4736826 , -2.9269092 ]], dtype=float32),\n",
       " array([[-2.0245242 , -3.3296263 , -2.8238115 , -4.048653  ,  1.2373585 ,\n",
       "          0.24078065,  0.37385863, -0.41062787, -0.7141554 , -1.1452124 ,\n",
       "         -1.885508  ,  2.2205026 ,  1.2740281 ]], dtype=float32),\n",
       " array([[-1.7597917 , -3.143031  , -2.8261046 , -4.522718  ,  0.17031327,\n",
       "          0.04568171, -3.6704912 ,  0.4163551 , -0.85066575, -0.8830411 ,\n",
       "         -1.3381759 , -2.4149983 , -3.0073214 ]], dtype=float32),\n",
       " array([[-1.1398963 , -2.9405854 , -2.4309945 , -4.42      ,  0.41002274,\n",
       "          1.4724479 , -1.9769514 ,  0.75989   , -0.8220746 , -0.76025593,\n",
       "         -1.2030649 , -1.670391  , -2.5865436 ]], dtype=float32),\n",
       " array([[-1.423686  , -3.0435731 , -2.588179  , -4.3143992 ,  0.32217622,\n",
       "          1.5539938 , -1.9468925 ,  0.72746813, -0.89529246, -0.8026592 ,\n",
       "         -1.2517793 , -1.5796012 , -2.548441  ]], dtype=float32),\n",
       " array([[-1.5821191e+00, -3.2609360e+00, -2.6672273e+00, -4.5483441e+00,\n",
       "         -3.5207868e-02, -4.1724294e-03, -4.0093198e+00,  4.3878737e-01,\n",
       "         -9.4882095e-01, -8.9745003e-01, -1.3540043e+00, -2.2250464e+00,\n",
       "         -2.9775105e+00]], dtype=float32),\n",
       " array([[-1.603707  , -2.7709963 , -2.4520445 , -4.0863137 ,  0.11569615,\n",
       "         -0.2806036 , -3.6050763 ,  0.35449606, -1.0237151 , -0.8270591 ,\n",
       "         -2.1345701 , -1.7474654 , -2.7669826 ]], dtype=float32),\n",
       " array([[-1.5984019 , -3.3973553 , -2.8498425 , -4.6037426 ,  1.0297749 ,\n",
       "          0.2278988 ,  0.54905844,  0.38831782, -1.0333644 , -0.9728909 ,\n",
       "         -1.5635175 ,  1.0763013 , -0.83468175]], dtype=float32),\n",
       " array([[-1.219576  , -2.9743812 , -2.4179497 , -4.2916045 ,  0.13306955,\n",
       "          0.15921584, -3.3766072 ,  0.72385687, -0.82258666, -0.717442  ,\n",
       "         -1.164372  , -1.6623839 , -2.87884   ]], dtype=float32),\n",
       " array([[ 2.483168  , -2.22528   , -1.2364875 , -3.749972  ,  1.9296174 ,\n",
       "          1.4478093 ,  1.6713448 ,  2.9581578 ,  1.3865141 , -0.55137616,\n",
       "          1.2016559 ,  2.307752  ,  0.7674828 ]], dtype=float32),\n",
       " array([[-1.2903928 , -3.3603723 , -2.4568439 , -4.1818156 ,  1.5615056 ,\n",
       "          0.41479024,  0.5928969 ,  0.38763267,  1.5673902 , -0.8649518 ,\n",
       "          0.78995246,  2.1096294 ,  0.08676608]], dtype=float32),\n",
       " array([[-1.7689612, -3.602483 , -2.6459787, -3.72182  ,  1.6726285,\n",
       "          1.6646965,  0.6363451,  0.0837457,  1.2825087, -1.0669388,\n",
       "          0.9251438,  2.275719 ,  1.3873507]], dtype=float32),\n",
       " array([[-1.9060779 , -3.8923604 , -2.9993591 , -4.577803  ,  1.1388986 ,\n",
       "          0.50812477, -0.31508982, -0.22895187, -1.0418292 , -1.3752307 ,\n",
       "         -1.6364635 ,  2.1913927 ,  1.1699007 ]], dtype=float32),\n",
       " array([[-1.9242045 , -3.5248392 , -2.6994522 , -3.8005793 ,  1.7966864 ,\n",
       "          1.8194628 ,  0.7998574 ,  0.03382044,  0.86465335, -0.97529626,\n",
       "          0.4750378 ,  2.3371348 ,  1.3426962 ]], dtype=float32),\n",
       " array([[-1.4854116 , -3.117075  , -2.5494208 , -4.4675236 ,  0.04960438,\n",
       "         -0.0675969 , -3.7714038 ,  0.5796262 , -0.92485946, -0.8796533 ,\n",
       "         -1.2915212 , -2.105273  , -2.9261646 ]], dtype=float32),\n",
       " array([[-1.8308028 , -3.4551513 , -2.689464  , -4.0379877 ,  1.7074906 ,\n",
       "          0.88837564,  0.5675253 , -0.1072586 ,  1.2134162 , -1.0440791 ,\n",
       "          0.7299296 ,  2.3565853 ,  1.3801327 ]], dtype=float32),\n",
       " array([[-1.5304691 , -3.1132348 , -2.5480125 , -4.4737644 ,  0.06852794,\n",
       "         -0.08067187, -3.7814837 ,  0.58228844, -0.950007  , -0.86987776,\n",
       "         -1.2645769 , -2.0858877 , -2.9089932 ]], dtype=float32),\n",
       " array([[-1.50817084e+00, -3.12260604e+00, -2.55027056e+00,\n",
       "         -4.43329239e+00,  3.06686014e-03, -1.17432915e-01,\n",
       "         -3.82240748e+00,  4.86761689e-01, -9.39843237e-01,\n",
       "         -8.78974617e-01, -1.23477113e+00, -2.14695191e+00,\n",
       "         -2.91705656e+00]], dtype=float32),\n",
       " array([[-1.9579617 , -3.5856838 , -2.8397405 , -4.3214602 ,  1.123862  ,\n",
       "          0.19843373,  0.18410939, -0.29820538, -1.0883776 , -1.2534891 ,\n",
       "         -1.7761701 ,  1.3563082 , -0.34254092]], dtype=float32),\n",
       " array([[-1.4470496 , -2.9788952 , -2.567652  , -4.328315  ,  0.29547068,\n",
       "          1.5176204 , -2.1248074 ,  0.7351088 , -0.89071894, -0.7680856 ,\n",
       "         -1.2016382 , -1.6723089 , -2.6874266 ]], dtype=float32),\n",
       " array([[-1.7421159 , -3.4918158 , -2.9080977 , -4.6807976 ,  1.2824717 ,\n",
       "          0.4668155 ,  0.33161867, -0.01536441, -1.0344325 , -1.1036409 ,\n",
       "         -1.5399436 ,  2.4981756 ,  1.5013845 ]], dtype=float32),\n",
       " array([[-1.4703969 , -3.1065917 , -2.5622718 , -4.4675875 ,  0.08201871,\n",
       "         -0.09441546, -3.8142247 ,  0.5805348 , -0.8968331 , -0.8697042 ,\n",
       "         -1.2417129 , -2.155194  , -2.9070423 ]], dtype=float32),\n",
       " array([[-1.7013861 , -3.463081  , -2.9669452 , -4.8988223 ,  0.5301598 ,\n",
       "          0.42672595, -0.924126  ,  0.38581824, -0.92154926, -1.1056418 ,\n",
       "         -1.377225  ,  2.3641765 ,  1.247018  ]], dtype=float32),\n",
       " array([[-1.6130847 , -3.217159  , -2.693122  , -4.460553  , -0.05170978,\n",
       "         -0.13903889, -3.9157696 ,  0.36579978, -1.0434221 , -0.9362666 ,\n",
       "         -1.4875342 , -2.2413647 , -2.9282258 ]], dtype=float32),\n",
       " array([[-1.7812079 , -3.717738  , -3.099146  , -4.4548674 ,  1.3189708 ,\n",
       "          0.7655346 ,  0.11558557,  0.06663518,  0.5393573 , -1.2572119 ,\n",
       "          0.24417338,  2.3550339 ,  1.2339691 ]], dtype=float32),\n",
       " array([[-1.6213077 , -3.3379576 , -2.754411  , -4.4887247 , -0.14962742,\n",
       "         -0.13987651, -4.1720486 ,  0.33832043, -1.0380143 , -0.9704117 ,\n",
       "         -1.6020095 , -2.316583  , -2.9676104 ]], dtype=float32),\n",
       " array([[-1.5208049 , -3.3625243 , -2.6750019 , -4.905778  ,  0.34340248,\n",
       "          0.1527181 ,  0.49380493,  0.10248585, -1.3053936 , -1.219025  ,\n",
       "         -1.6353654 , -0.8140858 , -1.8751012 ]], dtype=float32),\n",
       " array([[ 1.9124124 , -3.0831664 , -2.4310298 , -3.9656994 ,  1.6664643 ,\n",
       "          1.0254807 ,  0.7359857 ,  2.6621585 ,  0.22756268, -0.9218807 ,\n",
       "          0.01037153,  1.9544369 ,  1.0904074 ]], dtype=float32),\n",
       " array([[-1.5092573 , -3.4016445 , -2.8203719 , -4.5430717 , -0.11332425,\n",
       "          0.01583805, -4.1620097 ,  0.4055306 , -1.1610136 , -0.98065263,\n",
       "         -1.5850145 , -2.2204816 , -2.9045918 ]], dtype=float32),\n",
       " array([[-1.4686974 , -3.2062602 , -2.6698453 , -4.3950047 , -0.03728903,\n",
       "         -0.10225627, -4.1152444 ,  0.5264415 , -0.9707251 , -0.8870643 ,\n",
       "         -1.3513191 , -2.2216249 , -2.9573948 ]], dtype=float32),\n",
       " array([[-1.4778515 , -3.0534146 , -2.6062865 , -4.4524794 ,  0.312972  ,\n",
       "          1.4027327 , -2.0870872 ,  0.59255356, -0.9823517 , -0.8790548 ,\n",
       "         -1.3343889 , -1.7462301 , -2.5611606 ]], dtype=float32),\n",
       " array([[ 1.655863  , -3.7831614 , -3.0778656 , -4.3827057 ,  1.0354167 ,\n",
       "          0.6966592 , -0.03817332,  2.4938896 , -0.7559429 , -1.3411206 ,\n",
       "         -1.1369611 ,  1.6970367 ,  0.9528855 ]], dtype=float32),\n",
       " array([[-1.6997943 , -3.7401054 , -2.9540935 , -4.9930024 ,  0.3787408 ,\n",
       "          0.31209892, -0.35918686,  0.17105223, -1.2639008 , -1.2537733 ,\n",
       "         -1.8017681 ,  1.743756  ,  0.8009364 ]], dtype=float32),\n",
       " array([[-0.79085916, -2.993377  , -2.6501226 , -4.6061535 ,  2.1231394 ,\n",
       "          1.8793576 ,  1.8687489 ,  1.0545561 ,  0.03910397, -0.86514485,\n",
       "         -0.26884723,  2.717446  ,  1.2500643 ]], dtype=float32),\n",
       " array([[-0.9277402 , -3.4235775 , -2.7209005 , -4.514393  ,  0.38217524,\n",
       "          0.34601885,  0.5163593 ,  0.73065263, -0.9462125 , -1.0515319 ,\n",
       "         -1.3803936 , -0.3323816 , -1.4419119 ]], dtype=float32),\n",
       " array([[-1.5469947 , -3.1231768 , -2.561706  , -4.495762  ,  0.07361194,\n",
       "         -0.03312218, -3.7974482 ,  0.562056  , -0.94480944, -0.8951395 ,\n",
       "         -1.2965261 , -2.0547755 , -2.8823547 ]], dtype=float32),\n",
       " array([[-1.8776999 , -3.7509544 , -2.9633908 , -4.3380685 , -0.03569498,\n",
       "          0.21897969, -4.2326274 , -0.05122303, -0.9642617 , -1.0724069 ,\n",
       "         -1.6813664 , -2.3177693 , -2.747336  ]], dtype=float32),\n",
       " array([[ 1.9001123 , -3.5320597 , -2.5321689 , -4.1775208 ,  1.2245445 ,\n",
       "          0.77000356,  0.28777218,  2.4786315 , -0.61762863, -1.0701784 ,\n",
       "         -0.8652544 ,  1.5515361 , -0.14841403]], dtype=float32),\n",
       " array([[-1.6088189 , -3.1415799 , -2.5767257 , -4.4794474 ,  0.06157631,\n",
       "         -0.03716335, -3.8256176 ,  0.50266725, -0.9955954 , -0.907677  ,\n",
       "         -1.3711555 , -2.0673606 , -2.890018  ]], dtype=float32),\n",
       " array([[-1.5308686 , -3.0417378 , -2.5669572 , -4.4500084 ,  0.08781774,\n",
       "          0.09070396, -3.8054357 ,  0.56454664, -0.9006981 , -0.811928  ,\n",
       "         -1.2586398 , -2.0945928 , -2.9293742 ]], dtype=float32),\n",
       " array([[-1.4610842 , -3.8534534 , -2.8348398 , -4.625592  ,  1.2865235 ,\n",
       "          0.64030087,  0.40266138,  0.318947  , -0.92744356, -1.17633   ,\n",
       "         -1.4049727 ,  2.689399  ,  1.4933918 ]], dtype=float32),\n",
       " array([[-1.5094825 , -3.1313834 , -2.5678382 , -4.4316096 ,  0.02538723,\n",
       "         -0.08084852, -3.8353808 ,  0.5159396 , -0.9768168 , -0.89038277,\n",
       "         -1.3779385 , -2.1934597 , -2.9306746 ]], dtype=float32),\n",
       " array([[-1.7065622 , -4.0797796 , -3.0573936 , -4.546445  ,  1.0479537 ,\n",
       "          0.63951945,  0.29712853, -0.01745453, -1.0041307 , -1.3553908 ,\n",
       "         -1.7128335 ,  2.2855992 ,  1.3198104 ]], dtype=float32),\n",
       " array([[-1.7194759 , -4.296559  , -3.183279  , -4.6131706 , -0.16108343,\n",
       "          0.4130063 , -4.5077567 , -0.3155148 , -1.2447816 , -1.1716493 ,\n",
       "         -2.2335343 , -2.9943917 , -2.9770622 ]], dtype=float32),\n",
       " array([[-1.7902848 , -2.985658  , -2.611051  , -4.2228546 , -0.04301778,\n",
       "         -0.3151295 , -3.723291  ,  0.18625009, -1.1463042 , -0.90530986,\n",
       "         -2.329503  , -2.047664  , -2.8834152 ]], dtype=float32),\n",
       " array([[-1.3410563 , -2.9740129 , -2.2603347 , -3.5015657 ,  1.6939068 ,\n",
       "          1.2540544 ,  1.0023735 ,  0.25299266,  1.3378048 , -0.6995447 ,\n",
       "          0.47099543,  2.113176  ,  0.4516993 ]], dtype=float32),\n",
       " array([[-1.7755237 , -3.950339  , -2.9966288 , -5.0205774 , -0.17962277,\n",
       "         -0.11294083, -3.8038473 , -0.16997854, -1.4475669 , -1.2906193 ,\n",
       "         -2.2871287 , -2.2803876 , -2.7291784 ]], dtype=float32),\n",
       " array([[-1.4135836 , -3.2381003 , -2.6362114 , -4.687208  ,  0.8547361 ,\n",
       "          0.2448644 , -0.20232397,  0.5645674 , -0.9360619 , -0.85995597,\n",
       "         -1.5980066 ,  2.548711  ,  1.3037357 ]], dtype=float32),\n",
       " array([[-1.6738262 , -3.4829614 , -2.8353252 , -4.487612  ,  1.4137435 ,\n",
       "          0.58115077,  0.4902724 ,  0.16009669, -0.8303836 , -1.0452285 ,\n",
       "         -1.2319952 ,  2.6878655 ,  1.5321243 ]], dtype=float32),\n",
       " array([[-2.2208097 , -4.1390753 , -3.1829357 , -4.704049  ,  1.0146253 ,\n",
       "          0.5603543 ,  0.29419035, -0.28137338, -1.2803665 , -1.2994064 ,\n",
       "         -2.1672502 ,  0.7030187 , -0.8961597 ]], dtype=float32),\n",
       " array([[ 1.6825024 , -3.292737  , -2.5120678 , -4.0153627 ,  1.4127432 ,\n",
       "          1.0454973 ,  0.42700285,  2.587097  ,  0.31832165, -1.1546333 ,\n",
       "          0.06788293,  1.8263444 ,  1.0763409 ]], dtype=float32),\n",
       " array([[-1.7154955 , -3.536979  , -2.8918524 , -4.6720376 , -0.23003331,\n",
       "         -0.19062176, -4.2361217 ,  0.1861355 , -1.1937164 , -1.0692638 ,\n",
       "         -1.8633568 , -2.3967338 , -2.868911  ]], dtype=float32),\n",
       " array([[-1.4308413 , -2.9456658 , -2.4646072 , -4.418578  ,  0.15878487,\n",
       "          0.11265013, -3.7254333 ,  0.60520643, -0.8501983 , -0.7371827 ,\n",
       "         -1.1451495 , -2.0951712 , -2.9938674 ]], dtype=float32),\n",
       " array([[-1.858066  , -3.6547098 , -3.1214726 , -5.002923  ,  0.41179588,\n",
       "          0.03275912,  0.18299335,  0.31309867, -1.0227183 , -1.0198977 ,\n",
       "         -1.6186727 , -0.730013  , -2.1068645 ]], dtype=float32),\n",
       " array([[-1.3075544 , -3.2161233 , -2.498755  , -4.164863  ,  1.4159371 ,\n",
       "          0.5921658 ,  0.6769083 ,  0.28904998,  1.3698239 , -0.9174914 ,\n",
       "          0.95870847,  1.9087784 ,  0.6217482 ]], dtype=float32),\n",
       " array([[-1.5356022 , -3.0305836 , -2.5592074 , -4.461532  ,  0.10135228,\n",
       "          0.03881996, -3.7268457 ,  0.58748955, -0.9508496 , -0.82068807,\n",
       "         -1.2728527 , -2.1764448 , -3.003505  ]], dtype=float32),\n",
       " array([[ 1.7319337 , -3.4122927 , -2.8233094 , -4.0375953 ,  1.1689398 ,\n",
       "          1.0630265 , -0.17895228,  2.27464   , -0.58561194, -1.2136816 ,\n",
       "         -0.89638907,  1.832111  ,  0.9470604 ]], dtype=float32),\n",
       " array([[-1.6937156 , -3.2734635 , -2.7780461 , -4.410034  ,  1.4284668 ,\n",
       "          0.5825686 ,  0.51229686,  0.09911766, -0.8062039 , -0.9509155 ,\n",
       "         -1.3129826 ,  2.5261314 ,  1.5396354 ]], dtype=float32),\n",
       " array([[-1.516019  , -3.086669  , -2.3421192 , -4.3658123 ,  1.4265419 ,\n",
       "          0.3720315 ,  0.42492113,  0.14696935, -1.1566259 , -0.9725526 ,\n",
       "         -1.6952249 ,  1.5326004 , -0.2764627 ]], dtype=float32),\n",
       " array([[-1.7076354 , -3.5138166 , -2.8810039 , -4.6376104 , -0.15919235,\n",
       "         -0.02734829, -4.213001  ,  0.37769926, -1.063523  , -1.0112897 ,\n",
       "         -1.5866822 , -2.423023  , -3.0700934 ]], dtype=float32),\n",
       " array([[ 1.7489699 , -3.062734  , -2.349421  , -3.8864024 ,  1.5346246 ,\n",
       "          1.03902   ,  0.53575855,  2.499601  , -0.21966742, -1.0479916 ,\n",
       "         -0.50035673,  2.1143792 ,  1.1685724 ]], dtype=float32),\n",
       " array([[-1.4826849 , -3.3789306 , -2.6814632 , -4.3849597 ,  1.6638985 ,\n",
       "          0.82117724,  0.6548414 ,  0.3835946 , -0.50553864, -0.9051305 ,\n",
       "         -1.0613263 ,  2.391499  ,  1.0825933 ]], dtype=float32),\n",
       " array([[-1.6420974 , -3.4282115 , -2.7464457 , -5.0344076 ,  0.41012713,\n",
       "          0.17339244,  0.15752506,  0.32485902, -1.1886479 , -1.1932026 ,\n",
       "         -1.7876073 ,  0.20664181, -1.0131524 ]], dtype=float32),\n",
       " array([[ 1.7378649, -3.391921 , -2.4359932, -4.009662 ,  1.3922693,\n",
       "          1.0933973,  0.5294921,  2.6016924,  0.7838855, -1.1744357,\n",
       "          0.531496 ,  1.7026029,  1.0067997]], dtype=float32),\n",
       " array([[-1.9282011 , -3.178665  , -2.696508  , -4.2532697 , -0.12014467,\n",
       "         -0.3003999 , -3.8846374 ,  0.0710525 , -1.1952041 , -0.97409123,\n",
       "         -2.4994278 , -2.2030368 , -2.8799877 ]], dtype=float32),\n",
       " array([[-1.7473279 , -4.294121  , -3.1796942 , -5.5977907 , -0.05916383,\n",
       "         -0.09862413, -1.8534188 , -0.05942997, -1.5420222 , -1.3874425 ,\n",
       "         -2.532621  , -2.0576441 , -2.6769488 ]], dtype=float32),\n",
       " array([[-1.8821288 , -3.6573074 , -2.9116259 , -4.6929684 , -0.15494505,\n",
       "         -0.14247736, -3.8123455 , -0.12561145, -1.2231535 , -1.1681368 ,\n",
       "         -1.9549353 , -2.008793  , -2.6310782 ]], dtype=float32),\n",
       " array([[ 1.6839863 , -3.4972756 , -2.8223176 , -4.255866  ,  1.1727917 ,\n",
       "          0.83831805,  0.22336787,  2.487803  , -0.5003138 , -1.2643504 ,\n",
       "         -0.84708494,  1.8880948 ,  1.097471  ]], dtype=float32),\n",
       " array([[-1.728302  , -3.523198  , -2.9702377 , -4.6716313 ,  0.36368364,\n",
       "          0.2811659 , -3.7351763 ,  0.44942492, -0.82544893, -0.8837976 ,\n",
       "         -1.4248341 , -1.3681716 , -2.2264802 ]], dtype=float32),\n",
       " array([[-1.6892769 , -3.5645673 , -2.9244816 , -4.627061  , -0.15664351,\n",
       "          0.03379598, -4.249252  ,  0.31250262, -1.0591146 , -0.99395335,\n",
       "         -1.5706993 , -2.4116094 , -3.0319457 ]], dtype=float32),\n",
       " array([[-1.6039064e+00, -3.2421083e+00, -2.6726475e+00, -4.4852304e+00,\n",
       "          1.3777092e-03, -1.5606439e-01, -3.9252567e+00,  3.6261189e-01,\n",
       "         -1.0328642e+00, -9.4500178e-01, -1.4853376e+00, -2.2678950e+00,\n",
       "         -2.8987455e+00]], dtype=float32),\n",
       " array([[-1.7983268 , -3.6619265 , -2.9777362 , -4.684282  , -0.26926813,\n",
       "         -0.06012116, -4.191455  ,  0.22009648, -1.1575531 , -1.1152953 ,\n",
       "         -1.8210489 , -2.495755  , -3.0235956 ]], dtype=float32),\n",
       " array([[-1.5077479 , -3.1472642 , -2.5831804 , -4.407568  , -0.016514  ,\n",
       "         -0.05314808, -3.859218  ,  0.43666893, -0.9366858 , -0.8888578 ,\n",
       "         -1.3118091 , -2.1192133 , -2.8947763 ]], dtype=float32),\n",
       " array([[-1.4160116 , -3.2706685 , -2.9037738 , -4.6338654 ,  0.6252636 ,\n",
       "          1.5730604 , -1.2606406 ,  0.56412965, -0.7223218 , -0.86986893,\n",
       "         -1.2139856 ,  2.5350754 ,  1.3451184 ]], dtype=float32),\n",
       " array([[-1.4778177 , -3.0894115 , -2.526162  , -4.450256  ,  0.06472587,\n",
       "         -0.04909974, -3.7251182 ,  0.5708937 , -0.9189132 , -0.87051755,\n",
       "         -1.2728466 , -2.09153   , -2.8850856 ]], dtype=float32),\n",
       " array([[-1.8635184 , -3.4969323 , -2.5314517 , -3.6490061 ,  1.8336318 ,\n",
       "          1.797049  ,  0.79540366,  0.10950906,  0.9265363 , -0.91938716,\n",
       "          0.57349664,  2.299618  ,  1.3663851 ]], dtype=float32),\n",
       " array([[-1.719341  , -3.3437855 , -2.5787144 , -3.9178488 ,  1.7407702 ,\n",
       "          0.7621074 ,  0.56597596,  0.01587034,  0.5833041 , -0.9034957 ,\n",
       "          0.23060739,  2.4019144 ,  1.3930376 ]], dtype=float32),\n",
       " array([[-1.1823777 , -3.1694534 , -2.5770204 , -4.7570405 ,  0.7581102 ,\n",
       "          0.1702824 , -0.25097156,  0.5615547 , -0.9315658 , -0.9197584 ,\n",
       "         -1.810253  ,  2.2048352 ,  1.0177634 ]], dtype=float32),\n",
       " array([[-1.5643822 , -3.3052945 , -2.5733562 , -4.788117  ,  0.31467712,\n",
       "          0.0431223 ,  0.51044226,  0.06309792, -1.3682897 , -1.1849295 ,\n",
       "         -1.7055682 , -0.9616218 , -1.9120998 ]], dtype=float32),\n",
       " array([[-1.8793538 , -3.1572957 , -2.7313216 , -4.0678635 , -0.13809189,\n",
       "         -0.41965765, -3.8767986 ,  0.12094688, -1.0872853 , -0.9985953 ,\n",
       "         -2.4553273 , -2.1314905 , -2.865124  ]], dtype=float32),\n",
       " array([[-1.7447115 , -3.1177523 , -2.8963733 , -4.398697  ,  0.3959457 ,\n",
       "          1.5209653 , -2.1744566 ,  0.5751719 , -0.89339185, -0.8919235 ,\n",
       "         -1.333082  , -1.8377793 , -2.599081  ]], dtype=float32),\n",
       " array([[-1.586568  , -3.3092897 , -2.7096138 , -4.878602  ,  0.15106109,\n",
       "          0.02544137,  0.23697335,  0.21902935, -1.288091  , -1.1650041 ,\n",
       "         -1.7238357 , -1.0360376 , -2.1157594 ]], dtype=float32),\n",
       " array([[-2.0647252 , -3.6305873 , -2.8366342 , -4.165476  ,  1.7279739 ,\n",
       "          1.0659353 ,  0.41494074, -0.23139887,  1.2821643 , -1.0804302 ,\n",
       "          0.89673847,  2.4239671 ,  1.468105  ]], dtype=float32),\n",
       " array([[-1.3583113 , -2.9534    , -2.538836  , -4.1869383 ,  1.4650058 ,\n",
       "          0.04791897,  0.4433207 ,  0.28400916,  0.81098807, -0.84037834,\n",
       "          0.01385798,  2.107217  , -0.03287087]], dtype=float32),\n",
       " array([[-1.1232535 , -2.8873959 , -2.3398495 , -4.2832975 ,  0.20896819,\n",
       "          0.18505773, -3.8727064 ,  0.787957  , -0.71127635, -0.5984146 ,\n",
       "         -0.9096081 , -1.921278  , -3.0115893 ]], dtype=float32),\n",
       " array([[-1.2438608 , -3.0671206 , -2.3974328 , -4.622423  ,  0.90815675,\n",
       "          0.6202824 ,  0.8182085 ,  0.5973838 , -1.0862266 , -0.90624225,\n",
       "         -1.4112626 ,  0.9014398 , -0.85741174]], dtype=float32),\n",
       " array([[-1.5572796 , -2.9686072 , -2.4711108 , -4.3435016 ,  1.6966386 ,\n",
       "          0.4972981 ,  0.7349723 ,  0.23400675, -0.40763843, -0.7233048 ,\n",
       "         -1.0435984 ,  2.4804285 ,  1.3095858 ]], dtype=float32),\n",
       " array([[-1.735712  , -3.3561618 , -2.597821  , -4.0884237 ,  1.7585886 ,\n",
       "          1.039414  ,  0.47552052, -0.10020589,  1.1746384 , -1.0206358 ,\n",
       "          0.7971953 ,  2.2816548 ,  1.4205774 ]], dtype=float32),\n",
       " array([[-1.4839514 , -3.0853086 , -2.5816097 , -4.481448  ,  0.06679568,\n",
       "         -0.01472446, -3.8074586 ,  0.55743617, -0.9199643 , -0.83504874,\n",
       "         -1.2690262 , -2.198685  , -2.9641514 ]], dtype=float32),\n",
       " array([[-1.4529051e+00, -3.5284040e+00, -2.7870884e+00, -5.0691118e+00,\n",
       "          4.5111530e-02, -3.6196783e-03, -1.3639036e-01,  1.7018642e-01,\n",
       "         -1.2711318e+00, -1.1500745e+00, -1.9942317e+00, -1.7319859e+00,\n",
       "         -2.5325484e+00]], dtype=float32),\n",
       " array([[-1.4398034 , -2.9608653 , -2.5575712 , -4.3702717 ,  0.28991175,\n",
       "          1.3398184 , -2.1444683 ,  0.54674214, -0.958195  , -0.836092  ,\n",
       "         -1.3568736 , -1.9127059 , -2.667582  ]], dtype=float32),\n",
       " array([[-2.124456  , -3.6423922 , -2.8528554 , -4.067957  ,  1.5820255 ,\n",
       "          0.8781565 ,  0.28917968, -0.42470992,  0.63429844, -1.1340932 ,\n",
       "          0.13853365,  2.4181516 ,  1.5324426 ]], dtype=float32),\n",
       " array([[-1.8622559 , -3.5525544 , -2.9623075 , -4.5707197 , -0.23559716,\n",
       "         -0.198991  , -4.197884  ,  0.15339391, -1.1251415 , -1.1014898 ,\n",
       "         -1.8997804 , -2.3187146 , -2.9045882 ]], dtype=float32),\n",
       " array([[-1.8086183 , -3.4945056 , -2.876813  , -4.6733513 ,  1.3694928 ,\n",
       "          0.5189648 ,  0.4181317 , -0.02074272, -0.91029084, -1.1103576 ,\n",
       "         -1.4282309 ,  2.5955417 ,  1.6166914 ]], dtype=float32),\n",
       " array([[-1.6475602 , -3.4748719 , -2.8888106 , -4.5786653 , -0.20049065,\n",
       "         -0.09683132, -4.097604  ,  0.27454513, -1.1567907 , -1.0373491 ,\n",
       "         -1.7574037 , -2.252002  , -2.853928  ]], dtype=float32),\n",
       " array([[-1.4891825 , -3.0772922 , -2.5275075 , -4.438602  ,  0.06252942,\n",
       "         -0.06271724, -3.7703326 ,  0.5617213 , -0.91695297, -0.8700712 ,\n",
       "         -1.2621412 , -2.1787422 , -2.9237437 ]], dtype=float32),\n",
       " array([[-1.9922111 , -3.6609528 , -2.8848379 , -4.471428  ,  1.4388833 ,\n",
       "          0.60809445,  0.40165466, -0.37014383, -0.8661861 , -1.2127768 ,\n",
       "         -1.4675375 ,  2.5698504 ,  1.5023618 ]], dtype=float32),\n",
       " array([[-1.805736  , -3.0150483 , -2.6108828 , -4.493244  ,  1.3978633 ,\n",
       "          0.04562479,  0.53189415,  0.1433048 , -1.1351284 , -0.99237376,\n",
       "         -2.3554883 ,  1.9221829 , -0.08416988]], dtype=float32),\n",
       " array([[-1.7847084 , -3.5219064 , -2.7610207 , -4.431841  ,  1.4205058 ,\n",
       "          0.7804179 ,  0.6147923 ,  0.08296584,  0.08003266, -1.1604317 ,\n",
       "         -0.29317987,  2.6348484 ,  1.6197186 ]], dtype=float32),\n",
       " array([[-1.7425228 , -3.2358263 , -2.8932755 , -4.524016  ,  0.0676356 ,\n",
       "         -0.07043511, -3.6804175 ,  0.3014815 , -0.9006964 , -0.9516211 ,\n",
       "         -1.4352111 , -2.3603003 , -2.938826  ]], dtype=float32),\n",
       " array([[-1.6469616e+00, -3.2794263e+00, -2.6050711e+00, -4.7848816e+00,\n",
       "          2.3340073e-01,  3.0825596e-02,  4.4203395e-01, -4.4512656e-03,\n",
       "         -1.3717443e+00, -1.1722432e+00, -1.7842563e+00, -1.1796737e+00,\n",
       "         -2.1144266e+00]], dtype=float32),\n",
       " array([[ 2.3011024 , -2.4767747 , -1.4018292 , -3.7862859 ,  1.9107636 ,\n",
       "          1.2950697 ,  1.3135464 ,  2.8549643 ,  1.0893357 , -0.60367733,\n",
       "          0.9844461 ,  2.2262557 ,  0.62665683]], dtype=float32),\n",
       " array([[-1.4476358 , -2.9598188 , -2.4303052 , -4.4150143 ,  0.14122833,\n",
       "          0.0328548 , -3.6896958 ,  0.68467456, -0.87001055, -0.71732736,\n",
       "         -1.2091327 , -1.9235849 , -2.9734654 ]], dtype=float32),\n",
       " array([[-1.626878  , -3.31591   , -2.765749  , -4.526168  , -0.09709258,\n",
       "         -0.16805929, -4.0460567 ,  0.33226964, -1.0777112 , -0.9866368 ,\n",
       "         -1.5903274 , -2.2481124 , -2.8892035 ]], dtype=float32),\n",
       " array([[-1.7874006 , -3.4264019 , -2.813372  , -4.493981  , -0.1977312 ,\n",
       "         -0.1881057 , -4.148372  ,  0.25994557, -1.093375  , -1.0332999 ,\n",
       "         -1.7559357 , -2.3503318 , -2.959276  ]], dtype=float32),\n",
       " array([[-1.5734943 , -3.1663697 , -2.5188482 , -4.1025476 ,  1.610537  ,\n",
       "          1.2943027 ,  0.06778723,  0.32288542,  0.01008957, -0.8468702 ,\n",
       "         -0.2776217 ,  2.7669158 ,  1.6721536 ]], dtype=float32),\n",
       " array([[-1.5397834 , -3.2208188 , -2.622867  , -4.811418  ,  0.23012069,\n",
       "          0.21112671,  0.15486568,  0.32167608, -1.0080162 , -1.0369331 ,\n",
       "         -1.5703602 , -0.8957065 , -1.9326867 ]], dtype=float32),\n",
       " array([[-1.4296108, -3.3704698, -2.5914288, -3.9093394,  1.5969567,\n",
       "          1.7276144,  0.3396281,  0.4700578,  1.3476219, -1.0098542,\n",
       "          1.1080486,  2.3585627,  1.3754562]], dtype=float32),\n",
       " array([[-1.445529  , -2.9796855 , -2.4794788 , -4.278728  ,  0.23088807,\n",
       "          0.13788168, -3.5538883 ,  0.55620545, -0.70959455, -0.6863093 ,\n",
       "         -1.112675  , -2.1037319 , -2.9974947 ]], dtype=float32),\n",
       " array([[-1.4610647 , -3.115153  , -2.527243  , -4.4356117 ,  0.0661548 ,\n",
       "         -0.06286568, -3.7134757 ,  0.5868587 , -0.89018947, -0.8778797 ,\n",
       "         -1.2766597 , -2.070535  , -2.8948293 ]], dtype=float32),\n",
       " array([[-1.9019712 , -3.83582   , -2.959565  , -4.4076705 , -0.16365054,\n",
       "          0.08035856, -4.2448993 , -0.11631956, -1.0140657 , -1.1753309 ,\n",
       "         -1.9543362 , -2.5064118 , -2.8127282 ]], dtype=float32),\n",
       " array([[-0.9622579 , -3.6840456 , -2.7910273 , -4.2874413 ,  0.8628664 ,\n",
       "          0.6713583 ,  0.4428711 ,  0.63973707,  0.15205209, -1.2370772 ,\n",
       "         -0.4693091 ,  1.2327106 , -0.23094277]], dtype=float32),\n",
       " array([[ 1.7906865 , -3.028117  , -2.227826  , -3.8703697 ,  1.4945927 ,\n",
       "          1.1276042 ,  0.37076843,  2.497704  , -0.13379173, -0.9793728 ,\n",
       "         -0.3767609 ,  2.133196  ,  1.2546872 ]], dtype=float32),\n",
       " array([[-1.6683677 , -2.833774  , -2.5419703 , -4.154988  ,  0.07134891,\n",
       "         -0.2697419 , -3.4431696 ,  0.3418311 , -1.0725709 , -0.8962032 ,\n",
       "         -2.1285646 , -1.6677071 , -2.6672661 ]], dtype=float32),\n",
       " array([[-1.8929474 , -4.0486274 , -3.0379963 , -4.6804056 ,  0.74171746,\n",
       "          0.27568588, -0.03724854, -0.20576864, -1.0996312 , -1.327891  ,\n",
       "         -1.6702154 ,  2.0614636 ,  1.1775521 ]], dtype=float32),\n",
       " array([[ 2.4037983 , -2.3401163 , -1.3243611 , -3.7896917 ,  1.9241482 ,\n",
       "          1.384841  ,  1.5086334 ,  2.8979616 ,  1.7018367 , -0.54785055,\n",
       "          1.4853084 ,  2.2143896 ,  0.74742734]], dtype=float32),\n",
       " array([[-1.9740742 , -3.5799403 , -2.8477566 , -4.9006414 ,  0.88943976,\n",
       "          0.10964487,  0.04511112, -0.2893378 , -1.3266277 , -1.3227416 ,\n",
       "         -2.3791919 ,  1.9987595 ,  1.0876137 ]], dtype=float32),\n",
       " array([[-1.8145298 , -3.2336924 , -2.9318657 , -4.5599194 ,  0.18538612,\n",
       "          0.01658937, -3.6682696 ,  0.39120388, -0.84961945, -0.9034047 ,\n",
       "         -1.3710595 , -2.4147255 , -2.9733522 ]], dtype=float32),\n",
       " array([[-1.7417744 , -3.1387894 , -2.5871696 , -4.2104063 ,  1.1400578 ,\n",
       "          0.49178457,  0.26860863, -0.02226133,  0.2293172 , -0.99876744,\n",
       "         -0.6620071 ,  2.627084  ,  1.6312698 ]], dtype=float32),\n",
       " array([[-2.0575573 , -4.664744  , -3.4918954 , -4.588814  ,  1.0176238 ,\n",
       "          2.1819215 , -0.8536439 , -0.1172929 , -1.0362738 , -1.516966  ,\n",
       "         -1.9407259 ,  1.0505915 ,  0.32439947]], dtype=float32),\n",
       " array([[-1.6276621 , -3.2176588 , -2.6706164 , -4.4794216 , -0.03668975,\n",
       "         -0.17046383, -3.904067  ,  0.36636528, -1.0362797 , -0.948667  ,\n",
       "         -1.5207635 , -2.2027    , -2.9086905 ]], dtype=float32),\n",
       " array([[-2.0648754 , -3.8226962 , -2.9484532 , -4.428546  ,  1.5296832 ,\n",
       "          1.390178  , -0.07148018, -0.08811546, -0.63253874, -1.256561  ,\n",
       "         -1.3399913 ,  2.4596784 ,  1.4318389 ]], dtype=float32),\n",
       " array([[-1.371674  , -2.9790351 , -2.5571618 , -4.37117   ,  0.1528511 ,\n",
       "          0.11255331, -3.9157405 ,  0.5981287 , -0.8047402 , -0.76352686,\n",
       "         -1.0299299 , -2.2127032 , -3.0213177 ]], dtype=float32),\n",
       " array([[-2.0205297 , -3.5632207 , -2.8521633 , -4.343669  ,  1.0474939 ,\n",
       "          0.7895311 ,  0.05054182,  0.04238541,  0.33958855, -0.9644583 ,\n",
       "         -0.28580782,  2.331145  ,  1.2447047 ]], dtype=float32),\n",
       " array([[-1.3910061 , -2.9501612 , -2.3862493 , -4.329261  ,  0.12405969,\n",
       "          0.05088145, -3.679461  ,  0.68112713, -0.805049  , -0.73267585,\n",
       "         -1.0923917 , -1.9247345 , -2.934298  ]], dtype=float32),\n",
       " array([[-1.891558  , -4.1478605 , -3.1519725 , -5.1069517 , -0.13868153,\n",
       "         -0.05251122, -0.32250997, -0.11173899, -1.3339018 , -1.348876  ,\n",
       "         -2.3915665 , -1.8569276 , -2.4794173 ]], dtype=float32),\n",
       " array([[-1.442135  , -3.1661036 , -2.57286   , -4.3563013 ,  1.7686807 ,\n",
       "          0.43415505,  0.72883934,  0.41400176, -0.8540981 , -0.8620526 ,\n",
       "         -1.3694977 ,  2.5696182 ,  0.08351429]], dtype=float32),\n",
       " array([[-1.5872456 , -3.380266  , -2.8223298 , -4.5203395 , -0.07374851,\n",
       "          0.05243489, -4.0602694 ,  0.40478137, -1.047855  , -0.92771053,\n",
       "         -1.5259951 , -2.1883109 , -2.9018688 ]], dtype=float32),\n",
       " array([[-1.6529588 , -3.2400243 , -2.6627314 , -4.2072096 ,  1.7230827 ,\n",
       "          0.9229554 ,  0.7064829 , -0.01056839,  0.60475576, -0.9676359 ,\n",
       "          0.15589938,  2.4360633 ,  1.5100496 ]], dtype=float32),\n",
       " array([[-1.8394651 , -3.4461014 , -2.7330554 , -4.145633  ,  1.6082633 ,\n",
       "          0.6193834 ,  0.4410076 , -0.25480515, -0.5632332 , -1.0512296 ,\n",
       "         -1.1076894 ,  2.5034242 ,  1.2867892 ]], dtype=float32),\n",
       " array([[-1.5229996 , -3.0817842 , -2.5992475 , -4.484045  ,  0.11659203,\n",
       "          0.07437918, -3.760262  ,  0.6224993 , -0.9491492 , -0.83186245,\n",
       "         -1.2888283 , -2.138177  , -2.9532619 ]], dtype=float32),\n",
       " array([[-1.9038193 , -3.7538073 , -2.9044044 , -4.3858337 , -0.18887809,\n",
       "          0.04317807, -4.1419663 , -0.08318699, -1.0922841 , -1.1428097 ,\n",
       "         -2.041094  , -2.4631863 , -2.8205578 ]], dtype=float32),\n",
       " array([[-1.6277741 , -3.3261158 , -2.6280951 , -4.1652884 ,  1.6395972 ,\n",
       "          0.93299377,  0.08911562,  0.26859745,  1.0530097 , -0.89069337,\n",
       "          0.8562179 ,  2.5456648 ,  1.4483619 ]], dtype=float32),\n",
       " array([[-1.5878841 , -3.2805655 , -2.7242346 , -4.5064425 , -0.07468597,\n",
       "         -0.10649716, -3.9581735 ,  0.44559765, -1.0308329 , -0.9738139 ,\n",
       "         -1.494669  , -2.0522623 , -2.8151836 ]], dtype=float32),\n",
       " array([[-1.7447777 , -3.5325391 , -2.926353  , -4.3250303 ,  1.397117  ,\n",
       "          0.93176734,  0.77920866,  0.07153682, -0.8846678 , -1.084337  ,\n",
       "         -1.3938404 ,  2.8057883 ,  1.5861161 ]], dtype=float32),\n",
       " array([[-2.0381935 , -3.8479664 , -3.2744842 , -4.886676  ,  0.8340615 ,\n",
       "          0.2555731 , -0.15071751, -0.11997616, -1.1507404 , -1.2110809 ,\n",
       "         -1.8238713 ,  1.9582067 ,  0.5512836 ]], dtype=float32),\n",
       " array([[-1.7969002 , -3.814864  , -3.050939  , -5.0629215 ,  0.03108209,\n",
       "          0.06905659, -0.21976143,  0.1927764 , -1.0157666 , -1.2104431 ,\n",
       "         -1.7552071 , -1.1530175 , -2.098728  ]], dtype=float32),\n",
       " array([[-1.5162256 , -3.091882  , -2.5417962 , -4.4640765 ,  0.08795359,\n",
       "         -0.02682431, -3.7808218 ,  0.6127388 , -0.95879835, -0.8725811 ,\n",
       "         -1.2689976 , -2.1908164 , -2.9446878 ]], dtype=float32),\n",
       " array([[ 2.393099 , -2.4073136, -1.5768495, -3.6643326,  1.6190827,\n",
       "          1.2473527,  1.1548524,  2.8307137,  1.0158974, -0.6292273,\n",
       "          0.9293531,  2.077078 ,  0.5315759]], dtype=float32),\n",
       " array([[-1.6399752 , -3.4591486 , -2.8564482 , -4.6322036 , -0.12064669,\n",
       "          0.04799691, -4.1499457 ,  0.38457102, -1.0593001 , -0.97328514,\n",
       "         -1.5749264 , -2.3121164 , -3.0341413 ]], dtype=float32),\n",
       " array([[-1.728982  , -3.0912364 , -2.639707  , -4.3707457 , -0.01452724,\n",
       "         -0.20769805, -3.769617  ,  0.26408857, -1.1419028 , -0.97382164,\n",
       "         -2.0839715 , -2.0764475 , -2.8586285 ]], dtype=float32),\n",
       " array([[ 1.6118585 , -3.4394696 , -2.6369987 , -4.19816   ,  1.330753  ,\n",
       "          1.2846267 ,  0.71874183,  2.5744545 ,  0.53519934, -1.2243077 ,\n",
       "          0.342013  ,  1.8485502 ,  1.2263709 ]], dtype=float32),\n",
       " array([[-1.5571619 , -3.0929189 , -2.5937674 , -4.537767  ,  0.08354004,\n",
       "          0.03579636, -3.8011167 ,  0.5205085 , -0.93107057, -0.83406675,\n",
       "         -1.3028165 , -2.111873  , -2.9447415 ]], dtype=float32),\n",
       " array([[-1.7751294 , -3.4962833 , -2.534608  , -4.1820145 ,  1.5710567 ,\n",
       "          0.43006086,  0.41487145,  0.03765238,  0.59690803, -1.0258653 ,\n",
       "         -0.01132316,  1.9950285 ,  0.08224608]], dtype=float32),\n",
       " array([[-1.2408026 , -2.9603183 , -2.4680917 , -4.3459415 ,  0.15999946,\n",
       "          0.17600179, -3.934548  ,  0.72159004, -0.80629057, -0.6938965 ,\n",
       "         -0.9962369 , -2.1570053 , -3.0617895 ]], dtype=float32),\n",
       " array([[-1.4795755 , -3.0480058 , -2.4980562 , -4.4736886 ,  0.09692434,\n",
       "         -0.03397922, -3.7469447 ,  0.6238816 , -0.92949027, -0.8312071 ,\n",
       "         -1.2437929 , -2.1572034 , -2.9708543 ]], dtype=float32),\n",
       " array([[-1.7876335 , -3.7288835 , -2.9252791 , -4.772833  , -0.22599107,\n",
       "         -0.14030623, -3.8548722 , -0.14216341, -1.345416  , -1.192685  ,\n",
       "         -2.1060355 , -2.3879015 , -2.7919164 ]], dtype=float32),\n",
       " array([[-1.5582939e+00, -3.2127013e+00, -2.6516168e+00, -4.4670553e+00,\n",
       "         -3.6452487e-03, -1.4394075e-01, -3.9208903e+00,  4.0445918e-01,\n",
       "         -1.0169379e+00, -9.2120582e-01, -1.4487606e+00, -2.2481124e+00,\n",
       "         -2.8868959e+00]], dtype=float32),\n",
       " array([[-1.7123036 , -3.29137   , -2.9057221 , -4.4737997 ,  0.06878203,\n",
       "         -0.00714813, -3.6512094 ,  0.35840064, -0.918871  , -0.91946846,\n",
       "         -1.4333873 , -2.1785848 , -2.822439  ]], dtype=float32),\n",
       " array([[-2.0364435 , -4.195284  , -3.1534772 , -4.629137  ,  0.7150385 ,\n",
       "          0.38569838,  0.1547083 , -0.21472259, -1.3920476 , -1.4237032 ,\n",
       "         -2.0051966 ,  2.347025  ,  1.4813383 ]], dtype=float32),\n",
       " array([[-1.6857189 , -3.4606833 , -2.938233  , -4.517318  , -0.13373059,\n",
       "          1.0057704 , -2.4921947 ,  0.16324414, -1.2215513 , -1.049752  ,\n",
       "         -1.8994468 , -2.2734191 , -2.7444263 ]], dtype=float32),\n",
       " array([[-1.8771261 , -3.8592727 , -3.1896214 , -5.31188   ,  0.35744336,\n",
       "          0.3098094 , -2.367793  ,  0.4342949 , -1.1867296 , -1.2076892 ,\n",
       "         -1.6072592 ,  1.3053278 ,  0.13142236]], dtype=float32),\n",
       " array([[-1.3923323 , -3.077263  , -2.5000718 , -4.292021  ,  0.00478771,\n",
       "         -0.14704153, -3.8549752 ,  0.5429495 , -0.9380667 , -0.8087284 ,\n",
       "         -1.3567536 , -2.1228635 , -2.9689178 ]], dtype=float32),\n",
       " array([[-1.6835854 , -3.5530536 , -2.875156  , -4.276947  , -0.04247124,\n",
       "          0.18953842, -4.0042877 , -0.01597331, -0.95173836, -1.0536269 ,\n",
       "         -1.706117  , -2.3733766 , -2.8235383 ]], dtype=float32),\n",
       " array([[-1.7108741 , -3.521434  , -2.8650765 , -4.296632  , -0.07195628,\n",
       "          0.10208105, -4.0073752 ,  0.07630762, -0.95421976, -1.0618945 ,\n",
       "         -1.6699826 , -2.303871  , -2.742992  ]], dtype=float32),\n",
       " array([[-1.8485272 , -3.8961182 , -2.9925919 , -5.114808  ,  0.05389457,\n",
       "          0.13933966,  0.1249705 , -0.1758398 , -1.3284708 , -1.3556234 ,\n",
       "         -2.0069485 , -1.2962635 , -1.9872438 ]], dtype=float32),\n",
       " array([[-1.4740348 , -2.993498  , -2.471811  , -4.4540887 ,  0.1512486 ,\n",
       "          0.10457436, -3.7444854 ,  0.5950332 , -0.8881437 , -0.7634595 ,\n",
       "         -1.1597226 , -2.1548245 , -2.9910002 ]], dtype=float32),\n",
       " array([[-1.8074995 , -2.9353273 , -2.576251  , -4.1676564 , -0.01197717,\n",
       "         -0.3222962 , -3.6672516 ,  0.21187294, -1.1581036 , -0.9373674 ,\n",
       "         -2.3253095 , -2.0506573 , -2.8955297 ]], dtype=float32),\n",
       " array([[-1.72557   , -3.8790267 , -2.947781  , -5.0019646 ,  0.09296313,\n",
       "          0.05844101,  0.16310626, -0.15334009, -1.3744211 , -1.3441458 ,\n",
       "         -2.087788  , -1.2881496 , -2.070684  ]], dtype=float32),\n",
       " array([[-1.2980702 , -2.9986267 , -2.4971745 , -4.349812  ,  0.11944406,\n",
       "          0.14115447, -3.943481  ,  0.6841763 , -0.798366  , -0.71543866,\n",
       "         -1.0198045 , -2.1240184 , -3.036941  ]], dtype=float32),\n",
       " array([[-1.5890149 , -3.4811673 , -2.7055938 , -4.971231  ,  0.21225777,\n",
       "          0.13564   ,  0.3265341 , -0.00571598, -1.4026743 , -1.1623966 ,\n",
       "         -1.9363211 , -1.3310206 , -2.180573  ]], dtype=float32),\n",
       " array([[-1.9196236 , -3.5081015 , -3.0511837 , -4.596932  , -0.04366902,\n",
       "         -0.12674448, -3.872046  ,  0.14054573, -1.025082  , -1.1004117 ,\n",
       "         -1.8528353 , -2.555867  , -2.8720222 ]], dtype=float32),\n",
       " array([[-1.2667655 , -2.9828122 , -2.4875991 , -4.328205  ,  0.16724333,\n",
       "          0.16974938, -3.8955278 ,  0.6662904 , -0.8086082 , -0.7159374 ,\n",
       "         -1.0513457 , -2.0509727 , -2.9833636 ]], dtype=float32),\n",
       " array([[-1.8400427 , -3.5908177 , -2.8941324 , -4.7340717 , -0.23924252,\n",
       "         -0.01153352, -4.103433  ,  0.1505606 , -1.1192561 , -1.0849053 ,\n",
       "         -1.7854152 , -2.3561924 , -3.0022726 ]], dtype=float32),\n",
       " array([[-2.090227  , -3.6962593 , -2.854801  , -4.0064783 ,  1.6456699 ,\n",
       "          1.0029924 ,  0.30437553, -0.3414756 ,  1.1776208 , -1.1395475 ,\n",
       "          0.68100005,  2.3479824 ,  1.4153633 ]], dtype=float32),\n",
       " array([[-1.3357817 , -2.9757898 , -2.5471265 , -4.331942  ,  0.12939048,\n",
       "          0.17269865, -3.9452786 ,  0.60793716, -0.82930356, -0.74586314,\n",
       "         -1.0656855 , -2.2350342 , -3.004014  ]], dtype=float32),\n",
       " array([[-1.5837027e+00, -3.2111790e+00, -2.6220908e+00, -4.4721603e+00,\n",
       "         -2.3616627e-03, -1.5633461e-01, -3.9101133e+00,  3.6345914e-01,\n",
       "         -9.6946913e-01, -9.1875917e-01, -1.4336098e+00, -2.3222208e+00,\n",
       "         -2.9573846e+00]], dtype=float32),\n",
       " array([[-1.1283134 , -3.0317225 , -2.6577795 , -4.4143467 ,  1.8897983 ,\n",
       "          1.20869   ,  1.2763236 ,  0.52551645,  1.2626325 , -0.8427877 ,\n",
       "          0.84695715,  2.1906517 ,  0.8694456 ]], dtype=float32),\n",
       " array([[-1.4999164 , -3.1032922 , -2.6062734 , -4.449194  ,  0.05424327,\n",
       "          0.04458439, -3.983653  ,  0.5590879 , -0.8894226 , -0.8466409 ,\n",
       "         -1.2530365 , -2.1934261 , -3.004644  ]], dtype=float32),\n",
       " array([[-1.458637  , -3.2325497 , -2.5840235 , -4.4931746 , -0.03327897,\n",
       "         -0.22382322, -3.999619  ,  0.42072615, -1.0135967 , -0.943268  ,\n",
       "         -1.4627715 , -2.277127  , -3.0035238 ]], dtype=float32),\n",
       " array([[-1.5343741 , -3.0837252 , -2.5564177 , -4.4481106 ,  0.0502801 ,\n",
       "         -0.03192951, -3.7792892 ,  0.5427875 , -0.99047405, -0.860368  ,\n",
       "         -1.331496  , -2.125601  , -2.9124312 ]], dtype=float32),\n",
       " array([[ 1.8799089 , -3.543175  , -2.5140476 , -4.166339  ,  1.4665614 ,\n",
       "          0.7022117 ,  0.15201515,  2.56948   , -0.5406129 , -1.0030763 ,\n",
       "         -0.7581583 ,  1.965867  , -0.10656624]], dtype=float32),\n",
       " array([[-1.5611728 , -3.4044223 , -2.8402245 , -4.567894  , -0.15213522,\n",
       "         -0.13278079, -4.274771  ,  0.29247802, -1.1520141 , -1.0291718 ,\n",
       "         -1.7798206 , -2.1567185 , -2.7728934 ]], dtype=float32),\n",
       " array([[-1.5163487 , -3.1657836 , -2.5968287 , -4.4361877 ,  0.04024153,\n",
       "         -0.12916186, -3.8719804 ,  0.45723867, -0.9634227 , -0.88618475,\n",
       "         -1.3093452 , -2.219306  , -2.9405642 ]], dtype=float32),\n",
       " array([[-1.4968554 , -3.0683532 , -2.5891094 , -4.504591  ,  0.1001362 ,\n",
       "          0.00582389, -3.7665129 ,  0.5921647 , -0.9422442 , -0.8370075 ,\n",
       "         -1.2867517 , -2.1001642 , -2.925847  ]], dtype=float32),\n",
       " array([[-1.6963392 , -3.1002357 , -2.7860413 , -4.454525  ,  0.11987311,\n",
       "          0.09054659, -3.6081357 ,  0.4661717 , -0.82810473, -0.8327463 ,\n",
       "         -1.2385515 , -2.2830918 , -2.9780905 ]], dtype=float32),\n",
       " array([[-1.6190718 , -3.209283  , -2.6372197 , -4.4596076 ,  0.01987559,\n",
       "         -0.1382787 , -3.9104686 ,  0.3775539 , -1.0086337 , -0.9184874 ,\n",
       "         -1.5153428 , -2.2830322 , -2.9155443 ]], dtype=float32),\n",
       " array([[-1.4894074 , -3.2807677 , -2.5223742 , -4.043148  ,  1.883308  ,\n",
       "          0.94327575,  0.8758976 ,  0.39632154,  1.5022013 , -0.8580021 ,\n",
       "          1.245203  ,  2.4485931 ,  1.2389041 ]], dtype=float32),\n",
       " array([[-2.047563  , -3.5826914 , -2.7476375 , -3.9612143 ,  1.7490025 ,\n",
       "          0.986111  ,  0.43196636, -0.23970746,  1.3509588 , -1.0146297 ,\n",
       "          0.9811172 ,  2.340014  ,  1.3859915 ]], dtype=float32),\n",
       " array([[-1.906872  , -3.2031152 , -2.6962957 , -4.11168   , -0.12715971,\n",
       "         -0.4317566 , -3.9883547 ,  0.11206237, -1.1730069 , -0.98194844,\n",
       "         -2.5781543 , -2.306946  , -2.9618983 ]], dtype=float32),\n",
       " array([[-1.57775   , -3.2573345 , -2.662579  , -4.577882  ,  0.09036026,\n",
       "         -0.0067869 , -3.8491654 ,  0.56881565, -0.9438948 , -0.88996685,\n",
       "         -1.3621176 , -2.243514  , -3.00758   ]], dtype=float32),\n",
       " array([[-2.0341237 , -4.4101343 , -3.5438864 , -5.4570427 ,  0.4062856 ,\n",
       "          0.4168617 , -2.3487248 ,  0.0738548 , -1.0290728 , -1.3257514 ,\n",
       "         -1.571573  ,  1.4152484 ,  0.40196002]], dtype=float32),\n",
       " array([[-1.5330929 , -3.3298872 , -2.6200202 , -4.196256  ,  1.7298808 ,\n",
       "          1.9405291 ,  0.32651407,  0.36801925, -0.455382  , -0.9980776 ,\n",
       "         -0.90362257,  2.6908333 ,  1.4391814 ]], dtype=float32),\n",
       " array([[-1.4598337 , -3.2204256 , -2.3794963 , -3.5621693 ,  1.7806354 ,\n",
       "          1.6866093 ,  0.87107164,  0.3443284 ,  0.92339855, -0.7907798 ,\n",
       "          0.6673401 ,  2.1232648 ,  1.3407218 ]], dtype=float32),\n",
       " array([[-1.6990503 , -3.14874   , -2.764203  , -4.508917  ,  0.13037364,\n",
       "          0.01963766, -3.675972  ,  0.46523842, -0.85842854, -0.8375723 ,\n",
       "         -1.3861357 , -2.238671  , -2.9571657 ]], dtype=float32),\n",
       " array([[-1.6869532 , -2.9349282 , -2.5146303 , -4.0477366 ,  0.01354962,\n",
       "         -0.31723616, -3.690682  ,  0.25014272, -1.103644  , -0.8812942 ,\n",
       "         -2.300965  , -1.9184148 , -2.779021  ]], dtype=float32),\n",
       " array([[-1.7728807 , -3.400761  , -2.7818408 , -4.5337334 , -0.17126632,\n",
       "         -0.16735134, -4.1261263 ,  0.29709023, -1.0534341 , -1.0502075 ,\n",
       "         -1.7435762 , -2.2209158 , -2.9095635 ]], dtype=float32),\n",
       " array([[-1.6585087 , -3.4744444 , -2.8754437 , -4.6446095 , -0.18236393,\n",
       "         -0.15333736, -4.1319804 ,  0.19965485, -1.1917714 , -1.0676073 ,\n",
       "         -1.817896  , -2.3248427 , -2.8488002 ]], dtype=float32),\n",
       " array([[-1.5513977e+00, -3.1976984e+00, -2.6156354e+00, -4.4401388e+00,\n",
       "         -3.7307665e-03, -1.5262806e-01, -3.9157956e+00,  4.0846395e-01,\n",
       "         -1.0208883e+00, -9.1427451e-01, -1.4707577e+00, -2.2206123e+00,\n",
       "         -2.8933549e+00]], dtype=float32),\n",
       " array([[-1.5339159e+00, -3.1535208e+00, -2.5783687e+00, -4.4553523e+00,\n",
       "          2.0430312e-03, -1.1372611e-02, -3.8748429e+00,  4.8944277e-01,\n",
       "         -8.9047623e-01, -8.5648280e-01, -1.3275172e+00, -2.1594603e+00,\n",
       "         -2.9644575e+00]], dtype=float32),\n",
       " array([[-1.8218218 , -3.5140588 , -2.7932334 , -4.7120843 , -0.12105479,\n",
       "         -0.10421811, -4.086331  ,  0.26209855, -0.9772695 , -0.9782601 ,\n",
       "         -1.6035547 , -1.977264  , -2.8000193 ]], dtype=float32),\n",
       " array([[-1.9063324 , -3.187968  , -2.62637   , -3.8566446 ,  1.5132604 ,\n",
       "          0.5682161 ,  0.46552604, -0.4368924 ,  1.0282396 , -1.0727502 ,\n",
       "          0.06941693,  2.0492733 ,  1.3030941 ]], dtype=float32),\n",
       " array([[-1.6589905 , -2.8435721 , -2.54379   , -4.1816263 ,  0.10502829,\n",
       "         -0.23404795, -3.4049478 ,  0.33274835, -1.028076  , -0.8896318 ,\n",
       "         -2.1194825 , -1.5812738 , -2.6095629 ]], dtype=float32),\n",
       " array([[-0.6950529 , -3.194063  , -2.3746712 , -4.191863  ,  1.6813234 ,\n",
       "          1.1951133 ,  0.91809934,  0.8856138 ,  1.0006007 , -0.9199013 ,\n",
       "          0.83874166,  2.556614  ,  1.7359127 ]], dtype=float32),\n",
       " array([[-1.4583768 , -3.168939  , -2.4991307 , -4.586398  ,  0.1981309 ,\n",
       "          0.0552302 , -3.8314312 ,  0.73643404, -0.99629104, -0.76793873,\n",
       "         -1.3575361 , -1.2260048 , -2.4174242 ]], dtype=float32),\n",
       " array([[-1.5728256 , -3.3098786 , -2.7474656 , -4.5468435 , -0.05448984,\n",
       "          0.05749809, -4.1523724 ,  0.48288637, -0.96556807, -0.9242136 ,\n",
       "         -1.373854  , -2.3097985 , -3.0733116 ]], dtype=float32),\n",
       " array([[-1.4315974 , -2.9525383 , -2.4582036 , -4.44128   ,  0.14624035,\n",
       "          0.11074594, -3.7458882 ,  0.621888  , -0.80082256, -0.7265015 ,\n",
       "         -1.0510184 , -2.024749  , -2.9513783 ]], dtype=float32),\n",
       " array([[-1.3499186 , -2.9551842 , -2.549044  , -4.358783  ,  0.1446723 ,\n",
       "          0.14345506, -3.955845  ,  0.59447134, -0.7943252 , -0.7543568 ,\n",
       "         -1.0150802 , -2.2480433 , -3.0001557 ]], dtype=float32),\n",
       " array([[-1.6923062 , -4.1863337 , -3.1037173 , -4.7886295 , -0.2141462 ,\n",
       "          0.34461552, -4.4739184 , -0.20667718, -1.3418323 , -1.1513969 ,\n",
       "         -2.3204732 , -2.8900442 , -2.9818015 ]], dtype=float32),\n",
       " array([[-1.9305731e+00, -3.7793145e+00, -3.2121844e+00, -5.3577452e+00,\n",
       "          3.1367838e-01,  3.1874958e-01, -2.4546878e+00,  3.9492399e-01,\n",
       "         -1.2078131e+00, -1.1499865e+00, -1.5786245e+00,  1.0674646e+00,\n",
       "          4.7547407e-03]], dtype=float32),\n",
       " array([[-1.6531318 , -3.6344602 , -2.9187367 , -4.930652  ,  0.61979294,\n",
       "          0.40160656, -0.18375492,  0.29433498, -1.0348172 , -1.1779027 ,\n",
       "         -1.5261534 ,  2.2910588 ,  1.2668409 ]], dtype=float32),\n",
       " array([[-1.5065596 , -3.3919373 , -2.449912  , -4.4897213 ,  1.6086435 ,\n",
       "          0.2115424 ,  0.27700484,  0.16233905, -1.1747582 , -0.9609745 ,\n",
       "         -1.7065805 ,  2.237854  , -0.2460521 ]], dtype=float32),\n",
       " array([[ 1.7034817 , -3.3433979 , -2.5490208 , -3.98503   ,  1.3967305 ,\n",
       "          1.073983  ,  0.60675853,  2.6757007 ,  0.8125744 , -1.1314087 ,\n",
       "          0.64418   ,  1.7329026 ,  1.0382931 ]], dtype=float32),\n",
       " array([[-0.8220665 , -3.5634325 , -2.467608  , -4.1211624 ,  1.6705498 ,\n",
       "          1.0014266 ,  0.5997607 ,  0.60845876, -0.5197826 , -1.1042396 ,\n",
       "         -0.984946  ,  2.6468222 ,  1.460192  ]], dtype=float32),\n",
       " array([[-1.5168973 , -3.163499  , -2.5839877 , -4.4874105 ,  0.01910954,\n",
       "         -0.11395208, -3.8763444 ,  0.49683195, -0.9957723 , -0.90327007,\n",
       "         -1.3544235 , -2.197512  , -2.9236205 ]], dtype=float32),\n",
       " array([[-1.8542114 , -3.4153647 , -2.7665994 , -4.433098  , -0.22231486,\n",
       "         -0.20084605, -4.062924  ,  0.21348955, -1.1203204 , -1.0615801 ,\n",
       "         -1.8423678 , -2.3762295 , -2.9954658 ]], dtype=float32),\n",
       " array([[-1.6531714 , -3.3724988 , -2.7975175 , -4.571473  , -0.05849245,\n",
       "          0.0270908 , -4.0854983 ,  0.40153372, -0.9009144 , -0.9537855 ,\n",
       "         -1.3629109 , -2.314655  , -3.0530148 ]], dtype=float32),\n",
       " array([[-1.5920722 , -3.0466392 , -2.2817593 , -4.4952064 ,  1.1402166 ,\n",
       "          0.27753586,  0.3895606 ,  0.12074815, -1.042193  , -0.9794711 ,\n",
       "         -1.5240431 ,  1.0680976 , -0.5100972 ]], dtype=float32),\n",
       " array([[ 1.8635877 , -3.1408317 , -2.5524848 , -3.9963777 ,  1.3458366 ,\n",
       "          1.1508423 ,  0.69602233,  2.6980374 ,  0.82440406, -1.065235  ,\n",
       "          0.7016024 ,  1.9181527 ,  1.1930703 ]], dtype=float32),\n",
       " array([[-1.6020969 , -3.2225416 , -2.8237772 , -4.1587753 ,  1.8218381 ,\n",
       "          1.9062622 ,  1.0748236 ,  0.18734567,  1.2812759 , -1.0796568 ,\n",
       "          1.010259  ,  2.4401896 ,  1.2893592 ]], dtype=float32),\n",
       " array([[-0.6541943 , -2.9862313 , -2.4634156 , -4.4202404 ,  2.2259696 ,\n",
       "          2.0005703 ,  2.1183794 ,  0.94136435,  1.8090975 , -0.82953846,\n",
       "          1.4596269 ,  2.5272787 ,  1.6722825 ]], dtype=float32),\n",
       " array([[-1.5078727 , -3.0287733 , -2.5689304 , -4.495775  ,  0.11641922,\n",
       "          0.03151731, -3.7405066 ,  0.61831206, -0.9297525 , -0.810996  ,\n",
       "         -1.2729297 , -2.1618626 , -2.9890065 ]], dtype=float32),\n",
       " array([[-1.543327  , -3.2163632 , -2.6167917 , -4.3104177 ,  1.668082  ,\n",
       "          0.75286   ,  0.71313405,  0.16920306, -0.55013293, -0.88874835,\n",
       "         -1.0588752 ,  2.6125    ,  1.5473909 ]], dtype=float32),\n",
       " array([[-1.5929581 , -3.1646388 , -2.637226  , -4.4920673 ,  0.04746506,\n",
       "          0.08426472, -3.9099793 ,  0.46875894, -0.97144026, -0.87573284,\n",
       "         -1.3849329 , -2.2179358 , -2.9676428 ]], dtype=float32),\n",
       " array([[-1.1932592 , -2.9108899 , -2.242358  , -4.238098  ,  0.20039463,\n",
       "         -0.00526144, -3.5129166 ,  0.79251486, -0.7554272 , -0.658616  ,\n",
       "         -1.0224304 , -1.7285919 , -2.8953407 ]], dtype=float32),\n",
       " array([[ 2.3742497, -2.334457 , -1.2764721, -3.630308 ,  1.8994617,\n",
       "          1.3412476,  1.3286335,  2.819847 ,  1.5424632, -0.5720552,\n",
       "          1.4912988,  2.2077749,  0.6640382]], dtype=float32),\n",
       " array([[-1.6954523 , -2.8921196 , -2.583916  , -4.228596  ,  0.09858767,\n",
       "         -0.24423802, -3.38862   ,  0.32772905, -1.0181956 , -0.90369517,\n",
       "         -2.1480365 , -1.6130843 , -2.6302927 ]], dtype=float32),\n",
       " array([[-1.840217  , -3.371939  , -2.833673  , -4.0671015 ,  1.6397622 ,\n",
       "          1.090182  ,  0.9128573 ,  0.07529769,  0.57808834, -1.0148422 ,\n",
       "          0.15137637,  2.6173174 ,  1.5753443 ]], dtype=float32),\n",
       " array([[-1.650182  , -3.6394005 , -2.891024  , -4.777055  , -0.21504799,\n",
       "         -0.12163112, -4.207418  ,  0.13438919, -1.3048502 , -1.0899266 ,\n",
       "         -1.9990758 , -2.3461041 , -2.9359026 ]], dtype=float32),\n",
       " array([[-1.3908268 , -3.0263584 , -2.119185  , -3.6644785 ,  1.4471233 ,\n",
       "          0.9493624 ,  0.5430055 ,  0.03476893,  1.2052852 , -0.84378517,\n",
       "          0.82644385,  1.6361262 ,  0.34326303]], dtype=float32),\n",
       " array([[-1.9886397 , -3.624576  , -3.2089086 , -4.6116543 ,  1.2121949 ,\n",
       "          0.28453997,  0.49432087,  0.24358936,  1.1313113 , -1.0346011 ,\n",
       "          0.47022444,  0.7758184 , -1.4299796 ]], dtype=float32),\n",
       " array([[-1.7849633 , -2.9500663 , -2.638839  , -4.1587024 , -0.0230938 ,\n",
       "         -0.3216837 , -3.6460118 ,  0.22310604, -1.14819   , -0.9478845 ,\n",
       "         -2.336791  , -1.9569123 , -2.877222  ]], dtype=float32),\n",
       " array([[-1.0847887 , -3.70189   , -2.865105  , -4.724741  ,  0.10797192,\n",
       "          0.5014335 ,  0.40374798,  0.60075027, -1.1201311 , -1.190602  ,\n",
       "         -1.7206267 , -0.7152275 , -1.768717  ]], dtype=float32),\n",
       " array([[-2.0305152 , -4.022561  , -3.355021  , -4.993554  ,  0.52551275,\n",
       "          1.725236  , -1.3800955 ,  0.29663265, -1.0340289 , -1.1202563 ,\n",
       "         -1.5772272 ,  1.734157  ,  0.7308079 ]], dtype=float32),\n",
       " array([[-1.8639686 , -3.689021  , -3.1956115 , -4.976549  ,  0.48847762,\n",
       "         -0.03143267,  0.11233243,  0.32589817, -1.0052638 , -1.030718  ,\n",
       "         -1.6621836 , -0.7869819 , -2.1301537 ]], dtype=float32),\n",
       " array([[-1.556933  , -3.1539295 , -2.6207838 , -4.424337  ,  0.01055748,\n",
       "         -0.12013989, -3.8618052 ,  0.42664772, -1.0115064 , -0.90110874,\n",
       "         -1.4131869 , -2.259705  , -2.9369717 ]], dtype=float32),\n",
       " array([[ 1.9187664 , -2.777189  , -2.103222  , -3.8599129 ,  1.5629494 ,\n",
       "          1.3442563 ,  1.0834169 ,  2.664702  ,  0.75889796, -0.8816536 ,\n",
       "          0.666017  ,  2.161573  ,  1.4471707 ]], dtype=float32),\n",
       " array([[-1.6285623 , -3.1946628 , -2.6803713 , -4.492593  , -0.04840884,\n",
       "          0.04161127, -3.9281564 ,  0.4488349 , -0.99855274, -0.9021861 ,\n",
       "         -1.4233545 , -2.2712698 , -3.0165365 ]], dtype=float32),\n",
       " array([[-1.54332   , -3.4126256 , -2.7943106 , -4.5868444 ,  1.3047521 ,\n",
       "          0.45896897,  0.4672349 ,  0.30820337, -1.2372234 , -1.0437936 ,\n",
       "         -1.7067137 ,  1.3352067 , -0.61911166]], dtype=float32),\n",
       " array([[-2.2560117e+00, -4.3747950e+00, -3.4499965e+00, -5.4778204e+00,\n",
       "          1.6636625e-03,  3.1883854e-01, -2.6854067e+00, -1.6766360e-02,\n",
       "         -1.4469794e+00, -1.5067877e+00, -2.0196574e+00,  3.2211101e-01,\n",
       "         -5.2127129e-01]], dtype=float32),\n",
       " array([[-1.7463733 , -3.1490524 , -2.8425918 , -4.4915667 ,  0.22475371,\n",
       "          0.08457799, -3.6364775 ,  0.42989072, -0.80593807, -0.86847997,\n",
       "         -1.2550628 , -2.4358358 , -2.9933763 ]], dtype=float32),\n",
       " array([[-1.4501284 , -3.1025898 , -2.5116527 , -4.4348845 ,  0.05922572,\n",
       "         -0.06449987, -3.7605152 ,  0.5737223 , -0.914395  , -0.8610689 ,\n",
       "         -1.2721301 , -2.154115  , -2.9321327 ]], dtype=float32),\n",
       " array([[-1.786461  , -2.9660563 , -2.607202  , -4.0449433 ,  0.01520365,\n",
       "         -0.2885934 , -3.733649  ,  0.20753407, -1.1331587 , -0.94159555,\n",
       "         -2.40759   , -2.015773  , -2.9147534 ]], dtype=float32),\n",
       " array([[-1.1739222 , -3.0410614 , -2.3908682 , -3.9321787 ,  1.6910312 ,\n",
       "          1.8376908 ,  0.6348033 ,  0.49819726,  1.2998308 , -0.9795111 ,\n",
       "          1.0984364 ,  2.4736915 ,  1.5893489 ]], dtype=float32),\n",
       " array([[-1.8109912 , -3.2273757 , -2.8892288 , -4.562312  ,  0.1836429 ,\n",
       "          0.06915043, -3.5360126 ,  0.37434727, -0.8588212 , -0.92072004,\n",
       "         -1.3126651 , -2.2095053 , -2.8206177 ]], dtype=float32),\n",
       " array([[-1.2595015 , -3.5071366 , -2.4990342 , -4.286557  ,  1.5334783 ,\n",
       "          2.1830523 ,  0.05312431,  0.4287197 , -0.4684689 , -1.0211754 ,\n",
       "         -0.9675089 ,  1.2868991 , -0.35041156]], dtype=float32),\n",
       " array([[ 1.8963642 , -3.539795  , -3.0556245 , -3.8569753 ,  1.955208  ,\n",
       "          0.36057284,  0.47144952,  2.7822065 , -0.48215878, -0.69705737,\n",
       "         -0.90298253,  2.1343105 , -0.7714201 ]], dtype=float32),\n",
       " array([[-1.8889195 , -3.7754128 , -2.921225  , -4.294017  , -0.06950786,\n",
       "          0.13119352, -4.284223  , -0.09116536, -0.94832784, -1.1262497 ,\n",
       "         -1.7733021 , -2.3359504 , -2.8224835 ]], dtype=float32),\n",
       " array([[-1.4531877, -2.963565 , -2.5341256, -4.3330755,  0.2298556,\n",
       "          1.3095945, -2.1630359,  0.5106462, -0.9315957, -0.8504023,\n",
       "         -1.392998 , -1.979269 , -2.632204 ]], dtype=float32),\n",
       " array([[-1.5045267 , -3.3459525 , -2.7536411 , -4.4998074 , -0.07058901,\n",
       "         -0.01339116, -4.034274  ,  0.43182993, -1.0316347 , -0.9264421 ,\n",
       "         -1.4761463 , -2.1233373 , -2.8618364 ]], dtype=float32),\n",
       " array([[-1.9757153, -3.514963 , -2.7608716, -4.2191734,  1.6628958,\n",
       "          0.6661457,  0.5305525, -0.3190174, -0.5288504, -1.0660743,\n",
       "         -1.0040176,  2.6195962,  1.4569244]], dtype=float32),\n",
       " array([[-1.6572855 , -3.0897753 , -2.7721198 , -4.3888617 ,  0.04783432,\n",
       "         -0.06678198, -3.610725  ,  0.41117227, -0.87155086, -0.8965464 ,\n",
       "         -1.3051035 , -2.3141015 , -2.914769  ]], dtype=float32),\n",
       " array([[-1.9276098 , -3.308553  , -2.601749  , -4.1952686 ,  1.5022051 ,\n",
       "          0.08007437,  0.41006535, -0.08044335, -0.6886287 , -1.0647892 ,\n",
       "         -1.8942692 ,  2.279999  , -0.12822615]], dtype=float32),\n",
       " array([[-1.4395019 , -2.9543457 , -2.5022907 , -4.259968  ,  0.21676776,\n",
       "          1.3693322 , -2.2080967 ,  0.6367734 , -0.95950574, -0.7925265 ,\n",
       "         -1.2647728 , -1.9068254 , -2.7186537 ]], dtype=float32),\n",
       " array([[-1.2183467 , -2.9385316 , -2.2736917 , -4.290251  ,  0.21990031,\n",
       "          0.0878806 , -3.4174428 ,  0.7674773 , -0.76687104, -0.6512665 ,\n",
       "         -0.9729733 , -1.6040525 , -2.8346348 ]], dtype=float32),\n",
       " array([[-1.5106179 , -3.0430818 , -2.5543308 , -4.468392  ,  0.09226128,\n",
       "          0.07611776, -3.808679  ,  0.56827337, -0.90805936, -0.82682675,\n",
       "         -1.2259552 , -2.2105331 , -2.9985237 ]], dtype=float32),\n",
       " array([[-1.7348565 , -3.427346  , -2.7247722 , -4.6561847 ,  0.01386365,\n",
       "         -0.13300264, -3.536348  ,  0.05970136, -1.15445   , -1.0652976 ,\n",
       "         -1.7305079 , -2.0995843 , -2.7147956 ]], dtype=float32),\n",
       " array([[-1.9782811e+00, -3.3472617e+00, -2.8627195e+00, -4.3626785e+00,\n",
       "         -1.9482905e-01, -3.8198209e-01, -4.0839896e+00, -1.2100302e-04,\n",
       "         -1.2116491e+00, -1.0856580e+00, -2.6140919e+00, -2.2763240e+00,\n",
       "         -2.9080453e+00]], dtype=float32),\n",
       " array([[-2.0481453 , -3.6043112 , -2.9012413 , -4.4678507 ,  1.0419619 ,\n",
       "          0.02258127,  0.08563894, -0.5753429 , -1.1210972 , -1.4174242 ,\n",
       "         -2.2859368 ,  2.0099747 ,  1.1424809 ]], dtype=float32),\n",
       " array([[-1.7579602 , -3.1346455 , -2.5930717 , -3.9245086 ,  1.2706704 ,\n",
       "          0.45279205,  0.42673355, -0.22532667,  1.2319574 , -1.0494381 ,\n",
       "          0.31008556,  2.1439993 ,  1.3125451 ]], dtype=float32),\n",
       " array([[-1.7394809 , -3.7237294 , -2.858983  , -4.7316465 ,  0.840213  ,\n",
       "          0.41553497,  0.05838138,  0.08294293, -1.0146576 , -1.1814072 ,\n",
       "         -1.5214448 ,  2.4126954 ,  1.5269465 ]], dtype=float32),\n",
       " array([[-1.6447955 , -3.2345364 , -2.638504  , -4.445633  ,  0.00911842,\n",
       "         -0.1582419 , -3.7931747 ,  0.30876476, -1.0222907 , -0.9752702 ,\n",
       "         -1.5160285 , -2.030569  , -2.8010764 ]], dtype=float32),\n",
       " array([[-1.6075336e+00, -3.2154052e+00, -2.6141629e+00, -4.4587278e+00,\n",
       "         -1.3355166e-04, -8.7981433e-02, -3.8838396e+00,  3.6719945e-01,\n",
       "         -1.0369865e+00, -9.3973613e-01, -1.4910991e+00, -2.2678459e+00,\n",
       "         -2.8993344e+00]], dtype=float32),\n",
       " array([[-1.8382622 , -3.4805503 , -2.810501  , -4.5279007 , -0.22218093,\n",
       "         -0.20079044, -4.178002  ,  0.21526559, -1.1402179 , -1.0628945 ,\n",
       "         -1.834876  , -2.325957  , -2.9547992 ]], dtype=float32),\n",
       " array([[-1.7962633 , -3.5810876 , -2.7196484 , -4.2357497 ,  1.5670888 ,\n",
       "          0.41004932,  0.37227613, -0.09488767, -0.53910476, -0.9733625 ,\n",
       "         -1.3636426 ,  2.1843402 ,  0.8412503 ]], dtype=float32),\n",
       " array([[-1.5938526 , -3.2929647 , -2.6941955 , -4.536417  ,  0.07916338,\n",
       "         -0.25600272, -3.9144762 ,  0.434049  , -0.99629396, -0.9030811 ,\n",
       "         -1.4848448 , -1.4523824 , -2.4067187 ]], dtype=float32),\n",
       " array([[-2.0692923 , -4.1286974 , -2.955553  , -4.6654596 ,  0.9614637 ,\n",
       "          0.84008366, -1.9880357 , -0.34044495, -1.1176922 , -1.1917742 ,\n",
       "         -2.1182265 , -0.03986017, -1.2020347 ]], dtype=float32),\n",
       " array([[-2.0924313 , -3.7767828 , -2.97755   , -4.3565073 ,  1.3551682 ,\n",
       "          0.604668  ,  0.2240656 , -0.54610157, -0.8467023 , -1.2679645 ,\n",
       "         -1.4895228 ,  2.3542514 ,  1.4141723 ]], dtype=float32),\n",
       " array([[-1.8092712 , -3.8310506 , -3.1959515 , -4.6232634 ,  0.7242029 ,\n",
       "          1.4935343 , -0.23658049,  0.18287005, -1.0502441 , -1.0867527 ,\n",
       "         -1.5638417 ,  2.3980343 ,  1.2452542 ]], dtype=float32),\n",
       " array([[-1.6786425 , -3.3559046 , -2.725388  , -4.5750036 , -0.09868708,\n",
       "         -0.02197367, -4.014496  ,  0.39181787, -0.973063  , -0.9364179 ,\n",
       "         -1.4963546 , -2.2012045 , -2.9796057 ]], dtype=float32),\n",
       " array([[-1.8314099 , -3.759153  , -2.839382  , -4.8676367 , -0.20601606,\n",
       "         -0.13549459, -3.916121  , -0.13509741, -1.3685302 , -1.1713833 ,\n",
       "         -2.1676745 , -2.3784785 , -2.85766   ]], dtype=float32),\n",
       " array([[-1.3740052 , -2.9284313 , -2.3787854 , -4.388912  ,  0.12689573,\n",
       "          0.09285533, -3.7574117 ,  0.69648975, -0.780888  , -0.69424886,\n",
       "         -1.0824594 , -1.9344658 , -2.9849558 ]], dtype=float32),\n",
       " array([[-1.6330838 , -3.172935  , -2.645271  , -4.5095778 ,  0.02796837,\n",
       "         -0.11629418, -3.8940508 ,  0.3980042 , -1.0063845 , -0.9110612 ,\n",
       "         -1.4695657 , -2.23466   , -2.9541867 ]], dtype=float32),\n",
       " array([[-1.104489 , -3.5626025, -2.640822 , -4.2044673,  1.420715 ,\n",
       "          0.9797419,  0.6517851,  0.5462723, -0.6420703, -1.1546698,\n",
       "         -1.127647 ,  2.7006686,  1.6086322]], dtype=float32),\n",
       " array([[ 1.4849863 , -3.791188  , -2.877482  , -4.1142144 ,  1.114982  ,\n",
       "          0.9589205 ,  0.16852391,  2.3432074 ,  0.09742559, -1.3832904 ,\n",
       "         -0.18529877,  1.8730812 ,  1.0820712 ]], dtype=float32),\n",
       " array([[-1.3228333 , -3.244323  , -2.528674  , -3.9480917 ,  1.7766037 ,\n",
       "          1.9337358 ,  1.1492078 ,  0.63697445,  1.4902128 , -0.92381036,\n",
       "          1.1357471 ,  2.591976  ,  1.5228928 ]], dtype=float32),\n",
       " array([[-1.5905472 , -3.1917167 , -2.6695716 , -4.4603863 , -0.01631013,\n",
       "         -0.16260007, -3.935161  ,  0.40107128, -1.0246111 , -0.9245669 ,\n",
       "         -1.4618052 , -2.2793763 , -2.9105434 ]], dtype=float32),\n",
       " array([[-1.5453118 , -3.1128218 , -2.556302  , -4.4708257 ,  0.06835652,\n",
       "         -0.02067597, -3.810418  ,  0.561302  , -0.95976955, -0.87986505,\n",
       "         -1.2752279 , -2.1311042 , -2.932311  ]], dtype=float32),\n",
       " array([[-1.8248278 , -3.053827  , -2.620735  , -4.17382   , -0.02947897,\n",
       "         -0.3526234 , -3.622342  ,  0.16200568, -1.1660304 , -0.9465954 ,\n",
       "         -2.4235005 , -2.0536468 , -2.8293223 ]], dtype=float32),\n",
       " array([[-1.242652  , -2.9070945 , -2.2682068 , -4.255659  ,  0.19058445,\n",
       "          0.00785349, -3.542776  ,  0.7661477 , -0.7617019 , -0.65938115,\n",
       "         -0.9905012 , -1.7302296 , -2.9134955 ]], dtype=float32),\n",
       " array([[-1.5325092 , -3.0938635 , -2.5673997 , -4.4967375 ,  0.06757686,\n",
       "         -0.0115297 , -3.8078666 ,  0.55333245, -0.9797178 , -0.8562027 ,\n",
       "         -1.3083841 , -2.1615071 , -2.9086223 ]], dtype=float32),\n",
       " array([[-1.4886483 , -3.2319977 , -2.3721828 , -3.778507  ,  1.7911007 ,\n",
       "          1.775931  ,  0.95755666,  0.34059474,  0.9000959 , -0.86059844,\n",
       "          0.53316635,  2.372753  ,  1.4377525 ]], dtype=float32),\n",
       " array([[-1.5336068 , -3.0177975 , -2.50036   , -4.4511275 ,  0.07677405,\n",
       "         -0.02101927, -3.7440858 ,  0.5890248 , -0.88809854, -0.82002   ,\n",
       "         -1.167595  , -2.1112013 , -2.9420989 ]], dtype=float32),\n",
       " array([[-1.6376121 , -3.2646976 , -2.7601604 , -4.648144  ,  0.12409866,\n",
       "          0.06251035, -3.7022429 ,  0.5147274 , -0.929756  , -0.8928476 ,\n",
       "         -1.3542781 , -1.5829036 , -2.449109  ]], dtype=float32),\n",
       " array([[-1.2416433e+00, -2.9331081e+00, -2.3206716e+00, -4.3009448e+00,\n",
       "          1.8291828e-01, -2.4396889e-03, -3.5221570e+00,  7.5876665e-01,\n",
       "         -8.0584812e-01, -6.8874139e-01, -1.0839875e+00, -1.6690702e+00,\n",
       "         -2.8650308e+00]], dtype=float32),\n",
       " array([[-1.9027799 , -3.192726  , -2.7351434 , -4.3352785 ,  1.4562724 ,\n",
       "          0.22832507,  0.51957613, -0.3531984 , -0.74033445, -1.1423614 ,\n",
       "         -1.9541535 ,  2.2179277 ,  1.3331101 ]], dtype=float32),\n",
       " array([[-1.5728154 , -3.1721992 , -2.5872998 , -4.415837  ,  0.02370109,\n",
       "         -0.10922088, -3.8846455 ,  0.42764935, -0.9976062 , -0.9195973 ,\n",
       "         -1.3921119 , -2.183864  , -2.8928175 ]], dtype=float32),\n",
       " array([[-1.831901  , -3.5645616 , -2.9148936 , -4.607443  , -0.27055284,\n",
       "         -0.19373885, -4.233331  ,  0.15955888, -1.1576334 , -1.0735792 ,\n",
       "         -1.9170619 , -2.3686564 , -2.9529176 ]], dtype=float32),\n",
       " array([[-1.4407669 , -3.3812616 , -2.6538606 , -4.7383523 ,  0.8662399 ,\n",
       "          0.34277073, -0.72483623,  0.64454526, -0.8992302 , -0.92684317,\n",
       "         -1.5897832 ,  2.888725  ,  1.585474  ]], dtype=float32),\n",
       " array([[-1.8254542 , -3.7164066 , -2.9927168 , -4.7737036 , -0.3094681 ,\n",
       "         -0.17893705, -4.3042636 ,  0.14161862, -1.2288496 , -1.1490482 ,\n",
       "         -2.0408475 , -2.3214638 , -2.9345617 ]], dtype=float32),\n",
       " array([[-1.3795072 , -3.0764334 , -2.5836391 , -4.393794  ,  0.06820006,\n",
       "          0.10852162, -3.9417315 ,  0.60587186, -0.87739664, -0.7936186 ,\n",
       "         -1.1670268 , -2.1514032 , -2.988083  ]], dtype=float32),\n",
       " array([[-1.547624  , -3.2044492 , -2.649692  , -4.483408  , -0.01836637,\n",
       "         -0.10675142, -3.8950913 ,  0.38144302, -1.0367043 , -0.92868805,\n",
       "         -1.4601034 , -2.2818272 , -2.915392  ]], dtype=float32),\n",
       " array([[-1.8716106 , -3.2071478 , -2.635474  , -4.202927  ,  0.97851264,\n",
       "          0.1476948 ,  0.24484095, -0.01492718, -0.43397546, -1.038725  ,\n",
       "         -1.4419132 ,  2.389613  ,  1.3573939 ]], dtype=float32),\n",
       " array([[-1.4886585 , -3.027654  , -2.4621713 , -4.3521395 ,  1.4211553 ,\n",
       "          0.4609807 ,  0.5121867 ,  0.4297977 , -0.76153547, -0.7075214 ,\n",
       "         -1.2976959 ,  2.5373106 ,  1.3760335 ]], dtype=float32),\n",
       " array([[-1.8540108 , -3.630237  , -2.6021886 , -3.7656898 ,  1.789709  ,\n",
       "          1.8164451 ,  0.6711056 ,  0.04970742,  1.3949226 , -0.9902616 ,\n",
       "          1.0954928 ,  2.1660209 ,  1.3338978 ]], dtype=float32),\n",
       " array([[-1.6062522 , -3.1927807 , -2.722135  , -4.460907  , -0.06459256,\n",
       "         -0.096481  , -3.8367083 ,  0.35251665, -1.0549711 , -0.9443443 ,\n",
       "         -1.4699458 , -2.184335  , -2.9213655 ]], dtype=float32),\n",
       " array([[-1.7864808 , -3.6004956 , -2.9312797 , -4.716756  , -0.2693597 ,\n",
       "         -0.20000166, -4.266624  ,  0.1278791 , -1.2525156 , -1.1154904 ,\n",
       "         -1.9975383 , -2.3910804 , -2.8961046 ]], dtype=float32),\n",
       " array([[-1.4911157 , -3.0195036 , -2.5048409 , -4.414706  ,  0.13851026,\n",
       "          0.00914163, -3.7070396 ,  0.595113  , -0.94169563, -0.81330746,\n",
       "         -1.2317497 , -2.1373136 , -2.950448  ]], dtype=float32),\n",
       " array([[-1.493999  , -3.0539925 , -2.5141385 , -4.4802923 ,  0.13715726,\n",
       "          0.05095549, -3.7491217 ,  0.61119854, -0.9653701 , -0.7970238 ,\n",
       "         -1.2903872 , -2.016484  , -2.9284728 ]], dtype=float32),\n",
       " array([[-1.763485  , -3.3158462 , -2.589851  , -3.9535582 ,  1.7255304 ,\n",
       "          0.9654233 ,  0.4349842 , -0.14879774,  1.1572521 , -1.0366659 ,\n",
       "          0.68477947,  2.299229  ,  1.4263452 ]], dtype=float32),\n",
       " array([[-1.8028228 , -3.6025546 , -2.8776977 , -4.276572  , -0.06738048,\n",
       "          0.10914459, -4.044805  ,  0.01017564, -0.9777747 , -1.0863315 ,\n",
       "         -1.7684674 , -2.3787863 , -2.8538616 ]], dtype=float32),\n",
       " array([[-1.3918502 , -2.9728613 , -2.3221834 , -4.1982822 ,  0.18433848,\n",
       "          0.10550053, -3.180463  ,  0.7171734 , -0.0204525 , -0.5069708 ,\n",
       "         -0.37758783, -1.0448945 , -2.052028  ]], dtype=float32),\n",
       " array([[-1.6506315 , -3.3774698 , -2.731335  , -4.2448006 ,  1.299231  ,\n",
       "          0.71875787,  0.5507758 ,  0.0668341 ,  1.0872141 , -1.0394695 ,\n",
       "          0.5997395 ,  1.5843496 ,  0.16466169]], dtype=float32),\n",
       " array([[-1.9493012 , -3.9123538 , -3.2082143 , -5.360241  ,  0.38555568,\n",
       "          0.44701868, -2.4791648 ,  0.45909214, -1.0114815 , -1.2018405 ,\n",
       "         -1.4453448 ,  1.1993986 ,  0.19212483]], dtype=float32),\n",
       " array([[-1.8800713 , -3.593539  , -2.8596928 , -4.6880617 , -0.20821425,\n",
       "         -0.20293754, -4.1470428 ,  0.13052073, -1.1337763 , -1.1064303 ,\n",
       "         -1.8908101 , -2.301788  , -2.9365828 ]], dtype=float32),\n",
       " array([[-1.2885389 , -2.9419081 , -2.3573227 , -4.196332  ,  0.17563993,\n",
       "         -0.0572016 , -3.6236959 ,  0.63813394, -0.81174594, -0.72695553,\n",
       "         -1.040188  , -1.8929353 , -2.9895287 ]], dtype=float32),\n",
       " array([[ 1.6956961 , -3.8804533 , -3.1810818 , -4.375334  ,  0.9156863 ,\n",
       "          0.8336072 , -0.37545973,  2.3098693 , -0.7579667 , -1.3780853 ,\n",
       "         -1.1782258 ,  1.6724379 ,  0.93895113]], dtype=float32),\n",
       " array([[-1.8580459 , -3.481696  , -2.7192178 , -4.3156056 ,  1.525438  ,\n",
       "          0.5653222 ,  0.4131014 , -0.29209477, -0.76978767, -1.098795  ,\n",
       "         -1.3819135 ,  2.4236195 ,  1.3776517 ]], dtype=float32),\n",
       " array([[-1.4932547 , -3.4590552 , -2.5451148 , -4.5537577 ,  0.6747736 ,\n",
       "          0.23488092, -2.496431  ,  0.6653677 , -0.6797851 , -0.8338902 ,\n",
       "         -1.1946697 , -0.3312771 , -1.7396638 ]], dtype=float32),\n",
       " array([[-1.5593822 , -3.1164196 , -2.5796685 , -4.45549   ,  0.06665754,\n",
       "         -0.04979204, -3.7538395 ,  0.53917783, -0.9648633 , -0.88294125,\n",
       "         -1.2879449 , -1.9700185 , -2.8152747 ]], dtype=float32),\n",
       " array([[-1.3585211 , -2.9823961 , -2.412428  , -4.382074  ,  0.12926325,\n",
       "          0.09979594, -3.7806268 ,  0.70928913, -0.8639133 , -0.7348351 ,\n",
       "         -1.167266  , -2.1154394 , -3.0796165 ]], dtype=float32),\n",
       " array([[-1.5951538 , -3.2518861 , -2.6441584 , -4.4847627 , -0.02035711,\n",
       "          0.03104705, -3.9236088 ,  0.42162138, -0.9725208 , -0.8856959 ,\n",
       "         -1.4157683 , -2.2061083 , -3.0355272 ]], dtype=float32),\n",
       " array([[-1.6578428 , -3.3639112 , -2.7084663 , -3.9754534 ,  1.7314907 ,\n",
       "          2.0079257 ,  0.4749908 ,  0.22506258,  1.1790677 , -1.1048664 ,\n",
       "          0.959714  ,  2.3699062 ,  1.323632  ]], dtype=float32),\n",
       " array([[-1.5517472e+00, -3.1778629e+00, -2.6246002e+00, -4.4385691e+00,\n",
       "         -3.0485541e-04, -1.4959615e-01, -3.8528757e+00,  4.5060927e-01,\n",
       "         -1.0071416e+00, -9.0315807e-01, -1.4668598e+00, -2.2586057e+00,\n",
       "         -2.9309826e+00]], dtype=float32),\n",
       " array([[-0.78938955, -2.7273176 , -2.1505866 , -4.2195835 ,  1.2386756 ,\n",
       "          1.8106049 ,  1.5097704 ,  0.95804536,  0.7182851 , -0.6027487 ,\n",
       "          0.36488998,  1.6472592 ,  0.02779128]], dtype=float32),\n",
       " array([[-1.5717505 , -3.1847074 , -2.6183374 , -4.444131  , -0.00946622,\n",
       "         -0.1516276 , -3.9041617 ,  0.37189764, -1.0226226 , -0.9237264 ,\n",
       "         -1.485828  , -2.2354343 , -2.8893554 ]], dtype=float32),\n",
       " array([[-1.510067  , -3.1270387 , -2.5775747 , -4.4138913 ,  0.03217707,\n",
       "         -0.08837067, -3.8386188 ,  0.5338524 , -0.9495253 , -0.8833579 ,\n",
       "         -1.3246052 , -2.0994763 , -2.920804  ]], dtype=float32),\n",
       " array([[-1.9652973 , -3.1994064 , -2.7360935 , -4.2382812 , -0.11378298,\n",
       "         -0.38689494, -3.8527765 ,  0.05112278, -1.1374186 , -1.0299299 ,\n",
       "         -2.4646974 , -2.210231  , -2.9252107 ]], dtype=float32),\n",
       " array([[-1.6144834 , -3.6836998 , -2.9060767 , -4.879776  ,  0.48312074,\n",
       "          0.311225  , -0.24668655,  0.24528423, -1.1347753 , -1.2207886 ,\n",
       "         -1.6419753 ,  1.8452597 ,  0.799219  ]], dtype=float32),\n",
       " array([[-1.611484  , -3.1623797 , -2.6090047 , -4.482503  ,  0.04772668,\n",
       "         -0.0492764 , -3.8136694 ,  0.43270674, -0.9958278 , -0.94267845,\n",
       "         -1.360331  , -2.025788  , -2.846036  ]], dtype=float32),\n",
       " array([[-1.4719601 , -3.331473  , -2.6203105 , -4.43492   ,  0.45699075,\n",
       "          1.4747697 , -1.6522448 ,  0.31678188, -1.0180942 , -0.95248294,\n",
       "         -1.5366755 , -1.4029175 , -2.1659346 ]], dtype=float32),\n",
       " array([[ 1.5554677 , -3.5843189 , -2.6502442 , -4.0523596 ,  1.4446926 ,\n",
       "          1.0018266 ,  0.47454602,  2.5714283 ,  0.4421245 , -1.1947377 ,\n",
       "          0.0891537 ,  1.6770775 ,  1.0290824 ]], dtype=float32),\n",
       " array([[-1.5244988 , -3.2000868 , -2.5439916 , -4.3256516 ,  1.4288459 ,\n",
       "          0.28511915,  0.33861274,  0.23956685, -0.6999045 , -0.78072524,\n",
       "         -1.2506598 ,  2.2951214 ,  1.1015301 ]], dtype=float32),\n",
       " array([[-1.4961252 , -3.0089436 , -2.6393018 , -4.440733  ,  0.23370913,\n",
       "          1.377456  , -2.0905633 ,  0.5262061 , -1.0045329 , -0.85939986,\n",
       "         -1.4180804 , -1.8722174 , -2.5954783 ]], dtype=float32),\n",
       " array([[-1.5442566 , -3.3326607 , -2.7064233 , -4.8438506 ,  0.35332915,\n",
       "          0.22036007,  0.19424105,  0.40086687, -0.9202059 , -0.955329  ,\n",
       "         -1.5006541 , -0.8867755 , -1.9049426 ]], dtype=float32),\n",
       " array([[-1.3409493 , -2.9521196 , -2.5318289 , -4.3595943 ,  0.15944496,\n",
       "          0.14591959, -3.9359708 ,  0.6187458 , -0.7919094 , -0.7453019 ,\n",
       "         -0.9951181 , -2.2306247 , -3.016179  ]], dtype=float32),\n",
       " array([[-1.9411383 , -3.6422536 , -2.8184388 , -4.4684725 ,  1.319357  ,\n",
       "          0.6216601 ,  0.30387053, -0.30392218, -0.86429036, -1.1720456 ,\n",
       "         -1.4355084 ,  2.5915475 ,  1.613125  ]], dtype=float32),\n",
       " array([[-1.6156976 , -3.2381036 , -2.6848466 , -3.948006  ,  1.0824969 ,\n",
       "          1.5393558 , -0.67016643,  0.1756659 ,  1.0296172 , -0.8885636 ,\n",
       "          0.84522784, -0.05636808, -1.2982631 ]], dtype=float32),\n",
       " array([[-1.722728  , -3.1313488 , -2.8125927 , -4.4522247 ,  0.19478491,\n",
       "          0.11237179, -3.656784  ,  0.4465538 , -0.82683796, -0.8488639 ,\n",
       "         -1.2851652 , -2.4016564 , -2.9958835 ]], dtype=float32),\n",
       " array([[-1.6811962 , -3.417222  , -2.7314389 , -4.1127205 ,  1.331447  ,\n",
       "          1.8883312 , -0.07793856,  0.25524566, -0.6195417 , -1.0289228 ,\n",
       "         -1.0133734 ,  2.5862324 ,  1.3947195 ]], dtype=float32),\n",
       " array([[-1.7623303 , -3.372085  , -2.9185934 , -4.531938  , -0.04407465,\n",
       "         -0.10097162, -3.7842774 ,  0.30447033, -1.0077989 , -1.0333183 ,\n",
       "         -1.7100116 , -2.4778807 , -2.9522953 ]], dtype=float32),\n",
       " array([[-2.0471609 , -3.3188598 , -2.6817126 , -4.535329  ,  0.5916269 ,\n",
       "         -0.0561735 ,  0.05070049,  0.10354955, -1.0930009 , -1.2844421 ,\n",
       "         -2.2999    ,  1.0662117 , -0.1851861 ]], dtype=float32),\n",
       " array([[-1.381262  , -3.199922  , -2.619142  , -4.783406  ,  0.29437295,\n",
       "          0.16470763,  0.01893261,  0.4392895 , -0.8823629 , -0.8775415 ,\n",
       "         -1.366424  , -1.1053574 , -2.088412  ]], dtype=float32),\n",
       " array([[-1.5230967e+00, -3.1312463e+00, -2.5654385e+00, -4.4330025e+00,\n",
       "          4.4059530e-03, -1.2049229e-01, -3.8659959e+00,  4.8576260e-01,\n",
       "         -9.8139787e-01, -8.9415735e-01, -1.3406303e+00, -2.1104009e+00,\n",
       "         -2.8902082e+00]], dtype=float32),\n",
       " array([[-1.2042805 , -2.9090757 , -2.2750902 , -4.274482  ,  0.20599496,\n",
       "         -0.02090715, -3.5038927 ,  0.8041709 , -0.7326112 , -0.6772798 ,\n",
       "         -0.99712926, -1.6853797 , -2.871316  ]], dtype=float32),\n",
       " array([[-1.6324341 , -3.2830808 , -2.7292924 , -4.7066264 ,  0.1427162 ,\n",
       "          0.13992351,  0.28082943,  0.31806484, -1.0064692 , -1.1386789 ,\n",
       "         -1.4924568 , -0.7580266 , -1.8065978 ]], dtype=float32),\n",
       " array([[-1.667715  , -3.2360857 , -2.7665672 , -4.1301394 ,  1.6288636 ,\n",
       "          1.4113356 ,  1.1084158 ,  0.19886085,  1.1714796 , -1.0431665 ,\n",
       "          0.88167477,  2.5773213 ,  1.5239141 ]], dtype=float32),\n",
       " array([[-1.5130998 , -3.0868008 , -2.546935  , -4.454208  ,  0.09926333,\n",
       "         -0.03214829, -3.7860732 ,  0.5889719 , -0.9343826 , -0.8558997 ,\n",
       "         -1.2354969 , -2.1565344 , -2.9500113 ]], dtype=float32),\n",
       " array([[-1.8741204 , -3.6393275 , -3.0050626 , -4.691659  ,  0.64147705,\n",
       "          1.7681823 , -0.73573816,  0.2777328 , -0.8872419 , -1.0789648 ,\n",
       "         -1.4450202 ,  2.2384825 ,  1.0518062 ]], dtype=float32),\n",
       " array([[-1.4108874 , -2.6160266 , -2.3565636 , -3.9708402 ,  0.25769785,\n",
       "         -0.20032594, -3.347513  ,  0.5257647 , -0.86713535, -0.7225793 ,\n",
       "         -1.9494265 , -1.2461381 , -2.5680661 ]], dtype=float32),\n",
       " array([[-1.5060998 , -2.9993126 , -2.5016732 , -4.4544663 ,  0.11782338,\n",
       "          0.05329403, -3.7653596 ,  0.6032035 , -0.8446048 , -0.7729144 ,\n",
       "         -1.1350573 , -2.1084166 , -2.9920413 ]], dtype=float32),\n",
       " array([[-1.8783053 , -3.709685  , -3.2255857 , -4.6704187 ,  0.81438935,\n",
       "          1.6852133 , -1.4399595 ,  0.5679075 , -0.79688865, -0.9704849 ,\n",
       "         -1.297104  , -0.13789397, -1.5438039 ]], dtype=float32),\n",
       " array([[-2.03255   , -4.0208125 , -3.3911104 , -4.9439554 ,  0.4921366 ,\n",
       "          1.7486591 , -1.3553748 ,  0.25211692, -1.0361611 , -1.1649963 ,\n",
       "         -1.6651508 ,  1.7942052 ,  0.7317654 ]], dtype=float32),\n",
       " array([[-2.0959058 , -3.6896262 , -2.8320866 , -4.112162  ,  1.6702054 ,\n",
       "          1.047904  ,  0.36038214, -0.30033574,  1.153151  , -1.1322143 ,\n",
       "          0.71863854,  2.45235   ,  1.4915426 ]], dtype=float32),\n",
       " array([[-1.8566719 , -3.2449424 , -2.8562503 , -4.3595715 , -0.13462847,\n",
       "         -0.3160488 , -3.9452171 ,  0.06650501, -1.1591188 , -1.0429398 ,\n",
       "         -2.430892  , -2.0372553 , -2.731406  ]], dtype=float32),\n",
       " array([[-1.5468422 , -3.1710553 , -2.6119032 , -4.467133  ,  0.02263971,\n",
       "         -0.10798038, -3.8368886 ,  0.465412  , -0.99050546, -0.91735935,\n",
       "         -1.355121  , -2.1531844 , -2.9079552 ]], dtype=float32),\n",
       " array([[-1.4235772 , -3.0756152 , -2.5073571 , -4.3137264 ,  0.05024224,\n",
       "         -0.07478953, -3.8113737 ,  0.59805536, -0.91849345, -0.8152837 ,\n",
       "         -1.2768764 , -2.0939472 , -2.9771335 ]], dtype=float32),\n",
       " array([[-1.7479583 , -3.4975421 , -2.5954294 , -3.6698654 ,  1.6824917 ,\n",
       "          1.630045  ,  0.76727873,  0.14524241,  1.0070045 , -0.9693813 ,\n",
       "          0.6677387 ,  2.371487  ,  1.4213421 ]], dtype=float32),\n",
       " array([[-1.7009693 , -3.686623  , -2.9537    , -4.952198  , -0.05399611,\n",
       "          0.1427564 , -0.01322508,  0.13434134, -1.253062  , -1.1890808 ,\n",
       "         -2.091185  , -1.3237109 , -2.2815864 ]], dtype=float32),\n",
       " array([[-1.7301503 , -3.3012393 , -2.7333179 , -4.5294695 , -0.04281589,\n",
       "         -0.169698  , -4.0049434 ,  0.2833389 , -1.0530698 , -0.9845887 ,\n",
       "         -1.6092199 , -2.2587643 , -2.9212375 ]], dtype=float32),\n",
       " array([[-1.4604775 , -3.0737393 , -2.525257  , -4.4499598 ,  0.06771391,\n",
       "         -0.05144315, -3.7333033 ,  0.5780786 , -0.9327982 , -0.8694192 ,\n",
       "         -1.3175739 , -2.0833662 , -2.8802238 ]], dtype=float32),\n",
       " array([[-1.7144834 , -3.5062678 , -2.8588915 , -4.7906737 ,  0.25076434,\n",
       "         -0.11127321, -3.4538393 ,  0.3376551 , -1.0890698 , -1.0869858 ,\n",
       "         -1.5844629 , -1.1730676 , -2.3285358 ]], dtype=float32),\n",
       " array([[-1.7029337 , -3.6135254 , -2.7399795 , -4.681806  ,  0.82337636,\n",
       "          0.36822104,  0.08918068,  0.02983865, -1.1339308 , -1.2141298 ,\n",
       "         -1.5436832 ,  2.3003914 ,  1.2701211 ]], dtype=float32),\n",
       " array([[-1.4726142 , -2.957928  , -2.51369   , -4.4012547 ,  0.10761981,\n",
       "          0.5749236 , -3.3263402 ,  0.66825473, -0.8860306 , -0.73817414,\n",
       "         -1.127458  , -2.0290701 , -2.9800084 ]], dtype=float32),\n",
       " array([[-1.7002761 , -3.4792163 , -2.883173  , -4.625017  , -0.06623468,\n",
       "          0.01851376, -3.9979844 ,  0.30879408, -1.0739021 , -0.99474865,\n",
       "         -1.7148632 , -2.298824  , -2.8721356 ]], dtype=float32),\n",
       " array([[-1.6151192 , -3.2865698 , -2.678166  , -4.527463  , -0.03652798,\n",
       "         -0.08766703, -4.0228133 ,  0.380367  , -0.9943789 , -0.92966896,\n",
       "         -1.406434  , -2.199166  , -2.9272878 ]], dtype=float32),\n",
       " array([[-1.6284837 , -3.2859972 , -2.5810118 , -4.855308  ,  0.25554636,\n",
       "          0.04919051,  0.44007844,  0.00667355, -1.4497479 , -1.2387801 ,\n",
       "         -1.8338248 , -0.9187855 , -1.9353088 ]], dtype=float32),\n",
       " array([[-1.5963951 , -3.4270704 , -2.6958103 , -4.0602326 ,  1.5728171 ,\n",
       "          1.7302834 ,  0.7399102 ,  0.25679547, -0.2884362 , -0.98587817,\n",
       "         -0.9229458 ,  2.632941  ,  1.5663519 ]], dtype=float32),\n",
       " array([[-1.8969206 , -3.7419245 , -2.9960861 , -4.669677  , -0.29726553,\n",
       "         -0.16126975, -4.3228836 ,  0.08673467, -1.2457207 , -1.1255949 ,\n",
       "         -2.1126337 , -2.5171778 , -2.9342618 ]], dtype=float32),\n",
       " array([[-1.723877  , -3.1160905 , -2.6317372 , -4.707343  ,  0.4295154 ,\n",
       "         -0.01878326,  0.34199506,  0.24324843, -1.2081462 , -1.0958064 ,\n",
       "         -2.2388082 ,  0.01012506, -1.3115628 ]], dtype=float32),\n",
       " array([[-1.434553  , -2.9687722 , -2.4858532 , -4.471036  ,  0.18213451,\n",
       "          0.10397094, -3.7320209 ,  0.58408713, -0.8019901 , -0.73839325,\n",
       "         -1.0759654 , -1.9833446 , -2.900572  ]], dtype=float32),\n",
       " array([[-1.4175533e+00, -3.1417732e+00, -2.6411405e+00, -4.4575396e+00,\n",
       "          1.8437132e-03,  2.5180019e-02, -4.0172143e+00,  5.6578040e-01,\n",
       "         -9.4507128e-01, -8.3714402e-01, -1.2873811e+00, -2.0852907e+00,\n",
       "         -2.9708986e+00]], dtype=float32),\n",
       " array([[-1.7124884 , -3.6862497 , -2.7743735 , -4.6973963 ,  0.8474464 ,\n",
       "          0.36707264,  0.06822613,  0.02208901, -1.1172837 , -1.2245358 ,\n",
       "         -1.5476153 ,  2.251367  ,  1.2297292 ]], dtype=float32),\n",
       " array([[-1.7319922 , -3.8615801 , -2.978724  , -4.9336395 ,  1.5093096 ,\n",
       "          0.14922604, -0.8679696 ,  0.40767646, -0.68720824, -1.0557696 ,\n",
       "         -1.4570159 ,  2.0868187 , -0.37537274]], dtype=float32),\n",
       " array([[-1.5737904 , -3.2740676 , -2.6798859 , -4.869719  ,  0.31418923,\n",
       "          0.16590801,  0.20211653,  0.37438887, -1.0035439 , -0.9924657 ,\n",
       "         -1.4919916 , -0.8343348 , -1.8692236 ]], dtype=float32),\n",
       " array([[ 1.5560379e+00, -3.5068548e+00, -2.7278249e+00, -4.0890074e+00,\n",
       "          1.4050376e+00,  1.0070374e+00,  3.5293227e-01,  2.5675287e+00,\n",
       "          1.9003768e-01, -1.1821182e+00, -3.8683787e-03,  1.8045800e+00,\n",
       "          1.1207676e+00]], dtype=float32),\n",
       " array([[-1.6024426 , -3.2823968 , -2.7086234 , -4.537493  , -0.06406254,\n",
       "         -0.08513232, -3.9725008 ,  0.4854892 , -1.0117506 , -0.99615777,\n",
       "         -1.525829  , -2.1411607 , -2.8805084 ]], dtype=float32),\n",
       " array([[-1.529326  , -3.0970066 , -2.5377467 , -4.43305   ,  0.04297263,\n",
       "          0.08762059, -3.6236248 ,  0.5218087 , -0.9900813 , -0.86433566,\n",
       "         -1.3759357 , -2.1162832 , -2.9126267 ]], dtype=float32),\n",
       " array([[-1.5432581e+00, -3.1920865e+00, -2.5942147e+00, -4.4016571e+00,\n",
       "         -4.0215328e-03, -1.2255915e-01, -3.8978462e+00,  3.9457721e-01,\n",
       "         -1.0354278e+00, -9.2121255e-01, -1.4621969e+00, -2.2217250e+00,\n",
       "         -2.9144242e+00]], dtype=float32),\n",
       " array([[-1.5009273 , -3.2691505 , -2.5168834 , -4.8850613 ,  0.29952922,\n",
       "          0.17881575,  0.433497  ,  0.12485275, -1.2235371 , -1.0608904 ,\n",
       "         -1.7460285 , -1.1334486 , -1.9912769 ]], dtype=float32),\n",
       " array([[-1.6018400e+00, -3.2204342e+00, -2.6432645e+00, -4.4826374e+00,\n",
       "         -2.3104995e-04, -1.1122321e-01, -3.8985803e+00,  3.5323307e-01,\n",
       "         -1.0327212e+00, -9.3997693e-01, -1.4837946e+00, -2.3003638e+00,\n",
       "         -2.9368649e+00]], dtype=float32),\n",
       " array([[ 1.9141572 , -3.130588  , -2.5726027 , -3.9898856 ,  1.8549943 ,\n",
       "          1.0413624 ,  1.0264852 ,  2.6865165 ,  0.65437907, -0.81217533,\n",
       "          0.4393918 ,  1.9329615 ,  0.50265574]], dtype=float32),\n",
       " array([[-1.616213  , -3.317249  , -2.3825073 , -3.6138859 ,  1.7499045 ,\n",
       "          1.6877601 ,  0.72363704,  0.2355283 ,  0.7883225 , -0.8540535 ,\n",
       "          0.4908501 ,  2.2416475 ,  1.2676044 ]], dtype=float32),\n",
       " array([[-1.468896  , -3.1312678 , -2.5309515 , -4.4503865 ,  0.05408882,\n",
       "         -0.05474592, -3.7903006 ,  0.5474778 , -0.93938583, -0.8866824 ,\n",
       "         -1.354885  , -2.1334462 , -2.9004517 ]], dtype=float32),\n",
       " array([[-1.582486  , -3.4388523 , -2.8296762 , -4.5662766 , -0.08235253,\n",
       "          0.01521797, -4.174193  ,  0.44681254, -1.0136583 , -0.9838045 ,\n",
       "         -1.4636837 , -2.4722493 , -3.0708804 ]], dtype=float32),\n",
       " array([[-1.8567361 , -3.7213051 , -2.960288  , -4.3074923 , -0.07827041,\n",
       "          0.26159722, -4.132959  , -0.05260559, -0.91618043, -1.0875376 ,\n",
       "         -1.7222828 , -2.5599673 , -2.9037309 ]], dtype=float32),\n",
       " array([[-1.6635594 , -3.3370588 , -2.7253506 , -4.839366  ,  0.14317974,\n",
       "          0.09737974,  0.18053132,  0.22239648, -1.196723  , -1.1471406 ,\n",
       "         -1.623339  , -1.0338234 , -1.9807998 ]], dtype=float32),\n",
       " array([[-2.022573  , -3.275181  , -2.8492653 , -4.190188  ,  1.3758256 ,\n",
       "          0.21668714,  0.4638231 , -0.3780146 , -0.68785214, -1.1783978 ,\n",
       "         -1.9965783 ,  2.1270318 ,  1.1301906 ]], dtype=float32),\n",
       " array([[-1.5261996 , -3.078821  , -2.5049262 , -4.456828  ,  0.08699989,\n",
       "         -0.058516  , -3.7610111 ,  0.5727909 , -0.92415744, -0.84215945,\n",
       "         -1.2047465 , -2.019602  , -2.8865473 ]], dtype=float32),\n",
       " array([[-1.7092699 , -3.43832   , -2.8524082 , -4.615615  ,  1.532751  ,\n",
       "          0.56792384,  0.47055256,  0.01653684, -0.83793813, -1.0748314 ,\n",
       "         -1.4806374 ,  2.5466025 ,  1.4913441 ]], dtype=float32),\n",
       " array([[-1.4793862 , -3.1757913 , -2.653082  , -4.5520477 ,  0.8192762 ,\n",
       "          0.30408204, -0.14457697,  0.40254444, -0.8915527 , -0.92739767,\n",
       "         -1.2657069 ,  2.4201548 ,  1.1346924 ]], dtype=float32),\n",
       " array([[-2.0351021 , -4.147428  , -3.1159964 , -5.3223224 ,  1.0125842 ,\n",
       "          0.37966558, -1.8082912 ,  0.26302424, -0.7475317 , -1.065003  ,\n",
       "         -1.3288108 ,  1.0410664 , -0.415556  ]], dtype=float32),\n",
       " array([[ 1.8113545 , -3.290408  , -2.6391544 , -3.9676795 ,  1.492872  ,\n",
       "          0.96492684,  0.4075727 ,  2.475583  , -0.4195575 , -1.0687829 ,\n",
       "         -0.7365407 ,  1.9784018 ,  0.9132479 ]], dtype=float32),\n",
       " array([[-1.6270198 , -3.1875832 , -2.6670976 , -4.7121754 ,  0.17725515,\n",
       "          0.06097866,  0.28192332,  0.2540729 , -1.1383641 , -1.1013968 ,\n",
       "         -1.5518588 , -0.9838749 , -1.9625218 ]], dtype=float32),\n",
       " array([[ 1.7142309 , -3.582786  , -2.9046757 , -4.077963  ,  1.3983852 ,\n",
       "          1.0456786 ,  0.36174715,  2.3742847 , -0.3758965 , -1.2443709 ,\n",
       "         -0.7675664 ,  2.024487  ,  1.1845391 ]], dtype=float32),\n",
       " array([[-1.879495  , -3.6259172 , -2.9138234 , -4.2754807 , -0.12118859,\n",
       "         -0.02679942, -4.0880365 , -0.12309713, -1.0904709 , -1.1485585 ,\n",
       "         -1.9260601 , -2.2071235 , -2.5923696 ]], dtype=float32),\n",
       " array([[-1.7308128 , -3.672775  , -2.916713  , -4.6401343 , -0.27941698,\n",
       "         -0.1911825 , -4.3010974 ,  0.11020634, -1.2275229 , -1.109991  ,\n",
       "         -2.0308883 , -2.424804  , -2.8820295 ]], dtype=float32),\n",
       " array([[-1.192607  , -2.9142754 , -2.2539897 , -4.22628   ,  0.1894992 ,\n",
       "          0.01674844, -3.572763  ,  0.7958663 , -0.7466611 , -0.65049696,\n",
       "         -0.96931714, -1.737146  , -2.9525037 ]], dtype=float32),\n",
       " array([[-1.6005021 , -3.269511  , -2.7515066 , -4.413754  , -0.09337115,\n",
       "         -0.1579794 , -3.9417229 ,  0.31837243, -1.052225  , -0.96738344,\n",
       "         -1.548323  , -2.172396  , -2.8635118 ]], dtype=float32),\n",
       " array([[-1.6909888, -3.6300495, -2.8888001, -4.6407743,  0.4191695,\n",
       "          1.7859181, -1.0074258,  0.4120155, -0.8024451, -1.0702692,\n",
       "         -1.3468951,  2.0553455,  1.0538923]], dtype=float32),\n",
       " array([[-1.8471004 , -3.5166447 , -2.8875694 , -4.724308  , -0.21177843,\n",
       "         -0.02019806, -4.003193  ,  0.29297894, -1.0841432 , -1.0636371 ,\n",
       "         -1.746955  , -2.2505395 , -2.985807  ]], dtype=float32),\n",
       " array([[-1.5354521 , -3.3197439 , -2.7048166 , -4.864966  ,  0.33716086,\n",
       "          0.18589443,  0.22337309,  0.36398894, -1.0295027 , -1.0425807 ,\n",
       "         -1.5567491 , -0.8439473 , -1.9037423 ]], dtype=float32),\n",
       " array([[-1.55157   , -3.167662  , -2.7524135 , -4.4247026 , -0.07072812,\n",
       "          0.30673617, -3.4647622 ,  0.35752285, -1.0287253 , -0.9136921 ,\n",
       "         -1.5330882 , -2.174891  , -2.9160507 ]], dtype=float32),\n",
       " array([[-1.834246  , -3.9300447 , -3.284865  , -5.2399135 , -0.09907935,\n",
       "         -0.03996266, -4.2605634 ,  0.21557914, -1.390318  , -1.2431864 ,\n",
       "         -2.0711405 , -1.4734578 , -2.2696857 ]], dtype=float32),\n",
       " array([[-1.6598963 , -3.3949075 , -2.7784152 , -4.5926466 , -0.03733072,\n",
       "          0.01109132, -4.028299  ,  0.3352723 , -1.0589268 , -0.94557756,\n",
       "         -1.6509038 , -2.2229636 , -2.8904407 ]], dtype=float32),\n",
       " array([[-1.5507822 , -3.468771  , -3.0993526 , -4.43167   ,  1.607836  ,\n",
       "          1.5738399 ,  1.0065205 ,  0.48467305, -0.5358616 , -0.9583649 ,\n",
       "         -1.1994792 ,  2.4597552 ,  0.23779167]], dtype=float32),\n",
       " array([[-1.970375  , -3.4217918 , -2.6918738 , -3.8720727 ,  1.798942  ,\n",
       "          0.9034493 ,  0.5313012 , -0.21871126,  0.7503349 , -0.9788113 ,\n",
       "          0.36710078,  2.424287  ,  1.4239005 ]], dtype=float32),\n",
       " array([[-1.8747503 , -4.3263955 , -3.014859  , -4.455717  ,  0.8064946 ,\n",
       "          1.5287827 , -0.7209719 , -0.06069005, -0.8378969 , -1.3260686 ,\n",
       "         -1.4743817 ,  1.9837718 ,  1.120583  ]], dtype=float32),\n",
       " array([[ 1.8353485 , -3.0990546 , -2.3786728 , -3.8494751 ,  1.5229079 ,\n",
       "          0.6517011 ,  0.5131541 ,  2.6227362 , -0.31153238, -0.92626995,\n",
       "         -0.8121771 ,  2.2297351 ,  0.19768436]], dtype=float32),\n",
       " array([[-1.3621886 , -2.9710796 , -2.5521946 , -4.372013  ,  0.1746935 ,\n",
       "          0.13149932, -3.9301076 ,  0.59037834, -0.7818144 , -0.7573559 ,\n",
       "         -0.99327976, -2.2180858 , -3.0016809 ]], dtype=float32),\n",
       " array([[-1.631016  , -3.4495897 , -2.8646011 , -4.555416  , -0.1623418 ,\n",
       "         -0.12170164, -4.197722  ,  0.29826787, -1.0792629 , -1.0327502 ,\n",
       "         -1.6811861 , -2.35785   , -2.9125888 ]], dtype=float32),\n",
       " array([[-1.9590447 , -3.193568  , -2.7468138 , -4.1467223 , -0.14835104,\n",
       "         -0.38520283, -3.933227  ,  0.10418522, -1.146649  , -1.0231878 ,\n",
       "         -2.5376062 , -2.2212925 , -2.9427195 ]], dtype=float32),\n",
       " array([[-1.5418323 , -3.127579  , -2.61666   , -4.452562  ,  0.02628764,\n",
       "         -0.09310339, -3.8275564 ,  0.51986194, -0.96922666, -0.9083969 ,\n",
       "         -1.3250021 , -2.1004674 , -2.866074  ]], dtype=float32),\n",
       " array([[-1.5156568 , -3.162272  , -2.6152172 , -4.428352  ,  0.00690859,\n",
       "         -0.09685532, -3.90653   ,  0.4436209 , -1.0060922 , -0.9115284 ,\n",
       "         -1.399728  , -2.217679  , -2.9196439 ]], dtype=float32),\n",
       " array([[-1.6178838 , -3.2574189 , -2.6972284 , -4.501128  , -0.04211215,\n",
       "         -0.18538213, -3.9231534 ,  0.34060943, -1.0343451 , -0.9714202 ,\n",
       "         -1.4891603 , -2.1441598 , -2.8726852 ]], dtype=float32),\n",
       " array([[-1.2658815 , -2.9388468 , -2.3361578 , -4.3706694 ,  0.17879862,\n",
       "          0.57652557, -3.0539618 ,  0.83972824, -0.82280153, -0.6930092 ,\n",
       "         -1.030001  , -1.6893495 , -2.874177  ]], dtype=float32),\n",
       " array([[-1.2264707 , -2.685107  , -2.484903  , -3.8946235 ,  0.5612377 ,\n",
       "          0.9659986 , -1.5502446 ,  0.6429815 , -0.78484946, -0.9116022 ,\n",
       "         -1.686988  ,  2.001445  ,  0.9646798 ]], dtype=float32),\n",
       " array([[-1.6897942 , -3.3903358 , -2.5708966 , -4.4519277 ,  1.3795209 ,\n",
       "          0.24139598,  0.22118647,  0.1438705 , -0.9100734 , -1.0495211 ,\n",
       "         -1.5090569 ,  2.0954356 , -0.24670361]], dtype=float32),\n",
       " array([[ 1.7469109 , -3.2367997 , -2.4339077 , -4.0795593 ,  1.4868305 ,\n",
       "          1.1423029 ,  0.6080381 ,  2.6691022 ,  0.75517994, -1.1027057 ,\n",
       "          0.572161  ,  1.7814167 ,  1.0511725 ]], dtype=float32),\n",
       " array([[-1.7017306 , -3.845816  , -3.026667  , -4.451661  , -0.02614234,\n",
       "          0.3906433 , -4.1828117 , -0.08673377, -1.1112235 , -1.0457553 ,\n",
       "         -1.92762   , -2.6651728 , -2.9531035 ]], dtype=float32),\n",
       " array([[-1.6069936 , -3.2129369 , -2.6600099 , -4.43745   , -0.01213992,\n",
       "         -0.13745427, -3.8983512 ,  0.36858052, -1.0380368 , -0.94726664,\n",
       "         -1.4766026 , -2.2396662 , -2.9017754 ]], dtype=float32),\n",
       " array([[-1.4684447 , -2.9669135 , -2.5432158 , -4.314543  ,  0.29909292,\n",
       "          1.5023268 , -2.1790977 ,  0.7313922 , -0.91550964, -0.7589271 ,\n",
       "         -1.1867715 , -1.7292986 , -2.7490659 ]], dtype=float32),\n",
       " array([[-1.6209608 , -3.207905  , -2.623833  , -4.4178877 , -0.02616488,\n",
       "         -0.11897475, -3.8831792 ,  0.35443822, -1.0297055 , -0.93675035,\n",
       "         -1.4793719 , -2.244113  , -2.929766  ]], dtype=float32),\n",
       " array([[-1.9514816 , -3.2529025 , -2.7813332 , -4.240652  , -0.1503571 ,\n",
       "         -0.3600143 , -3.987346  ,  0.02639955, -1.1858858 , -1.0389205 ,\n",
       "         -2.553926  , -2.239963  , -2.9300756 ]], dtype=float32),\n",
       " array([[-1.1937127 , -3.0961576 , -2.3621948 , -3.8100722 ,  1.7459275 ,\n",
       "          1.9190159 ,  0.60433155,  0.49809885,  1.4243392 , -0.9325434 ,\n",
       "          1.1583228 ,  2.3968313 ,  1.4874778 ]], dtype=float32),\n",
       " array([[-1.5561296 , -3.1849914 , -2.6027899 , -4.489054  ,  0.01450411,\n",
       "         -0.19848976, -3.9479175 ,  0.37019455, -1.1018223 , -0.9289726 ,\n",
       "         -1.5338463 , -2.3368385 , -2.953299  ]], dtype=float32),\n",
       " array([[ 1.6225704 , -3.3824327 , -2.5697827 , -4.2036486 ,  1.3730264 ,\n",
       "          1.288266  ,  0.74900633,  2.5681605 ,  0.5690218 , -1.1989942 ,\n",
       "          0.34638822,  1.8789229 ,  1.264393  ]], dtype=float32),\n",
       " array([[-1.8768697 , -3.613325  , -2.932671  , -4.540885  , -0.26068178,\n",
       "         -0.18310675, -4.2342057 ,  0.12502162, -1.1627749 , -1.0979122 ,\n",
       "         -1.9514695 , -2.3812687 , -2.8695886 ]], dtype=float32),\n",
       " array([[-1.7222346 , -3.6746202 , -2.9418416 , -4.6815004 , -0.26449037,\n",
       "         -0.2195827 , -4.298634  ,  0.1470148 , -1.1991976 , -1.1068102 ,\n",
       "         -1.9891785 , -2.4773395 , -2.8889647 ]], dtype=float32),\n",
       " array([[-1.5175709 , -3.132986  , -2.629397  , -4.5030313 ,  0.05138208,\n",
       "          0.03940021, -3.829786  ,  0.57258433, -0.9774391 , -0.8639805 ,\n",
       "         -1.3578422 , -2.1367185 , -2.9203224 ]], dtype=float32),\n",
       " array([[-1.1760014e+00, -2.9270308e+00, -2.2693477e+00, -4.1810970e+00,\n",
       "          1.6067022e-01, -3.6895797e-03, -3.6376166e+00,  8.2377398e-01,\n",
       "         -7.1580237e-01, -6.7414725e-01, -9.8914462e-01, -1.8197170e+00,\n",
       "         -2.9978199e+00]], dtype=float32),\n",
       " array([[-2.015389  , -3.3126485 , -2.8426485 , -4.440348  , -0.15264347,\n",
       "         -0.32927322, -4.0547385 ,  0.03358454, -1.1677575 , -1.0610113 ,\n",
       "         -2.5474362 , -2.320023  , -2.9127111 ]], dtype=float32),\n",
       " array([[-1.5960416 , -3.2457216 , -2.6462848 , -4.5005136 , -0.03308808,\n",
       "         -0.1517362 , -3.9503174 ,  0.37406522, -1.0503801 , -0.9414126 ,\n",
       "         -1.5073137 , -2.3221145 , -2.956032  ]], dtype=float32),\n",
       " array([[-1.2328359 , -3.4253976 , -2.3547473 , -4.0819225 ,  1.6681141 ,\n",
       "          1.0736369 ,  0.7487868 ,  0.36690885,  0.017571  , -0.9412465 ,\n",
       "         -0.3473971 ,  2.2162755 ,  0.8994731 ]], dtype=float32),\n",
       " array([[-1.5675913 , -3.2261288 , -2.676775  , -4.4690027 , -0.03131276,\n",
       "         -0.14703172, -3.96693   ,  0.38790596, -1.0242554 , -0.9466583 ,\n",
       "         -1.4783534 , -2.225383  , -2.8836799 ]], dtype=float32),\n",
       " array([[-1.8761982 , -3.0796764 , -2.7094176 , -4.2213907 , -0.04158709,\n",
       "         -0.32141715, -3.7207818 ,  0.17568436, -1.107925  , -1.0116463 ,\n",
       "         -2.4399462 , -2.0711796 , -2.912424  ]], dtype=float32),\n",
       " array([[-1.6196698 , -2.8632658 , -2.376593  , -4.251109  ,  1.1016241 ,\n",
       "          0.05069861,  0.6082216 ,  0.23997374,  0.21535416, -0.8938253 ,\n",
       "         -0.93385947,  1.4354004 ,  0.03871574]], dtype=float32),\n",
       " array([[-1.6341432 , -3.2269769 , -2.635409  , -4.541587  ,  0.04078584,\n",
       "         -0.07867632, -3.9845104 ,  0.5119583 , -0.985192  , -0.8897316 ,\n",
       "         -1.3720679 , -1.8883178 , -2.765205  ]], dtype=float32),\n",
       " array([[-2.0979643 , -3.778064  , -2.898272  , -4.1202245 ,  1.5167828 ,\n",
       "          1.0117438 ,  0.23652777, -0.12548397,  0.55891997, -1.0234381 ,\n",
       "          0.1561411 ,  2.3724234 ,  1.2631903 ]], dtype=float32),\n",
       " array([[-1.4034076 , -2.998834  , -2.4816592 , -4.395917  ,  0.13479629,\n",
       "          0.10516906, -3.8180823 ,  0.68124825, -0.88116926, -0.71464425,\n",
       "         -1.1400366 , -2.0489821 , -3.0338635 ]], dtype=float32),\n",
       " array([[-1.8440244 , -3.847699  , -3.186274  , -5.323627  ,  0.35079792,\n",
       "          0.3169577 , -2.3428826 ,  0.51232976, -1.1844184 , -1.195893  ,\n",
       "         -1.5438405 ,  1.3208296 ,  0.11555986]], dtype=float32),\n",
       " array([[-1.5617956 , -3.3235877 , -2.7319329 , -4.577533  , -0.12103651,\n",
       "          0.0436959 , -4.137405  ,  0.4896951 , -1.0339234 , -0.920141  ,\n",
       "         -1.4104629 , -2.3232906 , -3.0628028 ]], dtype=float32),\n",
       " array([[-1.3241459 , -3.163277  , -2.465826  , -4.5088716 ,  0.9943956 ,\n",
       "          0.22629055, -0.03743613,  0.41606802, -0.9313278 , -0.8754448 ,\n",
       "         -1.5576814 ,  2.5133936 ,  1.3850253 ]], dtype=float32),\n",
       " array([[-2.0764496 , -3.6869648 , -2.8619812 , -4.1862473 ,  1.6265655 ,\n",
       "          1.0161738 ,  0.247244  , -0.25362366,  1.1811739 , -1.1855365 ,\n",
       "          0.7291515 ,  2.4532955 ,  1.4372699 ]], dtype=float32),\n",
       " array([[-1.8770394 , -3.8289335 , -3.0675101 , -4.6457663 ,  1.1728666 ,\n",
       "          0.46887106,  0.5155039 ,  0.01796562, -1.0421609 , -1.2573987 ,\n",
       "         -1.6596507 ,  2.8739078 ,  1.6738801 ]], dtype=float32),\n",
       " array([[-1.5556743 , -3.184804  , -2.6152377 , -4.4437757 ,  0.00891928,\n",
       "         -0.15288016, -3.9142115 ,  0.4105417 , -1.0110005 , -0.91219336,\n",
       "         -1.4238982 , -2.2818081 , -2.9245052 ]], dtype=float32),\n",
       " array([[-1.3527873 , -2.9702575 , -2.5461757 , -4.3642054 ,  0.14690629,\n",
       "          0.11962832, -3.9024699 ,  0.61982256, -0.82079583, -0.7481705 ,\n",
       "         -1.0672284 , -2.1778915 , -2.9973805 ]], dtype=float32),\n",
       " array([[-1.9525532 , -3.2693892 , -2.7716134 , -4.243243  , -0.13341439,\n",
       "         -0.3936882 , -3.957507  ,  0.08009798, -1.0522385 , -1.0049719 ,\n",
       "         -2.479855  , -2.1973617 , -2.907064  ]], dtype=float32),\n",
       " array([[-2.0351021 , -4.147428  , -3.1159964 , -5.3223224 ,  1.0125842 ,\n",
       "          0.37966558, -1.8082912 ,  0.26302424, -0.7475317 , -1.065003  ,\n",
       "         -1.3288108 ,  1.0410664 , -0.415556  ]], dtype=float32),\n",
       " array([[-1.2785417 , -2.9991455 , -2.4178746 , -4.2282004 ,  1.5539347 ,\n",
       "          0.92961526,  0.926683  ,  0.4426371 ,  0.08623253, -0.7915714 ,\n",
       "         -0.21329534,  2.8327649 ,  1.7491512 ]], dtype=float32),\n",
       " array([[-1.7342883 , -3.0263636 , -2.5090485 , -4.1036787 ,  1.409622  ,\n",
       "          0.63482195,  0.50628024, -0.27108496,  1.0676408 , -1.0328524 ,\n",
       "          0.06458246,  2.1981127 ,  1.3278513 ]], dtype=float32),\n",
       " array([[-1.6177596 , -3.2279475 , -2.6835046 , -4.494931  , -0.01236022,\n",
       "         -0.12802601, -3.9291003 ,  0.35714442, -1.0331589 , -0.94062513,\n",
       "         -1.4902815 , -2.277403  , -2.9257584 ]], dtype=float32),\n",
       " array([[-1.5603417 , -3.2099025 , -2.6464596 , -4.4491553 , -0.00813497,\n",
       "         -0.13990551, -3.9411614 ,  0.39463317, -1.0097132 , -0.9204824 ,\n",
       "         -1.4341375 , -2.2892787 , -2.9258065 ]], dtype=float32),\n",
       " array([[ 2.3318703, -2.3991122, -1.2456204, -3.6032684,  1.826132 ,\n",
       "          1.3187677,  1.2843769,  2.8015633,  1.4901276, -0.59885  ,\n",
       "          1.47123  ,  2.1222205,  0.6608909]], dtype=float32),\n",
       " array([[-1.9461713 , -3.6343045 , -2.9144514 , -4.688464  , -0.22765002,\n",
       "         -0.20867333, -4.1940207 ,  0.12836657, -1.1619842 , -1.1423907 ,\n",
       "         -1.901899  , -2.0589824 , -2.8235037 ]], dtype=float32),\n",
       " array([[-1.8938649 , -3.4593    , -2.7152505 , -4.418213  ,  1.5648671 ,\n",
       "          0.59328866,  0.47472408, -0.2649672 , -0.8288725 , -1.1113995 ,\n",
       "         -1.4103711 ,  2.626458  ,  1.5205283 ]], dtype=float32),\n",
       " array([[-1.5381432 , -3.2787783 , -2.6302016 , -4.448454  , -0.01343592,\n",
       "         -0.13476905, -3.9875948 ,  0.39444375, -0.996849  , -0.933719  ,\n",
       "         -1.5031302 , -2.2276034 , -2.9581409 ]], dtype=float32),\n",
       " array([[ 2.2436023 , -2.6423006 , -1.6047922 , -3.7514956 ,  1.9086556 ,\n",
       "          1.2073004 ,  1.1401227 ,  2.8223476 ,  0.3501473 , -0.6904034 ,\n",
       "          0.32287657,  2.3867295 ,  0.52660966]], dtype=float32),\n",
       " array([[-1.3418249 , -2.9456394 , -2.5176282 , -4.3515697 ,  0.16537082,\n",
       "          0.12561958, -3.919757  ,  0.6441415 , -0.79592234, -0.7362458 ,\n",
       "         -1.0253675 , -2.1753979 , -2.9973366 ]], dtype=float32),\n",
       " array([[-1.5844098 , -3.202089  , -2.6077006 , -4.513786  ,  0.03586643,\n",
       "         -0.19171959, -3.9187527 ,  0.34255588, -1.1153737 , -0.9570393 ,\n",
       "         -1.5744641 , -2.3734536 , -2.9908838 ]], dtype=float32),\n",
       " array([[-1.3144208 , -2.9425073 , -2.5224214 , -4.351615  ,  0.17217723,\n",
       "          0.15783924, -3.9123187 ,  0.63421947, -0.7863731 , -0.72748727,\n",
       "         -0.9860225 , -2.2004826 , -3.0168912 ]], dtype=float32),\n",
       " array([[-1.827299  , -3.7064893 , -2.9476569 , -4.7348576 ,  0.88301635,\n",
       "          0.45936066, -0.00744402,  0.20709144, -0.92728466, -1.1258476 ,\n",
       "         -1.467787  ,  2.573071  ,  1.458112  ]], dtype=float32),\n",
       " array([[-1.9447864 , -3.7554846 , -2.9690995 , -4.9097967 , -0.16585904,\n",
       "          0.01513244, -3.9061494 ,  0.01579031, -1.2193581 , -1.121884  ,\n",
       "         -1.8711704 , -2.0297701 , -2.7906485 ]], dtype=float32),\n",
       " array([[-1.6020828 , -3.5818303 , -2.8152165 , -4.7312183 ,  0.74884236,\n",
       "          0.43068194, -0.11269879,  0.0261629 , -1.0771296 , -1.2172095 ,\n",
       "         -1.4019147 ,  2.2816534 ,  1.2537041 ]], dtype=float32),\n",
       " array([[-1.5632565 , -3.2110708 , -2.6563087 , -4.4376087 ,  0.02489119,\n",
       "         -0.13953069, -3.9395514 ,  0.39383155, -0.98563105, -0.91453797,\n",
       "         -1.4238738 , -2.2605016 , -2.9120455 ]], dtype=float32),\n",
       " array([[-1.6333102 , -3.5522048 , -2.835822  , -4.841385  ,  0.5997615 ,\n",
       "          0.31989223, -0.13919085,  0.20601876, -1.1027161 , -1.1595765 ,\n",
       "         -1.5169593 ,  2.1096961 ,  1.1548715 ]], dtype=float32),\n",
       " array([[-1.6590157 , -3.3949938 , -2.593062  , -4.6149244 ,  0.01624187,\n",
       "         -0.15674025, -3.6856842 ,  0.19669658, -1.1281945 , -1.0108936 ,\n",
       "         -1.67529   , -2.111103  , -2.7389584 ]], dtype=float32),\n",
       " array([[-1.5344377 , -3.2626002 , -2.6663613 , -4.9225316 ,  0.31016997,\n",
       "          0.17782843,  0.35568708,  0.33688426, -1.0628682 , -1.1103234 ,\n",
       "         -1.4954001 , -0.74872744, -1.7885219 ]], dtype=float32),\n",
       " array([[-1.7359751 , -3.801679  , -2.8366287 , -4.6380806 ,  1.0167577 ,\n",
       "          0.4007322 ,  0.1541448 ,  0.04405668, -1.0781981 , -1.1716129 ,\n",
       "         -1.6076839 ,  2.2857661 ,  1.268816  ]], dtype=float32),\n",
       " array([[-1.5634531 , -3.1815653 , -2.5936885 , -4.5205703 ,  0.02737701,\n",
       "         -0.21120179, -3.9064598 ,  0.34851858, -1.1353112 , -0.94222265,\n",
       "         -1.5595504 , -2.4017854 , -3.0089817 ]], dtype=float32),\n",
       " array([[-1.350861  , -2.9623873 , -2.5405388 , -4.361498  ,  0.14577007,\n",
       "          0.18198133, -3.908402  ,  0.59887546, -0.8191325 , -0.75279385,\n",
       "         -1.0562404 , -2.2061937 , -2.9969804 ]], dtype=float32),\n",
       " array([[-1.7129545 , -3.554074  , -2.8773928 , -4.6881495 , -0.2273334 ,\n",
       "         -0.11971319, -4.1976438 ,  0.25712383, -1.2082738 , -1.093664  ,\n",
       "         -1.8398219 , -2.3251936 , -2.9185781 ]], dtype=float32),\n",
       " array([[-1.6188291 , -3.3324273 , -2.7888248 , -4.508864  , -0.12191031,\n",
       "         -0.20084408, -4.0123024 ,  0.34490207, -1.0087925 , -0.97918606,\n",
       "         -1.4849932 , -2.1619797 , -2.815216  ]], dtype=float32),\n",
       " array([[-1.4562033 , -3.1363974 , -2.585181  , -4.4764686 ,  0.07605048,\n",
       "          0.01517574, -3.9490433 ,  0.5659911 , -0.87505096, -0.861662  ,\n",
       "         -1.2262548 , -2.1765778 , -2.9596086 ]], dtype=float32),\n",
       " array([[-1.5205232 , -3.3163807 , -2.6738071 , -4.842243  ,  0.35283637,\n",
       "          0.99163973, -1.9056137 ,  0.44808713, -1.0689489 , -0.97582996,\n",
       "         -1.3117142 ,  1.6319003 ,  0.5547483 ]], dtype=float32),\n",
       " array([[-1.4058143 , -3.0594695 , -2.4271631 , -4.4457974 ,  0.129266  ,\n",
       "         -0.04930571, -3.6988497 ,  0.7142823 , -0.8452746 , -0.7662662 ,\n",
       "         -1.1527492 , -1.8572521 , -2.902329  ]], dtype=float32),\n",
       " array([[-1.7822438 , -3.3548794 , -2.7748687 , -4.5212193 , -0.10238085,\n",
       "         -0.128418  , -3.915165  ,  0.23583876, -1.0464648 , -1.0075152 ,\n",
       "         -1.6957918 , -2.1794035 , -2.9273934 ]], dtype=float32),\n",
       " array([[-1.83891   , -4.5875397 , -3.2684982 , -5.7207875 , -0.10422925,\n",
       "         -0.10349427, -1.710686  , -0.21506734, -1.7396516 , -1.4749863 ,\n",
       "         -2.6973054 , -2.1284125 , -2.6975594 ]], dtype=float32),\n",
       " array([[-1.5266929 , -2.7457078 , -2.4022353 , -3.8454385 ,  0.89447236,\n",
       "          0.12077446, -1.4180183 ,  0.34388095,  1.0430794 , -0.60822123,\n",
       "          0.1522606 ,  0.44377282, -0.9146696 ]], dtype=float32),\n",
       " array([[-1.7438419 , -3.4282143 , -3.0683894 , -4.601985  ,  1.3713338 ,\n",
       "          0.652076  ,  0.4624665 ,  0.04088583, -0.90857154, -1.0661911 ,\n",
       "         -1.5373365 ,  2.4874957 ,  1.3289225 ]], dtype=float32),\n",
       " array([[-1.9006802 , -3.6960304 , -2.8938646 , -4.4393826 , -0.17395735,\n",
       "          0.04694442, -4.1407743 , -0.03516453, -1.1323482 , -1.1271863 ,\n",
       "         -2.0526078 , -2.5084054 , -2.8298306 ]], dtype=float32),\n",
       " array([[-1.6436983 , -3.4671922 , -2.7311096 , -5.0569544 ,  0.42839664,\n",
       "          0.24233761,  0.12063777,  0.31006542, -1.194511  , -1.2481858 ,\n",
       "         -1.6791378 ,  0.39964622, -0.78384465]], dtype=float32),\n",
       " array([[-2.0164292 , -3.3908327 , -2.9160836 , -4.4333096 , -0.13104263,\n",
       "         -0.4000315 , -4.0533    , -0.0085401 , -1.2175671 , -1.1281942 ,\n",
       "         -2.6423626 , -2.0439277 , -2.7754126 ]], dtype=float32),\n",
       " array([[-2.0351021 , -4.147428  , -3.1159964 , -5.3223224 ,  1.0125842 ,\n",
       "          0.37966558, -1.8082912 ,  0.26302424, -0.7475317 , -1.065003  ,\n",
       "         -1.3288108 ,  1.0410664 , -0.415556  ]], dtype=float32),\n",
       " array([[-1.7626209 , -3.1585214 , -2.83321   , -4.5273886 ,  0.20323282,\n",
       "          0.07037089, -3.6666493 ,  0.42626688, -0.8350079 , -0.8678288 ,\n",
       "         -1.2950714 , -2.385411  , -3.0006182 ]], dtype=float32),\n",
       " array([[-1.7138644 , -3.3153126 , -2.6810563 , -4.5760584 ,  0.09000685,\n",
       "         -0.1682623 , -3.9102325 ,  0.38208517, -1.0454807 , -0.9595414 ,\n",
       "         -1.4820379 , -1.5822793 , -2.414764  ]], dtype=float32),\n",
       " array([[-2.1062696 , -4.120019  , -3.324317  , -5.4607887 ,  0.2290931 ,\n",
       "          0.3617332 , -2.6302862 ,  0.3124259 , -1.1915683 , -1.3293983 ,\n",
       "         -1.7322577 ,  0.96681505, -0.0805942 ]], dtype=float32),\n",
       " array([[-1.3918594 , -3.272133  , -2.7165673 , -4.8175473 ,  0.06407266,\n",
       "          0.09340534,  0.27064332,  0.31631774, -1.2356954 , -1.1183732 ,\n",
       "         -1.7390358 , -1.2141151 , -2.2442203 ]], dtype=float32),\n",
       " array([[-1.8571559 , -2.9812803 , -2.5712004 , -4.0303283 ,  1.5348427 ,\n",
       "          0.25173923,  0.43569595, -0.3539605 , -0.15554254, -0.96361595,\n",
       "         -1.2704699 ,  2.4111264 ,  1.4075915 ]], dtype=float32),\n",
       " array([[-1.4802517 , -2.9970582 , -2.4949064 , -4.4379582 ,  0.15828964,\n",
       "          0.06554185, -3.746679  ,  0.5969187 , -0.8903515 , -0.77106756,\n",
       "         -1.1882031 , -2.143854  , -3.035442  ]], dtype=float32),\n",
       " array([[-1.7882047 , -3.3797696 , -2.7681723 , -4.603288  , -0.14745095,\n",
       "         -0.07261719, -4.0223074 ,  0.28465873, -1.005844  , -1.0260379 ,\n",
       "         -1.7451104 , -2.1467876 , -2.9199831 ]], dtype=float32),\n",
       " array([[-1.8063201 , -3.5673969 , -3.0853753 , -4.5974736 , -0.15293428,\n",
       "         -0.09984226, -3.9871974 ,  0.12242552, -1.0178252 , -1.0872333 ,\n",
       "         -1.856599  , -2.5560338 , -2.875173  ]], dtype=float32),\n",
       " array([[-0.92819554, -3.3136122 , -2.4386997 , -3.9743316 ,  1.6347733 ,\n",
       "          1.646275  ,  0.8482012 ,  0.7471353 , -0.36307263, -0.9640873 ,\n",
       "         -0.8316999 ,  2.5500526 ,  1.3728677 ]], dtype=float32),\n",
       " array([[-1.8890806 , -3.4331758 , -3.0182738 , -4.608835  ,  0.96639264,\n",
       "          0.10228089, -0.62651646, -0.16070382, -1.204981  , -1.2634556 ,\n",
       "         -2.2995322 ,  2.1210697 ,  1.1963736 ]], dtype=float32),\n",
       " array([[-0.9641072 , -2.7510197 , -2.0410252 , -4.081606  ,  1.9193195 ,\n",
       "          1.0086362 ,  1.3672101 ,  0.7261439 ,  0.41548532, -0.65797454,\n",
       "          0.06806063,  2.3882678 ,  0.54277134]], dtype=float32),\n",
       " array([[-1.146597  , -2.9351134 , -2.490127  , -4.3692355 ,  0.6544979 ,\n",
       "          0.482494  ,  0.64760554,  0.49050802,  0.15517586, -0.88156945,\n",
       "         -0.1738517 , -0.07452986, -1.1816887 ]], dtype=float32),\n",
       " array([[-1.7715384 , -3.701983  , -2.779299  , -4.6382933 ,  0.93392015,\n",
       "          0.41205293,  0.11157471,  0.00828029, -1.0423639 , -1.16244   ,\n",
       "         -1.4752594 ,  2.314     ,  1.3447243 ]], dtype=float32),\n",
       " array([[-2.207729  , -4.1732287 , -3.3045073 , -4.984953  ,  0.8493602 ,\n",
       "          0.33850107,  0.17556944, -0.1012357 , -1.0662583 , -1.43585   ,\n",
       "         -1.8230001 ,  1.2214665 ,  0.06558712]], dtype=float32),\n",
       " array([[-1.8007157 , -3.27725   , -2.945598  , -4.524475  ,  0.14350319,\n",
       "          0.04149737, -3.6879961 ,  0.34482303, -0.86910045, -0.9256046 ,\n",
       "         -1.4208729 , -2.4549093 , -2.943097  ]], dtype=float32),\n",
       " array([[-1.5686585 , -3.1578434 , -2.6351562 , -4.427455  ,  0.02442317,\n",
       "         -0.11700789, -3.903883  ,  0.39992806, -0.9936965 , -0.8982224 ,\n",
       "         -1.4067668 , -2.30241   , -2.9315634 ]], dtype=float32),\n",
       " array([[-1.2136186 , -3.1627588 , -2.465662  , -4.636267  ,  0.11022349,\n",
       "          0.13509527, -3.4264185 ,  0.7963156 , -0.89933056, -0.723762  ,\n",
       "         -1.3651212 ,  1.6639867 ,  0.5371697 ]], dtype=float32),\n",
       " array([[-1.6458719 , -3.2662234 , -2.6728768 , -4.596391  , -0.02976242,\n",
       "         -0.06033262, -3.946972  ,  0.48047775, -1.0561852 , -0.95573056,\n",
       "         -1.5151081 , -2.1549866 , -2.9201045 ]], dtype=float32),\n",
       " array([[-1.5903004 , -3.3300393 , -2.617989  , -3.8925462 ,  1.6546593 ,\n",
       "          1.029473  ,  0.658385  ,  0.04856265,  1.2923986 , -0.9777451 ,\n",
       "          0.95368356,  2.376514  ,  1.3658048 ]], dtype=float32),\n",
       " array([[-1.7119645 , -3.1609871 , -2.8973002 , -4.426341  ,  0.41497746,\n",
       "          1.5409641 , -2.1912093 ,  0.5941351 , -0.89553076, -0.90772086,\n",
       "         -1.3352298 , -1.8871523 , -2.6445742 ]], dtype=float32),\n",
       " array([[-1.7053167 , -3.1135495 , -2.7992828 , -4.4203076 ,  0.09444705,\n",
       "          0.00778317, -3.5301926 ,  0.4157318 , -0.8342096 , -0.8851419 ,\n",
       "         -1.3151191 , -2.2524693 , -2.883781  ]], dtype=float32),\n",
       " array([[ 1.6229595, -3.632664 , -2.7789977, -3.9748251,  1.287107 ,\n",
       "          1.0450423,  0.4485882,  2.5234957,  0.8201797, -1.2361249,\n",
       "          0.5313361,  1.7214103,  1.0117433]], dtype=float32),\n",
       " array([[-1.6622636 , -3.4864728 , -2.8698905 , -4.584725  , -0.12614739,\n",
       "          0.11335422, -4.1571856 ,  0.3087067 , -1.0422595 , -0.9723776 ,\n",
       "         -1.5530282 , -2.4266973 , -3.0191035 ]], dtype=float32),\n",
       " array([[-1.720427  , -3.3113406 , -2.7698116 , -4.5063    , -0.09184558,\n",
       "         -0.11689485, -3.9082057 ,  0.2894417 , -1.1000507 , -1.0195318 ,\n",
       "         -1.7105609 , -2.2630181 , -2.9705706 ]], dtype=float32),\n",
       " array([[-1.5329217 , -3.1439583 , -2.5593443 , -4.445201  ,  0.03494523,\n",
       "         -0.10715134, -3.882841  ,  0.48226726, -0.96440977, -0.89135313,\n",
       "         -1.2993456 , -2.2256615 , -2.9337597 ]], dtype=float32),\n",
       " array([[-1.8609442 , -3.066841  , -2.5310605 , -3.9946854 ,  1.4438759 ,\n",
       "          0.46449453,  0.6243617 , -0.27711812,  1.1534177 , -0.9822451 ,\n",
       "          0.13106468,  2.0009727 ,  0.68754953]], dtype=float32),\n",
       " array([[-1.5462767 , -3.2037456 , -2.659778  , -4.476273  ,  0.03708544,\n",
       "         -0.06379262, -3.9321065 ,  0.5032271 , -0.99734336, -0.9130845 ,\n",
       "         -1.3393172 , -2.208854  , -2.9191546 ]], dtype=float32),\n",
       " array([[-1.5700775 , -3.3417506 , -2.7745833 , -4.5388107 ,  1.5261879 ,\n",
       "          0.21777949,  0.5643216 ,  0.3890318 , -0.979577  , -0.9828761 ,\n",
       "         -1.6149833 ,  2.161257  , -0.23948507]], dtype=float32),\n",
       " array([[-1.7837994 , -3.0719578 , -2.78293   , -4.36969   , -0.03333099,\n",
       "         -0.278964  , -3.8460007 ,  0.12578198, -1.1746005 , -0.99865276,\n",
       "         -2.3901377 , -1.8754724 , -2.7078419 ]], dtype=float32),\n",
       " array([[-1.5341444 , -3.3577302 , -2.6787117 , -4.823302  ,  0.37399504,\n",
       "          0.21006405,  0.22223924,  0.42102456, -0.8740183 , -0.94506973,\n",
       "         -1.4249426 , -0.9448419 , -1.8999805 ]], dtype=float32),\n",
       " array([[-1.8177203 , -3.3804305 , -2.7476556 , -4.1668625 ,  1.6195657 ,\n",
       "          1.3101674 ,  0.85180753,  0.07949235,  1.003357  , -1.076248  ,\n",
       "          0.5778915 ,  2.468651  ,  1.5279183 ]], dtype=float32),\n",
       " array([[-1.398382  , -3.0470548 , -2.4399576 , -4.373087  ,  0.08943803,\n",
       "         -0.00767407, -3.743391  ,  0.6771849 , -0.86819446, -0.79563314,\n",
       "         -1.1463149 , -2.0089834 , -2.9842196 ]], dtype=float32),\n",
       " array([[-1.480394  , -3.3153193 , -2.5995884 , -4.816707  ,  0.7430774 ,\n",
       "          0.37455547,  0.30760202,  0.46645695, -0.83064777, -1.0827374 ,\n",
       "         -1.2596861 ,  2.292628  ,  1.0518299 ]], dtype=float32),\n",
       " array([[-0.70024544, -2.9785767 , -2.4528842 , -4.4265356 ,  2.2061543 ,\n",
       "          1.9631295 ,  2.0776455 ,  0.9902809 ,  1.1655223 , -0.8163145 ,\n",
       "          0.8399654 ,  2.6736948 ,  1.579399  ]], dtype=float32),\n",
       " array([[-1.7061019 , -3.4073296 , -2.8125417 , -4.5184164 , -0.1387206 ,\n",
       "         -0.15672204, -4.095701  ,  0.2870568 , -1.1057816 , -1.0263624 ,\n",
       "         -1.7170057 , -2.2363565 , -2.9124897 ]], dtype=float32),\n",
       " array([[-1.9103887 , -3.9374106 , -3.039216  , -4.4484587 , -0.12186351,\n",
       "          0.24960881, -4.262966  , -0.08589957, -1.0442314 , -1.1276599 ,\n",
       "         -1.8853192 , -2.6683707 , -2.923602  ]], dtype=float32),\n",
       " array([[-1.8296613 , -3.1585705 , -2.7856016 , -4.2680354 , -0.0941508 ,\n",
       "         -0.3022678 , -3.83681   ,  0.10375617, -1.1910821 , -1.0101212 ,\n",
       "         -2.422448  , -2.004057  , -2.7437415 ]], dtype=float32),\n",
       " array([[-1.3110908 , -3.3507092 , -2.5749407 , -4.6158257 ,  1.0575857 ,\n",
       "          0.20737219, -0.14167309,  0.47252464, -0.9426137 , -0.8540763 ,\n",
       "         -1.6767582 ,  2.571288  ,  1.3050632 ]], dtype=float32),\n",
       " array([[-1.4326228 , -3.281607  , -2.5223918 , -4.0760865 ,  0.12655425,\n",
       "          0.24637929, -3.758988  ,  0.3099131 , -0.7820088 , -0.85391027,\n",
       "         -1.3423944 , -1.8804393 , -2.7740412 ]], dtype=float32),\n",
       " array([[ 1.7913456, -3.2150195, -2.4746785, -4.1726813,  1.3410921,\n",
       "          1.4253943,  1.035542 ,  2.7390985,  0.7681913, -1.1874851,\n",
       "          0.6094263,  1.8663182,  1.3192992]], dtype=float32),\n",
       " array([[-2.0351021 , -4.147428  , -3.1159964 , -5.3223224 ,  1.0125842 ,\n",
       "          0.37966558, -1.8082912 ,  0.26302424, -0.7475317 , -1.065003  ,\n",
       "         -1.3288108 ,  1.0410664 , -0.415556  ]], dtype=float32),\n",
       " array([[-1.6727964 , -3.5628455 , -2.9783733 , -4.611723  , -0.28837195,\n",
       "         -0.10628281, -4.178173  ,  0.22465362, -1.215319  , -1.049058  ,\n",
       "         -1.8725001 , -2.3324547 , -2.9175522 ]], dtype=float32),\n",
       " array([[-1.6750869e+00, -3.4506733e+00, -2.8378370e+00, -4.6298323e+00,\n",
       "         -1.6450295e-01,  2.6479848e-03, -4.2064676e+00,  4.0107727e-01,\n",
       "         -1.0475807e+00, -9.8420161e-01, -1.5352131e+00, -2.3628111e+00,\n",
       "         -3.0747004e+00]], dtype=float32),\n",
       " array([[-1.4415461 , -3.1131747 , -2.6372237 , -4.4351892 ,  0.07978877,\n",
       "          0.10073746, -3.9814374 ,  0.5349852 , -0.9050641 , -0.8302607 ,\n",
       "         -1.2411346 , -2.177406  , -2.949586  ]], dtype=float32),\n",
       " array([[-1.488506  , -3.0095458 , -2.5261497 , -4.436844  ,  0.15254776,\n",
       "          0.07046906, -3.7444258 ,  0.6163282 , -0.9013677 , -0.7720577 ,\n",
       "         -1.1933705 , -2.195676  , -3.0256033 ]], dtype=float32),\n",
       " array([[-1.553605  , -3.2089152 , -2.6237628 , -4.467019  , -0.00754832,\n",
       "         -0.12470619, -3.8714647 ,  0.41077766, -1.0267167 , -0.9193775 ,\n",
       "         -1.4601351 , -2.2521577 , -2.930337  ]], dtype=float32),\n",
       " array([[-1.7825056 , -3.190564  , -2.8780017 , -4.515391  ,  0.20111176,\n",
       "          0.06859362, -3.6384676 ,  0.41472656, -0.82464236, -0.88440007,\n",
       "         -1.326107  , -2.4303586 , -2.9719205 ]], dtype=float32),\n",
       " array([[-1.3785142 , -3.290531  , -2.3743305 , -4.2081175 ,  1.1509424 ,\n",
       "          0.62452227,  0.40297115,  0.26800722, -0.9335986 , -1.0424045 ,\n",
       "         -1.43657   ,  1.6127144 , -0.32460883]], dtype=float32),\n",
       " array([[-1.9124902 , -3.6703277 , -2.8043256 , -4.406042  ,  1.3740528 ,\n",
       "          0.96989584, -0.43221003,  0.13052684,  0.4779125 , -1.0803968 ,\n",
       "         -0.10179145,  2.3241317 ,  1.3494856 ]], dtype=float32),\n",
       " array([[-1.6608585 , -3.9130783 , -2.9956217 , -5.168394  , -0.16223985,\n",
       "          0.0130973 , -0.5705413 , -0.04091635, -1.3340425 , -1.2335597 ,\n",
       "         -2.331253  , -2.1539428 , -2.7398486 ]], dtype=float32),\n",
       " array([[-1.5881776 , -3.2046201 , -2.6195512 , -4.4512806 ,  0.01346564,\n",
       "         -0.14006785, -3.9019144 ,  0.39189962, -1.0264405 , -0.92338043,\n",
       "         -1.502978  , -2.2895167 , -2.9220803 ]], dtype=float32),\n",
       " array([[-1.6698297 , -3.1469142 , -2.412995  , -4.287781  ,  1.6142253 ,\n",
       "          1.2295576 ,  0.11129001,  0.43799314, -0.35420918, -0.8466065 ,\n",
       "         -0.8070219 ,  2.6466372 ,  1.5616965 ]], dtype=float32),\n",
       " array([[-1.6060678 , -3.34754   , -2.7259068 , -4.51852   , -0.07209349,\n",
       "         -0.09123081, -4.166652  ,  0.3864066 , -1.0573328 , -0.98180526,\n",
       "         -1.5708933 , -2.3526888 , -2.9753077 ]], dtype=float32),\n",
       " array([[ 1.6369007 , -3.3594458 , -2.6855054 , -4.104062  ,  1.4096919 ,\n",
       "          1.1658297 ,  0.6562186 ,  2.6411912 ,  0.2358423 , -1.1142584 ,\n",
       "          0.03646006,  1.9165001 ,  1.3451107 ]], dtype=float32),\n",
       " array([[-1.5435445 , -3.4899514 , -2.4885273 , -3.6663945 ,  1.4598513 ,\n",
       "          1.6264848 ,  0.49395698,  0.13749005,  1.08972   , -1.0682434 ,\n",
       "          0.7889865 ,  2.255458  ,  1.3909376 ]], dtype=float32),\n",
       " array([[ 1.6094794 , -3.627694  , -2.7471783 , -4.148447  ,  1.3895192 ,\n",
       "          0.8778444 ,  0.15139139,  2.3356156 , -0.6845463 , -1.2686278 ,\n",
       "         -1.1058927 ,  1.9850652 ,  1.0147598 ]], dtype=float32),\n",
       " array([[-1.0652752 , -2.7702975 , -2.174066  , -4.2087154 ,  0.25446305,\n",
       "          0.19695923, -3.5819776 ,  0.7930145 , -0.62085044, -0.56234646,\n",
       "         -0.8493876 , -1.8166701 , -2.9787002 ]], dtype=float32),\n",
       " array([[-1.899195  , -3.1206725 , -2.697134  , -4.2389727 ,  1.489044  ,\n",
       "          0.12918241,  0.43540788, -0.46532327, -0.80313164, -1.1465529 ,\n",
       "         -1.9667937 ,  2.455428  ,  1.3850158 ]], dtype=float32),\n",
       " array([[-1.8407876 , -3.100846  , -2.632848  , -4.318925  ,  1.453278  ,\n",
       "          0.11537658,  0.4040496 , -0.45212364, -0.8284259 , -1.1165582 ,\n",
       "         -1.9755452 ,  2.4421797 ,  1.3487599 ]], dtype=float32),\n",
       " array([[-1.8450259 , -3.490375  , -2.8559046 , -4.535682  , -0.23479378,\n",
       "         -0.18593746, -4.145911  ,  0.22208379, -1.1392393 , -1.0641168 ,\n",
       "         -1.925175  , -2.3752067 , -2.960177  ]], dtype=float32),\n",
       " array([[-1.5078315 , -3.1550775 , -2.6427088 , -4.4703817 ,  0.05144408,\n",
       "          0.04823527, -3.8979611 ,  0.5414158 , -0.96045023, -0.8254011 ,\n",
       "         -1.2847039 , -2.1930048 , -3.0081618 ]], dtype=float32),\n",
       " array([[-1.6803484 , -3.8442323 , -3.5752072 , -4.8931904 ,  1.7730635 ,\n",
       "         -0.25858098,  0.41605908,  0.58231336, -1.0126632 , -1.0009047 ,\n",
       "         -1.5686437 ,  2.7075522 , -0.9151397 ]], dtype=float32),\n",
       " array([[-1.328435  , -2.9659069 , -2.534947  , -4.375784  ,  0.14347127,\n",
       "          0.14883247, -3.928983  ,  0.63491017, -0.7943341 , -0.74132615,\n",
       "         -1.0163504 , -2.2356446 , -3.0210195 ]], dtype=float32),\n",
       " array([[-2.0772855 , -3.479079  , -2.754994  , -4.0240154 ,  1.6655635 ,\n",
       "          0.7743756 ,  0.35121292, -0.31822813,  0.57920796, -1.039598  ,\n",
       "          0.09878492,  2.2851646 ,  1.3162521 ]], dtype=float32),\n",
       " array([[-1.7934597 , -3.9138882 , -2.9755359 , -4.712352  ,  1.3208295 ,\n",
       "          0.7831992 , -0.6635489 ,  0.18496408, -0.6648431 , -1.1906935 ,\n",
       "         -1.2479254 ,  2.761346  ,  1.4857147 ]], dtype=float32),\n",
       " array([[-1.9110357 , -3.05913   , -2.6179023 , -4.0407906 ,  1.3188534 ,\n",
       "          0.46214575,  0.45932317, -0.22276275,  0.46529186, -1.0099825 ,\n",
       "         -0.5121271 ,  2.419878  ,  1.4503946 ]], dtype=float32),\n",
       " array([[-1.629967  , -3.1310375 , -2.6531918 , -4.5373263 ,  0.0254865 ,\n",
       "          0.35523936, -3.3530579 ,  0.43772542, -1.036197  , -0.89816135,\n",
       "         -1.3260815 , -2.2429795 , -2.9866977 ]], dtype=float32),\n",
       " array([[-1.36615   , -2.978204  , -2.563681  , -4.362067  ,  0.16292503,\n",
       "          0.12481389, -3.906026  ,  0.5976464 , -0.80305964, -0.75291795,\n",
       "         -1.0420989 , -2.2068608 , -3.017727  ]], dtype=float32),\n",
       " array([[-1.6549488 , -3.4814265 , -2.8766828 , -4.5858927 , -0.19708246,\n",
       "         -0.14473635, -4.1427007 ,  0.26630026, -1.0951693 , -1.025994  ,\n",
       "         -1.7193563 , -2.2849884 , -2.8843167 ]], dtype=float32),\n",
       " array([[-2.0989983 , -4.015425  , -3.1460538 , -5.0548906 ,  1.5935285 ,\n",
       "          0.5331061 , -0.72969633,  0.12102317, -0.7977776 , -1.2907085 ,\n",
       "         -1.407044  ,  2.392184  ,  0.6871654 ]], dtype=float32),\n",
       " array([[-1.8375896 , -3.7237806 , -2.9331374 , -4.696357  , -0.24845466,\n",
       "         -0.19922552, -4.2724433 , -0.02130737, -1.3058745 , -1.1659356 ,\n",
       "         -2.1227746 , -2.6236756 , -2.9169898 ]], dtype=float32),\n",
       " array([[-1.5943573 , -3.186638  , -2.6856852 , -4.45847   , -0.03600039,\n",
       "         -0.14650649, -3.8977094 ,  0.39186123, -1.0430102 , -0.9282744 ,\n",
       "         -1.4692158 , -2.2545028 , -2.9269753 ]], dtype=float32),\n",
       " array([[-1.3330156 , -2.952614  , -2.5105731 , -4.3695793 ,  0.17167372,\n",
       "          0.1579161 , -3.8662858 ,  0.63670236, -0.7723581 , -0.718911  ,\n",
       "         -1.0230571 , -2.117848  , -2.9561365 ]], dtype=float32),\n",
       " array([[-1.9055365 , -4.267688  , -3.212303  , -4.5698295 , -0.0429963 ,\n",
       "          0.5837395 , -4.3798714 , -0.26755297, -1.2040707 , -1.0857824 ,\n",
       "         -2.0948124 , -2.9771678 , -3.0503669 ]], dtype=float32),\n",
       " array([[-1.5426986 , -3.4558506 , -2.7194128 , -4.9184103 ,  0.10401558,\n",
       "          0.02519664,  0.20566209, -0.04402369, -1.4899532 , -1.2077956 ,\n",
       "         -1.9963765 , -1.4347296 , -2.3849964 ]], dtype=float32),\n",
       " array([[-1.5747501 , -3.088309  , -2.5711546 , -4.46861   ,  0.06474606,\n",
       "         -0.00466394, -3.7607114 ,  0.54772943, -0.97325385, -0.8681166 ,\n",
       "         -1.303428  , -2.0944483 , -2.8875766 ]], dtype=float32),\n",
       " array([[-1.2830149 , -2.9829865 , -2.4838815 , -4.3620024 ,  0.14825669,\n",
       "          0.14693916, -3.9364533 ,  0.6827319 , -0.7847621 , -0.70220006,\n",
       "         -1.006494  , -2.171202  , -3.0455832 ]], dtype=float32),\n",
       " array([[-1.7619358 , -3.3374488 , -2.9791293 , -4.469819  , -0.05524437,\n",
       "         -0.08505675, -3.7661648 ,  0.28737557, -0.9991204 , -1.0226403 ,\n",
       "         -1.6873627 , -2.4781532 , -2.9076314 ]], dtype=float32),\n",
       " array([[-1.4222265 , -2.9959264 , -2.443336  , -4.3921022 ,  0.08636001,\n",
       "          0.05664638, -3.726368  ,  0.6726348 , -0.90490836, -0.7673675 ,\n",
       "         -1.1984904 , -2.0120142 , -2.9840896 ]], dtype=float32),\n",
       " array([[-1.7023290e+00, -3.5018952e+00, -2.6113842e+00, -4.0098391e+00,\n",
       "          1.6949708e+00,  1.0572505e+00,  5.6599754e-01, -1.9940641e-03,\n",
       "          1.1749445e+00, -1.0531334e+00,  7.1146375e-01,  2.3404992e+00,\n",
       "          1.3779268e+00]], dtype=float32),\n",
       " array([[-1.7757244 , -3.3680904 , -3.0233588 , -4.5072265 , -0.08617678,\n",
       "         -0.07649279, -3.736988  ,  0.24940668, -1.0186766 , -1.022786  ,\n",
       "         -1.7270631 , -2.4360592 , -2.9031463 ]], dtype=float32),\n",
       " array([[-1.2575539 , -3.0185235 , -2.5066366 , -4.312915  ,  0.15683982,\n",
       "          0.15486911, -3.899622  ,  0.66145307, -0.8094853 , -0.676928  ,\n",
       "         -1.0494248 , -2.0100951 , -2.9932785 ]], dtype=float32),\n",
       " array([[ 1.949183  , -3.2393997 , -2.549492  , -4.101762  ,  1.5861725 ,\n",
       "          1.1349025 ,  0.71603435,  2.7109387 ,  0.8867813 , -1.0361346 ,\n",
       "          0.63460845,  1.6269097 ,  0.9078835 ]], dtype=float32),\n",
       " array([[-0.03827658, -3.5972493 , -2.5431333 , -4.128174  ,  1.4212712 ,\n",
       "          1.0294895 ,  0.8151894 ,  1.3264517 ,  0.8706177 , -1.1409333 ,\n",
       "          0.5310176 ,  2.106115  ,  1.4385124 ]], dtype=float32),\n",
       " array([[-2.0668013 , -4.0047646 , -3.4102619 , -4.9369593 ,  0.56548357,\n",
       "          1.7244588 , -1.2436152 ,  0.17999731, -1.0713903 , -1.1501817 ,\n",
       "         -1.6452731 ,  1.9737651 ,  0.9245047 ]], dtype=float32),\n",
       " array([[ 2.3000855, -2.443391 , -1.361269 , -3.804907 ,  1.9131415,\n",
       "          1.3551061,  1.4136891,  2.883082 ,  1.1845641, -0.5841317,\n",
       "          1.0653764,  2.1958187,  0.6787513]], dtype=float32),\n",
       " array([[-1.8543718 , -4.050126  , -3.1662917 , -4.416196  , -0.07532649,\n",
       "          0.27804875, -4.4133773 , -0.10350176, -1.002447  , -1.1399113 ,\n",
       "         -1.9095386 , -2.6256983 , -2.8307376 ]], dtype=float32),\n",
       " array([[-1.5464343 , -3.09405   , -2.544848  , -4.446188  ,  0.08739958,\n",
       "         -0.06449878, -3.7944672 ,  0.5443169 , -0.9725643 , -0.87903976,\n",
       "         -1.2788111 , -2.1199028 , -2.8768482 ]], dtype=float32),\n",
       " array([[-1.7366341 , -3.3684165 , -2.7422423 , -4.6041145 , -0.09646717,\n",
       "          0.03843249, -4.0057235 ,  0.34871057, -0.91628045, -0.9456675 ,\n",
       "         -1.4514651 , -2.2377012 , -3.018887  ]], dtype=float32),\n",
       " array([[-1.7587163 , -3.2007592 , -2.8428152 , -4.5099573 ,  0.0394757 ,\n",
       "          0.00506449, -3.6382518 ,  0.39428794, -0.8670805 , -0.9148086 ,\n",
       "         -1.4146205 , -2.3996823 , -3.005933  ]], dtype=float32),\n",
       " array([[-1.7047639 , -3.3629556 , -2.7577047 , -4.51997   , -0.14298072,\n",
       "         -0.15152606, -4.053693  ,  0.3060785 , -0.9805539 , -0.98804003,\n",
       "         -1.6457539 , -2.311459  , -3.007441  ]], dtype=float32),\n",
       " array([[-1.0832773e+00, -3.2053158e+00, -2.7648158e+00, -4.3242116e+00,\n",
       "          2.0582132e+00,  1.7844816e+00,  1.6352496e+00,  8.6472267e-01,\n",
       "         -4.3179276e-03, -8.9588892e-01, -2.3526597e-01,  2.4778838e+00,\n",
       "          1.0798845e+00]], dtype=float32),\n",
       " array([[-1.926609  , -3.1461866 , -2.6342993 , -3.8515313 ,  1.4780447 ,\n",
       "          0.7795174 ,  0.5040924 , -0.29122728,  1.089497  , -1.0488685 ,\n",
       "          0.19107378,  2.2540553 ,  1.2641708 ]], dtype=float32),\n",
       " array([[ 1.8323888 , -3.0671284 , -2.4828582 , -3.9445739 ,  1.8611146 ,\n",
       "          0.9985012 ,  0.9858585 ,  2.686386  ,  0.61049265, -0.79449743,\n",
       "          0.46897417,  1.966649  ,  0.55765074]], dtype=float32),\n",
       " array([[-1.7401447e+00, -3.2468815e+00, -2.9099324e+00, -4.4480662e+00,\n",
       "          1.0086007e-02,  1.5989579e-03, -3.6634774e+00,  3.3084804e-01,\n",
       "         -9.1708124e-01, -9.4544584e-01, -1.5074879e+00, -2.4157946e+00,\n",
       "         -2.8919387e+00]], dtype=float32),\n",
       " array([[-1.5705258 , -3.9646244 , -3.144723  , -4.996046  ,  1.582667  ,\n",
       "          0.34809518, -0.30957714,  0.46320722, -0.5446046 , -0.94492143,\n",
       "         -1.2942371 ,  2.730553  , -0.21654724]], dtype=float32),\n",
       " array([[-1.9113053 , -3.1695135 , -2.7375672 , -4.228933  , -0.13138977,\n",
       "         -0.38398418, -3.9374099 ,  0.11911695, -1.1767031 , -1.0202428 ,\n",
       "         -2.5049314 , -2.2538276 , -2.9790323 ]], dtype=float32),\n",
       " array([[-1.5663767 , -3.5017552 , -2.7341266 , -3.9919732 ,  1.4622838 ,\n",
       "          0.92119116,  0.54649806,  0.17834121,  1.214068  , -1.100958  ,\n",
       "          0.9044654 ,  2.321787  ,  1.1629608 ]], dtype=float32),\n",
       " array([[ 1.6231713 , -3.3879206 , -2.5810585 , -4.2162514 ,  1.3637152 ,\n",
       "          1.3108925 ,  0.7955812 ,  2.5858874 ,  0.5762836 , -1.2012002 ,\n",
       "          0.39160773,  1.8857014 ,  1.2791154 ]], dtype=float32),\n",
       " array([[-1.4962944 , -3.5117652 , -2.8753996 , -4.3998094 ,  0.48499748,\n",
       "          0.15372661, -2.7031481 ,  0.29809   ,  0.09710962, -0.96076334,\n",
       "         -0.51986814, -0.7575968 , -2.0414495 ]], dtype=float32),\n",
       " array([[-1.4578348 , -2.9357774 , -2.5751526 , -4.3087893 ,  0.27734092,\n",
       "          1.5845644 , -2.1567867 ,  0.69371444, -0.72128993, -0.7275767 ,\n",
       "         -1.0514072 , -1.7870579 , -2.7341762 ]], dtype=float32),\n",
       " array([[-1.5041832 , -3.3520858 , -2.7892618 , -4.608012  ,  1.3636961 ,\n",
       "          0.6361116 ,  0.51517004,  0.38480356, -0.7407321 , -1.0284095 ,\n",
       "         -1.1082568 ,  2.8065355 ,  1.628491  ]], dtype=float32),\n",
       " array([[-1.2690712 , -2.9367132 , -2.3329515 , -4.330355  ,  0.18022668,\n",
       "          0.13215227, -3.6817913 ,  0.7928343 , -0.7759452 , -0.67122614,\n",
       "         -1.052678  , -1.9049647 , -3.0001602 ]], dtype=float32),\n",
       " array([[-1.8271499 , -4.0118527 , -3.0686662 , -5.094429  ,  1.4733455 ,\n",
       "          0.2578411 , -0.624719  ,  0.37490734, -0.57553625, -1.090653  ,\n",
       "         -1.456687  ,  2.7664864 ,  0.18783154]], dtype=float32),\n",
       " array([[-1.4330324 , -3.065574  , -2.6051102 , -4.4731436 ,  0.09029707,\n",
       "          0.13173744, -3.8966882 ,  0.54517287, -0.86420834, -0.821778  ,\n",
       "         -1.1705469 , -2.115024  , -2.9407825 ]], dtype=float32),\n",
       " array([[-1.7103173 , -3.427467  , -2.7498543 , -4.582857  ,  0.3830536 ,\n",
       "          0.14607298,  0.47725284, -0.02431341, -1.3599995 , -1.229639  ,\n",
       "         -1.9946662 , -0.20374821, -1.2465618 ]], dtype=float32),\n",
       " array([[-1.8177755 , -3.3396447 , -2.9935231 , -4.5573397 ,  0.15222801,\n",
       "          0.06126596, -3.7007337 ,  0.31618   , -0.86694956, -0.9460179 ,\n",
       "         -1.4247271 , -2.4539387 , -2.94095   ]], dtype=float32),\n",
       " array([[-1.4853982 , -3.0016012 , -2.5304623 , -4.4420757 ,  0.10607155,\n",
       "          0.04423152, -3.786674  ,  0.6213531 , -0.906722  , -0.7927517 ,\n",
       "         -1.2194167 , -2.1479714 , -3.0038111 ]], dtype=float32),\n",
       " array([[-1.6326203 , -3.6163688 , -2.8664956 , -4.846542  ,  0.6782127 ,\n",
       "          0.35601383, -0.10213742,  0.22136009, -1.0819963 , -1.1594703 ,\n",
       "         -1.5004557 ,  2.1901584 ,  1.2011689 ]], dtype=float32),\n",
       " array([[-1.8265482 , -3.6609292 , -2.7602925 , -3.9895167 ,  0.90697193,\n",
       "          1.4133177 , -0.5767114 , -0.00710339, -0.79550296, -1.271418  ,\n",
       "         -1.8651816 ,  2.030719  ,  1.1582721 ]], dtype=float32),\n",
       " array([[-1.8470889 , -3.66391   , -3.1651444 , -5.292769  ,  0.35916448,\n",
       "          0.38243258, -2.3735433 ,  0.4227236 , -1.1471997 , -1.1520435 ,\n",
       "         -1.5264848 ,  1.1505939 ,  0.11904229]], dtype=float32),\n",
       " array([[-1.2013556 , -3.6462233 , -2.6624408 , -4.095748  ,  1.6985497 ,\n",
       "          1.803582  ,  0.804298  ,  0.52128536, -0.31166026, -1.1310977 ,\n",
       "         -0.96842146,  2.6202881 ,  1.3877257 ]], dtype=float32),\n",
       " array([[-1.8205665 , -3.6470692 , -2.7243655 , -3.9037235 ,  1.6153393 ,\n",
       "          1.670604  ,  0.59107256,  0.03102841,  1.1830763 , -1.1184862 ,\n",
       "          0.8193411 ,  2.3456793 ,  1.4338537 ]], dtype=float32),\n",
       " array([[-1.8388437 , -3.4330366 , -2.62715   , -4.0007463 ,  1.7252846 ,\n",
       "          0.8776034 ,  0.51794034, -0.19923325,  0.7941269 , -1.0626048 ,\n",
       "          0.29852623,  2.3518393 ,  1.3884263 ]], dtype=float32),\n",
       " array([[ 1.8467768 , -3.181657  , -2.3908632 , -3.9396677 ,  1.439638  ,\n",
       "          1.0042251 ,  0.5795422 ,  2.7432404 , -0.30616897, -1.1088398 ,\n",
       "         -0.5879993 ,  1.8715948 ,  1.1663908 ]], dtype=float32),\n",
       " array([[-1.8183749 , -3.8707242 , -3.015158  , -5.1157713 , -0.06951509,\n",
       "          0.09545629, -0.1420461 ,  0.03318963, -1.357401  , -1.2566441 ,\n",
       "         -2.2314034 , -1.580894  , -2.4689977 ]], dtype=float32),\n",
       " array([[-2.0169182 , -3.9415965 , -3.043245  , -4.613757  ,  1.1703074 ,\n",
       "          0.4444596 ,  0.14908391, -0.18686166, -0.9388158 , -1.2365404 ,\n",
       "         -1.5036104 ,  2.497409  ,  1.361447  ]], dtype=float32),\n",
       " array([[ 1.6740162 , -3.1453497 , -2.27187   , -3.9644744 ,  1.7245703 ,\n",
       "          1.0972068 ,  0.8094787 ,  2.7116132 ,  0.56441975, -0.9884969 ,\n",
       "          0.42479026,  1.8459234 ,  1.0564954 ]], dtype=float32),\n",
       " array([[-1.5190911 , -3.0448165 , -2.5330997 , -4.480361  ,  0.11275437,\n",
       "          0.08100008, -3.7748728 ,  0.58351946, -0.91193223, -0.8015778 ,\n",
       "         -1.2561055 , -2.1269245 , -2.9559994 ]], dtype=float32),\n",
       " array([[-1.0232258 , -2.8285205 , -2.2884693 , -4.2391577 ,  0.20383775,\n",
       "          0.23229146, -3.8352835 ,  0.8293031 , -0.63368523, -0.54878944,\n",
       "         -0.8302314 , -1.8548926 , -2.9868767 ]], dtype=float32),\n",
       " array([[-1.8192405 , -3.620225  , -2.8477652 , -4.618281  ,  0.798579  ,\n",
       "          0.24235809,  0.27027187, -0.13503112, -1.4067966 , -1.3019938 ,\n",
       "         -2.1798708 ,  0.63551384, -0.83641946]], dtype=float32),\n",
       " array([[-1.9960861 , -3.788248  , -2.9040356 , -4.0769567 ,  1.5698712 ,\n",
       "          0.89816505,  0.28471926, -0.23345022,  1.2042077 , -1.2474352 ,\n",
       "          0.73618734,  2.374698  ,  1.2679615 ]], dtype=float32),\n",
       " array([[-1.7922341 , -3.3761814 , -2.7735806 , -4.4147816 , -0.18179545,\n",
       "         -0.19221893, -4.0679116 ,  0.26024964, -1.0760404 , -0.99822456,\n",
       "         -1.7866894 , -2.3654509 , -3.0070016 ]], dtype=float32),\n",
       " array([[-1.3167932 , -2.9480917 , -2.528244  , -4.3589306 ,  0.1657353 ,\n",
       "          0.19168276, -3.9203029 ,  0.6215293 , -0.8066453 , -0.7519789 ,\n",
       "         -1.0125186 , -2.2214487 , -3.0011446 ]], dtype=float32),\n",
       " array([[-1.6761738 , -3.2770035 , -2.717614  , -4.763713  ,  0.17698354,\n",
       "          0.04644866,  0.2682456 ,  0.2448141 , -1.2115946 , -1.1694416 ,\n",
       "         -1.666273  , -0.77308804, -1.8311373 ]], dtype=float32),\n",
       " array([[-1.7144064 , -3.4891312 , -2.8571007 , -4.565092  ,  1.5152576 ,\n",
       "          0.63159853,  0.50220555,  0.04353432, -0.70149344, -1.0921133 ,\n",
       "         -1.2027838 ,  2.649514  ,  1.5778383 ]], dtype=float32),\n",
       " array([[-1.5163119 , -3.0212526 , -2.5523796 , -4.4912157 ,  0.11526126,\n",
       "          0.05301892, -3.7499287 ,  0.6447041 , -0.9408369 , -0.7962726 ,\n",
       "         -1.3053415 , -2.1262615 , -3.003888  ]], dtype=float32),\n",
       " array([[-1.5459423 , -3.1836402 , -2.614653  , -4.3616133 , -0.01964606,\n",
       "         -0.12913498, -3.9105282 ,  0.41281918, -1.0163542 , -0.911541  ,\n",
       "         -1.4720787 , -2.1799557 , -2.9064672 ]], dtype=float32),\n",
       " array([[-1.3247793 , -3.1883004 , -2.6384873 , -4.750232  ,  0.3349866 ,\n",
       "          0.2137433 ,  0.0366199 ,  0.48996457, -0.8863762 , -0.8533251 ,\n",
       "         -1.273259  , -1.0054681 , -2.0388687 ]], dtype=float32),\n",
       " array([[-1.6933483 , -3.7494795 , -2.9019318 , -4.2148213 ,  1.6038641 ,\n",
       "          0.8656291 ,  0.39667705,  0.21975146,  0.63683444, -1.0798745 ,\n",
       "          0.21696797,  2.7785363 ,  1.5191224 ]], dtype=float32),\n",
       " array([[ 1.8588618 , -3.040363  , -2.224708  , -3.8234847 ,  1.4321308 ,\n",
       "          1.072394  ,  0.505454  ,  2.5874872 , -0.31290388, -1.0537282 ,\n",
       "         -0.47854677,  1.9507641 ,  1.2500796 ]], dtype=float32),\n",
       " array([[-1.4033905 , -3.0275872 , -2.4686728 , -4.4005814 ,  0.13956615,\n",
       "          0.11816449, -3.7908967 ,  0.67955655, -0.89115345, -0.7296546 ,\n",
       "         -1.1535425 , -2.204365  , -3.0797281 ]], dtype=float32),\n",
       " array([[-1.5730151 , -3.2904031 , -2.625291  , -4.508358  ,  0.9524611 ,\n",
       "          0.24741739,  0.48084214,  0.2664436 , -1.2356261 , -1.0447959 ,\n",
       "         -1.6389465 ,  0.6044174 , -0.79113185]], dtype=float32),\n",
       " array([[-1.8192407e+00, -3.5564756e+00, -2.8844583e+00, -4.6954012e+00,\n",
       "         -1.9000778e-01, -6.9446117e-04, -4.1143074e+00,  2.4750236e-01,\n",
       "         -1.0941316e+00, -1.0306036e+00, -1.7168525e+00, -2.3602340e+00,\n",
       "         -2.9999638e+00]], dtype=float32),\n",
       " array([[-1.3470005 , -3.5103095 , -2.591318  , -4.060887  ,  1.5663762 ,\n",
       "          1.0323611 ,  0.7258173 ,  0.34742892,  1.2488971 , -1.0616269 ,\n",
       "          0.8607543 ,  2.3454208 ,  1.5020705 ]], dtype=float32),\n",
       " array([[-1.843228  , -3.6446567 , -3.0617983 , -4.9880533 ,  0.41688317,\n",
       "          0.04914667,  0.13135588,  0.35695726, -1.0289652 , -1.084791  ,\n",
       "         -1.6890496 , -0.7713155 , -2.0652013 ]], dtype=float32),\n",
       " array([[-1.6043308 , -3.5535176 , -2.8250566 , -4.7454786 ,  0.6185296 ,\n",
       "          0.52654237, -0.03294128,  0.2787077 , -1.0297946 , -1.111386  ,\n",
       "         -1.4941992 ,  2.4212325 ,  1.3546796 ]], dtype=float32),\n",
       " array([[-1.8988459 , -3.5532033 , -3.0988803 , -4.2852335 ,  0.22301969,\n",
       "          0.93445444, -2.4265108 ,  0.02198781, -1.1919531 , -1.1843783 ,\n",
       "         -2.3728225 , -0.39193907, -1.2562695 ]], dtype=float32),\n",
       " array([[-1.8909823 , -3.2212737 , -2.8244288 , -4.359262  , -0.09811286,\n",
       "         -0.34014764, -3.9127526 ,  0.00666321, -1.1665123 , -1.0125873 ,\n",
       "         -2.5242586 , -2.0840003 , -2.8120594 ]], dtype=float32),\n",
       " array([[-1.7720637 , -3.5244586 , -2.9239767 , -4.3039794 ,  1.435123  ,\n",
       "          1.0085915 ,  0.85451716,  0.05206718, -0.7492911 , -1.1329811 ,\n",
       "         -1.2966148 ,  2.7988336 ,  1.6832019 ]], dtype=float32),\n",
       " array([[-1.8084527 , -3.8286173 , -2.9000626 , -4.7251015 ,  0.8297488 ,\n",
       "          0.39162722,  0.29416636,  0.08031915, -1.322349  , -1.2758766 ,\n",
       "         -1.8018389 ,  2.489255  ,  1.4735637 ]], dtype=float32),\n",
       " array([[-1.5096285 , -3.0447266 , -2.4953575 , -4.416686  ,  0.06716377,\n",
       "         -0.03198251, -3.7843826 ,  0.6194231 , -0.9227293 , -0.7945375 ,\n",
       "         -1.2642038 , -1.9549552 , -2.912292  ]], dtype=float32),\n",
       " array([[-1.5520502 , -3.175116  , -2.65728   , -4.353153  ,  0.16948786,\n",
       "          0.08726842, -3.7131662 ,  0.43588686, -0.8110212 , -0.7723081 ,\n",
       "         -1.3522167 , -2.207173  , -2.918354  ]], dtype=float32),\n",
       " array([[-1.9658511 , -3.968943  , -3.2433567 , -5.1697226 ,  0.43456268,\n",
       "          0.23593405, -2.3979416 ,  0.37323585, -1.0539948 , -1.2097496 ,\n",
       "         -1.5605234 ,  1.734733  ,  0.47069925]], dtype=float32),\n",
       " array([[-1.9689006 , -3.2950659 , -2.7624338 , -4.250358  , -0.20012945,\n",
       "         -0.39012587, -4.0816474 ,  0.0162035 , -1.2327874 , -1.0456623 ,\n",
       "         -2.5775    , -2.364371  , -2.9794188 ]], dtype=float32),\n",
       " array([[-1.074156  , -2.866223  , -2.2942436 , -4.2564673 ,  0.21862581,\n",
       "          0.22960612, -3.855114  ,  0.8395806 , -0.68198615, -0.5732052 ,\n",
       "         -0.84968686, -1.8929679 , -3.0235786 ]], dtype=float32),\n",
       " array([[-2.1021154 , -2.987613  , -2.6787329 , -3.937517  ,  1.6184363 ,\n",
       "          0.53729904,  0.5441299 , -0.44544435,  0.5675813 , -0.9535713 ,\n",
       "         -0.4265976 ,  2.2458875 ,  1.302727  ]], dtype=float32),\n",
       " array([[ 2.5218737 , -2.2018144 , -1.2392237 , -3.760578  ,  1.9041128 ,\n",
       "          1.5139954 ,  1.7272348 ,  2.953275  ,  1.7873523 , -0.51351917,\n",
       "          1.5354744 ,  2.2963912 ,  0.82565856]], dtype=float32),\n",
       " array([[-1.7351229 , -3.8921616 , -3.1216009 , -4.34199   ,  0.09047463,\n",
       "          0.6528065 , -4.115655  , -0.10777048, -0.9780774 , -1.0122515 ,\n",
       "         -1.8212605 , -2.7598555 , -2.889773  ]], dtype=float32),\n",
       " array([[-1.8224102 , -2.9611518 , -2.6089907 , -4.1679296 , -0.02325735,\n",
       "         -0.3151858 , -3.721216  ,  0.21531446, -1.163309  , -0.9323476 ,\n",
       "         -2.4069438 , -2.0689662 , -2.9210944 ]], dtype=float32),\n",
       " array([[-1.6037022 , -3.2107942 , -2.6585073 , -4.45612   , -0.01638097,\n",
       "         -0.12412254, -3.9077485 ,  0.3827255 , -1.0512167 , -0.944838  ,\n",
       "         -1.5203432 , -2.3016164 , -2.9276915 ]], dtype=float32),\n",
       " array([[-1.6164738 , -3.1943717 , -2.7661242 , -4.467344  ,  0.08252773,\n",
       "         -0.07143788, -3.6758835 ,  0.4259878 , -0.8566307 , -0.8900754 ,\n",
       "         -1.3821843 , -2.2066572 , -2.8812094 ]], dtype=float32),\n",
       " array([[-1.875568  , -3.1910284 , -2.7094479 , -4.2915425 , -0.08406515,\n",
       "         -0.37812048, -3.8070662 ,  0.11780404, -1.190219  , -0.98665994,\n",
       "         -2.4803886 , -2.0065055 , -2.80909   ]], dtype=float32),\n",
       " array([[-1.5505586 , -3.1422803 , -2.5872254 , -4.4655457 ,  0.05566824,\n",
       "         -0.10588927, -3.8481145 ,  0.49069536, -0.96180975, -0.90216535,\n",
       "         -1.3121264 , -2.2374418 , -2.9313855 ]], dtype=float32),\n",
       " array([[-1.4887811 , -3.0228174 , -2.5371404 , -4.4265385 ,  0.13805348,\n",
       "          0.0784367 , -3.7531013 ,  0.57879597, -0.8890398 , -0.7599295 ,\n",
       "         -1.1787673 , -2.144035  , -3.0002735 ]], dtype=float32),\n",
       " array([[-1.5074896 , -3.1103137 , -2.5747685 , -4.474166  ,  0.06743301,\n",
       "         -0.05522103, -3.73505   ,  0.55963415, -0.9669034 , -0.89301723,\n",
       "         -1.2957661 , -2.1315548 , -2.887139  ]], dtype=float32),\n",
       " array([[-1.6336871 , -3.265134  , -2.6375525 , -4.5123186 , -0.08516802,\n",
       "         -0.07349019, -3.965477  ,  0.47620356, -0.92387563, -0.9395986 ,\n",
       "         -1.5032972 , -2.1110554 , -2.9793594 ]], dtype=float32),\n",
       " array([[-1.5511369 , -3.168633  , -2.6300516 , -4.5436974 ,  0.03304886,\n",
       "         -0.05260112, -3.9103513 ,  0.4934473 , -1.0037081 , -0.9053061 ,\n",
       "         -1.3912412 , -2.2227473 , -2.9243832 ]], dtype=float32),\n",
       " array([[-1.7733115 , -3.560908  , -2.9807546 , -4.7160735 ,  0.76486   ,\n",
       "          0.4724724 , -1.5953898 ,  0.56790733,  0.04458208, -1.0178195 ,\n",
       "         -0.27261224,  2.2943866 ,  0.8026534 ]], dtype=float32),\n",
       " array([[-1.4422511 , -2.9863794 , -2.4862347 , -4.4331293 ,  0.13280717,\n",
       "          0.07378914, -3.7429495 ,  0.59783095, -0.9093718 , -0.76564246,\n",
       "         -1.2040256 , -2.0789416 , -2.9713485 ]], dtype=float32),\n",
       " array([[-1.9659476 , -3.648315  , -2.9069061 , -4.490144  ,  1.5564954 ,\n",
       "          1.3564239 , -0.13111967,  0.03302262, -0.7376502 , -1.1424612 ,\n",
       "         -1.4400308 ,  2.4683912 ,  1.4222419 ]], dtype=float32),\n",
       " array([[-1.5266153 , -3.1597216 , -2.5848265 , -4.47499   ,  0.02108782,\n",
       "         -0.10486508, -3.8482692 ,  0.4542457 , -1.0025818 , -0.90561795,\n",
       "         -1.3600994 , -2.2603729 , -2.9397135 ]], dtype=float32),\n",
       " array([[-1.4688095 , -3.1610453 , -2.5857527 , -4.771851  ,  0.28736886,\n",
       "          0.20054907,  0.252725  ,  0.38814652, -0.9648319 , -0.94122845,\n",
       "         -1.4661893 , -0.90782046, -1.8582988 ]], dtype=float32),\n",
       " array([[-1.4613119 , -3.2458692 , -2.477716  , -3.7383964 ,  1.8405561 ,\n",
       "          1.8156493 ,  0.579765  ,  0.4293707 ,  1.1647688 , -0.88504016,\n",
       "          1.1112255 ,  2.353505  ,  1.3873748 ]], dtype=float32),\n",
       " array([[-1.6181813 , -3.2409377 , -2.6946461 , -4.4785843 , -0.01930926,\n",
       "         -0.15902346, -3.9454908 ,  0.36810982, -1.0475943 , -0.9472607 ,\n",
       "         -1.4959043 , -2.2951481 , -2.9151764 ]], dtype=float32),\n",
       " array([[-1.8035859e+00, -3.4156611e+00, -2.7446351e+00, -4.5011911e+00,\n",
       "          5.8678889e-01, -9.4454736e-04, -9.9648595e-02, -1.1897414e-01,\n",
       "         -1.1509589e+00, -1.2412667e+00, -2.0970879e+00,  1.9185106e+00,\n",
       "          1.0850370e+00]], dtype=float32),\n",
       " array([[-1.544618  , -3.0837877 , -2.553907  , -4.4803414 ,  0.07558509,\n",
       "         -0.03088902, -3.7701628 ,  0.573837  , -0.987903  , -0.87672865,\n",
       "         -1.321911  , -2.1241534 , -2.8969352 ]], dtype=float32),\n",
       " array([[-1.6756879 , -3.32173   , -2.707556  , -4.5438533 , -0.06395794,\n",
       "         -0.17287078, -3.971198  ,  0.35342753, -1.0533857 , -0.9950582 ,\n",
       "         -1.5375198 , -2.22668   , -2.9420478 ]], dtype=float32),\n",
       " array([[-1.4743563 , -3.0341737 , -2.5404472 , -4.4247503 ,  0.13358454,\n",
       "          0.09085611, -3.79625   ,  0.62898016, -0.8832693 , -0.76485914,\n",
       "         -1.1506847 , -2.19643   , -3.0328028 ]], dtype=float32),\n",
       " array([[-1.8353314 , -3.6588175 , -2.9235775 , -4.3783402 , -0.10865925,\n",
       "          0.09562805, -4.014669  , -0.05717041, -1.0471097 , -1.1245574 ,\n",
       "         -1.8527832 , -2.2730842 , -2.7181153 ]], dtype=float32),\n",
       " array([[-1.6440746 , -3.4051611 , -2.77613   , -4.59385   , -0.13574031,\n",
       "         -0.01675562, -4.16997   ,  0.45126396, -0.99670786, -0.96543765,\n",
       "         -1.484215  , -2.2836483 , -3.0524712 ]], dtype=float32),\n",
       " array([[-1.892387  , -3.90166   , -3.0427809 , -4.7621183 ,  0.3249547 ,\n",
       "          0.3221938 , -0.42174312, -0.0702581 , -1.1062626 , -1.368555  ,\n",
       "         -1.7671591 ,  1.628995  ,  0.7513224 ]], dtype=float32),\n",
       " array([[-1.5772818 , -3.2156909 , -2.64436   , -4.374202  , -0.09513886,\n",
       "         -0.17322773, -3.9698951 ,  0.36243093, -1.0149492 , -0.9059692 ,\n",
       "         -1.5365018 , -2.2573962 , -2.9447384 ]], dtype=float32),\n",
       " array([[-1.7659642 , -3.488523  , -2.9071221 , -4.8890514 ,  0.11987678,\n",
       "          0.07147209, -3.8359694 ,  0.39741397, -1.1491691 , -1.0215812 ,\n",
       "         -1.6767331 , -1.3064502 , -2.1949127 ]], dtype=float32),\n",
       " array([[-1.535921  , -3.2245452 , -2.6981597 , -4.4347897 ,  0.29403785,\n",
       "          1.615759  , -1.8330011 ,  0.57530135, -0.9485502 , -0.8346452 ,\n",
       "         -1.3403417 , -1.5426285 , -2.4883425 ]], dtype=float32),\n",
       " array([[-1.7383547 , -3.8231926 , -2.9671476 , -4.943974  , -0.30637076,\n",
       "         -0.24433634, -4.427199  ,  0.07171416, -1.3992847 , -1.1828338 ,\n",
       "         -2.2786572 , -2.6208131 , -3.0582073 ]], dtype=float32),\n",
       " array([[-1.9770643 , -4.0056453 , -3.07664   , -4.6527176 ,  1.1576397 ,\n",
       "          0.5322035 ,  0.31904227, -0.20493415, -1.0289066 , -1.415156  ,\n",
       "         -1.708811  ,  2.4674506 ,  1.3727345 ]], dtype=float32),\n",
       " array([[-1.7474843 , -3.1995955 , -2.8432584 , -4.4873133 ,  0.1996901 ,\n",
       "          0.07791214, -3.6837468 ,  0.42231625, -0.84121794, -0.8615297 ,\n",
       "         -1.326478  , -2.2663362 , -2.927797  ]], dtype=float32),\n",
       " array([[-1.0960234 , -2.9537897 , -2.4333506 , -4.392066  ,  0.41514984,\n",
       "          1.4980385 , -1.852426  ,  0.7764172 , -0.7717349 , -0.74691314,\n",
       "         -1.1549195 , -1.4065267 , -2.3386655 ]], dtype=float32),\n",
       " array([[-1.7603058 , -3.7093608 , -2.9158092 , -4.6501627 , -0.27822   ,\n",
       "         -0.15924978, -4.2784705 ,  0.0884926 , -1.1720666 , -1.0915517 ,\n",
       "         -2.0841503 , -2.381357  , -3.0005686 ]], dtype=float32),\n",
       " array([[-1.7038404 , -3.4970152 , -2.4972692 , -4.421684  ,  1.6040609 ,\n",
       "          0.2474494 ,  0.20408186, -0.06770482, -0.8951176 , -1.0320865 ,\n",
       "         -1.4663261 ,  2.1876788 , -0.23735105]], dtype=float32),\n",
       " array([[-1.681967  , -3.4050713 , -2.68337   , -4.146237  ,  1.5560803 ,\n",
       "          1.8761446 ,  0.24824649,  0.2414182 , -0.48963138, -1.0275592 ,\n",
       "         -0.9838241 ,  2.6323307 ,  1.500845  ]], dtype=float32),\n",
       " array([[-1.4271116 , -2.929414  , -2.460559  , -4.4081893 ,  0.15673059,\n",
       "          0.12388133, -3.73945   ,  0.6053075 , -0.79087955, -0.73020756,\n",
       "         -1.0492638 , -2.0765004 , -2.9802055 ]], dtype=float32),\n",
       " array([[-1.8710049 , -3.6729367 , -2.9650164 , -4.403063  , -0.10445411,\n",
       "          0.19069931, -4.2173157 , -0.07084196, -0.9310719 , -1.0745102 ,\n",
       "         -1.7446023 , -2.5574043 , -2.8813949 ]], dtype=float32),\n",
       " array([[ 1.8046352 , -3.0133584 , -2.15591   , -3.8620293 ,  1.4754924 ,\n",
       "          1.22233   ,  0.7366793 ,  2.7663317 ,  0.60845065, -0.96301895,\n",
       "          0.5083528 ,  1.8487995 ,  1.2245065 ]], dtype=float32),\n",
       " array([[-1.617648  , -3.206463  , -2.6446261 , -4.461734  ,  0.01403046,\n",
       "         -0.12788609, -3.8925533 ,  0.36923817, -1.0066853 , -0.92213815,\n",
       "         -1.4798716 , -2.3030107 , -2.9268768 ]], dtype=float32),\n",
       " array([[-1.5804017 , -3.2074344 , -2.6518416 , -4.465045  , -0.02335794,\n",
       "         -0.14809278, -3.8754363 ,  0.42527106, -1.0112649 , -0.92597896,\n",
       "         -1.4435714 , -2.1695306 , -2.8891442 ]], dtype=float32),\n",
       " array([[-1.5659668 , -3.3852768 , -2.6985278 , -4.9344316 ,  0.21302909,\n",
       "          0.22372514,  0.1656594 ,  0.2989372 , -1.1158199 , -1.0369234 ,\n",
       "         -1.710124  , -1.0089136 , -2.0221765 ]], dtype=float32),\n",
       " array([[-1.3594044 , -2.9883535 , -2.5659692 , -4.3700066 ,  0.15339887,\n",
       "          0.16380757, -3.9547744 ,  0.5902359 , -0.8187157 , -0.7687053 ,\n",
       "         -1.0579326 , -2.2255757 , -2.9968233 ]], dtype=float32),\n",
       " array([[-1.524227  , -3.31088   , -2.7353857 , -4.5221796 ,  0.31758267,\n",
       "          1.6509507 , -1.8546002 ,  0.5343071 , -0.9781701 , -0.8474784 ,\n",
       "         -1.393247  , -1.5312257 , -2.5004954 ]], dtype=float32),\n",
       " array([[-2.0470507 , -4.0330048 , -3.3905344 , -4.963917  ,  0.5525135 ,\n",
       "          1.7156513 , -1.2728095 ,  0.19964495, -1.1173271 , -1.1646682 ,\n",
       "         -1.6553684 ,  1.9707555 ,  0.867257  ]], dtype=float32),\n",
       " array([[-1.4681109 , -2.982344  , -2.5099804 , -4.409193  ,  0.15000573,\n",
       "          0.05802795, -3.7587004 ,  0.55109704, -0.8091804 , -0.75285953,\n",
       "         -1.0802585 , -2.0623996 , -2.9574332 ]], dtype=float32),\n",
       " array([[-1.3554925 , -2.938249  , -2.6016788 , -4.349208  ,  0.11525209,\n",
       "          0.6125908 , -3.4260952 ,  0.6302449 , -0.8265004 , -0.7228555 ,\n",
       "         -1.0186516 , -2.267962  , -3.1014264 ]], dtype=float32),\n",
       " array([[-1.5899243 , -3.3151658 , -2.7249725 , -4.196637  ,  1.4010701 ,\n",
       "          0.7131732 ,  0.568636  ,  0.22979845,  0.98635966, -0.9296923 ,\n",
       "          0.65938395,  2.534346  ,  1.4512929 ]], dtype=float32),\n",
       " array([[-1.7045791 , -2.8281515 , -2.5364008 , -4.1657257 ,  0.07249815,\n",
       "         -0.26615444, -3.505539  ,  0.32383144, -1.0543875 , -0.87194586,\n",
       "         -2.1402373 , -1.715938  , -2.7068105 ]], dtype=float32),\n",
       " array([[ 1.7060426 , -3.9156644 , -3.1285791 , -4.5633736 ,  1.026037  ,\n",
       "          0.7475195 ,  0.08437192,  2.4033618 , -0.88580257, -1.418022  ,\n",
       "         -1.3251208 ,  1.8762524 ,  1.0793719 ]], dtype=float32),\n",
       " array([[-1.5784992 , -3.5247662 , -2.8303227 , -4.8531995 ,  0.78246135,\n",
       "          0.358971  , -0.03167975,  0.29603916, -1.0598513 , -1.093015  ,\n",
       "         -1.4518355 ,  2.1766832 ,  1.1505871 ]], dtype=float32),\n",
       " array([[-1.3516927 , -2.973055  , -2.5461516 , -4.370611  ,  0.14165664,\n",
       "          0.12770289, -3.9473577 ,  0.6180086 , -0.8031551 , -0.75535995,\n",
       "         -1.017893  , -2.2363036 , -3.009361  ]], dtype=float32),\n",
       " array([[-2.036938  , -3.9002433 , -3.2459836 , -5.348406  ,  0.21937463,\n",
       "          0.26514387, -2.4850757 ,  0.25241336, -1.2697133 , -1.2485306 ,\n",
       "         -1.7179672 ,  0.9056809 , -0.13765787]], dtype=float32),\n",
       " array([[-1.4864188 , -3.0195081 , -2.5176136 , -4.454274  ,  0.13833356,\n",
       "          0.04432475, -3.757586  ,  0.6098486 , -0.89054656, -0.7897493 ,\n",
       "         -1.1857725 , -2.2197304 , -3.045212  ]], dtype=float32),\n",
       " array([[-1.4289272 , -3.371987  , -2.807839  , -4.5348034 ,  0.01446924,\n",
       "          0.1028735 , -4.001235  ,  0.46724787, -1.093165  , -0.94338006,\n",
       "         -1.5566008 , -1.8963484 , -2.7223845 ]], dtype=float32),\n",
       " array([[-1.7534994e+00, -3.1727862e+00, -2.6422167e+00, -4.6442356e+00,\n",
       "          1.6901704e+00, -1.2993848e-01,  5.0948697e-01,  1.5227665e-01,\n",
       "         -1.1044036e+00, -9.5348531e-01, -2.1771259e+00,  2.5555701e+00,\n",
       "         -2.7237460e-04]], dtype=float32),\n",
       " array([[-1.496927  , -3.0977666 , -2.5620408 , -4.450186  ,  0.03598662,\n",
       "         -0.08741938, -3.8176258 ,  0.54604584, -0.91158515, -0.8830729 ,\n",
       "         -1.2480971 , -2.1594326 , -2.948277  ]], dtype=float32),\n",
       " array([[-1.4500809 , -3.184128  , -2.606009  , -4.2333317 ,  1.7484009 ,\n",
       "          1.083773  ,  0.8870536 ,  0.24081197,  0.9069596 , -0.9762767 ,\n",
       "          0.52042323,  2.6568954 ,  1.611856  ]], dtype=float32),\n",
       " array([[-1.5727673 , -3.22076   , -2.6364598 , -4.54269   ,  0.02031595,\n",
       "         -0.20244643, -3.9149146 ,  0.33347985, -1.1699045 , -0.97294694,\n",
       "         -1.6229308 , -2.4319878 , -3.0204315 ]], dtype=float32),\n",
       " array([[-1.9587168 , -3.5675347 , -2.8402438 , -4.316246  ,  1.5267599 ,\n",
       "          0.62131387,  0.48222476, -0.3480707 , -0.71020186, -1.1651729 ,\n",
       "         -1.3011369 ,  2.6008065 ,  1.528123  ]], dtype=float32),\n",
       " array([[-1.4292617 , -2.8932164 , -2.5170403 , -4.235137  ,  0.22990635,\n",
       "          1.4068952 , -2.2559793 ,  0.6655634 , -0.7931224 , -0.73476905,\n",
       "         -1.0943528 , -1.9107827 , -2.7967935 ]], dtype=float32),\n",
       " array([[-1.5205168 , -3.1206305 , -2.5714235 , -4.4623537 ,  0.05098913,\n",
       "         -0.07549937, -3.8193707 ,  0.5662965 , -0.94635856, -0.89882666,\n",
       "         -1.2960608 , -2.1738727 , -2.9209418 ]], dtype=float32),\n",
       " array([[-1.3643883 , -2.9665196 , -2.3729963 , -4.287394  ,  0.21518975,\n",
       "         -0.20906207, -3.4621456 ,  0.6642419 , -0.8103433 , -0.7440185 ,\n",
       "         -1.5358212 ,  1.7008252 ,  0.65394336]], dtype=float32),\n",
       " array([[-1.7015587 , -3.761892  , -2.9850507 , -4.417207  , -0.14019465,\n",
       "          0.14465664, -4.2313285 , -0.09415243, -1.0489569 , -1.1319882 ,\n",
       "         -1.8955961 , -2.5504227 , -2.760942  ]], dtype=float32),\n",
       " array([[-1.54489   , -3.150873  , -2.5995703 , -4.455948  ,  0.0080004 ,\n",
       "         -0.10454386, -3.867477  ,  0.44195774, -0.99154776, -0.9158769 ,\n",
       "         -1.3650638 , -2.1513846 , -2.8886368 ]], dtype=float32),\n",
       " array([[-1.8848902 , -3.6651776 , -3.15634   , -4.936034  ,  0.46209088,\n",
       "         -0.04102065,  0.09079155,  0.29491204, -1.0178653 , -1.0161059 ,\n",
       "         -1.7018198 , -0.88876104, -2.215652  ]], dtype=float32),\n",
       " array([[-1.668527  , -3.0939543 , -2.7630067 , -3.7950754 ,  0.05031308,\n",
       "         -0.4398315 , -3.5387008 ,  0.2787546 , -0.25516152, -0.7879036 ,\n",
       "         -1.6976925 , -1.5676694 , -2.427452  ]], dtype=float32),\n",
       " array([[-1.7076476 , -3.1657588 , -2.8339047 , -4.5212307 ,  0.16568696,\n",
       "          0.06851562, -3.54011   ,  0.49861792, -0.8489894 , -0.8687008 ,\n",
       "         -1.3199859 , -2.263118  , -2.9608607 ]], dtype=float32),\n",
       " array([[-1.7801236 , -3.7672727 , -2.7974868 , -4.6872807 ,  0.88570213,\n",
       "          0.33554727,  0.08220491, -0.05775847, -1.137802  , -1.2038151 ,\n",
       "         -1.6000375 ,  2.1612175 ,  1.2092414 ]], dtype=float32),\n",
       " array([[-1.6263579 , -3.7094653 , -2.9870076 , -4.3796597 , -0.11318076,\n",
       "          0.1217413 , -4.2475495 , -0.04272764, -1.0526319 , -1.1046381 ,\n",
       "         -1.8501279 , -2.418085  , -2.729763  ]], dtype=float32),\n",
       " array([[-1.7809232 , -3.3261333 , -2.6022596 , -4.061803  ,  1.7475632 ,\n",
       "          1.017486  ,  0.50201565, -0.09012739,  1.1306831 , -1.0366951 ,\n",
       "          0.7257295 ,  2.369146  ,  1.4496738 ]], dtype=float32),\n",
       " array([[-1.6455431 , -3.2610734 , -2.6735113 , -4.4945526 , -0.01669712,\n",
       "         -0.14282161, -3.9048114 ,  0.31347764, -1.0683107 , -0.96579915,\n",
       "         -1.5285978 , -2.3280408 , -2.9233909 ]], dtype=float32),\n",
       " array([[-1.8846188 , -3.419359  , -2.6294637 , -3.8674204 ,  1.754499  ,\n",
       "          0.9230425 ,  0.53453845, -0.18315797,  1.36073   , -0.96709853,\n",
       "          0.962027  ,  2.2321138 ,  1.3276114 ]], dtype=float32),\n",
       " array([[-1.6616796 , -3.274411  , -2.5873752 , -4.813875  ,  0.28322726,\n",
       "          0.04409694,  0.38640764,  0.01750243, -1.3429043 , -1.1900314 ,\n",
       "         -1.7339646 , -1.0604289 , -1.9083277 ]], dtype=float32),\n",
       " array([[-1.4402772 , -2.97708   , -2.4976149 , -4.4328017 ,  0.14905733,\n",
       "          0.09679552, -3.756951  ,  0.586145  , -0.8038706 , -0.74958724,\n",
       "         -1.070299  , -2.058989  , -2.9671347 ]], dtype=float32),\n",
       " array([[-1.6347324 , -3.3471258 , -2.589422  , -4.511072  ,  1.4882493 ,\n",
       "          0.15361738,  0.39083117,  0.17391802, -0.95450586, -0.9957312 ,\n",
       "         -1.4949049 ,  2.1578615 , -0.32752857]], dtype=float32),\n",
       " array([[-1.3459691 , -2.959799  , -2.558717  , -4.367628  ,  0.17493406,\n",
       "          0.17335209, -3.914716  ,  0.6132568 , -0.8060283 , -0.7526744 ,\n",
       "         -1.004925  , -2.2475717 , -3.0005002 ]], dtype=float32),\n",
       " array([[-1.8325802 , -3.6097116 , -2.880353  , -4.5826817 ,  1.1229994 ,\n",
       "          0.45553306,  0.40208328,  0.12575991, -1.3358936 , -1.1464871 ,\n",
       "         -1.9377689 ,  1.3084168 , -0.5992423 ]], dtype=float32),\n",
       " array([[-1.5215245 , -3.119281  , -2.5872257 , -4.4845657 ,  0.05437673,\n",
       "         -0.06445116, -3.8045573 ,  0.56427425, -0.95020694, -0.88886195,\n",
       "         -1.2963544 , -2.168226  , -2.9253767 ]], dtype=float32),\n",
       " array([[-1.833268  , -3.4767916 , -2.8337958 , -4.2618704 ,  1.427254  ,\n",
       "          0.5687636 ,  0.427952  , -0.13554563, -0.697449  , -1.1160787 ,\n",
       "         -1.3072637 ,  2.4493918 ,  1.4541051 ]], dtype=float32),\n",
       " array([[-1.8758272 , -4.2523317 , -3.173636  , -4.505969  , -0.07324019,\n",
       "          0.58473945, -4.4489293 , -0.28010035, -1.1651603 , -1.1053938 ,\n",
       "         -2.092083  , -2.9489765 , -3.0605218 ]], dtype=float32),\n",
       " array([[-2.00274   , -3.3249507 , -2.842975  , -4.3626976 , -0.17894188,\n",
       "         -0.36724538, -3.9918876 , -0.01869567, -1.2598723 , -1.1014266 ,\n",
       "         -2.6454844 , -2.2707193 , -2.897419  ]], dtype=float32),\n",
       " array([[-1.3444535 , -2.959204  , -2.5342038 , -4.3484178 ,  0.15252557,\n",
       "          0.17342576, -3.907367  ,  0.58899266, -0.7882534 , -0.7519844 ,\n",
       "         -1.0006357 , -2.214978  , -3.0040824 ]], dtype=float32),\n",
       " array([[-2.028991  , -4.2448535 , -3.2278152 , -4.901779  ,  0.5380148 ,\n",
       "          0.20376301, -0.12556265, -0.25245953, -1.2927701 , -1.4969544 ,\n",
       "         -1.9217412 ,  1.6689863 ,  0.83375156]], dtype=float32),\n",
       " array([[-1.9271606 , -3.4911788 , -2.6995423 , -3.948229  ,  1.6893811 ,\n",
       "          0.9466264 ,  0.44597185, -0.25174505,  1.1851798 , -1.0706217 ,\n",
       "          0.7116206 ,  2.187732  ,  1.3085363 ]], dtype=float32),\n",
       " array([[-2.008954  , -3.4081204 , -2.8387108 , -4.3416157 ,  1.6145359 ,\n",
       "          1.4068116 , -0.0610581 ,  0.16101885,  0.4841805 , -0.9908648 ,\n",
       "         -0.05710054,  2.5208275 ,  1.5605403 ]], dtype=float32),\n",
       " array([[-1.4756209 , -3.0293815 , -2.5087495 , -4.4424696 ,  0.14834034,\n",
       "          0.06967306, -3.7555847 ,  0.59638184, -0.91223955, -0.7867667 ,\n",
       "         -1.2241603 , -2.1122859 , -2.9609303 ]], dtype=float32),\n",
       " array([[-1.8254246 , -3.5230005 , -2.8068562 , -4.498424  , -0.21388647,\n",
       "         -0.2623294 , -4.306576  ,  0.09393025, -1.162579  , -1.0903466 ,\n",
       "         -1.9379551 , -2.3973944 , -2.847913  ]], dtype=float32),\n",
       " array([[-1.7876667 , -3.5652676 , -2.9172912 , -4.618033  , -0.21921021,\n",
       "         -0.1905182 , -4.2542267 ,  0.18673076, -1.1661389 , -1.0933857 ,\n",
       "         -1.853678  , -2.3329816 , -2.8881361 ]], dtype=float32),\n",
       " array([[-1.1689531 , -2.8910167 , -2.206835  , -4.311552  ,  0.21235284,\n",
       "          0.15028787, -3.6128523 ,  0.83702   , -0.7304435 , -0.61276776,\n",
       "         -0.97310144, -1.7916987 , -2.973052  ]], dtype=float32),\n",
       " array([[-1.694961  , -3.2913888 , -2.7276866 , -4.392047  , -0.11324234,\n",
       "         -0.12550321, -3.9639542 ,  0.2624457 , -1.0112629 , -0.9492292 ,\n",
       "         -1.625316  , -2.177012  , -2.8774834 ]], dtype=float32),\n",
       " array([[-1.0329481 , -3.1866877 , -2.464487  , -4.6273003 ,  0.23095882,\n",
       "          0.24225798,  0.56253946,  0.3022427 , -1.4406022 , -1.0805708 ,\n",
       "         -1.7058318 , -1.3282695 , -2.2804449 ]], dtype=float32),\n",
       " array([[-1.695952  , -3.4496515 , -2.7398622 , -4.5715594 , -0.11950167,\n",
       "         -0.13990015, -4.0467854 ,  0.37640205, -1.0502187 , -1.0345865 ,\n",
       "         -1.655492  , -2.2432725 , -2.9293978 ]], dtype=float32),\n",
       " array([[-1.7207094 , -3.3038185 , -2.6569893 , -4.555316  , -0.00849534,\n",
       "         -0.14846563, -3.5609257 ,  0.10683827, -1.1091515 , -1.0147889 ,\n",
       "         -1.6194888 , -2.1971865 , -2.790448  ]], dtype=float32),\n",
       " array([[-1.5449711 , -3.144404  , -2.5615444 , -4.443732  ,  0.05567189,\n",
       "         -0.02516212, -3.7111793 ,  0.48956698, -0.98134875, -0.88301396,\n",
       "         -1.3468719 , -2.007525  , -2.8894506 ]], dtype=float32),\n",
       " array([[-0.7082379 , -3.0173376 , -2.455452  , -4.295433  ,  2.1990757 ,\n",
       "          1.8802596 ,  1.8933933 ,  0.8947787 ,  1.8134329 , -0.79080194,\n",
       "          1.4453064 ,  2.4768796 ,  1.6148748 ]], dtype=float32),\n",
       " array([[ 1.4562725 , -3.7776947 , -2.8650532 , -4.0774574 ,  1.3106673 ,\n",
       "          0.9928819 ,  0.32393974,  2.361201  ,  0.5451883 , -1.3577505 ,\n",
       "          0.3149089 ,  1.872129  ,  1.0429727 ]], dtype=float32),\n",
       " array([[ 1.6037896 , -3.45721   , -2.514628  , -3.8709552 ,  1.5025125 ,\n",
       "          1.1068244 ,  0.53925824,  2.5825348 ,  0.57699263, -1.1085403 ,\n",
       "          0.3540093 ,  1.8017935 ,  1.1740277 ]], dtype=float32),\n",
       " array([[-1.6160281 , -3.269346  , -2.7022328 , -4.5012746 , -0.03188544,\n",
       "         -0.15974012, -3.9316678 ,  0.34375438, -1.0353296 , -0.9584219 ,\n",
       "         -1.5431012 , -2.2783387 , -2.9204144 ]], dtype=float32),\n",
       " array([[-1.6971562 , -3.2968976 , -2.737382  , -4.4956627 , -0.04062922,\n",
       "         -0.16626617, -3.9826307 ,  0.31864083, -1.053882  , -0.99309844,\n",
       "         -1.6029062 , -2.3153071 , -2.9509766 ]], dtype=float32),\n",
       " array([[-1.5884815 , -3.2225971 , -2.6808443 , -4.4615445 , -0.02549361,\n",
       "         -0.14689356, -3.933979  ,  0.37243128, -1.0245357 , -0.93951946,\n",
       "         -1.4671633 , -2.2504005 , -2.912193  ]], dtype=float32),\n",
       " array([[-1.5830656 , -3.277694  , -2.6827369 , -4.496598  , -0.02951015,\n",
       "         -0.13297799, -3.9031425 ,  0.38561976, -1.0189959 , -0.957136  ,\n",
       "         -1.5423769 , -2.1832492 , -2.8990254 ]], dtype=float32),\n",
       " array([[ 1.9339882, -3.0552638, -2.3171663, -4.010995 ,  1.42344  ,\n",
       "          1.1943998,  0.8340667,  2.8116412,  0.8837906, -1.0736862,\n",
       "          0.7778396,  1.8313107,  1.1104326]], dtype=float32),\n",
       " array([[-1.2449732 , -2.9954832 , -2.4119754 , -4.2120333 ,  0.08761214,\n",
       "         -0.1268703 , -3.6856291 ,  0.6286038 , -0.80882686, -0.7482434 ,\n",
       "         -1.2075661 , -1.9966917 , -2.9982262 ]], dtype=float32),\n",
       " array([[-2.0307229 , -3.9913845 , -3.1186154 , -4.7998834 ,  1.1002282 ,\n",
       "          0.53766   ,  0.11450025, -0.04027383, -1.0935266 , -1.3900411 ,\n",
       "         -1.8850905 ,  2.3161914 ,  0.8554889 ]], dtype=float32),\n",
       " array([[-1.7096791 , -3.4077775 , -2.724249  , -4.589201  , -0.11806952,\n",
       "         -0.02125842, -4.0638866 ,  0.27597943, -0.9593249 , -0.960985  ,\n",
       "         -1.5517758 , -2.2633722 , -3.0010445 ]], dtype=float32),\n",
       " array([[-1.7995902 , -3.4177182 , -2.8250704 , -4.482147  ,  1.3456087 ,\n",
       "          0.55406785,  0.4340307 , -0.04112258, -0.7724803 , -1.057483  ,\n",
       "         -1.2929523 ,  2.5546925 ,  1.5436038 ]], dtype=float32),\n",
       " array([[-1.5449475 , -3.1628537 , -2.6298614 , -4.40248   , -0.02490284,\n",
       "         -0.17606992, -3.8848424 ,  0.40054664, -0.9459439 , -0.9006353 ,\n",
       "         -1.3864366 , -2.2015166 , -2.889905  ]], dtype=float32),\n",
       " array([[-1.5561635 , -3.171981  , -2.602426  , -4.5025043 ,  0.0232827 ,\n",
       "         -0.06604701, -3.8495526 ,  0.47137985, -0.99252445, -0.92857236,\n",
       "         -1.3706595 , -2.1837811 , -2.9120111 ]], dtype=float32),\n",
       " array([[-1.4964858 , -3.1302722 , -2.5662518 , -4.447156  ,  0.0333085 ,\n",
       "         -0.08883055, -3.7908916 ,  0.52381414, -0.9817014 , -0.88986534,\n",
       "         -1.3270954 , -2.1222017 , -2.9211843 ]], dtype=float32),\n",
       " array([[-1.6339141 , -3.405988  , -2.8762596 , -4.5163    , -0.18832809,\n",
       "         -0.12984002, -4.084468  ,  0.28021246, -1.079492  , -1.0324771 ,\n",
       "         -1.7075051 , -2.2809317 , -2.8892255 ]], dtype=float32),\n",
       " array([[-2.0468388 , -4.0798564 , -3.1393876 , -4.837859  ,  0.64332193,\n",
       "          0.20689669, -0.0885087 , -0.22381508, -1.1741172 , -1.4509898 ,\n",
       "         -1.7873236 ,  1.9141359 ,  0.81170225]], dtype=float32),\n",
       " array([[-1.9874473 , -3.8924458 , -2.9985108 , -4.5394573 ,  1.4072899 ,\n",
       "          0.21310726,  0.2105416 , -0.04022658, -1.0892912 , -1.2690741 ,\n",
       "         -1.7765466 ,  2.0289433 , -0.30202088]], dtype=float32),\n",
       " array([[-1.3844951 , -3.0479207 , -2.606198  , -4.365739  ,  0.06768738,\n",
       "          0.06166877, -4.025135  ,  0.6093425 , -0.9010121 , -0.7778351 ,\n",
       "         -1.14934   , -2.2047298 , -3.0378845 ]], dtype=float32),\n",
       " array([[-1.5377846 , -3.921779  , -2.9597163 , -4.620737  ,  1.2704016 ,\n",
       "          0.5914844 ,  0.43065977,  0.17267294, -1.2513962 , -1.362574  ,\n",
       "         -1.9718486 ,  2.0861506 ,  0.5458422 ]], dtype=float32),\n",
       " array([[-1.0949785 , -2.8659246 , -2.4291244 , -4.026181  ,  1.2443792 ,\n",
       "          0.51703   ,  0.6177419 ,  0.30877933,  0.97892094, -0.8593119 ,\n",
       "          0.5755112 ,  0.9902538 , -0.5601827 ]], dtype=float32),\n",
       " array([[-1.503539  , -3.320059  , -2.7697346 , -4.171991  , -0.00746677,\n",
       "          0.16400376, -3.5231957 ,  0.3961166 , -0.66996914, -0.81516975,\n",
       "         -1.5590448 ,  1.1922426 ,  0.1480501 ]], dtype=float32),\n",
       " array([[-1.8154873 , -3.6725821 , -2.955212  , -4.2968807 , -0.02502575,\n",
       "          0.2538904 , -4.2103343 , -0.02902166, -0.84811544, -1.033791  ,\n",
       "         -1.6921719 , -2.5136511 , -2.8978577 ]], dtype=float32),\n",
       " array([[ 2.069613  , -3.1260026 , -2.3313231 , -3.8973603 ,  1.9072437 ,\n",
       "          0.74703526,  0.62140006,  2.7833457 , -0.21051739, -0.7697173 ,\n",
       "         -0.41863507,  2.2039292 , -0.02047066]], dtype=float32),\n",
       " ...]"
      ]
     },
     "execution_count": 50,
     "metadata": {},
     "output_type": "execute_result"
    }
   ],
   "source": [
    "pred_list"
   ]
  },
  {
   "cell_type": "code",
   "execution_count": 45,
   "metadata": {},
   "outputs": [
    {
     "data": {
      "text/plain": [
       "array([], dtype=float64)"
      ]
     },
     "execution_count": 45,
     "metadata": {},
     "output_type": "execute_result"
    }
   ],
   "source": [
    "np.array([])"
   ]
  },
  {
   "cell_type": "code",
   "execution_count": 40,
   "metadata": {},
   "outputs": [
    {
     "name": "stderr",
     "output_type": "stream",
     "text": [
      "ic| x.shape: torch.Size([1, 256])\n",
      "ic| x.shape: torch.Size([1, 13])\n"
     ]
    }
   ],
   "source": [
    "x = model(test1)"
   ]
  },
  {
   "cell_type": "code",
   "execution_count": 42,
   "metadata": {},
   "outputs": [
    {
     "data": {
      "text/plain": [
       "array([[-1.650182  , -3.6394005 , -2.891024  , -4.777055  , -0.21504799,\n",
       "        -0.12163112, -4.207418  ,  0.13438919, -1.3048502 , -1.0899266 ,\n",
       "        -1.9990758 , -2.3461041 , -2.9359026 ]], dtype=float32)"
      ]
     },
     "execution_count": 42,
     "metadata": {},
     "output_type": "execute_result"
    }
   ],
   "source": []
  },
  {
   "cell_type": "markdown",
   "metadata": {},
   "source": [
    "### Sensitivity analysis"
   ]
  },
  {
   "cell_type": "code",
   "execution_count": null,
   "metadata": {},
   "outputs": [],
   "source": [
    "import numpy as np\n",
    "import matplotlib.pyplot as plt\n",
    "import torch\n",
    "\n",
    "# Assume `input_data` is your input tensor, and `feature_index` is the index of the feature to perturb\n",
    "perturbation_range = np.linspace(0, 1, num=20)  # Example range of perturbation\n",
    "original_value = input_data[0, feature_index].item()  # Store original value\n",
    "\n",
    "output_changes = np.zeros((len(perturbation_range), 13))  # Store changes in outputs\n",
    "\n",
    "for i, perturb in enumerate(perturbation_range):\n",
    "    input_data[0, feature_index] = original_value + perturb  # Perturb feature value\n",
    "    with torch.no_grad():\n",
    "        outputs = model(input_data).numpy()  # Get model output\n",
    "    output_changes[i] = outputs  # Record the change\n",
    "\n",
    "# Reset the perturbed feature to its original value\n",
    "input_data[0, feature_index] = original_value\n",
    "\n",
    "# Example analysis for one output\n",
    "plt.figure(figsize=(10, 6))\n",
    "for output_index in range(13):\n",
    "    plt.plot(perturbation_range, output_changes[:, output_index], label=f'Output {output_index+1}')\n",
    "\n",
    "plt.xlabel('Perturbation')\n",
    "plt.ylabel('Output Change')\n",
    "plt.title('Sensitivity Analysis of Feature X on All Outputs')\n",
    "plt.legend()\n",
    "plt.show()\n"
   ]
  },
  {
   "cell_type": "markdown",
   "metadata": {},
   "source": [
    "### SHAP"
   ]
  },
  {
   "cell_type": "code",
   "execution_count": null,
   "metadata": {},
   "outputs": [],
   "source": [
    "import torch\n",
    "import numpy as np\n",
    "\n",
    "def model_wrapper(x):\n",
    "    with torch.no_grad():\n",
    "        # Convert the input numpy array to a PyTorch tensor\n",
    "        tensor_x = torch.tensor(x, dtype=torch.float32)\n",
    "        # Make a prediction with your model\n",
    "        model_output = model(tensor_x)\n",
    "        # Convert the prediction back to a numpy array\n",
    "        return model_output.numpy()\n"
   ]
  },
  {
   "cell_type": "code",
   "execution_count": null,
   "metadata": {},
   "outputs": [],
   "source": [
    "import shap\n",
    "\n",
    "# Sample data for initialization (e.g., a batch from your training data)\n",
    "X_sample = np.array([...])  # Replace with your actual numpy array\n",
    "\n",
    "# Initialize the explainer\n",
    "explainer = shap.KernelExplainer(model_wrapper, X_sample)\n",
    "\n",
    "# Choose the instance you want to explain\n",
    "X_instance = np.array([...])  # Replace with the instance in numpy array format\n",
    "\n",
    "# Calculate SHAP values\n",
    "shap_values = explainer.shap_values(X_instance)\n",
    "\n",
    "# Plotting the SHAP values\n",
    "shap.initjs()  # Initializes JavaScript visualization in Jupyter Notebooks\n",
    "shap.force_plot(explainer.expected_value, shap_values, X_instance)\n"
   ]
  },
  {
   "cell_type": "markdown",
   "metadata": {},
   "source": [
    "### Counterfactual"
   ]
  },
  {
   "cell_type": "code",
   "execution_count": null,
   "metadata": {},
   "outputs": [],
   "source": [
    "### SHAP"
   ]
  },
  {
   "cell_type": "code",
   "execution_count": null,
   "metadata": {},
   "outputs": [],
   "source": []
  }
 ],
 "metadata": {
  "kernelspec": {
   "display_name": "ml-g1",
   "language": "python",
   "name": "python3"
  },
  "language_info": {
   "codemirror_mode": {
    "name": "ipython",
    "version": 3
   },
   "file_extension": ".py",
   "mimetype": "text/x-python",
   "name": "python",
   "nbconvert_exporter": "python",
   "pygments_lexer": "ipython3",
   "version": "3.9.15"
  },
  "orig_nbformat": 4
 },
 "nbformat": 4,
 "nbformat_minor": 2
}
