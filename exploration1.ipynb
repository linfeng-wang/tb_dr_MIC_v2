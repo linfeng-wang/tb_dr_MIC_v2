{
 "cells": [
  {
   "cell_type": "code",
   "execution_count": 1,
   "metadata": {},
   "outputs": [],
   "source": [
    "#env:ml-s7\n",
    "import numpy as np\n",
    "import pandas as pd\n",
    "# from icecream import ic\n",
    "import subprocess\n",
    "import json\n",
    "import os\n",
    "import plotly.graph_objects as go\n",
    "from matplotlib import pyplot as plt\n",
    "# import geopandas as gpd\n",
    "# from shapely.geometry import Polygon\n",
    "# from shapely.ops import cascaded_union, unary_union\n",
    "# from shapely import geometry\n",
    "# from geopy import distance\n",
    "%matplotlib inline\n",
    "import plotly.express as px \n",
    "from scipy import signal\n",
    "from tqdm import tqdm\n",
    "# from Bio import Phylo\n",
    "# import ete3\n",
    "import itertools\n",
    "import sklearn"
   ]
  },
  {
   "cell_type": "code",
   "execution_count": 2,
   "metadata": {},
   "outputs": [],
   "source": [
    "def value_counts_list(lst):\n",
    "    \"\"\"\n",
    "    Computes the frequency count of unique elements in a list and returns a dictionary, sorted by frequency count in\n",
    "    descending order.\n",
    "\n",
    "    Args:\n",
    "    - lst (list): List of elements\n",
    "\n",
    "    Returns:\n",
    "    - dict: Dictionary with unique elements as keys and their frequency count as values, sorted by frequency count\n",
    "    in descending order\n",
    "    \"\"\"\n",
    "    value_counts = {}\n",
    "    for item in lst:\n",
    "        if item in value_counts:\n",
    "            value_counts[item] += 1\n",
    "        else:\n",
    "            value_counts[item] = 1\n",
    "    sorted_value_counts = dict(sorted(value_counts.items(), key=lambda x: x[1], reverse=True))\n",
    "    return sorted_value_counts\n",
    "\n",
    "def print_full(x):\n",
    "    pd.set_option('display.max_rows', None)\n",
    "    pd.set_option('display.max_columns', None)\n",
    "    pd.set_option('display.width', 2000)\n",
    "    pd.set_option('display.float_format', '{:20,.2f}'.format)\n",
    "    pd.set_option('display.max_colwidth', None)\n",
    "    print(x)\n",
    "    pd.reset_option('display.max_rows')\n",
    "    pd.reset_option('display.max_columns')\n",
    "    pd.reset_option('display.width')\n",
    "    pd.reset_option('display.float_format')\n",
    "    pd.reset_option('display.max_colwidth')"
   ]
  },
  {
   "attachments": {},
   "cell_type": "markdown",
   "metadata": {},
   "source": [
    "# Data exploration the MIC"
   ]
  },
  {
   "cell_type": "code",
   "execution_count": 16,
   "metadata": {},
   "outputs": [],
   "source": [
    "df = pd.read_csv('CRyPTIC_reuse_table_20221019.csv')"
   ]
  },
  {
   "cell_type": "code",
   "execution_count": 17,
   "metadata": {},
   "outputs": [],
   "source": [
    "# for x in ['AMI_PHENOTYPE_QUALITY', 'BDQ_PHENOTYPE_QUALITY',\n",
    "#        'CFZ_PHENOTYPE_QUALITY', 'EMB_PHENOTYPE_QUALITY',\n",
    "#        'ETH_PHENOTYPE_QUALITY', 'INH_PHENOTYPE_QUALITY',\n",
    "#        'KAN_PHENOTYPE_QUALITY', 'LEV_PHENOTYPE_QUALITY',\n",
    "#        'LZD_PHENOTYPE_QUALITY', 'MXF_PHENOTYPE_QUALITY',\n",
    "#        'RIF_PHENOTYPE_QUALITY', 'RFB_PHENOTYPE_QUALITY']:\n",
    "#     print(df[x].value_counts())"
   ]
  },
  {
   "cell_type": "code",
   "execution_count": 18,
   "metadata": {},
   "outputs": [
    {
     "data": {
      "text/plain": [
       "AMI_BINARY_PHENOTYPE  BDQ_BINARY_PHENOTYPE  CFZ_BINARY_PHENOTYPE\n",
       "S                     S                     S                       10389\n",
       "R                     S                     S                         736\n",
       "S                     S                     R                         363\n",
       "R                     S                     R                          96\n",
       "S                     R                     S                          45\n",
       "                                            R                          38\n",
       "R                     R                     R                          16\n",
       "                                            S                           5\n",
       "dtype: int64"
      ]
     },
     "execution_count": 18,
     "metadata": {},
     "output_type": "execute_result"
    }
   ],
   "source": [
    "df[['AMI_BINARY_PHENOTYPE',\t'BDQ_BINARY_PHENOTYPE',\t'CFZ_BINARY_PHENOTYPE']].value_counts()"
   ]
  },
  {
   "cell_type": "code",
   "execution_count": 6,
   "metadata": {},
   "outputs": [],
   "source": [
    "# ar = df[['AMI_PHENOTYPE_QUALITY', 'BDQ_PHENOTYPE_QUALITY',\n",
    "#        'CFZ_PHENOTYPE_QUALITY', 'EMB_PHENOTYPE_QUALITY',\n",
    "#        'ETH_PHENOTYPE_QUALITY', 'INH_PHENOTYPE_QUALITY',\n",
    "#        'KAN_PHENOTYPE_QUALITY', 'LEV_PHENOTYPE_QUALITY',\n",
    "#        'LZD_PHENOTYPE_QUALITY', 'MXF_PHENOTYPE_QUALITY',\n",
    "#        'RIF_PHENOTYPE_QUALITY', 'RFB_PHENOTYPE_QUALITY']].values\n",
    "\n",
    "# list_2d = [element for row in ar for element in row]\n",
    "# print(value_counts_list(list_2d))"
   ]
  },
  {
   "cell_type": "code",
   "execution_count": 7,
   "metadata": {},
   "outputs": [],
   "source": [
    "# for x in ['AMI_MIC', 'BDQ_MIC','CFZ_MIC', 'DLM_MIC', 'EMB_MIC', 'ETH_MIC', 'INH_MIC', 'KAN_MIC',\n",
    "#        'LEV_MIC', 'LZD_MIC', 'MXF_MIC', 'RIF_MIC', 'RFB_MIC']:\n",
    "#     print(df[x].value_counts())"
   ]
  },
  {
   "cell_type": "code",
   "execution_count": 8,
   "metadata": {},
   "outputs": [],
   "source": [
    "# Data provided by the user\n",
    "# data = {\n",
    "#     'AMI_MIC': {'<=0.25': 7072, '0.5': 3510, '1': 604, '>8': 393, '>16': 286, '2': 94, '16': 42, '4': 35, '8': 32},\n",
    "#     'BDQ_MIC': {'0.03': 4156, '0.06': 3815, '<=0.015': 1477, '0.015': 1053, '0.12': 790, '<=0.008': 420, '0.25': 244, '0.5': 65, '1': 28, '>2': 8, '>1': 5, '2': 3},\n",
    "#     'CFZ_MIC': {'<=0.06': 3986, '0.12': 2745, '0.06': 2170, '<=0.03': 1408, '0.25': 1211, '0.5': 339, '1': 126, '2': 37, '4': 9, '>4': 8, '>2': 6},\n",
    "#     'DLM_MIC': {'<=0.015': 4811, '<=0.008': 2889, '0.015': 1787, '0.03': 1373, '0.06': 639\n",
    "\n",
    "# df1 = pd.DataFrame(list(data.items()))\n"
   ]
  },
  {
   "cell_type": "code",
   "execution_count": null,
   "metadata": {},
   "outputs": [],
   "source": [
    "# Data provided by the user\n",
    "# data = {\n",
    "#     '0.5': 21599, '<=0.06': 14544, '2': 13432, '0.25': 13103, '1': 12719, '0.12': 9420,\n",
    "#     '0.06': 8132, '<=0.25': 7382, '<=0.015': 6288, '4': 5803, '0.03': 5529, '>8': 3931,\n",
    "#     '<=1': 3540, '0.05': 3426, '8': 3398, '<=0.008': 3309, '>2': 3157, '>4': 2856,\n",
    "#     '0.015': 2840, '<=0.025': 2458, 'nan': 2356, '<=0.03': 2237, '>1.6': 1647, '1.6': 1426,\n",
    "#     '>16': 1026, '3.2': 890, '<=0.12': 435, '16': 423, '6.4': 373, '0.2': 366, '0.8': 349,\n",
    "#     '0.4': 307, '>12.8': 294, '0.1': 275, '12.8': 255, '32': 80, '>1': 56, '>0.5': 30, '>32': 14\n",
    "# }\n",
    "\n",
    "# # Import pandas and create a DataFrame\n",
    "# import pandas as pd\n",
    "\n",
    "# # Convert the dictionary to a DataFrame\n",
    "# df = pd.DataFrame(list(data.items()), columns=['Key', 'Value'])\n",
    "\n",
    "# df  # Display the first few rows of the DataFrame\n"
   ]
  },
  {
   "cell_type": "code",
   "execution_count": 19,
   "metadata": {},
   "outputs": [
    {
     "name": "stdout",
     "output_type": "stream",
     "text": [
      "['0.015' '0.03' '0.05' '0.06' '0.1' '0.12' '0.2' '0.25' '0.4' '0.5' '0.8'\n",
      " '1' '1.6' '12.8' '16' '2' '3.2' '32' '4' '6.4' '8' '<=0.008' '<=0.015'\n",
      " '<=0.025' '<=0.03' '<=0.06' '<=0.12' '<=0.25' '<=1' '>0.5' '>1' '>1.6'\n",
      " '>12.8' '>16' '>2' '>32' '>4' '>8' 'nan']\n",
      "{'0.5': 21599, '<=0.06': 14544, '2': 13432, '0.25': 13103, '1': 12719, '0.12': 9420, '0.06': 8132, '<=0.25': 7382, '<=0.015': 6288, '4': 5803, '0.03': 5529, '>8': 3931, '<=1': 3540, '0.05': 3426, '8': 3398, '<=0.008': 3309, '>2': 3157, '>4': 2856, '0.015': 2840, '<=0.025': 2458, nan: 2356, '<=0.03': 2237, '>1.6': 1647, '1.6': 1426, '>16': 1026, '3.2': 890, '<=0.12': 435, '16': 423, '6.4': 373, '0.2': 366, '0.8': 349, '0.4': 307, '>12.8': 294, '0.1': 275, '12.8': 255, '32': 80, '>1': 56, '>0.5': 30, '>32': 14}\n"
     ]
    }
   ],
   "source": [
    "ar = df[['AMI_MIC', 'BDQ_MIC','CFZ_MIC', 'DLM_MIC', 'EMB_MIC', 'ETH_MIC', 'INH_MIC', 'KAN_MIC', 'LEV_MIC', 'LZD_MIC', 'MXF_MIC', 'RIF_MIC', 'RFB_MIC']].values\n",
    "\n",
    "list_2d = [element for row in ar for element in row]\n",
    "print(np.unique(list_2d))\n",
    "print(value_counts_list(list_2d))"
   ]
  },
  {
   "attachments": {},
   "cell_type": "markdown",
   "metadata": {},
   "source": [
    "['<=0.008', '<=0.015', '0.015', '<=0.025', '0.03', '<=0.03', '0.05', '0.06', '<=0.06', '0.1', '0.12', '<=0.12', '0.2', '0.25', '<=0.25', '0.4', '<=1', '>0.5', '>1', '>1.6', '0.5', '0.8', '>4', '1', '>8', '1.6', '2', '3.2', '4', '6.4', '8', '12.8', '16', '>12.8', '>16', '>32', '>2', '32']\n"
   ]
  },
  {
   "cell_type": "code",
   "execution_count": null,
   "metadata": {},
   "outputs": [],
   "source": [
    "# # below code removes values that are the edge cases of the MIC values\n",
    "# for i, row in df.iterrows():\n",
    "#     for x in ['AMI_MIC', 'BDQ_MIC', 'CFZ_MIC', 'DLM_MIC', 'EMB_MIC', 'ETH_MIC', 'INH_MIC', 'KAN_MIC', 'LEV_MIC', 'LZD_MIC', 'MXF_MIC', 'RIF_MIC', 'RFB_MIC']:\n",
    "#         if row[x] in ['<=0.008', '<=0.015', '<=0.025', '<=0.03', '<=0.06','<=0.12','<=0.25']:\n",
    "#             df.loc[i, f'{x}'] = '<=0.25'\n",
    "#         elif row[x] in ['>8', '12.8', '>12.8', '16', '>16', '32', '>32' ]:\n",
    "#             df.loc[i, f'{x}'] = '>32'\n",
    "#         elif row[x] in ['>0.5','<=1','>1','>1.6','>2','>4']:\n",
    "#             df.loc[i, f'{x}'] = float('nan')"
   ]
  },
  {
   "cell_type": "code",
   "execution_count": 20,
   "metadata": {},
   "outputs": [],
   "source": [
    "# below code removes values that are the edge cases of the MIC values\n",
    "\n",
    "for i, row in df.iterrows():\n",
    "    x = 'AMI_MIC'\n",
    "    if row[x] == '<=0.25' :\n",
    "        df.loc[i, f'{x}'] = '0.125'\n",
    "    elif row[x] == '>16':\n",
    "        df.loc[i, f'{x}'] = '32'\n",
    "    elif row[x] == '>8':\n",
    "        df.loc[i, f'{x}'] = '16'    \n",
    "\n",
    "    x = 'BDQ_MIC'\n",
    "    if row[x] == '<=0.015' :\n",
    "        df.loc[i, f'{x}'] = '0.0075'\n",
    "    elif row[x] == '<=0.008' :\n",
    "        df.loc[i, f'{x}'] = '0.004'\n",
    "    elif row[x] == '>1':\n",
    "        df.loc[i, f'{x}'] = '2'    \n",
    "    elif row[x] == '>2':\n",
    "        df.loc[i, f'{x}'] = '4'\n",
    "        \n",
    "    x = 'CFZ_MIC'\n",
    "    if row[x] == '<=0.06' :\n",
    "        df.loc[i, f'{x}'] = '0.03'\n",
    "    elif row[x] == '<=0.03':\n",
    "        df.loc[i, f'{x}'] = '0.015'\n",
    "    elif row[x] == '>2': #! there is middle value between two ranges\n",
    "        df.loc[i, f'{x}'] = '4'\n",
    "    elif row[x] == '>4':\n",
    "        df.loc[i, f'{x}'] = '8'\n",
    "        \n",
    "    x = 'DLM_MIC'\n",
    "    if row[x] == '<=0.015' :\n",
    "        df.loc[i, f'{x}'] = '0.0075'\n",
    "    elif row[x] == '<=0.008':\n",
    "        df.loc[i, f'{x}'] = '0.004'\n",
    "    elif row[x] == '>1':\n",
    "        df.loc[i, f'{x}'] = '2' #! there is middle value between two ranges, should i turn these range values in the middle into nan\n",
    "    elif row[x] == '>0.5':\n",
    "        df.loc[i, f'{x}'] = '1.0'\n",
    "    \n",
    "    x = 'EMB_MIC'\n",
    "    if row[x] == '<=0.25' :\n",
    "        df.loc[i, f'{x}'] = '0.125'\n",
    "    elif row[x] == '<=0.06' :\n",
    "        df.loc[i, f'{x}'] = '0.03'\n",
    "    elif row[x] == '>8':\n",
    "        df.loc[i, f'{x}'] = '16'\n",
    "    elif row[x] == '>32':\n",
    "        df.loc[i, f'{x}'] = '64'     \n",
    "           \n",
    "    x = 'ETH_MIC'\n",
    "    if row[x] == '<=0.25' :\n",
    "        df.loc[i, f'{x}'] = '0.125'\n",
    "    elif row[x] == '>8':\n",
    "        df.loc[i, f'{x}'] = '16'\n",
    "        \n",
    "    x = 'INH_MIC'\n",
    "    if row[x] == '<=0.025' :\n",
    "        df.loc[i, f'{x}'] = '0.01125'\n",
    "    elif row[x] == '>12.8':\n",
    "        df.loc[i, f'{x}'] = '25.6'\n",
    "    elif row[x] == '>1.6':\n",
    "        df.loc[i, f'{x}'] = '3.2'         \n",
    "        \n",
    "    x = 'KAN_MIC'\n",
    "    if row[x] == '<=1' :\n",
    "        df.loc[i, f'{x}'] = '0.5'\n",
    "    elif row[x] == '>16':\n",
    "        df.loc[i, f'{x}'] = '32'   \n",
    "\n",
    "    x = 'LEV_MIC'\n",
    "    if row[x] == '<=0.12' :\n",
    "        df.loc[i, f'{x}'] = '0.06'\n",
    "    elif row[x] == '>8':\n",
    "        df.loc[i, f'{x}'] = '16'\n",
    "\n",
    "    x = 'LZD_MIC'\n",
    "    if row[x] == '<=0.03' :\n",
    "        df.loc[i, f'{x}'] = '0.15'\n",
    "    elif row[x] == '<=0.06' :\n",
    "        df.loc[i, f'{x}'] = '0.03'\n",
    "    elif row[x] == '>2':\n",
    "        df.loc[i, f'{x}'] = '4'\n",
    "    elif row[x] == '>4':\n",
    "        df.loc[i, f'{x}'] = '8'                                                                                     \n",
    "\n",
    "    x = 'MXF_MIC'\n",
    "    if row[x] == '<=0.06' :\n",
    "        df.loc[i, f'{x}'] = '0.03'\n",
    "    elif row[x] == '>4':\n",
    "        df.loc[i, f'{x}'] = '8'    \n",
    "    \n",
    "    x = 'RIF_MIC'\n",
    "    if row[x] == '<=0.06' :\n",
    "        df.loc[i, f'{x}'] = '0.03'\n",
    "    elif row[x] == '<=0.03':\n",
    "        df.loc[i, f'{x}'] = '0.015'    \n",
    "    elif row[x] == '>8':\n",
    "        df.loc[i, f'{x}'] = '16'   \n",
    "    elif row[x] == '>4':\n",
    "        df.loc[i, f'{x}'] = '8'\n",
    "        \n",
    "        \n",
    "    x = 'RFB_MIC'\n",
    "    if row[x] == '<=0.06' :\n",
    "        df.loc[i, f'{x}'] = '0.03'\n",
    "    elif row[x] == '>2':\n",
    "        df.loc[i, f'{x}'] = '4'    "
   ]
  },
  {
   "cell_type": "code",
   "execution_count": 23,
   "metadata": {},
   "outputs": [
    {
     "name": "stdout",
     "output_type": "stream",
     "text": [
      "['0.125' '0.5' '1' '16' '4' '2' '8' nan '32']\n",
      "[nan '0.06' '0.03' '0.25' '0.0075' '0.5' '0.12' '2' '4' '0.015' '0.004'\n",
      " '1']\n",
      "['0.03' '0.12' '0.25' '0.5' '2' '1' '4' nan '8' '0.015' '0.06']\n",
      "['0.0075' nan '0.03' '0.06' '0.12' '2' '0.5' '0.25' '1' '0.004' '0.015'\n",
      " '1.0']\n",
      "['1' '2' '0.5' '4' '16' '8' nan '0.25' '0.03' '0.12' '64' '32' '0.125']\n",
      "['2' '1' '4' '16' '0.5' '8' '0.125' nan]\n",
      "['0.05' '0.01125' '0.2' '0.1' '3.2' '1.6' nan '0.8' '0.4' '12.8' '25.6'\n",
      " '6.4']\n",
      "['2' '0.5' '32' '16' '4' nan '8']\n",
      "['0.25' '1' '0.5' '0.06' '2' '8' '16' '4' nan]\n",
      "['0.25' '0.5' '1' '2' '4' '0.12' nan '0.15' '0.06' '0.03' '8']\n",
      "['0.25' '0.5' '0.12' '2' '4' '1' '8' '0.03' nan]\n",
      "['0.03' '0.12' '8' '4' '2' '0.25' '0.5' nan '1' '16' '0.06' '0.015']\n",
      "['0.03' '4' '0.12' '0.5' '2' '0.25' '1' nan]\n"
     ]
    }
   ],
   "source": [
    "for x in ['AMI_MIC', 'BDQ_MIC',\n",
    "       'CFZ_MIC', 'DLM_MIC', 'EMB_MIC', 'ETH_MIC', 'INH_MIC', 'KAN_MIC',\n",
    "       'LEV_MIC', 'LZD_MIC', 'MXF_MIC', 'RIF_MIC', 'RFB_MIC']:\n",
    "    print(df[x].unique())\n",
    "# df['RIF_MIC'].unique()"
   ]
  },
  {
   "cell_type": "code",
   "execution_count": 24,
   "metadata": {},
   "outputs": [
    {
     "name": "stdout",
     "output_type": "stream",
     "text": [
      "{'0.5': 25139, '0.03': 20073, '2': 13488, '0.25': 13103, '1': 12719, '0.12': 9420, '4': 8960, '0.06': 8567, '0.125': 7382, '0.0075': 6288, '8': 6254, '0.015': 5001, '16': 4354, '0.05': 3426, '0.004': 3309, '3.2': 2537, '0.01125': 2458, nan: 2356, '1.6': 1426, '32': 1106, '6.4': 373, '0.2': 366, '0.8': 349, '0.4': 307, '25.6': 294, '0.1': 275, '12.8': 255, '0.15': 76, '1.0': 30, '64': 14}\n"
     ]
    }
   ],
   "source": [
    "ar = df[['AMI_MIC', 'BDQ_MIC','CFZ_MIC', 'DLM_MIC', 'EMB_MIC', 'ETH_MIC', 'INH_MIC', 'KAN_MIC', 'LEV_MIC', 'LZD_MIC', 'MXF_MIC', 'RIF_MIC', 'RFB_MIC']].values\n",
    "\n",
    "list_2d = [element for row in ar for element in row]\n",
    "print(value_counts_list(list_2d))"
   ]
  },
  {
   "cell_type": "code",
   "execution_count": 25,
   "metadata": {},
   "outputs": [],
   "source": [
    "drug_names = {\n",
    "    'AMI': 'Amikacin',\n",
    "    'BDQ': 'Bedaquiline',\n",
    "    'CFZ': 'Clofazimine',\n",
    "    'EMB': 'Ethambutol',\n",
    "    'ETH': 'Ethionamide',\n",
    "    'INH': 'Isoniazid', # the critical concentration would be 0.0312 mg/liter for low-level resistance and 0.125 mg/liter for high-level resistance\n",
    "    'KAN': 'Kanamycin',\n",
    "    'LEV': 'Levofloxacin',\n",
    "    'LZD': 'Linezolid',\n",
    "    'MXF': 'Moxifloxacin',\n",
    "    'RIF': 'Rifampicin',\n",
    "    'RFB': 'Rifabutin'\n",
    "}"
   ]
  },
  {
   "cell_type": "code",
   "execution_count": 12,
   "metadata": {},
   "outputs": [],
   "source": [
    "# # below code removes all MIC values with low quality\n",
    "# for i, row in df.iterrows():\n",
    "#     for x in ['AMI', 'BDQ', 'CFZ', 'EMB', 'ETH', 'INH', 'KAN', 'LEV', 'LZD', 'MXF', 'RIF', 'RFB']:\n",
    "#         if row[f'{x}_PHENOTYPE_QUALITY'] == 'LOW':\n",
    "#             df.loc[i, f'{x}_MIC'] = float('nan')\n",
    "#             # print(df.loc[i, f'{x}_MIC'])"
   ]
  },
  {
   "attachments": {},
   "cell_type": "markdown",
   "metadata": {},
   "source": [
    "### res data output"
   ]
  },
  {
   "cell_type": "code",
   "execution_count": 27,
   "metadata": {},
   "outputs": [
    {
     "name": "stdout",
     "output_type": "stream",
     "text": [
      "AMI_MIC\n",
      "['0.25' '0.5' '1' '8' '4' '2' nan '16']\n",
      "BDQ_MIC\n",
      "[nan '0.06' '0.03' '0.25' '0.005' '0.5' '0.12' '2' '0.015' '0.008' '1']\n",
      "CFZ_MIC\n",
      "['0.06' '0.12' '0.25' '0.5' '2' '1' '4' nan '0.03']\n",
      "EMB_MIC\n",
      "['1' '2' '0.5' '4' '8' nan '0.25' '0.06' '0.12' '16' '32']\n",
      "ETH_MIC\n",
      "['2' '1' '4' '8' '0.5' '0.25' nan]\n",
      "INH_MIC\n",
      "['0.05' '0.025' '0.2' '0.1' '1.6' nan '0.8' '0.4' '3.2' '12.8' '6.4']\n",
      "KAN_MIC\n",
      "['2' '1' '16' '4' nan '8']\n",
      "LEV_MIC\n",
      "['0.25' '1' '0.5' '0.12' '2' '8' '4' nan]\n",
      "LZD_MIC\n",
      "['0.25' '0.5' '1' '2' '0.12' nan '0.03' '0.06' '4' 5]\n",
      "MXF_MIC\n",
      "['0.25' '0.5' '0.12' '2' '4' '1' 5 '0.06' nan]\n",
      "RIF_MIC\n",
      "['0.06' '0.12' '4' '2' '0.25' '0.5' nan '1' '8' '0.03']\n",
      "RFB_MIC\n",
      "['0.06' '3' '0.12' '0.5' '2' '0.25' '1' nan]\n"
     ]
    }
   ],
   "source": [
    "# check if the range values are removed\n",
    "for x in ['AMI', 'BDQ', 'CFZ', 'EMB', 'ETH', 'INH', 'KAN', 'LEV', 'LZD', 'MXF', 'RIF', 'RFB']:\n",
    "    print(f'{x}_MIC')\n",
    "    print(df[f'{x}_MIC'].unique())"
   ]
  },
  {
   "cell_type": "code",
   "execution_count": 27,
   "metadata": {},
   "outputs": [],
   "source": [
    "df.sort_values(by=['wgs_id'], inplace=True)\n",
    "df.to_csv('data1/CRyPTIC_reuse_table_20221019_cleaned.csv', index=False)"
   ]
  },
  {
   "cell_type": "code",
   "execution_count": 28,
   "metadata": {},
   "outputs": [],
   "source": [
    "mic = df.iloc[:,14:27].astype('float')"
   ]
  },
  {
   "cell_type": "code",
   "execution_count": 29,
   "metadata": {},
   "outputs": [
    {
     "data": {
      "text/html": [
       "<div>\n",
       "<style scoped>\n",
       "    .dataframe tbody tr th:only-of-type {\n",
       "        vertical-align: middle;\n",
       "    }\n",
       "\n",
       "    .dataframe tbody tr th {\n",
       "        vertical-align: top;\n",
       "    }\n",
       "\n",
       "    .dataframe thead th {\n",
       "        text-align: right;\n",
       "    }\n",
       "</style>\n",
       "<table border=\"1\" class=\"dataframe\">\n",
       "  <thead>\n",
       "    <tr style=\"text-align: right;\">\n",
       "      <th></th>\n",
       "      <th>AMI_MIC</th>\n",
       "      <th>BDQ_MIC</th>\n",
       "      <th>CFZ_MIC</th>\n",
       "      <th>DLM_MIC</th>\n",
       "      <th>EMB_MIC</th>\n",
       "      <th>ETH_MIC</th>\n",
       "      <th>INH_MIC</th>\n",
       "      <th>KAN_MIC</th>\n",
       "      <th>LEV_MIC</th>\n",
       "      <th>LZD_MIC</th>\n",
       "      <th>MXF_MIC</th>\n",
       "      <th>RIF_MIC</th>\n",
       "      <th>RFB_MIC</th>\n",
       "    </tr>\n",
       "  </thead>\n",
       "  <tbody>\n",
       "    <tr>\n",
       "      <th>5839</th>\n",
       "      <td>0.500</td>\n",
       "      <td>0.060</td>\n",
       "      <td>0.120</td>\n",
       "      <td>0.0300</td>\n",
       "      <td>2.0</td>\n",
       "      <td>2.0</td>\n",
       "      <td>0.05</td>\n",
       "      <td>2.0</td>\n",
       "      <td>0.50</td>\n",
       "      <td>0.50</td>\n",
       "      <td>0.50</td>\n",
       "      <td>0.12</td>\n",
       "      <td>0.03</td>\n",
       "    </tr>\n",
       "    <tr>\n",
       "      <th>5840</th>\n",
       "      <td>0.500</td>\n",
       "      <td>0.060</td>\n",
       "      <td>0.030</td>\n",
       "      <td>0.0075</td>\n",
       "      <td>2.0</td>\n",
       "      <td>1.0</td>\n",
       "      <td>0.05</td>\n",
       "      <td>2.0</td>\n",
       "      <td>0.50</td>\n",
       "      <td>0.50</td>\n",
       "      <td>0.25</td>\n",
       "      <td>0.12</td>\n",
       "      <td>0.03</td>\n",
       "    </tr>\n",
       "    <tr>\n",
       "      <th>5841</th>\n",
       "      <td>0.125</td>\n",
       "      <td>0.060</td>\n",
       "      <td>0.030</td>\n",
       "      <td>0.0075</td>\n",
       "      <td>2.0</td>\n",
       "      <td>2.0</td>\n",
       "      <td>0.05</td>\n",
       "      <td>2.0</td>\n",
       "      <td>0.25</td>\n",
       "      <td>0.50</td>\n",
       "      <td>0.25</td>\n",
       "      <td>0.03</td>\n",
       "      <td>0.03</td>\n",
       "    </tr>\n",
       "    <tr>\n",
       "      <th>5842</th>\n",
       "      <td>0.500</td>\n",
       "      <td>0.060</td>\n",
       "      <td>0.120</td>\n",
       "      <td>0.0075</td>\n",
       "      <td>1.0</td>\n",
       "      <td>NaN</td>\n",
       "      <td>0.05</td>\n",
       "      <td>4.0</td>\n",
       "      <td>1.00</td>\n",
       "      <td>1.00</td>\n",
       "      <td>0.50</td>\n",
       "      <td>0.12</td>\n",
       "      <td>0.03</td>\n",
       "    </tr>\n",
       "    <tr>\n",
       "      <th>5843</th>\n",
       "      <td>0.125</td>\n",
       "      <td>0.060</td>\n",
       "      <td>0.120</td>\n",
       "      <td>0.0075</td>\n",
       "      <td>2.0</td>\n",
       "      <td>1.0</td>\n",
       "      <td>0.10</td>\n",
       "      <td>2.0</td>\n",
       "      <td>0.25</td>\n",
       "      <td>0.50</td>\n",
       "      <td>0.25</td>\n",
       "      <td>0.03</td>\n",
       "      <td>0.03</td>\n",
       "    </tr>\n",
       "    <tr>\n",
       "      <th>...</th>\n",
       "      <td>...</td>\n",
       "      <td>...</td>\n",
       "      <td>...</td>\n",
       "      <td>...</td>\n",
       "      <td>...</td>\n",
       "      <td>...</td>\n",
       "      <td>...</td>\n",
       "      <td>...</td>\n",
       "      <td>...</td>\n",
       "      <td>...</td>\n",
       "      <td>...</td>\n",
       "      <td>...</td>\n",
       "      <td>...</td>\n",
       "    </tr>\n",
       "    <tr>\n",
       "      <th>11394</th>\n",
       "      <td>0.125</td>\n",
       "      <td>0.015</td>\n",
       "      <td>0.015</td>\n",
       "      <td>0.0040</td>\n",
       "      <td>8.0</td>\n",
       "      <td>16.0</td>\n",
       "      <td>25.60</td>\n",
       "      <td>2.0</td>\n",
       "      <td>2.00</td>\n",
       "      <td>0.25</td>\n",
       "      <td>0.50</td>\n",
       "      <td>16.00</td>\n",
       "      <td>4.00</td>\n",
       "    </tr>\n",
       "    <tr>\n",
       "      <th>11395</th>\n",
       "      <td>0.125</td>\n",
       "      <td>0.030</td>\n",
       "      <td>0.060</td>\n",
       "      <td>0.0040</td>\n",
       "      <td>4.0</td>\n",
       "      <td>4.0</td>\n",
       "      <td>6.40</td>\n",
       "      <td>2.0</td>\n",
       "      <td>8.00</td>\n",
       "      <td>0.25</td>\n",
       "      <td>8.00</td>\n",
       "      <td>16.00</td>\n",
       "      <td>4.00</td>\n",
       "    </tr>\n",
       "    <tr>\n",
       "      <th>11397</th>\n",
       "      <td>1.000</td>\n",
       "      <td>0.030</td>\n",
       "      <td>0.060</td>\n",
       "      <td>0.0150</td>\n",
       "      <td>4.0</td>\n",
       "      <td>8.0</td>\n",
       "      <td>12.80</td>\n",
       "      <td>16.0</td>\n",
       "      <td>0.50</td>\n",
       "      <td>0.50</td>\n",
       "      <td>0.25</td>\n",
       "      <td>16.00</td>\n",
       "      <td>4.00</td>\n",
       "    </tr>\n",
       "    <tr>\n",
       "      <th>11398</th>\n",
       "      <td>0.500</td>\n",
       "      <td>0.015</td>\n",
       "      <td>0.060</td>\n",
       "      <td>0.0150</td>\n",
       "      <td>0.5</td>\n",
       "      <td>8.0</td>\n",
       "      <td>0.20</td>\n",
       "      <td>2.0</td>\n",
       "      <td>0.25</td>\n",
       "      <td>0.12</td>\n",
       "      <td>0.12</td>\n",
       "      <td>0.06</td>\n",
       "      <td>4.00</td>\n",
       "    </tr>\n",
       "    <tr>\n",
       "      <th>11399</th>\n",
       "      <td>0.125</td>\n",
       "      <td>0.060</td>\n",
       "      <td>0.120</td>\n",
       "      <td>0.0040</td>\n",
       "      <td>4.0</td>\n",
       "      <td>4.0</td>\n",
       "      <td>6.40</td>\n",
       "      <td>4.0</td>\n",
       "      <td>2.00</td>\n",
       "      <td>0.50</td>\n",
       "      <td>2.00</td>\n",
       "      <td>16.00</td>\n",
       "      <td>4.00</td>\n",
       "    </tr>\n",
       "  </tbody>\n",
       "</table>\n",
       "<p>12285 rows × 13 columns</p>\n",
       "</div>"
      ],
      "text/plain": [
       "       AMI_MIC  BDQ_MIC  CFZ_MIC  DLM_MIC  EMB_MIC  ETH_MIC  INH_MIC  KAN_MIC  \\\n",
       "5839     0.500    0.060    0.120   0.0300      2.0      2.0     0.05      2.0   \n",
       "5840     0.500    0.060    0.030   0.0075      2.0      1.0     0.05      2.0   \n",
       "5841     0.125    0.060    0.030   0.0075      2.0      2.0     0.05      2.0   \n",
       "5842     0.500    0.060    0.120   0.0075      1.0      NaN     0.05      4.0   \n",
       "5843     0.125    0.060    0.120   0.0075      2.0      1.0     0.10      2.0   \n",
       "...        ...      ...      ...      ...      ...      ...      ...      ...   \n",
       "11394    0.125    0.015    0.015   0.0040      8.0     16.0    25.60      2.0   \n",
       "11395    0.125    0.030    0.060   0.0040      4.0      4.0     6.40      2.0   \n",
       "11397    1.000    0.030    0.060   0.0150      4.0      8.0    12.80     16.0   \n",
       "11398    0.500    0.015    0.060   0.0150      0.5      8.0     0.20      2.0   \n",
       "11399    0.125    0.060    0.120   0.0040      4.0      4.0     6.40      4.0   \n",
       "\n",
       "       LEV_MIC  LZD_MIC  MXF_MIC  RIF_MIC  RFB_MIC  \n",
       "5839      0.50     0.50     0.50     0.12     0.03  \n",
       "5840      0.50     0.50     0.25     0.12     0.03  \n",
       "5841      0.25     0.50     0.25     0.03     0.03  \n",
       "5842      1.00     1.00     0.50     0.12     0.03  \n",
       "5843      0.25     0.50     0.25     0.03     0.03  \n",
       "...        ...      ...      ...      ...      ...  \n",
       "11394     2.00     0.25     0.50    16.00     4.00  \n",
       "11395     8.00     0.25     8.00    16.00     4.00  \n",
       "11397     0.50     0.50     0.25    16.00     4.00  \n",
       "11398     0.25     0.12     0.12     0.06     4.00  \n",
       "11399     2.00     0.50     2.00    16.00     4.00  \n",
       "\n",
       "[12285 rows x 13 columns]"
      ]
     },
     "execution_count": 29,
     "metadata": {},
     "output_type": "execute_result"
    }
   ],
   "source": [
    "mic"
   ]
  },
  {
   "cell_type": "code",
   "execution_count": 34,
   "metadata": {},
   "outputs": [
    {
     "data": {
      "text/plain": [
       "(12285, 13)"
      ]
     },
     "execution_count": 34,
     "metadata": {},
     "output_type": "execute_result"
    }
   ],
   "source": [
    "mic.shape"
   ]
  },
  {
   "cell_type": "code",
   "execution_count": 31,
   "metadata": {},
   "outputs": [
    {
     "data": {
      "text/plain": [
       "(11056, 13)"
      ]
     },
     "execution_count": 31,
     "metadata": {},
     "output_type": "execute_result"
    }
   ],
   "source": [
    "mic.iloc[:int(mic.shape[0]*0.9),:].shape"
   ]
  },
  {
   "cell_type": "code",
   "execution_count": 32,
   "metadata": {},
   "outputs": [],
   "source": [
    "mic.iloc[:int(mic.shape[0]*0.9),:].to_csv('data1/res_train.csv', index=False)\n",
    "mic.iloc[int(mic.shape[0]*0.9):,:].to_csv('data1/res_test.csv', index=False)"
   ]
  },
  {
   "cell_type": "code",
   "execution_count": 147,
   "metadata": {},
   "outputs": [
    {
     "data": {
      "image/png": "[encoded data removed]",
      "text/plain": [
       "<Figure size 432x288 with 1 Axes>"
      ]
     },
     "metadata": {
      "needs_background": "light"
     },
     "output_type": "display_data"
    }
   ],
   "source": [
    "import plotly.graph_objects as go\n",
    "from collections import Counter\n",
    "\n",
    "unique_strings, counts = np.unique(ar_list, return_counts=True)\n",
    "plt.bar(unique_strings, counts)\n",
    "plt.xlabel(\"Strings\")\n",
    "plt.ylabel(\"Count\")\n",
    "plt.title(\"Count of Strings\")\n",
    "plt.xticks(rotation=90)  # Rotate x-axis labels by 90 degrees\n",
    "plt.tight_layout()\n",
    "plt.show()"
   ]
  },
  {
   "cell_type": "code",
   "execution_count": 13,
   "metadata": {},
   "outputs": [
    {
     "ename": "TypeError",
     "evalue": "'<' not supported between instances of 'float' and 'str'",
     "output_type": "error",
     "traceback": [
      "\u001b[0;31m---------------------------------------------------------------------------\u001b[0m",
      "\u001b[0;31mTypeError\u001b[0m                                 Traceback (most recent call last)",
      "\u001b[0;32m/tmp/ipykernel_28813/3768355116.py\u001b[0m in \u001b[0;36m<module>\u001b[0;34m\u001b[0m\n\u001b[0;32m----> 1\u001b[0;31m np.unique(df[['CFZ_MIC', 'DLM_MIC', 'EMB_MIC', 'ETH_MIC', 'INH_MIC', 'KAN_MIC',\n\u001b[0m\u001b[1;32m      2\u001b[0m        'LEV_MIC', 'LZD_MIC', 'MXF_MIC', 'RIF_MIC', 'RFB_MIC']].values)\n",
      "\u001b[0;32m<__array_function__ internals>\u001b[0m in \u001b[0;36munique\u001b[0;34m(*args, **kwargs)\u001b[0m\n",
      "\u001b[0;32m/mnt/storageG1/lwang/miniconda3/envs/ml-g1/lib/python3.9/site-packages/numpy/lib/arraysetops.py\u001b[0m in \u001b[0;36munique\u001b[0;34m(ar, return_index, return_inverse, return_counts, axis)\u001b[0m\n\u001b[1;32m    270\u001b[0m     \u001b[0mar\u001b[0m \u001b[0;34m=\u001b[0m \u001b[0mnp\u001b[0m\u001b[0;34m.\u001b[0m\u001b[0masanyarray\u001b[0m\u001b[0;34m(\u001b[0m\u001b[0mar\u001b[0m\u001b[0;34m)\u001b[0m\u001b[0;34m\u001b[0m\u001b[0;34m\u001b[0m\u001b[0m\n\u001b[1;32m    271\u001b[0m     \u001b[0;32mif\u001b[0m \u001b[0maxis\u001b[0m \u001b[0;32mis\u001b[0m \u001b[0;32mNone\u001b[0m\u001b[0;34m:\u001b[0m\u001b[0;34m\u001b[0m\u001b[0;34m\u001b[0m\u001b[0m\n\u001b[0;32m--> 272\u001b[0;31m         \u001b[0mret\u001b[0m \u001b[0;34m=\u001b[0m \u001b[0m_unique1d\u001b[0m\u001b[0;34m(\u001b[0m\u001b[0mar\u001b[0m\u001b[0;34m,\u001b[0m \u001b[0mreturn_index\u001b[0m\u001b[0;34m,\u001b[0m \u001b[0mreturn_inverse\u001b[0m\u001b[0;34m,\u001b[0m \u001b[0mreturn_counts\u001b[0m\u001b[0;34m)\u001b[0m\u001b[0;34m\u001b[0m\u001b[0;34m\u001b[0m\u001b[0m\n\u001b[0m\u001b[1;32m    273\u001b[0m         \u001b[0;32mreturn\u001b[0m \u001b[0m_unpack_tuple\u001b[0m\u001b[0;34m(\u001b[0m\u001b[0mret\u001b[0m\u001b[0;34m)\u001b[0m\u001b[0;34m\u001b[0m\u001b[0;34m\u001b[0m\u001b[0m\n\u001b[1;32m    274\u001b[0m \u001b[0;34m\u001b[0m\u001b[0m\n",
      "\u001b[0;32m/mnt/storageG1/lwang/miniconda3/envs/ml-g1/lib/python3.9/site-packages/numpy/lib/arraysetops.py\u001b[0m in \u001b[0;36m_unique1d\u001b[0;34m(ar, return_index, return_inverse, return_counts)\u001b[0m\n\u001b[1;32m    331\u001b[0m         \u001b[0maux\u001b[0m \u001b[0;34m=\u001b[0m \u001b[0mar\u001b[0m\u001b[0;34m[\u001b[0m\u001b[0mperm\u001b[0m\u001b[0;34m]\u001b[0m\u001b[0;34m\u001b[0m\u001b[0;34m\u001b[0m\u001b[0m\n\u001b[1;32m    332\u001b[0m     \u001b[0;32melse\u001b[0m\u001b[0;34m:\u001b[0m\u001b[0;34m\u001b[0m\u001b[0;34m\u001b[0m\u001b[0m\n\u001b[0;32m--> 333\u001b[0;31m         \u001b[0mar\u001b[0m\u001b[0;34m.\u001b[0m\u001b[0msort\u001b[0m\u001b[0;34m(\u001b[0m\u001b[0;34m)\u001b[0m\u001b[0;34m\u001b[0m\u001b[0;34m\u001b[0m\u001b[0m\n\u001b[0m\u001b[1;32m    334\u001b[0m         \u001b[0maux\u001b[0m \u001b[0;34m=\u001b[0m \u001b[0mar\u001b[0m\u001b[0;34m\u001b[0m\u001b[0;34m\u001b[0m\u001b[0m\n\u001b[1;32m    335\u001b[0m     \u001b[0mmask\u001b[0m \u001b[0;34m=\u001b[0m \u001b[0mnp\u001b[0m\u001b[0;34m.\u001b[0m\u001b[0mempty\u001b[0m\u001b[0;34m(\u001b[0m\u001b[0maux\u001b[0m\u001b[0;34m.\u001b[0m\u001b[0mshape\u001b[0m\u001b[0;34m,\u001b[0m \u001b[0mdtype\u001b[0m\u001b[0;34m=\u001b[0m\u001b[0mnp\u001b[0m\u001b[0;34m.\u001b[0m\u001b[0mbool_\u001b[0m\u001b[0;34m)\u001b[0m\u001b[0;34m\u001b[0m\u001b[0;34m\u001b[0m\u001b[0m\n",
      "\u001b[0;31mTypeError\u001b[0m: '<' not supported between instances of 'float' and 'str'"
     ]
    }
   ],
   "source": [
    "np.unique(df[['CFZ_MIC', 'DLM_MIC', 'EMB_MIC', 'ETH_MIC', 'INH_MIC', 'KAN_MIC',\n",
    "       'LEV_MIC', 'LZD_MIC', 'MXF_MIC', 'RIF_MIC', 'RFB_MIC']].values)"
   ]
  },
  {
   "cell_type": "code",
   "execution_count": 24,
   "metadata": {},
   "outputs": [],
   "source": [
    "# File path to save the output\n",
    "file_path = \"sample_list.txt\"\n",
    "\n",
    "# Open the file in write mode\n",
    "with open(file_path, 'w') as file:\n",
    "    # Write each string from the list to a new line in the file\n",
    "    for string in df['wgs_id'].tolist():\n",
    "        file.write(string + '\\n')\n"
   ]
  },
  {
   "cell_type": "code",
   "execution_count": null,
   "metadata": {},
   "outputs": [],
   "source": [
    "for x in tqdm(df['wgs_id']):\n",
    "    print(x)\n",
    "    # break"
   ]
  },
  {
   "cell_type": "code",
   "execution_count": null,
   "metadata": {},
   "outputs": [],
   "source": [
    "import subprocess\n",
    "for x in df['wgs_id']:\n",
    "    fasta_file = \"/mnt/storageG1/lwang/Projects/tb_dr_MIC/MTB-h37rv_asm19595v2-eg18.fa\"\n",
    "    vcf_file = f\"/mnt/storage7/jody/tb_ena/per_sample/{x}.freebayes.vcf.gz\"\n",
    "    output_file = f\"/mnt/storageG1/lwang/Projects/tb_dr_MIC/fasta/{x}.fa\"\n",
    "    command = [\"bcftools\", \"consensus\", \"-f\", fasta_file, vcf_file, \"-o\", output_file]\n",
    "    # Run the command using subprocess\n",
    "    subprocess.run(command)\n",
    "    \n",
    "    #Run the command using subprocess\n",
    "    # subprocess.run(\n",
    "    #     f\"bcftools consensus -f\", fasta_file, vcf_file, \"-o\", output_file,\n",
    "    #     shell=False,\n",
    "    # )"
   ]
  },
  {
   "attachments": {},
   "cell_type": "markdown",
   "metadata": {},
   "source": [
    "# Generating Sequence data"
   ]
  },
  {
   "cell_type": "code",
   "execution_count": 66,
   "metadata": {},
   "outputs": [],
   "source": [
    "from Bio import SeqIO\n",
    "import csv\n",
    "from Bio.SeqUtils import six_frame_translations\n",
    "\n",
    "df_seq = pd.DataFrame(columns=['wgs_id','acpM-kasA', 'ethAR', 'aftB-ubiA', 'tlyA', 'embCAB', 'gid', 'panD',\n",
    "       'rpoBC', 'rpsA', 'katG', 'rpsL', 'pncA', 'clpC', 'gyrBA',\n",
    "       'oxyR-ahpC', 'eis', 'rrs-rrl', 'fabG1-inhA'])\n",
    "\n",
    "for x in df['wgs_id']:\n",
    "    fasta_file = '/mnt/storageG1/lwang/Projects/tb_dr_MIC/fasta/ERR2184202.fa'\n",
    "    bed_file = '/mnt/storageG1/lwang/Projects/tb_dr_MIC/gene_ordered.csv'\n",
    "    output_file = 'output.csv'\n",
    "\n",
    "    sequences = [x]\n",
    "    df_gene = pd.read_csv('gene_ordered.csv')\n",
    "    for i, row in df_gene.iterrows():\n",
    "        # print(row)\n",
    "        locus, start, end = row[0], int(row[1]), int(row[2])\n",
    "        \n",
    "        # Extract the sequence based on the range\n",
    "        with open(fasta_file, 'r') as fasta:\n",
    "            record_dict = SeqIO.to_dict(SeqIO.parse(fasta, 'fasta'))\n",
    "            sequence = record_dict['Chromosome'].seq[start:end]\n",
    "            sequences.append(str(sequence))\n",
    "            \n",
    "    df_seq.loc[df_seq.shape[0]] = sequences"
   ]
  },
  {
   "cell_type": "code",
   "execution_count": 105,
   "metadata": {},
   "outputs": [],
   "source": [
    "df_seq.sort_values(by=['wgs_id'], inplace=True)"
   ]
  },
  {
   "cell_type": "code",
   "execution_count": 106,
   "metadata": {},
   "outputs": [],
   "source": [
    "df_seq.to_csv('gene_seq.csv', index=False)"
   ]
  },
  {
   "cell_type": "code",
   "execution_count": 68,
   "metadata": {},
   "outputs": [],
   "source": [
    "df_seq = pd.read_csv('gene_seq.csv')"
   ]
  },
  {
   "attachments": {},
   "cell_type": "markdown",
   "metadata": {},
   "source": [
    "### seq data output"
   ]
  },
  {
   "cell_type": "code",
   "execution_count": 107,
   "metadata": {},
   "outputs": [],
   "source": [
    "df_seq.iloc[:int(df_seq.shape[0]*0.9),:].to_csv('gene_seq_train.csv', index=False)\n",
    "df_seq.iloc[int(df_seq.shape[0]*0.9):,:].to_csv('gene_seq_test.csv', index=False)"
   ]
  }
 ],
 "metadata": {
  "kernelspec": {
   "display_name": "ml-air",
   "language": "python",
   "name": "python3"
  },
  "language_info": {
   "codemirror_mode": {
    "name": "ipython",
    "version": 3
   },
   "file_extension": ".py",
   "mimetype": "text/x-python",
   "name": "python",
   "nbconvert_exporter": "python",
   "pygments_lexer": "ipython3",
   "version": "3.9.6"
  },
  "orig_nbformat": 4
 },
 "nbformat": 4,
 "nbformat_minor": 2
}
