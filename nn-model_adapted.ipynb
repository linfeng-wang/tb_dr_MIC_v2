{
 "cells": [
  {
   "cell_type": "code",
   "execution_count": 1,
   "metadata": {},
   "outputs": [],
   "source": [
    "#%%\n",
    "from array import array\n",
    "from cmath import nan\n",
    "from pyexpat import model\n",
    "import statistics\n",
    "from tkinter.ttk import Separator\n",
    "import numpy as np\n",
    "import pandas as pd\n",
    "import os\n",
    "import torch\n",
    "import torch.nn as nn\n",
    "import torch.nn.functional as F\n",
    "import torch.optim as optim\n",
    "from torchviz import make_dot\n",
    "from torch.utils.data import Dataset, TensorDataset, DataLoader\n",
    "from torch.utils.data.dataset import random_split\n",
    "from torchvision import datasets, transforms\n",
    "from torch.autograd import variable\n",
    "from itertools import chain\n",
    "from sklearn import metrics as met\n",
    "import pickle\n",
    "from icecream import ic\n",
    "\n",
    "import matplotlib.pyplot as plt\n",
    "import pathlib\n",
    "from sklearn.model_selection import train_test_split\n",
    "\n",
    "from sklearn.preprocessing import LabelEncoder\n",
    "from sklearn.preprocessing import OneHotEncoder\n",
    "from importlib import reload\n",
    "# import util\n",
    "# import model_torch_simple\n",
    "# from torchmetrics import Accuracy\n",
    "from tqdm import tqdm\n",
    "import argparse\n",
    "from icecream import ic\n",
    "import numpy as np\n",
    "from PIL import Image\n",
    "device = 'cuda' if torch.cuda.is_available() else 'cpu'\n"
   ]
  },
  {
   "cell_type": "code",
   "execution_count": 2,
   "metadata": {},
   "outputs": [
    {
     "data": {
      "text/plain": [
       "<torch._C.Generator at 0x7f2233727250>"
      ]
     },
     "execution_count": 2,
     "metadata": {},
     "output_type": "execute_result"
    }
   ],
   "source": [
    "seed = 42\n",
    "# torch.backends.cudnn.deterministic = True\n",
    "# torch.backends.cudnn.benchmark = False\n",
    "torch.manual_seed(seed)\n",
    "# torch.cuda.manual_seed_all(seed)"
   ]
  },
  {
   "cell_type": "code",
   "execution_count": 3,
   "metadata": {},
   "outputs": [],
   "source": [
    "def value_counts_list(lst):\n",
    "    \"\"\"\n",
    "    Computes the frequency count of unique elements in a list and returns a dictionary, sorted by frequency count in\n",
    "    descending order.\n",
    "\n",
    "    Args:\n",
    "    - lst (list): List of elements\n",
    "\n",
    "    Returns:\n",
    "    - dict: Dictionary with unique elements as keys and their frequency count as values, sorted by frequency count\n",
    "    in descending order\n",
    "    \"\"\"\n",
    "    value_counts = {}\n",
    "    for item in lst:\n",
    "        if item in value_counts:\n",
    "            value_counts[item] += 1\n",
    "        else:\n",
    "            value_counts[item] = 1\n",
    "    sorted_value_counts = dict(sorted(value_counts.items(), key=lambda x: x[1], reverse=True))\n",
    "    return sorted_value_counts\n",
    "\n",
    "def print_full(x):\n",
    "    pd.set_option('display.max_rows', None)\n",
    "    pd.set_option('display.max_columns', None)\n",
    "    pd.set_option('display.width', 2000)\n",
    "    pd.set_option('display.float_format', '{:20,.2f}'.format)\n",
    "    pd.set_option('display.max_colwidth', None)\n",
    "    print(x)\n",
    "    pd.reset_option('display.max_rows')\n",
    "    pd.reset_option('display.max_columns')\n",
    "    pd.reset_option('display.width')\n",
    "    pd.reset_option('display.float_format')\n",
    "    pd.reset_option('display.max_colwidth')"
   ]
  },
  {
   "attachments": {},
   "cell_type": "markdown",
   "metadata": {},
   "source": [
    "### Loading data"
   ]
  },
  {
   "cell_type": "code",
   "execution_count": 18,
   "metadata": {},
   "outputs": [],
   "source": [
    "train_data = pd.read_csv('/mnt/storageG1/lwang/Projects/tb_dr_MIC_v2/data1/gene_seq_train.csv')\n",
    "# train_target = pd.read_csv('/mnt/storageG1/lwang/Projects/tb_dr_MIC/data0/res_train.csv')\n",
    "\n",
    "train_target = pd.read_csv('/mnt/storageG1/lwang/Projects/tb_dr_MIC_v2/data1/res_train.csv')\n",
    "#don't touch test data, split out validation data from training data during training\n",
    "test_data = pd.read_csv('/mnt/storageG1/lwang/Projects/tb_dr_MIC_v2/data1/gene_seq_test.csv')\n",
    "# test_target = pd.read_csv('/mnt/storageG1/lwang/Projects/tb_dr_MIC/data0/res_test.csv')\n",
    "test_target = pd.read_csv('/mnt/storageG1/lwang/Projects/tb_dr_MIC_v2/data1/res_test.csv')"
   ]
  },
  {
   "cell_type": "code",
   "execution_count": 12,
   "metadata": {},
   "outputs": [],
   "source": [
    "# new data\n",
    "train_data = pd.read_csv('/mnt/storageG1/lwang/Projects/tb_dr_MIC_v2/data_new_rif/gene_seq_train.csv')\n",
    "train_target = pd.read_csv('/mnt/storageG1/lwang/Projects/tb_dr_MIC_v2/data_new_rif/mic_aa_train.csv')\n",
    "train_target = train_target[['RIF_MIC']]\n",
    "# don't touch test data, split out validation data from training data during training\n",
    "test_data = pd.read_csv('/mnt/storageG1/lwang/Projects/tb_dr_MIC_v2/data_new_rif/gene_seq_test.csv')\n",
    "test_target = pd.read_csv('/mnt/storageG1/lwang/Projects/tb_dr_MIC_v2/data_new_rif/mic_aa_test.csv')\n",
    "test_target = test_target[['RIF_MIC']]"
   ]
  },
  {
   "cell_type": "code",
   "execution_count": 19,
   "metadata": {},
   "outputs": [],
   "source": [
    "import pandas as pd\n",
    "\n",
    "# Function to append and prepend 'N' to each string in the DataFrame\n",
    "def pad_strings_with_n(dataframe):\n",
    "    # Define the string to prepend and append\n",
    "    n_padding = 'N' * 10\n",
    "    \n",
    "    # Apply the padding operation to each element in the DataFrame\n",
    "    padded_dataframe = dataframe.applymap(lambda x: f\"{n_padding}{x}{n_padding}\")\n",
    "    \n",
    "    return padded_dataframe\n",
    "\n",
    "\n",
    "train_data = pad_strings_with_n(train_data)\n",
    "test_data = pad_strings_with_n(test_data)"
   ]
  },
  {
   "cell_type": "code",
   "execution_count": 5,
   "metadata": {},
   "outputs": [],
   "source": [
    "from sklearn.preprocessing import StandardScaler\n",
    "def normalize_dataframe(df):\n",
    "    \"\"\"\n",
    "    Normalize the given DataFrame column-wise while keeping NaN values unchanged.\n",
    "\n",
    "    :param df: Pandas DataFrame to be normalized.\n",
    "    :return: Normalized DataFrame.\n",
    "    \"\"\"\n",
    "    scaler = StandardScaler()\n",
    "    for column in df.columns:\n",
    "        # Extract the non-NaN values and their indices\n",
    "        non_nan_values = df[column].dropna()\n",
    "        indices = non_nan_values.index\n",
    "        \n",
    "        # Normalize the non-NaN values\n",
    "        normalized_values = scaler.fit_transform(non_nan_values.values.reshape(-1, 1)).flatten()\n",
    "        \n",
    "        # Assign the normalized values back to the DataFrame\n",
    "        df.loc[indices, column] = normalized_values\n",
    "    \n",
    "    return df\n",
    "\n",
    "# train_target = normalize_dataframe(train_target)\n"
   ]
  },
  {
   "cell_type": "code",
   "execution_count": 6,
   "metadata": {},
   "outputs": [],
   "source": [
    "N_samples = train_data.shape[0]\n",
    "DRUGS = ['AMIKACIN',\n",
    " 'CAPREOMYCIN',\n",
    " 'CIPROFLOXACIN',\n",
    " 'ETHAMBUTOL',\n",
    " 'ETHIONAMIDE',\n",
    " 'ISONIAZID',\n",
    " 'KANAMYCIN',\n",
    " 'LEVOFLOXACIN',\n",
    " 'MOXIFLOXACIN',\n",
    " 'OFLOXACIN',\n",
    " 'PYRAZINAMIDE',\n",
    " 'RIFAMPICIN',\n",
    " 'STREPTOMYCIN']\n",
    "\n",
    "DRUGS = train_target.columns\n",
    "LOCI = train_data.columns\n",
    "assert set(DRUGS) == set(train_target.columns)\n",
    "N_drugs = len(DRUGS)"
   ]
  },
  {
   "cell_type": "markdown",
   "metadata": {},
   "source": [
    "# Feature engineering"
   ]
  },
  {
   "cell_type": "code",
   "execution_count": 7,
   "metadata": {},
   "outputs": [],
   "source": [
    "y_true = pd.concat([train_target, test_target])\n",
    "\n",
    "column_weight_maps = {}\n",
    "\n",
    "for i, column in enumerate(y_true.columns):\n",
    "    # Extract the values for the current column\n",
    "    column_values = y_true[column].values\n",
    "    \n",
    "    # Calculate frequencies of each MIC value in the column\n",
    "    values, counts = np.unique(column_values, return_counts=True)\n",
    "    frequency = counts / len(column_values)\n",
    "    \n",
    "    # Calculate weights as the inverse of frequencies\n",
    "    weights_inverse = 1 / frequency\n",
    "    \n",
    "    # Normalize weights to ensure they sum up to 1 (optional but recommended for stability)\n",
    "    weights_normalized = weights_inverse / np.sum(weights_inverse)\n",
    "    \n",
    "    # Map each MIC value to its corresponding weight for the current column\n",
    "    weight_map = {value: weight for value, weight in zip(values, weights_normalized)}\n",
    "    \n",
    "    # Store the weight map for the current column\n",
    "    column_weight_maps[column] = weight_map\n",
    "    \n",
    "def get_weighted_masked_loss(loss_fn, column_weight_maps):\n",
    "    \"\"\"\n",
    "    Returns a loss function that ignores NaN values and applies weights from the corresponding column weight maps.\n",
    "\n",
    "    :param loss_fn: A loss function compatible with the data (e.g., MSELoss for regression).\n",
    "    :param column_weight_maps: A dictionary where keys are column indices and values are dictionaries mapping y_values to weights.\n",
    "    \"\"\"\n",
    "\n",
    "    def weighted_masked_loss(y_true, y_pred):\n",
    "        non_nan_mask = ~torch.isnan(y_true)\n",
    "        weighted_losses = []\n",
    "\n",
    "        # Iterate through each column, apply weights, and calculate the loss\n",
    "        for col_idx in range(y_true.shape[1]):\n",
    "            # Mask and select non-NaN values and predictions for the current column\n",
    "            col_non_nan_mask = non_nan_mask[:, col_idx]\n",
    "            y_true_col_non_nan = y_true[col_non_nan_mask, col_idx]\n",
    "            y_pred_col_non_nan = y_pred[col_non_nan_mask, col_idx]\n",
    "\n",
    "            # Retrieve the weight map for the current column\n",
    "            col_weight_map = column_weight_maps[col_idx]\n",
    "\n",
    "            # Get weights for each non-NaN value in the current column\n",
    "            weights_col = torch.tensor([col_weight_map.get(y.item(), 1) for y in y_true_col_non_nan], dtype=torch.float32, device=y_true.device)\n",
    "\n",
    "            # Calculate the loss for the current column\n",
    "            col_loss = loss_fn(y_pred_col_non_nan, y_true_col_non_nan)\n",
    "\n",
    "            # Weight the loss and store\n",
    "            weighted_col_loss = weights_col * col_loss\n",
    "            weighted_losses.append(weighted_col_loss)\n",
    "\n",
    "        # Concatenate weighted losses from all columns, calculate mean over all non-NaN entries\n",
    "        total_weighted_loss = torch.cat(weighted_losses).mean()\n",
    "\n",
    "        return total_weighted_loss\n",
    "\n",
    "    return weighted_masked_loss\n",
    "\n",
    "        \n",
    "        \n",
    "masked_weighted_MSE = get_weighted_masked_loss(torch.nn.MSELoss(), weight_map)"
   ]
  },
  {
   "cell_type": "code",
   "execution_count": 8,
   "metadata": {},
   "outputs": [],
   "source": [
    "def one_hot_torch(seq: str, dtype=torch.int8):\n",
    "    seq_bytes = torch.ByteTensor(list(bytes(seq, \"utf-8\")))\n",
    "    acgt_bytes = torch.ByteTensor(list(bytes(\"ACGT\", \"utf-8\")))\n",
    "    arr = torch.zeros(4, (len(seq_bytes)), dtype=dtype)\n",
    "    arr[0, seq_bytes == acgt_bytes[0]] = 1\n",
    "    arr[1, seq_bytes == acgt_bytes[1]] = 1\n",
    "    arr[2, seq_bytes == acgt_bytes[2]] = 1\n",
    "    arr[3, seq_bytes == acgt_bytes[3]] = 1\n",
    "    return arr\n",
    "\n",
    "# def one_hot_torch(seq):\n",
    "#     oh = []\n",
    "#     for sample in seq:\n",
    "#         sample = torch.ByteTensor(list(bytes(sample, \"utf-8\")))\n",
    "#         acgt_bytes = torch.ByteTensor(list(bytes(\"ACGT\", \"utf-8\")))\n",
    "#         arr = torch.zeros((len(sample), 4), dtype=torch.int8)\n",
    "#         arr[sample == acgt_bytes[0], 0] = 1\n",
    "#         arr[sample == acgt_bytes[1], 1] = 1\n",
    "#         arr[sample == acgt_bytes[2], 2] = 1\n",
    "#         arr[sample == acgt_bytes[3], 3] = 1\n",
    "#         oh.append(arr)\n",
    "#     return torch.stack(oh)\n",
    "\n",
    "def my_padding(seq_tuple):\n",
    "    list_x_ = list(seq_tuple)\n",
    "    max_len = len(max(list_x_, key=len))\n",
    "    for i, x in enumerate(list_x_):\n",
    "        list_x_[i] = x + \"N\"*(max_len-len(x))\n",
    "    return list_x_\n",
    "\n",
    "#! faster than my_padding try to incorporate\n",
    "def collate_padded_batch(batch):\n",
    "    # get max length of seqs in batch\n",
    "    max_len = max([x[0].shape[1] for x in batch])\n",
    "    return torch.utils.data.default_collate(\n",
    "        [(F.pad(x[0], (0, max_len - x[0].shape[1])), x[1]) for x in batch] #how does F.pad work\n",
    "    )\n",
    "\n",
    "\n",
    "def get_masked_loss(loss_fn):\n",
    "    \"\"\"\n",
    "    Returns a loss function that ignores NaN values\n",
    "    \"\"\"\n",
    "\n",
    "    def masked_loss(y_true, y_pred):\n",
    "        y_pred = y_pred.view(-1, 13)  # Ensure y_pred has the same shape as y_true and non_nan_mask\n",
    "        # ic(y_pred.shape)\n",
    "        # ic(y_true.shape)\n",
    "        non_nan_mask = ~y_true.isnan()\n",
    "        # ic(non_nan_mask)\n",
    "        y_true_non_nan = y_true[non_nan_mask]\n",
    "        y_pred_non_nan = y_pred[non_nan_mask]\n",
    "\n",
    "        return loss_fn(y_pred_non_nan, y_true_non_nan)\n",
    "\n",
    "    return masked_loss\n",
    "\n",
    "masked_MSE = get_masked_loss(torch.nn.MSELoss())"
   ]
  },
  {
   "cell_type": "markdown",
   "metadata": {},
   "source": [
    "# Dateset"
   ]
  },
  {
   "cell_type": "code",
   "execution_count": 9,
   "metadata": {},
   "outputs": [
    {
     "ename": "ValueError",
     "evalue": "Indices of sequence and resistance dataframes don't match up",
     "output_type": "error",
     "traceback": [
      "\u001b[0;31m---------------------------------------------------------------------------\u001b[0m",
      "\u001b[0;31mValueError\u001b[0m                                Traceback (most recent call last)",
      "\u001b[0;32m/tmp/ipykernel_25327/773410867.py\u001b[0m in \u001b[0;36m<module>\u001b[0;34m\u001b[0m\n\u001b[1;32m     46\u001b[0m         \u001b[0;32mreturn\u001b[0m \u001b[0mself\u001b[0m\u001b[0;34m.\u001b[0m\u001b[0mres_df\u001b[0m\u001b[0;34m.\u001b[0m\u001b[0mshape\u001b[0m\u001b[0;34m[\u001b[0m\u001b[0;36m0\u001b[0m\u001b[0;34m]\u001b[0m\u001b[0;34m\u001b[0m\u001b[0;34m\u001b[0m\u001b[0m\n\u001b[1;32m     47\u001b[0m \u001b[0;34m\u001b[0m\u001b[0m\n\u001b[0;32m---> 48\u001b[0;31m \u001b[0mtraining_dataset\u001b[0m \u001b[0;34m=\u001b[0m \u001b[0mOneHotSeqsDataset\u001b[0m\u001b[0;34m(\u001b[0m\u001b[0mtrain_data\u001b[0m\u001b[0;34m,\u001b[0m \u001b[0mtrain_target\u001b[0m\u001b[0;34m,\u001b[0m \u001b[0mone_hot_dtype\u001b[0m\u001b[0;34m=\u001b[0m\u001b[0mtorch\u001b[0m\u001b[0;34m.\u001b[0m\u001b[0mfloat\u001b[0m\u001b[0;34m,\u001b[0m \u001b[0mtransform\u001b[0m\u001b[0;34m=\u001b[0m\u001b[0;32mTrue\u001b[0m\u001b[0;34m)\u001b[0m\u001b[0;34m\u001b[0m\u001b[0;34m\u001b[0m\u001b[0m\n\u001b[0m\u001b[1;32m     49\u001b[0m \u001b[0mtrain_dataset\u001b[0m\u001b[0;34m,\u001b[0m \u001b[0mval_dataset\u001b[0m \u001b[0;34m=\u001b[0m \u001b[0mrandom_split\u001b[0m\u001b[0;34m(\u001b[0m\u001b[0mtraining_dataset\u001b[0m\u001b[0;34m,\u001b[0m \u001b[0;34m[\u001b[0m\u001b[0mint\u001b[0m\u001b[0;34m(\u001b[0m\u001b[0mlen\u001b[0m\u001b[0;34m(\u001b[0m\u001b[0mtraining_dataset\u001b[0m\u001b[0;34m)\u001b[0m\u001b[0;34m*\u001b[0m\u001b[0;36m0.9\u001b[0m\u001b[0;34m)\u001b[0m\u001b[0;34m,\u001b[0m \u001b[0mlen\u001b[0m\u001b[0;34m(\u001b[0m\u001b[0mtraining_dataset\u001b[0m\u001b[0;34m)\u001b[0m\u001b[0;34m-\u001b[0m\u001b[0mint\u001b[0m\u001b[0;34m(\u001b[0m\u001b[0mlen\u001b[0m\u001b[0;34m(\u001b[0m\u001b[0mtraining_dataset\u001b[0m\u001b[0;34m)\u001b[0m\u001b[0;34m*\u001b[0m\u001b[0;36m0.9\u001b[0m\u001b[0;34m)\u001b[0m\u001b[0;34m]\u001b[0m\u001b[0;34m)\u001b[0m\u001b[0;34m\u001b[0m\u001b[0;34m\u001b[0m\u001b[0m\n",
      "\u001b[0;32m/tmp/ipykernel_25327/773410867.py\u001b[0m in \u001b[0;36m__init__\u001b[0;34m(self, seq_df, res_df, target_loci, target_drugs, one_hot_dtype, transform)\u001b[0m\n\u001b[1;32m     13\u001b[0m         \u001b[0mself\u001b[0m\u001b[0;34m.\u001b[0m\u001b[0mres_df\u001b[0m \u001b[0;34m=\u001b[0m \u001b[0mres_df\u001b[0m\u001b[0;34m[\u001b[0m\u001b[0mtarget_drugs\u001b[0m\u001b[0;34m]\u001b[0m\u001b[0;34m\u001b[0m\u001b[0;34m\u001b[0m\u001b[0m\n\u001b[1;32m     14\u001b[0m         \u001b[0;32mif\u001b[0m \u001b[0;32mnot\u001b[0m \u001b[0mself\u001b[0m\u001b[0;34m.\u001b[0m\u001b[0mseq_df\u001b[0m\u001b[0;34m.\u001b[0m\u001b[0mindex\u001b[0m\u001b[0;34m.\u001b[0m\u001b[0mequals\u001b[0m\u001b[0;34m(\u001b[0m\u001b[0mself\u001b[0m\u001b[0;34m.\u001b[0m\u001b[0mres_df\u001b[0m\u001b[0;34m.\u001b[0m\u001b[0mindex\u001b[0m\u001b[0;34m)\u001b[0m\u001b[0;34m:\u001b[0m\u001b[0;34m\u001b[0m\u001b[0;34m\u001b[0m\u001b[0m\n\u001b[0;32m---> 15\u001b[0;31m             raise ValueError(\n\u001b[0m\u001b[1;32m     16\u001b[0m                 \u001b[0;34m\"Indices of sequence and resistance dataframes don't match up\"\u001b[0m\u001b[0;34m\u001b[0m\u001b[0;34m\u001b[0m\u001b[0m\n\u001b[1;32m     17\u001b[0m             )\n",
      "\u001b[0;31mValueError\u001b[0m: Indices of sequence and resistance dataframes don't match up"
     ]
    }
   ],
   "source": [
    "class OneHotSeqsDataset(torch.utils.data.Dataset): #? what's the difference between using inheritance and not?\n",
    "    def __init__(\n",
    "        self,\n",
    "        seq_df,\n",
    "        res_df,\n",
    "        target_loci=LOCI,\n",
    "        target_drugs=DRUGS,\n",
    "        one_hot_dtype=torch.int8,\n",
    "        transform=None,\n",
    "    ):\n",
    "        self.transform = transform\n",
    "        self.seq_df = seq_df[target_loci]\n",
    "        self.res_df = res_df[target_drugs]\n",
    "        if not self.seq_df.index.equals(self.res_df.index):\n",
    "            raise ValueError(\n",
    "                \"Indices of sequence and resistance dataframes don't match up\"\n",
    "            )\n",
    "        self.one_hot_dtype = one_hot_dtype\n",
    "\n",
    "    def __getitem__(self, index):\n",
    "        \"\"\"\n",
    "        numerical index --> get `index`-th sample\n",
    "        string index --> get sample with name `index`\n",
    "        \"\"\"\n",
    "        if isinstance(index, int):\n",
    "            seqs_comb = self.seq_df.iloc[index].str.cat()\n",
    "            res = self.res_df.iloc[index]\n",
    "        elif isinstance(index, str):\n",
    "            seqs_comb = self.seq_df.loc[index].str.cat()\n",
    "            res = self.res_df.loc[index]\n",
    "        else:\n",
    "            raise ValueError(\n",
    "                \"Index needs to be an integer or a sample name present in the dataset\"\n",
    "            )\n",
    "\n",
    "        if self.transform:\n",
    "            res = np.log(res)\n",
    "            \n",
    "            # self.res_mean = self.res_df.mean()\n",
    "            # self.res_std = self.res_df.std()\n",
    "            # res = (res - self.res_mean) / self.res_std\n",
    "            # res = self.transform(res)\n",
    "        return one_hot_torch(seqs_comb, dtype=self.one_hot_dtype), torch.tensor(res)\n",
    "\n",
    "    def __len__(self):\n",
    "        return self.res_df.shape[0]\n",
    "\n",
    "training_dataset = OneHotSeqsDataset(train_data, train_target, one_hot_dtype=torch.float, transform=True)\n",
    "train_dataset, val_dataset = random_split(training_dataset, [int(len(training_dataset)*0.9), len(training_dataset)-int(len(training_dataset)*0.9)])"
   ]
  },
  {
   "cell_type": "code",
   "execution_count": 10,
   "metadata": {},
   "outputs": [
    {
     "data": {
      "text/plain": [
       "(6783, 19)"
      ]
     },
     "execution_count": 10,
     "metadata": {},
     "output_type": "execute_result"
    }
   ],
   "source": [
    "train_data.shape"
   ]
  },
  {
   "cell_type": "code",
   "execution_count": 11,
   "metadata": {},
   "outputs": [
    {
     "data": {
      "text/plain": [
       "(6844, 1)"
      ]
     },
     "execution_count": 11,
     "metadata": {},
     "output_type": "execute_result"
    }
   ],
   "source": [
    "train_target.shape"
   ]
  },
  {
   "cell_type": "code",
   "execution_count": 27,
   "metadata": {},
   "outputs": [
    {
     "name": "stdout",
     "output_type": "stream",
     "text": [
      "tensor([[0., 0., 0.,  ..., 0., 0., 0.],\n",
      "        [0., 0., 0.,  ..., 0., 0., 0.],\n",
      "        [0., 0., 0.,  ..., 0., 1., 1.],\n",
      "        [0., 0., 0.,  ..., 1., 0., 0.]])\n",
      "tensor([-2.0794, -2.8134, -2.1203, -2.8134,  2.7726,  0.6931,  0.4700, -0.6931,\n",
      "         1.3863, -0.6931,  1.3863,  2.0794,  1.3863], dtype=torch.float64)\n"
     ]
    }
   ],
   "source": [
    "for x, y in train_dataset:\n",
    "    print(x)\n",
    "    print(y)\n",
    "    break"
   ]
  },
  {
   "cell_type": "markdown",
   "metadata": {},
   "source": [
    "# Model"
   ]
  },
  {
   "cell_type": "code",
   "execution_count": 28,
   "metadata": {},
   "outputs": [],
   "source": [
    "def save_to_file(file_path, appendix, epoch, lr, cnndr, fcdr, l2, train_loss, test_loss):\n",
    "    train_loss = [float(arr) for arr in train_loss]\n",
    "    test_loss = [float(arr) for arr in test_loss]\n",
    "    with open(file_path, \"a\") as f:\n",
    "        f.write(f\">> {appendix}, Epoch: {epoch}, LR: {lr}, cnnDR: {cnndr},  fnDR: {fcdr}, l2decay: {l2}\\n\")\n",
    "        f.write(f\"--- Train Loss: {train_loss}\\n\")\n",
    "        f.write(f\"--- Test Loss: {test_loss}\\n\")"
   ]
  },
  {
   "cell_type": "code",
   "execution_count": 29,
   "metadata": {},
   "outputs": [],
   "source": [
    "torch.cuda.empty_cache()\n",
    "\n",
    "class Model(nn.Module):\n",
    "    def __init__(\n",
    "        self,\n",
    "        in_channels=4,\n",
    "        num_classes=1,\n",
    "        num_filters=64,\n",
    "        filter_length=25,\n",
    "        num_conv_layers=2,\n",
    "        filter_scaling_factor=1.5,  # New parameter\n",
    "        num_dense_neurons=256,\n",
    "        num_dense_layers=2,\n",
    "        conv_dropout_rate=0.0,\n",
    "        dense_dropout_rate=0.2,\n",
    "        return_logits=False,\n",
    "    ):\n",
    "        super().__init__()\n",
    "        self.in_channels = in_channels\n",
    "        self.num_classes = num_classes\n",
    "        self.num_filters = num_filters\n",
    "        self.filter_length = filter_length\n",
    "        self.num_conv_layers = num_conv_layers\n",
    "        self.num_dense_layers = num_dense_layers\n",
    "        self.conv_dropout_rate = conv_dropout_rate\n",
    "        self.dense_dropout_rate = dense_dropout_rate\n",
    "        self.return_logits = return_logits\n",
    "        \n",
    "        # now define the actual model\n",
    "        self.feature_extraction_layer = self._conv_layer(\n",
    "            in_channels, num_filters, filter_length\n",
    "        )\n",
    "        \n",
    "        #dynamic filter scaling from deepram\n",
    "        current_num_filters = num_filters\n",
    "        self.conv_layers = nn.ModuleList()\n",
    "        for i in range(num_conv_layers):\n",
    "            layer = self._conv_layer(current_num_filters, int(current_num_filters * filter_scaling_factor), 3)\n",
    "            self.conv_layers.append(layer)\n",
    "            current_num_filters = int(current_num_filters * filter_scaling_factor)\n",
    "\n",
    "        self.dense_layers = nn.ModuleList(\n",
    "            self._dense_layer(input_dim, num_dense_neurons)\n",
    "            for input_dim in [current_num_filters]\n",
    "            + [num_dense_neurons] * (num_dense_layers - 1) #how does this work?\n",
    "        )\n",
    "        self.prediction_layer = (\n",
    "            nn.Linear(num_dense_neurons, num_classes)\n",
    "            if return_logits\n",
    "            else nn.Sequential(nn.Linear(num_dense_neurons, num_classes), nn.ReLU()) #difference between sequential and nn.moduleList?\n",
    "        )\n",
    "        \n",
    "        self.apply(self.init_weights)    \n",
    "    \n",
    "    def init_weights(self, m):\n",
    "        if isinstance(m, nn.Linear):\n",
    "            nn.init.kaiming_normal_(m.weight, mode='fan_in', nonlinearity='relu')\n",
    "            if m.bias is not None:\n",
    "                nn.init.constant_(m.bias, 0)\n",
    "    \n",
    "    def _conv_layer(self, in_channels, out_channels, kernel_size):\n",
    "        return nn.Sequential(\n",
    "            nn.Dropout(p=self.conv_dropout_rate),\n",
    "            nn.Conv1d(in_channels, out_channels, kernel_size=kernel_size),\n",
    "            # nn.BatchNorm1d(out_channels),\n",
    "            nn.ReLU(),\n",
    "        )\n",
    "\n",
    "    def _dense_layer(self, n_in, n_out):\n",
    "        return nn.Sequential(\n",
    "            nn.Dropout(p=self.dense_dropout_rate),\n",
    "            nn.Linear(n_in, n_out),\n",
    "            # nn.BatchNorm1d(n_out),\n",
    "            nn.ReLU(),\n",
    "        )\n",
    "\n",
    "    def forward(self, x):\n",
    "        # first pass over input\n",
    "        # print(x.size())\n",
    "        x = self.feature_extraction_layer(x)\n",
    "        # conv layers\n",
    "        for layer in self.conv_layers:\n",
    "            x = layer(x)\n",
    "        # global max pool 1D\n",
    "        x = torch.max(x, dim=-1).values\n",
    "        x = x.view(x.size(0), -1)  # Flattening the tensor to [batch_size, features]\n",
    "        # ic(x.shape)\n",
    "        # fully connected layers\n",
    "        for layer in self.dense_layers:\n",
    "            x = layer(x)\n",
    "        ic(x.shape)\n",
    "        x = self.prediction_layer(x)\n",
    "        ic(x.shape)\n",
    "        return x\n",
    "\n",
    "model = Model(\n",
    "num_classes=13,\n",
    "num_filters=64,\n",
    "num_conv_layers=2,\n",
    "num_dense_neurons=256, # batch_size = 64\n",
    "# num_dense_neurons=128, # batch_size = 64\n",
    "num_dense_layers=2,\n",
    "return_logits=True,\n",
    "conv_dropout_rate=0,\n",
    "dense_dropout_rate=0.2\n",
    ").to(device)\n",
    "\n",
    "# model = Model( #! way too memory intensive\n",
    "# num_classes=13,\n",
    "# num_filters=128,\n",
    "# num_conv_layers=2,\n",
    "# num_dense_neurons=64, # batch_size = 64\n",
    "\n",
    "# num_dense_layers=2,\n",
    "# return_logits=True,\n",
    "# conv_dropout_rate=0,\n",
    "# dense_dropout_rate=0\n",
    "# ).to(device)\n",
    "## early stopping\n",
    "best_val_loss = float('inf')\n",
    "patience = 10  # How many epochs to wait after last time validation loss improved.\n",
    "patience_counter = 0\n",
    "\n",
    "\n",
    "\n",
    "epoch = 250\n",
    "batch_size = 128\n",
    "# lr = 0.0085\n",
    "# lr = 0.00002\n",
    "lr = 1e-4\n",
    "\n",
    "train_loader = DataLoader(dataset=train_dataset, batch_size=batch_size, shuffle=True, collate_fn=collate_padded_batch ,num_workers=8, drop_last=True)\n",
    "test_loader = DataLoader(dataset=val_dataset, batch_size=batch_size, collate_fn=collate_padded_batch, num_workers=8, shuffle=True, drop_last=True)\n",
    "# criterion = nn.MSELoss()\n",
    "criterion = masked_weighted_MSE\n",
    "optimizer = torch.optim.Adam(model.parameters(), lr=lr,  weight_decay=1e-9)\n",
    "\n",
    "# optimizer = torch.optim.SGD(model.parameters(), lr=lr)\n",
    "# optimizer = torch.optim.RMSprop(model.parameters(), lr=lr)\n",
    "# scheduler = torch.optim.lr_scheduler.ReduceLROnPlateau(optimizer, 'min', factor=0.5, patience=2, verbose=True)"
   ]
  },
  {
   "cell_type": "code",
   "execution_count": null,
   "metadata": {},
   "outputs": [],
   "source": [
    "from torchsummary import summary\n",
    "summary(model, (4, 56850))\n"
   ]
  },
  {
   "cell_type": "markdown",
   "metadata": {},
   "source": [
    "# Training"
   ]
  },
  {
   "cell_type": "markdown",
   "metadata": {},
   "source": [
    "### Training"
   ]
  },
  {
   "cell_type": "code",
   "execution_count": 28,
   "metadata": {},
   "outputs": [
    {
     "name": "stderr",
     "output_type": "stream",
     "text": [
      "  0%|          | 1/250 [00:44<3:05:21, 44.66s/it]"
     ]
    },
    {
     "name": "stdout",
     "output_type": "stream",
     "text": [
      "Epoch 1\n",
      "Training loss: 3.8814408779144287\n",
      "Validation loss: 2.188596725463867\n"
     ]
    },
    {
     "name": "stderr",
     "output_type": "stream",
     "text": [
      "  1%|          | 2/250 [01:29<3:04:47, 44.71s/it]"
     ]
    },
    {
     "name": "stdout",
     "output_type": "stream",
     "text": [
      "Epoch 2\n",
      "Training loss: 2.2864890098571777\n",
      "Validation loss: 2.154508113861084\n"
     ]
    },
    {
     "name": "stderr",
     "output_type": "stream",
     "text": [
      "  1%|          | 3/250 [02:13<3:03:20, 44.54s/it]"
     ]
    },
    {
     "name": "stdout",
     "output_type": "stream",
     "text": [
      "Epoch 3\n",
      "Training loss: 2.2612557411193848\n",
      "Validation loss: 2.1737301349639893\n"
     ]
    },
    {
     "name": "stderr",
     "output_type": "stream",
     "text": [
      "  2%|▏         | 4/250 [02:57<3:02:07, 44.42s/it]"
     ]
    },
    {
     "name": "stdout",
     "output_type": "stream",
     "text": [
      "Epoch 4\n",
      "Training loss: 2.242351770401001\n",
      "Validation loss: 2.1638076305389404\n"
     ]
    },
    {
     "name": "stderr",
     "output_type": "stream",
     "text": [
      "  2%|▏         | 5/250 [03:43<3:02:17, 44.64s/it]"
     ]
    },
    {
     "name": "stdout",
     "output_type": "stream",
     "text": [
      "Epoch 5\n",
      "Training loss: 2.223731517791748\n",
      "Validation loss: 2.1550440788269043\n"
     ]
    },
    {
     "name": "stderr",
     "output_type": "stream",
     "text": [
      "  2%|▏         | 6/250 [04:27<3:01:01, 44.51s/it]"
     ]
    },
    {
     "name": "stdout",
     "output_type": "stream",
     "text": [
      "Epoch 6\n",
      "Training loss: 2.2163808345794678\n",
      "Validation loss: 2.168262004852295\n"
     ]
    },
    {
     "name": "stderr",
     "output_type": "stream",
     "text": [
      "  3%|▎         | 7/250 [05:11<3:00:06, 44.47s/it]"
     ]
    },
    {
     "name": "stdout",
     "output_type": "stream",
     "text": [
      "Epoch 7\n",
      "Training loss: 2.208390235900879\n",
      "Validation loss: 2.1656484603881836\n"
     ]
    },
    {
     "name": "stderr",
     "output_type": "stream",
     "text": [
      "  3%|▎         | 8/250 [05:55<2:59:07, 44.41s/it]"
     ]
    },
    {
     "name": "stdout",
     "output_type": "stream",
     "text": [
      "Epoch 8\n",
      "Training loss: 2.19313645362854\n",
      "Validation loss: 2.1545329093933105\n"
     ]
    },
    {
     "name": "stderr",
     "output_type": "stream",
     "text": [
      "  4%|▎         | 9/250 [06:40<2:58:06, 44.34s/it]"
     ]
    },
    {
     "name": "stdout",
     "output_type": "stream",
     "text": [
      "Epoch 9\n",
      "Training loss: 2.1855485439300537\n",
      "Validation loss: 2.150326728820801\n"
     ]
    },
    {
     "name": "stderr",
     "output_type": "stream",
     "text": [
      "  4%|▍         | 10/250 [07:24<2:57:07, 44.28s/it]"
     ]
    },
    {
     "name": "stdout",
     "output_type": "stream",
     "text": [
      "Epoch 10\n",
      "Training loss: 2.1734631061553955\n",
      "Validation loss: 2.120966911315918\n"
     ]
    },
    {
     "name": "stderr",
     "output_type": "stream",
     "text": [
      "  4%|▍         | 11/250 [08:08<2:56:13, 44.24s/it]"
     ]
    },
    {
     "name": "stdout",
     "output_type": "stream",
     "text": [
      "Epoch 11\n",
      "Training loss: 2.1555914878845215\n",
      "Validation loss: 2.0765910148620605\n"
     ]
    },
    {
     "name": "stderr",
     "output_type": "stream",
     "text": [
      "  5%|▍         | 12/250 [08:52<2:55:25, 44.23s/it]"
     ]
    },
    {
     "name": "stdout",
     "output_type": "stream",
     "text": [
      "Epoch 12\n",
      "Training loss: 2.1153552532196045\n",
      "Validation loss: 2.041003704071045\n"
     ]
    },
    {
     "name": "stderr",
     "output_type": "stream",
     "text": [
      "  5%|▌         | 13/250 [09:36<2:54:32, 44.19s/it]"
     ]
    },
    {
     "name": "stdout",
     "output_type": "stream",
     "text": [
      "Epoch 13\n",
      "Training loss: 2.0460166931152344\n",
      "Validation loss: 1.9151027202606201\n"
     ]
    },
    {
     "name": "stderr",
     "output_type": "stream",
     "text": [
      "  6%|▌         | 14/250 [10:20<2:53:41, 44.16s/it]"
     ]
    },
    {
     "name": "stdout",
     "output_type": "stream",
     "text": [
      "Epoch 14\n",
      "Training loss: 1.978954553604126\n",
      "Validation loss: 1.841098427772522\n"
     ]
    },
    {
     "name": "stderr",
     "output_type": "stream",
     "text": [
      "  6%|▌         | 15/250 [11:05<2:53:06, 44.20s/it]"
     ]
    },
    {
     "name": "stdout",
     "output_type": "stream",
     "text": [
      "Epoch 15\n",
      "Training loss: 1.9222218990325928\n",
      "Validation loss: 1.750525951385498\n"
     ]
    },
    {
     "name": "stderr",
     "output_type": "stream",
     "text": [
      "  6%|▋         | 16/250 [11:49<2:52:16, 44.18s/it]"
     ]
    },
    {
     "name": "stdout",
     "output_type": "stream",
     "text": [
      "Epoch 16\n",
      "Training loss: 1.8877451419830322\n",
      "Validation loss: 1.7092972993850708\n"
     ]
    },
    {
     "name": "stderr",
     "output_type": "stream",
     "text": [
      "  7%|▋         | 17/250 [12:33<2:51:55, 44.27s/it]"
     ]
    },
    {
     "name": "stdout",
     "output_type": "stream",
     "text": [
      "Epoch 17\n",
      "Training loss: 1.8664687871932983\n",
      "Validation loss: 1.7144100666046143\n"
     ]
    },
    {
     "name": "stderr",
     "output_type": "stream",
     "text": [
      "  7%|▋         | 18/250 [13:17<2:50:56, 44.21s/it]"
     ]
    },
    {
     "name": "stdout",
     "output_type": "stream",
     "text": [
      "Epoch 18\n",
      "Training loss: 1.8359334468841553\n",
      "Validation loss: 1.7088910341262817\n"
     ]
    },
    {
     "name": "stderr",
     "output_type": "stream",
     "text": [
      "  8%|▊         | 19/250 [14:01<2:50:02, 44.17s/it]"
     ]
    },
    {
     "name": "stdout",
     "output_type": "stream",
     "text": [
      "Epoch 19\n",
      "Training loss: 1.8300291299819946\n",
      "Validation loss: 1.6715123653411865\n"
     ]
    },
    {
     "name": "stderr",
     "output_type": "stream",
     "text": [
      "  8%|▊         | 20/250 [14:46<2:49:27, 44.21s/it]"
     ]
    },
    {
     "name": "stdout",
     "output_type": "stream",
     "text": [
      "Epoch 20\n",
      "Training loss: 1.8135745525360107\n",
      "Validation loss: 1.6773767471313477\n"
     ]
    },
    {
     "name": "stderr",
     "output_type": "stream",
     "text": [
      "  8%|▊         | 21/250 [15:30<2:48:58, 44.27s/it]"
     ]
    },
    {
     "name": "stdout",
     "output_type": "stream",
     "text": [
      "Epoch 21\n",
      "Training loss: 1.798270583152771\n",
      "Validation loss: 1.6744623184204102\n"
     ]
    },
    {
     "name": "stderr",
     "output_type": "stream",
     "text": [
      "  9%|▉         | 22/250 [16:15<2:48:27, 44.33s/it]"
     ]
    },
    {
     "name": "stdout",
     "output_type": "stream",
     "text": [
      "Epoch 22\n",
      "Training loss: 1.788072943687439\n",
      "Validation loss: 1.6870458126068115\n"
     ]
    },
    {
     "name": "stderr",
     "output_type": "stream",
     "text": [
      "  9%|▉         | 23/250 [16:59<2:47:41, 44.33s/it]"
     ]
    },
    {
     "name": "stdout",
     "output_type": "stream",
     "text": [
      "Epoch 23\n",
      "Training loss: 1.7795954942703247\n",
      "Validation loss: 1.6526248455047607\n"
     ]
    },
    {
     "name": "stderr",
     "output_type": "stream",
     "text": [
      " 10%|▉         | 24/250 [17:43<2:47:14, 44.40s/it]"
     ]
    },
    {
     "name": "stdout",
     "output_type": "stream",
     "text": [
      "Epoch 24\n",
      "Training loss: 1.7664976119995117\n",
      "Validation loss: 1.6327829360961914\n"
     ]
    },
    {
     "name": "stderr",
     "output_type": "stream",
     "text": [
      " 10%|█         | 25/250 [18:33<2:51:48, 45.82s/it]"
     ]
    },
    {
     "name": "stdout",
     "output_type": "stream",
     "text": [
      "Epoch 25\n",
      "Training loss: 1.7540496587753296\n",
      "Validation loss: 1.67429780960083\n"
     ]
    },
    {
     "name": "stderr",
     "output_type": "stream",
     "text": [
      " 10%|█         | 26/250 [19:35<3:09:09, 50.67s/it]"
     ]
    },
    {
     "name": "stdout",
     "output_type": "stream",
     "text": [
      "Epoch 26\n",
      "Training loss: 1.7460582256317139\n",
      "Validation loss: 1.6490482091903687\n"
     ]
    },
    {
     "name": "stderr",
     "output_type": "stream",
     "text": [
      " 11%|█         | 27/250 [20:20<3:02:32, 49.11s/it]"
     ]
    },
    {
     "name": "stdout",
     "output_type": "stream",
     "text": [
      "Epoch 27\n",
      "Training loss: 1.7234939336776733\n",
      "Validation loss: 1.6283674240112305\n"
     ]
    },
    {
     "name": "stderr",
     "output_type": "stream",
     "text": [
      " 11%|█         | 28/250 [21:05<2:57:01, 47.84s/it]"
     ]
    },
    {
     "name": "stdout",
     "output_type": "stream",
     "text": [
      "Epoch 28\n",
      "Training loss: 1.7192332744598389\n",
      "Validation loss: 1.616736888885498\n"
     ]
    },
    {
     "name": "stderr",
     "output_type": "stream",
     "text": [
      " 12%|█▏        | 29/250 [21:50<2:53:03, 46.98s/it]"
     ]
    },
    {
     "name": "stdout",
     "output_type": "stream",
     "text": [
      "Epoch 29\n",
      "Training loss: 1.7061823606491089\n",
      "Validation loss: 1.6181584596633911\n"
     ]
    },
    {
     "name": "stderr",
     "output_type": "stream",
     "text": [
      " 12%|█▏        | 30/250 [22:35<2:50:32, 46.51s/it]"
     ]
    },
    {
     "name": "stdout",
     "output_type": "stream",
     "text": [
      "Epoch 30\n",
      "Training loss: 1.7047312259674072\n",
      "Validation loss: 1.614854097366333\n"
     ]
    },
    {
     "name": "stderr",
     "output_type": "stream",
     "text": [
      " 12%|█▏        | 31/250 [23:21<2:48:24, 46.14s/it]"
     ]
    },
    {
     "name": "stdout",
     "output_type": "stream",
     "text": [
      "Epoch 31\n",
      "Training loss: 1.6854207515716553\n",
      "Validation loss: 1.5913939476013184\n"
     ]
    },
    {
     "name": "stderr",
     "output_type": "stream",
     "text": [
      " 13%|█▎        | 32/250 [24:06<2:47:00, 45.97s/it]"
     ]
    },
    {
     "name": "stdout",
     "output_type": "stream",
     "text": [
      "Epoch 32\n",
      "Training loss: 1.6773085594177246\n",
      "Validation loss: 1.5983915328979492\n"
     ]
    },
    {
     "name": "stderr",
     "output_type": "stream",
     "text": [
      " 13%|█▎        | 33/250 [24:52<2:46:08, 45.94s/it]"
     ]
    },
    {
     "name": "stdout",
     "output_type": "stream",
     "text": [
      "Epoch 33\n",
      "Training loss: 1.6572930812835693\n",
      "Validation loss: 1.5635634660720825\n"
     ]
    },
    {
     "name": "stderr",
     "output_type": "stream",
     "text": [
      " 14%|█▎        | 34/250 [25:37<2:44:46, 45.77s/it]"
     ]
    },
    {
     "name": "stdout",
     "output_type": "stream",
     "text": [
      "Epoch 34\n",
      "Training loss: 1.6424424648284912\n",
      "Validation loss: 1.5448405742645264\n"
     ]
    },
    {
     "name": "stderr",
     "output_type": "stream",
     "text": [
      " 14%|█▍        | 35/250 [26:23<2:43:46, 45.70s/it]"
     ]
    },
    {
     "name": "stdout",
     "output_type": "stream",
     "text": [
      "Epoch 35\n",
      "Training loss: 1.623397707939148\n",
      "Validation loss: 1.5142509937286377\n"
     ]
    },
    {
     "name": "stderr",
     "output_type": "stream",
     "text": [
      " 14%|█▍        | 36/250 [27:08<2:42:17, 45.50s/it]"
     ]
    },
    {
     "name": "stdout",
     "output_type": "stream",
     "text": [
      "Epoch 36\n",
      "Training loss: 1.6007024049758911\n",
      "Validation loss: 1.491355299949646\n"
     ]
    },
    {
     "name": "stderr",
     "output_type": "stream",
     "text": [
      " 15%|█▍        | 37/250 [27:53<2:41:19, 45.44s/it]"
     ]
    },
    {
     "name": "stdout",
     "output_type": "stream",
     "text": [
      "Epoch 37\n",
      "Training loss: 1.5715941190719604\n",
      "Validation loss: 1.4938338994979858\n"
     ]
    },
    {
     "name": "stderr",
     "output_type": "stream",
     "text": [
      " 15%|█▌        | 38/250 [28:38<2:40:09, 45.33s/it]"
     ]
    },
    {
     "name": "stdout",
     "output_type": "stream",
     "text": [
      "Epoch 38\n",
      "Training loss: 1.5620037317276\n",
      "Validation loss: 1.4846669435501099\n"
     ]
    },
    {
     "name": "stderr",
     "output_type": "stream",
     "text": [
      " 16%|█▌        | 39/250 [29:24<2:39:20, 45.31s/it]"
     ]
    },
    {
     "name": "stdout",
     "output_type": "stream",
     "text": [
      "Epoch 39\n",
      "Training loss: 1.5576328039169312\n",
      "Validation loss: 1.4682109355926514\n"
     ]
    },
    {
     "name": "stderr",
     "output_type": "stream",
     "text": [
      " 16%|█▌        | 40/250 [30:11<2:40:29, 45.86s/it]"
     ]
    },
    {
     "name": "stdout",
     "output_type": "stream",
     "text": [
      "Epoch 40\n",
      "Training loss: 1.5547925233840942\n",
      "Validation loss: 1.4449350833892822\n"
     ]
    },
    {
     "name": "stderr",
     "output_type": "stream",
     "text": [
      " 16%|█▋        | 41/250 [31:11<2:55:09, 50.28s/it]"
     ]
    },
    {
     "name": "stdout",
     "output_type": "stream",
     "text": [
      "Epoch 41\n",
      "Training loss: 1.5302249193191528\n",
      "Validation loss: 1.4340193271636963\n"
     ]
    },
    {
     "name": "stderr",
     "output_type": "stream",
     "text": [
      " 17%|█▋        | 42/250 [31:57<2:49:19, 48.84s/it]"
     ]
    },
    {
     "name": "stdout",
     "output_type": "stream",
     "text": [
      "Epoch 42\n",
      "Training loss: 1.5391499996185303\n",
      "Validation loss: 1.41347074508667\n"
     ]
    },
    {
     "name": "stderr",
     "output_type": "stream",
     "text": [
      " 17%|█▋        | 43/250 [32:42<2:44:35, 47.71s/it]"
     ]
    },
    {
     "name": "stdout",
     "output_type": "stream",
     "text": [
      "Epoch 43\n",
      "Training loss: 1.5205553770065308\n",
      "Validation loss: 1.4420194625854492\n"
     ]
    },
    {
     "name": "stderr",
     "output_type": "stream",
     "text": [
      " 18%|█▊        | 44/250 [33:27<2:41:07, 46.93s/it]"
     ]
    },
    {
     "name": "stdout",
     "output_type": "stream",
     "text": [
      "Epoch 44\n",
      "Training loss: 1.5261421203613281\n",
      "Validation loss: 1.4213387966156006\n"
     ]
    },
    {
     "name": "stderr",
     "output_type": "stream",
     "text": [
      " 18%|█▊        | 45/250 [34:12<2:38:17, 46.33s/it]"
     ]
    },
    {
     "name": "stdout",
     "output_type": "stream",
     "text": [
      "Epoch 45\n",
      "Training loss: 1.5098735094070435\n",
      "Validation loss: 1.428490400314331\n"
     ]
    },
    {
     "name": "stderr",
     "output_type": "stream",
     "text": [
      " 18%|█▊        | 46/250 [34:57<2:36:28, 46.02s/it]"
     ]
    },
    {
     "name": "stdout",
     "output_type": "stream",
     "text": [
      "Epoch 46\n",
      "Training loss: 1.5051226615905762\n",
      "Validation loss: 1.4193100929260254\n"
     ]
    },
    {
     "name": "stderr",
     "output_type": "stream",
     "text": [
      " 19%|█▉        | 47/250 [35:42<2:34:36, 45.70s/it]"
     ]
    },
    {
     "name": "stdout",
     "output_type": "stream",
     "text": [
      "Epoch 47\n",
      "Training loss: 1.5245429277420044\n",
      "Validation loss: 1.4128414392471313\n"
     ]
    },
    {
     "name": "stderr",
     "output_type": "stream",
     "text": [
      " 19%|█▉        | 48/250 [36:27<2:33:13, 45.51s/it]"
     ]
    },
    {
     "name": "stdout",
     "output_type": "stream",
     "text": [
      "Epoch 48\n",
      "Training loss: 1.509711503982544\n",
      "Validation loss: 1.3949246406555176\n"
     ]
    },
    {
     "name": "stderr",
     "output_type": "stream",
     "text": [
      " 20%|█▉        | 49/250 [37:12<2:31:48, 45.32s/it]"
     ]
    },
    {
     "name": "stdout",
     "output_type": "stream",
     "text": [
      "Epoch 49\n",
      "Training loss: 1.5132577419281006\n",
      "Validation loss: 1.422197699546814\n"
     ]
    },
    {
     "name": "stderr",
     "output_type": "stream",
     "text": [
      " 20%|██        | 50/250 [37:57<2:30:41, 45.21s/it]"
     ]
    },
    {
     "name": "stdout",
     "output_type": "stream",
     "text": [
      "Epoch 50\n",
      "Training loss: 1.5008537769317627\n",
      "Validation loss: 1.4287737607955933\n"
     ]
    },
    {
     "name": "stderr",
     "output_type": "stream",
     "text": [
      " 20%|██        | 51/250 [38:42<2:29:54, 45.20s/it]"
     ]
    },
    {
     "name": "stdout",
     "output_type": "stream",
     "text": [
      "Epoch 51\n",
      "Training loss: 1.4850867986679077\n",
      "Validation loss: 1.4304742813110352\n"
     ]
    },
    {
     "name": "stderr",
     "output_type": "stream",
     "text": [
      " 21%|██        | 52/250 [39:27<2:28:45, 45.08s/it]"
     ]
    },
    {
     "name": "stdout",
     "output_type": "stream",
     "text": [
      "Epoch 52\n",
      "Training loss: 1.4728057384490967\n",
      "Validation loss: 1.4182124137878418\n"
     ]
    },
    {
     "name": "stderr",
     "output_type": "stream",
     "text": [
      " 21%|██        | 53/250 [40:12<2:27:51, 45.03s/it]"
     ]
    },
    {
     "name": "stdout",
     "output_type": "stream",
     "text": [
      "Epoch 53\n",
      "Training loss: 1.4813830852508545\n",
      "Validation loss: 1.3889163732528687\n"
     ]
    },
    {
     "name": "stderr",
     "output_type": "stream",
     "text": [
      " 22%|██▏       | 54/250 [40:57<2:27:06, 45.03s/it]"
     ]
    },
    {
     "name": "stdout",
     "output_type": "stream",
     "text": [
      "Epoch 54\n",
      "Training loss: 1.4862228631973267\n",
      "Validation loss: 1.4051892757415771\n"
     ]
    },
    {
     "name": "stderr",
     "output_type": "stream",
     "text": [
      " 22%|██▏       | 55/250 [41:42<2:26:19, 45.03s/it]"
     ]
    },
    {
     "name": "stdout",
     "output_type": "stream",
     "text": [
      "Epoch 55\n",
      "Training loss: 1.483091115951538\n",
      "Validation loss: 1.3953708410263062\n"
     ]
    },
    {
     "name": "stderr",
     "output_type": "stream",
     "text": [
      " 22%|██▏       | 56/250 [42:36<2:34:35, 47.81s/it]"
     ]
    },
    {
     "name": "stdout",
     "output_type": "stream",
     "text": [
      "Epoch 56\n",
      "Training loss: 1.460452675819397\n",
      "Validation loss: 1.3925695419311523\n"
     ]
    },
    {
     "name": "stderr",
     "output_type": "stream",
     "text": [
      " 23%|██▎       | 57/250 [43:21<2:31:10, 47.00s/it]"
     ]
    },
    {
     "name": "stdout",
     "output_type": "stream",
     "text": [
      "Epoch 57\n",
      "Training loss: 1.4792875051498413\n",
      "Validation loss: 1.4240450859069824\n"
     ]
    },
    {
     "name": "stderr",
     "output_type": "stream",
     "text": [
      " 23%|██▎       | 58/250 [44:06<2:28:20, 46.36s/it]"
     ]
    },
    {
     "name": "stdout",
     "output_type": "stream",
     "text": [
      "Epoch 58\n",
      "Training loss: 1.4673895835876465\n",
      "Validation loss: 1.3989930152893066\n"
     ]
    },
    {
     "name": "stderr",
     "output_type": "stream",
     "text": [
      " 24%|██▎       | 59/250 [44:51<2:26:28, 46.01s/it]"
     ]
    },
    {
     "name": "stdout",
     "output_type": "stream",
     "text": [
      "Epoch 59\n",
      "Training loss: 1.4752684831619263\n",
      "Validation loss: 1.400679111480713\n"
     ]
    },
    {
     "name": "stderr",
     "output_type": "stream",
     "text": [
      " 24%|██▍       | 60/250 [45:36<2:24:45, 45.71s/it]"
     ]
    },
    {
     "name": "stdout",
     "output_type": "stream",
     "text": [
      "Epoch 60\n",
      "Training loss: 1.462970495223999\n",
      "Validation loss: 1.3919235467910767\n"
     ]
    },
    {
     "name": "stderr",
     "output_type": "stream",
     "text": [
      " 24%|██▍       | 61/250 [46:22<2:23:39, 45.61s/it]"
     ]
    },
    {
     "name": "stdout",
     "output_type": "stream",
     "text": [
      "Epoch 61\n",
      "Training loss: 1.4560580253601074\n",
      "Validation loss: 1.3810763359069824\n"
     ]
    },
    {
     "name": "stderr",
     "output_type": "stream",
     "text": [
      " 25%|██▍       | 62/250 [47:07<2:22:47, 45.57s/it]"
     ]
    },
    {
     "name": "stdout",
     "output_type": "stream",
     "text": [
      "Epoch 62\n",
      "Training loss: 1.4546869993209839\n",
      "Validation loss: 1.3868739604949951\n"
     ]
    },
    {
     "name": "stderr",
     "output_type": "stream",
     "text": [
      " 25%|██▌       | 63/250 [47:53<2:21:44, 45.48s/it]"
     ]
    },
    {
     "name": "stdout",
     "output_type": "stream",
     "text": [
      "Epoch 63\n",
      "Training loss: 1.448805570602417\n",
      "Validation loss: 1.376339316368103\n"
     ]
    },
    {
     "name": "stderr",
     "output_type": "stream",
     "text": [
      " 26%|██▌       | 64/250 [48:37<2:20:08, 45.21s/it]"
     ]
    },
    {
     "name": "stdout",
     "output_type": "stream",
     "text": [
      "Epoch 64\n",
      "Training loss: 1.452393889427185\n",
      "Validation loss: 1.3777574300765991\n"
     ]
    },
    {
     "name": "stderr",
     "output_type": "stream",
     "text": [
      " 26%|██▌       | 65/250 [49:22<2:19:12, 45.15s/it]"
     ]
    },
    {
     "name": "stdout",
     "output_type": "stream",
     "text": [
      "Epoch 65\n",
      "Training loss: 1.4460971355438232\n",
      "Validation loss: 1.3774524927139282\n"
     ]
    },
    {
     "name": "stderr",
     "output_type": "stream",
     "text": [
      " 26%|██▋       | 66/250 [50:07<2:18:26, 45.15s/it]"
     ]
    },
    {
     "name": "stdout",
     "output_type": "stream",
     "text": [
      "Epoch 66\n",
      "Training loss: 1.4409043788909912\n",
      "Validation loss: 1.3676261901855469\n"
     ]
    },
    {
     "name": "stderr",
     "output_type": "stream",
     "text": [
      " 27%|██▋       | 67/250 [50:52<2:17:32, 45.09s/it]"
     ]
    },
    {
     "name": "stdout",
     "output_type": "stream",
     "text": [
      "Epoch 67\n",
      "Training loss: 1.4340213537216187\n",
      "Validation loss: 1.3625237941741943\n"
     ]
    },
    {
     "name": "stderr",
     "output_type": "stream",
     "text": [
      " 27%|██▋       | 68/250 [51:37<2:16:48, 45.10s/it]"
     ]
    },
    {
     "name": "stdout",
     "output_type": "stream",
     "text": [
      "Epoch 68\n",
      "Training loss: 1.4278534650802612\n",
      "Validation loss: 1.358870506286621\n"
     ]
    },
    {
     "name": "stderr",
     "output_type": "stream",
     "text": [
      " 28%|██▊       | 69/250 [52:22<2:15:51, 45.04s/it]"
     ]
    },
    {
     "name": "stdout",
     "output_type": "stream",
     "text": [
      "Epoch 69\n",
      "Training loss: 1.4340120553970337\n",
      "Validation loss: 1.3581445217132568\n"
     ]
    },
    {
     "name": "stderr",
     "output_type": "stream",
     "text": [
      " 28%|██▊       | 70/250 [53:07<2:14:50, 44.95s/it]"
     ]
    },
    {
     "name": "stdout",
     "output_type": "stream",
     "text": [
      "Epoch 70\n",
      "Training loss: 1.423417568206787\n",
      "Validation loss: 1.3539105653762817\n"
     ]
    },
    {
     "name": "stderr",
     "output_type": "stream",
     "text": [
      " 28%|██▊       | 71/250 [54:08<2:28:22, 49.73s/it]"
     ]
    },
    {
     "name": "stdout",
     "output_type": "stream",
     "text": [
      "Epoch 71\n",
      "Training loss: 1.4100966453552246\n",
      "Validation loss: 1.3417246341705322\n"
     ]
    },
    {
     "name": "stderr",
     "output_type": "stream",
     "text": [
      " 29%|██▉       | 72/250 [54:53<2:23:17, 48.30s/it]"
     ]
    },
    {
     "name": "stdout",
     "output_type": "stream",
     "text": [
      "Epoch 72\n",
      "Training loss: 1.41114342212677\n",
      "Validation loss: 1.337049126625061\n"
     ]
    },
    {
     "name": "stderr",
     "output_type": "stream",
     "text": [
      " 29%|██▉       | 73/250 [55:38<2:19:37, 47.33s/it]"
     ]
    },
    {
     "name": "stdout",
     "output_type": "stream",
     "text": [
      "Epoch 73\n",
      "Training loss: 1.403397560119629\n",
      "Validation loss: 1.3480364084243774\n"
     ]
    },
    {
     "name": "stderr",
     "output_type": "stream",
     "text": [
      " 30%|██▉       | 74/250 [56:23<2:16:30, 46.54s/it]"
     ]
    },
    {
     "name": "stdout",
     "output_type": "stream",
     "text": [
      "Epoch 74\n",
      "Training loss: 1.4096688032150269\n",
      "Validation loss: 1.3401825428009033\n"
     ]
    },
    {
     "name": "stderr",
     "output_type": "stream",
     "text": [
      " 30%|███       | 75/250 [57:08<2:14:20, 46.06s/it]"
     ]
    },
    {
     "name": "stdout",
     "output_type": "stream",
     "text": [
      "Epoch 75\n",
      "Training loss: 1.386649489402771\n",
      "Validation loss: 1.3298559188842773\n"
     ]
    },
    {
     "name": "stderr",
     "output_type": "stream",
     "text": [
      " 30%|███       | 76/250 [57:53<2:12:35, 45.72s/it]"
     ]
    },
    {
     "name": "stdout",
     "output_type": "stream",
     "text": [
      "Epoch 76\n",
      "Training loss: 1.385779857635498\n",
      "Validation loss: 1.3468918800354004\n"
     ]
    },
    {
     "name": "stderr",
     "output_type": "stream",
     "text": [
      " 31%|███       | 77/250 [58:37<2:11:09, 45.49s/it]"
     ]
    },
    {
     "name": "stdout",
     "output_type": "stream",
     "text": [
      "Epoch 77\n",
      "Training loss: 1.385751485824585\n",
      "Validation loss: 1.3379380702972412\n"
     ]
    },
    {
     "name": "stderr",
     "output_type": "stream",
     "text": [
      " 31%|███       | 78/250 [59:22<2:09:50, 45.29s/it]"
     ]
    },
    {
     "name": "stdout",
     "output_type": "stream",
     "text": [
      "Epoch 78\n",
      "Training loss: 1.394080638885498\n",
      "Validation loss: 1.3273496627807617\n"
     ]
    },
    {
     "name": "stderr",
     "output_type": "stream",
     "text": [
      " 32%|███▏      | 79/250 [1:00:07<2:08:56, 45.24s/it]"
     ]
    },
    {
     "name": "stdout",
     "output_type": "stream",
     "text": [
      "Epoch 79\n",
      "Training loss: 1.3785569667816162\n",
      "Validation loss: 1.3325122594833374\n"
     ]
    },
    {
     "name": "stderr",
     "output_type": "stream",
     "text": [
      " 32%|███▏      | 80/250 [1:00:52<2:07:46, 45.10s/it]"
     ]
    },
    {
     "name": "stdout",
     "output_type": "stream",
     "text": [
      "Epoch 80\n",
      "Training loss: 1.3676341772079468\n",
      "Validation loss: 1.3197383880615234\n"
     ]
    },
    {
     "name": "stderr",
     "output_type": "stream",
     "text": [
      " 32%|███▏      | 81/250 [1:01:37<2:06:53, 45.05s/it]"
     ]
    },
    {
     "name": "stdout",
     "output_type": "stream",
     "text": [
      "Epoch 81\n",
      "Training loss: 1.3647656440734863\n",
      "Validation loss: 1.3280962705612183\n"
     ]
    },
    {
     "name": "stderr",
     "output_type": "stream",
     "text": [
      " 33%|███▎      | 82/250 [1:02:22<2:05:57, 44.99s/it]"
     ]
    },
    {
     "name": "stdout",
     "output_type": "stream",
     "text": [
      "Epoch 82\n",
      "Training loss: 1.361170768737793\n",
      "Validation loss: 1.3159730434417725\n"
     ]
    },
    {
     "name": "stderr",
     "output_type": "stream",
     "text": [
      " 33%|███▎      | 83/250 [1:03:07<2:05:10, 44.97s/it]"
     ]
    },
    {
     "name": "stdout",
     "output_type": "stream",
     "text": [
      "Epoch 83\n",
      "Training loss: 1.3531368970870972\n",
      "Validation loss: 1.3062365055084229\n"
     ]
    },
    {
     "name": "stderr",
     "output_type": "stream",
     "text": [
      " 34%|███▎      | 84/250 [1:03:52<2:04:24, 44.97s/it]"
     ]
    },
    {
     "name": "stdout",
     "output_type": "stream",
     "text": [
      "Epoch 84\n",
      "Training loss: 1.303015947341919\n",
      "Validation loss: 1.2193961143493652\n"
     ]
    },
    {
     "name": "stderr",
     "output_type": "stream",
     "text": [
      " 34%|███▍      | 85/250 [1:04:37<2:03:35, 44.94s/it]"
     ]
    },
    {
     "name": "stdout",
     "output_type": "stream",
     "text": [
      "Epoch 85\n",
      "Training loss: 1.2364581823349\n",
      "Validation loss: 1.1830317974090576\n"
     ]
    },
    {
     "name": "stderr",
     "output_type": "stream",
     "text": [
      " 34%|███▍      | 86/250 [1:05:36<2:14:48, 49.32s/it]"
     ]
    },
    {
     "name": "stdout",
     "output_type": "stream",
     "text": [
      "Epoch 86\n",
      "Training loss: 1.2018404006958008\n",
      "Validation loss: 1.1286710500717163\n"
     ]
    },
    {
     "name": "stderr",
     "output_type": "stream",
     "text": [
      " 35%|███▍      | 87/250 [1:06:21<2:10:23, 48.00s/it]"
     ]
    },
    {
     "name": "stdout",
     "output_type": "stream",
     "text": [
      "Epoch 87\n",
      "Training loss: 1.1729507446289062\n",
      "Validation loss: 1.1117206811904907\n"
     ]
    },
    {
     "name": "stderr",
     "output_type": "stream",
     "text": [
      " 35%|███▌      | 88/250 [1:07:06<2:07:08, 47.09s/it]"
     ]
    },
    {
     "name": "stdout",
     "output_type": "stream",
     "text": [
      "Epoch 88\n",
      "Training loss: 1.1643941402435303\n",
      "Validation loss: 1.102437138557434\n"
     ]
    },
    {
     "name": "stderr",
     "output_type": "stream",
     "text": [
      " 36%|███▌      | 89/250 [1:07:51<2:04:35, 46.43s/it]"
     ]
    },
    {
     "name": "stdout",
     "output_type": "stream",
     "text": [
      "Epoch 89\n",
      "Training loss: 1.1667814254760742\n",
      "Validation loss: 1.0960787534713745\n"
     ]
    },
    {
     "name": "stderr",
     "output_type": "stream",
     "text": [
      " 36%|███▌      | 90/250 [1:08:37<2:03:09, 46.19s/it]"
     ]
    },
    {
     "name": "stdout",
     "output_type": "stream",
     "text": [
      "Epoch 90\n",
      "Training loss: 1.1513354778289795\n",
      "Validation loss: 1.0787887573242188\n"
     ]
    },
    {
     "name": "stderr",
     "output_type": "stream",
     "text": [
      " 36%|███▋      | 91/250 [1:09:22<2:01:29, 45.84s/it]"
     ]
    },
    {
     "name": "stdout",
     "output_type": "stream",
     "text": [
      "Epoch 91\n",
      "Training loss: 1.1423465013504028\n",
      "Validation loss: 1.0861570835113525\n"
     ]
    },
    {
     "name": "stderr",
     "output_type": "stream",
     "text": [
      " 37%|███▋      | 92/250 [1:10:07<2:00:03, 45.59s/it]"
     ]
    },
    {
     "name": "stdout",
     "output_type": "stream",
     "text": [
      "Epoch 92\n",
      "Training loss: 1.1399139165878296\n",
      "Validation loss: 1.072344422340393\n"
     ]
    },
    {
     "name": "stderr",
     "output_type": "stream",
     "text": [
      " 37%|███▋      | 93/250 [1:10:52<1:58:39, 45.34s/it]"
     ]
    },
    {
     "name": "stdout",
     "output_type": "stream",
     "text": [
      "Epoch 93\n",
      "Training loss: 1.142000675201416\n",
      "Validation loss: 1.0816740989685059\n"
     ]
    },
    {
     "name": "stderr",
     "output_type": "stream",
     "text": [
      " 38%|███▊      | 94/250 [1:11:36<1:57:33, 45.22s/it]"
     ]
    },
    {
     "name": "stdout",
     "output_type": "stream",
     "text": [
      "Epoch 94\n",
      "Training loss: 1.1371811628341675\n",
      "Validation loss: 1.0748268365859985\n"
     ]
    },
    {
     "name": "stderr",
     "output_type": "stream",
     "text": [
      " 38%|███▊      | 95/250 [1:12:21<1:56:38, 45.15s/it]"
     ]
    },
    {
     "name": "stdout",
     "output_type": "stream",
     "text": [
      "Epoch 95\n",
      "Training loss: 1.1272586584091187\n",
      "Validation loss: 1.0871672630310059\n"
     ]
    },
    {
     "name": "stderr",
     "output_type": "stream",
     "text": [
      " 38%|███▊      | 96/250 [1:13:07<1:55:53, 45.15s/it]"
     ]
    },
    {
     "name": "stdout",
     "output_type": "stream",
     "text": [
      "Epoch 96\n",
      "Training loss: 1.137603521347046\n",
      "Validation loss: 1.069833755493164\n"
     ]
    },
    {
     "name": "stderr",
     "output_type": "stream",
     "text": [
      " 39%|███▉      | 97/250 [1:13:52<1:55:09, 45.16s/it]"
     ]
    },
    {
     "name": "stdout",
     "output_type": "stream",
     "text": [
      "Epoch 97\n",
      "Training loss: 1.1297065019607544\n",
      "Validation loss: 1.0758601427078247\n"
     ]
    },
    {
     "name": "stderr",
     "output_type": "stream",
     "text": [
      " 39%|███▉      | 98/250 [1:14:37<1:54:16, 45.11s/it]"
     ]
    },
    {
     "name": "stdout",
     "output_type": "stream",
     "text": [
      "Epoch 98\n",
      "Training loss: 1.1122764348983765\n",
      "Validation loss: 1.0482395887374878\n"
     ]
    },
    {
     "name": "stderr",
     "output_type": "stream",
     "text": [
      " 40%|███▉      | 99/250 [1:15:22<1:53:39, 45.16s/it]"
     ]
    },
    {
     "name": "stdout",
     "output_type": "stream",
     "text": [
      "Epoch 99\n",
      "Training loss: 1.113587498664856\n",
      "Validation loss: 1.050638198852539\n"
     ]
    },
    {
     "name": "stderr",
     "output_type": "stream",
     "text": [
      " 40%|████      | 100/250 [1:16:07<1:52:34, 45.03s/it]"
     ]
    },
    {
     "name": "stdout",
     "output_type": "stream",
     "text": [
      "Epoch 100\n",
      "Training loss: 1.1250263452529907\n",
      "Validation loss: 1.0559425354003906\n"
     ]
    },
    {
     "name": "stderr",
     "output_type": "stream",
     "text": [
      " 40%|████      | 101/250 [1:16:59<1:56:52, 47.06s/it]"
     ]
    },
    {
     "name": "stdout",
     "output_type": "stream",
     "text": [
      "Epoch 101\n",
      "Training loss: 1.1050926446914673\n",
      "Validation loss: 1.0520073175430298\n"
     ]
    },
    {
     "name": "stderr",
     "output_type": "stream",
     "text": [
      " 41%|████      | 102/250 [1:17:44<1:54:40, 46.49s/it]"
     ]
    },
    {
     "name": "stdout",
     "output_type": "stream",
     "text": [
      "Epoch 102\n",
      "Training loss: 1.1145697832107544\n",
      "Validation loss: 1.0517140626907349\n"
     ]
    },
    {
     "name": "stderr",
     "output_type": "stream",
     "text": [
      " 41%|████      | 103/250 [1:18:29<1:52:40, 45.99s/it]"
     ]
    },
    {
     "name": "stdout",
     "output_type": "stream",
     "text": [
      "Epoch 103\n",
      "Training loss: 1.1000806093215942\n",
      "Validation loss: 1.0502711534500122\n"
     ]
    },
    {
     "name": "stderr",
     "output_type": "stream",
     "text": [
      " 42%|████▏     | 104/250 [1:19:13<1:50:58, 45.61s/it]"
     ]
    },
    {
     "name": "stdout",
     "output_type": "stream",
     "text": [
      "Epoch 104\n",
      "Training loss: 1.097409963607788\n",
      "Validation loss: 1.0522592067718506\n"
     ]
    },
    {
     "name": "stderr",
     "output_type": "stream",
     "text": [
      " 42%|████▏     | 105/250 [1:19:58<1:49:38, 45.37s/it]"
     ]
    },
    {
     "name": "stdout",
     "output_type": "stream",
     "text": [
      "Epoch 105\n",
      "Training loss: 1.0930585861206055\n",
      "Validation loss: 1.0551743507385254\n"
     ]
    },
    {
     "name": "stderr",
     "output_type": "stream",
     "text": [
      " 42%|████▏     | 106/250 [1:20:43<1:48:51, 45.36s/it]"
     ]
    },
    {
     "name": "stdout",
     "output_type": "stream",
     "text": [
      "Epoch 106\n",
      "Training loss: 1.0949082374572754\n",
      "Validation loss: 1.044958472251892\n"
     ]
    },
    {
     "name": "stderr",
     "output_type": "stream",
     "text": [
      " 43%|████▎     | 107/250 [1:21:28<1:47:38, 45.17s/it]"
     ]
    },
    {
     "name": "stdout",
     "output_type": "stream",
     "text": [
      "Epoch 107\n",
      "Training loss: 1.0916286706924438\n",
      "Validation loss: 1.0591703653335571\n"
     ]
    },
    {
     "name": "stderr",
     "output_type": "stream",
     "text": [
      " 43%|████▎     | 108/250 [1:22:13<1:46:55, 45.18s/it]"
     ]
    },
    {
     "name": "stdout",
     "output_type": "stream",
     "text": [
      "Epoch 108\n",
      "Training loss: 1.096036672592163\n",
      "Validation loss: 1.0393574237823486\n"
     ]
    },
    {
     "name": "stderr",
     "output_type": "stream",
     "text": [
      " 44%|████▎     | 109/250 [1:22:58<1:46:00, 45.11s/it]"
     ]
    },
    {
     "name": "stdout",
     "output_type": "stream",
     "text": [
      "Epoch 109\n",
      "Training loss: 1.0799434185028076\n",
      "Validation loss: 1.0581001043319702\n"
     ]
    },
    {
     "name": "stderr",
     "output_type": "stream",
     "text": [
      " 44%|████▍     | 110/250 [1:23:43<1:45:06, 45.05s/it]"
     ]
    },
    {
     "name": "stdout",
     "output_type": "stream",
     "text": [
      "Epoch 110\n",
      "Training loss: 1.0776773691177368\n",
      "Validation loss: 1.0405993461608887\n"
     ]
    },
    {
     "name": "stderr",
     "output_type": "stream",
     "text": [
      " 44%|████▍     | 111/250 [1:24:28<1:44:13, 44.99s/it]"
     ]
    },
    {
     "name": "stdout",
     "output_type": "stream",
     "text": [
      "Epoch 111\n",
      "Training loss: 1.0803568363189697\n",
      "Validation loss: 1.0528590679168701\n"
     ]
    },
    {
     "name": "stderr",
     "output_type": "stream",
     "text": [
      " 45%|████▍     | 112/250 [1:25:13<1:43:25, 44.97s/it]"
     ]
    },
    {
     "name": "stdout",
     "output_type": "stream",
     "text": [
      "Epoch 112\n",
      "Training loss: 1.0689491033554077\n",
      "Validation loss: 1.0330662727355957\n"
     ]
    },
    {
     "name": "stderr",
     "output_type": "stream",
     "text": [
      " 45%|████▌     | 113/250 [1:25:58<1:42:42, 44.98s/it]"
     ]
    },
    {
     "name": "stdout",
     "output_type": "stream",
     "text": [
      "Epoch 113\n",
      "Training loss: 1.0746285915374756\n",
      "Validation loss: 1.0481233596801758\n"
     ]
    },
    {
     "name": "stderr",
     "output_type": "stream",
     "text": [
      " 46%|████▌     | 114/250 [1:26:43<1:41:50, 44.93s/it]"
     ]
    },
    {
     "name": "stdout",
     "output_type": "stream",
     "text": [
      "Epoch 114\n",
      "Training loss: 1.0684964656829834\n",
      "Validation loss: 1.0395262241363525\n"
     ]
    },
    {
     "name": "stderr",
     "output_type": "stream",
     "text": [
      " 46%|████▌     | 115/250 [1:27:28<1:41:19, 45.03s/it]"
     ]
    },
    {
     "name": "stdout",
     "output_type": "stream",
     "text": [
      "Epoch 115\n",
      "Training loss: 1.0648518800735474\n",
      "Validation loss: 1.0461750030517578\n"
     ]
    },
    {
     "name": "stderr",
     "output_type": "stream",
     "text": [
      " 46%|████▋     | 116/250 [1:28:13<1:40:31, 45.01s/it]"
     ]
    },
    {
     "name": "stdout",
     "output_type": "stream",
     "text": [
      "Epoch 116\n",
      "Training loss: 1.0609852075576782\n",
      "Validation loss: 1.0400538444519043\n"
     ]
    },
    {
     "name": "stderr",
     "output_type": "stream",
     "text": [
      " 47%|████▋     | 117/250 [1:28:58<1:39:47, 45.02s/it]"
     ]
    },
    {
     "name": "stdout",
     "output_type": "stream",
     "text": [
      "Epoch 117\n",
      "Training loss: 1.0772892236709595\n",
      "Validation loss: 1.037248969078064\n"
     ]
    },
    {
     "name": "stderr",
     "output_type": "stream",
     "text": [
      " 47%|████▋     | 118/250 [1:29:43<1:38:58, 44.99s/it]"
     ]
    },
    {
     "name": "stdout",
     "output_type": "stream",
     "text": [
      "Epoch 118\n",
      "Training loss: 1.0622440576553345\n",
      "Validation loss: 1.0410473346710205\n"
     ]
    },
    {
     "name": "stderr",
     "output_type": "stream",
     "text": [
      " 48%|████▊     | 119/250 [1:30:28<1:38:24, 45.08s/it]"
     ]
    },
    {
     "name": "stdout",
     "output_type": "stream",
     "text": [
      "Epoch 119\n",
      "Training loss: 1.0514315366744995\n",
      "Validation loss: 1.0385489463806152\n"
     ]
    },
    {
     "name": "stderr",
     "output_type": "stream",
     "text": [
      " 48%|████▊     | 120/250 [1:31:14<1:37:51, 45.17s/it]"
     ]
    },
    {
     "name": "stdout",
     "output_type": "stream",
     "text": [
      "Epoch 120\n",
      "Training loss: 1.0552352666854858\n",
      "Validation loss: 1.0381059646606445\n"
     ]
    },
    {
     "name": "stderr",
     "output_type": "stream",
     "text": [
      " 48%|████▊     | 121/250 [1:31:59<1:37:07, 45.17s/it]"
     ]
    },
    {
     "name": "stdout",
     "output_type": "stream",
     "text": [
      "Epoch 121\n",
      "Training loss: 1.0596764087677002\n",
      "Validation loss: 1.0439902544021606\n"
     ]
    },
    {
     "name": "stderr",
     "output_type": "stream",
     "text": [
      " 49%|████▉     | 122/250 [1:32:44<1:36:13, 45.11s/it]"
     ]
    },
    {
     "name": "stdout",
     "output_type": "stream",
     "text": [
      "Epoch 122\n",
      "Training loss: 1.049243688583374\n",
      "Validation loss: 1.0293718576431274\n"
     ]
    },
    {
     "name": "stderr",
     "output_type": "stream",
     "text": [
      " 49%|████▉     | 123/250 [1:33:28<1:35:08, 44.95s/it]"
     ]
    },
    {
     "name": "stdout",
     "output_type": "stream",
     "text": [
      "Epoch 123\n",
      "Training loss: 1.0526093244552612\n",
      "Validation loss: 1.027881145477295\n"
     ]
    },
    {
     "name": "stderr",
     "output_type": "stream",
     "text": [
      " 50%|████▉     | 124/250 [1:34:13<1:34:20, 44.93s/it]"
     ]
    },
    {
     "name": "stdout",
     "output_type": "stream",
     "text": [
      "Epoch 124\n",
      "Training loss: 1.054093599319458\n",
      "Validation loss: 1.0284610986709595\n"
     ]
    },
    {
     "name": "stderr",
     "output_type": "stream",
     "text": [
      " 50%|█████     | 125/250 [1:34:58<1:33:29, 44.88s/it]"
     ]
    },
    {
     "name": "stdout",
     "output_type": "stream",
     "text": [
      "Epoch 125\n",
      "Training loss: 1.0423789024353027\n",
      "Validation loss: 1.0466185808181763\n"
     ]
    },
    {
     "name": "stderr",
     "output_type": "stream",
     "text": [
      " 50%|█████     | 126/250 [1:35:43<1:32:50, 44.93s/it]"
     ]
    },
    {
     "name": "stdout",
     "output_type": "stream",
     "text": [
      "Epoch 126\n",
      "Training loss: 1.0437180995941162\n",
      "Validation loss: 1.0341386795043945\n"
     ]
    },
    {
     "name": "stderr",
     "output_type": "stream",
     "text": [
      " 51%|█████     | 127/250 [1:36:28<1:32:16, 45.01s/it]"
     ]
    },
    {
     "name": "stdout",
     "output_type": "stream",
     "text": [
      "Epoch 127\n",
      "Training loss: 1.0466569662094116\n",
      "Validation loss: 1.0358705520629883\n"
     ]
    },
    {
     "name": "stderr",
     "output_type": "stream",
     "text": [
      " 51%|█████     | 128/250 [1:37:13<1:31:34, 45.03s/it]"
     ]
    },
    {
     "name": "stdout",
     "output_type": "stream",
     "text": [
      "Epoch 128\n",
      "Training loss: 1.0351022481918335\n",
      "Validation loss: 1.0057156085968018\n"
     ]
    },
    {
     "name": "stderr",
     "output_type": "stream",
     "text": [
      " 52%|█████▏    | 129/250 [1:37:58<1:30:44, 45.00s/it]"
     ]
    },
    {
     "name": "stdout",
     "output_type": "stream",
     "text": [
      "Epoch 129\n",
      "Training loss: 1.0279146432876587\n",
      "Validation loss: 1.0190303325653076\n"
     ]
    },
    {
     "name": "stderr",
     "output_type": "stream",
     "text": [
      " 52%|█████▏    | 130/250 [1:38:43<1:29:59, 45.00s/it]"
     ]
    },
    {
     "name": "stdout",
     "output_type": "stream",
     "text": [
      "Epoch 130\n",
      "Training loss: 1.0253090858459473\n",
      "Validation loss: 1.0280406475067139\n"
     ]
    },
    {
     "name": "stderr",
     "output_type": "stream",
     "text": [
      " 52%|█████▏    | 131/250 [1:39:30<1:30:12, 45.48s/it]"
     ]
    },
    {
     "name": "stdout",
     "output_type": "stream",
     "text": [
      "Epoch 131\n",
      "Training loss: 1.029512882232666\n",
      "Validation loss: 1.0328717231750488\n"
     ]
    },
    {
     "name": "stderr",
     "output_type": "stream",
     "text": [
      " 53%|█████▎    | 132/250 [1:40:30<1:38:05, 49.87s/it]"
     ]
    },
    {
     "name": "stdout",
     "output_type": "stream",
     "text": [
      "Epoch 132\n",
      "Training loss: 1.0184158086776733\n",
      "Validation loss: 1.0274678468704224\n"
     ]
    },
    {
     "name": "stderr",
     "output_type": "stream",
     "text": [
      " 53%|█████▎    | 133/250 [1:41:16<1:34:56, 48.69s/it]"
     ]
    },
    {
     "name": "stdout",
     "output_type": "stream",
     "text": [
      "Epoch 133\n",
      "Training loss: 1.016366958618164\n",
      "Validation loss: 1.005856990814209\n"
     ]
    },
    {
     "name": "stderr",
     "output_type": "stream",
     "text": [
      " 54%|█████▎    | 134/250 [1:42:01<1:32:07, 47.65s/it]"
     ]
    },
    {
     "name": "stdout",
     "output_type": "stream",
     "text": [
      "Epoch 134\n",
      "Training loss: 1.0080046653747559\n",
      "Validation loss: 0.9931806325912476\n"
     ]
    },
    {
     "name": "stderr",
     "output_type": "stream",
     "text": [
      " 54%|█████▍    | 135/250 [1:42:46<1:29:50, 46.87s/it]"
     ]
    },
    {
     "name": "stdout",
     "output_type": "stream",
     "text": [
      "Epoch 135\n",
      "Training loss: 1.0029008388519287\n",
      "Validation loss: 0.9911797046661377\n"
     ]
    },
    {
     "name": "stderr",
     "output_type": "stream",
     "text": [
      " 54%|█████▍    | 136/250 [1:43:31<1:27:56, 46.29s/it]"
     ]
    },
    {
     "name": "stdout",
     "output_type": "stream",
     "text": [
      "Epoch 136\n",
      "Training loss: 1.00032639503479\n",
      "Validation loss: 0.9860868453979492\n"
     ]
    },
    {
     "name": "stderr",
     "output_type": "stream",
     "text": [
      " 55%|█████▍    | 137/250 [1:44:16<1:26:29, 45.92s/it]"
     ]
    },
    {
     "name": "stdout",
     "output_type": "stream",
     "text": [
      "Epoch 137\n",
      "Training loss: 0.99456387758255\n",
      "Validation loss: 1.0046371221542358\n"
     ]
    },
    {
     "name": "stderr",
     "output_type": "stream",
     "text": [
      " 55%|█████▌    | 138/250 [1:45:01<1:25:10, 45.63s/it]"
     ]
    },
    {
     "name": "stdout",
     "output_type": "stream",
     "text": [
      "Epoch 138\n",
      "Training loss: 0.9969856142997742\n",
      "Validation loss: 0.9844696521759033\n"
     ]
    },
    {
     "name": "stderr",
     "output_type": "stream",
     "text": [
      " 56%|█████▌    | 139/250 [1:45:47<1:24:18, 45.58s/it]"
     ]
    },
    {
     "name": "stdout",
     "output_type": "stream",
     "text": [
      "Epoch 139\n",
      "Training loss: 0.9928082823753357\n",
      "Validation loss: 0.9768553972244263\n"
     ]
    },
    {
     "name": "stderr",
     "output_type": "stream",
     "text": [
      " 56%|█████▌    | 140/250 [1:46:33<1:23:53, 45.76s/it]"
     ]
    },
    {
     "name": "stdout",
     "output_type": "stream",
     "text": [
      "Epoch 140\n",
      "Training loss: 0.9869475364685059\n",
      "Validation loss: 0.983798086643219\n"
     ]
    },
    {
     "name": "stderr",
     "output_type": "stream",
     "text": [
      " 56%|█████▋    | 141/250 [1:47:18<1:22:39, 45.50s/it]"
     ]
    },
    {
     "name": "stdout",
     "output_type": "stream",
     "text": [
      "Epoch 141\n",
      "Training loss: 0.9861218333244324\n",
      "Validation loss: 0.9764295816421509\n"
     ]
    },
    {
     "name": "stderr",
     "output_type": "stream",
     "text": [
      " 57%|█████▋    | 142/250 [1:48:03<1:21:41, 45.38s/it]"
     ]
    },
    {
     "name": "stdout",
     "output_type": "stream",
     "text": [
      "Epoch 142\n",
      "Training loss: 0.9776813983917236\n",
      "Validation loss: 0.9785616397857666\n"
     ]
    },
    {
     "name": "stderr",
     "output_type": "stream",
     "text": [
      " 57%|█████▋    | 143/250 [1:48:48<1:20:46, 45.29s/it]"
     ]
    },
    {
     "name": "stdout",
     "output_type": "stream",
     "text": [
      "Epoch 143\n",
      "Training loss: 0.9774549603462219\n",
      "Validation loss: 0.9605104923248291\n"
     ]
    },
    {
     "name": "stderr",
     "output_type": "stream",
     "text": [
      " 58%|█████▊    | 144/250 [1:49:33<1:19:50, 45.19s/it]"
     ]
    },
    {
     "name": "stdout",
     "output_type": "stream",
     "text": [
      "Epoch 144\n",
      "Training loss: 0.9794292449951172\n",
      "Validation loss: 0.9608825445175171\n"
     ]
    },
    {
     "name": "stderr",
     "output_type": "stream",
     "text": [
      " 58%|█████▊    | 145/250 [1:50:18<1:18:54, 45.09s/it]"
     ]
    },
    {
     "name": "stdout",
     "output_type": "stream",
     "text": [
      "Epoch 145\n",
      "Training loss: 0.9735223650932312\n",
      "Validation loss: 0.9615796804428101\n"
     ]
    },
    {
     "name": "stderr",
     "output_type": "stream",
     "text": [
      " 58%|█████▊    | 146/250 [1:51:03<1:18:12, 45.12s/it]"
     ]
    },
    {
     "name": "stdout",
     "output_type": "stream",
     "text": [
      "Epoch 146\n",
      "Training loss: 0.9700265526771545\n",
      "Validation loss: 0.9624970555305481\n"
     ]
    },
    {
     "name": "stderr",
     "output_type": "stream",
     "text": [
      " 59%|█████▉    | 147/250 [1:51:49<1:17:58, 45.42s/it]"
     ]
    },
    {
     "name": "stdout",
     "output_type": "stream",
     "text": [
      "Epoch 147\n",
      "Training loss: 0.9741954803466797\n",
      "Validation loss: 0.964144229888916\n"
     ]
    },
    {
     "name": "stderr",
     "output_type": "stream",
     "text": [
      " 59%|█████▉    | 148/250 [1:52:34<1:17:04, 45.34s/it]"
     ]
    },
    {
     "name": "stdout",
     "output_type": "stream",
     "text": [
      "Epoch 148\n",
      "Training loss: 0.9633479714393616\n",
      "Validation loss: 0.9793826937675476\n"
     ]
    },
    {
     "name": "stderr",
     "output_type": "stream",
     "text": [
      " 60%|█████▉    | 149/250 [1:53:19<1:16:04, 45.19s/it]"
     ]
    },
    {
     "name": "stdout",
     "output_type": "stream",
     "text": [
      "Epoch 149\n",
      "Training loss: 0.9642735719680786\n",
      "Validation loss: 0.9634009003639221\n"
     ]
    },
    {
     "name": "stderr",
     "output_type": "stream",
     "text": [
      " 60%|██████    | 150/250 [1:54:04<1:15:13, 45.14s/it]"
     ]
    },
    {
     "name": "stdout",
     "output_type": "stream",
     "text": [
      "Epoch 150\n",
      "Training loss: 0.9609522819519043\n",
      "Validation loss: 0.9727703332901001\n"
     ]
    },
    {
     "name": "stderr",
     "output_type": "stream",
     "text": [
      " 60%|██████    | 151/250 [1:54:49<1:14:29, 45.14s/it]"
     ]
    },
    {
     "name": "stdout",
     "output_type": "stream",
     "text": [
      "Epoch 151\n",
      "Training loss: 0.9525378346443176\n",
      "Validation loss: 0.9719873666763306\n"
     ]
    },
    {
     "name": "stderr",
     "output_type": "stream",
     "text": [
      " 61%|██████    | 152/250 [1:55:34<1:13:42, 45.13s/it]"
     ]
    },
    {
     "name": "stdout",
     "output_type": "stream",
     "text": [
      "Epoch 152\n",
      "Training loss: 0.9609841704368591\n",
      "Validation loss: 0.9672366380691528\n"
     ]
    },
    {
     "name": "stderr",
     "output_type": "stream",
     "text": [
      " 61%|██████    | 153/250 [1:56:19<1:12:55, 45.11s/it]"
     ]
    },
    {
     "name": "stdout",
     "output_type": "stream",
     "text": [
      "Epoch 153\n",
      "Training loss: 0.9578580260276794\n",
      "Validation loss: 0.9419155120849609\n"
     ]
    },
    {
     "name": "stderr",
     "output_type": "stream",
     "text": [
      " 62%|██████▏   | 154/250 [1:57:04<1:12:05, 45.06s/it]"
     ]
    },
    {
     "name": "stdout",
     "output_type": "stream",
     "text": [
      "Epoch 154\n",
      "Training loss: 0.9556397199630737\n",
      "Validation loss: 0.9771352410316467\n"
     ]
    },
    {
     "name": "stderr",
     "output_type": "stream",
     "text": [
      " 62%|██████▏   | 155/250 [1:57:49<1:11:19, 45.05s/it]"
     ]
    },
    {
     "name": "stdout",
     "output_type": "stream",
     "text": [
      "Epoch 155\n",
      "Training loss: 0.9623310565948486\n",
      "Validation loss: 0.9837907552719116\n"
     ]
    },
    {
     "name": "stderr",
     "output_type": "stream",
     "text": [
      " 62%|██████▏   | 156/250 [1:58:34<1:10:29, 45.00s/it]"
     ]
    },
    {
     "name": "stdout",
     "output_type": "stream",
     "text": [
      "Epoch 156\n",
      "Training loss: 0.9539210796356201\n",
      "Validation loss: 0.972289502620697\n"
     ]
    },
    {
     "name": "stderr",
     "output_type": "stream",
     "text": [
      " 63%|██████▎   | 157/250 [1:59:20<1:10:01, 45.18s/it]"
     ]
    },
    {
     "name": "stdout",
     "output_type": "stream",
     "text": [
      "Epoch 157\n",
      "Training loss: 0.9459998607635498\n",
      "Validation loss: 0.9681905508041382\n"
     ]
    },
    {
     "name": "stderr",
     "output_type": "stream",
     "text": [
      " 63%|██████▎   | 158/250 [2:00:05<1:09:06, 45.07s/it]"
     ]
    },
    {
     "name": "stdout",
     "output_type": "stream",
     "text": [
      "Epoch 158\n",
      "Training loss: 0.9477401375770569\n",
      "Validation loss: 0.9728994369506836\n"
     ]
    },
    {
     "name": "stderr",
     "output_type": "stream",
     "text": [
      " 64%|██████▎   | 159/250 [2:00:49<1:08:13, 44.99s/it]"
     ]
    },
    {
     "name": "stdout",
     "output_type": "stream",
     "text": [
      "Epoch 159\n",
      "Training loss: 0.9381135702133179\n",
      "Validation loss: 0.9595063924789429\n"
     ]
    },
    {
     "name": "stderr",
     "output_type": "stream",
     "text": [
      " 64%|██████▍   | 160/250 [2:01:40<1:09:58, 46.65s/it]"
     ]
    },
    {
     "name": "stdout",
     "output_type": "stream",
     "text": [
      "Epoch 160\n",
      "Training loss: 0.9353954792022705\n",
      "Validation loss: 0.9520326256752014\n"
     ]
    },
    {
     "name": "stderr",
     "output_type": "stream",
     "text": [
      " 64%|██████▍   | 161/250 [2:02:36<1:13:20, 49.44s/it]"
     ]
    },
    {
     "name": "stdout",
     "output_type": "stream",
     "text": [
      "Epoch 161\n",
      "Training loss: 0.9353858828544617\n",
      "Validation loss: 0.9510914087295532\n"
     ]
    },
    {
     "name": "stderr",
     "output_type": "stream",
     "text": [
      " 65%|██████▍   | 162/250 [2:03:21<1:10:29, 48.06s/it]"
     ]
    },
    {
     "name": "stdout",
     "output_type": "stream",
     "text": [
      "Epoch 162\n",
      "Training loss: 0.9198532104492188\n",
      "Validation loss: 0.9565798044204712\n"
     ]
    },
    {
     "name": "stderr",
     "output_type": "stream",
     "text": [
      " 65%|██████▌   | 163/250 [2:04:06<1:08:17, 47.09s/it]"
     ]
    },
    {
     "name": "stdout",
     "output_type": "stream",
     "text": [
      "Epoch 163\n",
      "Training loss: 0.923089861869812\n",
      "Validation loss: 0.954730749130249\n"
     ]
    },
    {
     "name": "stderr",
     "output_type": "stream",
     "text": [
      " 66%|██████▌   | 164/250 [2:04:51<1:06:48, 46.61s/it]"
     ]
    },
    {
     "name": "stdout",
     "output_type": "stream",
     "text": [
      "Epoch 164\n",
      "Training loss: 0.9217809438705444\n",
      "Validation loss: 0.9368993043899536\n"
     ]
    },
    {
     "name": "stderr",
     "output_type": "stream",
     "text": [
      " 66%|██████▌   | 165/250 [2:05:36<1:05:14, 46.05s/it]"
     ]
    },
    {
     "name": "stdout",
     "output_type": "stream",
     "text": [
      "Epoch 165\n",
      "Training loss: 0.9166366457939148\n",
      "Validation loss: 0.9359679818153381\n"
     ]
    },
    {
     "name": "stderr",
     "output_type": "stream",
     "text": [
      " 66%|██████▋   | 166/250 [2:06:20<1:03:53, 45.64s/it]"
     ]
    },
    {
     "name": "stdout",
     "output_type": "stream",
     "text": [
      "Epoch 166\n",
      "Training loss: 0.9104146361351013\n",
      "Validation loss: 0.9452463388442993\n"
     ]
    },
    {
     "name": "stderr",
     "output_type": "stream",
     "text": [
      " 67%|██████▋   | 167/250 [2:07:05<1:02:51, 45.44s/it]"
     ]
    },
    {
     "name": "stdout",
     "output_type": "stream",
     "text": [
      "Epoch 167\n",
      "Training loss: 0.9075062274932861\n",
      "Validation loss: 0.9563989639282227\n"
     ]
    },
    {
     "name": "stderr",
     "output_type": "stream",
     "text": [
      " 67%|██████▋   | 168/250 [2:07:50<1:01:53, 45.29s/it]"
     ]
    },
    {
     "name": "stdout",
     "output_type": "stream",
     "text": [
      "Epoch 168\n",
      "Training loss: 0.9144911766052246\n",
      "Validation loss: 0.9414299726486206\n"
     ]
    },
    {
     "name": "stderr",
     "output_type": "stream",
     "text": [
      " 68%|██████▊   | 169/250 [2:08:35<1:00:53, 45.11s/it]"
     ]
    },
    {
     "name": "stdout",
     "output_type": "stream",
     "text": [
      "Epoch 169\n",
      "Training loss: 0.9123124480247498\n",
      "Validation loss: 0.9492988586425781\n"
     ]
    },
    {
     "name": "stderr",
     "output_type": "stream",
     "text": [
      " 68%|██████▊   | 170/250 [2:09:20<1:00:00, 45.01s/it]"
     ]
    },
    {
     "name": "stdout",
     "output_type": "stream",
     "text": [
      "Epoch 170\n",
      "Training loss: 0.9083476066589355\n",
      "Validation loss: 0.9374676942825317\n"
     ]
    },
    {
     "name": "stderr",
     "output_type": "stream",
     "text": [
      " 68%|██████▊   | 171/250 [2:10:05<59:13, 44.98s/it]  "
     ]
    },
    {
     "name": "stdout",
     "output_type": "stream",
     "text": [
      "Epoch 171\n",
      "Training loss: 0.8997817039489746\n",
      "Validation loss: 0.9327771663665771\n"
     ]
    },
    {
     "name": "stderr",
     "output_type": "stream",
     "text": [
      " 69%|██████▉   | 172/250 [2:10:49<58:23, 44.91s/it]"
     ]
    },
    {
     "name": "stdout",
     "output_type": "stream",
     "text": [
      "Epoch 172\n",
      "Training loss: 0.8993144631385803\n",
      "Validation loss: 0.9291553497314453\n"
     ]
    },
    {
     "name": "stderr",
     "output_type": "stream",
     "text": [
      " 69%|██████▉   | 173/250 [2:11:34<57:34, 44.87s/it]"
     ]
    },
    {
     "name": "stdout",
     "output_type": "stream",
     "text": [
      "Epoch 173\n",
      "Training loss: 0.9000558257102966\n",
      "Validation loss: 0.9159119129180908\n"
     ]
    },
    {
     "name": "stderr",
     "output_type": "stream",
     "text": [
      " 70%|██████▉   | 174/250 [2:12:19<56:47, 44.84s/it]"
     ]
    },
    {
     "name": "stdout",
     "output_type": "stream",
     "text": [
      "Epoch 174\n",
      "Training loss: 0.8888064026832581\n",
      "Validation loss: 0.9259942770004272\n"
     ]
    },
    {
     "name": "stderr",
     "output_type": "stream",
     "text": [
      " 70%|███████   | 175/250 [2:13:04<56:01, 44.82s/it]"
     ]
    },
    {
     "name": "stdout",
     "output_type": "stream",
     "text": [
      "Epoch 175\n",
      "Training loss: 0.8894538879394531\n",
      "Validation loss: 0.9384723901748657\n"
     ]
    },
    {
     "name": "stderr",
     "output_type": "stream",
     "text": [
      " 70%|███████   | 176/250 [2:13:49<55:21, 44.88s/it]"
     ]
    },
    {
     "name": "stdout",
     "output_type": "stream",
     "text": [
      "Epoch 176\n",
      "Training loss: 0.8914148211479187\n",
      "Validation loss: 0.9468907713890076\n"
     ]
    },
    {
     "name": "stderr",
     "output_type": "stream",
     "text": [
      " 71%|███████   | 177/250 [2:14:33<54:27, 44.76s/it]"
     ]
    },
    {
     "name": "stdout",
     "output_type": "stream",
     "text": [
      "Epoch 177\n",
      "Training loss: 0.8948544263839722\n",
      "Validation loss: 0.9114570617675781\n"
     ]
    },
    {
     "name": "stderr",
     "output_type": "stream",
     "text": [
      " 71%|███████   | 178/250 [2:15:18<53:46, 44.82s/it]"
     ]
    },
    {
     "name": "stdout",
     "output_type": "stream",
     "text": [
      "Epoch 178\n",
      "Training loss: 0.8811179995536804\n",
      "Validation loss: 0.9193024039268494\n"
     ]
    },
    {
     "name": "stderr",
     "output_type": "stream",
     "text": [
      " 72%|███████▏  | 179/250 [2:16:03<53:01, 44.81s/it]"
     ]
    },
    {
     "name": "stdout",
     "output_type": "stream",
     "text": [
      "Epoch 179\n",
      "Training loss: 0.8828449249267578\n",
      "Validation loss: 0.9344818592071533\n"
     ]
    },
    {
     "name": "stderr",
     "output_type": "stream",
     "text": [
      " 72%|███████▏  | 180/250 [2:16:48<52:16, 44.81s/it]"
     ]
    },
    {
     "name": "stdout",
     "output_type": "stream",
     "text": [
      "Epoch 180\n",
      "Training loss: 0.8748202919960022\n",
      "Validation loss: 0.9323028922080994\n"
     ]
    },
    {
     "name": "stderr",
     "output_type": "stream",
     "text": [
      " 72%|███████▏  | 181/250 [2:17:32<51:28, 44.77s/it]"
     ]
    },
    {
     "name": "stdout",
     "output_type": "stream",
     "text": [
      "Epoch 181\n",
      "Training loss: 0.8783653974533081\n",
      "Validation loss: 0.9260228276252747\n"
     ]
    },
    {
     "name": "stderr",
     "output_type": "stream",
     "text": [
      " 73%|███████▎  | 182/250 [2:18:17<50:46, 44.80s/it]"
     ]
    },
    {
     "name": "stdout",
     "output_type": "stream",
     "text": [
      "Epoch 182\n",
      "Training loss: 0.8781238198280334\n",
      "Validation loss: 0.9473137855529785\n"
     ]
    },
    {
     "name": "stderr",
     "output_type": "stream",
     "text": [
      " 73%|███████▎  | 183/250 [2:19:02<50:06, 44.87s/it]"
     ]
    },
    {
     "name": "stdout",
     "output_type": "stream",
     "text": [
      "Epoch 183\n",
      "Training loss: 0.8794838786125183\n",
      "Validation loss: 0.9451119899749756\n"
     ]
    },
    {
     "name": "stderr",
     "output_type": "stream",
     "text": [
      " 74%|███████▎  | 184/250 [2:19:47<49:23, 44.90s/it]"
     ]
    },
    {
     "name": "stdout",
     "output_type": "stream",
     "text": [
      "Epoch 184\n",
      "Training loss: 0.8638525605201721\n",
      "Validation loss: 0.9392368793487549\n"
     ]
    },
    {
     "name": "stderr",
     "output_type": "stream",
     "text": [
      " 74%|███████▍  | 185/250 [2:20:32<48:42, 44.97s/it]"
     ]
    },
    {
     "name": "stdout",
     "output_type": "stream",
     "text": [
      "Epoch 185\n",
      "Training loss: 0.8728093504905701\n",
      "Validation loss: 0.9405412673950195\n"
     ]
    },
    {
     "name": "stderr",
     "output_type": "stream",
     "text": [
      " 74%|███████▍  | 186/250 [2:21:18<47:59, 44.99s/it]"
     ]
    },
    {
     "name": "stdout",
     "output_type": "stream",
     "text": [
      "Epoch 186\n",
      "Training loss: 0.8722550272941589\n",
      "Validation loss: 0.9454613924026489\n"
     ]
    },
    {
     "name": "stderr",
     "output_type": "stream",
     "text": [
      " 75%|███████▍  | 187/250 [2:22:02<47:09, 44.92s/it]"
     ]
    },
    {
     "name": "stdout",
     "output_type": "stream",
     "text": [
      "Epoch 187\n",
      "Training loss: 0.8582876920700073\n",
      "Validation loss: 0.9296339750289917\n"
     ]
    },
    {
     "name": "stderr",
     "output_type": "stream",
     "text": [
      " 75%|███████▌  | 188/250 [2:22:47<46:20, 44.85s/it]"
     ]
    },
    {
     "name": "stdout",
     "output_type": "stream",
     "text": [
      "Epoch 188\n",
      "Training loss: 0.8599209189414978\n",
      "Validation loss: 0.9486127495765686\n"
     ]
    },
    {
     "name": "stderr",
     "output_type": "stream",
     "text": [
      " 76%|███████▌  | 189/250 [2:23:32<45:38, 44.89s/it]"
     ]
    },
    {
     "name": "stdout",
     "output_type": "stream",
     "text": [
      "Epoch 189\n",
      "Training loss: 0.8571049571037292\n",
      "Validation loss: 0.9118704199790955\n"
     ]
    },
    {
     "name": "stderr",
     "output_type": "stream",
     "text": [
      " 76%|███████▌  | 190/250 [2:24:30<48:56, 48.95s/it]"
     ]
    },
    {
     "name": "stdout",
     "output_type": "stream",
     "text": [
      "Epoch 190\n",
      "Training loss: 0.8575809001922607\n",
      "Validation loss: 0.9582587480545044\n"
     ]
    },
    {
     "name": "stderr",
     "output_type": "stream",
     "text": [
      " 76%|███████▋  | 191/250 [2:25:15<46:55, 47.72s/it]"
     ]
    },
    {
     "name": "stdout",
     "output_type": "stream",
     "text": [
      "Epoch 191\n",
      "Training loss: 0.8597580790519714\n",
      "Validation loss: 0.9269523024559021\n"
     ]
    },
    {
     "name": "stderr",
     "output_type": "stream",
     "text": [
      " 77%|███████▋  | 192/250 [2:26:00<45:23, 46.95s/it]"
     ]
    },
    {
     "name": "stdout",
     "output_type": "stream",
     "text": [
      "Epoch 192\n",
      "Training loss: 0.8505678772926331\n",
      "Validation loss: 0.9268579483032227\n"
     ]
    },
    {
     "name": "stderr",
     "output_type": "stream",
     "text": [
      " 77%|███████▋  | 193/250 [2:26:45<43:57, 46.27s/it]"
     ]
    },
    {
     "name": "stdout",
     "output_type": "stream",
     "text": [
      "Epoch 193\n",
      "Training loss: 0.85186368227005\n",
      "Validation loss: 0.9418846368789673\n"
     ]
    },
    {
     "name": "stderr",
     "output_type": "stream",
     "text": [
      " 78%|███████▊  | 194/250 [2:27:30<42:48, 45.86s/it]"
     ]
    },
    {
     "name": "stdout",
     "output_type": "stream",
     "text": [
      "Epoch 194\n",
      "Training loss: 0.850777268409729\n",
      "Validation loss: 0.9380589127540588\n"
     ]
    },
    {
     "name": "stderr",
     "output_type": "stream",
     "text": [
      " 78%|███████▊  | 195/250 [2:28:15<41:46, 45.56s/it]"
     ]
    },
    {
     "name": "stdout",
     "output_type": "stream",
     "text": [
      "Epoch 195\n",
      "Training loss: 0.84906005859375\n",
      "Validation loss: 0.9319344162940979\n"
     ]
    },
    {
     "name": "stderr",
     "output_type": "stream",
     "text": [
      " 78%|███████▊  | 196/250 [2:29:00<40:50, 45.38s/it]"
     ]
    },
    {
     "name": "stdout",
     "output_type": "stream",
     "text": [
      "Epoch 196\n",
      "Training loss: 0.8454306721687317\n",
      "Validation loss: 0.9479002952575684\n"
     ]
    },
    {
     "name": "stderr",
     "output_type": "stream",
     "text": [
      " 79%|███████▉  | 197/250 [2:29:45<39:56, 45.22s/it]"
     ]
    },
    {
     "name": "stdout",
     "output_type": "stream",
     "text": [
      "Epoch 197\n",
      "Training loss: 0.8407546877861023\n",
      "Validation loss: 0.9441885948181152\n"
     ]
    },
    {
     "name": "stderr",
     "output_type": "stream",
     "text": [
      " 79%|███████▉  | 198/250 [2:30:29<39:03, 45.07s/it]"
     ]
    },
    {
     "name": "stdout",
     "output_type": "stream",
     "text": [
      "Epoch 198\n",
      "Training loss: 0.8338256478309631\n",
      "Validation loss: 0.9332685470581055\n"
     ]
    },
    {
     "name": "stderr",
     "output_type": "stream",
     "text": [
      " 80%|███████▉  | 199/250 [2:31:15<38:30, 45.30s/it]"
     ]
    },
    {
     "name": "stdout",
     "output_type": "stream",
     "text": [
      "Epoch 199\n",
      "Training loss: 0.8420255184173584\n",
      "Validation loss: 0.9226287603378296\n"
     ]
    },
    {
     "name": "stderr",
     "output_type": "stream",
     "text": [
      " 80%|████████  | 200/250 [2:32:00<37:40, 45.22s/it]"
     ]
    },
    {
     "name": "stdout",
     "output_type": "stream",
     "text": [
      "Epoch 200\n",
      "Training loss: 0.8427269458770752\n",
      "Validation loss: 0.925358772277832\n"
     ]
    },
    {
     "name": "stderr",
     "output_type": "stream",
     "text": [
      " 80%|████████  | 201/250 [2:32:45<36:50, 45.12s/it]"
     ]
    },
    {
     "name": "stdout",
     "output_type": "stream",
     "text": [
      "Epoch 201\n",
      "Training loss: 0.8306527137756348\n",
      "Validation loss: 0.9230320453643799\n"
     ]
    },
    {
     "name": "stderr",
     "output_type": "stream",
     "text": [
      " 81%|████████  | 202/250 [2:33:30<35:59, 44.98s/it]"
     ]
    },
    {
     "name": "stdout",
     "output_type": "stream",
     "text": [
      "Epoch 202\n",
      "Training loss: 0.8401257991790771\n",
      "Validation loss: 0.9271514415740967\n"
     ]
    },
    {
     "name": "stderr",
     "output_type": "stream",
     "text": [
      " 81%|████████  | 203/250 [2:34:15<35:11, 44.93s/it]"
     ]
    },
    {
     "name": "stdout",
     "output_type": "stream",
     "text": [
      "Epoch 203\n",
      "Training loss: 0.8368402123451233\n",
      "Validation loss: 0.9395395517349243\n"
     ]
    },
    {
     "name": "stderr",
     "output_type": "stream",
     "text": [
      " 82%|████████▏ | 204/250 [2:34:59<34:25, 44.90s/it]"
     ]
    },
    {
     "name": "stdout",
     "output_type": "stream",
     "text": [
      "Epoch 204\n",
      "Training loss: 0.8305791616439819\n",
      "Validation loss: 0.9326013922691345\n"
     ]
    },
    {
     "name": "stderr",
     "output_type": "stream",
     "text": [
      " 82%|████████▏ | 205/250 [2:35:44<33:39, 44.89s/it]"
     ]
    },
    {
     "name": "stdout",
     "output_type": "stream",
     "text": [
      "Epoch 205\n",
      "Training loss: 0.8185613751411438\n",
      "Validation loss: 0.929953396320343\n"
     ]
    },
    {
     "name": "stderr",
     "output_type": "stream",
     "text": [
      " 82%|████████▏ | 206/250 [2:36:29<32:59, 44.99s/it]"
     ]
    },
    {
     "name": "stdout",
     "output_type": "stream",
     "text": [
      "Epoch 206\n",
      "Training loss: 0.8203997611999512\n",
      "Validation loss: 0.9125033617019653\n"
     ]
    },
    {
     "name": "stderr",
     "output_type": "stream",
     "text": [
      " 83%|████████▎ | 207/250 [2:37:14<32:12, 44.95s/it]"
     ]
    },
    {
     "name": "stdout",
     "output_type": "stream",
     "text": [
      "Epoch 207\n",
      "Training loss: 0.8089013695716858\n",
      "Validation loss: 0.9427897930145264\n"
     ]
    },
    {
     "name": "stderr",
     "output_type": "stream",
     "text": [
      " 83%|████████▎ | 208/250 [2:37:59<31:26, 44.92s/it]"
     ]
    },
    {
     "name": "stdout",
     "output_type": "stream",
     "text": [
      "Epoch 208\n",
      "Training loss: 0.8239147067070007\n",
      "Validation loss: 0.9565075635910034\n"
     ]
    },
    {
     "name": "stderr",
     "output_type": "stream",
     "text": [
      " 84%|████████▎ | 209/250 [2:38:44<30:39, 44.88s/it]"
     ]
    },
    {
     "name": "stdout",
     "output_type": "stream",
     "text": [
      "Epoch 209\n",
      "Training loss: 0.8158956170082092\n",
      "Validation loss: 0.9415276050567627\n"
     ]
    },
    {
     "name": "stderr",
     "output_type": "stream",
     "text": [
      " 84%|████████▍ | 210/250 [2:39:29<29:55, 44.88s/it]"
     ]
    },
    {
     "name": "stdout",
     "output_type": "stream",
     "text": [
      "Epoch 210\n",
      "Training loss: 0.8101639747619629\n",
      "Validation loss: 0.9517298936843872\n"
     ]
    },
    {
     "name": "stderr",
     "output_type": "stream",
     "text": [
      " 84%|████████▍ | 211/250 [2:40:14<29:11, 44.91s/it]"
     ]
    },
    {
     "name": "stdout",
     "output_type": "stream",
     "text": [
      "Epoch 211\n",
      "Training loss: 0.8116806745529175\n",
      "Validation loss: 0.9502344727516174\n"
     ]
    },
    {
     "name": "stderr",
     "output_type": "stream",
     "text": [
      " 85%|████████▍ | 212/250 [2:40:59<28:24, 44.85s/it]"
     ]
    },
    {
     "name": "stdout",
     "output_type": "stream",
     "text": [
      "Epoch 212\n",
      "Training loss: 0.8210430145263672\n",
      "Validation loss: 0.9327507019042969\n"
     ]
    },
    {
     "name": "stderr",
     "output_type": "stream",
     "text": [
      " 85%|████████▌ | 213/250 [2:41:43<27:37, 44.80s/it]"
     ]
    },
    {
     "name": "stdout",
     "output_type": "stream",
     "text": [
      "Epoch 213\n",
      "Training loss: 0.8100090026855469\n",
      "Validation loss: 0.9236083030700684\n"
     ]
    },
    {
     "name": "stderr",
     "output_type": "stream",
     "text": [
      " 86%|████████▌ | 214/250 [2:42:28<26:54, 44.85s/it]"
     ]
    },
    {
     "name": "stdout",
     "output_type": "stream",
     "text": [
      "Epoch 214\n",
      "Training loss: 0.8070087432861328\n",
      "Validation loss: 0.9379228353500366\n"
     ]
    },
    {
     "name": "stderr",
     "output_type": "stream",
     "text": [
      " 86%|████████▌ | 215/250 [2:43:13<26:11, 44.89s/it]"
     ]
    },
    {
     "name": "stdout",
     "output_type": "stream",
     "text": [
      "Epoch 215\n",
      "Training loss: 0.8060054779052734\n",
      "Validation loss: 0.9605064392089844\n"
     ]
    },
    {
     "name": "stderr",
     "output_type": "stream",
     "text": [
      " 86%|████████▋ | 216/250 [2:43:58<25:25, 44.88s/it]"
     ]
    },
    {
     "name": "stdout",
     "output_type": "stream",
     "text": [
      "Epoch 216\n",
      "Training loss: 0.8084565997123718\n",
      "Validation loss: 0.9418575763702393\n"
     ]
    },
    {
     "name": "stderr",
     "output_type": "stream",
     "text": [
      " 87%|████████▋ | 217/250 [2:44:43<24:40, 44.86s/it]"
     ]
    },
    {
     "name": "stdout",
     "output_type": "stream",
     "text": [
      "Epoch 217\n",
      "Training loss: 0.8088809847831726\n",
      "Validation loss: 0.950175940990448\n"
     ]
    },
    {
     "name": "stderr",
     "output_type": "stream",
     "text": [
      " 87%|████████▋ | 218/250 [2:45:28<23:55, 44.85s/it]"
     ]
    },
    {
     "name": "stdout",
     "output_type": "stream",
     "text": [
      "Epoch 218\n",
      "Training loss: 0.7946820259094238\n",
      "Validation loss: 0.9392364025115967\n"
     ]
    },
    {
     "name": "stderr",
     "output_type": "stream",
     "text": [
      " 88%|████████▊ | 219/250 [2:46:22<24:43, 47.84s/it]"
     ]
    },
    {
     "name": "stdout",
     "output_type": "stream",
     "text": [
      "Epoch 219\n",
      "Training loss: 0.7997066974639893\n",
      "Validation loss: 0.9504857063293457\n"
     ]
    },
    {
     "name": "stderr",
     "output_type": "stream",
     "text": [
      " 88%|████████▊ | 220/250 [2:47:07<23:29, 46.97s/it]"
     ]
    },
    {
     "name": "stdout",
     "output_type": "stream",
     "text": [
      "Epoch 220\n",
      "Training loss: 0.8088623881340027\n",
      "Validation loss: 0.9379317164421082\n"
     ]
    },
    {
     "name": "stderr",
     "output_type": "stream",
     "text": [
      " 88%|████████▊ | 221/250 [2:47:52<22:22, 46.28s/it]"
     ]
    },
    {
     "name": "stdout",
     "output_type": "stream",
     "text": [
      "Epoch 221\n",
      "Training loss: 0.7899038195610046\n",
      "Validation loss: 0.958077073097229\n"
     ]
    },
    {
     "name": "stderr",
     "output_type": "stream",
     "text": [
      " 89%|████████▉ | 222/250 [2:48:37<21:23, 45.84s/it]"
     ]
    },
    {
     "name": "stdout",
     "output_type": "stream",
     "text": [
      "Epoch 222\n",
      "Training loss: 0.7953886985778809\n",
      "Validation loss: 0.962601900100708\n"
     ]
    },
    {
     "name": "stderr",
     "output_type": "stream",
     "text": [
      " 89%|████████▉ | 223/250 [2:49:22<20:28, 45.48s/it]"
     ]
    },
    {
     "name": "stdout",
     "output_type": "stream",
     "text": [
      "Epoch 223\n",
      "Training loss: 0.7966417670249939\n",
      "Validation loss: 0.9533330798149109\n"
     ]
    },
    {
     "name": "stderr",
     "output_type": "stream",
     "text": [
      " 90%|████████▉ | 224/250 [2:50:06<19:36, 45.24s/it]"
     ]
    },
    {
     "name": "stdout",
     "output_type": "stream",
     "text": [
      "Epoch 224\n",
      "Training loss: 0.7912007570266724\n",
      "Validation loss: 0.9574050903320312\n"
     ]
    },
    {
     "name": "stderr",
     "output_type": "stream",
     "text": [
      " 90%|█████████ | 225/250 [2:50:51<18:48, 45.13s/it]"
     ]
    },
    {
     "name": "stdout",
     "output_type": "stream",
     "text": [
      "Epoch 225\n",
      "Training loss: 0.7849755883216858\n",
      "Validation loss: 0.9386466145515442\n"
     ]
    },
    {
     "name": "stderr",
     "output_type": "stream",
     "text": [
      " 90%|█████████ | 226/250 [2:51:36<18:01, 45.07s/it]"
     ]
    },
    {
     "name": "stdout",
     "output_type": "stream",
     "text": [
      "Epoch 226\n",
      "Training loss: 0.7908450961112976\n",
      "Validation loss: 0.9457217454910278\n"
     ]
    },
    {
     "name": "stderr",
     "output_type": "stream",
     "text": [
      " 91%|█████████ | 227/250 [2:52:21<17:15, 45.02s/it]"
     ]
    },
    {
     "name": "stdout",
     "output_type": "stream",
     "text": [
      "Epoch 227\n",
      "Training loss: 0.7893180251121521\n",
      "Validation loss: 0.9103417992591858\n"
     ]
    },
    {
     "name": "stderr",
     "output_type": "stream",
     "text": [
      " 91%|█████████ | 228/250 [2:53:06<16:29, 44.98s/it]"
     ]
    },
    {
     "name": "stdout",
     "output_type": "stream",
     "text": [
      "Epoch 228\n",
      "Training loss: 0.7910184860229492\n",
      "Validation loss: 0.9482927322387695\n"
     ]
    },
    {
     "name": "stderr",
     "output_type": "stream",
     "text": [
      " 92%|█████████▏| 229/250 [2:53:51<15:44, 45.00s/it]"
     ]
    },
    {
     "name": "stdout",
     "output_type": "stream",
     "text": [
      "Epoch 229\n",
      "Training loss: 0.7808632850646973\n",
      "Validation loss: 0.951648473739624\n"
     ]
    },
    {
     "name": "stderr",
     "output_type": "stream",
     "text": [
      " 92%|█████████▏| 230/250 [2:54:36<14:58, 44.94s/it]"
     ]
    },
    {
     "name": "stdout",
     "output_type": "stream",
     "text": [
      "Epoch 230\n",
      "Training loss: 0.781637966632843\n",
      "Validation loss: 0.9306318759918213\n"
     ]
    },
    {
     "name": "stderr",
     "output_type": "stream",
     "text": [
      " 92%|█████████▏| 231/250 [2:55:21<14:17, 45.13s/it]"
     ]
    },
    {
     "name": "stdout",
     "output_type": "stream",
     "text": [
      "Epoch 231\n",
      "Training loss: 0.7898525595664978\n",
      "Validation loss: 0.9620157480239868\n"
     ]
    },
    {
     "name": "stderr",
     "output_type": "stream",
     "text": [
      " 93%|█████████▎| 232/250 [2:56:07<13:37, 45.40s/it]"
     ]
    },
    {
     "name": "stdout",
     "output_type": "stream",
     "text": [
      "Epoch 232\n",
      "Training loss: 0.77457195520401\n",
      "Validation loss: 0.945852518081665\n"
     ]
    },
    {
     "name": "stderr",
     "output_type": "stream",
     "text": [
      " 93%|█████████▎| 233/250 [2:56:52<12:48, 45.21s/it]"
     ]
    },
    {
     "name": "stdout",
     "output_type": "stream",
     "text": [
      "Epoch 233\n",
      "Training loss: 0.7791438102722168\n",
      "Validation loss: 0.9499939680099487\n"
     ]
    },
    {
     "name": "stderr",
     "output_type": "stream",
     "text": [
      " 94%|█████████▎| 234/250 [2:57:37<12:02, 45.14s/it]"
     ]
    },
    {
     "name": "stdout",
     "output_type": "stream",
     "text": [
      "Epoch 234\n",
      "Training loss: 0.7731806635856628\n",
      "Validation loss: 0.9457067251205444\n"
     ]
    },
    {
     "name": "stderr",
     "output_type": "stream",
     "text": [
      " 94%|█████████▍| 235/250 [2:58:22<11:15, 45.05s/it]"
     ]
    },
    {
     "name": "stdout",
     "output_type": "stream",
     "text": [
      "Epoch 235\n",
      "Training loss: 0.7806126475334167\n",
      "Validation loss: 0.9581592082977295\n"
     ]
    },
    {
     "name": "stderr",
     "output_type": "stream",
     "text": [
      " 94%|█████████▍| 236/250 [2:59:07<10:29, 44.93s/it]"
     ]
    },
    {
     "name": "stdout",
     "output_type": "stream",
     "text": [
      "Epoch 236\n",
      "Training loss: 0.7689747214317322\n",
      "Validation loss: 0.9448274374008179\n"
     ]
    },
    {
     "name": "stderr",
     "output_type": "stream",
     "text": [
      " 95%|█████████▍| 237/250 [2:59:51<09:43, 44.85s/it]"
     ]
    },
    {
     "name": "stdout",
     "output_type": "stream",
     "text": [
      "Epoch 237\n",
      "Training loss: 0.7689794301986694\n",
      "Validation loss: 0.9613958597183228\n"
     ]
    },
    {
     "name": "stderr",
     "output_type": "stream",
     "text": [
      " 95%|█████████▌| 238/250 [3:00:36<08:58, 44.88s/it]"
     ]
    },
    {
     "name": "stdout",
     "output_type": "stream",
     "text": [
      "Epoch 238\n",
      "Training loss: 0.7720723748207092\n",
      "Validation loss: 0.9513378739356995\n"
     ]
    },
    {
     "name": "stderr",
     "output_type": "stream",
     "text": [
      " 96%|█████████▌| 239/250 [3:01:21<08:14, 44.93s/it]"
     ]
    },
    {
     "name": "stdout",
     "output_type": "stream",
     "text": [
      "Epoch 239\n",
      "Training loss: 0.7776837944984436\n",
      "Validation loss: 0.9487341642379761\n"
     ]
    },
    {
     "name": "stderr",
     "output_type": "stream",
     "text": [
      " 96%|█████████▌| 240/250 [3:02:06<07:28, 44.87s/it]"
     ]
    },
    {
     "name": "stdout",
     "output_type": "stream",
     "text": [
      "Epoch 240\n",
      "Training loss: 0.7653396129608154\n",
      "Validation loss: 0.94575035572052\n"
     ]
    },
    {
     "name": "stderr",
     "output_type": "stream",
     "text": [
      " 96%|█████████▋| 241/250 [3:02:51<06:44, 44.98s/it]"
     ]
    },
    {
     "name": "stdout",
     "output_type": "stream",
     "text": [
      "Epoch 241\n",
      "Training loss: 0.7606369853019714\n",
      "Validation loss: 0.9663739204406738\n"
     ]
    },
    {
     "name": "stderr",
     "output_type": "stream",
     "text": [
      " 97%|█████████▋| 242/250 [3:03:36<05:59, 44.99s/it]"
     ]
    },
    {
     "name": "stdout",
     "output_type": "stream",
     "text": [
      "Epoch 242\n",
      "Training loss: 0.761555552482605\n",
      "Validation loss: 0.9847935438156128\n"
     ]
    },
    {
     "name": "stderr",
     "output_type": "stream",
     "text": [
      " 97%|█████████▋| 243/250 [3:04:21<05:14, 44.92s/it]"
     ]
    },
    {
     "name": "stdout",
     "output_type": "stream",
     "text": [
      "Epoch 243\n",
      "Training loss: 0.7589146494865417\n",
      "Validation loss: 0.9413378238677979\n"
     ]
    },
    {
     "name": "stderr",
     "output_type": "stream",
     "text": [
      " 98%|█████████▊| 244/250 [3:05:06<04:29, 44.88s/it]"
     ]
    },
    {
     "name": "stdout",
     "output_type": "stream",
     "text": [
      "Epoch 244\n",
      "Training loss: 0.7546517252922058\n",
      "Validation loss: 0.9516487121582031\n"
     ]
    },
    {
     "name": "stderr",
     "output_type": "stream",
     "text": [
      " 98%|█████████▊| 245/250 [3:05:51<03:44, 45.00s/it]"
     ]
    },
    {
     "name": "stdout",
     "output_type": "stream",
     "text": [
      "Epoch 245\n",
      "Training loss: 0.7495883107185364\n",
      "Validation loss: 0.9634199738502502\n"
     ]
    },
    {
     "name": "stderr",
     "output_type": "stream",
     "text": [
      " 98%|█████████▊| 246/250 [3:06:36<02:59, 44.99s/it]"
     ]
    },
    {
     "name": "stdout",
     "output_type": "stream",
     "text": [
      "Epoch 246\n",
      "Training loss: 0.7628960013389587\n",
      "Validation loss: 0.9535419940948486\n"
     ]
    },
    {
     "name": "stderr",
     "output_type": "stream",
     "text": [
      " 99%|█████████▉| 247/250 [3:07:21<02:14, 44.97s/it]"
     ]
    },
    {
     "name": "stdout",
     "output_type": "stream",
     "text": [
      "Epoch 247\n",
      "Training loss: 0.7550677061080933\n",
      "Validation loss: 0.9573818445205688\n"
     ]
    },
    {
     "name": "stderr",
     "output_type": "stream",
     "text": [
      " 99%|█████████▉| 248/250 [3:08:06<01:30, 45.07s/it]"
     ]
    },
    {
     "name": "stdout",
     "output_type": "stream",
     "text": [
      "Epoch 248\n",
      "Training loss: 0.7471808791160583\n",
      "Validation loss: 0.9490019679069519\n"
     ]
    },
    {
     "name": "stderr",
     "output_type": "stream",
     "text": [
      "100%|█████████▉| 249/250 [3:09:04<00:48, 48.93s/it]"
     ]
    },
    {
     "name": "stdout",
     "output_type": "stream",
     "text": [
      "Epoch 249\n",
      "Training loss: 0.7508559226989746\n",
      "Validation loss: 0.9647276401519775\n"
     ]
    },
    {
     "name": "stderr",
     "output_type": "stream",
     "text": [
      "100%|██████████| 250/250 [3:09:49<00:00, 45.56s/it]"
     ]
    },
    {
     "name": "stdout",
     "output_type": "stream",
     "text": [
      "Epoch 250\n",
      "Training loss: 0.7496224641799927\n",
      "Validation loss: 0.965203046798706\n",
      "==============================\n"
     ]
    },
    {
     "name": "stderr",
     "output_type": "stream",
     "text": [
      "\n"
     ]
    },
    {
     "ename": "TypeError",
     "evalue": "save_to_file() got an unexpected keyword argument 'fc_dr'",
     "output_type": "error",
     "traceback": [
      "\u001b[0;31m---------------------------------------------------------------------------\u001b[0m",
      "\u001b[0;31mTypeError\u001b[0m                                 Traceback (most recent call last)",
      "\u001b[0;32m/tmp/ipykernel_39120/4187574443.py\u001b[0m in \u001b[0;36m<module>\u001b[0;34m\u001b[0m\n\u001b[1;32m     96\u001b[0m \u001b[0mprint\u001b[0m\u001b[0;34m(\u001b[0m\u001b[0;34m'==='\u001b[0m\u001b[0;34m*\u001b[0m\u001b[0;36m10\u001b[0m\u001b[0;34m)\u001b[0m\u001b[0;34m\u001b[0m\u001b[0;34m\u001b[0m\u001b[0m\n\u001b[1;32m     97\u001b[0m \u001b[0;31m# torch.save(model.state_dict(), '/mnt/storageG1/lwang/Projects/tb_dr_MIC/saved_models/final_seq_model1-44ep.pt')\u001b[0m\u001b[0;34m\u001b[0m\u001b[0;34m\u001b[0m\u001b[0m\n\u001b[0;32m---> 98\u001b[0;31m \u001b[0msave_to_file\u001b[0m\u001b[0;34m(\u001b[0m\u001b[0;34m'trials3.txt'\u001b[0m\u001b[0;34m,\u001b[0m \u001b[0;34m'training_final1'\u001b[0m \u001b[0;34m,\u001b[0m\u001b[0mepoch\u001b[0m\u001b[0;34m,\u001b[0m \u001b[0mlr\u001b[0m\u001b[0;34m=\u001b[0m\u001b[0;36m1e-4\u001b[0m\u001b[0;34m,\u001b[0m \u001b[0mfc_dr\u001b[0m\u001b[0;34m=\u001b[0m\u001b[0;36m0.2\u001b[0m\u001b[0;34m,\u001b[0m \u001b[0ml2\u001b[0m\u001b[0;34m=\u001b[0m\u001b[0;36m1e-9\u001b[0m\u001b[0;34m,\u001b[0m \u001b[0mtrain_loss\u001b[0m \u001b[0;34m=\u001b[0m \u001b[0mtrain_epoch_loss\u001b[0m\u001b[0;34m,\u001b[0m \u001b[0mtest_loss\u001b[0m \u001b[0;34m=\u001b[0m \u001b[0mtest_epoch_loss\u001b[0m\u001b[0;34m)\u001b[0m\u001b[0;34m\u001b[0m\u001b[0;34m\u001b[0m\u001b[0m\n\u001b[0m\u001b[1;32m     99\u001b[0m \u001b[0;34m\u001b[0m\u001b[0m\n\u001b[1;32m    100\u001b[0m \u001b[0mfig\u001b[0m\u001b[0;34m,\u001b[0m \u001b[0max\u001b[0m \u001b[0;34m=\u001b[0m \u001b[0mplt\u001b[0m\u001b[0;34m.\u001b[0m\u001b[0msubplots\u001b[0m\u001b[0;34m(\u001b[0m\u001b[0;34m)\u001b[0m\u001b[0;34m\u001b[0m\u001b[0;34m\u001b[0m\u001b[0m\n",
      "\u001b[0;31mTypeError\u001b[0m: save_to_file() got an unexpected keyword argument 'fc_dr'"
     ]
    }
   ],
   "source": [
    "torch.cuda.empty_cache()\n",
    "import gc; gc.collect()\n",
    "# ic.enable()\n",
    "ic.disable()\n",
    "\n",
    "train_epoch_loss = []\n",
    "test_epoch_loss = []\n",
    "\n",
    "\n",
    "\n",
    "for e in tqdm(range(1, epoch+1)):\n",
    "    model.train()\n",
    "    train_batch_loss = []\n",
    "    test_batch_loss = []\n",
    "    # print(f'Epoch {e}')\n",
    "    for x_train, y_train in train_loader:\n",
    "        x_batch = torch.squeeze(x_train, 0).to(device)\n",
    "        y_batch = y_train.to(device)\n",
    "        x_batch = x_batch.float()\n",
    "        y_batch = y_batch.float()\n",
    "        # y_batch = y_batch.view(-1)\n",
    "        # y_batch = one_hot_torch(y).to(device)\n",
    "        # print('batch y size before flatten:',y_batch.size())\n",
    "        # y_batch = y_batch.flatten()\n",
    "        # print('batch y size after flatten:',y_batch.size())\n",
    "        # print(x_batch.size())\n",
    "        # print(x_batch.size())\n",
    "    # For example, if you have a convolutional layer with 64 output channels, 3 input channels, and a kernel size of 3x3, the weight parameters would have a dimension of (64, 3, 3, 3)\n",
    "        # print(x_batch.size())\n",
    "        pred = model(x_batch.float())\n",
    "        # print('y_batch')\n",
    "        # print(y_batch)\n",
    "        # print('pred')\n",
    "        # print(pred)\n",
    "        # pred = pred.unsqueeze(0)\n",
    "        # ic(pred)\n",
    "        # ic(y_batch)\n",
    "        ic(pred.size())\n",
    "        loss_train = criterion(y_batch, pred)\n",
    "        # print('loss_train')\n",
    "        # print(loss_train)\n",
    "        train_batch_loss.append(loss_train)\n",
    "        \n",
    "        optimizer.zero_grad()\n",
    "        loss_train.backward()\n",
    "        optimizer.step()\n",
    "        # print(f'Batch - GPU Memory Allocated: {torch.cuda.memory_allocated() / 1024**2:.2f} MB')\n",
    "\n",
    "    train_epoch_loss.append(torch.mean(torch.stack(train_batch_loss)).detach().cpu().numpy())\n",
    "    model.eval()\n",
    "    with torch.no_grad():\n",
    "        # print('>> test')\n",
    "        for x_test, y_test in test_loader:\n",
    "            x_batch = torch.squeeze(x_test, 0).to(device)\n",
    "            x_batch = x_batch.float()\n",
    "            y_batch = y_test.float().to(device)\n",
    "            # print(x_batch.size())\n",
    "            # y_batch = torch.Tensor.float(y).to(device)\n",
    "            # x_batch = x_batch.permute(0, 3, 1, 2).to(device)\n",
    "            pred = model(x_batch.float())\n",
    "            # pred = pred.unsqueeze(0)\n",
    "\n",
    "            loss_test = criterion(y_batch, pred)\n",
    "            test_batch_loss.append(loss_test)\n",
    "        test_epoch_loss.append(torch.mean(torch.stack(test_batch_loss)).detach().cpu().numpy())\n",
    "\n",
    "    print(f'Epoch {e}')\n",
    "    print(f\"Training loss: {torch.mean(torch.stack(train_batch_loss)).detach().cpu().numpy()}\")\n",
    "    print(f\"Validation loss: {torch.mean(torch.stack(test_batch_loss)).detach().cpu().numpy()}\") \n",
    "    # scheduler.step(torch.mean(torch.stack(test_batch_loss)))\n",
    "    # print(train_batch_loss)\n",
    "    # print(test_batch_loss)\n",
    "    # print(f\"Training loss: {np.mean(train_batch_loss)}\")\n",
    "    # print(f\"Validation loss: {np.mean(test_batch_loss)}\")\n",
    "\n",
    "    # #! implementing early stopping\n",
    "    # current_val_loss = torch.mean(torch.stack(test_batch_loss)).detach().cpu().numpy()\n",
    "    # print(f'Current val loss: {current_val_loss}')\n",
    "    # print(f'Best val loss: {best_val_loss}')\n",
    "    # if current_val_loss < best_val_loss:\n",
    "    #     best_val_loss = current_val_loss\n",
    "    #     patience_counter = 0  # reset patience counter\n",
    "    #     # Save the best model\n",
    "    #     # torch.save(model.state_dict(), '/mnt/storageG1/lwang/Projects/tb_dr_MIC/saved_models/aa-model_final.pth')\n",
    "\n",
    "    # else:\n",
    "    #     patience_counter += 1\n",
    "    #     if patience_counter >= patience:\n",
    "    #         print(\"Early stopping triggered\")\n",
    "    #         torch.save({\n",
    "    #         'optimizer': optimizer.state_dict(),\n",
    "    #         'model': model.state_dict(),\n",
    "    #     }, '/mnt/storageG1/lwang/Projects/tb_dr_MIC_v2/saved_models/aa-model_final1.pth')\n",
    "    #         break  # Early stopping\n",
    "        \n",
    "print('==='*10)\n",
    "# torch.save(model.state_dict(), '/mnt/storageG1/lwang/Projects/tb_dr_MIC/saved_models/final_seq_model1-44ep.pt')\n",
    "save_to_file('trials3.txt', 'training_final1' ,epoch, lr=1e-4, fc_dr=0.2, l2=1e-9, train_loss = train_epoch_loss, test_loss = test_epoch_loss)\n",
    "\n",
    "fig, ax = plt.subplots()\n",
    "x = np.arange(1, epoch+1, 1)\n",
    "ax.plot(x, train_epoch_loss,label='Training')\n",
    "# ax.plot(x, test_epoch_loss,label='Validation')\n",
    "ax.legend()\n",
    "ax.set_xlabel(\"Number of Epoch\")\n",
    "ax.set_ylabel(\"Loss\")\n",
    "ax.set_xticks(np.arange(0, epoch+1, 10))\n",
    "ax.set_title(f'Loss: Learning_rate:{lr}')\n",
    "# ax_2 = ax.twinx()\n",
    "# ax_2.plot(history[\"lr\"], \"k--\", lw=1)\n",
    "# ax_2.set_yscale(\"log\")\n",
    "# ax.set_ylim(ax.get_ylim()[0], history[\"training_losses\"][0])\n",
    "ax.grid(axis=\"x\")\n",
    "fig.tight_layout()\n",
    "fig.show()\n",
    "fig.savefig(f'./graphs1/loss_lr_{lr}_final1.png')\n",
    "print(f'./graphs1/loss_lr_{lr}_final1.png')\n",
    "\n",
    "# torch.save({\n",
    "#     'optimizer': optimizer.state_dict(),\n",
    "#     'model': model.state_dict(),\n",
    "# }, '/mnt/storageG1/lwang/Projects/tb_dr_MIC/saved_models/seq-{appendix}-{epoch}-{lr}-{cnndr}-{fcdr}-{l2}.pth')"
   ]
  },
  {
   "cell_type": "code",
   "execution_count": 12,
   "metadata": {},
   "outputs": [
    {
     "ename": "ValueError",
     "evalue": "x and y must have same first dimension, but have shapes (80,) and (10800,)",
     "output_type": "error",
     "traceback": [
      "\u001b[0;31m---------------------------------------------------------------------------\u001b[0m",
      "\u001b[0;31mValueError\u001b[0m                                Traceback (most recent call last)",
      "\u001b[0;32m/tmp/ipykernel_121505/2026533407.py\u001b[0m in \u001b[0;36m<module>\u001b[0;34m\u001b[0m\n\u001b[1;32m      1\u001b[0m \u001b[0mfig\u001b[0m\u001b[0;34m,\u001b[0m \u001b[0max\u001b[0m \u001b[0;34m=\u001b[0m \u001b[0mplt\u001b[0m\u001b[0;34m.\u001b[0m\u001b[0msubplots\u001b[0m\u001b[0;34m(\u001b[0m\u001b[0;34m)\u001b[0m\u001b[0;34m\u001b[0m\u001b[0;34m\u001b[0m\u001b[0m\n\u001b[1;32m      2\u001b[0m \u001b[0mx\u001b[0m \u001b[0;34m=\u001b[0m \u001b[0mnp\u001b[0m\u001b[0;34m.\u001b[0m\u001b[0marange\u001b[0m\u001b[0;34m(\u001b[0m\u001b[0;36m1\u001b[0m\u001b[0;34m,\u001b[0m \u001b[0mepoch\u001b[0m\u001b[0;34m+\u001b[0m\u001b[0;36m1\u001b[0m\u001b[0;34m,\u001b[0m \u001b[0;36m1\u001b[0m\u001b[0;34m)\u001b[0m\u001b[0;34m\u001b[0m\u001b[0;34m\u001b[0m\u001b[0m\n\u001b[0;32m----> 3\u001b[0;31m \u001b[0max\u001b[0m\u001b[0;34m.\u001b[0m\u001b[0mplot\u001b[0m\u001b[0;34m(\u001b[0m\u001b[0mx\u001b[0m\u001b[0;34m,\u001b[0m \u001b[0mtrain_epoch_loss\u001b[0m\u001b[0;34m,\u001b[0m\u001b[0mlabel\u001b[0m\u001b[0;34m=\u001b[0m\u001b[0;34m'Training'\u001b[0m\u001b[0;34m)\u001b[0m\u001b[0;34m\u001b[0m\u001b[0;34m\u001b[0m\u001b[0m\n\u001b[0m\u001b[1;32m      4\u001b[0m \u001b[0;31m# ax.plot(x, test_epoch_loss,label='Validation')\u001b[0m\u001b[0;34m\u001b[0m\u001b[0;34m\u001b[0m\u001b[0m\n\u001b[1;32m      5\u001b[0m \u001b[0max\u001b[0m\u001b[0;34m.\u001b[0m\u001b[0mlegend\u001b[0m\u001b[0;34m(\u001b[0m\u001b[0;34m)\u001b[0m\u001b[0;34m\u001b[0m\u001b[0;34m\u001b[0m\u001b[0m\n",
      "\u001b[0;32m/mnt/storageG1/lwang/miniconda3/envs/ml-workshop/lib/python3.9/site-packages/matplotlib/axes/_axes.py\u001b[0m in \u001b[0;36mplot\u001b[0;34m(self, scalex, scaley, data, *args, **kwargs)\u001b[0m\n\u001b[1;32m   1630\u001b[0m         \"\"\"\n\u001b[1;32m   1631\u001b[0m         \u001b[0mkwargs\u001b[0m \u001b[0;34m=\u001b[0m \u001b[0mcbook\u001b[0m\u001b[0;34m.\u001b[0m\u001b[0mnormalize_kwargs\u001b[0m\u001b[0;34m(\u001b[0m\u001b[0mkwargs\u001b[0m\u001b[0;34m,\u001b[0m \u001b[0mmlines\u001b[0m\u001b[0;34m.\u001b[0m\u001b[0mLine2D\u001b[0m\u001b[0;34m)\u001b[0m\u001b[0;34m\u001b[0m\u001b[0;34m\u001b[0m\u001b[0m\n\u001b[0;32m-> 1632\u001b[0;31m         \u001b[0mlines\u001b[0m \u001b[0;34m=\u001b[0m \u001b[0;34m[\u001b[0m\u001b[0;34m*\u001b[0m\u001b[0mself\u001b[0m\u001b[0;34m.\u001b[0m\u001b[0m_get_lines\u001b[0m\u001b[0;34m(\u001b[0m\u001b[0;34m*\u001b[0m\u001b[0margs\u001b[0m\u001b[0;34m,\u001b[0m \u001b[0mdata\u001b[0m\u001b[0;34m=\u001b[0m\u001b[0mdata\u001b[0m\u001b[0;34m,\u001b[0m \u001b[0;34m**\u001b[0m\u001b[0mkwargs\u001b[0m\u001b[0;34m)\u001b[0m\u001b[0;34m]\u001b[0m\u001b[0;34m\u001b[0m\u001b[0;34m\u001b[0m\u001b[0m\n\u001b[0m\u001b[1;32m   1633\u001b[0m         \u001b[0;32mfor\u001b[0m \u001b[0mline\u001b[0m \u001b[0;32min\u001b[0m \u001b[0mlines\u001b[0m\u001b[0;34m:\u001b[0m\u001b[0;34m\u001b[0m\u001b[0;34m\u001b[0m\u001b[0m\n\u001b[1;32m   1634\u001b[0m             \u001b[0mself\u001b[0m\u001b[0;34m.\u001b[0m\u001b[0madd_line\u001b[0m\u001b[0;34m(\u001b[0m\u001b[0mline\u001b[0m\u001b[0;34m)\u001b[0m\u001b[0;34m\u001b[0m\u001b[0;34m\u001b[0m\u001b[0m\n",
      "\u001b[0;32m/mnt/storageG1/lwang/miniconda3/envs/ml-workshop/lib/python3.9/site-packages/matplotlib/axes/_base.py\u001b[0m in \u001b[0;36m__call__\u001b[0;34m(self, data, *args, **kwargs)\u001b[0m\n\u001b[1;32m    310\u001b[0m                 \u001b[0mthis\u001b[0m \u001b[0;34m+=\u001b[0m \u001b[0margs\u001b[0m\u001b[0;34m[\u001b[0m\u001b[0;36m0\u001b[0m\u001b[0;34m]\u001b[0m\u001b[0;34m,\u001b[0m\u001b[0;34m\u001b[0m\u001b[0;34m\u001b[0m\u001b[0m\n\u001b[1;32m    311\u001b[0m                 \u001b[0margs\u001b[0m \u001b[0;34m=\u001b[0m \u001b[0margs\u001b[0m\u001b[0;34m[\u001b[0m\u001b[0;36m1\u001b[0m\u001b[0;34m:\u001b[0m\u001b[0;34m]\u001b[0m\u001b[0;34m\u001b[0m\u001b[0;34m\u001b[0m\u001b[0m\n\u001b[0;32m--> 312\u001b[0;31m             \u001b[0;32myield\u001b[0m \u001b[0;32mfrom\u001b[0m \u001b[0mself\u001b[0m\u001b[0;34m.\u001b[0m\u001b[0m_plot_args\u001b[0m\u001b[0;34m(\u001b[0m\u001b[0mthis\u001b[0m\u001b[0;34m,\u001b[0m \u001b[0mkwargs\u001b[0m\u001b[0;34m)\u001b[0m\u001b[0;34m\u001b[0m\u001b[0;34m\u001b[0m\u001b[0m\n\u001b[0m\u001b[1;32m    313\u001b[0m \u001b[0;34m\u001b[0m\u001b[0m\n\u001b[1;32m    314\u001b[0m     \u001b[0;32mdef\u001b[0m \u001b[0mget_next_color\u001b[0m\u001b[0;34m(\u001b[0m\u001b[0mself\u001b[0m\u001b[0;34m)\u001b[0m\u001b[0;34m:\u001b[0m\u001b[0;34m\u001b[0m\u001b[0;34m\u001b[0m\u001b[0m\n",
      "\u001b[0;32m/mnt/storageG1/lwang/miniconda3/envs/ml-workshop/lib/python3.9/site-packages/matplotlib/axes/_base.py\u001b[0m in \u001b[0;36m_plot_args\u001b[0;34m(self, tup, kwargs, return_kwargs)\u001b[0m\n\u001b[1;32m    496\u001b[0m \u001b[0;34m\u001b[0m\u001b[0m\n\u001b[1;32m    497\u001b[0m         \u001b[0;32mif\u001b[0m \u001b[0mx\u001b[0m\u001b[0;34m.\u001b[0m\u001b[0mshape\u001b[0m\u001b[0;34m[\u001b[0m\u001b[0;36m0\u001b[0m\u001b[0;34m]\u001b[0m \u001b[0;34m!=\u001b[0m \u001b[0my\u001b[0m\u001b[0;34m.\u001b[0m\u001b[0mshape\u001b[0m\u001b[0;34m[\u001b[0m\u001b[0;36m0\u001b[0m\u001b[0;34m]\u001b[0m\u001b[0;34m:\u001b[0m\u001b[0;34m\u001b[0m\u001b[0;34m\u001b[0m\u001b[0m\n\u001b[0;32m--> 498\u001b[0;31m             raise ValueError(f\"x and y must have same first dimension, but \"\n\u001b[0m\u001b[1;32m    499\u001b[0m                              f\"have shapes {x.shape} and {y.shape}\")\n\u001b[1;32m    500\u001b[0m         \u001b[0;32mif\u001b[0m \u001b[0mx\u001b[0m\u001b[0;34m.\u001b[0m\u001b[0mndim\u001b[0m \u001b[0;34m>\u001b[0m \u001b[0;36m2\u001b[0m \u001b[0;32mor\u001b[0m \u001b[0my\u001b[0m\u001b[0;34m.\u001b[0m\u001b[0mndim\u001b[0m \u001b[0;34m>\u001b[0m \u001b[0;36m2\u001b[0m\u001b[0;34m:\u001b[0m\u001b[0;34m\u001b[0m\u001b[0;34m\u001b[0m\u001b[0m\n",
      "\u001b[0;31mValueError\u001b[0m: x and y must have same first dimension, but have shapes (80,) and (10800,)"
     ]
    },
    {
     "data": {
      "image/png": "[encoded data removed]",
      "text/plain": [
       "<Figure size 432x288 with 1 Axes>"
      ]
     },
     "metadata": {
      "needs_background": "light"
     },
     "output_type": "display_data"
    }
   ],
   "source": [
    "\n",
    "fig, ax = plt.subplots(facecolor = 'white')\n",
    "x = np.arange(1, epoch+1, 1)\n",
    "ax.plot(x, train_epoch_loss,label='Training')\n",
    "# ax.plot(x, test_epoch_loss,label='Validation')\n",
    "ax.legend()\n",
    "ax.set_xlabel(\"Number of Epoch\")\n",
    "ax.set_ylabel(\"Loss\")\n",
    "ax.set_xticks(np.arange(0, epoch+1, 10))\n",
    "ax.set_title(f'Loss: Learning_rate:{lr}')\n",
    "# ax_2 = ax.twinx()\n",
    "# ax_2.plot(history[\"lr\"], \"k--\", lw=1)\n",
    "# ax_2.set_yscale(\"log\")\n",
    "# ax.set_ylim(ax.get_ylim()[0], history[\"training_losses\"][0])\n",
    "ax.grid(axis=\"x\")\n",
    "fig.tight_layout()\n",
    "fig.show()\n",
    "fig.savefig(f'./graphs1/loss_lr_{lr}_long.png')\n",
    "print(f'./graphs1/loss_lr_{lr}.png')"
   ]
  },
  {
   "cell_type": "markdown",
   "metadata": {},
   "source": [
    "## AUC"
   ]
  },
  {
   "cell_type": "code",
   "execution_count": null,
   "metadata": {},
   "outputs": [
    {
     "ename": "NameError",
     "evalue": "name 'cnn_dr' is not defined",
     "output_type": "error",
     "traceback": [
      "\u001b[0;31m---------------------------------------------------------------------------\u001b[0m",
      "\u001b[0;31mNameError\u001b[0m                                 Traceback (most recent call last)",
      "\u001b[0;32m/tmp/ipykernel_35237/2427433004.py\u001b[0m in \u001b[0;36m<module>\u001b[0;34m\u001b[0m\n\u001b[1;32m      7\u001b[0m \u001b[0max\u001b[0m\u001b[0;34m.\u001b[0m\u001b[0mset_ylabel\u001b[0m\u001b[0;34m(\u001b[0m\u001b[0;34m\"Loss\"\u001b[0m\u001b[0;34m)\u001b[0m\u001b[0;34m\u001b[0m\u001b[0;34m\u001b[0m\u001b[0m\n\u001b[1;32m      8\u001b[0m \u001b[0max\u001b[0m\u001b[0;34m.\u001b[0m\u001b[0mset_xticks\u001b[0m\u001b[0;34m(\u001b[0m\u001b[0mnp\u001b[0m\u001b[0;34m.\u001b[0m\u001b[0marange\u001b[0m\u001b[0;34m(\u001b[0m\u001b[0;36m0\u001b[0m\u001b[0;34m,\u001b[0m \u001b[0mepoch\u001b[0m\u001b[0;34m+\u001b[0m\u001b[0;36m1\u001b[0m\u001b[0;34m,\u001b[0m \u001b[0;36m10\u001b[0m\u001b[0;34m)\u001b[0m\u001b[0;34m)\u001b[0m\u001b[0;34m\u001b[0m\u001b[0;34m\u001b[0m\u001b[0m\n\u001b[0;32m----> 9\u001b[0;31m \u001b[0max\u001b[0m\u001b[0;34m.\u001b[0m\u001b[0mset_title\u001b[0m\u001b[0;34m(\u001b[0m\u001b[0;34mf'Loss: Learning_rate:{lr}, cnn_dr:{cnn_dr}, cnn_dr:{fc_dr}'\u001b[0m\u001b[0;34m)\u001b[0m\u001b[0;34m\u001b[0m\u001b[0;34m\u001b[0m\u001b[0m\n\u001b[0m\u001b[1;32m     10\u001b[0m \u001b[0;31m# ax_2 = ax.twinx()\u001b[0m\u001b[0;34m\u001b[0m\u001b[0;34m\u001b[0m\u001b[0m\n\u001b[1;32m     11\u001b[0m \u001b[0;31m# ax_2.plot(history[\"lr\"], \"k--\", lw=1)\u001b[0m\u001b[0;34m\u001b[0m\u001b[0;34m\u001b[0m\u001b[0m\n",
      "\u001b[0;31mNameError\u001b[0m: name 'cnn_dr' is not defined"
     ]
    },
    {
     "data": {
      "image/png": "[encoded data removed]",
      "text/plain": [
       "<Figure size 432x288 with 1 Axes>"
      ]
     },
     "metadata": {
      "needs_background": "light"
     },
     "output_type": "display_data"
    }
   ],
   "source": [
    "fig, ax = plt.subplots(facecolor = 'white')\n",
    "x = np.arange(1, epoch+1, 1)\n",
    "ax.plot(x, train_epoch_loss,label='Training')\n",
    "ax.plot(x, test_epoch_loss,label='Validation')\n",
    "ax.legend()\n",
    "ax.set_xlabel(\"Number of Epoch\")\n",
    "ax.set_ylabel(\"Loss\")\n",
    "ax.set_xticks(np.arange(0, epoch+1, 10))\n",
    "ax.set_title(f'Loss: Learning_rate:{lr}, cnn_dr:{cnn_dr}, cnn_dr:{fc_dr}')\n",
    "# ax_2 = ax.twinx()\n",
    "# ax_2.plot(history[\"lr\"], \"k--\", lw=1)\n",
    "# ax_2.set_yscale(\"log\")\n",
    "# ax.set_ylim(ax.get_ylim()[0], history[\"training_losses\"][0])\n",
    "ax.grid(axis=\"x\")\n",
    "fig.tight_layout()\n",
    "fig.show()"
   ]
  },
  {
   "cell_type": "code",
   "execution_count": null,
   "metadata": {},
   "outputs": [],
   "source": [
    "test_dataset = OneHotSeqsDataset(test_data, test_target, one_hot_dtype=torch.float)\n",
    "test_loader = DataLoader(dataset=test_dataset, batch_size=batch_size, collate_fn=collate_padded_batch ,num_workers=8)"
   ]
  },
  {
   "cell_type": "code",
   "execution_count": null,
   "metadata": {},
   "outputs": [],
   "source": [
    "torch.cuda.empty_cache()\n",
    "import gc; gc.collect()\n",
    "# ic.enable()\n",
    "ic.disable()\n",
    "\n",
    "model.load_state_dict(torch.load('saved_weights/training_torch_simple_mask_copy_split_model_128f64n-spe30-rand5-100e'))\n",
    "\n",
    "output = []\n",
    "model.eval()\n",
    "with torch.no_grad():\n",
    "\n",
    "    for x, y in test_loader:\n",
    "        x_batch = torch.squeeze(x, 0).to(device)\n",
    "        y_batch = y.to(device)\n",
    "        x_batch = x_batch.float()\n",
    "        y_batch = y_batch.float()\n",
    "        pred = model(x_batch.float())\n",
    "        output.append(pred)\n",
    "        \n",
    "original_value_output = np.exp(output)"
   ]
  },
  {
   "cell_type": "code",
   "execution_count": null,
   "metadata": {},
   "outputs": [],
   "source": []
  },
  {
   "cell_type": "code",
   "execution_count": null,
   "metadata": {},
   "outputs": [
    {
     "data": {
      "image/png": "[encoded data removed]",
      "text/plain": [
       "<Figure size 576x432 with 1 Axes>"
      ]
     },
     "metadata": {
      "needs_background": "light"
     },
     "output_type": "display_data"
    },
    {
     "name": "stdout",
     "output_type": "stream",
     "text": [
      "AUC Score: 1.0\n"
     ]
    }
   ],
   "source": [
    "from sklearn.metrics import roc_auc_score, roc_curve\n",
    "\n",
    "def calculate_auc(labels, scores):\n",
    "    \"\"\"\n",
    "    Calculate the Area Under the Receiver Operating Characteristic Curve (AUC)\n",
    "    given true binary labels and prediction scores.\n",
    "    \n",
    "    :param labels: List of true binary labels (0 or 1).\n",
    "    :param scores: List of prediction scores (probabilities or continuous output of the model).\n",
    "    :return: AUC score.\n",
    "    \"\"\"\n",
    "    auc_score = roc_auc_score(labels, scores)\n",
    "    \n",
    "    # Calculate ROC curve\n",
    "    fpr, tpr, thresholds = roc_curve(labels, scores)\n",
    "    \n",
    "    # Plot ROC curve\n",
    "    plt.figure(figsize=(8, 6))\n",
    "    plt.plot(fpr, tpr, color='darkorange', lw=2, label=f'ROC curve (area = {auc_score:.2f})')\n",
    "    plt.plot([0, 1], [0, 1], color='navy', lw=2, linestyle='--')\n",
    "    plt.xlim([0.0, 1.0])\n",
    "    plt.ylim([0.0, 1.05])\n",
    "    plt.xlabel('False Positive Rate')\n",
    "    plt.ylabel('True Positive Rate')\n",
    "    plt.title('Receiver Operating Characteristic (ROC) Curve')\n",
    "    plt.legend(loc=\"lower right\")\n",
    "    plt.show()\n",
    "    \n",
    "    return auc_score\n",
    "\n",
    "# Example usage\n",
    "true_labels = [0, 1, 1, 0, 1]  # True binary labels\n",
    "prediction_scores = [0.1, 0.4, 0.8, 0.3, 0.7]  # Prediction scores or probabilities\n",
    "\n",
    "auc_score = calculate_auc(true_labels, prediction_scores)\n",
    "print(f\"AUC Score: {auc_score}\")"
   ]
  },
  {
   "cell_type": "markdown",
   "metadata": {},
   "source": [
    "# testing out hyper-parameters"
   ]
  },
  {
   "cell_type": "code",
   "execution_count": null,
   "metadata": {},
   "outputs": [
    {
     "data": {
      "text/plain": [
       "143"
      ]
     },
     "execution_count": 15,
     "metadata": {},
     "output_type": "execute_result"
    }
   ],
   "source": []
  },
  {
   "cell_type": "code",
   "execution_count": 30,
   "metadata": {},
   "outputs": [
    {
     "name": "stdout",
     "output_type": "stream",
     "text": [
      "STDOUT: Wed Mar 13 14:25:13 2024       \n",
      "+-----------------------------------------------------------------------------+\n",
      "| NVIDIA-SMI 455.32.00    Driver Version: 455.32.00    CUDA Version: 11.1     |\n",
      "|-------------------------------+----------------------+----------------------+\n",
      "| GPU  Name        Persistence-M| Bus-Id        Disp.A | Volatile Uncorr. ECC |\n",
      "| Fan  Temp  Perf  Pwr:Usage/Cap|         Memory-Usage | GPU-Util  Compute M. |\n",
      "|                               |                      |               MIG M. |\n",
      "|===============================+======================+======================|\n",
      "|   0  Tesla V100-PCIE...  On   | 00000000:41:00.0 Off |                    0 |\n",
      "| N/A   53C    P0    50W / 250W |   6455MiB / 32510MiB |     48%      Default |\n",
      "|                               |                      |                  N/A |\n",
      "+-------------------------------+----------------------+----------------------+\n",
      "                                                                               \n",
      "+-----------------------------------------------------------------------------+\n",
      "| Processes:                                                                  |\n",
      "|  GPU   GI   CI        PID   Type   Process name                  GPU Memory |\n",
      "|        ID   ID                                                   Usage      |\n",
      "|=============================================================================|\n",
      "|    0   N/A  N/A     57104      C   ...vs/ml-workshop/bin/python     5273MiB |\n",
      "|    0   N/A  N/A    106006      C   ...vs/ml-workshop/bin/python      717MiB |\n",
      "|    0   N/A  N/A    118005      C   ...vs/ml-workshop/bin/python      461MiB |\n",
      "+-----------------------------------------------------------------------------+\n",
      "\n",
      "STDERR: \n",
      "STDOUT: \n",
      "STDERR: ls: cannot access 'non_existent_file': No such file or directory\n",
      "\n"
     ]
    }
   ],
   "source": [
    "import subprocess\n",
    "\n",
    "def run_bash_command(command):\n",
    "    \"\"\"\n",
    "    Runs a bash command and returns its output.\n",
    "    \n",
    "    :param command: The command to run as a string.\n",
    "    :return: A tuple containing the command's stdout and stderr.\n",
    "    \"\"\"\n",
    "    try:\n",
    "        # Run command\n",
    "        result = subprocess.run(command, shell=True, check=True, stdout=subprocess.PIPE, stderr=subprocess.PIPE, text=True)\n",
    "        \n",
    "        # Return stdout and stderr\n",
    "        return result.stdout, result.stderr\n",
    "    except subprocess.CalledProcessError as e:\n",
    "        # Handle errors in the called executable\n",
    "        return e.stdout, e.stderr\n",
    "    except Exception as e:\n",
    "        # Handle other errors related to subprocess.run()\n",
    "        return None, str(e)\n",
    "\n",
    "# Example usage\n",
    "stdout, stderr = run_bash_command('nvidia-smi')\n",
    "print('STDOUT:', stdout)\n",
    "print('STDERR:', stderr)\n",
    "\n",
    "# Example of a command that generates an error\n",
    "stdout, stderr = run_bash_command('ls non_existent_file')\n",
    "print('STDOUT:', stdout)\n",
    "print('STDERR:', stderr)"
   ]
  },
  {
   "cell_type": "code",
   "execution_count": 14,
   "metadata": {},
   "outputs": [],
   "source": [
    "\n",
    "def save_to_file(file_path, appendix, epoch, lr, cnndr, fcdr, l2, train_loss, test_loss):\n",
    "    train_loss = [float(arr) for arr in train_loss]\n",
    "    test_loss = [float(arr) for arr in test_loss]\n",
    "    with open(file_path, \"a\") as f:\n",
    "        f.write(f\">> {appendix}, Epoch: {epoch}, LR: {lr}, cnnDR: {cnndr},  fnDR: {fcdr}, l2decay: {l2}\\n\")\n",
    "        f.write(f\"--- Train Loss: {train_loss}\\n\")\n",
    "        f.write(f\"--- Test Loss: {test_loss}\\n\")\n",
    "        \n",
    "def hyper_params_test(appendix, lr, fc_dr=0,cnn_dr=0, l2=0, epoch=50):\n",
    "    print('lr:', lr, '| fc_dr:',  fc_dr, '| cnn_dr:', cnn_dr, '| l2:', l2, '==='*10)\n",
    "    torch.cuda.empty_cache()\n",
    "    import gc; gc.collect()\n",
    "    \n",
    "    # stdout, stderr = run_bash_command('nvidia-smi')\n",
    "    # print('STDOUT:', stdout)\n",
    "    # print('STDERR:', stderr)\n",
    "    # model = Model(\n",
    "    # num_classes=13,\n",
    "    # num_filters=128,\n",
    "    # num_conv_layers=2,\n",
    "    # num_dense_neurons=64, # batch_size = 64\n",
    "    # num_dense_layers=2,\n",
    "    # return_logits=True,\n",
    "    # dense_dropout_rate=fc_dr,\n",
    "    # conv_dropout_rate=cnn_dr\n",
    "    # ).to(device)\n",
    "    \n",
    "    model = Model(\n",
    "    num_classes=13,\n",
    "    num_filters=64,\n",
    "    num_conv_layers=2,\n",
    "    num_dense_neurons=256, # batch_size = 64\n",
    "    # num_dense_neurons=128, # batch_size = 64\n",
    "    num_dense_layers=2,\n",
    "    return_logits=True,\n",
    "    conv_dropout_rate=cnn_dr,\n",
    "    dense_dropout_rate=fc_dr\n",
    "    ).to(device)\n",
    "\n",
    "    # stdout, stderr = run_bash_command('nvidia-smi')\n",
    "    # print('STDOUT:', stdout)\n",
    "    # print('STDERR:', stderr)\n",
    "    \n",
    "    epoch = epoch\n",
    "    batch_size = 128\n",
    "    lr = lr\n",
    "\n",
    "    train_loader = DataLoader(dataset=train_dataset, batch_size=batch_size, shuffle=True, collate_fn=collate_padded_batch)\n",
    "    test_loader = DataLoader(dataset=val_dataset, batch_size=batch_size, collate_fn=collate_padded_batch)\n",
    "    # criterion = nn.MSELoss()\n",
    "    criterion = masked_MSE\n",
    "    optimizer = torch.optim.Adam(model.parameters(), lr=lr, weight_decay=l2)\n",
    "    # optimizer = torch.optim.RMSprop(model.parameters(), lr=lr)\n",
    "    # scheduler = torch.optim.lr_scheduler.ReduceLROnPlateau(optimizer, 'min', factor=0.5, patience=2, verbose=True)\n",
    "    \n",
    "    ic.disable()\n",
    "    # ic.enable()\n",
    "    train_epoch_loss = []\n",
    "    test_epoch_loss = []\n",
    "\n",
    "    for e in tqdm(range(1, epoch+1)):\n",
    "        model.train()\n",
    "        train_batch_loss = []\n",
    "        test_batch_loss = []\n",
    "        \n",
    "        for x, y in train_loader:\n",
    "            x_batch = torch.squeeze(x, 0).to(device)\n",
    "            y_batch = y.to(device)\n",
    "            x_batch = x_batch.float()\n",
    "            y_batch = y_batch.float()\n",
    "            pred = model(x_batch.float())\n",
    "            loss_train = criterion(y_batch, pred)\n",
    "            ic(loss_train)\n",
    "            train_batch_loss.append(loss_train)\n",
    "    \n",
    "            optimizer.zero_grad()\n",
    "            loss_train.backward()\n",
    "            optimizer.step()\n",
    "            # print(f'Batch - GPU Memory Allocated: {torch.cuda.memory_allocated() / 1024**2:.2f} MB')\n",
    "        train_epoch_loss.append(torch.mean(torch.stack(train_batch_loss)).detach().cpu().numpy())\n",
    "        with torch.no_grad():\n",
    "            # print('test')\n",
    "            for x, y in test_loader:\n",
    "                x_batch = x.to(device)\n",
    "                y_batch = y.to(device)\n",
    "                pred = model(x_batch.float())\n",
    "                loss_test = criterion(y_batch, pred)\n",
    "                test_batch_loss.append(loss_test)\n",
    "            test_epoch_loss.append(torch.mean(torch.stack(test_batch_loss)).detach().cpu().numpy())\n",
    "    x = np.arange(1, epoch+1, 1)\n",
    "    fig, ax = plt.subplots(facecolor = 'white')\n",
    "    ax.plot(x, train_epoch_loss,label='Training')\n",
    "    ax.plot(x, test_epoch_loss,label='Validation')\n",
    "    ax.legend()\n",
    "    ax.set_xlabel(\"Number of Epoch\")\n",
    "    ax.set_ylabel(\"Loss\")\n",
    "    ax.set_xticks(np.arange(0, epoch+1, 10))\n",
    "    ax.set_title(f'Loss: Learning_rate:{lr}, cnn_dr:{cnn_dr}, fc_dr:{fc_dr}')\n",
    "    # ax_2 = ax.twinx()\n",
    "    # ax_2.plot(history[\"lr\"], \"k--\", lw=1)\n",
    "    # ax_2.set_yscale(\"log\")\n",
    "    # ax.set_ylim(ax.get_ylim()[0], history[\"training_losses\"][0])\n",
    "    ax.grid(axis=\"x\")\n",
    "    fig.tight_layout()\n",
    "    fig.show()\n",
    "    fig.savefig(f'./graphs2/{appendix}_loss_lr_{lr}_cnn_dr_{cnn_dr}_fc_dr_{fc_dr}_l2{l2}.png')\n",
    "    save_to_file('trials3.txt', appendix ,epoch, lr, cnn_dr, fc_dr, l2, train_epoch_loss, test_epoch_loss)\n",
    "    print(f'./graphs2/{appendix}_loss_lr_{lr}_cnn_dr_{cnn_dr}_fc_dr_{fc_dr}_l2{l2}.png')\n",
    "    \n",
    "    torch.save({\n",
    "    'optimizer': optimizer.state_dict(),\n",
    "    'model': model.state_dict(),\n",
    "}, '/mnt/storageG1/lwang/Projects/tb_dr_MIC/saved_models/seq-{appendix}-{epoch}-{lr}-{cnndr}-{fcdr}-{l2}.pth')"
   ]
  },
  {
   "cell_type": "code",
   "execution_count": 15,
   "metadata": {},
   "outputs": [
    {
     "name": "stdout",
     "output_type": "stream",
     "text": [
      "lr: 0.0001 | fc_dr: 0.2 | cnn_dr: 0 | l2: 1e-09 ==============================\n"
     ]
    },
    {
     "name": "stderr",
     "output_type": "stream",
     "text": [
      "  0%|          | 0/250 [00:00<?, ?it/s]"
     ]
    },
    {
     "name": "stderr",
     "output_type": "stream",
     "text": [
      "  2%|▏         | 5/250 [05:51<4:47:26, 70.40s/it]\n"
     ]
    },
    {
     "ename": "KeyboardInterrupt",
     "evalue": "",
     "output_type": "error",
     "traceback": [
      "\u001b[0;31m---------------------------------------------------------------------------\u001b[0m",
      "\u001b[0;31mKeyboardInterrupt\u001b[0m                         Traceback (most recent call last)",
      "\u001b[0;32m/tmp/ipykernel_128288/1772424696.py\u001b[0m in \u001b[0;36m<module>\u001b[0;34m\u001b[0m\n\u001b[1;32m      7\u001b[0m         \u001b[0;32mfor\u001b[0m \u001b[0mdecay\u001b[0m \u001b[0;32min\u001b[0m \u001b[0;34m[\u001b[0m\u001b[0;36m1e-9\u001b[0m\u001b[0;34m]\u001b[0m\u001b[0;34m:\u001b[0m\u001b[0;34m\u001b[0m\u001b[0;34m\u001b[0m\u001b[0m\n\u001b[1;32m      8\u001b[0m             \u001b[0;32mfor\u001b[0m \u001b[0mcnn_dr\u001b[0m \u001b[0;32min\u001b[0m \u001b[0;34m[\u001b[0m\u001b[0;36m0.2\u001b[0m\u001b[0;34m,\u001b[0m \u001b[0;36m0.3\u001b[0m\u001b[0;34m,\u001b[0m \u001b[0;36m0.4\u001b[0m\u001b[0;34m,\u001b[0m \u001b[0;36m0.5\u001b[0m\u001b[0;34m]\u001b[0m\u001b[0;34m:\u001b[0m\u001b[0;34m\u001b[0m\u001b[0;34m\u001b[0m\u001b[0m\n\u001b[0;32m----> 9\u001b[0;31m                 \u001b[0mhyper_params_test\u001b[0m\u001b[0;34m(\u001b[0m\u001b[0;34m'64-2-256-2-128-log-reg'\u001b[0m\u001b[0;34m,\u001b[0m \u001b[0mlr\u001b[0m\u001b[0;34m,\u001b[0m \u001b[0mcnn_dr\u001b[0m \u001b[0;34m=\u001b[0m \u001b[0;36m0\u001b[0m\u001b[0;34m,\u001b[0m \u001b[0mfc_dr\u001b[0m\u001b[0;34m=\u001b[0m\u001b[0mfc_dr\u001b[0m\u001b[0;34m,\u001b[0m \u001b[0ml2\u001b[0m\u001b[0;34m=\u001b[0m\u001b[0mdecay\u001b[0m\u001b[0;34m,\u001b[0m \u001b[0mepoch\u001b[0m\u001b[0;34m=\u001b[0m\u001b[0mepoch\u001b[0m\u001b[0;34m)\u001b[0m\u001b[0;34m\u001b[0m\u001b[0;34m\u001b[0m\u001b[0m\n\u001b[0m\u001b[1;32m     10\u001b[0m \u001b[0;34m\u001b[0m\u001b[0m\n\u001b[1;32m     11\u001b[0m \u001b[0;31m# epoch = 44\u001b[0m\u001b[0;34m\u001b[0m\u001b[0;34m\u001b[0m\u001b[0m\n",
      "\u001b[0;32m/tmp/ipykernel_128288/3224701672.py\u001b[0m in \u001b[0;36mhyper_params_test\u001b[0;34m(appendix, lr, fc_dr, cnn_dr, l2, epoch)\u001b[0m\n\u001b[1;32m     70\u001b[0m             \u001b[0my_batch\u001b[0m \u001b[0;34m=\u001b[0m \u001b[0my_batch\u001b[0m\u001b[0;34m.\u001b[0m\u001b[0mfloat\u001b[0m\u001b[0;34m(\u001b[0m\u001b[0;34m)\u001b[0m\u001b[0;34m\u001b[0m\u001b[0;34m\u001b[0m\u001b[0m\n\u001b[1;32m     71\u001b[0m             \u001b[0mpred\u001b[0m \u001b[0;34m=\u001b[0m \u001b[0mmodel\u001b[0m\u001b[0;34m(\u001b[0m\u001b[0mx_batch\u001b[0m\u001b[0;34m.\u001b[0m\u001b[0mfloat\u001b[0m\u001b[0;34m(\u001b[0m\u001b[0;34m)\u001b[0m\u001b[0;34m)\u001b[0m\u001b[0;34m\u001b[0m\u001b[0;34m\u001b[0m\u001b[0m\n\u001b[0;32m---> 72\u001b[0;31m             \u001b[0mloss_train\u001b[0m \u001b[0;34m=\u001b[0m \u001b[0mcriterion\u001b[0m\u001b[0;34m(\u001b[0m\u001b[0my_batch\u001b[0m\u001b[0;34m,\u001b[0m \u001b[0mpred\u001b[0m\u001b[0;34m)\u001b[0m\u001b[0;34m\u001b[0m\u001b[0;34m\u001b[0m\u001b[0m\n\u001b[0m\u001b[1;32m     73\u001b[0m             \u001b[0mic\u001b[0m\u001b[0;34m(\u001b[0m\u001b[0mloss_train\u001b[0m\u001b[0;34m)\u001b[0m\u001b[0;34m\u001b[0m\u001b[0;34m\u001b[0m\u001b[0m\n\u001b[1;32m     74\u001b[0m             \u001b[0mtrain_batch_loss\u001b[0m\u001b[0;34m.\u001b[0m\u001b[0mappend\u001b[0m\u001b[0;34m(\u001b[0m\u001b[0mloss_train\u001b[0m\u001b[0;34m)\u001b[0m\u001b[0;34m\u001b[0m\u001b[0;34m\u001b[0m\u001b[0m\n",
      "\u001b[0;32m/tmp/ipykernel_128288/2254641781.py\u001b[0m in \u001b[0;36mmasked_loss\u001b[0;34m(y_true, y_pred)\u001b[0m\n\u001b[1;32m     49\u001b[0m         \u001b[0mnon_nan_mask\u001b[0m \u001b[0;34m=\u001b[0m \u001b[0;34m~\u001b[0m\u001b[0my_true\u001b[0m\u001b[0;34m.\u001b[0m\u001b[0misnan\u001b[0m\u001b[0;34m(\u001b[0m\u001b[0;34m)\u001b[0m\u001b[0;34m\u001b[0m\u001b[0;34m\u001b[0m\u001b[0m\n\u001b[1;32m     50\u001b[0m         \u001b[0;31m# ic(non_nan_mask)\u001b[0m\u001b[0;34m\u001b[0m\u001b[0;34m\u001b[0m\u001b[0m\n\u001b[0;32m---> 51\u001b[0;31m         \u001b[0my_true_non_nan\u001b[0m \u001b[0;34m=\u001b[0m \u001b[0my_true\u001b[0m\u001b[0;34m[\u001b[0m\u001b[0mnon_nan_mask\u001b[0m\u001b[0;34m]\u001b[0m\u001b[0;34m\u001b[0m\u001b[0;34m\u001b[0m\u001b[0m\n\u001b[0m\u001b[1;32m     52\u001b[0m         \u001b[0my_pred_non_nan\u001b[0m \u001b[0;34m=\u001b[0m \u001b[0my_pred\u001b[0m\u001b[0;34m[\u001b[0m\u001b[0mnon_nan_mask\u001b[0m\u001b[0;34m]\u001b[0m\u001b[0;34m\u001b[0m\u001b[0;34m\u001b[0m\u001b[0m\n\u001b[1;32m     53\u001b[0m \u001b[0;34m\u001b[0m\u001b[0m\n",
      "\u001b[0;31mKeyboardInterrupt\u001b[0m: "
     ]
    }
   ],
   "source": [
    "torch.cuda.empty_cache()\n",
    "import gc; gc.collect()\n",
    "\n",
    "epoch = 250\n",
    "for lr in [1e-4]:\n",
    "    for fc_dr in [0.2]:\n",
    "        for decay in [1e-9]:\n",
    "            for cnn_dr in [0.2, 0.3, 0.4, 0.5]:\n",
    "                hyper_params_test('64-2-256-2-128-log-reg', lr, cnn_dr = 0, fc_dr=fc_dr, l2=decay, epoch=epoch)\n",
    "\n",
    "# epoch = 44\n",
    "# for lr in [1e-4]:\n",
    "#     for fc_dr in [0.4]:\n",
    "#         for cnn_dr in [0.4]:\n",
    "#             for decay in [1e-8]:\n",
    "#                 hyper_params_test('final_model', lr, fc_dr=fc_dr, cnn_dr=cnn_dr, l2=decay, epoch=epoch)\n",
    "\n",
    "# epoch = 50\n",
    "# for lr in [1e-4]:\n",
    "#     for fc_dr in [0.4]:\n",
    "#         for cnn_dr in [0, 0.2, 0.3, 0.4, 0.5]:\n",
    "#             for decay in [1e-8]:\n",
    "#                 hyper_params_test('64-2-256-2-128-log-reg', lr, fc_dr=fc_dr, cnn_dr=cnn_dr, l2=decay, epoch=epoch)"
   ]
  },
  {
   "cell_type": "code",
   "execution_count": null,
   "metadata": {},
   "outputs": [
    {
     "name": "stdout",
     "output_type": "stream",
     "text": [
      "lr: 0.004 | fc_dr: 0.2 | cnn_dr: 0 ==============================\n"
     ]
    },
    {
     "name": "stderr",
     "output_type": "stream",
     "text": [
      "100%|██████████| 20/20 [18:21<00:00, 55.09s/it]\n"
     ]
    },
    {
     "name": "stdout",
     "output_type": "stream",
     "text": [
      "lr: 0.005 | fc_dr: 0.2 | cnn_dr: 0 ==============================\n"
     ]
    },
    {
     "name": "stderr",
     "output_type": "stream",
     "text": [
      "100%|██████████| 20/20 [18:24<00:00, 55.23s/it]\n"
     ]
    },
    {
     "name": "stdout",
     "output_type": "stream",
     "text": [
      "lr: 0.007 | fc_dr: 0.2 | cnn_dr: 0 ==============================\n"
     ]
    },
    {
     "name": "stderr",
     "output_type": "stream",
     "text": [
      "100%|██████████| 20/20 [18:13<00:00, 54.66s/it]\n"
     ]
    },
    {
     "name": "stdout",
     "output_type": "stream",
     "text": [
      "lr: 0.008 | fc_dr: 0.2 | cnn_dr: 0 ==============================\n"
     ]
    },
    {
     "name": "stderr",
     "output_type": "stream",
     "text": [
      "100%|██████████| 20/20 [18:10<00:00, 54.54s/it]\n"
     ]
    },
    {
     "name": "stdout",
     "output_type": "stream",
     "text": [
      "lr: 0.0085 | fc_dr: 0.2 | cnn_dr: 0 ==============================\n"
     ]
    },
    {
     "name": "stderr",
     "output_type": "stream",
     "text": [
      "100%|██████████| 20/20 [18:20<00:00, 55.00s/it]\n"
     ]
    },
    {
     "name": "stdout",
     "output_type": "stream",
     "text": [
      "lr: 0.0095 | fc_dr: 0.2 | cnn_dr: 0 ==============================\n"
     ]
    },
    {
     "name": "stderr",
     "output_type": "stream",
     "text": [
      "100%|██████████| 20/20 [18:13<00:00, 54.69s/it]\n"
     ]
    },
    {
     "data": {
      "image/png": "[encoded data removed]",
      "text/plain": [
       "<Figure size 432x288 with 1 Axes>"
      ]
     },
     "metadata": {
      "needs_background": "light"
     },
     "output_type": "display_data"
    },
    {
     "data": {
      "image/png": "[encoded data removed]",
      "text/plain": [
       "<Figure size 432x288 with 1 Axes>"
      ]
     },
     "metadata": {
      "needs_background": "light"
     },
     "output_type": "display_data"
    },
    {
     "data": {
      "image/png": "[encoded data removed]",
      "text/plain": [
       "<Figure size 432x288 with 1 Axes>"
      ]
     },
     "metadata": {
      "needs_background": "light"
     },
     "output_type": "display_data"
    },
    {
     "data": {
      "image/png": "[encoded data removed]",
      "text/plain": [
       "<Figure size 432x288 with 1 Axes>"
      ]
     },
     "metadata": {
      "needs_background": "light"
     },
     "output_type": "display_data"
    },
    {
     "data": {
      "image/png": "[encoded data removed]",
      "text/plain": [
       "<Figure size 432x288 with 1 Axes>"
      ]
     },
     "metadata": {
      "needs_background": "light"
     },
     "output_type": "display_data"
    },
    {
     "data": {
      "image/png": "[encoded data removed]",
      "text/plain": [
       "<Figure size 432x288 with 1 Axes>"
      ]
     },
     "metadata": {
      "needs_background": "light"
     },
     "output_type": "display_data"
    }
   ],
   "source": [
    "# for x in np.arange(0.0000,0.0101,0.0005):\n",
    "for x in [0.004,0.005, 0.007,0.008,0.0085, 0.0095]:\n",
    "    if x == 0:\n",
    "        continue\n",
    "    else:\n",
    "        hyper_params_test(x, epoch=20)"
   ]
  },
  {
   "cell_type": "code",
   "execution_count": null,
   "metadata": {},
   "outputs": [],
   "source": [
    "# for x in np.arange(0.0000,0.0101,0.0005):\n",
    "for x in [0.004,0.005, 0.007,0.008,0.0085, 0.0095]:\n",
    "    if x == 0:\n",
    "        continue\n",
    "    else:\n",
    "        hyper_params_test(x, epoch=20)"
   ]
  },
  {
   "cell_type": "code",
   "execution_count": null,
   "metadata": {},
   "outputs": [
    {
     "data": {
      "image/png": "[encoded data removed]",
      "text/plain": [
       "<Figure size 432x288 with 1 Axes>"
      ]
     },
     "metadata": {
      "needs_background": "light"
     },
     "output_type": "display_data"
    }
   ],
   "source": [
    "#%%\n",
    "fig, ax = plt.subplots(facecolor = 'white')\n",
    "x = np.arange(1, epoch+1, 1)\n",
    "ax.plot(x, train_epoch_loss,label='Training')\n",
    "ax.plot(x, test_epoch_loss,label='Validation')\n",
    "ax.legend()\n",
    "ax.set_xlabel(\"Number of Epoch\")\n",
    "ax.set_ylabel(\"Loss\")\n",
    "ax.set_xticks(np.arange(0, epoch+1, 10))\n",
    "ax.set_title(f'Loss: Learning_rate:{lr}')\n",
    "# ax_2 = ax.twinx()\n",
    "# ax_2.plot(history[\"lr\"], \"k--\", lw=1)\n",
    "# ax_2.set_yscale(\"log\")\n",
    "# ax.set_ylim(ax.get_ylim()[0], history[\"training_losses\"][0])\n",
    "ax.grid(axis=\"x\")\n",
    "fig.tight_layout()\n",
    "fig.show()\n",
    "#%%\n",
    "# a = torch.zeros(1, 2, 3, 4, 5, 6)\n",
    "# b = a.view(a.shape[:2], -1, a.shape[5:])\n",
    "# %%\n",
    "# from torchviz import make_dot\n",
    "# x = torch.randn(2, 4, 56).to(device)\n",
    "# m = model_torch_simple.raw_seq_model().to(device)\n",
    "# y = m(x)\n",
    "# make_dot(y, params=dict(list(m.named_parameters()))).render(\"cnn_torchviz\", format=\"png\")"
   ]
  },
  {
   "cell_type": "markdown",
   "metadata": {},
   "source": [
    "# Testing"
   ]
  },
  {
   "cell_type": "code",
   "execution_count": 15,
   "metadata": {},
   "outputs": [],
   "source": [
    "testing_dataset = OneHotSeqsDataset(test_data, test_target, one_hot_dtype=torch.float, transform=True)\n",
    "testing_loader = DataLoader(dataset=testing_dataset, batch_size=128, collate_fn=collate_padded_batch, num_workers=8, shuffle=True, drop_last=True)"
   ]
  },
  {
   "cell_type": "code",
   "execution_count": null,
   "metadata": {},
   "outputs": [],
   "source": [
    "pd.read_csv"
   ]
  },
  {
   "cell_type": "code",
   "execution_count": 23,
   "metadata": {},
   "outputs": [
    {
     "ename": "RuntimeError",
     "evalue": "Error(s) in loading state_dict for Model:\n\tUnexpected key(s) in state_dict: \"feature_extraction_layer.2.weight\", \"feature_extraction_layer.2.bias\", \"feature_extraction_layer.2.running_mean\", \"feature_extraction_layer.2.running_var\", \"feature_extraction_layer.2.num_batches_tracked\", \"conv_layers.0.2.weight\", \"conv_layers.0.2.bias\", \"conv_layers.0.2.running_mean\", \"conv_layers.0.2.running_var\", \"conv_layers.0.2.num_batches_tracked\", \"conv_layers.1.2.weight\", \"conv_layers.1.2.bias\", \"conv_layers.1.2.running_mean\", \"conv_layers.1.2.running_var\", \"conv_layers.1.2.num_batches_tracked\", \"dense_layers.0.2.weight\", \"dense_layers.0.2.bias\", \"dense_layers.0.2.running_mean\", \"dense_layers.0.2.running_var\", \"dense_layers.0.2.num_batches_tracked\", \"dense_layers.1.2.weight\", \"dense_layers.1.2.bias\", \"dense_layers.1.2.running_mean\", \"dense_layers.1.2.running_var\", \"dense_layers.1.2.num_batches_tracked\". \n\tsize mismatch for conv_layers.0.1.weight: copying a param with shape torch.Size([96, 64, 3]) from checkpoint, the shape in current model is torch.Size([96, 64, 12]).\n\tsize mismatch for conv_layers.1.1.weight: copying a param with shape torch.Size([144, 96, 3]) from checkpoint, the shape in current model is torch.Size([144, 96, 12]).",
     "output_type": "error",
     "traceback": [
      "\u001b[0;31m---------------------------------------------------------------------------\u001b[0m",
      "\u001b[0;31mRuntimeError\u001b[0m                              Traceback (most recent call last)",
      "\u001b[0;32m/tmp/ipykernel_39120/1288320317.py\u001b[0m in \u001b[0;36m<module>\u001b[0;34m\u001b[0m\n\u001b[1;32m     23\u001b[0m \u001b[0;34m\u001b[0m\u001b[0m\n\u001b[1;32m     24\u001b[0m \u001b[0;31m# Load the model and optimizer states\u001b[0m\u001b[0;34m\u001b[0m\u001b[0;34m\u001b[0m\u001b[0m\n\u001b[0;32m---> 25\u001b[0;31m \u001b[0mmodel\u001b[0m\u001b[0;34m.\u001b[0m\u001b[0mload_state_dict\u001b[0m\u001b[0;34m(\u001b[0m\u001b[0mcheckpoint\u001b[0m\u001b[0;34m[\u001b[0m\u001b[0;34m'model'\u001b[0m\u001b[0;34m]\u001b[0m\u001b[0;34m)\u001b[0m\u001b[0;34m\u001b[0m\u001b[0;34m\u001b[0m\u001b[0m\n\u001b[0m\u001b[1;32m     26\u001b[0m \u001b[0moptimizer\u001b[0m\u001b[0;34m.\u001b[0m\u001b[0mload_state_dict\u001b[0m\u001b[0;34m(\u001b[0m\u001b[0mcheckpoint\u001b[0m\u001b[0;34m[\u001b[0m\u001b[0;34m'optimizer'\u001b[0m\u001b[0;34m]\u001b[0m\u001b[0;34m)\u001b[0m\u001b[0;34m\u001b[0m\u001b[0;34m\u001b[0m\u001b[0m\n\u001b[1;32m     27\u001b[0m \u001b[0;34m\u001b[0m\u001b[0m\n",
      "\u001b[0;32m/mnt/storageG1/lwang/miniconda3/envs/ml-workshop/lib/python3.9/site-packages/torch/nn/modules/module.py\u001b[0m in \u001b[0;36mload_state_dict\u001b[0;34m(self, state_dict, strict)\u001b[0m\n\u001b[1;32m   1602\u001b[0m \u001b[0;34m\u001b[0m\u001b[0m\n\u001b[1;32m   1603\u001b[0m         \u001b[0;32mif\u001b[0m \u001b[0mlen\u001b[0m\u001b[0;34m(\u001b[0m\u001b[0merror_msgs\u001b[0m\u001b[0;34m)\u001b[0m \u001b[0;34m>\u001b[0m \u001b[0;36m0\u001b[0m\u001b[0;34m:\u001b[0m\u001b[0;34m\u001b[0m\u001b[0;34m\u001b[0m\u001b[0m\n\u001b[0;32m-> 1604\u001b[0;31m             raise RuntimeError('Error(s) in loading state_dict for {}:\\n\\t{}'.format(\n\u001b[0m\u001b[1;32m   1605\u001b[0m                                self.__class__.__name__, \"\\n\\t\".join(error_msgs)))\n\u001b[1;32m   1606\u001b[0m         \u001b[0;32mreturn\u001b[0m \u001b[0m_IncompatibleKeys\u001b[0m\u001b[0;34m(\u001b[0m\u001b[0mmissing_keys\u001b[0m\u001b[0;34m,\u001b[0m \u001b[0munexpected_keys\u001b[0m\u001b[0;34m)\u001b[0m\u001b[0;34m\u001b[0m\u001b[0;34m\u001b[0m\u001b[0m\n",
      "\u001b[0;31mRuntimeError\u001b[0m: Error(s) in loading state_dict for Model:\n\tUnexpected key(s) in state_dict: \"feature_extraction_layer.2.weight\", \"feature_extraction_layer.2.bias\", \"feature_extraction_layer.2.running_mean\", \"feature_extraction_layer.2.running_var\", \"feature_extraction_layer.2.num_batches_tracked\", \"conv_layers.0.2.weight\", \"conv_layers.0.2.bias\", \"conv_layers.0.2.running_mean\", \"conv_layers.0.2.running_var\", \"conv_layers.0.2.num_batches_tracked\", \"conv_layers.1.2.weight\", \"conv_layers.1.2.bias\", \"conv_layers.1.2.running_mean\", \"conv_layers.1.2.running_var\", \"conv_layers.1.2.num_batches_tracked\", \"dense_layers.0.2.weight\", \"dense_layers.0.2.bias\", \"dense_layers.0.2.running_mean\", \"dense_layers.0.2.running_var\", \"dense_layers.0.2.num_batches_tracked\", \"dense_layers.1.2.weight\", \"dense_layers.1.2.bias\", \"dense_layers.1.2.running_mean\", \"dense_layers.1.2.running_var\", \"dense_layers.1.2.num_batches_tracked\". \n\tsize mismatch for conv_layers.0.1.weight: copying a param with shape torch.Size([96, 64, 3]) from checkpoint, the shape in current model is torch.Size([96, 64, 12]).\n\tsize mismatch for conv_layers.1.1.weight: copying a param with shape torch.Size([144, 96, 3]) from checkpoint, the shape in current model is torch.Size([144, 96, 12])."
     ]
    }
   ],
   "source": [
    "\n",
    "save_path = '/mnt/storageG1/lwang/Projects/tb_dr_MIC_v2/saved_models_old/aa-model_final1.pth'\n",
    "\n",
    "# Load the saved file\n",
    "checkpoint = torch.load(save_path)\n",
    "ic.disable()\n",
    "\n",
    "# Initialize the model and optimizer\n",
    "model = Model(\n",
    "num_classes=13,\n",
    "num_filters=64,\n",
    "num_conv_layers=2,\n",
    "num_dense_neurons=256, # batch_size = 64\n",
    "# num_dense_neurons=128, # batch_size = 64\n",
    "num_dense_layers=2,\n",
    "return_logits=True,\n",
    "conv_dropout_rate=0,\n",
    "dense_dropout_rate=0.2\n",
    ").to(device)\n",
    "\n",
    "optimizer = torch.optim.Adam(model.parameters(), lr=lr,  weight_decay=1e-9)\n",
    "\n",
    "# optimizer = optimizer_class(model.parameters(), ...)  # Add the necessary arguments as per your optimizer's initialization method\n",
    "\n",
    "# Load the model and optimizer states\n",
    "model.load_state_dict(checkpoint['model'])\n",
    "optimizer.load_state_dict(checkpoint['optimizer'])\n",
    "\n",
    "# Make sure to call .eval() or .train() on your model depending on what you're planning to do next\n",
    "model.eval()  # For inference\n",
    "# or\n",
    "# model.train()  # For further training\n",
    "\n",
    "\n",
    "pred_list = []\n",
    "target_list  = []\n",
    "mse_list = []\n",
    "with torch.no_grad():\n",
    "    for x_test, y_test in testing_loader:\n",
    "        x_batch = torch.squeeze(x_test, 0).to(device)\n",
    "        x_batch = x_batch.float()\n",
    "        y_batch = y_test.float().to(device)\n",
    "        # print(x_batch.size())\n",
    "        # y_batch = torch.Tensor.float(y).to(device)\n",
    "        # x_batch = x_batch.permute(0, 3, 1, 2).to(device)\n",
    "        pred = model(x_batch.float())\n",
    "        pred_list.append(pred)\n",
    "        target_list.append(y_batch)\n",
    "        # pred = pred.unsqueeze(0)\n",
    "        loss_test = criterion(y_batch, pred)\n",
    "        mse_list.append(loss_test)\n",
    "        # test_batch_loss.append(loss_test)\n",
    "        # test_epoch_loss.append(torch.mean(torch.stack(test_batch_loss)).detach().cpu().numpy())\n"
   ]
  },
  {
   "cell_type": "code",
   "execution_count": 31,
   "metadata": {},
   "outputs": [
    {
     "ename": "RuntimeError",
     "evalue": "Error(s) in loading state_dict for Model:\n\tUnexpected key(s) in state_dict: \"feature_extraction_layer.2.weight\", \"feature_extraction_layer.2.bias\", \"feature_extraction_layer.2.running_mean\", \"feature_extraction_layer.2.running_var\", \"feature_extraction_layer.2.num_batches_tracked\", \"conv_layers.0.2.weight\", \"conv_layers.0.2.bias\", \"conv_layers.0.2.running_mean\", \"conv_layers.0.2.running_var\", \"conv_layers.0.2.num_batches_tracked\", \"conv_layers.1.2.weight\", \"conv_layers.1.2.bias\", \"conv_layers.1.2.running_mean\", \"conv_layers.1.2.running_var\", \"conv_layers.1.2.num_batches_tracked\", \"dense_layers.0.2.weight\", \"dense_layers.0.2.bias\", \"dense_layers.0.2.running_mean\", \"dense_layers.0.2.running_var\", \"dense_layers.0.2.num_batches_tracked\", \"dense_layers.1.2.weight\", \"dense_layers.1.2.bias\", \"dense_layers.1.2.running_mean\", \"dense_layers.1.2.running_var\", \"dense_layers.1.2.num_batches_tracked\". ",
     "output_type": "error",
     "traceback": [
      "\u001b[0;31m---------------------------------------------------------------------------\u001b[0m",
      "\u001b[0;31mRuntimeError\u001b[0m                              Traceback (most recent call last)",
      "\u001b[0;32m/tmp/ipykernel_106006/2045364846.py\u001b[0m in \u001b[0;36m<module>\u001b[0;34m\u001b[0m\n\u001b[1;32m     27\u001b[0m \u001b[0;34m\u001b[0m\u001b[0m\n\u001b[1;32m     28\u001b[0m \u001b[0;31m# Load the model and optimizer states\u001b[0m\u001b[0;34m\u001b[0m\u001b[0;34m\u001b[0m\u001b[0m\n\u001b[0;32m---> 29\u001b[0;31m \u001b[0mmodel\u001b[0m\u001b[0;34m.\u001b[0m\u001b[0mload_state_dict\u001b[0m\u001b[0;34m(\u001b[0m\u001b[0mcheckpoint\u001b[0m\u001b[0;34m[\u001b[0m\u001b[0;34m'model'\u001b[0m\u001b[0;34m]\u001b[0m\u001b[0;34m)\u001b[0m\u001b[0;34m\u001b[0m\u001b[0;34m\u001b[0m\u001b[0m\n\u001b[0m\u001b[1;32m     30\u001b[0m \u001b[0moptimizer\u001b[0m\u001b[0;34m.\u001b[0m\u001b[0mload_state_dict\u001b[0m\u001b[0;34m(\u001b[0m\u001b[0mcheckpoint\u001b[0m\u001b[0;34m[\u001b[0m\u001b[0;34m'optimizer'\u001b[0m\u001b[0;34m]\u001b[0m\u001b[0;34m)\u001b[0m\u001b[0;34m\u001b[0m\u001b[0;34m\u001b[0m\u001b[0m\n\u001b[1;32m     31\u001b[0m \u001b[0;34m\u001b[0m\u001b[0m\n",
      "\u001b[0;32m/mnt/storageG1/lwang/miniconda3/envs/ml-workshop/lib/python3.9/site-packages/torch/nn/modules/module.py\u001b[0m in \u001b[0;36mload_state_dict\u001b[0;34m(self, state_dict, strict)\u001b[0m\n\u001b[1;32m   1602\u001b[0m \u001b[0;34m\u001b[0m\u001b[0m\n\u001b[1;32m   1603\u001b[0m         \u001b[0;32mif\u001b[0m \u001b[0mlen\u001b[0m\u001b[0;34m(\u001b[0m\u001b[0merror_msgs\u001b[0m\u001b[0;34m)\u001b[0m \u001b[0;34m>\u001b[0m \u001b[0;36m0\u001b[0m\u001b[0;34m:\u001b[0m\u001b[0;34m\u001b[0m\u001b[0;34m\u001b[0m\u001b[0m\n\u001b[0;32m-> 1604\u001b[0;31m             raise RuntimeError('Error(s) in loading state_dict for {}:\\n\\t{}'.format(\n\u001b[0m\u001b[1;32m   1605\u001b[0m                                self.__class__.__name__, \"\\n\\t\".join(error_msgs)))\n\u001b[1;32m   1606\u001b[0m         \u001b[0;32mreturn\u001b[0m \u001b[0m_IncompatibleKeys\u001b[0m\u001b[0;34m(\u001b[0m\u001b[0mmissing_keys\u001b[0m\u001b[0;34m,\u001b[0m \u001b[0munexpected_keys\u001b[0m\u001b[0;34m)\u001b[0m\u001b[0;34m\u001b[0m\u001b[0;34m\u001b[0m\u001b[0m\n",
      "\u001b[0;31mRuntimeError\u001b[0m: Error(s) in loading state_dict for Model:\n\tUnexpected key(s) in state_dict: \"feature_extraction_layer.2.weight\", \"feature_extraction_layer.2.bias\", \"feature_extraction_layer.2.running_mean\", \"feature_extraction_layer.2.running_var\", \"feature_extraction_layer.2.num_batches_tracked\", \"conv_layers.0.2.weight\", \"conv_layers.0.2.bias\", \"conv_layers.0.2.running_mean\", \"conv_layers.0.2.running_var\", \"conv_layers.0.2.num_batches_tracked\", \"conv_layers.1.2.weight\", \"conv_layers.1.2.bias\", \"conv_layers.1.2.running_mean\", \"conv_layers.1.2.running_var\", \"conv_layers.1.2.num_batches_tracked\", \"dense_layers.0.2.weight\", \"dense_layers.0.2.bias\", \"dense_layers.0.2.running_mean\", \"dense_layers.0.2.running_var\", \"dense_layers.0.2.num_batches_tracked\", \"dense_layers.1.2.weight\", \"dense_layers.1.2.bias\", \"dense_layers.1.2.running_mean\", \"dense_layers.1.2.running_var\", \"dense_layers.1.2.num_batches_tracked\". "
     ]
    }
   ],
   "source": [
    "testing_dataset = OneHotSeqsDataset(test_data, test_target, one_hot_dtype=torch.float, transform=True)\n",
    "testing_loader1 = DataLoader(dataset=testing_dataset, batch_size=1, collate_fn=collate_padded_batch, num_workers=8, shuffle=True, drop_last=True)\n",
    "\n",
    "\n",
    "save_path = '/mnt/storageG1/lwang/Projects/tb_dr_MIC_v2/saved_models_old/aa-model_final1.pth'\n",
    "\n",
    "# Load the saved file\n",
    "checkpoint = torch.load(save_path)\n",
    "ic.disable()\n",
    "\n",
    "# Initialize the model and optimizer\n",
    "model = Model(\n",
    "num_classes=13,\n",
    "num_filters=64,\n",
    "num_conv_layers=2,\n",
    "num_dense_neurons=256, # batch_size = 64\n",
    "# num_dense_neurons=128, # batch_size = 64\n",
    "num_dense_layers=2,\n",
    "return_logits=True,\n",
    "conv_dropout_rate=0,\n",
    "dense_dropout_rate=0.2\n",
    ").to(device)\n",
    "\n",
    "optimizer = torch.optim.Adam(model.parameters(), lr=lr,  weight_decay=1e-9)\n",
    "\n",
    "# optimizer = optimizer_class(model.parameters(), ...)  # Add the necessary arguments as per your optimizer's initialization method\n",
    "\n",
    "# Load the model and optimizer states\n",
    "model.load_state_dict(checkpoint['model'])\n",
    "optimizer.load_state_dict(checkpoint['optimizer'])\n",
    "\n",
    "# Make sure to call .eval() or .train() on your model depending on what you're planning to do next\n",
    "model.eval()  # For inference\n",
    "\n",
    "ic.disable()\n",
    "model.eval()\n",
    "pred_list = []\n",
    "target_list  = []\n",
    "mse_list = []\n",
    "with torch.no_grad():\n",
    "    for x_test, y_test in testing_loader1:\n",
    "        xtest1 = x_test.to(device).float()\n",
    "        ytest1 = y_test.to(device).float()\n",
    "        pred = model(xtest1)\n",
    "        pred_list.append(pred.detach().cpu().numpy()) \n",
    "        target_list.append(y_test.detach().cpu().numpy())"
   ]
  },
  {
   "cell_type": "markdown",
   "metadata": {},
   "source": [
    "## Mic calc"
   ]
  },
  {
   "cell_type": "code",
   "execution_count": 19,
   "metadata": {},
   "outputs": [
    {
     "name": "stdout",
     "output_type": "stream",
     "text": [
      "[ 2.9145053  12.74587957  9.116041   21.672894    1.21607873  1.16963101\n",
      "  6.94100846  1.97656457  1.41356874  1.2116017   3.31887445  6.7727877\n",
      "  7.01459885]\n",
      "5.960310315509801\n"
     ]
    }
   ],
   "source": [
    "pred_list = np.array(pred_list).squeeze()\n",
    "target_list = np.array(target_list).squeeze()\n",
    "mse_list = (pred_list - target_list)**2\n",
    "mse_out = np.nanmean(mse_list, axis=0)\n",
    "print(mse_out)\n",
    "print(np.mean(mse_out))"
   ]
  },
  {
   "cell_type": "code",
   "execution_count": 20,
   "metadata": {},
   "outputs": [
    {
     "data": {
      "text/plain": [
       "array([ 2.9145053 , 12.74587957,  9.116041  , 21.672894  ,  1.21607873,\n",
       "        1.16963101,  6.94100846,  1.97656457,  1.41356874,  1.2116017 ,\n",
       "        3.31887445,  6.7727877 ,  7.01459885])"
      ]
     },
     "execution_count": 20,
     "metadata": {},
     "output_type": "execute_result"
    }
   ],
   "source": [
    "mse_out"
   ]
  },
  {
   "cell_type": "code",
   "execution_count": 18,
   "metadata": {},
   "outputs": [
    {
     "name": "stdout",
     "output_type": "stream",
     "text": [
      "[33.7704982   1.00935202  1.06276192  1.01825593 32.92269494 22.44298034\n",
      " 20.98731605 65.93327374  9.02158095  0.41475623  3.12617911 43.22211859\n",
      "  2.98510831]\n",
      "18.301298179309352\n"
     ]
    }
   ],
   "source": [
    "pred_list = np.array(pred_list).squeeze()\n",
    "target_list = np.array(target_list).squeeze()\n",
    "mse_list = (np.exp(pred_list) - np.exp(target_list))**2\n",
    "mse_out = np.nanmean(mse_list, axis=0)\n",
    "print(mse_out)\n",
    "print(np.mean(mse_out))"
   ]
  },
  {
   "cell_type": "markdown",
   "metadata": {},
   "source": [
    "## Ea calc"
   ]
  },
  {
   "cell_type": "code",
   "execution_count": 176,
   "metadata": {},
   "outputs": [],
   "source": [
    "def find_range_vectorized(target_values, quest_values):\n",
    "    # Convert lists to numpy arrays for efficient broadcasting\n",
    "    target_values =  np.exp(np.array(target_values)) # Reshape for broadcasting\n",
    "    quest_values =  np.exp(np.array(quest_values))\n",
    "\n",
    "    # Perform broadcasting to compare each quest value against all target values\n",
    "    # This creates a boolean matrix where rows correspond to target values and columns to quest values\n",
    "    in_range_matrix = (target_values / 2 <= quest_values) & (quest_values <= target_values * 2)\n",
    "    # in_range_matrix = np.abs(np.log2(target_values) - np.log2(quest_values))\n",
    "    # in_range_matrix  = in_range_matrix  <= 1\n",
    "    \n",
    "    # print(mse)\n",
    "    return in_range_matrix\n",
    "# Example usage\n",
    "# target_values = [[10, 20, 30, 40, 50], [10, 20, 30, 40, 50]]\n",
    "# quest_values = [[25, 5, 60, 1, 1], [10, 20, 30, 40, 50]]\n",
    "result = find_range_vectorized(target_list, pred_list)"
   ]
  },
  {
   "cell_type": "code",
   "execution_count": 174,
   "metadata": {},
   "outputs": [],
   "source": [
    "target_values_ =  np.exp(np.array(target_list)) # Reshape for broadcasting\n",
    "quest_values_ =  np.exp(np.array(pred_list))\n"
   ]
  },
  {
   "cell_type": "code",
   "execution_count": null,
   "metadata": {},
   "outputs": [],
   "source": [
    "drugs = ['AMI', 'BDQ', 'CFZ', 'DLM', 'EMB', 'ETH', 'INH', 'KAN', 'LEV', 'LZD', 'MXF', 'RIF', 'RFB']\n"
   ]
  },
  {
   "cell_type": "code",
   "execution_count": 178,
   "metadata": {},
   "outputs": [
    {
     "name": "stdout",
     "output_type": "stream",
     "text": [
      "[0.59784411 0.67247098 0.45854063 0.50746269 0.7106136  0.64510779\n",
      " 0.41293532 0.56467662 0.74626866 0.77280265 0.64013267 0.53067993\n",
      " 0.69402985]\n"
     ]
    }
   ],
   "source": [
    "print(np.nanmean(result, axis=0))"
   ]
  },
  {
   "cell_type": "code",
   "execution_count": null,
   "metadata": {},
   "outputs": [],
   "source": [
    "import numpy as np\n",
    "from sklearn.metrics import f1_score, accuracy_score\n",
    "\n",
    "\n",
    "for i in range(result.shape[0]):\n",
    "    f1 = f1_score(y_true, result[i, :])\n",
    "    accuracy = accuracy_score(y_true, result[i, :])\n",
    "    print(f\"Model {i+1} - F1 Score: {f1}, Accuracy: {accuracy}\")\n"
   ]
  },
  {
   "cell_type": "code",
   "execution_count": null,
   "metadata": {},
   "outputs": [],
   "source": [
    "def EA_calc(target_matrix: np.array):\n",
    "    drugs = ['AMI', 'BDQ', 'CFZ', 'DLM', 'EMB', 'ETH', 'INH', 'KAN', 'LEV', 'LZD', 'MXF', 'RIF', 'RFB']\n",
    "    for x, drug in zip(range(target_matrix.shape[1]), drugs):\n",
    "        ea_count = len([item for item in target_matrix[:,x] if item == True])\n",
    "        ea_rate = (ea_count / len(target_matrix[:,x])) * 100\n",
    "        print(drug, ea_rate)\n",
    "        \n",
    "def MSE_calc(target_matrix: np.array):\n",
    "    drugs = ['AMI', 'BDQ', 'CFZ', 'DLM', 'EMB', 'ETH', 'INH', 'KAN', 'LEV', 'LZD', 'MXF', 'RIF', 'RFB']\n",
    "    for x, drug in zip(range(target_matrix.shape[1]), drugs):\n",
    "        mse = np.mean(target_matrix[:,x])\n",
    "        print(drug, mse)\n",
    "        "
   ]
  },
  {
   "cell_type": "markdown",
   "metadata": {},
   "source": [
    "# Explanable AI"
   ]
  },
  {
   "cell_type": "markdown",
   "metadata": {},
   "source": [
    "### Sensitivity analysis"
   ]
  },
  {
   "cell_type": "code",
   "execution_count": null,
   "metadata": {},
   "outputs": [],
   "source": [
    "import numpy as np\n",
    "import matplotlib.pyplot as plt\n",
    "import torch\n",
    "\n",
    "# Assume `input_data` is your input tensor, and `feature_index` is the index of the feature to perturb\n",
    "perturbation_range = np.linspace(0, 1, num=20)  # Example range of perturbation\n",
    "original_value = input_data[0, feature_index].item()  # Store original value\n",
    "\n",
    "output_changes = np.zeros((len(perturbation_range), 13))  # Store changes in outputs\n",
    "\n",
    "for i, perturb in enumerate(perturbation_range):\n",
    "    input_data[0, feature_index] = original_value + perturb  # Perturb feature value\n",
    "    with torch.no_grad():\n",
    "        outputs = model(input_data).numpy()  # Get model output\n",
    "    output_changes[i] = outputs  # Record the change\n",
    "\n",
    "# Reset the perturbed feature to its original value\n",
    "input_data[0, feature_index] = original_value\n",
    "\n",
    "# Example analysis for one output\n",
    "plt.figure(figsize=(10, 6))\n",
    "for output_index in range(13):\n",
    "    plt.plot(perturbation_range, output_changes[:, output_index], label=f'Output {output_index+1}')\n",
    "\n",
    "plt.xlabel('Perturbation')\n",
    "plt.ylabel('Output Change')\n",
    "plt.title('Sensitivity Analysis of Feature X on All Outputs')\n",
    "plt.legend()\n",
    "plt.show()\n"
   ]
  },
  {
   "cell_type": "markdown",
   "metadata": {},
   "source": [
    "### SHAP"
   ]
  },
  {
   "cell_type": "code",
   "execution_count": null,
   "metadata": {},
   "outputs": [],
   "source": [
    "import torch\n",
    "import numpy as np\n",
    "\n",
    "def model_wrapper(x):\n",
    "    with torch.no_grad():\n",
    "        # Convert the input numpy array to a PyTorch tensor\n",
    "        tensor_x = torch.tensor(x, dtype=torch.float32)\n",
    "        # Make a prediction with your model\n",
    "        model_output = model(tensor_x)\n",
    "        # Convert the prediction back to a numpy array\n",
    "        return model_output.numpy()\n"
   ]
  },
  {
   "cell_type": "code",
   "execution_count": null,
   "metadata": {},
   "outputs": [],
   "source": [
    "import shap\n",
    "\n",
    "# Sample data for initialization (e.g., a batch from your training data)\n",
    "X_sample = np.array([...])  # Replace with your actual numpy array\n",
    "\n",
    "# Initialize the explainer\n",
    "explainer = shap.KernelExplainer(model_wrapper, X_sample)\n",
    "\n",
    "# Choose the instance you want to explain\n",
    "X_instance = np.array([...])  # Replace with the instance in numpy array format\n",
    "\n",
    "# Calculate SHAP values\n",
    "shap_values = explainer.shap_values(X_instance)\n",
    "\n",
    "# Plotting the SHAP values\n",
    "shap.initjs()  # Initializes JavaScript visualization in Jupyter Notebooks\n",
    "shap.force_plot(explainer.expected_value, shap_values, X_instance)\n"
   ]
  },
  {
   "cell_type": "markdown",
   "metadata": {},
   "source": [
    "### Counterfactual"
   ]
  },
  {
   "cell_type": "code",
   "execution_count": null,
   "metadata": {},
   "outputs": [],
   "source": [
    "### SHAP"
   ]
  },
  {
   "cell_type": "code",
   "execution_count": null,
   "metadata": {},
   "outputs": [],
   "source": []
  }
 ],
 "metadata": {
  "kernelspec": {
   "display_name": "ml-g1",
   "language": "python",
   "name": "python3"
  },
  "language_info": {
   "codemirror_mode": {
    "name": "ipython",
    "version": 3
   },
   "file_extension": ".py",
   "mimetype": "text/x-python",
   "name": "python",
   "nbconvert_exporter": "python",
   "pygments_lexer": "ipython3",
   "version": "3.9.15"
  },
  "orig_nbformat": 4
 },
 "nbformat": 4,
 "nbformat_minor": 2
}
