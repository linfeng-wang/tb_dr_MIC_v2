{
 "cells": [
  {
   "cell_type": "code",
   "execution_count": 29,
   "metadata": {},
   "outputs": [],
   "source": [
    "import numpy as np\n",
    "import pandas as pd\n",
    "# from icecream import ic\n",
    "import subprocess\n",
    "import json\n",
    "import os\n",
    "# import plotly.graph_objects as go\n",
    "from matplotlib import pyplot as plt\n",
    "# import geopandas as gpd\n",
    "# from shapely.geometry import Polygon\n",
    "# from shapely.ops import cascaded_union, unary_union\n",
    "# from shapely import geometry\n",
    "# from geopy import distance\n",
    "%matplotlib inline\n",
    "# import plotly.express as px \n",
    "from scipy import signal\n",
    "from tqdm import tqdm\n",
    "# from Bio import Phylo\n",
    "# import ete3\n",
    "import itertools\n",
    "import sklearn"
   ]
  },
  {
   "cell_type": "code",
   "execution_count": 47,
   "metadata": {},
   "outputs": [],
   "source": [
    "qwe = pd.read_csv('/mnt/storageG1/lwang/Projects/tb_dr_MIC_v2/CRyPTIC_reuse_table_20231208.csv')"
   ]
  },
  {
   "cell_type": "code",
   "execution_count": 48,
   "metadata": {},
   "outputs": [
    {
     "data": {
      "text/plain": [
       "RIF_MIC\n",
       "<=0.06    2318\n",
       ">4        2243\n",
       "0.12      2106\n",
       ">8        1771\n",
       "0.06      1326\n",
       "<=0.03     753\n",
       "0.25       723\n",
       "8.0        229\n",
       "0.5        188\n",
       "4.0        169\n",
       "2.0        151\n",
       "1.0        120\n",
       "Name: count, dtype: int64"
      ]
     },
     "execution_count": 48,
     "metadata": {},
     "output_type": "execute_result"
    }
   ],
   "source": [
    "qwe['RIF_MIC'].value_counts()"
   ]
  },
  {
   "cell_type": "code",
   "execution_count": 61,
   "metadata": {},
   "outputs": [
    {
     "data": {
      "text/plain": [
       "RIF_MIC\n",
       "<=0.06    2318\n",
       ">4        2243\n",
       "0.12      2106\n",
       "0.25       723\n",
       "0.5        188\n",
       "4.0        169\n",
       "Name: count, dtype: int64"
      ]
     },
     "execution_count": 61,
     "metadata": {},
     "output_type": "execute_result"
    }
   ],
   "source": [
    "qwe[qwe['RIF_MIC'].isin(['>4','4.0', '2', '1', '0.5', '0.25', '0.12','<=0.06'])]['RIF_MIC'].value_counts()"
   ]
  },
  {
   "cell_type": "code",
   "execution_count": null,
   "metadata": {},
   "outputs": [],
   "source": [
    "UKMYC5,RIF,8,>4,,,R\n",
    "UKMYC5,RIF,7,4.0,1,9,R\n",
    "UKMYC5,RIF,6,2.0,2,9,R\n",
    "UKMYC5,RIF,5,1.0,3,9,R\n",
    "UKMYC5,RIF,4,0.5,4,9,S\n",
    "UKMYC5,RIF,3,0.25,5,9,S\n",
    "UKMYC5,RIF,2,0.12,6,9,S\n",
    "UKMYC5,RIF,1,<=0.06,7,9,S"
   ]
  },
  {
   "cell_type": "code",
   "execution_count": null,
   "metadata": {},
   "outputs": [],
   "source": [
    "# UKMYC6,RIF,10,>8,,,R\n",
    "# UKMYC6,RIF,9,8.0,2,3,R\n",
    "UKMYC6,RIF,8,4.0,1,3,R\n",
    "UKMYC6,RIF,7,2.0,1,2,R\n",
    "UKMYC6,RIF,6,1.0,2,2,R\n",
    "UKMYC6,RIF,5,0.5,3,2,S\n",
    "UKMYC6,RIF,4,0.25,4,2,S\n",
    "UKMYC6,RIF,3,0.12,5,2,S\n",
    "# UKMYC6,RIF,2,0.06,6,2,S\n",
    "# UKMYC6,RIF,1,<=0.03,7,2,S"
   ]
  },
  {
   "cell_type": "code",
   "execution_count": 49,
   "metadata": {},
   "outputs": [
    {
     "data": {
      "text/plain": [
       "Index(['ENA_RUN', 'UNIQUEID', 'AMI_BINARY_PHENOTYPE', 'BDQ_BINARY_PHENOTYPE',\n",
       "       'CFZ_BINARY_PHENOTYPE', 'DLM_BINARY_PHENOTYPE', 'EMB_BINARY_PHENOTYPE',\n",
       "       'ETH_BINARY_PHENOTYPE', 'INH_BINARY_PHENOTYPE', 'KAN_BINARY_PHENOTYPE',\n",
       "       'LEV_BINARY_PHENOTYPE', 'LZD_BINARY_PHENOTYPE', 'MXF_BINARY_PHENOTYPE',\n",
       "       'RIF_BINARY_PHENOTYPE', 'RFB_BINARY_PHENOTYPE', 'AMI_MIC', 'BDQ_MIC',\n",
       "       'CFZ_MIC', 'DLM_MIC', 'EMB_MIC', 'ETH_MIC', 'INH_MIC', 'KAN_MIC',\n",
       "       'LEV_MIC', 'LZD_MIC', 'MXF_MIC', 'RIF_MIC', 'RFB_MIC',\n",
       "       'AMI_PHENOTYPE_QUALITY', 'BDQ_PHENOTYPE_QUALITY',\n",
       "       'CFZ_PHENOTYPE_QUALITY', 'DLM_PHENOTYPE_QUALITY',\n",
       "       'EMB_PHENOTYPE_QUALITY', 'ETH_PHENOTYPE_QUALITY',\n",
       "       'INH_PHENOTYPE_QUALITY', 'KAN_PHENOTYPE_QUALITY',\n",
       "       'LEV_PHENOTYPE_QUALITY', 'LZD_PHENOTYPE_QUALITY',\n",
       "       'MXF_PHENOTYPE_QUALITY', 'RIF_PHENOTYPE_QUALITY',\n",
       "       'RFB_PHENOTYPE_QUALITY', 'ENA_SAMPLE', 'VCF', 'REGENOTYPED_VCF'],\n",
       "      dtype='object')"
      ]
     },
     "execution_count": 49,
     "metadata": {},
     "output_type": "execute_result"
    }
   ],
   "source": [
    "qwe.columns"
   ]
  },
  {
   "cell_type": "code",
   "execution_count": 30,
   "metadata": {},
   "outputs": [],
   "source": [
    "def value_counts_list(lst):\n",
    "    \"\"\"\n",
    "    Computes the frequency count of unique elements in a list and returns a dictionary, sorted by frequency count in\n",
    "    descending order.\n",
    "\n",
    "    Args:\n",
    "    - lst (list): List of elements\n",
    "\n",
    "    Returns:\n",
    "    - dict: Dictionary with unique elements as keys and their frequency count as values, sorted by frequency count\n",
    "    in descending order\n",
    "    \"\"\"\n",
    "    value_counts = {}\n",
    "    for item in lst:\n",
    "        if item in value_counts:\n",
    "            value_counts[item] += 1\n",
    "        else:\n",
    "            value_counts[item] = 1\n",
    "    sorted_value_counts = dict(sorted(value_counts.items(), key=lambda x: x[1], reverse=True))\n",
    "    return sorted_value_counts\n",
    "\n",
    "def print_full(x):\n",
    "    pd.set_option('display.max_rows', None)\n",
    "    pd.set_option('display.max_columns', None)\n",
    "    pd.set_option('display.width', 2000)\n",
    "    pd.set_option('display.float_format', '{:20,.2f}'.format)\n",
    "    pd.set_option('display.max_colwidth', None)\n",
    "    print(x)\n",
    "    pd.reset_option('display.max_rows')\n",
    "    pd.reset_option('display.max_columns')\n",
    "    pd.reset_option('display.width')\n",
    "    pd.reset_option('display.float_format')\n",
    "    pd.reset_option('display.max_colwidth')"
   ]
  },
  {
   "cell_type": "code",
   "execution_count": 63,
   "metadata": {},
   "outputs": [],
   "source": [
    "variants = pd.read_csv('variants_full.csv')\n"
   ]
  },
  {
   "cell_type": "code",
   "execution_count": 64,
   "metadata": {},
   "outputs": [],
   "source": [
    "variants = variants[variants['type'] != 'synonymous_variant']"
   ]
  },
  {
   "cell_type": "code",
   "execution_count": 65,
   "metadata": {},
   "outputs": [],
   "source": [
    "cryptic = pd.read_csv('/mnt/storageG1/lwang/Projects/tb_dr_MIC_v2/data1/CRyPTIC_reuse_table_20221019_cleaned.csv')"
   ]
  },
  {
   "cell_type": "code",
   "execution_count": 66,
   "metadata": {},
   "outputs": [],
   "source": [
    "cryptic = pd.read_csv('/mnt/storageG1/lwang/Projects/tb_dr_MIC_v2/data1/CRyPTIC_reuse_table_20221019_cleaned.csv')\n",
    "overlap = set(variants['sample_id']).intersection(set(cryptic['wgs_id'].to_list()))\n",
    "variants = variants[variants['sample_id'].isin(overlap)]\n",
    "variants['SNP'] = variants['gene'] + '-'+ variants['change']"
   ]
  },
  {
   "cell_type": "code",
   "execution_count": 68,
   "metadata": {},
   "outputs": [
    {
     "data": {
      "text/plain": [
       "21766"
      ]
     },
     "execution_count": 68,
     "metadata": {},
     "output_type": "execute_result"
    }
   ],
   "source": [
    "len(variants['SNP'].unique())"
   ]
  },
  {
   "cell_type": "code",
   "execution_count": 36,
   "metadata": {},
   "outputs": [
    {
     "name": "stdout",
     "output_type": "stream",
     "text": [
      "[0, 5, 0, 10]\n",
      "[0, 5, 0, 10]\n"
     ]
    }
   ],
   "source": [
    "def compare_snp_lists_with_values(set_list, query_list, values_list):\n",
    "    # Create a dictionary from query_list and values_list for faster lookups\n",
    "    query_dict = dict(zip(query_list, values_list))\n",
    "    \n",
    "    # Initialize output list with zeros\n",
    "    output_list = [0] * len(set_list)\n",
    "    \n",
    "    # Iterate through the set list and update the output list\n",
    "    for i, snp in enumerate(set_list):\n",
    "        if snp in query_dict:\n",
    "            # Use the corresponding value from values_list instead of 1\n",
    "            output_list[i] = query_dict[snp]\n",
    "    \n",
    "    return output_list\n",
    "\n",
    "# Example usage:\n",
    "set_list = ['SNP1', 'SNP2', 'SNP3', 'SNP4']\n",
    "query_list = ['SNP2', 'SNP4']\n",
    "values_list = [5, 10]  # Corresponding values for 'SNP2' and 'SNP4'\n",
    "output_list = compare_snp_lists_with_values(set_list, query_list, values_list)\n",
    "print(output_list)  # Expected output: [0, 5, 0, 10]\n",
    "\n",
    "\n",
    "def compare_snp_lists_with_values_optimized(set_list, query_list, values_list):\n",
    "    # Create a dictionary from query_list and values_list for direct mapping\n",
    "    query_dict = dict(zip(query_list, values_list))\n",
    "    \n",
    "    # Use list comprehension to build the output list directly\n",
    "    output_list = [query_dict.get(snp, 0) for snp in set_list]\n",
    "    \n",
    "    return output_list\n",
    "\n",
    "# Example usage\n",
    "set_list = ['SNP1', 'SNP2', 'SNP3', 'SNP4']\n",
    "query_list = ['SNP2', 'SNP4']\n",
    "values_list = [5, 10]  # Corresponding values for 'SNP2' and 'SNP4'\n",
    "output_list = compare_snp_lists_with_values_optimized(set_list, query_list, values_list)\n",
    "print(output_list)  # Expected output: [0, 5, 0, 10]# Getting all snp data"
   ]
  },
  {
   "cell_type": "markdown",
   "metadata": {},
   "source": [
    "# Running for all data"
   ]
  },
  {
   "cell_type": "markdown",
   "metadata": {},
   "source": [
    "### Below is the main code for generating snp data, runs for a long time\n",
    "trying loading already generated data: aa_array = np.loadtxt('data_aa/aa_data.csv', delimiter=',')   # X is an array"
   ]
  },
  {
   "cell_type": "code",
   "execution_count": 37,
   "metadata": {},
   "outputs": [
    {
     "name": "stderr",
     "output_type": "stream",
     "text": [
      "  0%|          | 3/11920 [00:00<08:42, 22.79it/s]"
     ]
    },
    {
     "name": "stderr",
     "output_type": "stream",
     "text": [
      "  0%|          | 36/11920 [00:01<08:23, 23.59it/s]\n"
     ]
    },
    {
     "ename": "KeyboardInterrupt",
     "evalue": "",
     "output_type": "error",
     "traceback": [
      "\u001b[0;31m---------------------------------------------------------------------------\u001b[0m",
      "\u001b[0;31mKeyboardInterrupt\u001b[0m                         Traceback (most recent call last)",
      "\u001b[0;32m/tmp/ipykernel_119769/2833435423.py\u001b[0m in \u001b[0;36m<module>\u001b[0;34m\u001b[0m\n\u001b[1;32m      2\u001b[0m \u001b[0mall_snp\u001b[0m \u001b[0;34m=\u001b[0m \u001b[0mvariants\u001b[0m\u001b[0;34m[\u001b[0m\u001b[0;34m'SNP'\u001b[0m\u001b[0;34m]\u001b[0m\u001b[0;34m.\u001b[0m\u001b[0munique\u001b[0m\u001b[0;34m(\u001b[0m\u001b[0;34m)\u001b[0m \u001b[0;31m# here is a list of all snps values title for the row in the final table\u001b[0m\u001b[0;34m\u001b[0m\u001b[0;34m\u001b[0m\u001b[0m\n\u001b[1;32m      3\u001b[0m \u001b[0;32mfor\u001b[0m \u001b[0mx\u001b[0m \u001b[0;32min\u001b[0m \u001b[0mtqdm\u001b[0m\u001b[0;34m(\u001b[0m\u001b[0mvariants\u001b[0m\u001b[0;34m[\u001b[0m\u001b[0;34m'sample_id'\u001b[0m\u001b[0;34m]\u001b[0m\u001b[0;34m.\u001b[0m\u001b[0munique\u001b[0m\u001b[0;34m(\u001b[0m\u001b[0;34m)\u001b[0m\u001b[0;34m)\u001b[0m\u001b[0;34m:\u001b[0m\u001b[0;34m\u001b[0m\u001b[0;34m\u001b[0m\u001b[0m\n\u001b[0;32m----> 4\u001b[0;31m     \u001b[0maa\u001b[0m\u001b[0;34m.\u001b[0m\u001b[0mappend\u001b[0m\u001b[0;34m(\u001b[0m\u001b[0mcompare_snp_lists_with_values_optimized\u001b[0m\u001b[0;34m(\u001b[0m\u001b[0mall_snp\u001b[0m\u001b[0;34m,\u001b[0m \u001b[0mvariants\u001b[0m\u001b[0;34m[\u001b[0m\u001b[0mvariants\u001b[0m\u001b[0;34m[\u001b[0m\u001b[0;34m'sample_id'\u001b[0m\u001b[0;34m]\u001b[0m\u001b[0;34m==\u001b[0m\u001b[0mx\u001b[0m\u001b[0;34m]\u001b[0m\u001b[0;34m[\u001b[0m\u001b[0;34m'SNP'\u001b[0m\u001b[0;34m]\u001b[0m\u001b[0;34m.\u001b[0m\u001b[0mto_list\u001b[0m\u001b[0;34m(\u001b[0m\u001b[0;34m)\u001b[0m\u001b[0;34m,\u001b[0m \u001b[0mvariants\u001b[0m\u001b[0;34m[\u001b[0m\u001b[0mvariants\u001b[0m\u001b[0;34m[\u001b[0m\u001b[0;34m'sample_id'\u001b[0m\u001b[0;34m]\u001b[0m\u001b[0;34m==\u001b[0m\u001b[0mx\u001b[0m\u001b[0;34m]\u001b[0m\u001b[0;34m[\u001b[0m\u001b[0;34m'freq'\u001b[0m\u001b[0;34m]\u001b[0m\u001b[0;34m.\u001b[0m\u001b[0mto_list\u001b[0m\u001b[0;34m(\u001b[0m\u001b[0;34m)\u001b[0m\u001b[0;34m)\u001b[0m\u001b[0;34m)\u001b[0m\u001b[0;34m\u001b[0m\u001b[0;34m\u001b[0m\u001b[0m\n\u001b[0m\u001b[1;32m      5\u001b[0m     \u001b[0;31m# print('SNP')\u001b[0m\u001b[0;34m\u001b[0m\u001b[0;34m\u001b[0m\u001b[0m\n\u001b[1;32m      6\u001b[0m     \u001b[0;31m# print(variants[variants['sample_id']==x]['SNP'].to_list()),\u001b[0m\u001b[0;34m\u001b[0m\u001b[0;34m\u001b[0m\u001b[0m\n",
      "\u001b[0;32m/mnt/storageG1/lwang/miniconda3/envs/ml-workshop/lib/python3.9/site-packages/pandas/core/ops/common.py\u001b[0m in \u001b[0;36mnew_method\u001b[0;34m(self, other)\u001b[0m\n\u001b[1;32m     79\u001b[0m         \u001b[0mother\u001b[0m \u001b[0;34m=\u001b[0m \u001b[0mitem_from_zerodim\u001b[0m\u001b[0;34m(\u001b[0m\u001b[0mother\u001b[0m\u001b[0;34m)\u001b[0m\u001b[0;34m\u001b[0m\u001b[0;34m\u001b[0m\u001b[0m\n\u001b[1;32m     80\u001b[0m \u001b[0;34m\u001b[0m\u001b[0m\n\u001b[0;32m---> 81\u001b[0;31m         \u001b[0;32mreturn\u001b[0m \u001b[0mmethod\u001b[0m\u001b[0;34m(\u001b[0m\u001b[0mself\u001b[0m\u001b[0;34m,\u001b[0m \u001b[0mother\u001b[0m\u001b[0;34m)\u001b[0m\u001b[0;34m\u001b[0m\u001b[0;34m\u001b[0m\u001b[0m\n\u001b[0m\u001b[1;32m     82\u001b[0m \u001b[0;34m\u001b[0m\u001b[0m\n\u001b[1;32m     83\u001b[0m     \u001b[0;32mreturn\u001b[0m \u001b[0mnew_method\u001b[0m\u001b[0;34m\u001b[0m\u001b[0;34m\u001b[0m\u001b[0m\n",
      "\u001b[0;32m/mnt/storageG1/lwang/miniconda3/envs/ml-workshop/lib/python3.9/site-packages/pandas/core/arraylike.py\u001b[0m in \u001b[0;36m__eq__\u001b[0;34m(self, other)\u001b[0m\n\u001b[1;32m     38\u001b[0m     \u001b[0;34m@\u001b[0m\u001b[0munpack_zerodim_and_defer\u001b[0m\u001b[0;34m(\u001b[0m\u001b[0;34m\"__eq__\"\u001b[0m\u001b[0;34m)\u001b[0m\u001b[0;34m\u001b[0m\u001b[0;34m\u001b[0m\u001b[0m\n\u001b[1;32m     39\u001b[0m     \u001b[0;32mdef\u001b[0m \u001b[0m__eq__\u001b[0m\u001b[0;34m(\u001b[0m\u001b[0mself\u001b[0m\u001b[0;34m,\u001b[0m \u001b[0mother\u001b[0m\u001b[0;34m)\u001b[0m\u001b[0;34m:\u001b[0m\u001b[0;34m\u001b[0m\u001b[0;34m\u001b[0m\u001b[0m\n\u001b[0;32m---> 40\u001b[0;31m         \u001b[0;32mreturn\u001b[0m \u001b[0mself\u001b[0m\u001b[0;34m.\u001b[0m\u001b[0m_cmp_method\u001b[0m\u001b[0;34m(\u001b[0m\u001b[0mother\u001b[0m\u001b[0;34m,\u001b[0m \u001b[0moperator\u001b[0m\u001b[0;34m.\u001b[0m\u001b[0meq\u001b[0m\u001b[0;34m)\u001b[0m\u001b[0;34m\u001b[0m\u001b[0;34m\u001b[0m\u001b[0m\n\u001b[0m\u001b[1;32m     41\u001b[0m \u001b[0;34m\u001b[0m\u001b[0m\n\u001b[1;32m     42\u001b[0m     \u001b[0;34m@\u001b[0m\u001b[0munpack_zerodim_and_defer\u001b[0m\u001b[0;34m(\u001b[0m\u001b[0;34m\"__ne__\"\u001b[0m\u001b[0;34m)\u001b[0m\u001b[0;34m\u001b[0m\u001b[0;34m\u001b[0m\u001b[0m\n",
      "\u001b[0;32m/mnt/storageG1/lwang/miniconda3/envs/ml-workshop/lib/python3.9/site-packages/pandas/core/series.py\u001b[0m in \u001b[0;36m_cmp_method\u001b[0;34m(self, other, op)\u001b[0m\n\u001b[1;32m   6095\u001b[0m \u001b[0;34m\u001b[0m\u001b[0m\n\u001b[1;32m   6096\u001b[0m         \u001b[0;32mwith\u001b[0m \u001b[0mnp\u001b[0m\u001b[0;34m.\u001b[0m\u001b[0merrstate\u001b[0m\u001b[0;34m(\u001b[0m\u001b[0mall\u001b[0m\u001b[0;34m=\u001b[0m\u001b[0;34m\"ignore\"\u001b[0m\u001b[0;34m)\u001b[0m\u001b[0;34m:\u001b[0m\u001b[0;34m\u001b[0m\u001b[0;34m\u001b[0m\u001b[0m\n\u001b[0;32m-> 6097\u001b[0;31m             \u001b[0mres_values\u001b[0m \u001b[0;34m=\u001b[0m \u001b[0mops\u001b[0m\u001b[0;34m.\u001b[0m\u001b[0mcomparison_op\u001b[0m\u001b[0;34m(\u001b[0m\u001b[0mlvalues\u001b[0m\u001b[0;34m,\u001b[0m \u001b[0mrvalues\u001b[0m\u001b[0;34m,\u001b[0m \u001b[0mop\u001b[0m\u001b[0;34m)\u001b[0m\u001b[0;34m\u001b[0m\u001b[0;34m\u001b[0m\u001b[0m\n\u001b[0m\u001b[1;32m   6098\u001b[0m \u001b[0;34m\u001b[0m\u001b[0m\n\u001b[1;32m   6099\u001b[0m         \u001b[0;32mreturn\u001b[0m \u001b[0mself\u001b[0m\u001b[0;34m.\u001b[0m\u001b[0m_construct_result\u001b[0m\u001b[0;34m(\u001b[0m\u001b[0mres_values\u001b[0m\u001b[0;34m,\u001b[0m \u001b[0mname\u001b[0m\u001b[0;34m=\u001b[0m\u001b[0mres_name\u001b[0m\u001b[0;34m)\u001b[0m\u001b[0;34m\u001b[0m\u001b[0;34m\u001b[0m\u001b[0m\n",
      "\u001b[0;32m/mnt/storageG1/lwang/miniconda3/envs/ml-workshop/lib/python3.9/site-packages/pandas/core/ops/array_ops.py\u001b[0m in \u001b[0;36mcomparison_op\u001b[0;34m(left, right, op)\u001b[0m\n\u001b[1;32m    284\u001b[0m \u001b[0;34m\u001b[0m\u001b[0m\n\u001b[1;32m    285\u001b[0m     \u001b[0;32melif\u001b[0m \u001b[0mis_object_dtype\u001b[0m\u001b[0;34m(\u001b[0m\u001b[0mlvalues\u001b[0m\u001b[0;34m.\u001b[0m\u001b[0mdtype\u001b[0m\u001b[0;34m)\u001b[0m \u001b[0;32mor\u001b[0m \u001b[0misinstance\u001b[0m\u001b[0;34m(\u001b[0m\u001b[0mrvalues\u001b[0m\u001b[0;34m,\u001b[0m \u001b[0mstr\u001b[0m\u001b[0;34m)\u001b[0m\u001b[0;34m:\u001b[0m\u001b[0;34m\u001b[0m\u001b[0;34m\u001b[0m\u001b[0m\n\u001b[0;32m--> 286\u001b[0;31m         \u001b[0mres_values\u001b[0m \u001b[0;34m=\u001b[0m \u001b[0mcomp_method_OBJECT_ARRAY\u001b[0m\u001b[0;34m(\u001b[0m\u001b[0mop\u001b[0m\u001b[0;34m,\u001b[0m \u001b[0mlvalues\u001b[0m\u001b[0;34m,\u001b[0m \u001b[0mrvalues\u001b[0m\u001b[0;34m)\u001b[0m\u001b[0;34m\u001b[0m\u001b[0;34m\u001b[0m\u001b[0m\n\u001b[0m\u001b[1;32m    287\u001b[0m \u001b[0;34m\u001b[0m\u001b[0m\n\u001b[1;32m    288\u001b[0m     \u001b[0;32melse\u001b[0m\u001b[0;34m:\u001b[0m\u001b[0;34m\u001b[0m\u001b[0;34m\u001b[0m\u001b[0m\n",
      "\u001b[0;32m/mnt/storageG1/lwang/miniconda3/envs/ml-workshop/lib/python3.9/site-packages/pandas/core/ops/array_ops.py\u001b[0m in \u001b[0;36mcomp_method_OBJECT_ARRAY\u001b[0;34m(op, x, y)\u001b[0m\n\u001b[1;32m     73\u001b[0m         \u001b[0mresult\u001b[0m \u001b[0;34m=\u001b[0m \u001b[0mlibops\u001b[0m\u001b[0;34m.\u001b[0m\u001b[0mvec_compare\u001b[0m\u001b[0;34m(\u001b[0m\u001b[0mx\u001b[0m\u001b[0;34m.\u001b[0m\u001b[0mravel\u001b[0m\u001b[0;34m(\u001b[0m\u001b[0;34m)\u001b[0m\u001b[0;34m,\u001b[0m \u001b[0my\u001b[0m\u001b[0;34m.\u001b[0m\u001b[0mravel\u001b[0m\u001b[0;34m(\u001b[0m\u001b[0;34m)\u001b[0m\u001b[0;34m,\u001b[0m \u001b[0mop\u001b[0m\u001b[0;34m)\u001b[0m\u001b[0;34m\u001b[0m\u001b[0;34m\u001b[0m\u001b[0m\n\u001b[1;32m     74\u001b[0m     \u001b[0;32melse\u001b[0m\u001b[0;34m:\u001b[0m\u001b[0;34m\u001b[0m\u001b[0;34m\u001b[0m\u001b[0m\n\u001b[0;32m---> 75\u001b[0;31m         \u001b[0mresult\u001b[0m \u001b[0;34m=\u001b[0m \u001b[0mlibops\u001b[0m\u001b[0;34m.\u001b[0m\u001b[0mscalar_compare\u001b[0m\u001b[0;34m(\u001b[0m\u001b[0mx\u001b[0m\u001b[0;34m.\u001b[0m\u001b[0mravel\u001b[0m\u001b[0;34m(\u001b[0m\u001b[0;34m)\u001b[0m\u001b[0;34m,\u001b[0m \u001b[0my\u001b[0m\u001b[0;34m,\u001b[0m \u001b[0mop\u001b[0m\u001b[0;34m)\u001b[0m\u001b[0;34m\u001b[0m\u001b[0;34m\u001b[0m\u001b[0m\n\u001b[0m\u001b[1;32m     76\u001b[0m     \u001b[0;32mreturn\u001b[0m \u001b[0mresult\u001b[0m\u001b[0;34m.\u001b[0m\u001b[0mreshape\u001b[0m\u001b[0;34m(\u001b[0m\u001b[0mx\u001b[0m\u001b[0;34m.\u001b[0m\u001b[0mshape\u001b[0m\u001b[0;34m)\u001b[0m\u001b[0;34m\u001b[0m\u001b[0;34m\u001b[0m\u001b[0m\n\u001b[1;32m     77\u001b[0m \u001b[0;34m\u001b[0m\u001b[0m\n",
      "\u001b[0;31mKeyboardInterrupt\u001b[0m: "
     ]
    }
   ],
   "source": [
    "aa = []\n",
    "all_snp = variants['SNP'].unique() # here is a list of all snps values title for the row in the final table \n",
    "for x in tqdm(variants['sample_id'].unique()):\n",
    "    aa.append(compare_snp_lists_with_values_optimized(all_snp, variants[variants['sample_id']==x]['SNP'].to_list(), variants[variants['sample_id']==x]['freq'].to_list()))\n",
    "    # print('SNP')\n",
    "    # print(variants[variants['sample_id']==x]['SNP'].to_list()), \n",
    "    # print('freq')\n",
    "    # print(variants[variants['sample_id']==x]['freq'].to_list())\n",
    "    # break"
   ]
  },
  {
   "cell_type": "code",
   "execution_count": 25,
   "metadata": {},
   "outputs": [],
   "source": [
    "aa_array = np.array(aa)\n",
    "aa_array[aa_array < 0.8] = 0"
   ]
  },
  {
   "cell_type": "code",
   "execution_count": 80,
   "metadata": {},
   "outputs": [],
   "source": [
    "np.savetxt('data_aa/aa_data_col.csv',variants['SNP'].unique(),  delimiter=',', fmt='%s')\n",
    "np.savetxt('data_aa/aa_data_row.csv',variants['sample_id'].unique(),  delimiter=',', fmt='%s')"
   ]
  },
  {
   "cell_type": "code",
   "execution_count": 31,
   "metadata": {},
   "outputs": [],
   "source": [
    "# loading already generated data: ~ 3 min to load\n",
    "aa_array = np.loadtxt('data_aa/aa_data.csv', delimiter=',')   # X is an array"
   ]
  },
  {
   "cell_type": "code",
   "execution_count": 69,
   "metadata": {},
   "outputs": [],
   "source": [
    "cryptic_mic = pd.read_csv('/mnt/storageG1/lwang/Projects/tb_dr_MIC/data1/CRyPTIC_reuse_table_20221019_cleaned.csv')"
   ]
  },
  {
   "cell_type": "code",
   "execution_count": 50,
   "metadata": {},
   "outputs": [],
   "source": [
    "cryptic_mic_ori = pd.read_csv('/mnt/storageG1/lwang/Projects/tb_dr_MIC_v2/CRyPTIC_reuse_table_20221019.csv')"
   ]
  },
  {
   "cell_type": "code",
   "execution_count": 70,
   "metadata": {},
   "outputs": [],
   "source": [
    "mic_aa = cryptic_mic[cryptic_mic['wgs_id'].isin(variants['sample_id'].unique())]#.iloc[:,14:27]"
   ]
  },
  {
   "cell_type": "markdown",
   "metadata": {},
   "source": [
    "getting mic into the right order in terms of sample"
   ]
  },
  {
   "cell_type": "code",
   "execution_count": 71,
   "metadata": {},
   "outputs": [
    {
     "name": "stderr",
     "output_type": "stream",
     "text": [
      "/tmp/ipykernel_119769/4217528871.py:2: SettingWithCopyWarning: \n",
      "A value is trying to be set on a copy of a slice from a DataFrame.\n",
      "Try using .loc[row_indexer,col_indexer] = value instead\n",
      "\n",
      "See the caveats in the documentation: https://pandas.pydata.org/pandas-docs/stable/user_guide/indexing.html#returning-a-view-versus-a-copy\n",
      "  mic_aa['wgs_id'] = pd.Categorical(mic_aa['wgs_id'], categories=variants['sample_id'].unique().tolist(), ordered=True)\n"
     ]
    }
   ],
   "source": [
    "#ordering mic like in aa_array - make sure the samples are in the correct order\n",
    "mic_aa['wgs_id'] = pd.Categorical(mic_aa['wgs_id'], categories=variants['sample_id'].unique().tolist(), ordered=True)\n",
    "mic_aa = mic_aa.sort_values('wgs_id')"
   ]
  },
  {
   "cell_type": "code",
   "execution_count": null,
   "metadata": {},
   "outputs": [],
   "source": [
    "variants['sample_id'].unique().tolist() == mic_aa['wgs_id'].unique().tolist()"
   ]
  },
  {
   "cell_type": "code",
   "execution_count": 76,
   "metadata": {},
   "outputs": [
    {
     "data": {
      "text/plain": [
       "(11920, 21766)"
      ]
     },
     "execution_count": 76,
     "metadata": {},
     "output_type": "execute_result"
    }
   ],
   "source": [
    "aa_array.shape"
   ]
  },
  {
   "cell_type": "code",
   "execution_count": 28,
   "metadata": {},
   "outputs": [],
   "source": [
    "np.savetxt('data_aa/aa_data_train.csv', aa_array[:int(aa_array.shape[0]*0.9), :], delimiter=',', fmt='%s')\n",
    "# Save the remaining 10% of rows to another CSV file\n",
    "np.savetxt('data_aa/aa_data_test.csv', aa_array[int(aa_array.shape[0]*0.9):, :], delimiter=',', fmt='%s')"
   ]
  },
  {
   "cell_type": "code",
   "execution_count": 56,
   "metadata": {},
   "outputs": [],
   "source": [
    "mic_aa = mic_aa.iloc[:,14:27].astype('float')\n",
    "mic_aa.to_csv('data_aa/mic_aa.csv', index=False)"
   ]
  },
  {
   "cell_type": "code",
   "execution_count": 57,
   "metadata": {},
   "outputs": [],
   "source": [
    "mic_aa.iloc[:int(mic_aa.shape[0]*0.9),:].to_csv('data_aa/mic_aa_train.csv', index=False)\n",
    "mic_aa.iloc[int(mic_aa.shape[0]*0.9):,:].to_csv('data_aa/mic_aa_test.csv', index=False)"
   ]
  },
  {
   "cell_type": "code",
   "execution_count": 58,
   "metadata": {},
   "outputs": [
    {
     "data": {
      "text/plain": [
       "(11920, 13)"
      ]
     },
     "execution_count": 58,
     "metadata": {},
     "output_type": "execute_result"
    }
   ],
   "source": [
    "mic_aa.shape"
   ]
  },
  {
   "cell_type": "code",
   "execution_count": 59,
   "metadata": {},
   "outputs": [
    {
     "data": {
      "text/plain": [
       "(11920, 27063)"
      ]
     },
     "execution_count": 59,
     "metadata": {},
     "output_type": "execute_result"
    }
   ],
   "source": [
    "aa_array.shape"
   ]
  },
  {
   "cell_type": "code",
   "execution_count": 59,
   "metadata": {},
   "outputs": [
    {
     "data": {
      "text/plain": [
       "8157     ERR4829684\n",
       "11361    ERR8975196\n",
       "1244     ERR3287611\n",
       "7641     ERR4828904\n",
       "9905     ERR4831761\n",
       "            ...    \n",
       "5125     ERR4812175\n",
       "2539     ERR4797355\n",
       "4936     ERR4811968\n",
       "464      ERR2510245\n",
       "2252     ERR4797048\n",
       "Name: wgs_id, Length: 11920, dtype: category\n",
       "Categories (11920, object): ['ERR4829684' < 'ERR8975196' < 'ERR3287611' < 'ERR4828904' ... 'ERR4797355' < 'ERR4811968' < 'ERR2510245' < 'ERR4797048']"
      ]
     },
     "execution_count": 59,
     "metadata": {},
     "output_type": "execute_result"
    }
   ],
   "source": [
    "mic_aa.iloc[:,42]"
   ]
  },
  {
   "cell_type": "markdown",
   "metadata": {},
   "source": [
    "# Binning MIC"
   ]
  },
  {
   "cell_type": "markdown",
   "metadata": {},
   "source": [
    "### Overall"
   ]
  },
  {
   "cell_type": "code",
   "execution_count": 97,
   "metadata": {},
   "outputs": [],
   "source": [
    "# mic_aa = mic_aa.iloc[:,14:27].astype('float')\n",
    "mic_aa = pd.read_csv('data_aa/mic_aa.csv')"
   ]
  },
  {
   "cell_type": "code",
   "execution_count": 52,
   "metadata": {},
   "outputs": [
    {
     "name": "stdout",
     "output_type": "stream",
     "text": [
      "0.004 - 3154\n",
      "0.0075 - 6099\n",
      "0.01125 - 2433\n",
      "0.015 - 4858\n",
      "0.03 - 19597\n",
      "0.05 - 3388\n",
      "0.06 - 8391\n",
      "0.1 - 271\n",
      "0.12 - 9215\n",
      "0.125 - 7181\n",
      "0.15 - 72\n",
      "0.2 - 355\n",
      "0.25 - 12768\n",
      "0.4 - 304\n",
      "0.5 - 24570\n",
      "0.8 - 341\n",
      "1.0 - 12519\n",
      "1.6 - 1368\n",
      "2.0 - 13160\n",
      "3.2 - 2468\n",
      "4.0 - 8419\n",
      "6.4 - 335\n",
      "8.0 - 5915\n",
      "12.8 - 198\n",
      "16.0 - 3971\n",
      "25.6 - 241\n",
      "32.0 - 1034\n",
      "64.0 - 14\n"
     ]
    }
   ],
   "source": [
    "my_dict = {0.5: 24570,\n",
    " 0.03: 19597,\n",
    " 2.0: 13160,\n",
    " 0.25: 12768,\n",
    " 1.0: 12519,\n",
    " 0.12: 9215,\n",
    " 4.0: 8419,\n",
    " 0.06: 8391,\n",
    " 0.125: 7181,\n",
    " 0.0075: 6099,\n",
    " 8.0: 5915,\n",
    " 0.015: 4858,\n",
    " 16.0: 3971,\n",
    " 0.05: 3388,\n",
    " 0.004: 3154,\n",
    " 3.2: 2468,\n",
    " 0.01125: 2433,\n",
    " 1.6: 1368,\n",
    " 32.0: 1034,\n",
    " 0.2: 355,\n",
    " 0.8: 341,\n",
    " 6.4: 335,\n",
    " 0.4: 304,\n",
    " 0.1: 271,\n",
    " 25.6: 241,\n",
    " 12.8: 198,\n",
    " 0.15: 72,\n",
    " 64.0: 14}\n",
    "sorted_dict = dict(sorted(my_dict.items()))\n",
    "for x, y in sorted_dict.items():\n",
    "    print(x,'-', y)"
   ]
  },
  {
   "cell_type": "markdown",
   "metadata": {},
   "source": [
    "\n",
    "=== mic < 0.01\n",
    "0.004 - 3154\n",
    "0.0075 - 6099\n",
    "\n",
    "=== 0.01 <= mic < 0.02 \n",
    "0.01125 - 2433\n",
    "0.015 - 4858\n",
    "\n",
    "=== 0.02 <= mic < 0.02 \n",
    "0.03 - 19597\n",
    "\n",
    "=== 0.05 <= mic < 0.1 \n",
    "0.05 - 3388\n",
    "0.06 - 8391\n",
    "\n",
    "=== 0.1 <= mic < 0.15 \n",
    "0.1 - 271\n",
    "0.12 - 9215\n",
    "0.125 - 7181\n",
    "\n",
    "=== 0.15 <= mic < 0.4 \n",
    "0.15 - 72\n",
    "0.2 - 355\n",
    "0.25 - 12768\n",
    "\n",
    "=== 0.5 <= mic < 0.8\n",
    "0.4 - 304\n",
    "0.5 - 24570\n",
    "\n",
    "=== 0.8 <= mic < 1\n",
    "0.8 - 341\n",
    "1.0 - 12519\n",
    "\n",
    "=== 1 <= mic < 3.2\n",
    "1.6 - 1368\n",
    "2.0 - 13160\n",
    "\n",
    "=== 3.2 <= mic < 8\n",
    "3.2 - 2468\n",
    "4.0 - 8419\n",
    "6.4 - 335\n",
    "\n",
    "=== mic >= 8\n",
    "8.0 - 5915\n",
    "12.8 - 198\n",
    "16.0 - 3971\n",
    "25.6 - 241\n",
    "32.0 - 1034\n",
    "64.0 - 14"
   ]
  },
  {
   "cell_type": "code",
   "execution_count": 63,
   "metadata": {},
   "outputs": [
    {
     "name": "stdout",
     "output_type": "stream",
     "text": [
      "9253\n",
      "7291\n",
      "19597\n",
      "11779\n",
      "16667\n",
      "13195\n",
      "24874\n",
      "12860\n",
      "14528\n",
      "11222\n",
      "11373\n"
     ]
    }
   ],
   "source": [
    "\n",
    "# === mic < 0.01\n",
    "# 0.004 - 3154\n",
    "# 0.0075 - 6099\n",
    "print(sum([3154,6099])) \n",
    "\n",
    "# === 0.01 <= mic < 0.02 \n",
    "# 0.01125 - 2433\n",
    "# 0.015 - 4858\n",
    "print(sum([2433, 4858]))\n",
    "\n",
    "# === 0.02 <= mic < 0.02 \n",
    "# 0.03 - 19597\n",
    "print(sum([19597]))\n",
    "\n",
    "# === 0.05 <= mic < 0.1 \n",
    "# 0.05 - 3388\n",
    "# 0.06 - 8391\n",
    "print(sum([3388, 8391]))\n",
    "\n",
    "# === 0.1 <= mic < 0.15 \n",
    "# 0.1 - 271\n",
    "# 0.12 - 9215\n",
    "# 0.125 - 7181\n",
    "print(sum([271,9215,7181]))\n",
    "\n",
    "# === 0.15 <= mic < 0.4 \n",
    "# 0.15 - 72\n",
    "# 0.2 - 355\n",
    "# 0.25 - 12768\n",
    "print(sum([72,355,12768]))\n",
    "\n",
    "# === 0.5 <= mic < 0.8\n",
    "# 0.4 - 304\n",
    "# 0.5 - 24570\n",
    "print(sum([304,24570]))\n",
    "\n",
    "# === 0.8 <= mic < 1\n",
    "# 0.8 - 341\n",
    "# 1.0 - 12519\n",
    "print(sum([341,12519]))\n",
    "\n",
    "# === 1 <= mic < 3.2\n",
    "# 1.6 - 1368\n",
    "# 2.0 - 13160\n",
    "print(sum([1368,13160]))\n",
    "\n",
    "# === 3.2 <= mic < 8\n",
    "# 3.2 - 2468\n",
    "# 4.0 - 8419\n",
    "# 6.4 - 335\n",
    "print(sum([2468,8419,335]))\n",
    "\n",
    "# === mic >= 8\n",
    "# 8.0 - 5915\n",
    "# 12.8 - 198\n",
    "# 16.0 - 3971\n",
    "# 25.6 - 241\n",
    "# 32.0 - 1034\n",
    "# 64.0 - 14\n",
    "print(sum([5915,198,3971,241,1034,14]))\n"
   ]
  },
  {
   "cell_type": "code",
   "execution_count": 62,
   "metadata": {},
   "outputs": [
    {
     "name": "stdout",
     "output_type": "stream",
     "text": [
      "9253\n",
      "7291\n",
      "19597\n",
      "11779\n",
      "16667\n",
      "13195\n",
      "24874\n",
      "12860\n",
      "14528\n",
      "11222\n",
      "11373\n"
     ]
    }
   ],
   "source": [
    "print(sum([3154,6099])) \n",
    "print(sum([2433, 4858]))\n",
    "print(sum([19597]))\n",
    "print(sum([3388, 8391]))\n",
    "print(sum([271,9215,7181]))\n",
    "print(sum([72,355,12768]))\n",
    "print(sum([304,24570]))\n",
    "print(sum([341,12519]))\n",
    "print(sum([1368,13160]))\n",
    "print(sum([2468,8419,335]))\n",
    "print(sum([5915,198,3971,241,1034,14]))\n"
   ]
  },
  {
   "cell_type": "markdown",
   "metadata": {},
   "source": [
    "## RIF"
   ]
  },
  {
   "cell_type": "code",
   "execution_count": 20,
   "metadata": {},
   "outputs": [],
   "source": [
    "mic_aa = pd.read_csv('data_aa/mic_aa.csv')"
   ]
  },
  {
   "cell_type": "code",
   "execution_count": 85,
   "metadata": {},
   "outputs": [],
   "source": [
    "rif_ori_sorted_dict = dict(sorted(dict(cryptic_mic_ori['RIF_MIC'].value_counts()).items()))"
   ]
  },
  {
   "cell_type": "code",
   "execution_count": 74,
   "metadata": {},
   "outputs": [
    {
     "data": {
      "text/plain": [
       "[1, 1, 2, 2, 3, 4, 4, 5, 5, 5, 6]"
      ]
     },
     "execution_count": 74,
     "metadata": {},
     "output_type": "execute_result"
    }
   ],
   "source": [
    "# Convert list values according to provided ranges into numbers corresponding to which range the value falls in\n",
    "\n",
    "# Define the ranges and their corresponding labels\n",
    "ranges = {\n",
    "    (0.015, 0.05): 1,  # Includes 0.015 and 0.03\n",
    "    (0.05, 0.15): 2,   # Includes 0.06\n",
    "    (0.12, 0.25): 3,   # Includes 0.12\n",
    "    (0.25, 1.0): 4,    # Includes 0.25 and 0.5\n",
    "    (1.0, 8.0): 5,     # Includes 1.0, 2.0, and 4.0\n",
    "    (8.0, float('inf')): 6  # Includes 8.0 and 16.0\n",
    "}\n",
    "\n",
    "# Sample MIC values\n",
    "mic_values = [0.015, 0.03, 0.06, 0.12, 0.25, 0.5, 1.0, 2.0, 4.0, 8.0, 16.0]\n",
    "\n",
    "# Function to convert MIC values to corresponding range numbers\n",
    "def convert_mic_to_range(mic_values, ranges):\n",
    "    converted_values = []\n",
    "    for mic in mic_values:\n",
    "        for r in ranges:\n",
    "            if r[0] <= mic <= r[1]:\n",
    "                converted_values.append(ranges[r])\n",
    "                break\n",
    "    return converted_values\n",
    "\n",
    "# Convert the MIC values\n",
    "converted_values = convert_mic_to_range(mic_values, ranges)\n",
    "converted_values\n"
   ]
  },
  {
   "cell_type": "code",
   "execution_count": 75,
   "metadata": {},
   "outputs": [
    {
     "data": {
      "text/plain": [
       "[1, 1, 2, 2, 3, 4, 4, 5, 5, 5, 6]"
      ]
     },
     "execution_count": 75,
     "metadata": {},
     "output_type": "execute_result"
    }
   ],
   "source": [
    "converted_values = convert_mic_to_range(, ranges)\n"
   ]
  },
  {
   "cell_type": "code",
   "execution_count": 67,
   "metadata": {},
   "outputs": [
    {
     "data": {
      "text/plain": [
       "{8.0: 2374,\n",
       " 0.03: 2262,\n",
       " 0.12: 2082,\n",
       " 16.0: 1631,\n",
       " 0.06: 1316,\n",
       " 0.015: 751,\n",
       " 0.25: 715,\n",
       " 0.5: 183,\n",
       " 4.0: 160,\n",
       " 2.0: 148,\n",
       " 1.0: 114}"
      ]
     },
     "execution_count": 67,
     "metadata": {},
     "output_type": "execute_result"
    }
   ],
   "source": [
    "dict(mic_aa['RIF_MIC'].value_counts())"
   ]
  },
  {
   "cell_type": "code",
   "execution_count": 68,
   "metadata": {},
   "outputs": [],
   "source": [
    "rif_sorted_dict = dict(sorted(dict(mic_aa['RIF_MIC'].value_counts()).items()))\n"
   ]
  },
  {
   "cell_type": "code",
   "execution_count": 115,
   "metadata": {},
   "outputs": [
    {
     "name": "stdout",
     "output_type": "stream",
     "text": [
      "3013\n",
      "1316\n",
      "2082\n",
      "898\n",
      "422\n",
      "4005\n"
     ]
    }
   ],
   "source": [
    "# rif_sorted_dict # 0.5 is the subsecptibility threshold\n",
    "# === mic < 0.05\n",
    "# 0.015: 751,\n",
    "# 0.03: 2262,\n",
    "print(sum([751,2262]))\n",
    "\n",
    "# === <=0.05 mic < 0.12\n",
    "# 0.06: 1316,\n",
    "print(sum([1316]))\n",
    "\n",
    "# === 0.12<= mic  < 0.25\n",
    "# 0.12: 2082,\n",
    "print(sum([2082]))\n",
    "\n",
    "# === 0.25 <= mic <=0.5\n",
    "# 0.25: 715,\n",
    "# 0.5: 183,\n",
    "print(sum([715,183]))\n",
    "\n",
    "# === 0.5 < mic < 8\n",
    "# 1.0: 114,\n",
    "# 2.0: 148,\n",
    "# 4.0: 160,\n",
    "print(sum([114,148,160]))\n",
    "\n",
    "# === mic >= 8\n",
    "# 8.0: 2374,\n",
    "# 16.0: 1631\n",
    "print(sum([2374,1631]))"
   ]
  },
  {
   "cell_type": "code",
   "execution_count": 21,
   "metadata": {},
   "outputs": [],
   "source": [
    "\n",
    "# Encoding MIC values based on specified ranges\n",
    "# encoded_mic = []\n",
    "# for value in mic_aa['RIF_MIC']:\n",
    "#     if value < 0.05:\n",
    "#         encoded_mic.append(1)  # mic < 0.05\n",
    "#     elif 0.05 <= value < 0.12:\n",
    "#         encoded_mic.append(2)  # 0.05 <= mic < 0.12\n",
    "#     elif 0.12 <= value < 0.25:\n",
    "#         encoded_mic.append(3)  # 0.12 <= mic < 0.25\n",
    "#     elif 0.25 <= value <= 0.5:\n",
    "#         encoded_mic.append(4)  # 0.25 <= mic <= 0.5\n",
    "#     elif 0.5 < value < 8:\n",
    "#         encoded_mic.append(5)  # 0.5 < mic < 8\n",
    "#     elif value >= 8:\n",
    "#         encoded_mic.append(6)  # mic >= 8\n",
    "#     else:\n",
    "#         # print(value)\n",
    "#         encoded_mic.append(np.nan)\n",
    "\n",
    "\n",
    "encoded_mic = []\n",
    "for value in mic_aa['RIF_MIC']:\n",
    "    if value <= 0.2:\n",
    "        encoded_mic.append(1)  # mic < 0.05\n",
    "    elif 0.2 <= value < 0.5:\n",
    "        encoded_mic.append(2)  # 0.05 <= mic < 0.12\n",
    "    elif 0.5 <= value < 8:\n",
    "        encoded_mic.append(3)  # 0.12 <= mic < 0.25\n",
    "    elif value >= 8:\n",
    "        encoded_mic.append(4)  # mic >= 8\n",
    "    else:\n",
    "        # print(value)\n",
    "        encoded_mic.append(np.nan)\n",
    "\n",
    "    \n",
    "        \n",
    "# encoded_mic = []\n",
    "# for value in mic_aa['RIF_MIC']:\n",
    "#     if value < 0.05:\n",
    "#         encoded_mic.append(1)  # mic < 0.05\n",
    "#     elif 0.05 <= value < 0.12:\n",
    "#         encoded_mic.append(2)  # 0.05 <= mic < 0.12\n",
    "#     elif 0.12 <= value < 0.25:\n",
    "#         encoded_mic.append(3)  # 0.12 <= mic < 0.25\n",
    "#     elif 0.25 <= value < 8:\n",
    "#         encoded_mic.append(4)  # 0.25 <= mic <= 0.5\n",
    "#     elif value >= 8:\n",
    "#         encoded_mic.append(5)  # mic >= 8\n",
    "#     else:\n",
    "#         # print(value)\n",
    "#         encoded_mic.append(np.nan)\n",
    "\n",
    "mic_aa['RIF_MIC'] = encoded_mic"
   ]
  },
  {
   "cell_type": "code",
   "execution_count": 22,
   "metadata": {},
   "outputs": [
    {
     "data": {
      "text/plain": [
       "RIF_MIC\n",
       "1.0    6411\n",
       "4.0    4005\n",
       "2.0     715\n",
       "3.0     605\n",
       "Name: count, dtype: int64"
      ]
     },
     "execution_count": 22,
     "metadata": {},
     "output_type": "execute_result"
    }
   ],
   "source": [
    "mic_aa['RIF_MIC'].value_counts()"
   ]
  },
  {
   "cell_type": "code",
   "execution_count": 23,
   "metadata": {},
   "outputs": [],
   "source": [
    "mic_aa.iloc[:int(mic_aa.shape[0]*0.9),:].to_csv('data_aa/mic_aa_train_rif.csv', index=False)\n",
    "mic_aa.iloc[int(mic_aa.shape[0]*0.9):,:].to_csv('data_aa/mic_aa_test_rif.csv', index=False)"
   ]
  },
  {
   "cell_type": "markdown",
   "metadata": {},
   "source": [
    "# Stratified - overall"
   ]
  },
  {
   "cell_type": "code",
   "execution_count": null,
   "metadata": {},
   "outputs": [],
   "source": [
    "import numpy as np\n",
    "import pandas as pd\n",
    "from sklearn.model_selection import train_test_split\n",
    "from iterstrat.ml_stratifiers import MultilabelStratifiedShuffleSplit\n"
   ]
  },
  {
   "cell_type": "code",
   "execution_count": null,
   "metadata": {},
   "outputs": [],
   "source": [
    "# Convert the labels DataFrame to a NumPy array if it's for multilabel stratification\n",
    "labels = mic_aa.to_numpy()\n",
    "msss = MultilabelStratifiedShuffleSplit(n_splits=1, test_size=0.1, random_state=42)\n",
    "\n",
    "# Since MultilabelStratifiedShuffleSplit works with indices, we generate an index array\n",
    "indices = np.arange(features.shape[0])\n",
    "\n",
    "# Perform the split\n",
    "for train_index, test_index in msss.split(indices, labels):\n",
    "    train_indices, test_indices = train_index, test_index\n",
    "\n",
    "# Using indices to create feature subsets\n",
    "train_features = features[train_indices]\n",
    "test_features = features[test_indices]\n",
    "\n",
    "# Using indices to create label subsets (converting them back to DataFrame if needed)\n",
    "train_labels = pd.DataFrame(labels[train_indices], columns=labels_df.columns)\n",
    "test_labels = pd.DataFrame(labels[test_indices], columns=labels_df.columns)\n",
    "\n"
   ]
  },
  {
   "cell_type": "code",
   "execution_count": null,
   "metadata": {},
   "outputs": [],
   "source": []
  },
  {
   "cell_type": "markdown",
   "metadata": {},
   "source": [
    "# Getting rpob aa snp data"
   ]
  },
  {
   "cell_type": "code",
   "execution_count": null,
   "metadata": {},
   "outputs": [],
   "source": [
    "all_snp"
   ]
  },
  {
   "cell_type": "code",
   "execution_count": 84,
   "metadata": {},
   "outputs": [
    {
     "name": "stderr",
     "output_type": "stream",
     "text": [
      "100%|██████████| 11920/11920 [00:31<00:00, 373.60it/s]\n"
     ]
    }
   ],
   "source": [
    "variants_ind = variants[variants['gene']=='rpoB']\n",
    "aa_rpoB = []\n",
    "all_snp = variants_ind['SNP'].unique()\n",
    "\n",
    "for x in tqdm(variants['sample_id'].unique()):\n",
    "    if x in variants_ind['sample_id'].unique():\n",
    "        aa_rpoB.append(compare_snp_lists_with_values(all_snp, variants_ind[variants_ind['sample_id']==x]['SNP'].to_list(), variants_ind[variants_ind['sample_id']==x]['freq'].to_list()))\n",
    "    else:\n",
    "        aa_rpoB.append([0]*len(all_snp))\n",
    "aa_rpoB_array = np.array(aa_rpoB)\n",
    "np.savetxt('data_aa/aa_rpoB.csv', aa_rpoB_array, delimiter=',')   # X is an array"
   ]
  },
  {
   "cell_type": "code",
   "execution_count": 131,
   "metadata": {},
   "outputs": [],
   "source": [
    "np.savetxt('data_aa/train_aa_rpoB.csv', aa_rpoB_array[:int(0.9*aa_rpoB_array.shape[0])], delimiter=',')   # X \n",
    "np.savetxt('data_aa/test_aa_rpoB.csv', aa_rpoB_array[int(0.9*aa_rpoB_array.shape[0]):], delimiter=',')   # X "
   ]
  },
  {
   "cell_type": "code",
   "execution_count": null,
   "metadata": {},
   "outputs": [],
   "source": [
    "np.savetxt('data_aa/aa_rpoB.csv', aa_rpoB_array, delimiter=',')   # X is an array"
   ]
  },
  {
   "cell_type": "markdown",
   "metadata": {},
   "source": [
    "# Getting eth aa snp data"
   ]
  },
  {
   "cell_type": "code",
   "execution_count": 87,
   "metadata": {},
   "outputs": [
    {
     "name": "stderr",
     "output_type": "stream",
     "text": [
      "100%|██████████| 11920/11920 [02:10<00:00, 91.03it/s]\n"
     ]
    }
   ],
   "source": [
    "variants_ind = variants[variants['gene'].isin(['embA','embB','embC'])]\n",
    "aa_emb = []\n",
    "all_snp = variants_ind['SNP'].unique()\n",
    "\n",
    "for x in tqdm(variants['sample_id'].unique()):\n",
    "    if x in variants_ind['sample_id'].unique():\n",
    "        aa_emb.append(compare_snp_lists_with_values(all_snp, variants_ind[variants_ind['sample_id']==x]['SNP'].to_list(), variants_ind[variants_ind['sample_id']==x]['freq'].to_list()))\n",
    "    else:\n",
    "        aa_emb.append([0]*len(all_snp))\n",
    "aa_emb_array = np.array(aa_emb)\n",
    "np.savetxt('data_aa/aa_emb.csv', aa_emb_array, delimiter=',')   # X is an array"
   ]
  },
  {
   "cell_type": "code",
   "execution_count": 132,
   "metadata": {},
   "outputs": [],
   "source": [
    "np.savetxt('data_aa/aa_emb.csv', aa_emb_array, delimiter=',')   # X is an array\n",
    "np.savetxt('data_aa/train_aa_emb.csv', aa_emb_array[:int(0.9*aa_emb_array.shape[0])], delimiter=',')   # X \n",
    "np.savetxt('data_aa/test_aa_emb.csv', aa_emb_array[int(0.9*aa_emb_array.shape[0]):], delimiter=',')   # X "
   ]
  },
  {
   "cell_type": "markdown",
   "metadata": {},
   "source": [
    "# Getting corresponding mic snp dataset for the above"
   ]
  },
  {
   "cell_type": "code",
   "execution_count": 113,
   "metadata": {},
   "outputs": [],
   "source": [
    "cryptic_mic['wgs_id'] = pd.Categorical(cryptic_mic['wgs_id'], categories=variants['sample_id'].unique().tolist(), ordered=True)\n",
    "# Sort the DataFrame by the 'wgs_id' column\n",
    "\n",
    "cryptic_mic_ordered = cryptic_mic.sort_values('wgs_id')\n",
    "overlap = set(variants['sample_id']).intersection(set(cryptic['wgs_id'].to_list()))\n",
    "cryptic_mic_ordered = cryptic_mic_ordered[cryptic_mic_ordered['wgs_id'].isin(overlap)]"
   ]
  },
  {
   "cell_type": "code",
   "execution_count": null,
   "metadata": {},
   "outputs": [],
   "source": []
  },
  {
   "cell_type": "code",
   "execution_count": 114,
   "metadata": {},
   "outputs": [],
   "source": [
    "np.savetxt('data_aa/ETH_MIC.csv', np.array([float(x) for x in cryptic_mic_ordered['ETH_MIC']]), delimiter=',')   # X is an array\n",
    "np.savetxt('data_aa/train_ETH_MIC.csv', np.array([float(x) for x in cryptic_mic_ordered['ETH_MIC']])[:int(0.9*cryptic_mic_ordered.shape[0])], delimiter=',')   # X is an array\n",
    "np.savetxt('data_aa/test_ETH_MIC.csv', np.array([float(x) for x in cryptic_mic_ordered['ETH_MIC']])[int(0.9*cryptic_mic_ordered.shape[0]):], delimiter=',')   # X is an array\n",
    "\n",
    "np.savetxt('data_aa/RIF_MIC.csv', np.array([float(x) for x in cryptic_mic_ordered['RIF_MIC']]), delimiter=',')   # X is an array\n",
    "np.savetxt('data_aa/train_RIF_MIC.csv', np.array([float(x) for x in cryptic_mic_ordered['RIF_MIC']])[:int(0.9*cryptic_mic_ordered.shape[0])], delimiter=',')   # X is an array\n",
    "np.savetxt('data_aa/test_RIF_MIC.csv', np.array([float(x) for x in cryptic_mic_ordered['RIF_MIC']])[int(0.9*cryptic_mic_ordered.shape[0]):], delimiter=',')   # X is an array"
   ]
  },
  {
   "cell_type": "code",
   "execution_count": 92,
   "metadata": {},
   "outputs": [
    {
     "data": {
      "text/plain": [
       "Index(['UNIQUEID', 'AMI_BINARY_PHENOTYPE', 'BDQ_BINARY_PHENOTYPE',\n",
       "       'CFZ_BINARY_PHENOTYPE', 'DLM_BINARY_PHENOTYPE', 'EMB_BINARY_PHENOTYPE',\n",
       "       'ETH_BINARY_PHENOTYPE', 'INH_BINARY_PHENOTYPE', 'KAN_BINARY_PHENOTYPE',\n",
       "       'LEV_BINARY_PHENOTYPE', 'LZD_BINARY_PHENOTYPE', 'MXF_BINARY_PHENOTYPE',\n",
       "       'RIF_BINARY_PHENOTYPE', 'RFB_BINARY_PHENOTYPE', 'AMI_MIC', 'BDQ_MIC',\n",
       "       'CFZ_MIC', 'DLM_MIC', 'EMB_MIC', 'ETH_MIC', 'INH_MIC', 'KAN_MIC',\n",
       "       'LEV_MIC', 'LZD_MIC', 'MXF_MIC', 'RIF_MIC', 'RFB_MIC',\n",
       "       'AMI_PHENOTYPE_QUALITY', 'BDQ_PHENOTYPE_QUALITY',\n",
       "       'CFZ_PHENOTYPE_QUALITY', 'EMB_PHENOTYPE_QUALITY',\n",
       "       'ETH_PHENOTYPE_QUALITY', 'INH_PHENOTYPE_QUALITY',\n",
       "       'KAN_PHENOTYPE_QUALITY', 'LEV_PHENOTYPE_QUALITY',\n",
       "       'LZD_PHENOTYPE_QUALITY', 'MXF_PHENOTYPE_QUALITY',\n",
       "       'RIF_PHENOTYPE_QUALITY', 'RFB_PHENOTYPE_QUALITY', 'ENA_SAMPLE', 'VCF',\n",
       "       'REGENOTYPED_VCF', 'wgs_id'],\n",
       "      dtype='object')"
      ]
     },
     "execution_count": 92,
     "metadata": {},
     "output_type": "execute_result"
    }
   ],
   "source": [
    "cryptic_mic['ETH_MIC']"
   ]
  },
  {
   "cell_type": "code",
   "execution_count": null,
   "metadata": {},
   "outputs": [],
   "source": []
  },
  {
   "cell_type": "code",
   "execution_count": null,
   "metadata": {},
   "outputs": [],
   "source": []
  },
  {
   "cell_type": "code",
   "execution_count": null,
   "metadata": {},
   "outputs": [],
   "source": [
    "from tqdm import tqdm\n",
    "import numpy as np\n",
    "\n",
    "def convert_to_coordinate_value(input_list):\n",
    "    return [(i, val) for i, val in enumerate(input_list) if val != 0]\n",
    "\n",
    "# Generate coordinate values\n",
    "aa_coord = [convert_to_coordinate_value(x) for x in tqdm(aa_data_freq)]\n",
    "\n",
    "# Find the length of the longest list\n",
    "max_length = max(len(item) for item in aa_coord)\n",
    "\n",
    "# Pad the lists to have uniform length\n",
    "padded_aa_coord = [item + [(0, 0)] * (max_length - len(item)) for item in aa_coord]\n",
    "\n",
    "# Convert to a high-dimensional NumPy array\n",
    "aa_coord_array = np.array(padded_aa_coord)\n",
    "\n",
    "# The result is a high-dimensional NumPy array\n",
    "print(aa_coord_array.shape)\n"
   ]
  },
  {
   "cell_type": "code",
   "execution_count": null,
   "metadata": {},
   "outputs": [],
   "source": [
    "from tqdm import tqdm\n",
    "import numpy as np\n",
    "\n",
    "def convert_to_coordinate_value(input_list):\n",
    "    return [(i, val) for i, val in enumerate(input_list) if val != 0]\n",
    "\n",
    "# Generate coordinate values\n",
    "aa_coord = [convert_to_coordinate_value(x) for x in tqdm(aa_data_freq)]\n",
    "\n",
    "# Find the length of the longest list\n",
    "max_length = max(len(item) for item in aa_coord)\n",
    "\n",
    "# Pad the lists to have uniform length\n",
    "padded_aa_coord = [item + [(0, 0)] * (max_length - len(item)) for item in aa_coord]\n",
    "\n",
    "# Convert to a high-dimensional NumPy array\n",
    "aa_coord_array = np.array(padded_aa_coord)\n",
    "\n",
    "# The result is a high-dimensional NumPy array\n",
    "print(aa_coord_array.shape)\n"
   ]
  },
  {
   "cell_type": "code",
   "execution_count": null,
   "metadata": {},
   "outputs": [],
   "source": [
    "for x in np.unique(variants['sample_id']):\n",
    "     print(variants[variants['sample_id'] == 'ERR9787047'].shape)"
   ]
  },
  {
   "cell_type": "code",
   "execution_count": 7,
   "metadata": {},
   "outputs": [
    {
     "data": {
      "text/plain": [
       "n.-187C>T               135403\n",
       "p.Glu21Gln              133939\n",
       "c.33A>G                 133602\n",
       "c.-165T>C               133108\n",
       "p.Ile948Val             133064\n",
       "                         ...  \n",
       "c.-4164_*1837del             1\n",
       "p.Ala876Ser                  1\n",
       "c.2192_2193insGCCTAG         1\n",
       "c.536_537insGCCCG            1\n",
       "n.1011T>G                    1\n",
       "Name: change, Length: 109920, dtype: int64"
      ]
     },
     "execution_count": 7,
     "metadata": {},
     "output_type": "execute_result"
    }
   ],
   "source": [
    "variants['change'].value_counts()"
   ]
  },
  {
   "cell_type": "code",
   "execution_count": null,
   "metadata": {},
   "outputs": [],
   "source": []
  },
  {
   "cell_type": "markdown",
   "metadata": {},
   "source": [
    "# Classification targets"
   ]
  },
  {
   "cell_type": "code",
   "execution_count": 82,
   "metadata": {},
   "outputs": [],
   "source": [
    "cryptic_clean = pd.read_csv('/mnt/storageG1/lwang/Projects/tb_dr_MIC_v2/data1/CRyPTIC_reuse_table_20221019_cleaned.csv')"
   ]
  },
  {
   "cell_type": "code",
   "execution_count": 79,
   "metadata": {},
   "outputs": [],
   "source": [
    "rif_target = pd.read_csv('data_aa/RIF_MIC.csv',header=None)"
   ]
  },
  {
   "cell_type": "code",
   "execution_count": 84,
   "metadata": {},
   "outputs": [
    {
     "data": {
      "text/plain": [
       "0         0.12\n",
       "1         0.12\n",
       "2         0.03\n",
       "3         0.12\n",
       "4         0.03\n",
       "         ...  \n",
       "12280    16.00\n",
       "12281    16.00\n",
       "12282    16.00\n",
       "12283     0.06\n",
       "12284    16.00\n",
       "Name: RIF_MIC, Length: 12285, dtype: float64"
      ]
     },
     "execution_count": 84,
     "metadata": {},
     "output_type": "execute_result"
    }
   ],
   "source": [
    "cryptic_clean['RIF_MIC']"
   ]
  },
  {
   "cell_type": "code",
   "execution_count": 19,
   "metadata": {},
   "outputs": [
    {
     "name": "stdout",
     "output_type": "stream",
     "text": [
      "[1.5e-02 3.0e-02 6.0e-02 1.2e-01 2.5e-01 5.0e-01 1.0e+00 2.0e+00 4.0e+00\n",
      " 8.0e+00 1.6e+01     nan]\n"
     ]
    }
   ],
   "source": [
    "print(np.sort(np.unique(rif_target.values)))"
   ]
  },
  {
   "cell_type": "code",
   "execution_count": 22,
   "metadata": {},
   "outputs": [
    {
     "data": {
      "text/plain": [
       "Index(['UNIQUEID', 'AMI_BINARY_PHENOTYPE', 'BDQ_BINARY_PHENOTYPE',\n",
       "       'CFZ_BINARY_PHENOTYPE', 'DLM_BINARY_PHENOTYPE', 'EMB_BINARY_PHENOTYPE',\n",
       "       'ETH_BINARY_PHENOTYPE', 'INH_BINARY_PHENOTYPE', 'KAN_BINARY_PHENOTYPE',\n",
       "       'LEV_BINARY_PHENOTYPE', 'LZD_BINARY_PHENOTYPE', 'MXF_BINARY_PHENOTYPE',\n",
       "       'RIF_BINARY_PHENOTYPE', 'RFB_BINARY_PHENOTYPE', 'AMI_MIC', 'BDQ_MIC',\n",
       "       'CFZ_MIC', 'DLM_MIC', 'EMB_MIC', 'ETH_MIC', 'INH_MIC', 'KAN_MIC',\n",
       "       'LEV_MIC', 'LZD_MIC', 'MXF_MIC', 'RIF_MIC', 'RFB_MIC',\n",
       "       'AMI_PHENOTYPE_QUALITY', 'BDQ_PHENOTYPE_QUALITY',\n",
       "       'CFZ_PHENOTYPE_QUALITY', 'EMB_PHENOTYPE_QUALITY',\n",
       "       'ETH_PHENOTYPE_QUALITY', 'INH_PHENOTYPE_QUALITY',\n",
       "       'KAN_PHENOTYPE_QUALITY', 'LEV_PHENOTYPE_QUALITY',\n",
       "       'LZD_PHENOTYPE_QUALITY', 'MXF_PHENOTYPE_QUALITY',\n",
       "       'RIF_PHENOTYPE_QUALITY', 'RFB_PHENOTYPE_QUALITY', 'ENA_SAMPLE', 'VCF',\n",
       "       'REGENOTYPED_VCF', 'wgs_id'],\n",
       "      dtype='object')"
      ]
     },
     "execution_count": 22,
     "metadata": {},
     "output_type": "execute_result"
    }
   ],
   "source": [
    "cryptic_mic_ordered.columns"
   ]
  },
  {
   "cell_type": "code",
   "execution_count": 25,
   "metadata": {},
   "outputs": [
    {
     "name": "stdout",
     "output_type": "stream",
     "text": [
      "AMI_MIC\n",
      "[ 0.125  0.5    1.     2.     4.     8.    16.    32.       nan]\n",
      "BDQ_MIC\n",
      "[0.004  0.0075 0.015  0.03   0.06   0.12   0.25   0.5    1.     2.\n",
      " 4.        nan]\n",
      "CFZ_MIC\n",
      "[0.015 0.03  0.06  0.12  0.25  0.5   1.    2.    4.    8.      nan]\n",
      "DLM_MIC\n",
      "[0.004  0.0075 0.015  0.03   0.06   0.12   0.25   0.5    1.     2.\n",
      "    nan]\n",
      "EMB_MIC\n",
      "[3.00e-02 1.20e-01 1.25e-01 2.50e-01 5.00e-01 1.00e+00 2.00e+00 4.00e+00\n",
      " 8.00e+00 1.60e+01 3.20e+01 6.40e+01      nan]\n",
      "ETH_MIC\n",
      "[ 0.125  0.5    1.     2.     4.     8.    16.       nan]\n",
      "INH_MIC\n",
      "[1.125e-02 5.000e-02 1.000e-01 2.000e-01 4.000e-01 8.000e-01 1.600e+00\n",
      " 3.200e+00 6.400e+00 1.280e+01 2.560e+01       nan]\n",
      "KAN_MIC\n",
      "[ 0.5  2.   4.   8.  16.  32.   nan]\n",
      "LEV_MIC\n",
      "[ 0.06  0.25  0.5   1.    2.    4.    8.   16.     nan]\n",
      "LZD_MIC\n",
      "[0.03 0.06 0.12 0.15 0.25 0.5  1.   2.   4.   8.    nan]\n",
      "MXF_MIC\n",
      "[0.03 0.12 0.25 0.5  1.   2.   4.   8.    nan]\n",
      "RIF_MIC\n",
      "[1.5e-02 3.0e-02 6.0e-02 1.2e-01 2.5e-01 5.0e-01 1.0e+00 2.0e+00 4.0e+00\n",
      " 8.0e+00 1.6e+01     nan]\n",
      "RFB_MIC\n",
      "[0.03 0.12 0.25 0.5  1.   2.   4.    nan]\n"
     ]
    }
   ],
   "source": [
    "for x in ['AMI_MIC', 'BDQ_MIC','CFZ_MIC', 'DLM_MIC', 'EMB_MIC', 'ETH_MIC', 'INH_MIC', 'KAN_MIC','LEV_MIC', 'LZD_MIC', 'MXF_MIC', 'RIF_MIC', 'RFB_MIC']:\n",
    "    print(x)\n",
    "    print(np.sort(np.unique(cryptic_mic_ordered[x].values)))"
   ]
  },
  {
   "cell_type": "code",
   "execution_count": 90,
   "metadata": {},
   "outputs": [
    {
     "name": "stdout",
     "output_type": "stream",
     "text": [
      "    0.015   0.030   0.060   0.120   0.250   0.500   1.000   2.000   4.000   \\\n",
      "0        1       0       0       0       0       0       0       0       0   \n",
      "1        0       1       0       0       0       0       0       0       0   \n",
      "2        0       0       1       0       0       0       0       0       0   \n",
      "3        0       0       0       1       0       0       0       0       0   \n",
      "4        0       0       0       0       1       0       0       0       0   \n",
      "5        0       0       0       0       0       1       0       0       0   \n",
      "6        0       0       0       0       0       0       1       0       0   \n",
      "7        0       0       0       0       0       0       0       1       0   \n",
      "8        0       0       0       0       0       0       0       0       1   \n",
      "9        0       0       0       0       0       0       0       0       0   \n",
      "10       0       0       0       0       0       0       0       0       0   \n",
      "11       0       0       0       0       0       0       0       0       0   \n",
      "\n",
      "    8.000   16.000  NaN     \n",
      "0        0       0       0  \n",
      "1        0       0       0  \n",
      "2        0       0       0  \n",
      "3        0       0       0  \n",
      "4        0       0       0  \n",
      "5        0       0       0  \n",
      "6        0       0       0  \n",
      "7        0       0       0  \n",
      "8        0       0       0  \n",
      "9        1       0       0  \n",
      "10       0       1       0  \n",
      "11       0       0       1  \n"
     ]
    }
   ],
   "source": [
    "import pandas as pd\n",
    "import numpy as np\n",
    "\n",
    "# Sample data\n",
    "data = {\n",
    "    'Values': [1.5e-02, 3.0e-02, 6.0e-02, 1.2e-01, 2.5e-01, 5.0e-01, 1.0e+00, 2.0e+00, 4.0e+00, 8.0e+00, 1.6e+01, np.nan]\n",
    "}\n",
    "\n",
    "def one_hot_encode_df(data):\n",
    "    # Create a DataFrame from the data\n",
    "    df = pd.DataFrame(data)\n",
    "    \n",
    "    # One-hot encode the data, converting NaN values as well\n",
    "    # 'prefix' can be adjusted based on preference for column naming\n",
    "    one_hot_encoded_df = pd.get_dummies(df.iloc[:,0], dummy_na=True)\n",
    "    \n",
    "    return one_hot_encoded_df\n",
    "\n",
    "df = one_hot_encode_df(data)\n",
    "print(df)\n"
   ]
  },
  {
   "cell_type": "code",
   "execution_count": 91,
   "metadata": {},
   "outputs": [
    {
     "data": {
      "text/plain": [
       "array([1.2e-01, 3.0e-02, 8.0e+00, 2.0e+00,     nan, 2.5e-01, 1.0e+00,\n",
       "       5.0e-01, 4.0e+00, 1.6e+01, 1.5e-02, 6.0e-02])"
      ]
     },
     "execution_count": 91,
     "metadata": {},
     "output_type": "execute_result"
    }
   ],
   "source": [
    "cryptic_clean['RIF_MIC'].unique()"
   ]
  },
  {
   "cell_type": "code",
   "execution_count": 110,
   "metadata": {},
   "outputs": [
    {
     "data": {
      "text/html": [
       "<div>\n",
       "<style scoped>\n",
       "    .dataframe tbody tr th:only-of-type {\n",
       "        vertical-align: middle;\n",
       "    }\n",
       "\n",
       "    .dataframe tbody tr th {\n",
       "        vertical-align: top;\n",
       "    }\n",
       "\n",
       "    .dataframe thead th {\n",
       "        text-align: right;\n",
       "    }\n",
       "</style>\n",
       "<table border=\"1\" class=\"dataframe\">\n",
       "  <thead>\n",
       "    <tr style=\"text-align: right;\">\n",
       "      <th></th>\n",
       "      <th>UNIQUEID</th>\n",
       "      <th>AMI_BINARY_PHENOTYPE</th>\n",
       "      <th>BDQ_BINARY_PHENOTYPE</th>\n",
       "      <th>CFZ_BINARY_PHENOTYPE</th>\n",
       "      <th>DLM_BINARY_PHENOTYPE</th>\n",
       "      <th>EMB_BINARY_PHENOTYPE</th>\n",
       "      <th>ETH_BINARY_PHENOTYPE</th>\n",
       "      <th>INH_BINARY_PHENOTYPE</th>\n",
       "      <th>KAN_BINARY_PHENOTYPE</th>\n",
       "      <th>LEV_BINARY_PHENOTYPE</th>\n",
       "      <th>...</th>\n",
       "      <th>KAN_PHENOTYPE_QUALITY</th>\n",
       "      <th>LEV_PHENOTYPE_QUALITY</th>\n",
       "      <th>LZD_PHENOTYPE_QUALITY</th>\n",
       "      <th>MXF_PHENOTYPE_QUALITY</th>\n",
       "      <th>RIF_PHENOTYPE_QUALITY</th>\n",
       "      <th>RFB_PHENOTYPE_QUALITY</th>\n",
       "      <th>ENA_SAMPLE</th>\n",
       "      <th>VCF</th>\n",
       "      <th>REGENOTYPED_VCF</th>\n",
       "      <th>wgs_id</th>\n",
       "    </tr>\n",
       "  </thead>\n",
       "  <tbody>\n",
       "    <tr>\n",
       "      <th>0</th>\n",
       "      <td>site.05.subj.PTAN-0001.lab.TAN-001.iso.1</td>\n",
       "      <td>S</td>\n",
       "      <td>S</td>\n",
       "      <td>S</td>\n",
       "      <td>S</td>\n",
       "      <td>S</td>\n",
       "      <td>S</td>\n",
       "      <td>S</td>\n",
       "      <td>S</td>\n",
       "      <td>S</td>\n",
       "      <td>...</td>\n",
       "      <td>HIGH</td>\n",
       "      <td>LOW</td>\n",
       "      <td>HIGH</td>\n",
       "      <td>HIGH</td>\n",
       "      <td>HIGH</td>\n",
       "      <td>HIGH</td>\n",
       "      <td>ERS1987021</td>\n",
       "      <td>00/00/04/90/490/site.05.iso.1.subject.PTAN-000...</td>\n",
       "      <td>00/00/04/90/490/site.05.iso.1.subject.PTAN-000...</td>\n",
       "      <td>ERR2184202</td>\n",
       "    </tr>\n",
       "    <tr>\n",
       "      <th>1</th>\n",
       "      <td>site.05.subj.PTAN-0002.lab.TAN-004.iso.1</td>\n",
       "      <td>S</td>\n",
       "      <td>S</td>\n",
       "      <td>S</td>\n",
       "      <td>S</td>\n",
       "      <td>S</td>\n",
       "      <td>S</td>\n",
       "      <td>S</td>\n",
       "      <td>S</td>\n",
       "      <td>S</td>\n",
       "      <td>...</td>\n",
       "      <td>HIGH</td>\n",
       "      <td>HIGH</td>\n",
       "      <td>LOW</td>\n",
       "      <td>LOW</td>\n",
       "      <td>LOW</td>\n",
       "      <td>HIGH</td>\n",
       "      <td>ERS1987022</td>\n",
       "      <td>00/00/04/91/491/site.05.iso.1.subject.PTAN-000...</td>\n",
       "      <td>00/00/04/91/491/site.05.iso.1.subject.PTAN-000...</td>\n",
       "      <td>ERR2184203</td>\n",
       "    </tr>\n",
       "    <tr>\n",
       "      <th>2</th>\n",
       "      <td>site.05.subj.PTAN-0003.lab.TAN-006.iso.1</td>\n",
       "      <td>S</td>\n",
       "      <td>S</td>\n",
       "      <td>S</td>\n",
       "      <td>S</td>\n",
       "      <td>S</td>\n",
       "      <td>S</td>\n",
       "      <td>S</td>\n",
       "      <td>S</td>\n",
       "      <td>S</td>\n",
       "      <td>...</td>\n",
       "      <td>HIGH</td>\n",
       "      <td>HIGH</td>\n",
       "      <td>HIGH</td>\n",
       "      <td>LOW</td>\n",
       "      <td>HIGH</td>\n",
       "      <td>HIGH</td>\n",
       "      <td>ERS1987023</td>\n",
       "      <td>00/00/04/92/492/site.05.iso.1.subject.PTAN-000...</td>\n",
       "      <td>00/00/04/92/492/site.05.iso.1.subject.PTAN-000...</td>\n",
       "      <td>ERR2184204</td>\n",
       "    </tr>\n",
       "    <tr>\n",
       "      <th>3</th>\n",
       "      <td>site.05.subj.PTAN-0004.lab.TAN-007.iso.1</td>\n",
       "      <td>S</td>\n",
       "      <td>S</td>\n",
       "      <td>S</td>\n",
       "      <td>S</td>\n",
       "      <td>S</td>\n",
       "      <td>NaN</td>\n",
       "      <td>S</td>\n",
       "      <td>S</td>\n",
       "      <td>S</td>\n",
       "      <td>...</td>\n",
       "      <td>HIGH</td>\n",
       "      <td>HIGH</td>\n",
       "      <td>LOW</td>\n",
       "      <td>HIGH</td>\n",
       "      <td>HIGH</td>\n",
       "      <td>HIGH</td>\n",
       "      <td>ERS1987024</td>\n",
       "      <td>00/00/04/93/493/site.05.iso.1.subject.PTAN-000...</td>\n",
       "      <td>00/00/04/93/493/site.05.iso.1.subject.PTAN-000...</td>\n",
       "      <td>ERR2184205</td>\n",
       "    </tr>\n",
       "    <tr>\n",
       "      <th>4</th>\n",
       "      <td>site.05.subj.PTAN-0005.lab.TAN-010.iso.1</td>\n",
       "      <td>S</td>\n",
       "      <td>S</td>\n",
       "      <td>S</td>\n",
       "      <td>S</td>\n",
       "      <td>S</td>\n",
       "      <td>S</td>\n",
       "      <td>S</td>\n",
       "      <td>S</td>\n",
       "      <td>S</td>\n",
       "      <td>...</td>\n",
       "      <td>HIGH</td>\n",
       "      <td>HIGH</td>\n",
       "      <td>LOW</td>\n",
       "      <td>HIGH</td>\n",
       "      <td>HIGH</td>\n",
       "      <td>HIGH</td>\n",
       "      <td>ERS1987025</td>\n",
       "      <td>00/00/04/94/494/site.05.iso.1.subject.PTAN-000...</td>\n",
       "      <td>00/00/04/94/494/site.05.iso.1.subject.PTAN-000...</td>\n",
       "      <td>ERR2184206</td>\n",
       "    </tr>\n",
       "    <tr>\n",
       "      <th>...</th>\n",
       "      <td>...</td>\n",
       "      <td>...</td>\n",
       "      <td>...</td>\n",
       "      <td>...</td>\n",
       "      <td>...</td>\n",
       "      <td>...</td>\n",
       "      <td>...</td>\n",
       "      <td>...</td>\n",
       "      <td>...</td>\n",
       "      <td>...</td>\n",
       "      <td>...</td>\n",
       "      <td>...</td>\n",
       "      <td>...</td>\n",
       "      <td>...</td>\n",
       "      <td>...</td>\n",
       "      <td>...</td>\n",
       "      <td>...</td>\n",
       "      <td>...</td>\n",
       "      <td>...</td>\n",
       "      <td>...</td>\n",
       "      <td>...</td>\n",
       "    </tr>\n",
       "    <tr>\n",
       "      <th>12280</th>\n",
       "      <td>site.11.subj.XTB_18-071.lab.XTB_18-071.iso.1</td>\n",
       "      <td>S</td>\n",
       "      <td>S</td>\n",
       "      <td>S</td>\n",
       "      <td>S</td>\n",
       "      <td>R</td>\n",
       "      <td>R</td>\n",
       "      <td>R</td>\n",
       "      <td>S</td>\n",
       "      <td>R</td>\n",
       "      <td>...</td>\n",
       "      <td>MEDIUM</td>\n",
       "      <td>MEDIUM</td>\n",
       "      <td>MEDIUM</td>\n",
       "      <td>MEDIUM</td>\n",
       "      <td>MEDIUM</td>\n",
       "      <td>MEDIUM</td>\n",
       "      <td>ERS6421155</td>\n",
       "      <td>00/01/47/01/14701/site.11.iso.1.subject.XTB_18...</td>\n",
       "      <td>00/01/47/01/14701/site.11.iso.1.subject.XTB_18...</td>\n",
       "      <td>SAMEA8741572</td>\n",
       "    </tr>\n",
       "    <tr>\n",
       "      <th>12281</th>\n",
       "      <td>site.11.subj.XTB_18-072.lab.XTB_18-072.iso.1</td>\n",
       "      <td>S</td>\n",
       "      <td>S</td>\n",
       "      <td>S</td>\n",
       "      <td>S</td>\n",
       "      <td>I</td>\n",
       "      <td>I</td>\n",
       "      <td>R</td>\n",
       "      <td>S</td>\n",
       "      <td>R</td>\n",
       "      <td>...</td>\n",
       "      <td>MEDIUM</td>\n",
       "      <td>MEDIUM</td>\n",
       "      <td>MEDIUM</td>\n",
       "      <td>MEDIUM</td>\n",
       "      <td>MEDIUM</td>\n",
       "      <td>MEDIUM</td>\n",
       "      <td>ERS6421156</td>\n",
       "      <td>00/01/47/02/14702/site.11.iso.1.subject.XTB_18...</td>\n",
       "      <td>00/01/47/02/14702/site.11.iso.1.subject.XTB_18...</td>\n",
       "      <td>SAMEA8741573</td>\n",
       "    </tr>\n",
       "    <tr>\n",
       "      <th>12282</th>\n",
       "      <td>site.11.subj.XTB_18-074.lab.XTB_18-074.iso.1</td>\n",
       "      <td>S</td>\n",
       "      <td>S</td>\n",
       "      <td>S</td>\n",
       "      <td>S</td>\n",
       "      <td>I</td>\n",
       "      <td>R</td>\n",
       "      <td>R</td>\n",
       "      <td>R</td>\n",
       "      <td>S</td>\n",
       "      <td>...</td>\n",
       "      <td>MEDIUM</td>\n",
       "      <td>MEDIUM</td>\n",
       "      <td>MEDIUM</td>\n",
       "      <td>MEDIUM</td>\n",
       "      <td>MEDIUM</td>\n",
       "      <td>MEDIUM</td>\n",
       "      <td>ERS6421157</td>\n",
       "      <td>00/01/47/03/14703/site.11.iso.1.subject.XTB_18...</td>\n",
       "      <td>00/01/47/03/14703/site.11.iso.1.subject.XTB_18...</td>\n",
       "      <td>SAMEA8741574</td>\n",
       "    </tr>\n",
       "    <tr>\n",
       "      <th>12283</th>\n",
       "      <td>site.11.subj.XTB_18-075.lab.XTB_18-075.iso.1</td>\n",
       "      <td>S</td>\n",
       "      <td>S</td>\n",
       "      <td>S</td>\n",
       "      <td>S</td>\n",
       "      <td>S</td>\n",
       "      <td>R</td>\n",
       "      <td>R</td>\n",
       "      <td>S</td>\n",
       "      <td>S</td>\n",
       "      <td>...</td>\n",
       "      <td>MEDIUM</td>\n",
       "      <td>MEDIUM</td>\n",
       "      <td>MEDIUM</td>\n",
       "      <td>MEDIUM</td>\n",
       "      <td>MEDIUM</td>\n",
       "      <td>MEDIUM</td>\n",
       "      <td>ERS6421158</td>\n",
       "      <td>00/01/47/04/14704/site.11.iso.1.subject.XTB_18...</td>\n",
       "      <td>00/01/47/04/14704/site.11.iso.1.subject.XTB_18...</td>\n",
       "      <td>SAMEA8741575</td>\n",
       "    </tr>\n",
       "    <tr>\n",
       "      <th>12284</th>\n",
       "      <td>site.11.subj.XTB_18-076.lab.XTB_18-076.iso.1</td>\n",
       "      <td>S</td>\n",
       "      <td>S</td>\n",
       "      <td>S</td>\n",
       "      <td>S</td>\n",
       "      <td>I</td>\n",
       "      <td>I</td>\n",
       "      <td>R</td>\n",
       "      <td>S</td>\n",
       "      <td>R</td>\n",
       "      <td>...</td>\n",
       "      <td>MEDIUM</td>\n",
       "      <td>MEDIUM</td>\n",
       "      <td>MEDIUM</td>\n",
       "      <td>MEDIUM</td>\n",
       "      <td>MEDIUM</td>\n",
       "      <td>MEDIUM</td>\n",
       "      <td>ERS6421159</td>\n",
       "      <td>00/01/47/05/14705/site.11.iso.1.subject.XTB_18...</td>\n",
       "      <td>00/01/47/05/14705/site.11.iso.1.subject.XTB_18...</td>\n",
       "      <td>SAMEA8741576</td>\n",
       "    </tr>\n",
       "  </tbody>\n",
       "</table>\n",
       "<p>12285 rows × 43 columns</p>\n",
       "</div>"
      ],
      "text/plain": [
       "                                           UNIQUEID AMI_BINARY_PHENOTYPE  \\\n",
       "0          site.05.subj.PTAN-0001.lab.TAN-001.iso.1                    S   \n",
       "1          site.05.subj.PTAN-0002.lab.TAN-004.iso.1                    S   \n",
       "2          site.05.subj.PTAN-0003.lab.TAN-006.iso.1                    S   \n",
       "3          site.05.subj.PTAN-0004.lab.TAN-007.iso.1                    S   \n",
       "4          site.05.subj.PTAN-0005.lab.TAN-010.iso.1                    S   \n",
       "...                                             ...                  ...   \n",
       "12280  site.11.subj.XTB_18-071.lab.XTB_18-071.iso.1                    S   \n",
       "12281  site.11.subj.XTB_18-072.lab.XTB_18-072.iso.1                    S   \n",
       "12282  site.11.subj.XTB_18-074.lab.XTB_18-074.iso.1                    S   \n",
       "12283  site.11.subj.XTB_18-075.lab.XTB_18-075.iso.1                    S   \n",
       "12284  site.11.subj.XTB_18-076.lab.XTB_18-076.iso.1                    S   \n",
       "\n",
       "      BDQ_BINARY_PHENOTYPE CFZ_BINARY_PHENOTYPE DLM_BINARY_PHENOTYPE  \\\n",
       "0                        S                    S                    S   \n",
       "1                        S                    S                    S   \n",
       "2                        S                    S                    S   \n",
       "3                        S                    S                    S   \n",
       "4                        S                    S                    S   \n",
       "...                    ...                  ...                  ...   \n",
       "12280                    S                    S                    S   \n",
       "12281                    S                    S                    S   \n",
       "12282                    S                    S                    S   \n",
       "12283                    S                    S                    S   \n",
       "12284                    S                    S                    S   \n",
       "\n",
       "      EMB_BINARY_PHENOTYPE ETH_BINARY_PHENOTYPE INH_BINARY_PHENOTYPE  \\\n",
       "0                        S                    S                    S   \n",
       "1                        S                    S                    S   \n",
       "2                        S                    S                    S   \n",
       "3                        S                  NaN                    S   \n",
       "4                        S                    S                    S   \n",
       "...                    ...                  ...                  ...   \n",
       "12280                    R                    R                    R   \n",
       "12281                    I                    I                    R   \n",
       "12282                    I                    R                    R   \n",
       "12283                    S                    R                    R   \n",
       "12284                    I                    I                    R   \n",
       "\n",
       "      KAN_BINARY_PHENOTYPE LEV_BINARY_PHENOTYPE  ... KAN_PHENOTYPE_QUALITY  \\\n",
       "0                        S                    S  ...                  HIGH   \n",
       "1                        S                    S  ...                  HIGH   \n",
       "2                        S                    S  ...                  HIGH   \n",
       "3                        S                    S  ...                  HIGH   \n",
       "4                        S                    S  ...                  HIGH   \n",
       "...                    ...                  ...  ...                   ...   \n",
       "12280                    S                    R  ...                MEDIUM   \n",
       "12281                    S                    R  ...                MEDIUM   \n",
       "12282                    R                    S  ...                MEDIUM   \n",
       "12283                    S                    S  ...                MEDIUM   \n",
       "12284                    S                    R  ...                MEDIUM   \n",
       "\n",
       "      LEV_PHENOTYPE_QUALITY LZD_PHENOTYPE_QUALITY MXF_PHENOTYPE_QUALITY  \\\n",
       "0                       LOW                  HIGH                  HIGH   \n",
       "1                      HIGH                   LOW                   LOW   \n",
       "2                      HIGH                  HIGH                   LOW   \n",
       "3                      HIGH                   LOW                  HIGH   \n",
       "4                      HIGH                   LOW                  HIGH   \n",
       "...                     ...                   ...                   ...   \n",
       "12280                MEDIUM                MEDIUM                MEDIUM   \n",
       "12281                MEDIUM                MEDIUM                MEDIUM   \n",
       "12282                MEDIUM                MEDIUM                MEDIUM   \n",
       "12283                MEDIUM                MEDIUM                MEDIUM   \n",
       "12284                MEDIUM                MEDIUM                MEDIUM   \n",
       "\n",
       "       RIF_PHENOTYPE_QUALITY  RFB_PHENOTYPE_QUALITY  ENA_SAMPLE  \\\n",
       "0                       HIGH                   HIGH  ERS1987021   \n",
       "1                        LOW                   HIGH  ERS1987022   \n",
       "2                       HIGH                   HIGH  ERS1987023   \n",
       "3                       HIGH                   HIGH  ERS1987024   \n",
       "4                       HIGH                   HIGH  ERS1987025   \n",
       "...                      ...                    ...         ...   \n",
       "12280                 MEDIUM                 MEDIUM  ERS6421155   \n",
       "12281                 MEDIUM                 MEDIUM  ERS6421156   \n",
       "12282                 MEDIUM                 MEDIUM  ERS6421157   \n",
       "12283                 MEDIUM                 MEDIUM  ERS6421158   \n",
       "12284                 MEDIUM                 MEDIUM  ERS6421159   \n",
       "\n",
       "                                                     VCF  \\\n",
       "0      00/00/04/90/490/site.05.iso.1.subject.PTAN-000...   \n",
       "1      00/00/04/91/491/site.05.iso.1.subject.PTAN-000...   \n",
       "2      00/00/04/92/492/site.05.iso.1.subject.PTAN-000...   \n",
       "3      00/00/04/93/493/site.05.iso.1.subject.PTAN-000...   \n",
       "4      00/00/04/94/494/site.05.iso.1.subject.PTAN-000...   \n",
       "...                                                  ...   \n",
       "12280  00/01/47/01/14701/site.11.iso.1.subject.XTB_18...   \n",
       "12281  00/01/47/02/14702/site.11.iso.1.subject.XTB_18...   \n",
       "12282  00/01/47/03/14703/site.11.iso.1.subject.XTB_18...   \n",
       "12283  00/01/47/04/14704/site.11.iso.1.subject.XTB_18...   \n",
       "12284  00/01/47/05/14705/site.11.iso.1.subject.XTB_18...   \n",
       "\n",
       "                                         REGENOTYPED_VCF        wgs_id  \n",
       "0      00/00/04/90/490/site.05.iso.1.subject.PTAN-000...    ERR2184202  \n",
       "1      00/00/04/91/491/site.05.iso.1.subject.PTAN-000...    ERR2184203  \n",
       "2      00/00/04/92/492/site.05.iso.1.subject.PTAN-000...    ERR2184204  \n",
       "3      00/00/04/93/493/site.05.iso.1.subject.PTAN-000...    ERR2184205  \n",
       "4      00/00/04/94/494/site.05.iso.1.subject.PTAN-000...    ERR2184206  \n",
       "...                                                  ...           ...  \n",
       "12280  00/01/47/01/14701/site.11.iso.1.subject.XTB_18...  SAMEA8741572  \n",
       "12281  00/01/47/02/14702/site.11.iso.1.subject.XTB_18...  SAMEA8741573  \n",
       "12282  00/01/47/03/14703/site.11.iso.1.subject.XTB_18...  SAMEA8741574  \n",
       "12283  00/01/47/04/14704/site.11.iso.1.subject.XTB_18...  SAMEA8741575  \n",
       "12284  00/01/47/05/14705/site.11.iso.1.subject.XTB_18...  SAMEA8741576  \n",
       "\n",
       "[12285 rows x 43 columns]"
      ]
     },
     "execution_count": 110,
     "metadata": {},
     "output_type": "execute_result"
    }
   ],
   "source": [
    "cryptic_clean"
   ]
  },
  {
   "cell_type": "code",
   "execution_count": 94,
   "metadata": {},
   "outputs": [
    {
     "data": {
      "text/plain": [
       "Float64Index([0.015, 0.03, 0.06, 0.12, 0.25, 0.5, 1.0, 2.0, 4.0, 8.0, 16.0,\n",
       "              nan],\n",
       "             dtype='float64')"
      ]
     },
     "execution_count": 94,
     "metadata": {},
     "output_type": "execute_result"
    }
   ],
   "source": [
    "df.columns"
   ]
  },
  {
   "cell_type": "code",
   "execution_count": 104,
   "metadata": {},
   "outputs": [],
   "source": [
    "df = one_hot_encode_df(cryptic_clean['RIF_MIC'])\n",
    "df.drop(columns=np.nan, inplace=True)"
   ]
  },
  {
   "cell_type": "code",
   "execution_count": 105,
   "metadata": {},
   "outputs": [
    {
     "data": {
      "text/html": [
       "<div>\n",
       "<style scoped>\n",
       "    .dataframe tbody tr th:only-of-type {\n",
       "        vertical-align: middle;\n",
       "    }\n",
       "\n",
       "    .dataframe tbody tr th {\n",
       "        vertical-align: top;\n",
       "    }\n",
       "\n",
       "    .dataframe thead th {\n",
       "        text-align: right;\n",
       "    }\n",
       "</style>\n",
       "<table border=\"1\" class=\"dataframe\">\n",
       "  <thead>\n",
       "    <tr style=\"text-align: right;\">\n",
       "      <th></th>\n",
       "      <th>0.015</th>\n",
       "      <th>0.030</th>\n",
       "      <th>0.060</th>\n",
       "      <th>0.120</th>\n",
       "      <th>0.250</th>\n",
       "      <th>0.500</th>\n",
       "      <th>1.000</th>\n",
       "      <th>2.000</th>\n",
       "      <th>4.000</th>\n",
       "      <th>8.000</th>\n",
       "      <th>16.000</th>\n",
       "    </tr>\n",
       "  </thead>\n",
       "  <tbody>\n",
       "    <tr>\n",
       "      <th>0</th>\n",
       "      <td>0</td>\n",
       "      <td>0</td>\n",
       "      <td>0</td>\n",
       "      <td>1</td>\n",
       "      <td>0</td>\n",
       "      <td>0</td>\n",
       "      <td>0</td>\n",
       "      <td>0</td>\n",
       "      <td>0</td>\n",
       "      <td>0</td>\n",
       "      <td>0</td>\n",
       "    </tr>\n",
       "    <tr>\n",
       "      <th>1</th>\n",
       "      <td>0</td>\n",
       "      <td>0</td>\n",
       "      <td>0</td>\n",
       "      <td>1</td>\n",
       "      <td>0</td>\n",
       "      <td>0</td>\n",
       "      <td>0</td>\n",
       "      <td>0</td>\n",
       "      <td>0</td>\n",
       "      <td>0</td>\n",
       "      <td>0</td>\n",
       "    </tr>\n",
       "    <tr>\n",
       "      <th>2</th>\n",
       "      <td>0</td>\n",
       "      <td>1</td>\n",
       "      <td>0</td>\n",
       "      <td>0</td>\n",
       "      <td>0</td>\n",
       "      <td>0</td>\n",
       "      <td>0</td>\n",
       "      <td>0</td>\n",
       "      <td>0</td>\n",
       "      <td>0</td>\n",
       "      <td>0</td>\n",
       "    </tr>\n",
       "    <tr>\n",
       "      <th>3</th>\n",
       "      <td>0</td>\n",
       "      <td>0</td>\n",
       "      <td>0</td>\n",
       "      <td>1</td>\n",
       "      <td>0</td>\n",
       "      <td>0</td>\n",
       "      <td>0</td>\n",
       "      <td>0</td>\n",
       "      <td>0</td>\n",
       "      <td>0</td>\n",
       "      <td>0</td>\n",
       "    </tr>\n",
       "    <tr>\n",
       "      <th>4</th>\n",
       "      <td>0</td>\n",
       "      <td>1</td>\n",
       "      <td>0</td>\n",
       "      <td>0</td>\n",
       "      <td>0</td>\n",
       "      <td>0</td>\n",
       "      <td>0</td>\n",
       "      <td>0</td>\n",
       "      <td>0</td>\n",
       "      <td>0</td>\n",
       "      <td>0</td>\n",
       "    </tr>\n",
       "    <tr>\n",
       "      <th>...</th>\n",
       "      <td>...</td>\n",
       "      <td>...</td>\n",
       "      <td>...</td>\n",
       "      <td>...</td>\n",
       "      <td>...</td>\n",
       "      <td>...</td>\n",
       "      <td>...</td>\n",
       "      <td>...</td>\n",
       "      <td>...</td>\n",
       "      <td>...</td>\n",
       "      <td>...</td>\n",
       "    </tr>\n",
       "    <tr>\n",
       "      <th>12280</th>\n",
       "      <td>0</td>\n",
       "      <td>0</td>\n",
       "      <td>0</td>\n",
       "      <td>0</td>\n",
       "      <td>0</td>\n",
       "      <td>0</td>\n",
       "      <td>0</td>\n",
       "      <td>0</td>\n",
       "      <td>0</td>\n",
       "      <td>0</td>\n",
       "      <td>1</td>\n",
       "    </tr>\n",
       "    <tr>\n",
       "      <th>12281</th>\n",
       "      <td>0</td>\n",
       "      <td>0</td>\n",
       "      <td>0</td>\n",
       "      <td>0</td>\n",
       "      <td>0</td>\n",
       "      <td>0</td>\n",
       "      <td>0</td>\n",
       "      <td>0</td>\n",
       "      <td>0</td>\n",
       "      <td>0</td>\n",
       "      <td>1</td>\n",
       "    </tr>\n",
       "    <tr>\n",
       "      <th>12282</th>\n",
       "      <td>0</td>\n",
       "      <td>0</td>\n",
       "      <td>0</td>\n",
       "      <td>0</td>\n",
       "      <td>0</td>\n",
       "      <td>0</td>\n",
       "      <td>0</td>\n",
       "      <td>0</td>\n",
       "      <td>0</td>\n",
       "      <td>0</td>\n",
       "      <td>1</td>\n",
       "    </tr>\n",
       "    <tr>\n",
       "      <th>12283</th>\n",
       "      <td>0</td>\n",
       "      <td>0</td>\n",
       "      <td>1</td>\n",
       "      <td>0</td>\n",
       "      <td>0</td>\n",
       "      <td>0</td>\n",
       "      <td>0</td>\n",
       "      <td>0</td>\n",
       "      <td>0</td>\n",
       "      <td>0</td>\n",
       "      <td>0</td>\n",
       "    </tr>\n",
       "    <tr>\n",
       "      <th>12284</th>\n",
       "      <td>0</td>\n",
       "      <td>0</td>\n",
       "      <td>0</td>\n",
       "      <td>0</td>\n",
       "      <td>0</td>\n",
       "      <td>0</td>\n",
       "      <td>0</td>\n",
       "      <td>0</td>\n",
       "      <td>0</td>\n",
       "      <td>0</td>\n",
       "      <td>1</td>\n",
       "    </tr>\n",
       "  </tbody>\n",
       "</table>\n",
       "<p>12285 rows × 11 columns</p>\n",
       "</div>"
      ],
      "text/plain": [
       "       0.015   0.030   0.060   0.120   0.250   0.500   1.000   2.000   4.000   \\\n",
       "0           0       0       0       1       0       0       0       0       0   \n",
       "1           0       0       0       1       0       0       0       0       0   \n",
       "2           0       1       0       0       0       0       0       0       0   \n",
       "3           0       0       0       1       0       0       0       0       0   \n",
       "4           0       1       0       0       0       0       0       0       0   \n",
       "...       ...     ...     ...     ...     ...     ...     ...     ...     ...   \n",
       "12280       0       0       0       0       0       0       0       0       0   \n",
       "12281       0       0       0       0       0       0       0       0       0   \n",
       "12282       0       0       0       0       0       0       0       0       0   \n",
       "12283       0       0       1       0       0       0       0       0       0   \n",
       "12284       0       0       0       0       0       0       0       0       0   \n",
       "\n",
       "       8.000   16.000  \n",
       "0           0       0  \n",
       "1           0       0  \n",
       "2           0       0  \n",
       "3           0       0  \n",
       "4           0       0  \n",
       "...       ...     ...  \n",
       "12280       0       1  \n",
       "12281       0       1  \n",
       "12282       0       1  \n",
       "12283       0       0  \n",
       "12284       0       1  \n",
       "\n",
       "[12285 rows x 11 columns]"
      ]
     },
     "execution_count": 105,
     "metadata": {},
     "output_type": "execute_result"
    }
   ],
   "source": [
    "df"
   ]
  },
  {
   "cell_type": "code",
   "execution_count": 106,
   "metadata": {},
   "outputs": [
    {
     "data": {
      "text/plain": [
       "array([0.12, 0.03, 0.25, ..., 0.25, 8.  , 0.06])"
      ]
     },
     "execution_count": 106,
     "metadata": {},
     "output_type": "execute_result"
    }
   ],
   "source": [
    "np.array([float(x) for x in cryptic_mic_ordered['RIF_MIC']])[:int(0.9*cryptic_mic_ordered.shape[0])]"
   ]
  },
  {
   "cell_type": "code",
   "execution_count": 107,
   "metadata": {},
   "outputs": [],
   "source": [
    "# np.savetxt('data_aa/RIF_MIC.csv', np.array([float(x) for x in cryptic_mic_ordered['RIF_MIC']]), delimiter=',')   # X is an array\n",
    "# np.savetxt('data_aa/train_RIF_MIC.csv', np.array([float(x) for x in cryptic_mic_ordered['RIF_MIC']])[:int(0.9*cryptic_mic_ordered.shape[0])], delimiter=',')   # X is an array\n",
    "# np.savetxt('data_aa/test_RIF_MIC.csv', np.array([float(x) for x in cryptic_mic_ordered['RIF_MIC']])[int(0.9*cryptic_mic_ordered.shape[0]):], delimiter=',')   # X is an array"
   ]
  },
  {
   "cell_type": "code",
   "execution_count": 108,
   "metadata": {},
   "outputs": [],
   "source": [
    "df.to_csv('data_aa/RIF_MIC_class.csv', index=False, header=True)"
   ]
  },
  {
   "cell_type": "code",
   "execution_count": 109,
   "metadata": {},
   "outputs": [],
   "source": [
    "df.iloc[:int(0.9*cryptic_mic_ordered.shape[0]), :].to_csv('data_aa/train_RIF_MIC_class.csv', index=False, header=True)\n",
    "df.iloc[int(0.9*cryptic_mic_ordered.shape[0]):, :].to_csv('data_aa/test_RIF_MIC_class.csv', index=False, header=True)"
   ]
  },
  {
   "cell_type": "code",
   "execution_count": null,
   "metadata": {},
   "outputs": [],
   "source": []
  },
  {
   "cell_type": "markdown",
   "metadata": {},
   "source": [
    "# fm Data"
   ]
  },
  {
   "cell_type": "code",
   "execution_count": 91,
   "metadata": {},
   "outputs": [],
   "source": [
    "fm_aa = pd.read_csv('/mnt/storageG1/lwang/Projects/tb_dr_MIC_v2/data_aa/cryptic_fm_transposed.csv')\n",
    "fm_aa = fm_aa.loc[:, fm_aa.columns!='NA']\n",
    "fm_aa = fm_aa.transpose()\n",
    "fm_aa = fm_aa.iloc[1:,:]"
   ]
  },
  {
   "cell_type": "code",
   "execution_count": 113,
   "metadata": {},
   "outputs": [],
   "source": [
    "fm_aa.to_csv('data_aa/fm_aa.csv', index=False)"
   ]
  },
  {
   "cell_type": "code",
   "execution_count": 108,
   "metadata": {},
   "outputs": [
    {
     "name": "stderr",
     "output_type": "stream",
     "text": [
      "/tmp/ipykernel_106569/1595918224.py:2: SettingWithCopyWarning: \n",
      "A value is trying to be set on a copy of a slice from a DataFrame.\n",
      "Try using .loc[row_indexer,col_indexer] = value instead\n",
      "\n",
      "See the caveats in the documentation: https://pandas.pydata.org/pandas-docs/stable/user_guide/indexing.html#returning-a-view-versus-a-copy\n",
      "  mic_aa['wgs_id'] = pd.Categorical(mic_aa['wgs_id'], categories=fm_aa.index.unique().tolist(), ordered=True)\n"
     ]
    }
   ],
   "source": [
    "mic_aa = cryptic_mic[cryptic_mic['wgs_id'].isin(fm_aa.index.unique())]#.iloc[:,14:27]\n",
    "mic_aa['wgs_id'] = pd.Categorical(mic_aa['wgs_id'], categories=fm_aa.index.unique().tolist(), ordered=True)\n",
    "mic_aa = mic_aa.sort_values('wgs_id')"
   ]
  },
  {
   "cell_type": "code",
   "execution_count": 112,
   "metadata": {},
   "outputs": [],
   "source": [
    "mic_aa = mic_aa.iloc[:,14:27].astype('float')\n",
    "mic_aa.to_csv('data_aa/mic_aa_fm.csv', index=False)"
   ]
  },
  {
   "cell_type": "code",
   "execution_count": 114,
   "metadata": {},
   "outputs": [],
   "source": [
    "mic_aa.iloc[:int(mic_aa.shape[0]*0.9),:].to_csv('data_aa/mic_aa_fm_train.csv', index=False)\n",
    "mic_aa.iloc[int(mic_aa.shape[0]*0.9):,:].to_csv('data_aa/mix_aa_fm_test.csv', index=False)\n",
    "\n",
    "fm_aa.iloc[:int(fm_aa.shape[0]*0.9),:].to_csv('data_aa/fm_aa_train.csv', index=False)\n",
    "fm_aa.iloc[int(fm_aa.shape[0]*0.9):,:].to_csv('data_aa/fm_aa_test.csv', index=False)"
   ]
  },
  {
   "cell_type": "code",
   "execution_count": 104,
   "metadata": {},
   "outputs": [
    {
     "data": {
      "text/plain": [
       "Index(['ERR4810491', 'ERR4810493', 'ERR4810494', 'ERR4810495', 'ERR4810497',\n",
       "       'ERR4810498', 'ERR4810507', 'ERR4810509', 'ERR4810512', 'ERR4810516',\n",
       "       ...\n",
       "       'ERR8699755', 'ERR8686563', 'ERR8699762', 'ERR8699756', 'ERR8699805',\n",
       "       'ERR8699231', 'ERR8699764', 'ERR8699789', 'ERR8699232', 'ERR8699267'],\n",
       "      dtype='object', length=10824)"
      ]
     },
     "execution_count": 104,
     "metadata": {},
     "output_type": "execute_result"
    }
   ],
   "source": [
    "fm_aa.index.unique()"
   ]
  },
  {
   "cell_type": "code",
   "execution_count": 84,
   "metadata": {},
   "outputs": [
    {
     "data": {
      "text/html": [
       "<div>\n",
       "<style scoped>\n",
       "    .dataframe tbody tr th:only-of-type {\n",
       "        vertical-align: middle;\n",
       "    }\n",
       "\n",
       "    .dataframe tbody tr th {\n",
       "        vertical-align: top;\n",
       "    }\n",
       "\n",
       "    .dataframe thead th {\n",
       "        text-align: right;\n",
       "    }\n",
       "</style>\n",
       "<table border=\"1\" class=\"dataframe\">\n",
       "  <thead>\n",
       "    <tr style=\"text-align: right;\">\n",
       "      <th></th>\n",
       "      <th>0</th>\n",
       "      <th>1</th>\n",
       "      <th>2</th>\n",
       "      <th>3</th>\n",
       "      <th>4</th>\n",
       "      <th>5</th>\n",
       "      <th>6</th>\n",
       "      <th>7</th>\n",
       "      <th>8</th>\n",
       "      <th>9</th>\n",
       "      <th>...</th>\n",
       "      <th>9616</th>\n",
       "      <th>9617</th>\n",
       "      <th>9618</th>\n",
       "      <th>9619</th>\n",
       "      <th>9620</th>\n",
       "      <th>9621</th>\n",
       "      <th>9622</th>\n",
       "      <th>9623</th>\n",
       "      <th>9624</th>\n",
       "      <th>9625</th>\n",
       "    </tr>\n",
       "  </thead>\n",
       "  <tbody>\n",
       "    <tr>\n",
       "      <th>Unnamed: 0</th>\n",
       "      <td>Chromosome_11_C</td>\n",
       "      <td>Chromosome_22_C</td>\n",
       "      <td>Chromosome_29_G</td>\n",
       "      <td>Chromosome_31_G</td>\n",
       "      <td>Chromosome_69_T</td>\n",
       "      <td>Chromosome_71_T</td>\n",
       "      <td>Chromosome_76_C</td>\n",
       "      <td>Chromosome_78_G</td>\n",
       "      <td>Chromosome_82_C</td>\n",
       "      <td>Chromosome_88_A</td>\n",
       "      <td>...</td>\n",
       "      <td>Chromosome_4338506_A</td>\n",
       "      <td>Chromosome_4338508_C</td>\n",
       "      <td>Chromosome_4338508_G</td>\n",
       "      <td>Chromosome_4338513_A</td>\n",
       "      <td>Chromosome_4338514_C</td>\n",
       "      <td>Chromosome_4338514_G</td>\n",
       "      <td>Chromosome_4338516_TCGCATTAACCGACGGGTCGGCCCAGG...</td>\n",
       "      <td>Chromosome_4338518_G</td>\n",
       "      <td>Chromosome_4338520_G</td>\n",
       "      <td>Chromosome_4338521_A</td>\n",
       "    </tr>\n",
       "    <tr>\n",
       "      <th>ERR4810489</th>\n",
       "      <td>0</td>\n",
       "      <td>0</td>\n",
       "      <td>0</td>\n",
       "      <td>0</td>\n",
       "      <td>0</td>\n",
       "      <td>0</td>\n",
       "      <td>0</td>\n",
       "      <td>0</td>\n",
       "      <td>0</td>\n",
       "      <td>0</td>\n",
       "      <td>...</td>\n",
       "      <td>0</td>\n",
       "      <td>0</td>\n",
       "      <td>0</td>\n",
       "      <td>0</td>\n",
       "      <td>0</td>\n",
       "      <td>0</td>\n",
       "      <td>0</td>\n",
       "      <td>0</td>\n",
       "      <td>0</td>\n",
       "      <td>0</td>\n",
       "    </tr>\n",
       "    <tr>\n",
       "      <th>ERR4810491</th>\n",
       "      <td>0.0</td>\n",
       "      <td>0.0</td>\n",
       "      <td>0.0</td>\n",
       "      <td>0.0</td>\n",
       "      <td>0.0</td>\n",
       "      <td>0.0</td>\n",
       "      <td>0.0</td>\n",
       "      <td>0.0</td>\n",
       "      <td>0.0</td>\n",
       "      <td>0.0</td>\n",
       "      <td>...</td>\n",
       "      <td>0.0</td>\n",
       "      <td>0.0</td>\n",
       "      <td>0.0</td>\n",
       "      <td>0.0</td>\n",
       "      <td>0.0</td>\n",
       "      <td>0.0</td>\n",
       "      <td>0.0</td>\n",
       "      <td>0.0</td>\n",
       "      <td>0.0</td>\n",
       "      <td>0.0</td>\n",
       "    </tr>\n",
       "    <tr>\n",
       "      <th>ERR4810493</th>\n",
       "      <td>0.0</td>\n",
       "      <td>0.0</td>\n",
       "      <td>0.0</td>\n",
       "      <td>0.0</td>\n",
       "      <td>0.0</td>\n",
       "      <td>0.0</td>\n",
       "      <td>0.0</td>\n",
       "      <td>0.0</td>\n",
       "      <td>0.0</td>\n",
       "      <td>0.0</td>\n",
       "      <td>...</td>\n",
       "      <td>0.0</td>\n",
       "      <td>0.0</td>\n",
       "      <td>0.0</td>\n",
       "      <td>0.0</td>\n",
       "      <td>0.0</td>\n",
       "      <td>0.0</td>\n",
       "      <td>0.0</td>\n",
       "      <td>0.0</td>\n",
       "      <td>0.0</td>\n",
       "      <td>0.0</td>\n",
       "    </tr>\n",
       "    <tr>\n",
       "      <th>ERR4810494</th>\n",
       "      <td>0</td>\n",
       "      <td>0</td>\n",
       "      <td>0</td>\n",
       "      <td>0</td>\n",
       "      <td>0</td>\n",
       "      <td>0</td>\n",
       "      <td>0</td>\n",
       "      <td>0</td>\n",
       "      <td>0</td>\n",
       "      <td>0</td>\n",
       "      <td>...</td>\n",
       "      <td>0</td>\n",
       "      <td>0</td>\n",
       "      <td>0</td>\n",
       "      <td>0</td>\n",
       "      <td>0</td>\n",
       "      <td>0</td>\n",
       "      <td>0</td>\n",
       "      <td>0</td>\n",
       "      <td>0</td>\n",
       "      <td>0</td>\n",
       "    </tr>\n",
       "    <tr>\n",
       "      <th>...</th>\n",
       "      <td>...</td>\n",
       "      <td>...</td>\n",
       "      <td>...</td>\n",
       "      <td>...</td>\n",
       "      <td>...</td>\n",
       "      <td>...</td>\n",
       "      <td>...</td>\n",
       "      <td>...</td>\n",
       "      <td>...</td>\n",
       "      <td>...</td>\n",
       "      <td>...</td>\n",
       "      <td>...</td>\n",
       "      <td>...</td>\n",
       "      <td>...</td>\n",
       "      <td>...</td>\n",
       "      <td>...</td>\n",
       "      <td>...</td>\n",
       "      <td>...</td>\n",
       "      <td>...</td>\n",
       "      <td>...</td>\n",
       "      <td>...</td>\n",
       "    </tr>\n",
       "    <tr>\n",
       "      <th>ERR8699764</th>\n",
       "      <td>0</td>\n",
       "      <td>0</td>\n",
       "      <td>0</td>\n",
       "      <td>0</td>\n",
       "      <td>0</td>\n",
       "      <td>0</td>\n",
       "      <td>0</td>\n",
       "      <td>0</td>\n",
       "      <td>0</td>\n",
       "      <td>0</td>\n",
       "      <td>...</td>\n",
       "      <td>0</td>\n",
       "      <td>0</td>\n",
       "      <td>0</td>\n",
       "      <td>0</td>\n",
       "      <td>0</td>\n",
       "      <td>0</td>\n",
       "      <td>0</td>\n",
       "      <td>0</td>\n",
       "      <td>0</td>\n",
       "      <td>0</td>\n",
       "    </tr>\n",
       "    <tr>\n",
       "      <th>ERR8699789</th>\n",
       "      <td>0.0</td>\n",
       "      <td>0.0</td>\n",
       "      <td>0.0</td>\n",
       "      <td>0.0</td>\n",
       "      <td>0.0</td>\n",
       "      <td>0.0</td>\n",
       "      <td>0.0</td>\n",
       "      <td>0.0</td>\n",
       "      <td>0.0</td>\n",
       "      <td>0.0</td>\n",
       "      <td>...</td>\n",
       "      <td>0.0</td>\n",
       "      <td>0.0</td>\n",
       "      <td>0.0</td>\n",
       "      <td>0.0</td>\n",
       "      <td>0.0</td>\n",
       "      <td>0.0</td>\n",
       "      <td>0.0</td>\n",
       "      <td>0.0</td>\n",
       "      <td>0.0</td>\n",
       "      <td>0.0</td>\n",
       "    </tr>\n",
       "    <tr>\n",
       "      <th>ERR8699232</th>\n",
       "      <td>0</td>\n",
       "      <td>0</td>\n",
       "      <td>0</td>\n",
       "      <td>0</td>\n",
       "      <td>0</td>\n",
       "      <td>0</td>\n",
       "      <td>0</td>\n",
       "      <td>0</td>\n",
       "      <td>0</td>\n",
       "      <td>0</td>\n",
       "      <td>...</td>\n",
       "      <td>0</td>\n",
       "      <td>0</td>\n",
       "      <td>0</td>\n",
       "      <td>0</td>\n",
       "      <td>0</td>\n",
       "      <td>0</td>\n",
       "      <td>0</td>\n",
       "      <td>0</td>\n",
       "      <td>0</td>\n",
       "      <td>0</td>\n",
       "    </tr>\n",
       "    <tr>\n",
       "      <th>ERR8699267</th>\n",
       "      <td>0</td>\n",
       "      <td>0</td>\n",
       "      <td>0</td>\n",
       "      <td>0</td>\n",
       "      <td>0</td>\n",
       "      <td>0</td>\n",
       "      <td>0</td>\n",
       "      <td>0</td>\n",
       "      <td>0</td>\n",
       "      <td>0</td>\n",
       "      <td>...</td>\n",
       "      <td>0</td>\n",
       "      <td>0</td>\n",
       "      <td>0</td>\n",
       "      <td>0</td>\n",
       "      <td>0</td>\n",
       "      <td>0</td>\n",
       "      <td>0</td>\n",
       "      <td>0</td>\n",
       "      <td>0</td>\n",
       "      <td>0</td>\n",
       "    </tr>\n",
       "    <tr>\n",
       "      <th>NA</th>\n",
       "      <td>False</td>\n",
       "      <td>False</td>\n",
       "      <td>False</td>\n",
       "      <td>False</td>\n",
       "      <td>False</td>\n",
       "      <td>False</td>\n",
       "      <td>False</td>\n",
       "      <td>False</td>\n",
       "      <td>False</td>\n",
       "      <td>False</td>\n",
       "      <td>...</td>\n",
       "      <td>False</td>\n",
       "      <td>False</td>\n",
       "      <td>False</td>\n",
       "      <td>False</td>\n",
       "      <td>False</td>\n",
       "      <td>False</td>\n",
       "      <td>False</td>\n",
       "      <td>False</td>\n",
       "      <td>False</td>\n",
       "      <td>False</td>\n",
       "    </tr>\n",
       "  </tbody>\n",
       "</table>\n",
       "<p>10827 rows × 9626 columns</p>\n",
       "</div>"
      ],
      "text/plain": [
       "                       0                1                2     \\\n",
       "Unnamed: 0  Chromosome_11_C  Chromosome_22_C  Chromosome_29_G   \n",
       "ERR4810489                0                0                0   \n",
       "ERR4810491              0.0              0.0              0.0   \n",
       "ERR4810493              0.0              0.0              0.0   \n",
       "ERR4810494                0                0                0   \n",
       "...                     ...              ...              ...   \n",
       "ERR8699764                0                0                0   \n",
       "ERR8699789              0.0              0.0              0.0   \n",
       "ERR8699232                0                0                0   \n",
       "ERR8699267                0                0                0   \n",
       "NA                    False            False            False   \n",
       "\n",
       "                       3                4                5     \\\n",
       "Unnamed: 0  Chromosome_31_G  Chromosome_69_T  Chromosome_71_T   \n",
       "ERR4810489                0                0                0   \n",
       "ERR4810491              0.0              0.0              0.0   \n",
       "ERR4810493              0.0              0.0              0.0   \n",
       "ERR4810494                0                0                0   \n",
       "...                     ...              ...              ...   \n",
       "ERR8699764                0                0                0   \n",
       "ERR8699789              0.0              0.0              0.0   \n",
       "ERR8699232                0                0                0   \n",
       "ERR8699267                0                0                0   \n",
       "NA                    False            False            False   \n",
       "\n",
       "                       6                7                8     \\\n",
       "Unnamed: 0  Chromosome_76_C  Chromosome_78_G  Chromosome_82_C   \n",
       "ERR4810489                0                0                0   \n",
       "ERR4810491              0.0              0.0              0.0   \n",
       "ERR4810493              0.0              0.0              0.0   \n",
       "ERR4810494                0                0                0   \n",
       "...                     ...              ...              ...   \n",
       "ERR8699764                0                0                0   \n",
       "ERR8699789              0.0              0.0              0.0   \n",
       "ERR8699232                0                0                0   \n",
       "ERR8699267                0                0                0   \n",
       "NA                    False            False            False   \n",
       "\n",
       "                       9     ...                  9616                  9617  \\\n",
       "Unnamed: 0  Chromosome_88_A  ...  Chromosome_4338506_A  Chromosome_4338508_C   \n",
       "ERR4810489                0  ...                     0                     0   \n",
       "ERR4810491              0.0  ...                   0.0                   0.0   \n",
       "ERR4810493              0.0  ...                   0.0                   0.0   \n",
       "ERR4810494                0  ...                     0                     0   \n",
       "...                     ...  ...                   ...                   ...   \n",
       "ERR8699764                0  ...                     0                     0   \n",
       "ERR8699789              0.0  ...                   0.0                   0.0   \n",
       "ERR8699232                0  ...                     0                     0   \n",
       "ERR8699267                0  ...                     0                     0   \n",
       "NA                    False  ...                 False                 False   \n",
       "\n",
       "                            9618                  9619                  9620  \\\n",
       "Unnamed: 0  Chromosome_4338508_G  Chromosome_4338513_A  Chromosome_4338514_C   \n",
       "ERR4810489                     0                     0                     0   \n",
       "ERR4810491                   0.0                   0.0                   0.0   \n",
       "ERR4810493                   0.0                   0.0                   0.0   \n",
       "ERR4810494                     0                     0                     0   \n",
       "...                          ...                   ...                   ...   \n",
       "ERR8699764                     0                     0                     0   \n",
       "ERR8699789                   0.0                   0.0                   0.0   \n",
       "ERR8699232                     0                     0                     0   \n",
       "ERR8699267                     0                     0                     0   \n",
       "NA                         False                 False                 False   \n",
       "\n",
       "                            9621  \\\n",
       "Unnamed: 0  Chromosome_4338514_G   \n",
       "ERR4810489                     0   \n",
       "ERR4810491                   0.0   \n",
       "ERR4810493                   0.0   \n",
       "ERR4810494                     0   \n",
       "...                          ...   \n",
       "ERR8699764                     0   \n",
       "ERR8699789                   0.0   \n",
       "ERR8699232                     0   \n",
       "ERR8699267                     0   \n",
       "NA                         False   \n",
       "\n",
       "                                                         9622  \\\n",
       "Unnamed: 0  Chromosome_4338516_TCGCATTAACCGACGGGTCGGCCCAGG...   \n",
       "ERR4810489                                                  0   \n",
       "ERR4810491                                                0.0   \n",
       "ERR4810493                                                0.0   \n",
       "ERR4810494                                                  0   \n",
       "...                                                       ...   \n",
       "ERR8699764                                                  0   \n",
       "ERR8699789                                                0.0   \n",
       "ERR8699232                                                  0   \n",
       "ERR8699267                                                  0   \n",
       "NA                                                      False   \n",
       "\n",
       "                            9623                  9624                  9625  \n",
       "Unnamed: 0  Chromosome_4338518_G  Chromosome_4338520_G  Chromosome_4338521_A  \n",
       "ERR4810489                     0                     0                     0  \n",
       "ERR4810491                   0.0                   0.0                   0.0  \n",
       "ERR4810493                   0.0                   0.0                   0.0  \n",
       "ERR4810494                     0                     0                     0  \n",
       "...                          ...                   ...                   ...  \n",
       "ERR8699764                     0                     0                     0  \n",
       "ERR8699789                   0.0                   0.0                   0.0  \n",
       "ERR8699232                     0                     0                     0  \n",
       "ERR8699267                     0                     0                     0  \n",
       "NA                         False                 False                 False  \n",
       "\n",
       "[10827 rows x 9626 columns]"
      ]
     },
     "execution_count": 84,
     "metadata": {},
     "output_type": "execute_result"
    }
   ],
   "source": [
    "Nina_aa.transpose()"
   ]
  },
  {
   "cell_type": "code",
   "execution_count": null,
   "metadata": {},
   "outputs": [],
   "source": []
  }
 ],
 "metadata": {
  "kernelspec": {
   "display_name": "ml-g1",
   "language": "python",
   "name": "python3"
  },
  "language_info": {
   "codemirror_mode": {
    "name": "ipython",
    "version": 3
   },
   "file_extension": ".py",
   "mimetype": "text/x-python",
   "name": "python",
   "nbconvert_exporter": "python",
   "pygments_lexer": "ipython3",
   "version": "3.9.15"
  }
 },
 "nbformat": 4,
 "nbformat_minor": 2
}
