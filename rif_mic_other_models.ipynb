{
 "cells": [
  {
   "cell_type": "code",
   "execution_count": 1,
   "metadata": {},
   "outputs": [
    {
     "data": {
      "text/plain": [
       "<torch._C.Generator at 0x7f9dfd4a0f70>"
      ]
     },
     "execution_count": 1,
     "metadata": {},
     "output_type": "execute_result"
    }
   ],
   "source": [
    "#%%\n",
    "from array import array\n",
    "from cmath import nan\n",
    "from pyexpat import model\n",
    "import statistics\n",
    "from tkinter.ttk import Separator\n",
    "import numpy as np\n",
    "import pandas as pd\n",
    "import os\n",
    "import torch\n",
    "import torch.nn as nn\n",
    "import torch.nn.functional as F\n",
    "import torch.optim as optim\n",
    "from torchviz import make_dot\n",
    "from torch.utils.data import Dataset, TensorDataset, DataLoader\n",
    "from torch.utils.data.dataset import random_split\n",
    "from torchvision import datasets, transforms\n",
    "from torch.autograd import variable\n",
    "from itertools import chain\n",
    "from sklearn import metrics as met\n",
    "import pickle\n",
    "from icecream import ic\n",
    "\n",
    "import matplotlib.pyplot as plt\n",
    "import pathlib\n",
    "from sklearn.model_selection import train_test_split\n",
    "\n",
    "from sklearn.preprocessing import LabelEncoder\n",
    "from sklearn.preprocessing import OneHotEncoder\n",
    "from importlib import reload\n",
    "# import util\n",
    "# import model_torch_simple\n",
    "# from torchmetrics import Accuracy\n",
    "from tqdm import tqdm\n",
    "import argparse\n",
    "from icecream import ic\n",
    "import numpy as np\n",
    "from PIL import Image\n",
    "device = 'cuda' if torch.cuda.is_available() else 'cpu'\n",
    "torch.manual_seed(42)\n"
   ]
  },
  {
   "cell_type": "code",
   "execution_count": 2,
   "metadata": {},
   "outputs": [],
   "source": [
    "seed = 42\n",
    "torch.backends.cudnn.deterministic = True\n",
    "torch.backends.cudnn.benchmark = False\n",
    "torch.manual_seed(seed)\n",
    "torch.cuda.manual_seed_all(seed)"
   ]
  },
  {
   "cell_type": "code",
   "execution_count": 3,
   "metadata": {},
   "outputs": [],
   "source": [
    "def value_counts_list(lst):\n",
    "    \"\"\"\n",
    "    Computes the frequency count of unique elements in a list and returns a dictionary, sorted by frequency count in\n",
    "    descending order.\n",
    "\n",
    "    Args:\n",
    "    - lst (list): List of elements\n",
    "\n",
    "    Returns:\n",
    "    - dict: Dictionary with unique elements as keys and their frequency count as values, sorted by frequency count\n",
    "    in descending order\n",
    "    \"\"\"\n",
    "    value_counts = {}\n",
    "    for item in lst:\n",
    "        if item in value_counts:\n",
    "            value_counts[item] += 1\n",
    "        else:\n",
    "            value_counts[item] = 1\n",
    "    sorted_value_counts = dict(sorted(value_counts.items(), key=lambda x: x[1], reverse=True))\n",
    "    return sorted_value_counts\n",
    "\n",
    "def print_full(x):\n",
    "    pd.set_option('display.max_rows', None)\n",
    "    pd.set_option('display.max_columns', None)\n",
    "    pd.set_option('display.width', 2000)\n",
    "    pd.set_option('display.float_format', '{:20,.2f}'.format)\n",
    "    pd.set_option('display.max_colwidth', None)\n",
    "    print(x)\n",
    "    pd.reset_option('display.max_rows')\n",
    "    pd.reset_option('display.max_columns')\n",
    "    pd.reset_option('display.width')\n",
    "    pd.reset_option('display.float_format')\n",
    "    pd.reset_option('display.max_colwidth')"
   ]
  },
  {
   "cell_type": "code",
   "execution_count": 4,
   "metadata": {},
   "outputs": [],
   "source": [
    "original_data = pd.read_csv('data_aa/aa_rpoB.csv', header=None)\n",
    "original_featrues = pd.read_csv('data_aa/RIF_MIC.csv', header=None)"
   ]
  },
  {
   "cell_type": "markdown",
   "metadata": {},
   "source": [
    "# Data"
   ]
  },
  {
   "cell_type": "code",
   "execution_count": 5,
   "metadata": {},
   "outputs": [],
   "source": [
    "data = original_data\n",
    "\n",
    "target = original_featrues\n",
    "\n",
    "train_data_index = np.random.choice(data.shape[0], size=int(data.shape[0]*0.8), replace=False)\n",
    "all_indices = np.arange(data.shape[0])\n",
    "test_data_index = np.setdiff1d(all_indices, train_data_index)\n",
    "\n",
    "train_data = data.iloc[train_data_index,:]\n",
    "train_target = target.iloc[train_data_index,:]\n",
    "train_data = train_data.reset_index(drop=True)\n",
    "train_target = train_target.reset_index(drop=True)\n",
    "#don't touch test data, split out validation data from training data during training\n",
    "test_data = data.iloc[test_data_index,:]\n",
    "test_target = target.iloc[test_data_index,:]\n",
    "test_data = test_data.reset_index(drop=True)\n",
    "test_target = test_target.reset_index(drop=True)"
   ]
  },
  {
   "cell_type": "code",
   "execution_count": 6,
   "metadata": {},
   "outputs": [],
   "source": [
    "na_indices = train_target[train_target.isna().any(axis=1)].index\n",
    "train_data.drop(na_indices, inplace=True)\n",
    "train_target.drop(na_indices, inplace=True)"
   ]
  },
  {
   "cell_type": "markdown",
   "metadata": {},
   "source": [
    "# RandomforestRegressor"
   ]
  },
  {
   "cell_type": "code",
   "execution_count": null,
   "metadata": {},
   "outputs": [],
   "source": [
    "from sklearn.model_selection import train_test_split\n",
    "from sklearn.ensemble import RandomForestRegressor\n",
    "from sklearn.ensemble import RandomForestClassifier\n",
    "from sklearn.metrics import mean_squared_error\n",
    "from sklearn.metrics import accuracy_score\n",
    "import pandas as pd\n",
    "\n",
    "# Assuming `df` is your DataFrame\n",
    "# and it contains the target variable in a column named 'target'\n",
    "\n",
    "# Separate features and target\n",
    "X = train_data  # Features\n",
    "y = train_target  # Target variable\n",
    "\n",
    "# Split the data into training and testing sets\n",
    "X_train, X_test, y_train, y_test = train_test_split(X, y, test_size=0.2, random_state=42)\n",
    "\n",
    "# Initialize the RandomForestRegressor\n",
    "regressor = RandomForestRegressor(n_estimators=100, random_state=42)\n",
    "\n",
    "# Train the model\n",
    "regressor.fit(X_train, y_train)\n",
    "\n",
    "# Make predictions\n",
    "y_pred = regressor.predict(X_test)\n",
    "\n",
    "# Calculate the Mean Squared Error (MSE) or another appropriate metric for regression\n",
    "mse = mean_squared_error(y_test, y_pred)\n",
    "print(f'Mean Squared Error: {mse}')"
   ]
  },
  {
   "cell_type": "code",
   "execution_count": 48,
   "metadata": {},
   "outputs": [
    {
     "name": "stdout",
     "output_type": "stream",
     "text": [
      "Fitting 5 folds for each of 12 candidates, totalling 60 fits\n"
     ]
    },
    {
     "name": "stderr",
     "output_type": "stream",
     "text": [
      "/mnt/storageG1/lwang/miniconda3/envs/ml-workshop/lib/python3.9/site-packages/sklearn/model_selection/_validation.py:681: DataConversionWarning: A column-vector y was passed when a 1d array was expected. Please change the shape of y to (n_samples,), for example using ravel().\n",
      "  estimator.fit(X_train, y_train, **fit_params)\n"
     ]
    },
    {
     "name": "stdout",
     "output_type": "stream",
     "text": [
      "[CV] END .....................max_depth=30, n_estimators=300; total time=  17.8s\n"
     ]
    },
    {
     "name": "stderr",
     "output_type": "stream",
     "text": [
      "/mnt/storageG1/lwang/miniconda3/envs/ml-workshop/lib/python3.9/site-packages/sklearn/model_selection/_validation.py:681: DataConversionWarning: A column-vector y was passed when a 1d array was expected. Please change the shape of y to (n_samples,), for example using ravel().\n",
      "  estimator.fit(X_train, y_train, **fit_params)\n"
     ]
    },
    {
     "name": "stdout",
     "output_type": "stream",
     "text": [
      "[CV] END .....................max_depth=30, n_estimators=300; total time=  18.1s\n"
     ]
    },
    {
     "name": "stderr",
     "output_type": "stream",
     "text": [
      "/mnt/storageG1/lwang/miniconda3/envs/ml-workshop/lib/python3.9/site-packages/sklearn/model_selection/_validation.py:681: DataConversionWarning: A column-vector y was passed when a 1d array was expected. Please change the shape of y to (n_samples,), for example using ravel().\n",
      "  estimator.fit(X_train, y_train, **fit_params)\n"
     ]
    },
    {
     "name": "stdout",
     "output_type": "stream",
     "text": [
      "[CV] END .....................max_depth=30, n_estimators=300; total time=  18.2s\n"
     ]
    },
    {
     "name": "stderr",
     "output_type": "stream",
     "text": [
      "/mnt/storageG1/lwang/miniconda3/envs/ml-workshop/lib/python3.9/site-packages/sklearn/model_selection/_validation.py:681: DataConversionWarning: A column-vector y was passed when a 1d array was expected. Please change the shape of y to (n_samples,), for example using ravel().\n",
      "  estimator.fit(X_train, y_train, **fit_params)\n"
     ]
    },
    {
     "name": "stdout",
     "output_type": "stream",
     "text": [
      "[CV] END .....................max_depth=30, n_estimators=300; total time=  19.0s\n"
     ]
    },
    {
     "name": "stderr",
     "output_type": "stream",
     "text": [
      "/mnt/storageG1/lwang/miniconda3/envs/ml-workshop/lib/python3.9/site-packages/sklearn/model_selection/_validation.py:681: DataConversionWarning: A column-vector y was passed when a 1d array was expected. Please change the shape of y to (n_samples,), for example using ravel().\n",
      "  estimator.fit(X_train, y_train, **fit_params)\n"
     ]
    },
    {
     "name": "stdout",
     "output_type": "stream",
     "text": [
      "[CV] END .....................max_depth=30, n_estimators=300; total time=  18.2s\n"
     ]
    },
    {
     "name": "stderr",
     "output_type": "stream",
     "text": [
      "/mnt/storageG1/lwang/miniconda3/envs/ml-workshop/lib/python3.9/site-packages/sklearn/model_selection/_validation.py:681: DataConversionWarning: A column-vector y was passed when a 1d array was expected. Please change the shape of y to (n_samples,), for example using ravel().\n",
      "  estimator.fit(X_train, y_train, **fit_params)\n"
     ]
    },
    {
     "name": "stdout",
     "output_type": "stream",
     "text": [
      "[CV] END .....................max_depth=30, n_estimators=400; total time=  23.4s\n"
     ]
    },
    {
     "name": "stderr",
     "output_type": "stream",
     "text": [
      "/mnt/storageG1/lwang/miniconda3/envs/ml-workshop/lib/python3.9/site-packages/sklearn/model_selection/_validation.py:681: DataConversionWarning: A column-vector y was passed when a 1d array was expected. Please change the shape of y to (n_samples,), for example using ravel().\n",
      "  estimator.fit(X_train, y_train, **fit_params)\n"
     ]
    },
    {
     "name": "stdout",
     "output_type": "stream",
     "text": [
      "[CV] END .....................max_depth=30, n_estimators=400; total time=  23.8s\n"
     ]
    },
    {
     "name": "stderr",
     "output_type": "stream",
     "text": [
      "/mnt/storageG1/lwang/miniconda3/envs/ml-workshop/lib/python3.9/site-packages/sklearn/model_selection/_validation.py:681: DataConversionWarning: A column-vector y was passed when a 1d array was expected. Please change the shape of y to (n_samples,), for example using ravel().\n",
      "  estimator.fit(X_train, y_train, **fit_params)\n"
     ]
    },
    {
     "name": "stdout",
     "output_type": "stream",
     "text": [
      "[CV] END .....................max_depth=30, n_estimators=400; total time=  24.4s\n"
     ]
    },
    {
     "name": "stderr",
     "output_type": "stream",
     "text": [
      "/mnt/storageG1/lwang/miniconda3/envs/ml-workshop/lib/python3.9/site-packages/sklearn/model_selection/_validation.py:681: DataConversionWarning: A column-vector y was passed when a 1d array was expected. Please change the shape of y to (n_samples,), for example using ravel().\n",
      "  estimator.fit(X_train, y_train, **fit_params)\n"
     ]
    },
    {
     "name": "stdout",
     "output_type": "stream",
     "text": [
      "[CV] END .....................max_depth=30, n_estimators=400; total time=  25.5s\n"
     ]
    },
    {
     "name": "stderr",
     "output_type": "stream",
     "text": [
      "/mnt/storageG1/lwang/miniconda3/envs/ml-workshop/lib/python3.9/site-packages/sklearn/model_selection/_validation.py:681: DataConversionWarning: A column-vector y was passed when a 1d array was expected. Please change the shape of y to (n_samples,), for example using ravel().\n",
      "  estimator.fit(X_train, y_train, **fit_params)\n"
     ]
    },
    {
     "name": "stdout",
     "output_type": "stream",
     "text": [
      "[CV] END .....................max_depth=30, n_estimators=400; total time=  24.2s\n"
     ]
    },
    {
     "name": "stderr",
     "output_type": "stream",
     "text": [
      "/mnt/storageG1/lwang/miniconda3/envs/ml-workshop/lib/python3.9/site-packages/sklearn/model_selection/_validation.py:681: DataConversionWarning: A column-vector y was passed when a 1d array was expected. Please change the shape of y to (n_samples,), for example using ravel().\n",
      "  estimator.fit(X_train, y_train, **fit_params)\n"
     ]
    },
    {
     "name": "stdout",
     "output_type": "stream",
     "text": [
      "[CV] END .....................max_depth=30, n_estimators=500; total time=  29.3s\n"
     ]
    },
    {
     "name": "stderr",
     "output_type": "stream",
     "text": [
      "/mnt/storageG1/lwang/miniconda3/envs/ml-workshop/lib/python3.9/site-packages/sklearn/model_selection/_validation.py:681: DataConversionWarning: A column-vector y was passed when a 1d array was expected. Please change the shape of y to (n_samples,), for example using ravel().\n",
      "  estimator.fit(X_train, y_train, **fit_params)\n"
     ]
    },
    {
     "name": "stdout",
     "output_type": "stream",
     "text": [
      "[CV] END .....................max_depth=30, n_estimators=500; total time=  30.0s\n"
     ]
    },
    {
     "name": "stderr",
     "output_type": "stream",
     "text": [
      "/mnt/storageG1/lwang/miniconda3/envs/ml-workshop/lib/python3.9/site-packages/sklearn/model_selection/_validation.py:681: DataConversionWarning: A column-vector y was passed when a 1d array was expected. Please change the shape of y to (n_samples,), for example using ravel().\n",
      "  estimator.fit(X_train, y_train, **fit_params)\n"
     ]
    },
    {
     "name": "stdout",
     "output_type": "stream",
     "text": [
      "[CV] END .....................max_depth=30, n_estimators=500; total time=  30.4s\n"
     ]
    },
    {
     "name": "stderr",
     "output_type": "stream",
     "text": [
      "/mnt/storageG1/lwang/miniconda3/envs/ml-workshop/lib/python3.9/site-packages/sklearn/model_selection/_validation.py:681: DataConversionWarning: A column-vector y was passed when a 1d array was expected. Please change the shape of y to (n_samples,), for example using ravel().\n",
      "  estimator.fit(X_train, y_train, **fit_params)\n"
     ]
    },
    {
     "name": "stdout",
     "output_type": "stream",
     "text": [
      "[CV] END .....................max_depth=30, n_estimators=500; total time=  31.7s\n"
     ]
    },
    {
     "name": "stderr",
     "output_type": "stream",
     "text": [
      "/mnt/storageG1/lwang/miniconda3/envs/ml-workshop/lib/python3.9/site-packages/sklearn/model_selection/_validation.py:681: DataConversionWarning: A column-vector y was passed when a 1d array was expected. Please change the shape of y to (n_samples,), for example using ravel().\n",
      "  estimator.fit(X_train, y_train, **fit_params)\n"
     ]
    },
    {
     "name": "stdout",
     "output_type": "stream",
     "text": [
      "[CV] END .....................max_depth=30, n_estimators=500; total time=  30.3s\n"
     ]
    },
    {
     "name": "stderr",
     "output_type": "stream",
     "text": [
      "/mnt/storageG1/lwang/miniconda3/envs/ml-workshop/lib/python3.9/site-packages/sklearn/model_selection/_validation.py:681: DataConversionWarning: A column-vector y was passed when a 1d array was expected. Please change the shape of y to (n_samples,), for example using ravel().\n",
      "  estimator.fit(X_train, y_train, **fit_params)\n"
     ]
    },
    {
     "name": "stdout",
     "output_type": "stream",
     "text": [
      "[CV] END .....................max_depth=40, n_estimators=300; total time=  20.9s\n"
     ]
    },
    {
     "name": "stderr",
     "output_type": "stream",
     "text": [
      "/mnt/storageG1/lwang/miniconda3/envs/ml-workshop/lib/python3.9/site-packages/sklearn/model_selection/_validation.py:681: DataConversionWarning: A column-vector y was passed when a 1d array was expected. Please change the shape of y to (n_samples,), for example using ravel().\n",
      "  estimator.fit(X_train, y_train, **fit_params)\n"
     ]
    },
    {
     "name": "stdout",
     "output_type": "stream",
     "text": [
      "[CV] END .....................max_depth=40, n_estimators=300; total time=  21.4s\n"
     ]
    },
    {
     "name": "stderr",
     "output_type": "stream",
     "text": [
      "/mnt/storageG1/lwang/miniconda3/envs/ml-workshop/lib/python3.9/site-packages/sklearn/model_selection/_validation.py:681: DataConversionWarning: A column-vector y was passed when a 1d array was expected. Please change the shape of y to (n_samples,), for example using ravel().\n",
      "  estimator.fit(X_train, y_train, **fit_params)\n"
     ]
    },
    {
     "name": "stdout",
     "output_type": "stream",
     "text": [
      "[CV] END .....................max_depth=40, n_estimators=300; total time=  21.6s\n"
     ]
    },
    {
     "name": "stderr",
     "output_type": "stream",
     "text": [
      "/mnt/storageG1/lwang/miniconda3/envs/ml-workshop/lib/python3.9/site-packages/sklearn/model_selection/_validation.py:681: DataConversionWarning: A column-vector y was passed when a 1d array was expected. Please change the shape of y to (n_samples,), for example using ravel().\n",
      "  estimator.fit(X_train, y_train, **fit_params)\n"
     ]
    },
    {
     "name": "stdout",
     "output_type": "stream",
     "text": [
      "[CV] END .....................max_depth=40, n_estimators=300; total time=  22.7s\n"
     ]
    },
    {
     "name": "stderr",
     "output_type": "stream",
     "text": [
      "/mnt/storageG1/lwang/miniconda3/envs/ml-workshop/lib/python3.9/site-packages/sklearn/model_selection/_validation.py:681: DataConversionWarning: A column-vector y was passed when a 1d array was expected. Please change the shape of y to (n_samples,), for example using ravel().\n",
      "  estimator.fit(X_train, y_train, **fit_params)\n"
     ]
    },
    {
     "name": "stdout",
     "output_type": "stream",
     "text": [
      "[CV] END .....................max_depth=40, n_estimators=300; total time=  23.0s\n"
     ]
    },
    {
     "name": "stderr",
     "output_type": "stream",
     "text": [
      "/mnt/storageG1/lwang/miniconda3/envs/ml-workshop/lib/python3.9/site-packages/sklearn/model_selection/_validation.py:681: DataConversionWarning: A column-vector y was passed when a 1d array was expected. Please change the shape of y to (n_samples,), for example using ravel().\n",
      "  estimator.fit(X_train, y_train, **fit_params)\n"
     ]
    },
    {
     "name": "stdout",
     "output_type": "stream",
     "text": [
      "[CV] END .....................max_depth=40, n_estimators=400; total time=  28.0s\n"
     ]
    },
    {
     "name": "stderr",
     "output_type": "stream",
     "text": [
      "/mnt/storageG1/lwang/miniconda3/envs/ml-workshop/lib/python3.9/site-packages/sklearn/model_selection/_validation.py:681: DataConversionWarning: A column-vector y was passed when a 1d array was expected. Please change the shape of y to (n_samples,), for example using ravel().\n",
      "  estimator.fit(X_train, y_train, **fit_params)\n"
     ]
    },
    {
     "name": "stdout",
     "output_type": "stream",
     "text": [
      "[CV] END .....................max_depth=40, n_estimators=400; total time=  28.2s\n"
     ]
    },
    {
     "name": "stderr",
     "output_type": "stream",
     "text": [
      "/mnt/storageG1/lwang/miniconda3/envs/ml-workshop/lib/python3.9/site-packages/sklearn/model_selection/_validation.py:681: DataConversionWarning: A column-vector y was passed when a 1d array was expected. Please change the shape of y to (n_samples,), for example using ravel().\n",
      "  estimator.fit(X_train, y_train, **fit_params)\n"
     ]
    },
    {
     "name": "stdout",
     "output_type": "stream",
     "text": [
      "[CV] END .....................max_depth=40, n_estimators=400; total time=  28.6s\n"
     ]
    },
    {
     "name": "stderr",
     "output_type": "stream",
     "text": [
      "/mnt/storageG1/lwang/miniconda3/envs/ml-workshop/lib/python3.9/site-packages/sklearn/model_selection/_validation.py:681: DataConversionWarning: A column-vector y was passed when a 1d array was expected. Please change the shape of y to (n_samples,), for example using ravel().\n",
      "  estimator.fit(X_train, y_train, **fit_params)\n"
     ]
    },
    {
     "name": "stdout",
     "output_type": "stream",
     "text": [
      "[CV] END .....................max_depth=40, n_estimators=400; total time=  29.7s\n"
     ]
    },
    {
     "name": "stderr",
     "output_type": "stream",
     "text": [
      "/mnt/storageG1/lwang/miniconda3/envs/ml-workshop/lib/python3.9/site-packages/sklearn/model_selection/_validation.py:681: DataConversionWarning: A column-vector y was passed when a 1d array was expected. Please change the shape of y to (n_samples,), for example using ravel().\n",
      "  estimator.fit(X_train, y_train, **fit_params)\n"
     ]
    },
    {
     "name": "stdout",
     "output_type": "stream",
     "text": [
      "[CV] END .....................max_depth=40, n_estimators=400; total time=  28.3s\n"
     ]
    },
    {
     "name": "stderr",
     "output_type": "stream",
     "text": [
      "/mnt/storageG1/lwang/miniconda3/envs/ml-workshop/lib/python3.9/site-packages/sklearn/model_selection/_validation.py:681: DataConversionWarning: A column-vector y was passed when a 1d array was expected. Please change the shape of y to (n_samples,), for example using ravel().\n",
      "  estimator.fit(X_train, y_train, **fit_params)\n"
     ]
    },
    {
     "name": "stdout",
     "output_type": "stream",
     "text": [
      "[CV] END .....................max_depth=40, n_estimators=500; total time=  34.5s\n"
     ]
    },
    {
     "name": "stderr",
     "output_type": "stream",
     "text": [
      "/mnt/storageG1/lwang/miniconda3/envs/ml-workshop/lib/python3.9/site-packages/sklearn/model_selection/_validation.py:681: DataConversionWarning: A column-vector y was passed when a 1d array was expected. Please change the shape of y to (n_samples,), for example using ravel().\n",
      "  estimator.fit(X_train, y_train, **fit_params)\n"
     ]
    },
    {
     "name": "stdout",
     "output_type": "stream",
     "text": [
      "[CV] END .....................max_depth=40, n_estimators=500; total time=  34.9s\n"
     ]
    },
    {
     "name": "stderr",
     "output_type": "stream",
     "text": [
      "/mnt/storageG1/lwang/miniconda3/envs/ml-workshop/lib/python3.9/site-packages/sklearn/model_selection/_validation.py:681: DataConversionWarning: A column-vector y was passed when a 1d array was expected. Please change the shape of y to (n_samples,), for example using ravel().\n",
      "  estimator.fit(X_train, y_train, **fit_params)\n"
     ]
    },
    {
     "name": "stdout",
     "output_type": "stream",
     "text": [
      "[CV] END .....................max_depth=40, n_estimators=500; total time=  35.5s\n"
     ]
    },
    {
     "name": "stderr",
     "output_type": "stream",
     "text": [
      "/mnt/storageG1/lwang/miniconda3/envs/ml-workshop/lib/python3.9/site-packages/sklearn/model_selection/_validation.py:681: DataConversionWarning: A column-vector y was passed when a 1d array was expected. Please change the shape of y to (n_samples,), for example using ravel().\n",
      "  estimator.fit(X_train, y_train, **fit_params)\n"
     ]
    },
    {
     "name": "stdout",
     "output_type": "stream",
     "text": [
      "[CV] END .....................max_depth=40, n_estimators=500; total time=  37.2s\n"
     ]
    },
    {
     "name": "stderr",
     "output_type": "stream",
     "text": [
      "/mnt/storageG1/lwang/miniconda3/envs/ml-workshop/lib/python3.9/site-packages/sklearn/model_selection/_validation.py:681: DataConversionWarning: A column-vector y was passed when a 1d array was expected. Please change the shape of y to (n_samples,), for example using ravel().\n",
      "  estimator.fit(X_train, y_train, **fit_params)\n"
     ]
    },
    {
     "name": "stdout",
     "output_type": "stream",
     "text": [
      "[CV] END .....................max_depth=40, n_estimators=500; total time=  35.5s\n"
     ]
    },
    {
     "name": "stderr",
     "output_type": "stream",
     "text": [
      "/mnt/storageG1/lwang/miniconda3/envs/ml-workshop/lib/python3.9/site-packages/sklearn/model_selection/_validation.py:681: DataConversionWarning: A column-vector y was passed when a 1d array was expected. Please change the shape of y to (n_samples,), for example using ravel().\n",
      "  estimator.fit(X_train, y_train, **fit_params)\n"
     ]
    },
    {
     "name": "stdout",
     "output_type": "stream",
     "text": [
      "[CV] END .....................max_depth=50, n_estimators=300; total time=  23.4s\n"
     ]
    },
    {
     "name": "stderr",
     "output_type": "stream",
     "text": [
      "/mnt/storageG1/lwang/miniconda3/envs/ml-workshop/lib/python3.9/site-packages/sklearn/model_selection/_validation.py:681: DataConversionWarning: A column-vector y was passed when a 1d array was expected. Please change the shape of y to (n_samples,), for example using ravel().\n",
      "  estimator.fit(X_train, y_train, **fit_params)\n"
     ]
    },
    {
     "name": "stdout",
     "output_type": "stream",
     "text": [
      "[CV] END .....................max_depth=50, n_estimators=300; total time=  23.6s\n"
     ]
    },
    {
     "name": "stderr",
     "output_type": "stream",
     "text": [
      "/mnt/storageG1/lwang/miniconda3/envs/ml-workshop/lib/python3.9/site-packages/sklearn/model_selection/_validation.py:681: DataConversionWarning: A column-vector y was passed when a 1d array was expected. Please change the shape of y to (n_samples,), for example using ravel().\n",
      "  estimator.fit(X_train, y_train, **fit_params)\n"
     ]
    },
    {
     "name": "stdout",
     "output_type": "stream",
     "text": [
      "[CV] END .....................max_depth=50, n_estimators=300; total time=  24.1s\n"
     ]
    },
    {
     "name": "stderr",
     "output_type": "stream",
     "text": [
      "/mnt/storageG1/lwang/miniconda3/envs/ml-workshop/lib/python3.9/site-packages/sklearn/model_selection/_validation.py:681: DataConversionWarning: A column-vector y was passed when a 1d array was expected. Please change the shape of y to (n_samples,), for example using ravel().\n",
      "  estimator.fit(X_train, y_train, **fit_params)\n"
     ]
    },
    {
     "name": "stdout",
     "output_type": "stream",
     "text": [
      "[CV] END .....................max_depth=50, n_estimators=300; total time=  25.3s\n"
     ]
    },
    {
     "name": "stderr",
     "output_type": "stream",
     "text": [
      "/mnt/storageG1/lwang/miniconda3/envs/ml-workshop/lib/python3.9/site-packages/sklearn/model_selection/_validation.py:681: DataConversionWarning: A column-vector y was passed when a 1d array was expected. Please change the shape of y to (n_samples,), for example using ravel().\n",
      "  estimator.fit(X_train, y_train, **fit_params)\n"
     ]
    },
    {
     "name": "stdout",
     "output_type": "stream",
     "text": [
      "[CV] END .....................max_depth=50, n_estimators=300; total time=  24.0s\n"
     ]
    },
    {
     "name": "stderr",
     "output_type": "stream",
     "text": [
      "/mnt/storageG1/lwang/miniconda3/envs/ml-workshop/lib/python3.9/site-packages/sklearn/model_selection/_validation.py:681: DataConversionWarning: A column-vector y was passed when a 1d array was expected. Please change the shape of y to (n_samples,), for example using ravel().\n",
      "  estimator.fit(X_train, y_train, **fit_params)\n"
     ]
    },
    {
     "name": "stdout",
     "output_type": "stream",
     "text": [
      "[CV] END .....................max_depth=50, n_estimators=400; total time=  31.2s\n"
     ]
    },
    {
     "name": "stderr",
     "output_type": "stream",
     "text": [
      "/mnt/storageG1/lwang/miniconda3/envs/ml-workshop/lib/python3.9/site-packages/sklearn/model_selection/_validation.py:681: DataConversionWarning: A column-vector y was passed when a 1d array was expected. Please change the shape of y to (n_samples,), for example using ravel().\n",
      "  estimator.fit(X_train, y_train, **fit_params)\n"
     ]
    },
    {
     "name": "stdout",
     "output_type": "stream",
     "text": [
      "[CV] END .....................max_depth=50, n_estimators=400; total time=  31.4s\n"
     ]
    },
    {
     "name": "stderr",
     "output_type": "stream",
     "text": [
      "/mnt/storageG1/lwang/miniconda3/envs/ml-workshop/lib/python3.9/site-packages/sklearn/model_selection/_validation.py:681: DataConversionWarning: A column-vector y was passed when a 1d array was expected. Please change the shape of y to (n_samples,), for example using ravel().\n",
      "  estimator.fit(X_train, y_train, **fit_params)\n"
     ]
    },
    {
     "name": "stdout",
     "output_type": "stream",
     "text": [
      "[CV] END .....................max_depth=50, n_estimators=400; total time=  32.0s\n"
     ]
    },
    {
     "name": "stderr",
     "output_type": "stream",
     "text": [
      "/mnt/storageG1/lwang/miniconda3/envs/ml-workshop/lib/python3.9/site-packages/sklearn/model_selection/_validation.py:681: DataConversionWarning: A column-vector y was passed when a 1d array was expected. Please change the shape of y to (n_samples,), for example using ravel().\n",
      "  estimator.fit(X_train, y_train, **fit_params)\n"
     ]
    },
    {
     "name": "stdout",
     "output_type": "stream",
     "text": [
      "[CV] END .....................max_depth=50, n_estimators=400; total time=  33.7s\n"
     ]
    },
    {
     "name": "stderr",
     "output_type": "stream",
     "text": [
      "/mnt/storageG1/lwang/miniconda3/envs/ml-workshop/lib/python3.9/site-packages/sklearn/model_selection/_validation.py:681: DataConversionWarning: A column-vector y was passed when a 1d array was expected. Please change the shape of y to (n_samples,), for example using ravel().\n",
      "  estimator.fit(X_train, y_train, **fit_params)\n"
     ]
    },
    {
     "name": "stdout",
     "output_type": "stream",
     "text": [
      "[CV] END .....................max_depth=50, n_estimators=400; total time=  32.3s\n"
     ]
    },
    {
     "name": "stderr",
     "output_type": "stream",
     "text": [
      "/mnt/storageG1/lwang/miniconda3/envs/ml-workshop/lib/python3.9/site-packages/sklearn/model_selection/_validation.py:681: DataConversionWarning: A column-vector y was passed when a 1d array was expected. Please change the shape of y to (n_samples,), for example using ravel().\n",
      "  estimator.fit(X_train, y_train, **fit_params)\n"
     ]
    },
    {
     "name": "stdout",
     "output_type": "stream",
     "text": [
      "[CV] END .....................max_depth=50, n_estimators=500; total time=  39.0s\n"
     ]
    },
    {
     "name": "stderr",
     "output_type": "stream",
     "text": [
      "/mnt/storageG1/lwang/miniconda3/envs/ml-workshop/lib/python3.9/site-packages/sklearn/model_selection/_validation.py:681: DataConversionWarning: A column-vector y was passed when a 1d array was expected. Please change the shape of y to (n_samples,), for example using ravel().\n",
      "  estimator.fit(X_train, y_train, **fit_params)\n"
     ]
    },
    {
     "name": "stdout",
     "output_type": "stream",
     "text": [
      "[CV] END .....................max_depth=50, n_estimators=500; total time=  39.0s\n"
     ]
    },
    {
     "name": "stderr",
     "output_type": "stream",
     "text": [
      "/mnt/storageG1/lwang/miniconda3/envs/ml-workshop/lib/python3.9/site-packages/sklearn/model_selection/_validation.py:681: DataConversionWarning: A column-vector y was passed when a 1d array was expected. Please change the shape of y to (n_samples,), for example using ravel().\n",
      "  estimator.fit(X_train, y_train, **fit_params)\n"
     ]
    },
    {
     "name": "stdout",
     "output_type": "stream",
     "text": [
      "[CV] END .....................max_depth=50, n_estimators=500; total time=  39.5s\n"
     ]
    },
    {
     "name": "stderr",
     "output_type": "stream",
     "text": [
      "/mnt/storageG1/lwang/miniconda3/envs/ml-workshop/lib/python3.9/site-packages/sklearn/model_selection/_validation.py:681: DataConversionWarning: A column-vector y was passed when a 1d array was expected. Please change the shape of y to (n_samples,), for example using ravel().\n",
      "  estimator.fit(X_train, y_train, **fit_params)\n"
     ]
    },
    {
     "name": "stdout",
     "output_type": "stream",
     "text": [
      "[CV] END .....................max_depth=50, n_estimators=500; total time=  42.1s\n"
     ]
    },
    {
     "name": "stderr",
     "output_type": "stream",
     "text": [
      "/mnt/storageG1/lwang/miniconda3/envs/ml-workshop/lib/python3.9/site-packages/sklearn/model_selection/_validation.py:681: DataConversionWarning: A column-vector y was passed when a 1d array was expected. Please change the shape of y to (n_samples,), for example using ravel().\n",
      "  estimator.fit(X_train, y_train, **fit_params)\n"
     ]
    },
    {
     "name": "stdout",
     "output_type": "stream",
     "text": [
      "[CV] END .....................max_depth=50, n_estimators=500; total time=  39.8s\n"
     ]
    },
    {
     "name": "stderr",
     "output_type": "stream",
     "text": [
      "/mnt/storageG1/lwang/miniconda3/envs/ml-workshop/lib/python3.9/site-packages/sklearn/model_selection/_validation.py:681: DataConversionWarning: A column-vector y was passed when a 1d array was expected. Please change the shape of y to (n_samples,), for example using ravel().\n",
      "  estimator.fit(X_train, y_train, **fit_params)\n"
     ]
    },
    {
     "name": "stdout",
     "output_type": "stream",
     "text": [
      "[CV] END .....................max_depth=60, n_estimators=300; total time=  25.0s\n"
     ]
    },
    {
     "name": "stderr",
     "output_type": "stream",
     "text": [
      "/mnt/storageG1/lwang/miniconda3/envs/ml-workshop/lib/python3.9/site-packages/sklearn/model_selection/_validation.py:681: DataConversionWarning: A column-vector y was passed when a 1d array was expected. Please change the shape of y to (n_samples,), for example using ravel().\n",
      "  estimator.fit(X_train, y_train, **fit_params)\n"
     ]
    },
    {
     "name": "stdout",
     "output_type": "stream",
     "text": [
      "[CV] END .....................max_depth=60, n_estimators=300; total time=  25.2s\n"
     ]
    },
    {
     "name": "stderr",
     "output_type": "stream",
     "text": [
      "/mnt/storageG1/lwang/miniconda3/envs/ml-workshop/lib/python3.9/site-packages/sklearn/model_selection/_validation.py:681: DataConversionWarning: A column-vector y was passed when a 1d array was expected. Please change the shape of y to (n_samples,), for example using ravel().\n",
      "  estimator.fit(X_train, y_train, **fit_params)\n"
     ]
    },
    {
     "name": "stdout",
     "output_type": "stream",
     "text": [
      "[CV] END .....................max_depth=60, n_estimators=300; total time=  25.5s\n"
     ]
    },
    {
     "name": "stderr",
     "output_type": "stream",
     "text": [
      "/mnt/storageG1/lwang/miniconda3/envs/ml-workshop/lib/python3.9/site-packages/sklearn/model_selection/_validation.py:681: DataConversionWarning: A column-vector y was passed when a 1d array was expected. Please change the shape of y to (n_samples,), for example using ravel().\n",
      "  estimator.fit(X_train, y_train, **fit_params)\n"
     ]
    },
    {
     "name": "stdout",
     "output_type": "stream",
     "text": [
      "[CV] END .....................max_depth=60, n_estimators=300; total time=  27.1s\n"
     ]
    },
    {
     "name": "stderr",
     "output_type": "stream",
     "text": [
      "/mnt/storageG1/lwang/miniconda3/envs/ml-workshop/lib/python3.9/site-packages/sklearn/model_selection/_validation.py:681: DataConversionWarning: A column-vector y was passed when a 1d array was expected. Please change the shape of y to (n_samples,), for example using ravel().\n",
      "  estimator.fit(X_train, y_train, **fit_params)\n"
     ]
    },
    {
     "name": "stdout",
     "output_type": "stream",
     "text": [
      "[CV] END .....................max_depth=60, n_estimators=300; total time=  25.7s\n"
     ]
    },
    {
     "name": "stderr",
     "output_type": "stream",
     "text": [
      "/mnt/storageG1/lwang/miniconda3/envs/ml-workshop/lib/python3.9/site-packages/sklearn/model_selection/_validation.py:681: DataConversionWarning: A column-vector y was passed when a 1d array was expected. Please change the shape of y to (n_samples,), for example using ravel().\n",
      "  estimator.fit(X_train, y_train, **fit_params)\n"
     ]
    },
    {
     "name": "stdout",
     "output_type": "stream",
     "text": [
      "[CV] END .....................max_depth=60, n_estimators=400; total time=  33.3s\n"
     ]
    },
    {
     "name": "stderr",
     "output_type": "stream",
     "text": [
      "/mnt/storageG1/lwang/miniconda3/envs/ml-workshop/lib/python3.9/site-packages/sklearn/model_selection/_validation.py:681: DataConversionWarning: A column-vector y was passed when a 1d array was expected. Please change the shape of y to (n_samples,), for example using ravel().\n",
      "  estimator.fit(X_train, y_train, **fit_params)\n"
     ]
    },
    {
     "name": "stdout",
     "output_type": "stream",
     "text": [
      "[CV] END .....................max_depth=60, n_estimators=400; total time=  33.6s\n"
     ]
    },
    {
     "name": "stderr",
     "output_type": "stream",
     "text": [
      "/mnt/storageG1/lwang/miniconda3/envs/ml-workshop/lib/python3.9/site-packages/sklearn/model_selection/_validation.py:681: DataConversionWarning: A column-vector y was passed when a 1d array was expected. Please change the shape of y to (n_samples,), for example using ravel().\n",
      "  estimator.fit(X_train, y_train, **fit_params)\n"
     ]
    },
    {
     "name": "stdout",
     "output_type": "stream",
     "text": [
      "[CV] END .....................max_depth=60, n_estimators=400; total time=  34.0s\n"
     ]
    },
    {
     "name": "stderr",
     "output_type": "stream",
     "text": [
      "/mnt/storageG1/lwang/miniconda3/envs/ml-workshop/lib/python3.9/site-packages/sklearn/model_selection/_validation.py:681: DataConversionWarning: A column-vector y was passed when a 1d array was expected. Please change the shape of y to (n_samples,), for example using ravel().\n",
      "  estimator.fit(X_train, y_train, **fit_params)\n"
     ]
    },
    {
     "name": "stdout",
     "output_type": "stream",
     "text": [
      "[CV] END .....................max_depth=60, n_estimators=400; total time=  36.1s\n"
     ]
    },
    {
     "name": "stderr",
     "output_type": "stream",
     "text": [
      "/mnt/storageG1/lwang/miniconda3/envs/ml-workshop/lib/python3.9/site-packages/sklearn/model_selection/_validation.py:681: DataConversionWarning: A column-vector y was passed when a 1d array was expected. Please change the shape of y to (n_samples,), for example using ravel().\n",
      "  estimator.fit(X_train, y_train, **fit_params)\n"
     ]
    },
    {
     "name": "stdout",
     "output_type": "stream",
     "text": [
      "[CV] END .....................max_depth=60, n_estimators=400; total time=  34.2s\n"
     ]
    },
    {
     "name": "stderr",
     "output_type": "stream",
     "text": [
      "/mnt/storageG1/lwang/miniconda3/envs/ml-workshop/lib/python3.9/site-packages/sklearn/model_selection/_validation.py:681: DataConversionWarning: A column-vector y was passed when a 1d array was expected. Please change the shape of y to (n_samples,), for example using ravel().\n",
      "  estimator.fit(X_train, y_train, **fit_params)\n"
     ]
    },
    {
     "name": "stdout",
     "output_type": "stream",
     "text": [
      "[CV] END .....................max_depth=60, n_estimators=500; total time=  41.6s\n"
     ]
    },
    {
     "name": "stderr",
     "output_type": "stream",
     "text": [
      "/mnt/storageG1/lwang/miniconda3/envs/ml-workshop/lib/python3.9/site-packages/sklearn/model_selection/_validation.py:681: DataConversionWarning: A column-vector y was passed when a 1d array was expected. Please change the shape of y to (n_samples,), for example using ravel().\n",
      "  estimator.fit(X_train, y_train, **fit_params)\n"
     ]
    },
    {
     "name": "stdout",
     "output_type": "stream",
     "text": [
      "[CV] END .....................max_depth=60, n_estimators=500; total time=  42.0s\n"
     ]
    },
    {
     "name": "stderr",
     "output_type": "stream",
     "text": [
      "/mnt/storageG1/lwang/miniconda3/envs/ml-workshop/lib/python3.9/site-packages/sklearn/model_selection/_validation.py:681: DataConversionWarning: A column-vector y was passed when a 1d array was expected. Please change the shape of y to (n_samples,), for example using ravel().\n",
      "  estimator.fit(X_train, y_train, **fit_params)\n"
     ]
    },
    {
     "name": "stdout",
     "output_type": "stream",
     "text": [
      "[CV] END .....................max_depth=60, n_estimators=500; total time=  42.5s\n"
     ]
    },
    {
     "name": "stderr",
     "output_type": "stream",
     "text": [
      "/mnt/storageG1/lwang/miniconda3/envs/ml-workshop/lib/python3.9/site-packages/sklearn/model_selection/_validation.py:681: DataConversionWarning: A column-vector y was passed when a 1d array was expected. Please change the shape of y to (n_samples,), for example using ravel().\n",
      "  estimator.fit(X_train, y_train, **fit_params)\n"
     ]
    },
    {
     "name": "stdout",
     "output_type": "stream",
     "text": [
      "[CV] END .....................max_depth=60, n_estimators=500; total time=  45.2s\n"
     ]
    },
    {
     "name": "stderr",
     "output_type": "stream",
     "text": [
      "/mnt/storageG1/lwang/miniconda3/envs/ml-workshop/lib/python3.9/site-packages/sklearn/model_selection/_validation.py:681: DataConversionWarning: A column-vector y was passed when a 1d array was expected. Please change the shape of y to (n_samples,), for example using ravel().\n",
      "  estimator.fit(X_train, y_train, **fit_params)\n"
     ]
    },
    {
     "name": "stdout",
     "output_type": "stream",
     "text": [
      "[CV] END .....................max_depth=60, n_estimators=500; total time=  42.8s\n"
     ]
    },
    {
     "name": "stderr",
     "output_type": "stream",
     "text": [
      "/mnt/storageG1/lwang/miniconda3/envs/ml-workshop/lib/python3.9/site-packages/sklearn/model_selection/_search.py:926: DataConversionWarning: A column-vector y was passed when a 1d array was expected. Please change the shape of y to (n_samples,), for example using ravel().\n",
      "  self.best_estimator_.fit(X, y, **fit_params)\n"
     ]
    },
    {
     "name": "stdout",
     "output_type": "stream",
     "text": [
      "Best parameters found:  {'max_depth': 40, 'n_estimators': 300}\n",
      "Mean Squared Error: 9.374878024921\n"
     ]
    }
   ],
   "source": [
    "from sklearn.model_selection import GridSearchCV\n",
    "from sklearn.ensemble import RandomForestRegressor\n",
    "from sklearn.model_selection import train_test_split\n",
    "from sklearn.metrics import mean_squared_error\n",
    "import pandas as pd\n",
    "\n",
    "# Assuming `train_data` and `train_target` are defined\n",
    "X = train_data  # Features\n",
    "y = train_target  # Target variable\n",
    "\n",
    "# Split the data into training and testing sets\n",
    "X_train, X_test, y_train, y_test = train_test_split(X, y, test_size=0.2, random_state=42)\n",
    "\n",
    "# Define the parameter grid\n",
    "# param_grid = {\n",
    "#     'n_estimators': [100, 200, 300],  # List of numbers of trees\n",
    "#     'max_depth': [None, 10, 20, 30]  # Maximum depth of the trees, including 'None' for unlimited depth\n",
    "# }\n",
    "\n",
    "param_grid = {\n",
    "    'n_estimators': [300,400,500],  # List of numbers of trees\n",
    "    'max_depth': [30,40,50,60]  # Maximum depth of the trees, including 'None' for unlimited depth\n",
    "}\n",
    "\n",
    "# Initialize the RandomForestRegressor\n",
    "regressor = RandomForestRegressor(random_state=42)\n",
    "\n",
    "# Initialize GridSearchCV\n",
    "grid_search = GridSearchCV(estimator=regressor, param_grid=param_grid, cv=5, scoring='neg_mean_squared_error', verbose=2)\n",
    "\n",
    "# Perform the grid search\n",
    "grid_search.fit(X_train, y_train)\n",
    "\n",
    "# Best parameters found\n",
    "print(\"Best parameters found: \", grid_search.best_params_)\n",
    "\n",
    "# Best model\n",
    "best_model = grid_search.best_estimator_\n",
    "\n",
    "# Make predictions with the best model\n",
    "y_pred = best_model.predict(X_test)\n",
    "\n",
    "# Calculate the Mean Squared Error (MSE)\n",
    "mse = mean_squared_error(y_test, y_pred)\n",
    "print(f'Mean Squared Error: {mse}')\n"
   ]
  },
  {
   "cell_type": "markdown",
   "metadata": {},
   "source": [
    "# LazyPredict"
   ]
  },
  {
   "cell_type": "code",
   "execution_count": 64,
   "metadata": {},
   "outputs": [
    {
     "name": "stderr",
     "output_type": "stream",
     "text": [
      " 98%|█████████▊| 41/42 [4:02:39<02:56, 176.57s/it]    "
     ]
    },
    {
     "name": "stdout",
     "output_type": "stream",
     "text": [
      "[LightGBM] [Info] Auto-choosing col-wise multi-threading, the overhead of testing was 0.004158 seconds.\n",
      "You can set `force_col_wise=true` to remove the overhead.\n",
      "[LightGBM] [Info] Total Bins 243\n",
      "[LightGBM] [Info] Number of data points in the train set: 7504, number of used features: 28\n",
      "[LightGBM] [Info] Start training from score 4.002683\n"
     ]
    },
    {
     "name": "stderr",
     "output_type": "stream",
     "text": [
      "100%|██████████| 42/42 [4:02:40<00:00, 346.68s/it]"
     ]
    },
    {
     "name": "stdout",
     "output_type": "stream",
     "text": [
      "                                           Adjusted R-Squared  \\\n",
      "Model                                                           \n",
      "XGBRegressor                                             0.50   \n",
      "LassoCV                                                  0.50   \n",
      "ElasticNetCV                                             0.50   \n",
      "LassoLarsCV                                              0.50   \n",
      "LarsCV                                                   0.50   \n",
      "OrthogonalMatchingPursuit                                0.50   \n",
      "LassoLarsIC                                              0.49   \n",
      "OrthogonalMatchingPursuitCV                              0.49   \n",
      "BayesianRidge                                            0.49   \n",
      "RidgeCV                                                  0.49   \n",
      "Ridge                                                    0.49   \n",
      "GradientBoostingRegressor                                0.48   \n",
      "MLPRegressor                                             0.47   \n",
      "RandomForestRegressor                                    0.47   \n",
      "BaggingRegressor                                         0.46   \n",
      "LGBMRegressor                                            0.45   \n",
      "ExtraTreesRegressor                                      0.45   \n",
      "HistGradientBoostingRegressor                            0.45   \n",
      "ExtraTreeRegressor                                       0.44   \n",
      "DecisionTreeRegressor                                    0.43   \n",
      "PoissonRegressor                                         0.41   \n",
      "KNeighborsRegressor                                      0.41   \n",
      "HuberRegressor                                           0.38   \n",
      "NuSVR                                                    0.37   \n",
      "SVR                                                      0.37   \n",
      "LinearSVR                                                0.34   \n",
      "PassiveAggressiveRegressor                               0.25   \n",
      "AdaBoostRegressor                                        0.21   \n",
      "TweedieRegressor                                         0.11   \n",
      "Lasso                                                    0.10   \n",
      "ElasticNet                                               0.06   \n",
      "GammaRegressor                                          -0.19   \n",
      "KernelRidge                                             -0.44   \n",
      "DummyRegressor                                          -0.86   \n",
      "LassoLars                                               -0.86   \n",
      "QuantileRegressor                                       -1.74   \n",
      "GaussianProcessRegressor                            -13009.61   \n",
      "Lars                                 -15026964877838372864.00   \n",
      "RANSACRegressor                   -91547814537443875487744.00   \n",
      "SGDRegressor                     -220766989680258402222080.00   \n",
      "LinearRegression              -265725579585527639871324160.00   \n",
      "TransformedTargetRegressor    -265725579585527639871324160.00   \n",
      "\n",
      "                                                    R-Squared  \\\n",
      "Model                                                           \n",
      "XGBRegressor                                             0.73   \n",
      "LassoCV                                                  0.73   \n",
      "ElasticNetCV                                             0.73   \n",
      "LassoLarsCV                                              0.73   \n",
      "LarsCV                                                   0.73   \n",
      "OrthogonalMatchingPursuit                                0.73   \n",
      "LassoLarsIC                                              0.73   \n",
      "OrthogonalMatchingPursuitCV                              0.73   \n",
      "BayesianRidge                                            0.73   \n",
      "RidgeCV                                                  0.73   \n",
      "Ridge                                                    0.73   \n",
      "GradientBoostingRegressor                                0.72   \n",
      "MLPRegressor                                             0.72   \n",
      "RandomForestRegressor                                    0.72   \n",
      "BaggingRegressor                                         0.71   \n",
      "LGBMRegressor                                            0.71   \n",
      "ExtraTreesRegressor                                      0.70   \n",
      "HistGradientBoostingRegressor                            0.70   \n",
      "ExtraTreeRegressor                                       0.70   \n",
      "DecisionTreeRegressor                                    0.70   \n",
      "PoissonRegressor                                         0.69   \n",
      "KNeighborsRegressor                                      0.68   \n",
      "HuberRegressor                                           0.67   \n",
      "NuSVR                                                    0.66   \n",
      "SVR                                                      0.66   \n",
      "LinearSVR                                                0.64   \n",
      "PassiveAggressiveRegressor                               0.60   \n",
      "AdaBoostRegressor                                        0.57   \n",
      "TweedieRegressor                                         0.52   \n",
      "Lasso                                                    0.52   \n",
      "ElasticNet                                               0.49   \n",
      "GammaRegressor                                           0.36   \n",
      "KernelRidge                                              0.23   \n",
      "DummyRegressor                                          -0.00   \n",
      "LassoLars                                               -0.00   \n",
      "QuantileRegressor                                       -0.47   \n",
      "GaussianProcessRegressor                             -6982.84   \n",
      "Lars                                  -8066179974404713472.00   \n",
      "RANSACRegressor                   -49141071023030910582784.00   \n",
      "SGDRegressor                     -118503389449904168370176.00   \n",
      "LinearRegression              -142636278594150502118719488.00   \n",
      "TransformedTargetRegressor    -142636278594150502118719488.00   \n",
      "\n",
      "                                           RMSE  Time Taken  \n",
      "Model                                                        \n",
      "XGBRegressor                               2.92        0.70  \n",
      "LassoCV                                    2.92        3.60  \n",
      "ElasticNetCV                               2.93        3.81  \n",
      "LassoLarsCV                                2.93        3.41  \n",
      "LarsCV                                     2.93        4.55  \n",
      "OrthogonalMatchingPursuit                  2.93        0.55  \n",
      "LassoLarsIC                                2.94        0.69  \n",
      "OrthogonalMatchingPursuitCV                2.95        2.49  \n",
      "BayesianRidge                              2.95        1.59  \n",
      "RidgeCV                                    2.96        1.36  \n",
      "Ridge                                      2.96        0.64  \n",
      "GradientBoostingRegressor                  2.98        4.54  \n",
      "MLPRegressor                               3.00       15.08  \n",
      "RandomForestRegressor                      3.01       19.78  \n",
      "BaggingRegressor                           3.04        2.49  \n",
      "LGBMRegressor                              3.05        1.46  \n",
      "ExtraTreesRegressor                        3.06       37.11  \n",
      "HistGradientBoostingRegressor              3.07        3.97  \n",
      "ExtraTreeRegressor                         3.10        0.65  \n",
      "DecisionTreeRegressor                      3.11        0.72  \n",
      "PoissonRegressor                           3.16        0.66  \n",
      "KNeighborsRegressor                        3.17        0.64  \n",
      "HuberRegressor                             3.25        3.74  \n",
      "NuSVR                                      3.29       24.48  \n",
      "SVR                                        3.29       27.58  \n",
      "LinearSVR                                  3.36       11.17  \n",
      "PassiveAggressiveRegressor                 3.59        0.55  \n",
      "AdaBoostRegressor                          3.68        1.68  \n",
      "TweedieRegressor                           3.89        0.37  \n",
      "Lasso                                      3.93        0.31  \n",
      "ElasticNet                                 4.01        0.37  \n",
      "GammaRegressor                             4.50        0.50  \n",
      "KernelRidge                                4.95        3.32  \n",
      "DummyRegressor                             5.64        0.27  \n",
      "LassoLars                                  5.64        0.63  \n",
      "QuantileRegressor                          6.84    14223.82  \n",
      "GaussianProcessRegressor                 471.36      125.48  \n",
      "Lars                             16018987450.94        0.81  \n",
      "RANSACRegressor                1250326442824.23       22.81  \n",
      "SGDRegressor                   1941630088256.87        0.34  \n",
      "LinearRegression              67362175884157.45        0.85  \n",
      "TransformedTargetRegressor    67362175884157.45        0.94  \n"
     ]
    },
    {
     "name": "stderr",
     "output_type": "stream",
     "text": [
      "\n"
     ]
    }
   ],
   "source": [
    "from lazypredict.Supervised import LazyRegressor\n",
    "from sklearn.model_selection import train_test_split\n",
    "import pandas as pd\n",
    "\n",
    "# Assuming `train_data` and `train_target` are your features and target variable respectively\n",
    "X = train_data\n",
    "y = train_target\n",
    "\n",
    "# Split the data into training and testing sets\n",
    "X_train, X_test, y_train, y_test = train_test_split(X, y, test_size=0.2, random_state=42)\n",
    "\n",
    "# Initialize LazyRegressor\n",
    "reg = LazyRegressor(verbose=0, ignore_warnings=True, custom_metric=None)\n",
    "\n",
    "# Fit and compare all models\n",
    "models, predictions = reg.fit(X_train, X_test, y_train, y_test)\n",
    "\n",
    "# Display the results\n",
    "print(models)\n"
   ]
  },
  {
   "cell_type": "markdown",
   "metadata": {},
   "source": [
    "# Xgboost"
   ]
  },
  {
   "cell_type": "code",
   "execution_count": 7,
   "metadata": {},
   "outputs": [
    {
     "data": {
      "text/html": [
       "<div>\n",
       "<style scoped>\n",
       "    .dataframe tbody tr th:only-of-type {\n",
       "        vertical-align: middle;\n",
       "    }\n",
       "\n",
       "    .dataframe tbody tr th {\n",
       "        vertical-align: top;\n",
       "    }\n",
       "\n",
       "    .dataframe thead th {\n",
       "        text-align: right;\n",
       "    }\n",
       "</style>\n",
       "<table border=\"1\" class=\"dataframe\">\n",
       "  <thead>\n",
       "    <tr style=\"text-align: right;\">\n",
       "      <th></th>\n",
       "      <th>0</th>\n",
       "      <th>1</th>\n",
       "      <th>2</th>\n",
       "      <th>3</th>\n",
       "      <th>4</th>\n",
       "      <th>5</th>\n",
       "      <th>6</th>\n",
       "      <th>7</th>\n",
       "      <th>8</th>\n",
       "      <th>9</th>\n",
       "      <th>...</th>\n",
       "      <th>859</th>\n",
       "      <th>860</th>\n",
       "      <th>861</th>\n",
       "      <th>862</th>\n",
       "      <th>863</th>\n",
       "      <th>864</th>\n",
       "      <th>865</th>\n",
       "      <th>866</th>\n",
       "      <th>867</th>\n",
       "      <th>868</th>\n",
       "    </tr>\n",
       "  </thead>\n",
       "  <tbody>\n",
       "    <tr>\n",
       "      <th>0</th>\n",
       "      <td>0.0</td>\n",
       "      <td>0.0</td>\n",
       "      <td>0.0</td>\n",
       "      <td>0.0</td>\n",
       "      <td>0.0</td>\n",
       "      <td>0.0</td>\n",
       "      <td>0.0</td>\n",
       "      <td>0.0</td>\n",
       "      <td>0.0</td>\n",
       "      <td>0.0</td>\n",
       "      <td>...</td>\n",
       "      <td>0.0</td>\n",
       "      <td>0.0</td>\n",
       "      <td>0.0</td>\n",
       "      <td>0.0</td>\n",
       "      <td>0.0</td>\n",
       "      <td>0.0</td>\n",
       "      <td>0.0</td>\n",
       "      <td>0.0</td>\n",
       "      <td>0.0</td>\n",
       "      <td>0.0</td>\n",
       "    </tr>\n",
       "    <tr>\n",
       "      <th>1</th>\n",
       "      <td>0.0</td>\n",
       "      <td>0.0</td>\n",
       "      <td>1.0</td>\n",
       "      <td>0.0</td>\n",
       "      <td>0.0</td>\n",
       "      <td>0.0</td>\n",
       "      <td>0.0</td>\n",
       "      <td>0.0</td>\n",
       "      <td>0.0</td>\n",
       "      <td>0.0</td>\n",
       "      <td>...</td>\n",
       "      <td>0.0</td>\n",
       "      <td>0.0</td>\n",
       "      <td>0.0</td>\n",
       "      <td>0.0</td>\n",
       "      <td>0.0</td>\n",
       "      <td>0.0</td>\n",
       "      <td>0.0</td>\n",
       "      <td>0.0</td>\n",
       "      <td>0.0</td>\n",
       "      <td>0.0</td>\n",
       "    </tr>\n",
       "    <tr>\n",
       "      <th>2</th>\n",
       "      <td>0.0</td>\n",
       "      <td>0.0</td>\n",
       "      <td>0.0</td>\n",
       "      <td>0.0</td>\n",
       "      <td>0.0</td>\n",
       "      <td>0.0</td>\n",
       "      <td>0.0</td>\n",
       "      <td>0.0</td>\n",
       "      <td>0.0</td>\n",
       "      <td>0.0</td>\n",
       "      <td>...</td>\n",
       "      <td>0.0</td>\n",
       "      <td>0.0</td>\n",
       "      <td>0.0</td>\n",
       "      <td>0.0</td>\n",
       "      <td>0.0</td>\n",
       "      <td>0.0</td>\n",
       "      <td>0.0</td>\n",
       "      <td>0.0</td>\n",
       "      <td>0.0</td>\n",
       "      <td>0.0</td>\n",
       "    </tr>\n",
       "    <tr>\n",
       "      <th>3</th>\n",
       "      <td>0.0</td>\n",
       "      <td>0.0</td>\n",
       "      <td>1.0</td>\n",
       "      <td>0.0</td>\n",
       "      <td>0.0</td>\n",
       "      <td>0.0</td>\n",
       "      <td>0.0</td>\n",
       "      <td>0.0</td>\n",
       "      <td>0.0</td>\n",
       "      <td>0.0</td>\n",
       "      <td>...</td>\n",
       "      <td>0.0</td>\n",
       "      <td>0.0</td>\n",
       "      <td>0.0</td>\n",
       "      <td>0.0</td>\n",
       "      <td>0.0</td>\n",
       "      <td>0.0</td>\n",
       "      <td>0.0</td>\n",
       "      <td>0.0</td>\n",
       "      <td>0.0</td>\n",
       "      <td>0.0</td>\n",
       "    </tr>\n",
       "    <tr>\n",
       "      <th>4</th>\n",
       "      <td>0.0</td>\n",
       "      <td>0.0</td>\n",
       "      <td>0.0</td>\n",
       "      <td>0.0</td>\n",
       "      <td>0.0</td>\n",
       "      <td>0.0</td>\n",
       "      <td>0.0</td>\n",
       "      <td>0.0</td>\n",
       "      <td>0.0</td>\n",
       "      <td>0.0</td>\n",
       "      <td>...</td>\n",
       "      <td>0.0</td>\n",
       "      <td>0.0</td>\n",
       "      <td>0.0</td>\n",
       "      <td>0.0</td>\n",
       "      <td>0.0</td>\n",
       "      <td>0.0</td>\n",
       "      <td>0.0</td>\n",
       "      <td>0.0</td>\n",
       "      <td>0.0</td>\n",
       "      <td>0.0</td>\n",
       "    </tr>\n",
       "    <tr>\n",
       "      <th>...</th>\n",
       "      <td>...</td>\n",
       "      <td>...</td>\n",
       "      <td>...</td>\n",
       "      <td>...</td>\n",
       "      <td>...</td>\n",
       "      <td>...</td>\n",
       "      <td>...</td>\n",
       "      <td>...</td>\n",
       "      <td>...</td>\n",
       "      <td>...</td>\n",
       "      <td>...</td>\n",
       "      <td>...</td>\n",
       "      <td>...</td>\n",
       "      <td>...</td>\n",
       "      <td>...</td>\n",
       "      <td>...</td>\n",
       "      <td>...</td>\n",
       "      <td>...</td>\n",
       "      <td>...</td>\n",
       "      <td>...</td>\n",
       "      <td>...</td>\n",
       "    </tr>\n",
       "    <tr>\n",
       "      <th>9531</th>\n",
       "      <td>1.0</td>\n",
       "      <td>0.0</td>\n",
       "      <td>0.0</td>\n",
       "      <td>1.0</td>\n",
       "      <td>0.0</td>\n",
       "      <td>0.0</td>\n",
       "      <td>0.0</td>\n",
       "      <td>0.0</td>\n",
       "      <td>0.0</td>\n",
       "      <td>0.0</td>\n",
       "      <td>...</td>\n",
       "      <td>0.0</td>\n",
       "      <td>0.0</td>\n",
       "      <td>0.0</td>\n",
       "      <td>0.0</td>\n",
       "      <td>0.0</td>\n",
       "      <td>0.0</td>\n",
       "      <td>0.0</td>\n",
       "      <td>0.0</td>\n",
       "      <td>0.0</td>\n",
       "      <td>0.0</td>\n",
       "    </tr>\n",
       "    <tr>\n",
       "      <th>9532</th>\n",
       "      <td>0.0</td>\n",
       "      <td>0.0</td>\n",
       "      <td>0.0</td>\n",
       "      <td>0.0</td>\n",
       "      <td>0.0</td>\n",
       "      <td>0.0</td>\n",
       "      <td>0.0</td>\n",
       "      <td>0.0</td>\n",
       "      <td>0.0</td>\n",
       "      <td>0.0</td>\n",
       "      <td>...</td>\n",
       "      <td>0.0</td>\n",
       "      <td>0.0</td>\n",
       "      <td>0.0</td>\n",
       "      <td>0.0</td>\n",
       "      <td>0.0</td>\n",
       "      <td>0.0</td>\n",
       "      <td>0.0</td>\n",
       "      <td>0.0</td>\n",
       "      <td>0.0</td>\n",
       "      <td>0.0</td>\n",
       "    </tr>\n",
       "    <tr>\n",
       "      <th>9533</th>\n",
       "      <td>0.0</td>\n",
       "      <td>0.0</td>\n",
       "      <td>0.0</td>\n",
       "      <td>0.0</td>\n",
       "      <td>1.0</td>\n",
       "      <td>0.0</td>\n",
       "      <td>0.0</td>\n",
       "      <td>0.0</td>\n",
       "      <td>1.0</td>\n",
       "      <td>0.0</td>\n",
       "      <td>...</td>\n",
       "      <td>0.0</td>\n",
       "      <td>0.0</td>\n",
       "      <td>0.0</td>\n",
       "      <td>0.0</td>\n",
       "      <td>0.0</td>\n",
       "      <td>0.0</td>\n",
       "      <td>0.0</td>\n",
       "      <td>0.0</td>\n",
       "      <td>0.0</td>\n",
       "      <td>0.0</td>\n",
       "    </tr>\n",
       "    <tr>\n",
       "      <th>9534</th>\n",
       "      <td>0.0</td>\n",
       "      <td>0.0</td>\n",
       "      <td>0.0</td>\n",
       "      <td>0.0</td>\n",
       "      <td>0.0</td>\n",
       "      <td>0.0</td>\n",
       "      <td>0.0</td>\n",
       "      <td>0.0</td>\n",
       "      <td>0.0</td>\n",
       "      <td>0.0</td>\n",
       "      <td>...</td>\n",
       "      <td>0.0</td>\n",
       "      <td>0.0</td>\n",
       "      <td>0.0</td>\n",
       "      <td>0.0</td>\n",
       "      <td>0.0</td>\n",
       "      <td>0.0</td>\n",
       "      <td>0.0</td>\n",
       "      <td>0.0</td>\n",
       "      <td>0.0</td>\n",
       "      <td>0.0</td>\n",
       "    </tr>\n",
       "    <tr>\n",
       "      <th>9535</th>\n",
       "      <td>0.0</td>\n",
       "      <td>0.0</td>\n",
       "      <td>0.0</td>\n",
       "      <td>0.0</td>\n",
       "      <td>0.0</td>\n",
       "      <td>0.0</td>\n",
       "      <td>0.0</td>\n",
       "      <td>0.0</td>\n",
       "      <td>0.0</td>\n",
       "      <td>0.0</td>\n",
       "      <td>...</td>\n",
       "      <td>0.0</td>\n",
       "      <td>0.0</td>\n",
       "      <td>0.0</td>\n",
       "      <td>0.0</td>\n",
       "      <td>0.0</td>\n",
       "      <td>0.0</td>\n",
       "      <td>0.0</td>\n",
       "      <td>0.0</td>\n",
       "      <td>0.0</td>\n",
       "      <td>0.0</td>\n",
       "    </tr>\n",
       "  </tbody>\n",
       "</table>\n",
       "<p>9399 rows × 869 columns</p>\n",
       "</div>"
      ],
      "text/plain": [
       "      0    1    2    3    4    5    6    7    8    9    ...  859  860  861  \\\n",
       "0     0.0  0.0  0.0  0.0  0.0  0.0  0.0  0.0  0.0  0.0  ...  0.0  0.0  0.0   \n",
       "1     0.0  0.0  1.0  0.0  0.0  0.0  0.0  0.0  0.0  0.0  ...  0.0  0.0  0.0   \n",
       "2     0.0  0.0  0.0  0.0  0.0  0.0  0.0  0.0  0.0  0.0  ...  0.0  0.0  0.0   \n",
       "3     0.0  0.0  1.0  0.0  0.0  0.0  0.0  0.0  0.0  0.0  ...  0.0  0.0  0.0   \n",
       "4     0.0  0.0  0.0  0.0  0.0  0.0  0.0  0.0  0.0  0.0  ...  0.0  0.0  0.0   \n",
       "...   ...  ...  ...  ...  ...  ...  ...  ...  ...  ...  ...  ...  ...  ...   \n",
       "9531  1.0  0.0  0.0  1.0  0.0  0.0  0.0  0.0  0.0  0.0  ...  0.0  0.0  0.0   \n",
       "9532  0.0  0.0  0.0  0.0  0.0  0.0  0.0  0.0  0.0  0.0  ...  0.0  0.0  0.0   \n",
       "9533  0.0  0.0  0.0  0.0  1.0  0.0  0.0  0.0  1.0  0.0  ...  0.0  0.0  0.0   \n",
       "9534  0.0  0.0  0.0  0.0  0.0  0.0  0.0  0.0  0.0  0.0  ...  0.0  0.0  0.0   \n",
       "9535  0.0  0.0  0.0  0.0  0.0  0.0  0.0  0.0  0.0  0.0  ...  0.0  0.0  0.0   \n",
       "\n",
       "      862  863  864  865  866  867  868  \n",
       "0     0.0  0.0  0.0  0.0  0.0  0.0  0.0  \n",
       "1     0.0  0.0  0.0  0.0  0.0  0.0  0.0  \n",
       "2     0.0  0.0  0.0  0.0  0.0  0.0  0.0  \n",
       "3     0.0  0.0  0.0  0.0  0.0  0.0  0.0  \n",
       "4     0.0  0.0  0.0  0.0  0.0  0.0  0.0  \n",
       "...   ...  ...  ...  ...  ...  ...  ...  \n",
       "9531  0.0  0.0  0.0  0.0  0.0  0.0  0.0  \n",
       "9532  0.0  0.0  0.0  0.0  0.0  0.0  0.0  \n",
       "9533  0.0  0.0  0.0  0.0  0.0  0.0  0.0  \n",
       "9534  0.0  0.0  0.0  0.0  0.0  0.0  0.0  \n",
       "9535  0.0  0.0  0.0  0.0  0.0  0.0  0.0  \n",
       "\n",
       "[9399 rows x 869 columns]"
      ]
     },
     "execution_count": 7,
     "metadata": {},
     "output_type": "execute_result"
    }
   ],
   "source": [
    "train_data"
   ]
  },
  {
   "cell_type": "code",
   "execution_count": 33,
   "metadata": {},
   "outputs": [
    {
     "data": {
      "text/html": [
       "<div>\n",
       "<style scoped>\n",
       "    .dataframe tbody tr th:only-of-type {\n",
       "        vertical-align: middle;\n",
       "    }\n",
       "\n",
       "    .dataframe tbody tr th {\n",
       "        vertical-align: top;\n",
       "    }\n",
       "\n",
       "    .dataframe thead th {\n",
       "        text-align: right;\n",
       "    }\n",
       "</style>\n",
       "<table border=\"1\" class=\"dataframe\">\n",
       "  <thead>\n",
       "    <tr style=\"text-align: right;\">\n",
       "      <th></th>\n",
       "      <th>0</th>\n",
       "      <th>1</th>\n",
       "      <th>2</th>\n",
       "      <th>3</th>\n",
       "      <th>4</th>\n",
       "      <th>5</th>\n",
       "      <th>6</th>\n",
       "      <th>7</th>\n",
       "      <th>8</th>\n",
       "      <th>9</th>\n",
       "      <th>...</th>\n",
       "      <th>859</th>\n",
       "      <th>860</th>\n",
       "      <th>861</th>\n",
       "      <th>862</th>\n",
       "      <th>863</th>\n",
       "      <th>864</th>\n",
       "      <th>865</th>\n",
       "      <th>866</th>\n",
       "      <th>867</th>\n",
       "      <th>868</th>\n",
       "    </tr>\n",
       "  </thead>\n",
       "  <tbody>\n",
       "    <tr>\n",
       "      <th>0</th>\n",
       "      <td>0.0</td>\n",
       "      <td>0.0</td>\n",
       "      <td>0.0</td>\n",
       "      <td>0.0</td>\n",
       "      <td>0.0</td>\n",
       "      <td>0.0</td>\n",
       "      <td>0.0</td>\n",
       "      <td>0.0</td>\n",
       "      <td>0.0</td>\n",
       "      <td>0.0</td>\n",
       "      <td>...</td>\n",
       "      <td>0.0</td>\n",
       "      <td>0.0</td>\n",
       "      <td>0.0</td>\n",
       "      <td>0.0</td>\n",
       "      <td>0.0</td>\n",
       "      <td>0.0</td>\n",
       "      <td>0.0</td>\n",
       "      <td>0.0</td>\n",
       "      <td>0.0</td>\n",
       "      <td>0.0</td>\n",
       "    </tr>\n",
       "    <tr>\n",
       "      <th>1</th>\n",
       "      <td>0.0</td>\n",
       "      <td>0.0</td>\n",
       "      <td>1.0</td>\n",
       "      <td>0.0</td>\n",
       "      <td>0.0</td>\n",
       "      <td>0.0</td>\n",
       "      <td>0.0</td>\n",
       "      <td>0.0</td>\n",
       "      <td>0.0</td>\n",
       "      <td>0.0</td>\n",
       "      <td>...</td>\n",
       "      <td>0.0</td>\n",
       "      <td>0.0</td>\n",
       "      <td>0.0</td>\n",
       "      <td>0.0</td>\n",
       "      <td>0.0</td>\n",
       "      <td>0.0</td>\n",
       "      <td>0.0</td>\n",
       "      <td>0.0</td>\n",
       "      <td>0.0</td>\n",
       "      <td>0.0</td>\n",
       "    </tr>\n",
       "    <tr>\n",
       "      <th>2</th>\n",
       "      <td>0.0</td>\n",
       "      <td>0.0</td>\n",
       "      <td>0.0</td>\n",
       "      <td>0.0</td>\n",
       "      <td>0.0</td>\n",
       "      <td>0.0</td>\n",
       "      <td>0.0</td>\n",
       "      <td>0.0</td>\n",
       "      <td>0.0</td>\n",
       "      <td>0.0</td>\n",
       "      <td>...</td>\n",
       "      <td>0.0</td>\n",
       "      <td>0.0</td>\n",
       "      <td>0.0</td>\n",
       "      <td>0.0</td>\n",
       "      <td>0.0</td>\n",
       "      <td>0.0</td>\n",
       "      <td>0.0</td>\n",
       "      <td>0.0</td>\n",
       "      <td>0.0</td>\n",
       "      <td>0.0</td>\n",
       "    </tr>\n",
       "    <tr>\n",
       "      <th>3</th>\n",
       "      <td>0.0</td>\n",
       "      <td>0.0</td>\n",
       "      <td>1.0</td>\n",
       "      <td>0.0</td>\n",
       "      <td>0.0</td>\n",
       "      <td>0.0</td>\n",
       "      <td>0.0</td>\n",
       "      <td>0.0</td>\n",
       "      <td>0.0</td>\n",
       "      <td>0.0</td>\n",
       "      <td>...</td>\n",
       "      <td>0.0</td>\n",
       "      <td>0.0</td>\n",
       "      <td>0.0</td>\n",
       "      <td>0.0</td>\n",
       "      <td>0.0</td>\n",
       "      <td>0.0</td>\n",
       "      <td>0.0</td>\n",
       "      <td>0.0</td>\n",
       "      <td>0.0</td>\n",
       "      <td>0.0</td>\n",
       "    </tr>\n",
       "    <tr>\n",
       "      <th>4</th>\n",
       "      <td>0.0</td>\n",
       "      <td>0.0</td>\n",
       "      <td>0.0</td>\n",
       "      <td>0.0</td>\n",
       "      <td>0.0</td>\n",
       "      <td>0.0</td>\n",
       "      <td>0.0</td>\n",
       "      <td>0.0</td>\n",
       "      <td>0.0</td>\n",
       "      <td>0.0</td>\n",
       "      <td>...</td>\n",
       "      <td>0.0</td>\n",
       "      <td>0.0</td>\n",
       "      <td>0.0</td>\n",
       "      <td>0.0</td>\n",
       "      <td>0.0</td>\n",
       "      <td>0.0</td>\n",
       "      <td>0.0</td>\n",
       "      <td>0.0</td>\n",
       "      <td>0.0</td>\n",
       "      <td>0.0</td>\n",
       "    </tr>\n",
       "    <tr>\n",
       "      <th>...</th>\n",
       "      <td>...</td>\n",
       "      <td>...</td>\n",
       "      <td>...</td>\n",
       "      <td>...</td>\n",
       "      <td>...</td>\n",
       "      <td>...</td>\n",
       "      <td>...</td>\n",
       "      <td>...</td>\n",
       "      <td>...</td>\n",
       "      <td>...</td>\n",
       "      <td>...</td>\n",
       "      <td>...</td>\n",
       "      <td>...</td>\n",
       "      <td>...</td>\n",
       "      <td>...</td>\n",
       "      <td>...</td>\n",
       "      <td>...</td>\n",
       "      <td>...</td>\n",
       "      <td>...</td>\n",
       "      <td>...</td>\n",
       "      <td>...</td>\n",
       "    </tr>\n",
       "    <tr>\n",
       "      <th>9531</th>\n",
       "      <td>1.0</td>\n",
       "      <td>0.0</td>\n",
       "      <td>0.0</td>\n",
       "      <td>1.0</td>\n",
       "      <td>0.0</td>\n",
       "      <td>0.0</td>\n",
       "      <td>0.0</td>\n",
       "      <td>0.0</td>\n",
       "      <td>0.0</td>\n",
       "      <td>0.0</td>\n",
       "      <td>...</td>\n",
       "      <td>0.0</td>\n",
       "      <td>0.0</td>\n",
       "      <td>0.0</td>\n",
       "      <td>0.0</td>\n",
       "      <td>0.0</td>\n",
       "      <td>0.0</td>\n",
       "      <td>0.0</td>\n",
       "      <td>0.0</td>\n",
       "      <td>0.0</td>\n",
       "      <td>0.0</td>\n",
       "    </tr>\n",
       "    <tr>\n",
       "      <th>9532</th>\n",
       "      <td>0.0</td>\n",
       "      <td>0.0</td>\n",
       "      <td>0.0</td>\n",
       "      <td>0.0</td>\n",
       "      <td>0.0</td>\n",
       "      <td>0.0</td>\n",
       "      <td>0.0</td>\n",
       "      <td>0.0</td>\n",
       "      <td>0.0</td>\n",
       "      <td>0.0</td>\n",
       "      <td>...</td>\n",
       "      <td>0.0</td>\n",
       "      <td>0.0</td>\n",
       "      <td>0.0</td>\n",
       "      <td>0.0</td>\n",
       "      <td>0.0</td>\n",
       "      <td>0.0</td>\n",
       "      <td>0.0</td>\n",
       "      <td>0.0</td>\n",
       "      <td>0.0</td>\n",
       "      <td>0.0</td>\n",
       "    </tr>\n",
       "    <tr>\n",
       "      <th>9533</th>\n",
       "      <td>0.0</td>\n",
       "      <td>0.0</td>\n",
       "      <td>0.0</td>\n",
       "      <td>0.0</td>\n",
       "      <td>1.0</td>\n",
       "      <td>0.0</td>\n",
       "      <td>0.0</td>\n",
       "      <td>0.0</td>\n",
       "      <td>1.0</td>\n",
       "      <td>0.0</td>\n",
       "      <td>...</td>\n",
       "      <td>0.0</td>\n",
       "      <td>0.0</td>\n",
       "      <td>0.0</td>\n",
       "      <td>0.0</td>\n",
       "      <td>0.0</td>\n",
       "      <td>0.0</td>\n",
       "      <td>0.0</td>\n",
       "      <td>0.0</td>\n",
       "      <td>0.0</td>\n",
       "      <td>0.0</td>\n",
       "    </tr>\n",
       "    <tr>\n",
       "      <th>9534</th>\n",
       "      <td>0.0</td>\n",
       "      <td>0.0</td>\n",
       "      <td>0.0</td>\n",
       "      <td>0.0</td>\n",
       "      <td>0.0</td>\n",
       "      <td>0.0</td>\n",
       "      <td>0.0</td>\n",
       "      <td>0.0</td>\n",
       "      <td>0.0</td>\n",
       "      <td>0.0</td>\n",
       "      <td>...</td>\n",
       "      <td>0.0</td>\n",
       "      <td>0.0</td>\n",
       "      <td>0.0</td>\n",
       "      <td>0.0</td>\n",
       "      <td>0.0</td>\n",
       "      <td>0.0</td>\n",
       "      <td>0.0</td>\n",
       "      <td>0.0</td>\n",
       "      <td>0.0</td>\n",
       "      <td>0.0</td>\n",
       "    </tr>\n",
       "    <tr>\n",
       "      <th>9535</th>\n",
       "      <td>0.0</td>\n",
       "      <td>0.0</td>\n",
       "      <td>0.0</td>\n",
       "      <td>0.0</td>\n",
       "      <td>0.0</td>\n",
       "      <td>0.0</td>\n",
       "      <td>0.0</td>\n",
       "      <td>0.0</td>\n",
       "      <td>0.0</td>\n",
       "      <td>0.0</td>\n",
       "      <td>...</td>\n",
       "      <td>0.0</td>\n",
       "      <td>0.0</td>\n",
       "      <td>0.0</td>\n",
       "      <td>0.0</td>\n",
       "      <td>0.0</td>\n",
       "      <td>0.0</td>\n",
       "      <td>0.0</td>\n",
       "      <td>0.0</td>\n",
       "      <td>0.0</td>\n",
       "      <td>0.0</td>\n",
       "    </tr>\n",
       "  </tbody>\n",
       "</table>\n",
       "<p>9399 rows × 869 columns</p>\n",
       "</div>"
      ],
      "text/plain": [
       "      0    1    2    3    4    5    6    7    8    9    ...  859  860  861  \\\n",
       "0     0.0  0.0  0.0  0.0  0.0  0.0  0.0  0.0  0.0  0.0  ...  0.0  0.0  0.0   \n",
       "1     0.0  0.0  1.0  0.0  0.0  0.0  0.0  0.0  0.0  0.0  ...  0.0  0.0  0.0   \n",
       "2     0.0  0.0  0.0  0.0  0.0  0.0  0.0  0.0  0.0  0.0  ...  0.0  0.0  0.0   \n",
       "3     0.0  0.0  1.0  0.0  0.0  0.0  0.0  0.0  0.0  0.0  ...  0.0  0.0  0.0   \n",
       "4     0.0  0.0  0.0  0.0  0.0  0.0  0.0  0.0  0.0  0.0  ...  0.0  0.0  0.0   \n",
       "...   ...  ...  ...  ...  ...  ...  ...  ...  ...  ...  ...  ...  ...  ...   \n",
       "9531  1.0  0.0  0.0  1.0  0.0  0.0  0.0  0.0  0.0  0.0  ...  0.0  0.0  0.0   \n",
       "9532  0.0  0.0  0.0  0.0  0.0  0.0  0.0  0.0  0.0  0.0  ...  0.0  0.0  0.0   \n",
       "9533  0.0  0.0  0.0  0.0  1.0  0.0  0.0  0.0  1.0  0.0  ...  0.0  0.0  0.0   \n",
       "9534  0.0  0.0  0.0  0.0  0.0  0.0  0.0  0.0  0.0  0.0  ...  0.0  0.0  0.0   \n",
       "9535  0.0  0.0  0.0  0.0  0.0  0.0  0.0  0.0  0.0  0.0  ...  0.0  0.0  0.0   \n",
       "\n",
       "      862  863  864  865  866  867  868  \n",
       "0     0.0  0.0  0.0  0.0  0.0  0.0  0.0  \n",
       "1     0.0  0.0  0.0  0.0  0.0  0.0  0.0  \n",
       "2     0.0  0.0  0.0  0.0  0.0  0.0  0.0  \n",
       "3     0.0  0.0  0.0  0.0  0.0  0.0  0.0  \n",
       "4     0.0  0.0  0.0  0.0  0.0  0.0  0.0  \n",
       "...   ...  ...  ...  ...  ...  ...  ...  \n",
       "9531  0.0  0.0  0.0  0.0  0.0  0.0  0.0  \n",
       "9532  0.0  0.0  0.0  0.0  0.0  0.0  0.0  \n",
       "9533  0.0  0.0  0.0  0.0  0.0  0.0  0.0  \n",
       "9534  0.0  0.0  0.0  0.0  0.0  0.0  0.0  \n",
       "9535  0.0  0.0  0.0  0.0  0.0  0.0  0.0  \n",
       "\n",
       "[9399 rows x 869 columns]"
      ]
     },
     "execution_count": 33,
     "metadata": {},
     "output_type": "execute_result"
    }
   ],
   "source": [
    "X"
   ]
  },
  {
   "cell_type": "code",
   "execution_count": 21,
   "metadata": {},
   "outputs": [
    {
     "name": "stdout",
     "output_type": "stream",
     "text": [
      "Mean MAE: 1.688 (0.068)\n"
     ]
    }
   ],
   "source": [
    "# fit model no training data\n",
    "# evaluate an xgboost regression model on the housing dataset\n",
    "from numpy import absolute\n",
    "from pandas import read_csv\n",
    "from sklearn.model_selection import cross_val_score\n",
    "from sklearn.model_selection import RepeatedKFold\n",
    "from xgboost import XGBRegressor\n",
    "\n",
    "# load the dataset\n",
    "X = train_data\n",
    "y = train_target# define model\n",
    "model = XGBRegressor()\n",
    "# define model evaluation method\n",
    "cv = RepeatedKFold(n_splits=10, n_repeats=3, random_state=1)\n",
    "# evaluate model\n",
    "scores = cross_val_score(model, X, y, scoring='neg_mean_absolute_error', cv=cv, n_jobs=-1)\n",
    "# force scores to be positive\n",
    "scores = absolute(scores)\n",
    "model = XGBRegressor(objective='reg:squarederror', n_estimators=100, learning_rate=0.1, max_depth=3, random_state=42)\n",
    "model.fit(X, y)\n",
    "print('Mean MAE: %.3f (%.3f)' % (scores.mean(), scores.std()) )"
   ]
  },
  {
   "cell_type": "code",
   "execution_count": 30,
   "metadata": {},
   "outputs": [],
   "source": [
    "import numpy as np\n",
    "\n",
    "# Assuming model.feature_importances_ are defined and X.columns contains feature names\n",
    "feature_importances = model.feature_importances_\n",
    "features = X.columns\n",
    "\n",
    "# Create an array of indices sorted by the feature importances in descending order\n",
    "sorted_indices = np.argsort(feature_importances)[::-1]\n",
    "\n",
    "# Order the feature importances from largest to smallest\n",
    "ordered_importances = feature_importances[sorted_indices]\n",
    "\n",
    "# Order the feature names (index) in the same order as the sorted importances\n",
    "ordered_features = features[sorted_indices]\n",
    "\n",
    "# Now, ordered_importances contains the feature importances in descending order,\n",
    "# and ordered_features contains the corresponding feature names in the same order.\n"
   ]
  },
  {
   "cell_type": "code",
   "execution_count": 39,
   "metadata": {},
   "outputs": [],
   "source": [
    "SNP = np.array(['309C>T', '1482G>A', 'Ser450Leu',\n",
    "       'Glu250Gly', 'Asp435Val', 'Ser450Phe',\n",
    "       'Thr400Ala', 'His445Tyr', '-61C>T',\n",
    "       'Val359Ala', '1683G>A', '684C>T',\n",
    "       'Ile751Val', 'Lys944Asn', '-113C>T',\n",
    "       'His445Leu', 'His445Asp', 'Lys891Glu',\n",
    "       'Asp435Tyr', 'Gln432Lys', 'Glu761Asp',\n",
    "       'Val695Leu', 'His445Arg', 'Arg827Leu',\n",
    "       '1299C>T', 'Ala286Val', '1297_1299dupTTC',\n",
    "       'Leu449Met', 'Leu554Pro', '138A>C',\n",
    "       'Leu430Pro', 'Arg552His', '1292_1294dupGCC',\n",
    "       'Asp634Gly', '1410C>T', '-49C>T',\n",
    "       'Ile488Val', 'Asp531Glu', 'Thr399Ile',\n",
    "       'Pro768Leu', 'Leu452Pro', '2025C>A',\n",
    "       'His445Asn', 'Arg219Cys', '1659G>A',\n",
    "       '1300_1305delATGGAC', 'Gly46Val', '300G>A',\n",
    "       'Pro45Ser', 'Asp435Phe', 'Ala692Thr',\n",
    "       '-199C>T', '1788C>T', 'Ser450Met',\n",
    "       'Gln409Arg', 'Pro802Arg', 'His445Cys',\n",
    "       'Pro45Leu', '-6T>C', 'Met434Ile',\n",
    "       '2058G>A', '-134T>G', 'Pro45Thr',\n",
    "       'Gln432Pro', '1853delC', 'Cys116Phe',\n",
    "       'Thr756Ala', 'Leu731Pro', '-80A>G',\n",
    "       'Gly28Val', 'Gly95Trp', 'Arg827Cys',\n",
    "       '-169T>C', 'Asp435Asn', '2361T>C',\n",
    "       'Val170Ala', 'Phe1062Cys', 'Asp435Gly',\n",
    "       'Ile1106Thr', 'Ser450Trp', 'Asp103Glu',\n",
    "       'Met601Ile', 'Val970Met', 'Phe669Leu',\n",
    "       '375T>C', '378A>G', '387C>G', '390C>G',\n",
    "       'Asn539Lys', '-83A>G', 'Ile491Phe',\n",
    "       '-187A>C', 'Gly46Arg', 'Tyr308Asp',\n",
    "       'Tyr474His', 'Met434Lys', '204C>T',\n",
    "       'Glu291*', 'Phe1013Leu', '1116G>C',\n",
    "       '1236C>A', 'Gln436Arg', 'Ser431Arg',\n",
    "       'Phe503Ser', 'Ile491Thr', 'Val496Met',\n",
    "       'Tyr1015Cys', 'Gln975His', 'Asp265Gly',\n",
    "       'His674Arg', 'Ser22Thr', 'Glu639Gly',\n",
    "       'Leu48Phe', 'Asp545Glu', '-13G>A',\n",
    "       'Gln1080Arg', 'His835Arg', 'Val113Ile',\n",
    "       'His445Gly', 'Arg827His', '2031C>T',\n",
    "       'Thr427Ala', '1884G>C', '1312_1314delAAC',\n",
    "       'Glu1011Ala', 'Val357Leu', 'Met587Ile',\n",
    "       'Met121Ile', 'Ile491Leu', '-137C>T',\n",
    "       'Ser672Pro', 'Pro152Leu', 'Ala686Thr',\n",
    "       '-192A>C', '-173A>T', 'Val262Gly',\n",
    "       '2065C>A', 'Asp897Gly', 'Leu1030Arg',\n",
    "       'Arg167Cys', 'Gln432Leu', 'His445Gln',\n",
    "       '114G>A', '801G>A', 'Ala934Thr',\n",
    "       'Leu778Val', 'Glu821Val', 'Ala451Val',\n",
    "       'Gln432Glu', 'Glu481Ala', 'Arg791Cys',\n",
    "       'Ile480Val', 'Ala951Asp', 'Asp574Glu',\n",
    "       'Asp571Ala', 'Val305Ile', 'Val562Ala',\n",
    "       'Val170Phe', 'Leu430Arg', 'Glu207Lys',\n",
    "       'Val833Met', 'Ser441Leu', 'Lys446Arg',\n",
    "       'Ser428Gly', 'Glu320Asp', 'Lys944Thr',\n",
    "       '-115delT', 'Thr52Pro', 'His445Ser',\n",
    "       'Asp92Gly', 'Asn437Ser', 'Ser582Ala',\n",
    "       'Ser428Thr', 'Phe151Leu', 'Pro454Leu',\n",
    "       'Asn437Ile', 'Thr400Asn', 'Ser874Tyr',\n",
    "       'Leu778Met', 'Asn437Asp', 'Gly79Ser',\n",
    "       '231G>A', '1182C>G', 'Ala527Val',\n",
    "       '-110A>G', 'Ile491Val', 'Val496Ala',\n",
    "       'Gln429Leu', '1173G>A', 'Gly1000Cys',\n",
    "       '336C>T', '2238C>T', '1698C>A',\n",
    "       '1725C>A', 'Tyr564His', 'Thr288Lys',\n",
    "       'Leu327Pro', 'Ile480Thr', 'Phe424Val',\n",
    "       'Thr159Pro', 'His723Asp', 'Ile59Asn',\n",
    "       'Arg552Leu', 'Met390Thr', 'His1028Tyr',\n",
    "       'Asn381Thr', 'Glu750Gly', '-159C>T',\n",
    "       'Ser254Pro', 'Val1101Ala', 'Ser98Ala',\n",
    "       'Asp435His', '1401C>A', 'Pro768Gln',\n",
    "       'Gly633Asp', '12C>T', 'Ser195Arg',\n",
    "       'Met1070Thr', 'Glu550Gly', 'His445Pro',\n",
    "       'Lys446Gln', '1332C>G', 'Leu452Arg',\n",
    "       'Ile491Met', 'Asp435Leu', '1155C>G',\n",
    "       'Gln401Arg', 'Ile90Leu', 'Met434Val',\n",
    "       'Gln1056Arg', '1980C>T', 'His749Tyr',\n",
    "       'Val534Met', 'Val970Ala', '1242C>T',\n",
    "       'Glu156Gly', 'Ala538Pro', 'Asp543Gly',\n",
    "       'Gln432His', 'Ser188Phe',\n",
    "       '1279_1284delACCAGC', 'Pro45Ala', 'Leu378Arg',\n",
    "       'Gln1060His', '1572C>T', 'Thr410Arg',\n",
    "       'Ala1075Thr', 'Leu1149Gln', 'Arg219Leu',\n",
    "       '-122C>T', 'Pro483Ser', 'Thr676Pro',\n",
    "       'Ile925Val', '1254C>T', 'Gln429Pro',\n",
    "       'Ile488Leu', 'Lys110Arg', '2004G>A',\n",
    "       'Ile588Val', 'His343Gln', 'Asp53Val',\n",
    "       'Cys681Arg', 'Pro416Ala', 'Thr482Ile',\n",
    "       'Ala753Thr', 'Thr350Ile', 'Ser388Leu',\n",
    "       'Glu639Asp', 'Ala584Gly', 'Phe424Leu',\n",
    "       'Pro45Arg', 'Gln172Arg', 'Lys891Arg',\n",
    "       'Ile892Phe', 'Ile910Val', 'Gly945Glu',\n",
    "       'Leu127Met', 'Asn136Lys', 'Ala753Val',\n",
    "       'Asp108Glu', 'Glu1150Asp', 'Thr676Ile',\n",
    "       'Pro15Leu', '1017G>C', 'His343Tyr',\n",
    "       '1323G>T', '1365C>T', 'Ser458Thr',\n",
    "       'Glu460Asp', '1383T>C', '1389G>C',\n",
    "       '1392G>C', '1413G>C', '1428G>C',\n",
    "       '1437G>A', '1539G>A', 'Met605Thr',\n",
    "       '1869G>T', 'Met898Ile', '1524G>T',\n",
    "       '1884G>A', 'Arg1008Cys', 'Val1131Glu',\n",
    "       'Ser450Val', 'Asn163Lys', '-169_-168insA',\n",
    "       '12C>A', 'Glu86Asp', 'Gln537*',\n",
    "       'Cys701Tyr', 'Gly722Cys', 'Ala942Thr',\n",
    "       '-152C>T', 'Gly675Asp', 'Ser493Leu',\n",
    "       'Pro27Thr', 'Asp766His', '183G>T',\n",
    "       '834C>T', 'Lys1054Arg', 'Tyr308Cys',\n",
    "       '2136C>T', '423C>T', 'Ser428Arg',\n",
    "       '798G>A', '855A>C', '1608A>G',\n",
    "       'Arg222His', '942C>G', '1179G>A',\n",
    "       '1623G>A', 'Arg627His', '2109C>T',\n",
    "       'Val736Leu', 'Gln869Pro', 'Ile873Phe',\n",
    "       '-54C>A', 'Arg224Cys', 'Thr676Ala',\n",
    "       'Ala599Thr', 'Thr399Pro', 'Asp301Asn',\n",
    "       'Met1070Ile', 'Phe424Cys', 'Glu356*',\n",
    "       '495C>T', 'Thr444Ile', 'Glu460Gly',\n",
    "       'Asn1155Ser', '210G>A', 'Tyr564Cys',\n",
    "       'Asp435Ser', '703C>T', 'Thr508Ala',\n",
    "       'Gln429His', 'Ser450Ala', 'Glu738Ala',\n",
    "       'Glu706Lys', '-38G>A', '15C>A',\n",
    "       'Ile922Asn', '-131A>C', 'Val496Leu',\n",
    "       'Val518Ile', 'Ser1009Ile', 'Ala960Glu',\n",
    "       'Gly442Glu', '2175C>T', '2406G>A',\n",
    "       'Asp435Ala', 'Ile491Ser', 'Gly642Ser',\n",
    "       '804_805delGT', '30C>G', '-173A>G',\n",
    "       '-26C>T', 'Phe971Leu', 'Val216Ile',\n",
    "       'Ile1106Met', '705G>A', 'Arg225Gly',\n",
    "       'Ser450Gly', 'Gln51Pro', 'Ile162Val',\n",
    "       '1839C>G', '1941G>C', 'Ala977Asp',\n",
    "       '36T>C', 'Val50Ala', '2553C>T',\n",
    "       'Glu1150Lys', 'His1028Arg', 'Glu807Gly',\n",
    "       '-21G>C', 'Gly463Trp', 'Gln226His',\n",
    "       'Asn260Asp', 'His914Tyr', 'Glu1066Ala',\n",
    "       'Lys832Glu', 'Ser1134Arg', 'Pro439Leu',\n",
    "       'Lys274Asn', '606C>T', 'Leu758Pro',\n",
    "       'Pro856Leu', 'Lys944Glu', 'Thr968Lys',\n",
    "       '1306_1308delCAG', 'Ile491Tyr', 'Arg225Pro',\n",
    "       '-46C>G', '2427G>C', 'Arg552Cys',\n",
    "       '-161G>A', 'Val583Met', 'Asn24Lys',\n",
    "       'Ser102Pro', 'Pro1014Arg', '702G>A',\n",
    "       'Ala943Thr', 'Gly884Ala', 'Gly973Asp',\n",
    "       'Met587Thr', 'Arg224His', '708C>T',\n",
    "       'Val44Gly', 'Ile744Thr', 'Thr361Asn',\n",
    "       'Ile406Phe', 'Leu42Val', 'Asn437His',\n",
    "       'Asp520Ala', 'Asp515Tyr', '-123G>T',\n",
    "       '1806G>A', 'Val33Leu', 'Asp435Glu',\n",
    "       '108T>C', 'Asp631Gly', 'Leu80Met',\n",
    "       'Phe133Leu', 'Arg32Leu', 'Ala1055Pro',\n",
    "       'Asn487Ser', 'Gln980His', 'Ala584Asp',\n",
    "       '279C>T', 'Arg734His', 'Gly376Val',\n",
    "       'Arg824His', 'Asp545His', 'Val50Leu',\n",
    "       'Lys886Glu', '2058G>C', 'Val534Gly',\n",
    "       'Val394Leu', 'Asp1033Glu', '96G>T',\n",
    "       'Lys37Asn', '201C>G', '2364C>G',\n",
    "       '2361T>G', 'Pro280Leu', '-87C>T',\n",
    "       '1025delT', '-56G>T', 'Glu738*',\n",
    "       'Ala628Glu', 'His445Phe', 'Leu235Met',\n",
    "       'Glu240Gly', '-190C>T', 'His674Asp',\n",
    "       'Ser441Gln', '1291_1302delAGCCAATTCATG',\n",
    "       'Val129Gly', 'Arg224Leu', '-53A>T',\n",
    "       '-25G>A', 'Arg448Gln', '213G>A',\n",
    "       '2427G>A', 'Ser441Ala', '-62C>T',\n",
    "       'Pro27Leu', 'Arg824Cys', 'Asp531Gly',\n",
    "       '691C>T', '1059C>T', 'Thr660Asn',\n",
    "       '2184G>C', 'His445Val', 'Phe433Leu',\n",
    "       '1290_1298delGAGCCAATT', 'Pro577Ala',\n",
    "       'Ser441Val', 'Val1094Asp', 'Lys822Thr',\n",
    "       'Val168Ala', 'Glu639Lys', '-159_-158insT',\n",
    "       'Arg871Leu', 'Ala599Val', 'His674Tyr',\n",
    "       'Val867Met', 'Asp214Asn', 'Phe433Ser',\n",
    "       'Arg1162Ser', 'Gly836Cys', 'Met477Arg',\n",
    "       'Pro104His', 'Gly453Ala', 'Leu525Pro',\n",
    "       'Arg781Trp', '390C>T', '-160T>C',\n",
    "       'Ala670Thr', 'Glu978Lys', 'Val168Gly',\n",
    "       'His835Gln', 'Glu592Asp', 'Gly60Arg',\n",
    "       '2158_2159delTG', '1294_1296delCAA',\n",
    "       '-180A>C', 'Ser34Pro', 'Ser239Asn',\n",
    "       '726T>C', '735G>C', 'Phe246Leu',\n",
    "       'Asp259His', '780C>T', '802C>T',\n",
    "       '805T>C', '828T>C', '840C>G', '849A>G',\n",
    "       'Asp402Glu', 'His445*', '1497G>C',\n",
    "       '1512G>T', '1521A>G', '1527G>T',\n",
    "       '1533C>G', 'Gly516Cys', '1944G>A',\n",
    "       '2352G>C', '2370T>C', '2379G>C',\n",
    "       '2388G>C', '2430G>C', 'His883Gln',\n",
    "       'Gly890Cys', 'Lys446Glu', 'Pro177Ala',\n",
    "       'Ser441Met', '1921delA', 'Pro177Ser',\n",
    "       'Gly1092Cys', '-70C>T', '865C>T',\n",
    "       'Leu778Gln', 'His593Tyr', '-66C>T',\n",
    "       'Thr9Ile', 'Asp265Glu', 'Glu563Ala',\n",
    "       'Pro700Leu', 'Ser441Trp', 'His533Asn',\n",
    "       'Ser493Arg', 'Lys891Thr', 'Ser176Leu',\n",
    "       '-70C>A', 'Pro454His', 'Leu775Pro',\n",
    "       '396G>A', '1326G>T', 'Arg167His',\n",
    "       '1725C>T', 'Ser493Thr', '39_44dupTAGTCC',\n",
    "       '1281C>T', 'Leu709Gln', 'Asn989Asp',\n",
    "       'Lys37Arg', 'Tyr510His', 'Ala1153Val',\n",
    "       'Glu896Lys', '1510_1512dupGGG', 'Ala902Pro',\n",
    "       'Glu721Asp', 'Val351Ala', '1056G>C',\n",
    "       'Glu360Asp', 'Thr361Ala', '2208C>G',\n",
    "       '2232C>T', '-88C>T', 'Leu1132Val',\n",
    "       '1893C>T', '-195C>A', 'Gly836Ser',\n",
    "       '-154C>A', 'Thr159Lys', 'Ala960Pro',\n",
    "       'Tyr1097Cys', '3305delA', 'Met573Thr',\n",
    "       'His674Gln', '-132T>C', 'Phe1115Leu',\n",
    "       '1443A>G', 'Leu452Val', 'Ala951Thr',\n",
    "       'Arg607Ser', '939G>A', '1353G>A',\n",
    "       'Asn597Ile', 'Pro719Thr', 'Ala964Thr',\n",
    "       '-112G>A', 'Thr444Ser', 'Val355Ile',\n",
    "       'Pro682Ala', 'Val996Ala', 'Pro502Leu',\n",
    "       'Cys701Trp', '215delG', 'Thr928Asn',\n",
    "       '-163T>C', '1829delT', 'Glu465Gln',\n",
    "       'Thr1084Pro', 'Glu1113Gly',\n",
    "       '1302_1310delGGACCAGAA', 'Asn163Asp',\n",
    "       '243A>G', 'Leu490Pro', 'Thr427Gly',\n",
    "       '1692C>T', 'His366Pro', 'Arg397Gly',\n",
    "       '1390C>T', 'Asp528His', '1593C>T',\n",
    "       'Pro589Ala', 'Ala632Asp', 'Gly843Arg',\n",
    "       'Pro906Ala', '1488G>A', 'Ala638Gly',\n",
    "       'Ile965Val', '2557_2562dupGACGAG', '84A>T',\n",
    "       '1297_1305delTTCATGGAC', '2142G>A', '-162A>G',\n",
    "       'Glu56*', 'Leu48Ile', '870G>A',\n",
    "       '606C>A', '39T>C', '1500C>T',\n",
    "       'Thr508Lys', 'Val1131Ala', '495C>G',\n",
    "       'Gly699Ser', 'Thr742Ala', 'His343Arg',\n",
    "       'Val198Met', 'Ile542Lys', 'Arg448Lys',\n",
    "       'Ser96Leu', 'Ser16Cys', 'Thr159Met',\n",
    "       'Pro177Leu', 'Lys939Gln', 'Ser672Phe',\n",
    "       '1728G>A', '2484C>T', 'Cys1126Phe',\n",
    "       '45G>A', 'His1028Asp', 'Leu84Pro',\n",
    "       'Lys119Asn', '-4C>T', '2247T>C',\n",
    "       'Arg552Ser', '381G>T', 'Val562Met',\n",
    "       '1086C>T', 'Gln436Pro', 'Asn487Thr',\n",
    "       '1557C>T', 'Val800Ala', 'Asn673Ser',\n",
    "       'Asp1148Glu', '504G>A', '757_758delCG',\n",
    "       'Ser254Trp', '2439G>C',\n",
    "       '1303_1317delGACCAGAACAACCCG', '1341C>T',\n",
    "       '1344A>T', '1359G>C', 'Gly787Arg',\n",
    "       'Glu896Gly', '1050C>G', 'Val534Leu',\n",
    "       '1149C>T', 'Ala334Val', '312T>G',\n",
    "       'Val581Met', 'Ala29Val', 'Arg397Leu',\n",
    "       '1807dupG', 'Met920Val', '-66_-65insG',\n",
    "       'Ala131Asp', 'Ser428Ile', 'Met349Lys',\n",
    "       '1356G>T', '1303_1305delGAC', '-4delC',\n",
    "       'Thr508Pro', '1569G>C', 'Ser16Asn',\n",
    "       'Asp186Gly', '-9G>T', '1773G>A',\n",
    "       '2055C>T', 'Asp792Glu', 'Asp993Asn',\n",
    "       'Thr1047Ile', 'Ser493Trp', 'Asn438Ser',\n",
    "       'Thr427Asn', 'Gln436Leu', 'Leu206Ile',\n",
    "       '1425C>T', '3213_3214delGG', 'Val970Gly',\n",
    "       '-137C>A', 'Asn963Ser', 'Pro280Ser',\n",
    "       'Ala708Ser', 'Gly887Ala', 'Ala405Glu',\n",
    "       'Leu979Met', 'Leu268Arg', 'Met398Thr',\n",
    "       'Glu484Gly', 'Glu40*', 'Ser450Gln',\n",
    "       'Leu452Gln', 'Met434Thr', '768G>C',\n",
    "       '2010C>T', '-141T>C', '1605G>C',\n",
    "       'Thr427Ile', '-179C>T', 'Phe106Leu',\n",
    "       '1914C>T', 'Thr1018Lys', 'Pro483Leu',\n",
    "       'Arg17Cys', '13delC', '1566C>T',\n",
    "       'Glu811*', 'Asp877His', 'Phe424Gly',\n",
    "       'Lys512Glu', 'Pro358Leu', 'His674Asn',\n",
    "       'Phe1005Val', '687C>A', 'Asp993Glu',\n",
    "       'Leu591Pro', '2627_2629dupGTG', 'Gly915Ser',\n",
    "       '597C>T', 'Pro988Ala', 'Gly319Asp',\n",
    "       'Gly79Asp', '231G>T', 'Met655Val',\n",
    "       'Asp875Glu', 'Ile873Asn', '-184C>A',\n",
    "       '-182delC', 'Ala29Thr', 'Leu173Pro',\n",
    "       'Pro454Ser', 'Val636Phe', '132T>A',\n",
    "       'Asp752Asn', 'Leu957Val', 'Ala498Val',\n",
    "       'Tyr651His', 'Arg63Ser', 'Ala68Ser',\n",
    "       '957C>A', 'Ile696Val', 'Thr1090Ala',\n",
    "       'Val198Glu', 'Ser201Asn', '1923C>T',\n",
    "       '1296_1307delATTCATGGACCA', 'Pro439Ala',\n",
    "       '1005C>T', 'Ile1046Val', '2140C>T',\n",
    "       'His194Tyr', 'Val797Leu', '-77A>G',\n",
    "       'Ala950Ser', 'Glu978*', 'Pro834Thr',\n",
    "       '2196C>T', 'Gln961His', '-171C>A',\n",
    "       'Val613Phe', 'Asn487His', '327C>T',\n",
    "       'Thr400Ser', '1024T>C', '1035T>C',\n",
    "       'Thr361Val', '1104C>T', 'Ala617Ser',\n",
    "       'Pro618Gln', '1983G>T', '2451C>A',\n",
    "       'Gly881Val', '1327T>C', 'His366Asn',\n",
    "       'Arg532Leu', '-8G>T', '9T>C',\n",
    "       '2052G>C', '-180_-179insCTTGACACCGTGGTCTTAGTC',\n",
    "       'Glu360Gln', '1533C>T', 'Glu1121Asp',\n",
    "       '1710G>A', 'Gln975Lys', 'Val228Ile',\n",
    "       'Asp1146Gly', '195C>A', '447T>C',\n",
    "       'Val534Ala', '255C>T', '-3A>G',\n",
    "       '-102T>A', 'Gly263Val', 'Asn437Tyr',\n",
    "       'Ala1166Gly', 'Ser431Gly', '1899C>A',\n",
    "       'Asp3Gly', 'Cys681Gly', '1284C>T',\n",
    "       'Val523Leu', 'Asp265Ala', 'Gln537Arg',\n",
    "       'Pro483Thr'])"
   ]
  },
  {
   "cell_type": "code",
   "execution_count": 40,
   "metadata": {},
   "outputs": [],
   "source": [
    "ordered_SNP = SNP[sorted_indices]"
   ]
  },
  {
   "cell_type": "code",
   "execution_count": null,
   "metadata": {},
   "outputs": [],
   "source": [
    "ordered_SNP"
   ]
  },
  {
   "cell_type": "code",
   "execution_count": 46,
   "metadata": {},
   "outputs": [
    {
     "data": {
      "image/png": "[encoded data removed]",
      "text/plain": [
       "<Figure size 1440x576 with 1 Axes>"
      ]
     },
     "metadata": {
      "needs_background": "light"
     },
     "output_type": "display_data"
    }
   ],
   "source": [
    "from matplotlib import pyplot as plt\n",
    "\n",
    "# Make the plot larger\n",
    "plt.figure(figsize=(20, 8))\n",
    "\n",
    "# Plot ordered feature importances\n",
    "plt.bar(range(len(ordered_importances)), ordered_importances)\n",
    "plt.xlabel('Features')\n",
    "plt.ylabel('Importance')\n",
    "plt.xticks(ticks=range(len(ordered_SNP)), labels=ordered_SNP, rotation=90)\n",
    "plt.title('Feature Importances Ordered')\n",
    "plt.ylim((0,0.5))\n",
    "plt.xlim((0,50))\n",
    "# Optionally, change y-axis range to adjust the view\n",
    "plt.ylim(0, max(ordered_importances) * 1.1)\n",
    "\n",
    "plt.show()\n"
   ]
  },
  {
   "cell_type": "code",
   "execution_count": 28,
   "metadata": {},
   "outputs": [
    {
     "data": {
      "image/png": "[encoded data removed]",
      "text/plain": [
       "<Figure size 1152x720 with 1 Axes>"
      ]
     },
     "metadata": {
      "needs_background": "light"
     },
     "output_type": "display_data"
    }
   ],
   "source": [
    "from matplotlib import pyplot as plt\n",
    "\n",
    "# Get feature importances\n",
    "feature_importances = model.feature_importances_\n",
    "\n",
    "# Plot feature importances\n",
    "plt.figure(figsize=(16, 10))\n",
    "plt.bar(range(len(feature_importances)), feature_importances)\n",
    "plt.xlabel('Features')\n",
    "plt.ylabel('Importance')\n",
    "plt.xticks(ticks=range(len(X.columns)), labels=X.columns, rotation=90)\n",
    "plt.title('Feature Importances')\n",
    "plt.ylim((0,0.5))\n",
    "plt.xlim((0,10))\n",
    "plt.show()\n"
   ]
  }
 ],
 "metadata": {
  "kernelspec": {
   "display_name": "ml-workshop",
   "language": "python",
   "name": "python3"
  },
  "language_info": {
   "codemirror_mode": {
    "name": "ipython",
    "version": 3
   },
   "file_extension": ".py",
   "mimetype": "text/x-python",
   "name": "python",
   "nbconvert_exporter": "python",
   "pygments_lexer": "ipython3",
   "version": "3.9.15"
  }
 },
 "nbformat": 4,
 "nbformat_minor": 2
}
