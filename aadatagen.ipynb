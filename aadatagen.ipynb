{
 "cells": [
  {
   "cell_type": "code",
   "execution_count": 6,
   "metadata": {},
   "outputs": [],
   "source": [
    "import numpy as np\n",
    "import pandas as pd\n",
    "# from icecream import ic\n",
    "import subprocess\n",
    "import json\n",
    "import os\n",
    "# import plotly.graph_objects as go\n",
    "from matplotlib import pyplot as plt\n",
    "# import geopandas as gpd\n",
    "# from shapely.geometry import Polygon\n",
    "# from shapely.ops import cascaded_union, unary_union\n",
    "# from shapely import geometry\n",
    "# from geopy import distance\n",
    "%matplotlib inline\n",
    "# import plotly.express as px \n",
    "from scipy import signal\n",
    "from tqdm import tqdm\n",
    "# from Bio import Phylo\n",
    "# import ete3\n",
    "import itertools\n",
    "import sklearn"
   ]
  },
  {
   "cell_type": "code",
   "execution_count": 7,
   "metadata": {},
   "outputs": [],
   "source": [
    "variants = pd.read_csv('variants_full.csv')\n"
   ]
  },
  {
   "cell_type": "code",
   "execution_count": 82,
   "metadata": {},
   "outputs": [
    {
     "data": {
      "text/plain": [
       "58"
      ]
     },
     "execution_count": 82,
     "metadata": {},
     "output_type": "execute_result"
    }
   ],
   "source": [
    "len(variants['gene'].unique())"
   ]
  },
  {
   "cell_type": "code",
   "execution_count": 83,
   "metadata": {},
   "outputs": [],
   "source": [
    "a = ['dnaA','gyrB','gyrA','Rv0010c','fgd1','mshA','ccsA','Rv0565c','hadA','nusG','rpoB','rpoC','mmpL5','mmpS5','Rv0678','rplC','Rv1129c','fbiC','Rv1258c','embR','atpE','rrs','rrl','inhA','tsnR','bacA','ndh','katG','Rv1979c','eis','ahpC','Rv2477c','pepQ','Rv2752c','Rv2983','Rv3083','whiB7','lpqB','mtrB','mtrA','fbiA','fbiB','rpoA','ddn','glpK','embC','embA','embB','aftB','ubiA','ethA','ethR','whiB6']"
   ]
  },
  {
   "cell_type": "code",
   "execution_count": null,
   "metadata": {},
   "outputs": [],
   "source": []
  },
  {
   "cell_type": "code",
   "execution_count": 16,
   "metadata": {},
   "outputs": [],
   "source": [
    "cryptic = pd.read_csv('/mnt/storageG1/lwang/Projects/tb_dr_MIC_v2/data1/CRyPTIC_reuse_table_20221019_cleaned.csv')\n",
    "overlap = set(variants['sample_id']).intersection(set(cryptic['wgs_id'].to_list()))\n",
    "variants = variants[variants['sample_id'].isin(overlap)]\n",
    "variants['SNP'] = variants['gene'] + '-'+ variants['change']"
   ]
  },
  {
   "cell_type": "code",
   "execution_count": 19,
   "metadata": {},
   "outputs": [
    {
     "name": "stdout",
     "output_type": "stream",
     "text": [
      "[0, 1, 0, 1]\n"
     ]
    }
   ],
   "source": [
    "def compare_snp_lists(set_list, query_list):\n",
    "    # Convert query_list to a set for O(1) lookup time\n",
    "    query_set = query_list\n",
    "\n",
    "    # Use numpy for efficient array operations\n",
    "    import numpy as np\n",
    "    # Convert set_list to a NumPy array for vectorized operations\n",
    "    set_array = np.array(set_list)\n",
    "    # Create an array of zeros with the same length as set_list\n",
    "    output_array = np.zeros(len(set_list), dtype=int)\n",
    "    # Update positions in output_array to 1 where elements of set_array are in query_set\n",
    "    output_array[np.isin(set_array, query_set)] = 1\n",
    "\n",
    "    return output_array.tolist()\n",
    "\n",
    "# Example usage\n",
    "set_list = ['SNP1', 'SNP2', 'SNP3', 'SNP4']\n",
    "query_list = ['SNP2', 'SNP4']\n",
    "output_list = compare_snp_lists(set_list, query_list)\n",
    "print(output_list)  # Expected Output: [0, 1, 0, 1]\n"
   ]
  },
  {
   "cell_type": "code",
   "execution_count": 20,
   "metadata": {},
   "outputs": [
    {
     "name": "stdout",
     "output_type": "stream",
     "text": [
      "[0, 5, 0, 10]\n",
      "[0, 5, 0, 10]\n"
     ]
    }
   ],
   "source": [
    "def compare_snp_lists_with_values(set_list, query_list, values_list):\n",
    "    # Create a dictionary from query_list and values_list for faster lookups\n",
    "    query_dict = dict(zip(query_list, values_list))\n",
    "    \n",
    "    # Initialize output list with zeros\n",
    "    output_list = [0] * len(set_list)\n",
    "    \n",
    "    # Iterate through the set list and update the output list\n",
    "    for i, snp in enumerate(set_list):\n",
    "        if snp in query_dict:\n",
    "            # Use the corresponding value from values_list instead of 1\n",
    "            output_list[i] = query_dict[snp]\n",
    "    \n",
    "    return output_list\n",
    "\n",
    "# Example usage:\n",
    "set_list = ['SNP1', 'SNP2', 'SNP3', 'SNP4']\n",
    "query_list = ['SNP2', 'SNP4']\n",
    "values_list = [5, 10]  # Corresponding values for 'SNP2' and 'SNP4'\n",
    "output_list = compare_snp_lists_with_values(set_list, query_list, values_list)\n",
    "print(output_list)  # Expected output: [0, 5, 0, 10]\n",
    "\n",
    "\n",
    "def compare_snp_lists_with_values_optimized(set_list, query_list, values_list):\n",
    "    # Create a dictionary from query_list and values_list for direct mapping\n",
    "    query_dict = dict(zip(query_list, values_list))\n",
    "    \n",
    "    # Use list comprehension to build the output list directly\n",
    "    output_list = [query_dict.get(snp, 0) for snp in set_list]\n",
    "    \n",
    "    return output_list\n",
    "\n",
    "# Example usage\n",
    "set_list = ['SNP1', 'SNP2', 'SNP3', 'SNP4']\n",
    "query_list = ['SNP2', 'SNP4']\n",
    "values_list = [5, 10]  # Corresponding values for 'SNP2' and 'SNP4'\n",
    "output_list = compare_snp_lists_with_values_optimized(set_list, query_list, values_list)\n",
    "print(output_list)  # Expected output: [0, 5, 0, 10]\n"
   ]
  },
  {
   "cell_type": "code",
   "execution_count": 33,
   "metadata": {},
   "outputs": [
    {
     "data": {
      "text/html": [
       "<div>\n",
       "<style scoped>\n",
       "    .dataframe tbody tr th:only-of-type {\n",
       "        vertical-align: middle;\n",
       "    }\n",
       "\n",
       "    .dataframe tbody tr th {\n",
       "        vertical-align: top;\n",
       "    }\n",
       "\n",
       "    .dataframe thead th {\n",
       "        text-align: right;\n",
       "    }\n",
       "</style>\n",
       "<table border=\"1\" class=\"dataframe\">\n",
       "  <thead>\n",
       "    <tr style=\"text-align: right;\">\n",
       "      <th></th>\n",
       "      <th>sample_id</th>\n",
       "      <th>genome_pos</th>\n",
       "      <th>gene</th>\n",
       "      <th>change</th>\n",
       "      <th>freq</th>\n",
       "      <th>type</th>\n",
       "      <th>sublin</th>\n",
       "      <th>drtype</th>\n",
       "      <th>drugs</th>\n",
       "      <th>SNP</th>\n",
       "    </tr>\n",
       "  </thead>\n",
       "  <tbody>\n",
       "    <tr>\n",
       "      <th>514</th>\n",
       "      <td>ERR4829684</td>\n",
       "      <td>7362</td>\n",
       "      <td>gyrA</td>\n",
       "      <td>p.Glu21Gln</td>\n",
       "      <td>1.000000</td>\n",
       "      <td>missense_variant</td>\n",
       "      <td>lineage4.3.3</td>\n",
       "      <td>Sensitive</td>\n",
       "      <td>NaN</td>\n",
       "      <td>gyrA-p.Glu21Gln</td>\n",
       "    </tr>\n",
       "    <tr>\n",
       "      <th>515</th>\n",
       "      <td>ERR4829684</td>\n",
       "      <td>7585</td>\n",
       "      <td>gyrA</td>\n",
       "      <td>p.Ser95Thr</td>\n",
       "      <td>1.000000</td>\n",
       "      <td>missense_variant</td>\n",
       "      <td>lineage4.3.3</td>\n",
       "      <td>Sensitive</td>\n",
       "      <td>NaN</td>\n",
       "      <td>gyrA-p.Ser95Thr</td>\n",
       "    </tr>\n",
       "    <tr>\n",
       "      <th>516</th>\n",
       "      <td>ERR4829684</td>\n",
       "      <td>8040</td>\n",
       "      <td>gyrA</td>\n",
       "      <td>p.Gly247Ser</td>\n",
       "      <td>1.000000</td>\n",
       "      <td>missense_variant</td>\n",
       "      <td>lineage4.3.3</td>\n",
       "      <td>Sensitive</td>\n",
       "      <td>NaN</td>\n",
       "      <td>gyrA-p.Gly247Ser</td>\n",
       "    </tr>\n",
       "    <tr>\n",
       "      <th>517</th>\n",
       "      <td>ERR4829684</td>\n",
       "      <td>9304</td>\n",
       "      <td>gyrA</td>\n",
       "      <td>p.Gly668Asp</td>\n",
       "      <td>1.000000</td>\n",
       "      <td>missense_variant</td>\n",
       "      <td>lineage4.3.3</td>\n",
       "      <td>Sensitive</td>\n",
       "      <td>NaN</td>\n",
       "      <td>gyrA-p.Gly668Asp</td>\n",
       "    </tr>\n",
       "    <tr>\n",
       "      <th>518</th>\n",
       "      <td>ERR4829684</td>\n",
       "      <td>576108</td>\n",
       "      <td>mshA</td>\n",
       "      <td>p.Ala254Gly</td>\n",
       "      <td>0.218182</td>\n",
       "      <td>missense_variant</td>\n",
       "      <td>lineage4.3.3</td>\n",
       "      <td>Sensitive</td>\n",
       "      <td>NaN</td>\n",
       "      <td>mshA-p.Ala254Gly</td>\n",
       "    </tr>\n",
       "    <tr>\n",
       "      <th>...</th>\n",
       "      <td>...</td>\n",
       "      <td>...</td>\n",
       "      <td>...</td>\n",
       "      <td>...</td>\n",
       "      <td>...</td>\n",
       "      <td>...</td>\n",
       "      <td>...</td>\n",
       "      <td>...</td>\n",
       "      <td>...</td>\n",
       "      <td>...</td>\n",
       "    </tr>\n",
       "    <tr>\n",
       "      <th>7420745</th>\n",
       "      <td>ERR4797048</td>\n",
       "      <td>4267647</td>\n",
       "      <td>aftB</td>\n",
       "      <td>p.Asp397Gly</td>\n",
       "      <td>1.000000</td>\n",
       "      <td>missense_variant</td>\n",
       "      <td>lineage2.2.1</td>\n",
       "      <td>Pre-XDR-TB</td>\n",
       "      <td>NaN</td>\n",
       "      <td>aftB-p.Asp397Gly</td>\n",
       "    </tr>\n",
       "    <tr>\n",
       "      <th>7420746</th>\n",
       "      <td>ERR4797048</td>\n",
       "      <td>4338595</td>\n",
       "      <td>whiB6</td>\n",
       "      <td>c.-75delG</td>\n",
       "      <td>1.000000</td>\n",
       "      <td>upstream_gene_variant</td>\n",
       "      <td>lineage2.2.1</td>\n",
       "      <td>Pre-XDR-TB</td>\n",
       "      <td>NaN</td>\n",
       "      <td>whiB6-c.-75delG</td>\n",
       "    </tr>\n",
       "    <tr>\n",
       "      <th>7420747</th>\n",
       "      <td>ERR4797048</td>\n",
       "      <td>4407588</td>\n",
       "      <td>gid</td>\n",
       "      <td>c.615A&gt;G</td>\n",
       "      <td>1.000000</td>\n",
       "      <td>synonymous_variant</td>\n",
       "      <td>lineage2.2.1</td>\n",
       "      <td>Pre-XDR-TB</td>\n",
       "      <td>NaN</td>\n",
       "      <td>gid-c.615A&gt;G</td>\n",
       "    </tr>\n",
       "    <tr>\n",
       "      <th>7420748</th>\n",
       "      <td>ERR4797048</td>\n",
       "      <td>4407620</td>\n",
       "      <td>gid</td>\n",
       "      <td>p.Tyr195His</td>\n",
       "      <td>1.000000</td>\n",
       "      <td>missense_variant</td>\n",
       "      <td>lineage2.2.1</td>\n",
       "      <td>Pre-XDR-TB</td>\n",
       "      <td>NaN</td>\n",
       "      <td>gid-p.Tyr195His</td>\n",
       "    </tr>\n",
       "    <tr>\n",
       "      <th>7420749</th>\n",
       "      <td>ERR4797048</td>\n",
       "      <td>4407927</td>\n",
       "      <td>gid</td>\n",
       "      <td>p.Glu92Asp</td>\n",
       "      <td>1.000000</td>\n",
       "      <td>missense_variant</td>\n",
       "      <td>lineage2.2.1</td>\n",
       "      <td>Pre-XDR-TB</td>\n",
       "      <td>NaN</td>\n",
       "      <td>gid-p.Glu92Asp</td>\n",
       "    </tr>\n",
       "  </tbody>\n",
       "</table>\n",
       "<p>385362 rows × 10 columns</p>\n",
       "</div>"
      ],
      "text/plain": [
       "          sample_id  genome_pos   gene       change      freq  \\\n",
       "514      ERR4829684        7362   gyrA   p.Glu21Gln  1.000000   \n",
       "515      ERR4829684        7585   gyrA   p.Ser95Thr  1.000000   \n",
       "516      ERR4829684        8040   gyrA  p.Gly247Ser  1.000000   \n",
       "517      ERR4829684        9304   gyrA  p.Gly668Asp  1.000000   \n",
       "518      ERR4829684      576108   mshA  p.Ala254Gly  0.218182   \n",
       "...             ...         ...    ...          ...       ...   \n",
       "7420745  ERR4797048     4267647   aftB  p.Asp397Gly  1.000000   \n",
       "7420746  ERR4797048     4338595  whiB6    c.-75delG  1.000000   \n",
       "7420747  ERR4797048     4407588    gid     c.615A>G  1.000000   \n",
       "7420748  ERR4797048     4407620    gid  p.Tyr195His  1.000000   \n",
       "7420749  ERR4797048     4407927    gid   p.Glu92Asp  1.000000   \n",
       "\n",
       "                          type        sublin      drtype drugs  \\\n",
       "514           missense_variant  lineage4.3.3   Sensitive   NaN   \n",
       "515           missense_variant  lineage4.3.3   Sensitive   NaN   \n",
       "516           missense_variant  lineage4.3.3   Sensitive   NaN   \n",
       "517           missense_variant  lineage4.3.3   Sensitive   NaN   \n",
       "518           missense_variant  lineage4.3.3   Sensitive   NaN   \n",
       "...                        ...           ...         ...   ...   \n",
       "7420745       missense_variant  lineage2.2.1  Pre-XDR-TB   NaN   \n",
       "7420746  upstream_gene_variant  lineage2.2.1  Pre-XDR-TB   NaN   \n",
       "7420747     synonymous_variant  lineage2.2.1  Pre-XDR-TB   NaN   \n",
       "7420748       missense_variant  lineage2.2.1  Pre-XDR-TB   NaN   \n",
       "7420749       missense_variant  lineage2.2.1  Pre-XDR-TB   NaN   \n",
       "\n",
       "                      SNP  \n",
       "514       gyrA-p.Glu21Gln  \n",
       "515       gyrA-p.Ser95Thr  \n",
       "516      gyrA-p.Gly247Ser  \n",
       "517      gyrA-p.Gly668Asp  \n",
       "518      mshA-p.Ala254Gly  \n",
       "...                   ...  \n",
       "7420745  aftB-p.Asp397Gly  \n",
       "7420746   whiB6-c.-75delG  \n",
       "7420747      gid-c.615A>G  \n",
       "7420748   gid-p.Tyr195His  \n",
       "7420749    gid-p.Glu92Asp  \n",
       "\n",
       "[385362 rows x 10 columns]"
      ]
     },
     "execution_count": 33,
     "metadata": {},
     "output_type": "execute_result"
    }
   ],
   "source": [
    "variants.head()"
   ]
  },
  {
   "cell_type": "code",
   "execution_count": null,
   "metadata": {},
   "outputs": [],
   "source": [
    "aa = []\n",
    "all_snp = variants['SNP'].unique()\n",
    "for x in tqdm(variants['sample_id'].unique()):\n",
    "    aa.append(compare_snp_lists_with_values(all_snp, variants[variants['sample_id']==x]['SNP'].to_list(), variants[variants['sample_id']==x]['freq'].to_list()))"
   ]
  },
  {
   "cell_type": "code",
   "execution_count": null,
   "metadata": {},
   "outputs": [],
   "source": [
    "variants[variants['sample_id']==x]['SNP'].to_list()"
   ]
  },
  {
   "cell_type": "code",
   "execution_count": null,
   "metadata": {},
   "outputs": [],
   "source": [
    "aa_array = np.array(aa)\n",
    "np.savetxt('data_aa/aa_data.csv', aa_array, delimiter=',')   # X is an array"
   ]
  },
  {
   "cell_type": "code",
   "execution_count": 23,
   "metadata": {},
   "outputs": [],
   "source": [
    "aa_array = np.loadtxt('data_aa/aa_data.csv', delimiter=',')   # X is an array"
   ]
  },
  {
   "cell_type": "code",
   "execution_count": 24,
   "metadata": {},
   "outputs": [],
   "source": [
    "cryptic_mic = pd.read_csv('/mnt/storageG1/lwang/Projects/tb_dr_MIC/data1/CRyPTIC_reuse_table_20221019_cleaned.csv')"
   ]
  },
  {
   "cell_type": "code",
   "execution_count": 37,
   "metadata": {},
   "outputs": [
    {
     "data": {
      "text/plain": [
       "array(['ERR4829684', 'ERR8975196', 'ERR3287611', ..., 'ERR4811968',\n",
       "       'ERR2510245', 'ERR4797048'], dtype=object)"
      ]
     },
     "execution_count": 37,
     "metadata": {},
     "output_type": "execute_result"
    }
   ],
   "source": [
    "variants['sample_id'].unique()"
   ]
  },
  {
   "cell_type": "code",
   "execution_count": 67,
   "metadata": {},
   "outputs": [
    {
     "data": {
      "text/plain": [
       "array([[1., 1., 1., ..., 0., 0., 0.],\n",
       "       [1., 1., 0., ..., 0., 0., 0.],\n",
       "       [1., 1., 1., ..., 0., 0., 0.],\n",
       "       ...,\n",
       "       [1., 1., 0., ..., 0., 0., 0.],\n",
       "       [1., 1., 0., ..., 0., 0., 1.],\n",
       "       [1., 1., 0., ..., 0., 0., 0.]])"
      ]
     },
     "execution_count": 67,
     "metadata": {},
     "output_type": "execute_result"
    }
   ],
   "source": [
    "aa_array"
   ]
  },
  {
   "cell_type": "code",
   "execution_count": null,
   "metadata": {},
   "outputs": [],
   "source": [
    "cryptic_mic['wgs_id']."
   ]
  },
  {
   "cell_type": "code",
   "execution_count": 49,
   "metadata": {},
   "outputs": [
    {
     "data": {
      "text/plain": [
       "43"
      ]
     },
     "execution_count": 49,
     "metadata": {},
     "output_type": "execute_result"
    }
   ],
   "source": [
    "len(cryptic_mic.columns)"
   ]
  },
  {
   "cell_type": "code",
   "execution_count": 51,
   "metadata": {},
   "outputs": [
    {
     "data": {
      "text/plain": [
       "0        ERR2184202\n",
       "1        ERR2184203\n",
       "2        ERR2184204\n",
       "3        ERR2184205\n",
       "4        ERR2184206\n",
       "            ...    \n",
       "12121    ERR8976118\n",
       "12122    ERR8976119\n",
       "12123    ERR8976120\n",
       "12125    ERR8976122\n",
       "12126    ERR8976123\n",
       "Name: wgs_id, Length: 11920, dtype: object"
      ]
     },
     "execution_count": 51,
     "metadata": {},
     "output_type": "execute_result"
    }
   ],
   "source": [
    "cryptic_mic[cryptic_mic['wgs_id'].isin(variants['sample_id'].unique())].iloc[:,42]"
   ]
  },
  {
   "cell_type": "markdown",
   "metadata": {},
   "source": [
    "# Getting all snp data"
   ]
  },
  {
   "cell_type": "code",
   "execution_count": 52,
   "metadata": {},
   "outputs": [],
   "source": [
    "mic_aa = cryptic_mic[cryptic_mic['wgs_id'].isin(variants['sample_id'].unique())]#.iloc[:,14:27]"
   ]
  },
  {
   "cell_type": "code",
   "execution_count": 58,
   "metadata": {},
   "outputs": [
    {
     "name": "stderr",
     "output_type": "stream",
     "text": [
      "/tmp/ipykernel_106569/2574372831.py:2: SettingWithCopyWarning: \n",
      "A value is trying to be set on a copy of a slice from a DataFrame.\n",
      "Try using .loc[row_indexer,col_indexer] = value instead\n",
      "\n",
      "See the caveats in the documentation: https://pandas.pydata.org/pandas-docs/stable/user_guide/indexing.html#returning-a-view-versus-a-copy\n",
      "  mic_aa['wgs_id'] = pd.Categorical(mic_aa['wgs_id'], categories=variants['sample_id'].unique().tolist(), ordered=True)\n"
     ]
    }
   ],
   "source": [
    "#ordering mic like in aa_array\n",
    "mic_aa['wgs_id'] = pd.Categorical(mic_aa['wgs_id'], categories=variants['sample_id'].unique().tolist(), ordered=True)\n",
    "mic_aa = mic_aa.sort_values('wgs_id')"
   ]
  },
  {
   "cell_type": "code",
   "execution_count": 75,
   "metadata": {},
   "outputs": [
    {
     "data": {
      "text/plain": [
       "(11920, 27063)"
      ]
     },
     "execution_count": 75,
     "metadata": {},
     "output_type": "execute_result"
    }
   ],
   "source": [
    "aa_array.shape"
   ]
  },
  {
   "cell_type": "code",
   "execution_count": 76,
   "metadata": {},
   "outputs": [
    {
     "data": {
      "text/plain": [
       "(10728, 27063)"
      ]
     },
     "execution_count": 76,
     "metadata": {},
     "output_type": "execute_result"
    }
   ],
   "source": [
    "aa_array[:int(aa_array.shape[0]*0.9), :].shape"
   ]
  },
  {
   "cell_type": "code",
   "execution_count": 77,
   "metadata": {},
   "outputs": [],
   "source": [
    "np.savetxt('data_aa/aa_data_train.csv', aa_array[:int(aa_array.shape[0]*0.9), :], delimiter=',', fmt='%s')\n",
    "# Save the remaining 10% of rows to another CSV file\n",
    "np.savetxt('data_aa/aa_data_test.csv', aa_array[int(aa_array.shape[0]*0.9):, :], delimiter=',', fmt='%s')"
   ]
  },
  {
   "cell_type": "code",
   "execution_count": 63,
   "metadata": {},
   "outputs": [],
   "source": [
    "\n",
    "mic_aa = mic_aa.iloc[:,14:27].astype('float')\n",
    "mic_aa.to_csv('data_aa/mic_aa.csv', index=False)"
   ]
  },
  {
   "cell_type": "code",
   "execution_count": null,
   "metadata": {},
   "outputs": [],
   "source": []
  },
  {
   "cell_type": "code",
   "execution_count": 70,
   "metadata": {},
   "outputs": [],
   "source": [
    "mic_aa.iloc[:int(mic_aa.shape[0]*0.9),:].to_csv('data_aa/mic_aa_train.csv', index=False)\n",
    "mic_aa.iloc[int(mic_aa.shape[0]*0.9):,:].to_csv('data_aa/mic_aa_test.csv', index=False)"
   ]
  },
  {
   "cell_type": "code",
   "execution_count": 56,
   "metadata": {},
   "outputs": [
    {
     "data": {
      "text/plain": [
       "array(['ERR4829684', 'ERR8975196', 'ERR3287611', ..., 'ERR4811968',\n",
       "       'ERR2510245', 'ERR4797048'], dtype=object)"
      ]
     },
     "execution_count": 56,
     "metadata": {},
     "output_type": "execute_result"
    }
   ],
   "source": [
    "variants['sample_id'].unique()"
   ]
  },
  {
   "cell_type": "code",
   "execution_count": 65,
   "metadata": {},
   "outputs": [],
   "source": []
  },
  {
   "cell_type": "code",
   "execution_count": 59,
   "metadata": {},
   "outputs": [
    {
     "data": {
      "text/plain": [
       "8157     ERR4829684\n",
       "11361    ERR8975196\n",
       "1244     ERR3287611\n",
       "7641     ERR4828904\n",
       "9905     ERR4831761\n",
       "            ...    \n",
       "5125     ERR4812175\n",
       "2539     ERR4797355\n",
       "4936     ERR4811968\n",
       "464      ERR2510245\n",
       "2252     ERR4797048\n",
       "Name: wgs_id, Length: 11920, dtype: category\n",
       "Categories (11920, object): ['ERR4829684' < 'ERR8975196' < 'ERR3287611' < 'ERR4828904' ... 'ERR4797355' < 'ERR4811968' < 'ERR2510245' < 'ERR4797048']"
      ]
     },
     "execution_count": 59,
     "metadata": {},
     "output_type": "execute_result"
    }
   ],
   "source": [
    "mic_aa.iloc[:,42]"
   ]
  },
  {
   "cell_type": "markdown",
   "metadata": {},
   "source": [
    "# Getting rpob aa snp data"
   ]
  },
  {
   "cell_type": "code",
   "execution_count": null,
   "metadata": {},
   "outputs": [],
   "source": [
    "all_snp"
   ]
  },
  {
   "cell_type": "code",
   "execution_count": 84,
   "metadata": {},
   "outputs": [
    {
     "name": "stderr",
     "output_type": "stream",
     "text": [
      "100%|██████████| 11920/11920 [00:31<00:00, 373.60it/s]\n"
     ]
    }
   ],
   "source": [
    "variants_ind = variants[variants['gene']=='rpoB']\n",
    "aa_rpoB = []\n",
    "all_snp = variants_ind['SNP'].unique()\n",
    "\n",
    "for x in tqdm(variants['sample_id'].unique()):\n",
    "    if x in variants_ind['sample_id'].unique():\n",
    "        aa_rpoB.append(compare_snp_lists_with_values(all_snp, variants_ind[variants_ind['sample_id']==x]['SNP'].to_list(), variants_ind[variants_ind['sample_id']==x]['freq'].to_list()))\n",
    "    else:\n",
    "        aa_rpoB.append([0]*len(all_snp))\n",
    "aa_rpoB_array = np.array(aa_rpoB)\n",
    "np.savetxt('data_aa/aa_rpoB.csv', aa_rpoB_array, delimiter=',')   # X is an array"
   ]
  },
  {
   "cell_type": "code",
   "execution_count": 131,
   "metadata": {},
   "outputs": [],
   "source": [
    "np.savetxt('data_aa/train_aa_rpoB.csv', aa_rpoB_array[:int(0.9*aa_rpoB_array.shape[0])], delimiter=',')   # X \n",
    "np.savetxt('data_aa/test_aa_rpoB.csv', aa_rpoB_array[int(0.9*aa_rpoB_array.shape[0]):], delimiter=',')   # X "
   ]
  },
  {
   "cell_type": "code",
   "execution_count": null,
   "metadata": {},
   "outputs": [],
   "source": [
    "np.savetxt('data_aa/aa_rpoB.csv', aa_rpoB_array, delimiter=',')   # X is an array"
   ]
  },
  {
   "cell_type": "markdown",
   "metadata": {},
   "source": [
    "# Getting eth aa snp data"
   ]
  },
  {
   "cell_type": "code",
   "execution_count": 87,
   "metadata": {},
   "outputs": [
    {
     "name": "stderr",
     "output_type": "stream",
     "text": [
      "100%|██████████| 11920/11920 [02:10<00:00, 91.03it/s]\n"
     ]
    }
   ],
   "source": [
    "variants_ind = variants[variants['gene'].isin(['embA','embB','embC'])]\n",
    "aa_emb = []\n",
    "all_snp = variants_ind['SNP'].unique()\n",
    "\n",
    "for x in tqdm(variants['sample_id'].unique()):\n",
    "    if x in variants_ind['sample_id'].unique():\n",
    "        aa_emb.append(compare_snp_lists_with_values(all_snp, variants_ind[variants_ind['sample_id']==x]['SNP'].to_list(), variants_ind[variants_ind['sample_id']==x]['freq'].to_list()))\n",
    "    else:\n",
    "        aa_emb.append([0]*len(all_snp))\n",
    "aa_emb_array = np.array(aa_emb)\n",
    "np.savetxt('data_aa/aa_emb.csv', aa_emb_array, delimiter=',')   # X is an array"
   ]
  },
  {
   "cell_type": "code",
   "execution_count": 132,
   "metadata": {},
   "outputs": [],
   "source": [
    "np.savetxt('data_aa/aa_emb.csv', aa_emb_array, delimiter=',')   # X is an array\n",
    "np.savetxt('data_aa/train_aa_emb.csv', aa_emb_array[:int(0.9*aa_emb_array.shape[0])], delimiter=',')   # X \n",
    "np.savetxt('data_aa/test_aa_emb.csv', aa_emb_array[int(0.9*aa_emb_array.shape[0]):], delimiter=',')   # X "
   ]
  },
  {
   "cell_type": "markdown",
   "metadata": {},
   "source": [
    "# Getting corresponding mic snp dataset for the above"
   ]
  },
  {
   "cell_type": "code",
   "execution_count": 113,
   "metadata": {},
   "outputs": [],
   "source": [
    "cryptic_mic['wgs_id'] = pd.Categorical(cryptic_mic['wgs_id'], categories=variants['sample_id'].unique().tolist(), ordered=True)\n",
    "# Sort the DataFrame by the 'wgs_id' column\n",
    "\n",
    "cryptic_mic_ordered = cryptic_mic.sort_values('wgs_id')\n",
    "overlap = set(variants['sample_id']).intersection(set(cryptic['wgs_id'].to_list()))\n",
    "cryptic_mic_ordered = cryptic_mic_ordered[cryptic_mic_ordered['wgs_id'].isin(overlap)]"
   ]
  },
  {
   "cell_type": "code",
   "execution_count": null,
   "metadata": {},
   "outputs": [],
   "source": []
  },
  {
   "cell_type": "code",
   "execution_count": 114,
   "metadata": {},
   "outputs": [],
   "source": [
    "np.savetxt('data_aa/ETH_MIC.csv', np.array([float(x) for x in cryptic_mic_ordered['ETH_MIC']]), delimiter=',')   # X is an array\n",
    "np.savetxt('data_aa/train_ETH_MIC.csv', np.array([float(x) for x in cryptic_mic_ordered['ETH_MIC']])[:int(0.9*cryptic_mic_ordered.shape[0])], delimiter=',')   # X is an array\n",
    "np.savetxt('data_aa/test_ETH_MIC.csv', np.array([float(x) for x in cryptic_mic_ordered['ETH_MIC']])[int(0.9*cryptic_mic_ordered.shape[0]):], delimiter=',')   # X is an array\n",
    "\n",
    "np.savetxt('data_aa/RIF_MIC.csv', np.array([float(x) for x in cryptic_mic_ordered['RIF_MIC']]), delimiter=',')   # X is an array\n",
    "np.savetxt('data_aa/train_RIF_MIC.csv', np.array([float(x) for x in cryptic_mic_ordered['RIF_MIC']])[:int(0.9*cryptic_mic_ordered.shape[0])], delimiter=',')   # X is an array\n",
    "np.savetxt('data_aa/test_RIF_MIC.csv', np.array([float(x) for x in cryptic_mic_ordered['RIF_MIC']])[int(0.9*cryptic_mic_ordered.shape[0]):], delimiter=',')   # X is an array"
   ]
  },
  {
   "cell_type": "code",
   "execution_count": 92,
   "metadata": {},
   "outputs": [
    {
     "data": {
      "text/plain": [
       "Index(['UNIQUEID', 'AMI_BINARY_PHENOTYPE', 'BDQ_BINARY_PHENOTYPE',\n",
       "       'CFZ_BINARY_PHENOTYPE', 'DLM_BINARY_PHENOTYPE', 'EMB_BINARY_PHENOTYPE',\n",
       "       'ETH_BINARY_PHENOTYPE', 'INH_BINARY_PHENOTYPE', 'KAN_BINARY_PHENOTYPE',\n",
       "       'LEV_BINARY_PHENOTYPE', 'LZD_BINARY_PHENOTYPE', 'MXF_BINARY_PHENOTYPE',\n",
       "       'RIF_BINARY_PHENOTYPE', 'RFB_BINARY_PHENOTYPE', 'AMI_MIC', 'BDQ_MIC',\n",
       "       'CFZ_MIC', 'DLM_MIC', 'EMB_MIC', 'ETH_MIC', 'INH_MIC', 'KAN_MIC',\n",
       "       'LEV_MIC', 'LZD_MIC', 'MXF_MIC', 'RIF_MIC', 'RFB_MIC',\n",
       "       'AMI_PHENOTYPE_QUALITY', 'BDQ_PHENOTYPE_QUALITY',\n",
       "       'CFZ_PHENOTYPE_QUALITY', 'EMB_PHENOTYPE_QUALITY',\n",
       "       'ETH_PHENOTYPE_QUALITY', 'INH_PHENOTYPE_QUALITY',\n",
       "       'KAN_PHENOTYPE_QUALITY', 'LEV_PHENOTYPE_QUALITY',\n",
       "       'LZD_PHENOTYPE_QUALITY', 'MXF_PHENOTYPE_QUALITY',\n",
       "       'RIF_PHENOTYPE_QUALITY', 'RFB_PHENOTYPE_QUALITY', 'ENA_SAMPLE', 'VCF',\n",
       "       'REGENOTYPED_VCF', 'wgs_id'],\n",
       "      dtype='object')"
      ]
     },
     "execution_count": 92,
     "metadata": {},
     "output_type": "execute_result"
    }
   ],
   "source": [
    "cryptic_mic['ETH_MIC']"
   ]
  },
  {
   "cell_type": "code",
   "execution_count": null,
   "metadata": {},
   "outputs": [],
   "source": []
  },
  {
   "cell_type": "code",
   "execution_count": null,
   "metadata": {},
   "outputs": [],
   "source": []
  },
  {
   "cell_type": "code",
   "execution_count": null,
   "metadata": {},
   "outputs": [],
   "source": [
    "from tqdm import tqdm\n",
    "import numpy as np\n",
    "\n",
    "def convert_to_coordinate_value(input_list):\n",
    "    return [(i, val) for i, val in enumerate(input_list) if val != 0]\n",
    "\n",
    "# Generate coordinate values\n",
    "aa_coord = [convert_to_coordinate_value(x) for x in tqdm(aa_data_freq)]\n",
    "\n",
    "# Find the length of the longest list\n",
    "max_length = max(len(item) for item in aa_coord)\n",
    "\n",
    "# Pad the lists to have uniform length\n",
    "padded_aa_coord = [item + [(0, 0)] * (max_length - len(item)) for item in aa_coord]\n",
    "\n",
    "# Convert to a high-dimensional NumPy array\n",
    "aa_coord_array = np.array(padded_aa_coord)\n",
    "\n",
    "# The result is a high-dimensional NumPy array\n",
    "print(aa_coord_array.shape)\n"
   ]
  },
  {
   "cell_type": "code",
   "execution_count": null,
   "metadata": {},
   "outputs": [],
   "source": [
    "from tqdm import tqdm\n",
    "import numpy as np\n",
    "\n",
    "def convert_to_coordinate_value(input_list):\n",
    "    return [(i, val) for i, val in enumerate(input_list) if val != 0]\n",
    "\n",
    "# Generate coordinate values\n",
    "aa_coord = [convert_to_coordinate_value(x) for x in tqdm(aa_data_freq)]\n",
    "\n",
    "# Find the length of the longest list\n",
    "max_length = max(len(item) for item in aa_coord)\n",
    "\n",
    "# Pad the lists to have uniform length\n",
    "padded_aa_coord = [item + [(0, 0)] * (max_length - len(item)) for item in aa_coord]\n",
    "\n",
    "# Convert to a high-dimensional NumPy array\n",
    "aa_coord_array = np.array(padded_aa_coord)\n",
    "\n",
    "# The result is a high-dimensional NumPy array\n",
    "print(aa_coord_array.shape)\n"
   ]
  },
  {
   "cell_type": "code",
   "execution_count": null,
   "metadata": {},
   "outputs": [],
   "source": [
    "for x in np.unique(variants['sample_id']):\n",
    "     print(variants[variants['sample_id'] == 'ERR9787047'].shape)"
   ]
  },
  {
   "cell_type": "code",
   "execution_count": 7,
   "metadata": {},
   "outputs": [
    {
     "data": {
      "text/plain": [
       "n.-187C>T               135403\n",
       "p.Glu21Gln              133939\n",
       "c.33A>G                 133602\n",
       "c.-165T>C               133108\n",
       "p.Ile948Val             133064\n",
       "                         ...  \n",
       "c.-4164_*1837del             1\n",
       "p.Ala876Ser                  1\n",
       "c.2192_2193insGCCTAG         1\n",
       "c.536_537insGCCCG            1\n",
       "n.1011T>G                    1\n",
       "Name: change, Length: 109920, dtype: int64"
      ]
     },
     "execution_count": 7,
     "metadata": {},
     "output_type": "execute_result"
    }
   ],
   "source": [
    "variants['change'].value_counts()"
   ]
  },
  {
   "cell_type": "code",
   "execution_count": null,
   "metadata": {},
   "outputs": [],
   "source": []
  },
  {
   "cell_type": "markdown",
   "metadata": {},
   "source": [
    "# Classification targets"
   ]
  },
  {
   "cell_type": "code",
   "execution_count": 82,
   "metadata": {},
   "outputs": [],
   "source": [
    "cryptic_clean = pd.read_csv('/mnt/storageG1/lwang/Projects/tb_dr_MIC_v2/data1/CRyPTIC_reuse_table_20221019_cleaned.csv')"
   ]
  },
  {
   "cell_type": "code",
   "execution_count": 79,
   "metadata": {},
   "outputs": [],
   "source": [
    "rif_target = pd.read_csv('data_aa/RIF_MIC.csv',header=None)"
   ]
  },
  {
   "cell_type": "code",
   "execution_count": 84,
   "metadata": {},
   "outputs": [
    {
     "data": {
      "text/plain": [
       "0         0.12\n",
       "1         0.12\n",
       "2         0.03\n",
       "3         0.12\n",
       "4         0.03\n",
       "         ...  \n",
       "12280    16.00\n",
       "12281    16.00\n",
       "12282    16.00\n",
       "12283     0.06\n",
       "12284    16.00\n",
       "Name: RIF_MIC, Length: 12285, dtype: float64"
      ]
     },
     "execution_count": 84,
     "metadata": {},
     "output_type": "execute_result"
    }
   ],
   "source": [
    "cryptic_clean['RIF_MIC']"
   ]
  },
  {
   "cell_type": "code",
   "execution_count": 19,
   "metadata": {},
   "outputs": [
    {
     "name": "stdout",
     "output_type": "stream",
     "text": [
      "[1.5e-02 3.0e-02 6.0e-02 1.2e-01 2.5e-01 5.0e-01 1.0e+00 2.0e+00 4.0e+00\n",
      " 8.0e+00 1.6e+01     nan]\n"
     ]
    }
   ],
   "source": [
    "print(np.sort(np.unique(rif_target.values)))"
   ]
  },
  {
   "cell_type": "code",
   "execution_count": 22,
   "metadata": {},
   "outputs": [
    {
     "data": {
      "text/plain": [
       "Index(['UNIQUEID', 'AMI_BINARY_PHENOTYPE', 'BDQ_BINARY_PHENOTYPE',\n",
       "       'CFZ_BINARY_PHENOTYPE', 'DLM_BINARY_PHENOTYPE', 'EMB_BINARY_PHENOTYPE',\n",
       "       'ETH_BINARY_PHENOTYPE', 'INH_BINARY_PHENOTYPE', 'KAN_BINARY_PHENOTYPE',\n",
       "       'LEV_BINARY_PHENOTYPE', 'LZD_BINARY_PHENOTYPE', 'MXF_BINARY_PHENOTYPE',\n",
       "       'RIF_BINARY_PHENOTYPE', 'RFB_BINARY_PHENOTYPE', 'AMI_MIC', 'BDQ_MIC',\n",
       "       'CFZ_MIC', 'DLM_MIC', 'EMB_MIC', 'ETH_MIC', 'INH_MIC', 'KAN_MIC',\n",
       "       'LEV_MIC', 'LZD_MIC', 'MXF_MIC', 'RIF_MIC', 'RFB_MIC',\n",
       "       'AMI_PHENOTYPE_QUALITY', 'BDQ_PHENOTYPE_QUALITY',\n",
       "       'CFZ_PHENOTYPE_QUALITY', 'EMB_PHENOTYPE_QUALITY',\n",
       "       'ETH_PHENOTYPE_QUALITY', 'INH_PHENOTYPE_QUALITY',\n",
       "       'KAN_PHENOTYPE_QUALITY', 'LEV_PHENOTYPE_QUALITY',\n",
       "       'LZD_PHENOTYPE_QUALITY', 'MXF_PHENOTYPE_QUALITY',\n",
       "       'RIF_PHENOTYPE_QUALITY', 'RFB_PHENOTYPE_QUALITY', 'ENA_SAMPLE', 'VCF',\n",
       "       'REGENOTYPED_VCF', 'wgs_id'],\n",
       "      dtype='object')"
      ]
     },
     "execution_count": 22,
     "metadata": {},
     "output_type": "execute_result"
    }
   ],
   "source": [
    "cryptic_mic_ordered.columns"
   ]
  },
  {
   "cell_type": "code",
   "execution_count": 25,
   "metadata": {},
   "outputs": [
    {
     "name": "stdout",
     "output_type": "stream",
     "text": [
      "AMI_MIC\n",
      "[ 0.125  0.5    1.     2.     4.     8.    16.    32.       nan]\n",
      "BDQ_MIC\n",
      "[0.004  0.0075 0.015  0.03   0.06   0.12   0.25   0.5    1.     2.\n",
      " 4.        nan]\n",
      "CFZ_MIC\n",
      "[0.015 0.03  0.06  0.12  0.25  0.5   1.    2.    4.    8.      nan]\n",
      "DLM_MIC\n",
      "[0.004  0.0075 0.015  0.03   0.06   0.12   0.25   0.5    1.     2.\n",
      "    nan]\n",
      "EMB_MIC\n",
      "[3.00e-02 1.20e-01 1.25e-01 2.50e-01 5.00e-01 1.00e+00 2.00e+00 4.00e+00\n",
      " 8.00e+00 1.60e+01 3.20e+01 6.40e+01      nan]\n",
      "ETH_MIC\n",
      "[ 0.125  0.5    1.     2.     4.     8.    16.       nan]\n",
      "INH_MIC\n",
      "[1.125e-02 5.000e-02 1.000e-01 2.000e-01 4.000e-01 8.000e-01 1.600e+00\n",
      " 3.200e+00 6.400e+00 1.280e+01 2.560e+01       nan]\n",
      "KAN_MIC\n",
      "[ 0.5  2.   4.   8.  16.  32.   nan]\n",
      "LEV_MIC\n",
      "[ 0.06  0.25  0.5   1.    2.    4.    8.   16.     nan]\n",
      "LZD_MIC\n",
      "[0.03 0.06 0.12 0.15 0.25 0.5  1.   2.   4.   8.    nan]\n",
      "MXF_MIC\n",
      "[0.03 0.12 0.25 0.5  1.   2.   4.   8.    nan]\n",
      "RIF_MIC\n",
      "[1.5e-02 3.0e-02 6.0e-02 1.2e-01 2.5e-01 5.0e-01 1.0e+00 2.0e+00 4.0e+00\n",
      " 8.0e+00 1.6e+01     nan]\n",
      "RFB_MIC\n",
      "[0.03 0.12 0.25 0.5  1.   2.   4.    nan]\n"
     ]
    }
   ],
   "source": [
    "for x in ['AMI_MIC', 'BDQ_MIC','CFZ_MIC', 'DLM_MIC', 'EMB_MIC', 'ETH_MIC', 'INH_MIC', 'KAN_MIC','LEV_MIC', 'LZD_MIC', 'MXF_MIC', 'RIF_MIC', 'RFB_MIC']:\n",
    "    print(x)\n",
    "    print(np.sort(np.unique(cryptic_mic_ordered[x].values)))"
   ]
  },
  {
   "cell_type": "code",
   "execution_count": 90,
   "metadata": {},
   "outputs": [
    {
     "name": "stdout",
     "output_type": "stream",
     "text": [
      "    0.015   0.030   0.060   0.120   0.250   0.500   1.000   2.000   4.000   \\\n",
      "0        1       0       0       0       0       0       0       0       0   \n",
      "1        0       1       0       0       0       0       0       0       0   \n",
      "2        0       0       1       0       0       0       0       0       0   \n",
      "3        0       0       0       1       0       0       0       0       0   \n",
      "4        0       0       0       0       1       0       0       0       0   \n",
      "5        0       0       0       0       0       1       0       0       0   \n",
      "6        0       0       0       0       0       0       1       0       0   \n",
      "7        0       0       0       0       0       0       0       1       0   \n",
      "8        0       0       0       0       0       0       0       0       1   \n",
      "9        0       0       0       0       0       0       0       0       0   \n",
      "10       0       0       0       0       0       0       0       0       0   \n",
      "11       0       0       0       0       0       0       0       0       0   \n",
      "\n",
      "    8.000   16.000  NaN     \n",
      "0        0       0       0  \n",
      "1        0       0       0  \n",
      "2        0       0       0  \n",
      "3        0       0       0  \n",
      "4        0       0       0  \n",
      "5        0       0       0  \n",
      "6        0       0       0  \n",
      "7        0       0       0  \n",
      "8        0       0       0  \n",
      "9        1       0       0  \n",
      "10       0       1       0  \n",
      "11       0       0       1  \n"
     ]
    }
   ],
   "source": [
    "import pandas as pd\n",
    "import numpy as np\n",
    "\n",
    "# Sample data\n",
    "data = {\n",
    "    'Values': [1.5e-02, 3.0e-02, 6.0e-02, 1.2e-01, 2.5e-01, 5.0e-01, 1.0e+00, 2.0e+00, 4.0e+00, 8.0e+00, 1.6e+01, np.nan]\n",
    "}\n",
    "\n",
    "def one_hot_encode_df(data):\n",
    "    # Create a DataFrame from the data\n",
    "    df = pd.DataFrame(data)\n",
    "    \n",
    "    # One-hot encode the data, converting NaN values as well\n",
    "    # 'prefix' can be adjusted based on preference for column naming\n",
    "    one_hot_encoded_df = pd.get_dummies(df.iloc[:,0], dummy_na=True)\n",
    "    \n",
    "    return one_hot_encoded_df\n",
    "\n",
    "df = one_hot_encode_df(data)\n",
    "print(df)\n"
   ]
  },
  {
   "cell_type": "code",
   "execution_count": 91,
   "metadata": {},
   "outputs": [
    {
     "data": {
      "text/plain": [
       "array([1.2e-01, 3.0e-02, 8.0e+00, 2.0e+00,     nan, 2.5e-01, 1.0e+00,\n",
       "       5.0e-01, 4.0e+00, 1.6e+01, 1.5e-02, 6.0e-02])"
      ]
     },
     "execution_count": 91,
     "metadata": {},
     "output_type": "execute_result"
    }
   ],
   "source": [
    "cryptic_clean['RIF_MIC'].unique()"
   ]
  },
  {
   "cell_type": "code",
   "execution_count": 110,
   "metadata": {},
   "outputs": [
    {
     "data": {
      "text/html": [
       "<div>\n",
       "<style scoped>\n",
       "    .dataframe tbody tr th:only-of-type {\n",
       "        vertical-align: middle;\n",
       "    }\n",
       "\n",
       "    .dataframe tbody tr th {\n",
       "        vertical-align: top;\n",
       "    }\n",
       "\n",
       "    .dataframe thead th {\n",
       "        text-align: right;\n",
       "    }\n",
       "</style>\n",
       "<table border=\"1\" class=\"dataframe\">\n",
       "  <thead>\n",
       "    <tr style=\"text-align: right;\">\n",
       "      <th></th>\n",
       "      <th>UNIQUEID</th>\n",
       "      <th>AMI_BINARY_PHENOTYPE</th>\n",
       "      <th>BDQ_BINARY_PHENOTYPE</th>\n",
       "      <th>CFZ_BINARY_PHENOTYPE</th>\n",
       "      <th>DLM_BINARY_PHENOTYPE</th>\n",
       "      <th>EMB_BINARY_PHENOTYPE</th>\n",
       "      <th>ETH_BINARY_PHENOTYPE</th>\n",
       "      <th>INH_BINARY_PHENOTYPE</th>\n",
       "      <th>KAN_BINARY_PHENOTYPE</th>\n",
       "      <th>LEV_BINARY_PHENOTYPE</th>\n",
       "      <th>...</th>\n",
       "      <th>KAN_PHENOTYPE_QUALITY</th>\n",
       "      <th>LEV_PHENOTYPE_QUALITY</th>\n",
       "      <th>LZD_PHENOTYPE_QUALITY</th>\n",
       "      <th>MXF_PHENOTYPE_QUALITY</th>\n",
       "      <th>RIF_PHENOTYPE_QUALITY</th>\n",
       "      <th>RFB_PHENOTYPE_QUALITY</th>\n",
       "      <th>ENA_SAMPLE</th>\n",
       "      <th>VCF</th>\n",
       "      <th>REGENOTYPED_VCF</th>\n",
       "      <th>wgs_id</th>\n",
       "    </tr>\n",
       "  </thead>\n",
       "  <tbody>\n",
       "    <tr>\n",
       "      <th>0</th>\n",
       "      <td>site.05.subj.PTAN-0001.lab.TAN-001.iso.1</td>\n",
       "      <td>S</td>\n",
       "      <td>S</td>\n",
       "      <td>S</td>\n",
       "      <td>S</td>\n",
       "      <td>S</td>\n",
       "      <td>S</td>\n",
       "      <td>S</td>\n",
       "      <td>S</td>\n",
       "      <td>S</td>\n",
       "      <td>...</td>\n",
       "      <td>HIGH</td>\n",
       "      <td>LOW</td>\n",
       "      <td>HIGH</td>\n",
       "      <td>HIGH</td>\n",
       "      <td>HIGH</td>\n",
       "      <td>HIGH</td>\n",
       "      <td>ERS1987021</td>\n",
       "      <td>00/00/04/90/490/site.05.iso.1.subject.PTAN-000...</td>\n",
       "      <td>00/00/04/90/490/site.05.iso.1.subject.PTAN-000...</td>\n",
       "      <td>ERR2184202</td>\n",
       "    </tr>\n",
       "    <tr>\n",
       "      <th>1</th>\n",
       "      <td>site.05.subj.PTAN-0002.lab.TAN-004.iso.1</td>\n",
       "      <td>S</td>\n",
       "      <td>S</td>\n",
       "      <td>S</td>\n",
       "      <td>S</td>\n",
       "      <td>S</td>\n",
       "      <td>S</td>\n",
       "      <td>S</td>\n",
       "      <td>S</td>\n",
       "      <td>S</td>\n",
       "      <td>...</td>\n",
       "      <td>HIGH</td>\n",
       "      <td>HIGH</td>\n",
       "      <td>LOW</td>\n",
       "      <td>LOW</td>\n",
       "      <td>LOW</td>\n",
       "      <td>HIGH</td>\n",
       "      <td>ERS1987022</td>\n",
       "      <td>00/00/04/91/491/site.05.iso.1.subject.PTAN-000...</td>\n",
       "      <td>00/00/04/91/491/site.05.iso.1.subject.PTAN-000...</td>\n",
       "      <td>ERR2184203</td>\n",
       "    </tr>\n",
       "    <tr>\n",
       "      <th>2</th>\n",
       "      <td>site.05.subj.PTAN-0003.lab.TAN-006.iso.1</td>\n",
       "      <td>S</td>\n",
       "      <td>S</td>\n",
       "      <td>S</td>\n",
       "      <td>S</td>\n",
       "      <td>S</td>\n",
       "      <td>S</td>\n",
       "      <td>S</td>\n",
       "      <td>S</td>\n",
       "      <td>S</td>\n",
       "      <td>...</td>\n",
       "      <td>HIGH</td>\n",
       "      <td>HIGH</td>\n",
       "      <td>HIGH</td>\n",
       "      <td>LOW</td>\n",
       "      <td>HIGH</td>\n",
       "      <td>HIGH</td>\n",
       "      <td>ERS1987023</td>\n",
       "      <td>00/00/04/92/492/site.05.iso.1.subject.PTAN-000...</td>\n",
       "      <td>00/00/04/92/492/site.05.iso.1.subject.PTAN-000...</td>\n",
       "      <td>ERR2184204</td>\n",
       "    </tr>\n",
       "    <tr>\n",
       "      <th>3</th>\n",
       "      <td>site.05.subj.PTAN-0004.lab.TAN-007.iso.1</td>\n",
       "      <td>S</td>\n",
       "      <td>S</td>\n",
       "      <td>S</td>\n",
       "      <td>S</td>\n",
       "      <td>S</td>\n",
       "      <td>NaN</td>\n",
       "      <td>S</td>\n",
       "      <td>S</td>\n",
       "      <td>S</td>\n",
       "      <td>...</td>\n",
       "      <td>HIGH</td>\n",
       "      <td>HIGH</td>\n",
       "      <td>LOW</td>\n",
       "      <td>HIGH</td>\n",
       "      <td>HIGH</td>\n",
       "      <td>HIGH</td>\n",
       "      <td>ERS1987024</td>\n",
       "      <td>00/00/04/93/493/site.05.iso.1.subject.PTAN-000...</td>\n",
       "      <td>00/00/04/93/493/site.05.iso.1.subject.PTAN-000...</td>\n",
       "      <td>ERR2184205</td>\n",
       "    </tr>\n",
       "    <tr>\n",
       "      <th>4</th>\n",
       "      <td>site.05.subj.PTAN-0005.lab.TAN-010.iso.1</td>\n",
       "      <td>S</td>\n",
       "      <td>S</td>\n",
       "      <td>S</td>\n",
       "      <td>S</td>\n",
       "      <td>S</td>\n",
       "      <td>S</td>\n",
       "      <td>S</td>\n",
       "      <td>S</td>\n",
       "      <td>S</td>\n",
       "      <td>...</td>\n",
       "      <td>HIGH</td>\n",
       "      <td>HIGH</td>\n",
       "      <td>LOW</td>\n",
       "      <td>HIGH</td>\n",
       "      <td>HIGH</td>\n",
       "      <td>HIGH</td>\n",
       "      <td>ERS1987025</td>\n",
       "      <td>00/00/04/94/494/site.05.iso.1.subject.PTAN-000...</td>\n",
       "      <td>00/00/04/94/494/site.05.iso.1.subject.PTAN-000...</td>\n",
       "      <td>ERR2184206</td>\n",
       "    </tr>\n",
       "    <tr>\n",
       "      <th>...</th>\n",
       "      <td>...</td>\n",
       "      <td>...</td>\n",
       "      <td>...</td>\n",
       "      <td>...</td>\n",
       "      <td>...</td>\n",
       "      <td>...</td>\n",
       "      <td>...</td>\n",
       "      <td>...</td>\n",
       "      <td>...</td>\n",
       "      <td>...</td>\n",
       "      <td>...</td>\n",
       "      <td>...</td>\n",
       "      <td>...</td>\n",
       "      <td>...</td>\n",
       "      <td>...</td>\n",
       "      <td>...</td>\n",
       "      <td>...</td>\n",
       "      <td>...</td>\n",
       "      <td>...</td>\n",
       "      <td>...</td>\n",
       "      <td>...</td>\n",
       "    </tr>\n",
       "    <tr>\n",
       "      <th>12280</th>\n",
       "      <td>site.11.subj.XTB_18-071.lab.XTB_18-071.iso.1</td>\n",
       "      <td>S</td>\n",
       "      <td>S</td>\n",
       "      <td>S</td>\n",
       "      <td>S</td>\n",
       "      <td>R</td>\n",
       "      <td>R</td>\n",
       "      <td>R</td>\n",
       "      <td>S</td>\n",
       "      <td>R</td>\n",
       "      <td>...</td>\n",
       "      <td>MEDIUM</td>\n",
       "      <td>MEDIUM</td>\n",
       "      <td>MEDIUM</td>\n",
       "      <td>MEDIUM</td>\n",
       "      <td>MEDIUM</td>\n",
       "      <td>MEDIUM</td>\n",
       "      <td>ERS6421155</td>\n",
       "      <td>00/01/47/01/14701/site.11.iso.1.subject.XTB_18...</td>\n",
       "      <td>00/01/47/01/14701/site.11.iso.1.subject.XTB_18...</td>\n",
       "      <td>SAMEA8741572</td>\n",
       "    </tr>\n",
       "    <tr>\n",
       "      <th>12281</th>\n",
       "      <td>site.11.subj.XTB_18-072.lab.XTB_18-072.iso.1</td>\n",
       "      <td>S</td>\n",
       "      <td>S</td>\n",
       "      <td>S</td>\n",
       "      <td>S</td>\n",
       "      <td>I</td>\n",
       "      <td>I</td>\n",
       "      <td>R</td>\n",
       "      <td>S</td>\n",
       "      <td>R</td>\n",
       "      <td>...</td>\n",
       "      <td>MEDIUM</td>\n",
       "      <td>MEDIUM</td>\n",
       "      <td>MEDIUM</td>\n",
       "      <td>MEDIUM</td>\n",
       "      <td>MEDIUM</td>\n",
       "      <td>MEDIUM</td>\n",
       "      <td>ERS6421156</td>\n",
       "      <td>00/01/47/02/14702/site.11.iso.1.subject.XTB_18...</td>\n",
       "      <td>00/01/47/02/14702/site.11.iso.1.subject.XTB_18...</td>\n",
       "      <td>SAMEA8741573</td>\n",
       "    </tr>\n",
       "    <tr>\n",
       "      <th>12282</th>\n",
       "      <td>site.11.subj.XTB_18-074.lab.XTB_18-074.iso.1</td>\n",
       "      <td>S</td>\n",
       "      <td>S</td>\n",
       "      <td>S</td>\n",
       "      <td>S</td>\n",
       "      <td>I</td>\n",
       "      <td>R</td>\n",
       "      <td>R</td>\n",
       "      <td>R</td>\n",
       "      <td>S</td>\n",
       "      <td>...</td>\n",
       "      <td>MEDIUM</td>\n",
       "      <td>MEDIUM</td>\n",
       "      <td>MEDIUM</td>\n",
       "      <td>MEDIUM</td>\n",
       "      <td>MEDIUM</td>\n",
       "      <td>MEDIUM</td>\n",
       "      <td>ERS6421157</td>\n",
       "      <td>00/01/47/03/14703/site.11.iso.1.subject.XTB_18...</td>\n",
       "      <td>00/01/47/03/14703/site.11.iso.1.subject.XTB_18...</td>\n",
       "      <td>SAMEA8741574</td>\n",
       "    </tr>\n",
       "    <tr>\n",
       "      <th>12283</th>\n",
       "      <td>site.11.subj.XTB_18-075.lab.XTB_18-075.iso.1</td>\n",
       "      <td>S</td>\n",
       "      <td>S</td>\n",
       "      <td>S</td>\n",
       "      <td>S</td>\n",
       "      <td>S</td>\n",
       "      <td>R</td>\n",
       "      <td>R</td>\n",
       "      <td>S</td>\n",
       "      <td>S</td>\n",
       "      <td>...</td>\n",
       "      <td>MEDIUM</td>\n",
       "      <td>MEDIUM</td>\n",
       "      <td>MEDIUM</td>\n",
       "      <td>MEDIUM</td>\n",
       "      <td>MEDIUM</td>\n",
       "      <td>MEDIUM</td>\n",
       "      <td>ERS6421158</td>\n",
       "      <td>00/01/47/04/14704/site.11.iso.1.subject.XTB_18...</td>\n",
       "      <td>00/01/47/04/14704/site.11.iso.1.subject.XTB_18...</td>\n",
       "      <td>SAMEA8741575</td>\n",
       "    </tr>\n",
       "    <tr>\n",
       "      <th>12284</th>\n",
       "      <td>site.11.subj.XTB_18-076.lab.XTB_18-076.iso.1</td>\n",
       "      <td>S</td>\n",
       "      <td>S</td>\n",
       "      <td>S</td>\n",
       "      <td>S</td>\n",
       "      <td>I</td>\n",
       "      <td>I</td>\n",
       "      <td>R</td>\n",
       "      <td>S</td>\n",
       "      <td>R</td>\n",
       "      <td>...</td>\n",
       "      <td>MEDIUM</td>\n",
       "      <td>MEDIUM</td>\n",
       "      <td>MEDIUM</td>\n",
       "      <td>MEDIUM</td>\n",
       "      <td>MEDIUM</td>\n",
       "      <td>MEDIUM</td>\n",
       "      <td>ERS6421159</td>\n",
       "      <td>00/01/47/05/14705/site.11.iso.1.subject.XTB_18...</td>\n",
       "      <td>00/01/47/05/14705/site.11.iso.1.subject.XTB_18...</td>\n",
       "      <td>SAMEA8741576</td>\n",
       "    </tr>\n",
       "  </tbody>\n",
       "</table>\n",
       "<p>12285 rows × 43 columns</p>\n",
       "</div>"
      ],
      "text/plain": [
       "                                           UNIQUEID AMI_BINARY_PHENOTYPE  \\\n",
       "0          site.05.subj.PTAN-0001.lab.TAN-001.iso.1                    S   \n",
       "1          site.05.subj.PTAN-0002.lab.TAN-004.iso.1                    S   \n",
       "2          site.05.subj.PTAN-0003.lab.TAN-006.iso.1                    S   \n",
       "3          site.05.subj.PTAN-0004.lab.TAN-007.iso.1                    S   \n",
       "4          site.05.subj.PTAN-0005.lab.TAN-010.iso.1                    S   \n",
       "...                                             ...                  ...   \n",
       "12280  site.11.subj.XTB_18-071.lab.XTB_18-071.iso.1                    S   \n",
       "12281  site.11.subj.XTB_18-072.lab.XTB_18-072.iso.1                    S   \n",
       "12282  site.11.subj.XTB_18-074.lab.XTB_18-074.iso.1                    S   \n",
       "12283  site.11.subj.XTB_18-075.lab.XTB_18-075.iso.1                    S   \n",
       "12284  site.11.subj.XTB_18-076.lab.XTB_18-076.iso.1                    S   \n",
       "\n",
       "      BDQ_BINARY_PHENOTYPE CFZ_BINARY_PHENOTYPE DLM_BINARY_PHENOTYPE  \\\n",
       "0                        S                    S                    S   \n",
       "1                        S                    S                    S   \n",
       "2                        S                    S                    S   \n",
       "3                        S                    S                    S   \n",
       "4                        S                    S                    S   \n",
       "...                    ...                  ...                  ...   \n",
       "12280                    S                    S                    S   \n",
       "12281                    S                    S                    S   \n",
       "12282                    S                    S                    S   \n",
       "12283                    S                    S                    S   \n",
       "12284                    S                    S                    S   \n",
       "\n",
       "      EMB_BINARY_PHENOTYPE ETH_BINARY_PHENOTYPE INH_BINARY_PHENOTYPE  \\\n",
       "0                        S                    S                    S   \n",
       "1                        S                    S                    S   \n",
       "2                        S                    S                    S   \n",
       "3                        S                  NaN                    S   \n",
       "4                        S                    S                    S   \n",
       "...                    ...                  ...                  ...   \n",
       "12280                    R                    R                    R   \n",
       "12281                    I                    I                    R   \n",
       "12282                    I                    R                    R   \n",
       "12283                    S                    R                    R   \n",
       "12284                    I                    I                    R   \n",
       "\n",
       "      KAN_BINARY_PHENOTYPE LEV_BINARY_PHENOTYPE  ... KAN_PHENOTYPE_QUALITY  \\\n",
       "0                        S                    S  ...                  HIGH   \n",
       "1                        S                    S  ...                  HIGH   \n",
       "2                        S                    S  ...                  HIGH   \n",
       "3                        S                    S  ...                  HIGH   \n",
       "4                        S                    S  ...                  HIGH   \n",
       "...                    ...                  ...  ...                   ...   \n",
       "12280                    S                    R  ...                MEDIUM   \n",
       "12281                    S                    R  ...                MEDIUM   \n",
       "12282                    R                    S  ...                MEDIUM   \n",
       "12283                    S                    S  ...                MEDIUM   \n",
       "12284                    S                    R  ...                MEDIUM   \n",
       "\n",
       "      LEV_PHENOTYPE_QUALITY LZD_PHENOTYPE_QUALITY MXF_PHENOTYPE_QUALITY  \\\n",
       "0                       LOW                  HIGH                  HIGH   \n",
       "1                      HIGH                   LOW                   LOW   \n",
       "2                      HIGH                  HIGH                   LOW   \n",
       "3                      HIGH                   LOW                  HIGH   \n",
       "4                      HIGH                   LOW                  HIGH   \n",
       "...                     ...                   ...                   ...   \n",
       "12280                MEDIUM                MEDIUM                MEDIUM   \n",
       "12281                MEDIUM                MEDIUM                MEDIUM   \n",
       "12282                MEDIUM                MEDIUM                MEDIUM   \n",
       "12283                MEDIUM                MEDIUM                MEDIUM   \n",
       "12284                MEDIUM                MEDIUM                MEDIUM   \n",
       "\n",
       "       RIF_PHENOTYPE_QUALITY  RFB_PHENOTYPE_QUALITY  ENA_SAMPLE  \\\n",
       "0                       HIGH                   HIGH  ERS1987021   \n",
       "1                        LOW                   HIGH  ERS1987022   \n",
       "2                       HIGH                   HIGH  ERS1987023   \n",
       "3                       HIGH                   HIGH  ERS1987024   \n",
       "4                       HIGH                   HIGH  ERS1987025   \n",
       "...                      ...                    ...         ...   \n",
       "12280                 MEDIUM                 MEDIUM  ERS6421155   \n",
       "12281                 MEDIUM                 MEDIUM  ERS6421156   \n",
       "12282                 MEDIUM                 MEDIUM  ERS6421157   \n",
       "12283                 MEDIUM                 MEDIUM  ERS6421158   \n",
       "12284                 MEDIUM                 MEDIUM  ERS6421159   \n",
       "\n",
       "                                                     VCF  \\\n",
       "0      00/00/04/90/490/site.05.iso.1.subject.PTAN-000...   \n",
       "1      00/00/04/91/491/site.05.iso.1.subject.PTAN-000...   \n",
       "2      00/00/04/92/492/site.05.iso.1.subject.PTAN-000...   \n",
       "3      00/00/04/93/493/site.05.iso.1.subject.PTAN-000...   \n",
       "4      00/00/04/94/494/site.05.iso.1.subject.PTAN-000...   \n",
       "...                                                  ...   \n",
       "12280  00/01/47/01/14701/site.11.iso.1.subject.XTB_18...   \n",
       "12281  00/01/47/02/14702/site.11.iso.1.subject.XTB_18...   \n",
       "12282  00/01/47/03/14703/site.11.iso.1.subject.XTB_18...   \n",
       "12283  00/01/47/04/14704/site.11.iso.1.subject.XTB_18...   \n",
       "12284  00/01/47/05/14705/site.11.iso.1.subject.XTB_18...   \n",
       "\n",
       "                                         REGENOTYPED_VCF        wgs_id  \n",
       "0      00/00/04/90/490/site.05.iso.1.subject.PTAN-000...    ERR2184202  \n",
       "1      00/00/04/91/491/site.05.iso.1.subject.PTAN-000...    ERR2184203  \n",
       "2      00/00/04/92/492/site.05.iso.1.subject.PTAN-000...    ERR2184204  \n",
       "3      00/00/04/93/493/site.05.iso.1.subject.PTAN-000...    ERR2184205  \n",
       "4      00/00/04/94/494/site.05.iso.1.subject.PTAN-000...    ERR2184206  \n",
       "...                                                  ...           ...  \n",
       "12280  00/01/47/01/14701/site.11.iso.1.subject.XTB_18...  SAMEA8741572  \n",
       "12281  00/01/47/02/14702/site.11.iso.1.subject.XTB_18...  SAMEA8741573  \n",
       "12282  00/01/47/03/14703/site.11.iso.1.subject.XTB_18...  SAMEA8741574  \n",
       "12283  00/01/47/04/14704/site.11.iso.1.subject.XTB_18...  SAMEA8741575  \n",
       "12284  00/01/47/05/14705/site.11.iso.1.subject.XTB_18...  SAMEA8741576  \n",
       "\n",
       "[12285 rows x 43 columns]"
      ]
     },
     "execution_count": 110,
     "metadata": {},
     "output_type": "execute_result"
    }
   ],
   "source": [
    "cryptic_clean"
   ]
  },
  {
   "cell_type": "code",
   "execution_count": 94,
   "metadata": {},
   "outputs": [
    {
     "data": {
      "text/plain": [
       "Float64Index([0.015, 0.03, 0.06, 0.12, 0.25, 0.5, 1.0, 2.0, 4.0, 8.0, 16.0,\n",
       "              nan],\n",
       "             dtype='float64')"
      ]
     },
     "execution_count": 94,
     "metadata": {},
     "output_type": "execute_result"
    }
   ],
   "source": [
    "df.columns"
   ]
  },
  {
   "cell_type": "code",
   "execution_count": 104,
   "metadata": {},
   "outputs": [],
   "source": [
    "df = one_hot_encode_df(cryptic_clean['RIF_MIC'])\n",
    "df.drop(columns=np.nan, inplace=True)"
   ]
  },
  {
   "cell_type": "code",
   "execution_count": 105,
   "metadata": {},
   "outputs": [
    {
     "data": {
      "text/html": [
       "<div>\n",
       "<style scoped>\n",
       "    .dataframe tbody tr th:only-of-type {\n",
       "        vertical-align: middle;\n",
       "    }\n",
       "\n",
       "    .dataframe tbody tr th {\n",
       "        vertical-align: top;\n",
       "    }\n",
       "\n",
       "    .dataframe thead th {\n",
       "        text-align: right;\n",
       "    }\n",
       "</style>\n",
       "<table border=\"1\" class=\"dataframe\">\n",
       "  <thead>\n",
       "    <tr style=\"text-align: right;\">\n",
       "      <th></th>\n",
       "      <th>0.015</th>\n",
       "      <th>0.030</th>\n",
       "      <th>0.060</th>\n",
       "      <th>0.120</th>\n",
       "      <th>0.250</th>\n",
       "      <th>0.500</th>\n",
       "      <th>1.000</th>\n",
       "      <th>2.000</th>\n",
       "      <th>4.000</th>\n",
       "      <th>8.000</th>\n",
       "      <th>16.000</th>\n",
       "    </tr>\n",
       "  </thead>\n",
       "  <tbody>\n",
       "    <tr>\n",
       "      <th>0</th>\n",
       "      <td>0</td>\n",
       "      <td>0</td>\n",
       "      <td>0</td>\n",
       "      <td>1</td>\n",
       "      <td>0</td>\n",
       "      <td>0</td>\n",
       "      <td>0</td>\n",
       "      <td>0</td>\n",
       "      <td>0</td>\n",
       "      <td>0</td>\n",
       "      <td>0</td>\n",
       "    </tr>\n",
       "    <tr>\n",
       "      <th>1</th>\n",
       "      <td>0</td>\n",
       "      <td>0</td>\n",
       "      <td>0</td>\n",
       "      <td>1</td>\n",
       "      <td>0</td>\n",
       "      <td>0</td>\n",
       "      <td>0</td>\n",
       "      <td>0</td>\n",
       "      <td>0</td>\n",
       "      <td>0</td>\n",
       "      <td>0</td>\n",
       "    </tr>\n",
       "    <tr>\n",
       "      <th>2</th>\n",
       "      <td>0</td>\n",
       "      <td>1</td>\n",
       "      <td>0</td>\n",
       "      <td>0</td>\n",
       "      <td>0</td>\n",
       "      <td>0</td>\n",
       "      <td>0</td>\n",
       "      <td>0</td>\n",
       "      <td>0</td>\n",
       "      <td>0</td>\n",
       "      <td>0</td>\n",
       "    </tr>\n",
       "    <tr>\n",
       "      <th>3</th>\n",
       "      <td>0</td>\n",
       "      <td>0</td>\n",
       "      <td>0</td>\n",
       "      <td>1</td>\n",
       "      <td>0</td>\n",
       "      <td>0</td>\n",
       "      <td>0</td>\n",
       "      <td>0</td>\n",
       "      <td>0</td>\n",
       "      <td>0</td>\n",
       "      <td>0</td>\n",
       "    </tr>\n",
       "    <tr>\n",
       "      <th>4</th>\n",
       "      <td>0</td>\n",
       "      <td>1</td>\n",
       "      <td>0</td>\n",
       "      <td>0</td>\n",
       "      <td>0</td>\n",
       "      <td>0</td>\n",
       "      <td>0</td>\n",
       "      <td>0</td>\n",
       "      <td>0</td>\n",
       "      <td>0</td>\n",
       "      <td>0</td>\n",
       "    </tr>\n",
       "    <tr>\n",
       "      <th>...</th>\n",
       "      <td>...</td>\n",
       "      <td>...</td>\n",
       "      <td>...</td>\n",
       "      <td>...</td>\n",
       "      <td>...</td>\n",
       "      <td>...</td>\n",
       "      <td>...</td>\n",
       "      <td>...</td>\n",
       "      <td>...</td>\n",
       "      <td>...</td>\n",
       "      <td>...</td>\n",
       "    </tr>\n",
       "    <tr>\n",
       "      <th>12280</th>\n",
       "      <td>0</td>\n",
       "      <td>0</td>\n",
       "      <td>0</td>\n",
       "      <td>0</td>\n",
       "      <td>0</td>\n",
       "      <td>0</td>\n",
       "      <td>0</td>\n",
       "      <td>0</td>\n",
       "      <td>0</td>\n",
       "      <td>0</td>\n",
       "      <td>1</td>\n",
       "    </tr>\n",
       "    <tr>\n",
       "      <th>12281</th>\n",
       "      <td>0</td>\n",
       "      <td>0</td>\n",
       "      <td>0</td>\n",
       "      <td>0</td>\n",
       "      <td>0</td>\n",
       "      <td>0</td>\n",
       "      <td>0</td>\n",
       "      <td>0</td>\n",
       "      <td>0</td>\n",
       "      <td>0</td>\n",
       "      <td>1</td>\n",
       "    </tr>\n",
       "    <tr>\n",
       "      <th>12282</th>\n",
       "      <td>0</td>\n",
       "      <td>0</td>\n",
       "      <td>0</td>\n",
       "      <td>0</td>\n",
       "      <td>0</td>\n",
       "      <td>0</td>\n",
       "      <td>0</td>\n",
       "      <td>0</td>\n",
       "      <td>0</td>\n",
       "      <td>0</td>\n",
       "      <td>1</td>\n",
       "    </tr>\n",
       "    <tr>\n",
       "      <th>12283</th>\n",
       "      <td>0</td>\n",
       "      <td>0</td>\n",
       "      <td>1</td>\n",
       "      <td>0</td>\n",
       "      <td>0</td>\n",
       "      <td>0</td>\n",
       "      <td>0</td>\n",
       "      <td>0</td>\n",
       "      <td>0</td>\n",
       "      <td>0</td>\n",
       "      <td>0</td>\n",
       "    </tr>\n",
       "    <tr>\n",
       "      <th>12284</th>\n",
       "      <td>0</td>\n",
       "      <td>0</td>\n",
       "      <td>0</td>\n",
       "      <td>0</td>\n",
       "      <td>0</td>\n",
       "      <td>0</td>\n",
       "      <td>0</td>\n",
       "      <td>0</td>\n",
       "      <td>0</td>\n",
       "      <td>0</td>\n",
       "      <td>1</td>\n",
       "    </tr>\n",
       "  </tbody>\n",
       "</table>\n",
       "<p>12285 rows × 11 columns</p>\n",
       "</div>"
      ],
      "text/plain": [
       "       0.015   0.030   0.060   0.120   0.250   0.500   1.000   2.000   4.000   \\\n",
       "0           0       0       0       1       0       0       0       0       0   \n",
       "1           0       0       0       1       0       0       0       0       0   \n",
       "2           0       1       0       0       0       0       0       0       0   \n",
       "3           0       0       0       1       0       0       0       0       0   \n",
       "4           0       1       0       0       0       0       0       0       0   \n",
       "...       ...     ...     ...     ...     ...     ...     ...     ...     ...   \n",
       "12280       0       0       0       0       0       0       0       0       0   \n",
       "12281       0       0       0       0       0       0       0       0       0   \n",
       "12282       0       0       0       0       0       0       0       0       0   \n",
       "12283       0       0       1       0       0       0       0       0       0   \n",
       "12284       0       0       0       0       0       0       0       0       0   \n",
       "\n",
       "       8.000   16.000  \n",
       "0           0       0  \n",
       "1           0       0  \n",
       "2           0       0  \n",
       "3           0       0  \n",
       "4           0       0  \n",
       "...       ...     ...  \n",
       "12280       0       1  \n",
       "12281       0       1  \n",
       "12282       0       1  \n",
       "12283       0       0  \n",
       "12284       0       1  \n",
       "\n",
       "[12285 rows x 11 columns]"
      ]
     },
     "execution_count": 105,
     "metadata": {},
     "output_type": "execute_result"
    }
   ],
   "source": [
    "df"
   ]
  },
  {
   "cell_type": "code",
   "execution_count": 106,
   "metadata": {},
   "outputs": [
    {
     "data": {
      "text/plain": [
       "array([0.12, 0.03, 0.25, ..., 0.25, 8.  , 0.06])"
      ]
     },
     "execution_count": 106,
     "metadata": {},
     "output_type": "execute_result"
    }
   ],
   "source": [
    "np.array([float(x) for x in cryptic_mic_ordered['RIF_MIC']])[:int(0.9*cryptic_mic_ordered.shape[0])]"
   ]
  },
  {
   "cell_type": "code",
   "execution_count": 107,
   "metadata": {},
   "outputs": [],
   "source": [
    "# np.savetxt('data_aa/RIF_MIC.csv', np.array([float(x) for x in cryptic_mic_ordered['RIF_MIC']]), delimiter=',')   # X is an array\n",
    "# np.savetxt('data_aa/train_RIF_MIC.csv', np.array([float(x) for x in cryptic_mic_ordered['RIF_MIC']])[:int(0.9*cryptic_mic_ordered.shape[0])], delimiter=',')   # X is an array\n",
    "# np.savetxt('data_aa/test_RIF_MIC.csv', np.array([float(x) for x in cryptic_mic_ordered['RIF_MIC']])[int(0.9*cryptic_mic_ordered.shape[0]):], delimiter=',')   # X is an array"
   ]
  },
  {
   "cell_type": "code",
   "execution_count": 108,
   "metadata": {},
   "outputs": [],
   "source": [
    "df.to_csv('data_aa/RIF_MIC_class.csv', index=False, header=True)"
   ]
  },
  {
   "cell_type": "code",
   "execution_count": 109,
   "metadata": {},
   "outputs": [],
   "source": [
    "df.iloc[:int(0.9*cryptic_mic_ordered.shape[0]), :].to_csv('data_aa/train_RIF_MIC_class.csv', index=False, header=True)\n",
    "df.iloc[int(0.9*cryptic_mic_ordered.shape[0]):, :].to_csv('data_aa/test_RIF_MIC_class.csv', index=False, header=True)"
   ]
  },
  {
   "cell_type": "code",
   "execution_count": null,
   "metadata": {},
   "outputs": [],
   "source": []
  },
  {
   "cell_type": "markdown",
   "metadata": {},
   "source": [
    "# fm Data"
   ]
  },
  {
   "cell_type": "code",
   "execution_count": 91,
   "metadata": {},
   "outputs": [],
   "source": [
    "fm_aa = pd.read_csv('/mnt/storageG1/lwang/Projects/tb_dr_MIC_v2/data_aa/cryptic_fm_transposed.csv')\n",
    "fm_aa = fm_aa.loc[:, fm_aa.columns!='NA']\n",
    "fm_aa = fm_aa.transpose()\n",
    "fm_aa = fm_aa.iloc[1:,:]"
   ]
  },
  {
   "cell_type": "code",
   "execution_count": 113,
   "metadata": {},
   "outputs": [],
   "source": [
    "fm_aa.to_csv('data_aa/fm_aa.csv', index=False)"
   ]
  },
  {
   "cell_type": "code",
   "execution_count": 108,
   "metadata": {},
   "outputs": [
    {
     "name": "stderr",
     "output_type": "stream",
     "text": [
      "/tmp/ipykernel_106569/1595918224.py:2: SettingWithCopyWarning: \n",
      "A value is trying to be set on a copy of a slice from a DataFrame.\n",
      "Try using .loc[row_indexer,col_indexer] = value instead\n",
      "\n",
      "See the caveats in the documentation: https://pandas.pydata.org/pandas-docs/stable/user_guide/indexing.html#returning-a-view-versus-a-copy\n",
      "  mic_aa['wgs_id'] = pd.Categorical(mic_aa['wgs_id'], categories=fm_aa.index.unique().tolist(), ordered=True)\n"
     ]
    }
   ],
   "source": [
    "mic_aa = cryptic_mic[cryptic_mic['wgs_id'].isin(fm_aa.index.unique())]#.iloc[:,14:27]\n",
    "mic_aa['wgs_id'] = pd.Categorical(mic_aa['wgs_id'], categories=fm_aa.index.unique().tolist(), ordered=True)\n",
    "mic_aa = mic_aa.sort_values('wgs_id')"
   ]
  },
  {
   "cell_type": "code",
   "execution_count": 112,
   "metadata": {},
   "outputs": [],
   "source": [
    "mic_aa = mic_aa.iloc[:,14:27].astype('float')\n",
    "mic_aa.to_csv('data_aa/mic_aa_fm.csv', index=False)"
   ]
  },
  {
   "cell_type": "code",
   "execution_count": 114,
   "metadata": {},
   "outputs": [],
   "source": [
    "mic_aa.iloc[:int(mic_aa.shape[0]*0.9),:].to_csv('data_aa/mic_aa_fm_train.csv', index=False)\n",
    "mic_aa.iloc[int(mic_aa.shape[0]*0.9):,:].to_csv('data_aa/mix_aa_fm_test.csv', index=False)\n",
    "\n",
    "fm_aa.iloc[:int(fm_aa.shape[0]*0.9),:].to_csv('data_aa/fm_aa_train.csv', index=False)\n",
    "fm_aa.iloc[int(fm_aa.shape[0]*0.9):,:].to_csv('data_aa/fm_aa_test.csv', index=False)"
   ]
  },
  {
   "cell_type": "code",
   "execution_count": 104,
   "metadata": {},
   "outputs": [
    {
     "data": {
      "text/plain": [
       "Index(['ERR4810491', 'ERR4810493', 'ERR4810494', 'ERR4810495', 'ERR4810497',\n",
       "       'ERR4810498', 'ERR4810507', 'ERR4810509', 'ERR4810512', 'ERR4810516',\n",
       "       ...\n",
       "       'ERR8699755', 'ERR8686563', 'ERR8699762', 'ERR8699756', 'ERR8699805',\n",
       "       'ERR8699231', 'ERR8699764', 'ERR8699789', 'ERR8699232', 'ERR8699267'],\n",
       "      dtype='object', length=10824)"
      ]
     },
     "execution_count": 104,
     "metadata": {},
     "output_type": "execute_result"
    }
   ],
   "source": [
    "fm_aa.index.unique()"
   ]
  },
  {
   "cell_type": "code",
   "execution_count": 84,
   "metadata": {},
   "outputs": [
    {
     "data": {
      "text/html": [
       "<div>\n",
       "<style scoped>\n",
       "    .dataframe tbody tr th:only-of-type {\n",
       "        vertical-align: middle;\n",
       "    }\n",
       "\n",
       "    .dataframe tbody tr th {\n",
       "        vertical-align: top;\n",
       "    }\n",
       "\n",
       "    .dataframe thead th {\n",
       "        text-align: right;\n",
       "    }\n",
       "</style>\n",
       "<table border=\"1\" class=\"dataframe\">\n",
       "  <thead>\n",
       "    <tr style=\"text-align: right;\">\n",
       "      <th></th>\n",
       "      <th>0</th>\n",
       "      <th>1</th>\n",
       "      <th>2</th>\n",
       "      <th>3</th>\n",
       "      <th>4</th>\n",
       "      <th>5</th>\n",
       "      <th>6</th>\n",
       "      <th>7</th>\n",
       "      <th>8</th>\n",
       "      <th>9</th>\n",
       "      <th>...</th>\n",
       "      <th>9616</th>\n",
       "      <th>9617</th>\n",
       "      <th>9618</th>\n",
       "      <th>9619</th>\n",
       "      <th>9620</th>\n",
       "      <th>9621</th>\n",
       "      <th>9622</th>\n",
       "      <th>9623</th>\n",
       "      <th>9624</th>\n",
       "      <th>9625</th>\n",
       "    </tr>\n",
       "  </thead>\n",
       "  <tbody>\n",
       "    <tr>\n",
       "      <th>Unnamed: 0</th>\n",
       "      <td>Chromosome_11_C</td>\n",
       "      <td>Chromosome_22_C</td>\n",
       "      <td>Chromosome_29_G</td>\n",
       "      <td>Chromosome_31_G</td>\n",
       "      <td>Chromosome_69_T</td>\n",
       "      <td>Chromosome_71_T</td>\n",
       "      <td>Chromosome_76_C</td>\n",
       "      <td>Chromosome_78_G</td>\n",
       "      <td>Chromosome_82_C</td>\n",
       "      <td>Chromosome_88_A</td>\n",
       "      <td>...</td>\n",
       "      <td>Chromosome_4338506_A</td>\n",
       "      <td>Chromosome_4338508_C</td>\n",
       "      <td>Chromosome_4338508_G</td>\n",
       "      <td>Chromosome_4338513_A</td>\n",
       "      <td>Chromosome_4338514_C</td>\n",
       "      <td>Chromosome_4338514_G</td>\n",
       "      <td>Chromosome_4338516_TCGCATTAACCGACGGGTCGGCCCAGG...</td>\n",
       "      <td>Chromosome_4338518_G</td>\n",
       "      <td>Chromosome_4338520_G</td>\n",
       "      <td>Chromosome_4338521_A</td>\n",
       "    </tr>\n",
       "    <tr>\n",
       "      <th>ERR4810489</th>\n",
       "      <td>0</td>\n",
       "      <td>0</td>\n",
       "      <td>0</td>\n",
       "      <td>0</td>\n",
       "      <td>0</td>\n",
       "      <td>0</td>\n",
       "      <td>0</td>\n",
       "      <td>0</td>\n",
       "      <td>0</td>\n",
       "      <td>0</td>\n",
       "      <td>...</td>\n",
       "      <td>0</td>\n",
       "      <td>0</td>\n",
       "      <td>0</td>\n",
       "      <td>0</td>\n",
       "      <td>0</td>\n",
       "      <td>0</td>\n",
       "      <td>0</td>\n",
       "      <td>0</td>\n",
       "      <td>0</td>\n",
       "      <td>0</td>\n",
       "    </tr>\n",
       "    <tr>\n",
       "      <th>ERR4810491</th>\n",
       "      <td>0.0</td>\n",
       "      <td>0.0</td>\n",
       "      <td>0.0</td>\n",
       "      <td>0.0</td>\n",
       "      <td>0.0</td>\n",
       "      <td>0.0</td>\n",
       "      <td>0.0</td>\n",
       "      <td>0.0</td>\n",
       "      <td>0.0</td>\n",
       "      <td>0.0</td>\n",
       "      <td>...</td>\n",
       "      <td>0.0</td>\n",
       "      <td>0.0</td>\n",
       "      <td>0.0</td>\n",
       "      <td>0.0</td>\n",
       "      <td>0.0</td>\n",
       "      <td>0.0</td>\n",
       "      <td>0.0</td>\n",
       "      <td>0.0</td>\n",
       "      <td>0.0</td>\n",
       "      <td>0.0</td>\n",
       "    </tr>\n",
       "    <tr>\n",
       "      <th>ERR4810493</th>\n",
       "      <td>0.0</td>\n",
       "      <td>0.0</td>\n",
       "      <td>0.0</td>\n",
       "      <td>0.0</td>\n",
       "      <td>0.0</td>\n",
       "      <td>0.0</td>\n",
       "      <td>0.0</td>\n",
       "      <td>0.0</td>\n",
       "      <td>0.0</td>\n",
       "      <td>0.0</td>\n",
       "      <td>...</td>\n",
       "      <td>0.0</td>\n",
       "      <td>0.0</td>\n",
       "      <td>0.0</td>\n",
       "      <td>0.0</td>\n",
       "      <td>0.0</td>\n",
       "      <td>0.0</td>\n",
       "      <td>0.0</td>\n",
       "      <td>0.0</td>\n",
       "      <td>0.0</td>\n",
       "      <td>0.0</td>\n",
       "    </tr>\n",
       "    <tr>\n",
       "      <th>ERR4810494</th>\n",
       "      <td>0</td>\n",
       "      <td>0</td>\n",
       "      <td>0</td>\n",
       "      <td>0</td>\n",
       "      <td>0</td>\n",
       "      <td>0</td>\n",
       "      <td>0</td>\n",
       "      <td>0</td>\n",
       "      <td>0</td>\n",
       "      <td>0</td>\n",
       "      <td>...</td>\n",
       "      <td>0</td>\n",
       "      <td>0</td>\n",
       "      <td>0</td>\n",
       "      <td>0</td>\n",
       "      <td>0</td>\n",
       "      <td>0</td>\n",
       "      <td>0</td>\n",
       "      <td>0</td>\n",
       "      <td>0</td>\n",
       "      <td>0</td>\n",
       "    </tr>\n",
       "    <tr>\n",
       "      <th>...</th>\n",
       "      <td>...</td>\n",
       "      <td>...</td>\n",
       "      <td>...</td>\n",
       "      <td>...</td>\n",
       "      <td>...</td>\n",
       "      <td>...</td>\n",
       "      <td>...</td>\n",
       "      <td>...</td>\n",
       "      <td>...</td>\n",
       "      <td>...</td>\n",
       "      <td>...</td>\n",
       "      <td>...</td>\n",
       "      <td>...</td>\n",
       "      <td>...</td>\n",
       "      <td>...</td>\n",
       "      <td>...</td>\n",
       "      <td>...</td>\n",
       "      <td>...</td>\n",
       "      <td>...</td>\n",
       "      <td>...</td>\n",
       "      <td>...</td>\n",
       "    </tr>\n",
       "    <tr>\n",
       "      <th>ERR8699764</th>\n",
       "      <td>0</td>\n",
       "      <td>0</td>\n",
       "      <td>0</td>\n",
       "      <td>0</td>\n",
       "      <td>0</td>\n",
       "      <td>0</td>\n",
       "      <td>0</td>\n",
       "      <td>0</td>\n",
       "      <td>0</td>\n",
       "      <td>0</td>\n",
       "      <td>...</td>\n",
       "      <td>0</td>\n",
       "      <td>0</td>\n",
       "      <td>0</td>\n",
       "      <td>0</td>\n",
       "      <td>0</td>\n",
       "      <td>0</td>\n",
       "      <td>0</td>\n",
       "      <td>0</td>\n",
       "      <td>0</td>\n",
       "      <td>0</td>\n",
       "    </tr>\n",
       "    <tr>\n",
       "      <th>ERR8699789</th>\n",
       "      <td>0.0</td>\n",
       "      <td>0.0</td>\n",
       "      <td>0.0</td>\n",
       "      <td>0.0</td>\n",
       "      <td>0.0</td>\n",
       "      <td>0.0</td>\n",
       "      <td>0.0</td>\n",
       "      <td>0.0</td>\n",
       "      <td>0.0</td>\n",
       "      <td>0.0</td>\n",
       "      <td>...</td>\n",
       "      <td>0.0</td>\n",
       "      <td>0.0</td>\n",
       "      <td>0.0</td>\n",
       "      <td>0.0</td>\n",
       "      <td>0.0</td>\n",
       "      <td>0.0</td>\n",
       "      <td>0.0</td>\n",
       "      <td>0.0</td>\n",
       "      <td>0.0</td>\n",
       "      <td>0.0</td>\n",
       "    </tr>\n",
       "    <tr>\n",
       "      <th>ERR8699232</th>\n",
       "      <td>0</td>\n",
       "      <td>0</td>\n",
       "      <td>0</td>\n",
       "      <td>0</td>\n",
       "      <td>0</td>\n",
       "      <td>0</td>\n",
       "      <td>0</td>\n",
       "      <td>0</td>\n",
       "      <td>0</td>\n",
       "      <td>0</td>\n",
       "      <td>...</td>\n",
       "      <td>0</td>\n",
       "      <td>0</td>\n",
       "      <td>0</td>\n",
       "      <td>0</td>\n",
       "      <td>0</td>\n",
       "      <td>0</td>\n",
       "      <td>0</td>\n",
       "      <td>0</td>\n",
       "      <td>0</td>\n",
       "      <td>0</td>\n",
       "    </tr>\n",
       "    <tr>\n",
       "      <th>ERR8699267</th>\n",
       "      <td>0</td>\n",
       "      <td>0</td>\n",
       "      <td>0</td>\n",
       "      <td>0</td>\n",
       "      <td>0</td>\n",
       "      <td>0</td>\n",
       "      <td>0</td>\n",
       "      <td>0</td>\n",
       "      <td>0</td>\n",
       "      <td>0</td>\n",
       "      <td>...</td>\n",
       "      <td>0</td>\n",
       "      <td>0</td>\n",
       "      <td>0</td>\n",
       "      <td>0</td>\n",
       "      <td>0</td>\n",
       "      <td>0</td>\n",
       "      <td>0</td>\n",
       "      <td>0</td>\n",
       "      <td>0</td>\n",
       "      <td>0</td>\n",
       "    </tr>\n",
       "    <tr>\n",
       "      <th>NA</th>\n",
       "      <td>False</td>\n",
       "      <td>False</td>\n",
       "      <td>False</td>\n",
       "      <td>False</td>\n",
       "      <td>False</td>\n",
       "      <td>False</td>\n",
       "      <td>False</td>\n",
       "      <td>False</td>\n",
       "      <td>False</td>\n",
       "      <td>False</td>\n",
       "      <td>...</td>\n",
       "      <td>False</td>\n",
       "      <td>False</td>\n",
       "      <td>False</td>\n",
       "      <td>False</td>\n",
       "      <td>False</td>\n",
       "      <td>False</td>\n",
       "      <td>False</td>\n",
       "      <td>False</td>\n",
       "      <td>False</td>\n",
       "      <td>False</td>\n",
       "    </tr>\n",
       "  </tbody>\n",
       "</table>\n",
       "<p>10827 rows × 9626 columns</p>\n",
       "</div>"
      ],
      "text/plain": [
       "                       0                1                2     \\\n",
       "Unnamed: 0  Chromosome_11_C  Chromosome_22_C  Chromosome_29_G   \n",
       "ERR4810489                0                0                0   \n",
       "ERR4810491              0.0              0.0              0.0   \n",
       "ERR4810493              0.0              0.0              0.0   \n",
       "ERR4810494                0                0                0   \n",
       "...                     ...              ...              ...   \n",
       "ERR8699764                0                0                0   \n",
       "ERR8699789              0.0              0.0              0.0   \n",
       "ERR8699232                0                0                0   \n",
       "ERR8699267                0                0                0   \n",
       "NA                    False            False            False   \n",
       "\n",
       "                       3                4                5     \\\n",
       "Unnamed: 0  Chromosome_31_G  Chromosome_69_T  Chromosome_71_T   \n",
       "ERR4810489                0                0                0   \n",
       "ERR4810491              0.0              0.0              0.0   \n",
       "ERR4810493              0.0              0.0              0.0   \n",
       "ERR4810494                0                0                0   \n",
       "...                     ...              ...              ...   \n",
       "ERR8699764                0                0                0   \n",
       "ERR8699789              0.0              0.0              0.0   \n",
       "ERR8699232                0                0                0   \n",
       "ERR8699267                0                0                0   \n",
       "NA                    False            False            False   \n",
       "\n",
       "                       6                7                8     \\\n",
       "Unnamed: 0  Chromosome_76_C  Chromosome_78_G  Chromosome_82_C   \n",
       "ERR4810489                0                0                0   \n",
       "ERR4810491              0.0              0.0              0.0   \n",
       "ERR4810493              0.0              0.0              0.0   \n",
       "ERR4810494                0                0                0   \n",
       "...                     ...              ...              ...   \n",
       "ERR8699764                0                0                0   \n",
       "ERR8699789              0.0              0.0              0.0   \n",
       "ERR8699232                0                0                0   \n",
       "ERR8699267                0                0                0   \n",
       "NA                    False            False            False   \n",
       "\n",
       "                       9     ...                  9616                  9617  \\\n",
       "Unnamed: 0  Chromosome_88_A  ...  Chromosome_4338506_A  Chromosome_4338508_C   \n",
       "ERR4810489                0  ...                     0                     0   \n",
       "ERR4810491              0.0  ...                   0.0                   0.0   \n",
       "ERR4810493              0.0  ...                   0.0                   0.0   \n",
       "ERR4810494                0  ...                     0                     0   \n",
       "...                     ...  ...                   ...                   ...   \n",
       "ERR8699764                0  ...                     0                     0   \n",
       "ERR8699789              0.0  ...                   0.0                   0.0   \n",
       "ERR8699232                0  ...                     0                     0   \n",
       "ERR8699267                0  ...                     0                     0   \n",
       "NA                    False  ...                 False                 False   \n",
       "\n",
       "                            9618                  9619                  9620  \\\n",
       "Unnamed: 0  Chromosome_4338508_G  Chromosome_4338513_A  Chromosome_4338514_C   \n",
       "ERR4810489                     0                     0                     0   \n",
       "ERR4810491                   0.0                   0.0                   0.0   \n",
       "ERR4810493                   0.0                   0.0                   0.0   \n",
       "ERR4810494                     0                     0                     0   \n",
       "...                          ...                   ...                   ...   \n",
       "ERR8699764                     0                     0                     0   \n",
       "ERR8699789                   0.0                   0.0                   0.0   \n",
       "ERR8699232                     0                     0                     0   \n",
       "ERR8699267                     0                     0                     0   \n",
       "NA                         False                 False                 False   \n",
       "\n",
       "                            9621  \\\n",
       "Unnamed: 0  Chromosome_4338514_G   \n",
       "ERR4810489                     0   \n",
       "ERR4810491                   0.0   \n",
       "ERR4810493                   0.0   \n",
       "ERR4810494                     0   \n",
       "...                          ...   \n",
       "ERR8699764                     0   \n",
       "ERR8699789                   0.0   \n",
       "ERR8699232                     0   \n",
       "ERR8699267                     0   \n",
       "NA                         False   \n",
       "\n",
       "                                                         9622  \\\n",
       "Unnamed: 0  Chromosome_4338516_TCGCATTAACCGACGGGTCGGCCCAGG...   \n",
       "ERR4810489                                                  0   \n",
       "ERR4810491                                                0.0   \n",
       "ERR4810493                                                0.0   \n",
       "ERR4810494                                                  0   \n",
       "...                                                       ...   \n",
       "ERR8699764                                                  0   \n",
       "ERR8699789                                                0.0   \n",
       "ERR8699232                                                  0   \n",
       "ERR8699267                                                  0   \n",
       "NA                                                      False   \n",
       "\n",
       "                            9623                  9624                  9625  \n",
       "Unnamed: 0  Chromosome_4338518_G  Chromosome_4338520_G  Chromosome_4338521_A  \n",
       "ERR4810489                     0                     0                     0  \n",
       "ERR4810491                   0.0                   0.0                   0.0  \n",
       "ERR4810493                   0.0                   0.0                   0.0  \n",
       "ERR4810494                     0                     0                     0  \n",
       "...                          ...                   ...                   ...  \n",
       "ERR8699764                     0                     0                     0  \n",
       "ERR8699789                   0.0                   0.0                   0.0  \n",
       "ERR8699232                     0                     0                     0  \n",
       "ERR8699267                     0                     0                     0  \n",
       "NA                         False                 False                 False  \n",
       "\n",
       "[10827 rows x 9626 columns]"
      ]
     },
     "execution_count": 84,
     "metadata": {},
     "output_type": "execute_result"
    }
   ],
   "source": [
    "Nina_aa.transpose()"
   ]
  },
  {
   "cell_type": "code",
   "execution_count": null,
   "metadata": {},
   "outputs": [],
   "source": []
  }
 ],
 "metadata": {
  "kernelspec": {
   "display_name": "ml-g1",
   "language": "python",
   "name": "python3"
  },
  "language_info": {
   "codemirror_mode": {
    "name": "ipython",
    "version": 3
   },
   "file_extension": ".py",
   "mimetype": "text/x-python",
   "name": "python",
   "nbconvert_exporter": "python",
   "pygments_lexer": "ipython3",
   "version": "3.9.15"
  }
 },
 "nbformat": 4,
 "nbformat_minor": 2
}
