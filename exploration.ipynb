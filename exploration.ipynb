{
 "cells": [
  {
   "cell_type": "code",
   "execution_count": 3,
   "metadata": {},
   "outputs": [],
   "source": [
    "#env:ml-s7\n",
    "import numpy as np\n",
    "import pandas as pd\n",
    "# from icecream import ic\n",
    "import subprocess\n",
    "import json\n",
    "import os\n",
    "import plotly.graph_objects as go\n",
    "from matplotlib import pyplot as plt\n",
    "# import geopandas as gpd\n",
    "# from shapely.geometry import Polygon\n",
    "# from shapely.ops import cascaded_union, unary_union\n",
    "# from shapely import geometry\n",
    "# from geopy import distance\n",
    "%matplotlib inline\n",
    "import plotly.express as px \n",
    "from scipy import signal\n",
    "from tqdm import tqdm\n",
    "# from Bio import Phylo\n",
    "# import ete3\n",
    "import itertools\n",
    "import sklearn"
   ]
  },
  {
   "cell_type": "code",
   "execution_count": 4,
   "metadata": {},
   "outputs": [],
   "source": [
    "def value_counts_list(lst):\n",
    "    \"\"\"\n",
    "    Computes the frequency count of unique elements in a list and returns a dictionary, sorted by frequency count in\n",
    "    descending order.\n",
    "\n",
    "    Args:\n",
    "    - lst (list): List of elements\n",
    "\n",
    "    Returns:\n",
    "    - dict: Dictionary with unique elements as keys and their frequency count as values, sorted by frequency count\n",
    "    in descending order\n",
    "    \"\"\"\n",
    "    value_counts = {}\n",
    "    for item in lst:\n",
    "        if item in value_counts:\n",
    "            value_counts[item] += 1\n",
    "        else:\n",
    "            value_counts[item] = 1\n",
    "    sorted_value_counts = dict(sorted(value_counts.items(), key=lambda x: x[1], reverse=True))\n",
    "    return sorted_value_counts\n",
    "\n",
    "def print_full(x):\n",
    "    pd.set_option('display.max_rows', None)\n",
    "    pd.set_option('display.max_columns', None)\n",
    "    pd.set_option('display.width', 2000)\n",
    "    pd.set_option('display.float_format', '{:20,.2f}'.format)\n",
    "    pd.set_option('display.max_colwidth', None)\n",
    "    print(x)\n",
    "    pd.reset_option('display.max_rows')\n",
    "    pd.reset_option('display.max_columns')\n",
    "    pd.reset_option('display.width')\n",
    "    pd.reset_option('display.float_format')\n",
    "    pd.reset_option('display.max_colwidth')"
   ]
  },
  {
   "attachments": {},
   "cell_type": "markdown",
   "metadata": {},
   "source": [
    "# Data exploration the MIC"
   ]
  },
  {
   "cell_type": "code",
   "execution_count": 5,
   "metadata": {},
   "outputs": [],
   "source": [
    "df = pd.read_csv('CRyPTIC_reuse_table_20221019.csv')"
   ]
  },
  {
   "cell_type": "code",
   "execution_count": 6,
   "metadata": {},
   "outputs": [
    {
     "data": {
      "text/plain": [
       "Index(['UNIQUEID', 'AMI_BINARY_PHENOTYPE', 'BDQ_BINARY_PHENOTYPE',\n",
       "       'CFZ_BINARY_PHENOTYPE', 'DLM_BINARY_PHENOTYPE', 'EMB_BINARY_PHENOTYPE',\n",
       "       'ETH_BINARY_PHENOTYPE', 'INH_BINARY_PHENOTYPE', 'KAN_BINARY_PHENOTYPE',\n",
       "       'LEV_BINARY_PHENOTYPE', 'LZD_BINARY_PHENOTYPE', 'MXF_BINARY_PHENOTYPE',\n",
       "       'RIF_BINARY_PHENOTYPE', 'RFB_BINARY_PHENOTYPE', 'AMI_MIC', 'BDQ_MIC',\n",
       "       'CFZ_MIC', 'DLM_MIC', 'EMB_MIC', 'ETH_MIC', 'INH_MIC', 'KAN_MIC',\n",
       "       'LEV_MIC', 'LZD_MIC', 'MXF_MIC', 'RIF_MIC', 'RFB_MIC',\n",
       "       'AMI_PHENOTYPE_QUALITY', 'BDQ_PHENOTYPE_QUALITY',\n",
       "       'CFZ_PHENOTYPE_QUALITY', 'EMB_PHENOTYPE_QUALITY',\n",
       "       'ETH_PHENOTYPE_QUALITY', 'INH_PHENOTYPE_QUALITY',\n",
       "       'KAN_PHENOTYPE_QUALITY', 'LEV_PHENOTYPE_QUALITY',\n",
       "       'LZD_PHENOTYPE_QUALITY', 'MXF_PHENOTYPE_QUALITY',\n",
       "       'RIF_PHENOTYPE_QUALITY', 'RFB_PHENOTYPE_QUALITY', 'ENA_SAMPLE', 'VCF',\n",
       "       'REGENOTYPED_VCF', 'wgs_id'],\n",
       "      dtype='object')"
      ]
     },
     "execution_count": 6,
     "metadata": {},
     "output_type": "execute_result"
    }
   ],
   "source": [
    "df.columns"
   ]
  },
  {
   "cell_type": "code",
   "execution_count": 10,
   "metadata": {},
   "outputs": [
    {
     "name": "stdout",
     "output_type": "stream",
     "text": [
      "HIGH      8970\n",
      "LOW       1749\n",
      "MEDIUM    1349\n",
      "Name: AMI_PHENOTYPE_QUALITY, dtype: int64\n",
      "HIGH      8533\n",
      "LOW       2177\n",
      "MEDIUM    1354\n",
      "Name: BDQ_PHENOTYPE_QUALITY, dtype: int64\n",
      "HIGH      7761\n",
      "LOW       2933\n",
      "MEDIUM    1351\n",
      "Name: CFZ_PHENOTYPE_QUALITY, dtype: int64\n",
      "HIGH      7504\n",
      "LOW       3296\n",
      "MEDIUM    1354\n",
      "Name: EMB_PHENOTYPE_QUALITY, dtype: int64\n",
      "HIGH      8818\n",
      "LOW       1956\n",
      "MEDIUM    1354\n",
      "Name: ETH_PHENOTYPE_QUALITY, dtype: int64\n",
      "HIGH      9516\n",
      "MEDIUM    1350\n",
      "LOW       1201\n",
      "Name: INH_PHENOTYPE_QUALITY, dtype: int64\n",
      "HIGH      9330\n",
      "LOW       1442\n",
      "MEDIUM    1354\n",
      "Name: KAN_PHENOTYPE_QUALITY, dtype: int64\n",
      "HIGH      7771\n",
      "LOW       3035\n",
      "MEDIUM    1353\n",
      "Name: LEV_PHENOTYPE_QUALITY, dtype: int64\n",
      "HIGH      7138\n",
      "LOW       3693\n",
      "MEDIUM    1354\n",
      "Name: LZD_PHENOTYPE_QUALITY, dtype: int64\n",
      "HIGH      6783\n",
      "LOW       4055\n",
      "MEDIUM    1352\n",
      "Name: MXF_PHENOTYPE_QUALITY, dtype: int64\n",
      "HIGH      8953\n",
      "LOW       1789\n",
      "MEDIUM    1355\n",
      "Name: RIF_PHENOTYPE_QUALITY, dtype: int64\n",
      "HIGH      10039\n",
      "MEDIUM     1351\n",
      "LOW         756\n",
      "Name: RFB_PHENOTYPE_QUALITY, dtype: int64\n"
     ]
    }
   ],
   "source": [
    "for x in ['AMI_PHENOTYPE_QUALITY', 'BDQ_PHENOTYPE_QUALITY',\n",
    "       'CFZ_PHENOTYPE_QUALITY', 'EMB_PHENOTYPE_QUALITY',\n",
    "       'ETH_PHENOTYPE_QUALITY', 'INH_PHENOTYPE_QUALITY',\n",
    "       'KAN_PHENOTYPE_QUALITY', 'LEV_PHENOTYPE_QUALITY',\n",
    "       'LZD_PHENOTYPE_QUALITY', 'MXF_PHENOTYPE_QUALITY',\n",
    "       'RIF_PHENOTYPE_QUALITY', 'RFB_PHENOTYPE_QUALITY']:\n",
    "    print(df[x].value_counts())"
   ]
  },
  {
   "cell_type": "code",
   "execution_count": 12,
   "metadata": {},
   "outputs": [
    {
     "data": {
      "text/plain": [
       "(12285, 43)"
      ]
     },
     "execution_count": 12,
     "metadata": {},
     "output_type": "execute_result"
    }
   ],
   "source": [
    "df.shape"
   ]
  },
  {
   "cell_type": "code",
   "execution_count": 5,
   "metadata": {},
   "outputs": [
    {
     "data": {
      "text/plain": [
       "AMI_BINARY_PHENOTYPE  BDQ_BINARY_PHENOTYPE  CFZ_BINARY_PHENOTYPE\n",
       "S                     S                     S                       10389\n",
       "R                     S                     S                         736\n",
       "S                     S                     R                         363\n",
       "R                     S                     R                          96\n",
       "S                     R                     S                          45\n",
       "                                            R                          38\n",
       "R                     R                     R                          16\n",
       "                                            S                           5\n",
       "dtype: int64"
      ]
     },
     "execution_count": 5,
     "metadata": {},
     "output_type": "execute_result"
    }
   ],
   "source": [
    "df[['AMI_BINARY_PHENOTYPE',\t'BDQ_BINARY_PHENOTYPE',\t'CFZ_BINARY_PHENOTYPE']].value_counts()"
   ]
  },
  {
   "cell_type": "code",
   "execution_count": 5,
   "metadata": {},
   "outputs": [
    {
     "name": "stdout",
     "output_type": "stream",
     "text": [
      "{'HIGH': 101116, 'LOW': 28082, 'MEDIUM': 16231, nan: 1991}\n"
     ]
    }
   ],
   "source": [
    "ar = df[['AMI_PHENOTYPE_QUALITY', 'BDQ_PHENOTYPE_QUALITY',\n",
    "       'CFZ_PHENOTYPE_QUALITY', 'EMB_PHENOTYPE_QUALITY',\n",
    "       'ETH_PHENOTYPE_QUALITY', 'INH_PHENOTYPE_QUALITY',\n",
    "       'KAN_PHENOTYPE_QUALITY', 'LEV_PHENOTYPE_QUALITY',\n",
    "       'LZD_PHENOTYPE_QUALITY', 'MXF_PHENOTYPE_QUALITY',\n",
    "       'RIF_PHENOTYPE_QUALITY', 'RFB_PHENOTYPE_QUALITY']].values\n",
    "\n",
    "list_2d = [element for row in ar for element in row]\n",
    "print(value_counts_list(list_2d))"
   ]
  },
  {
   "cell_type": "code",
   "execution_count": 6,
   "metadata": {},
   "outputs": [
    {
     "name": "stdout",
     "output_type": "stream",
     "text": [
      "<=0.25    7072\n",
      "0.5       3510\n",
      "1          604\n",
      ">8         393\n",
      ">16        286\n",
      "2           94\n",
      "16          42\n",
      "4           35\n",
      "8           32\n",
      "Name: AMI_MIC, dtype: int64\n",
      "0.03       4156\n",
      "0.06       3815\n",
      "<=0.015    1477\n",
      "0.015      1053\n",
      "0.12        790\n",
      "<=0.008     420\n",
      "0.25        244\n",
      "0.5          65\n",
      "1            28\n",
      ">2            8\n",
      ">1            5\n",
      "2             3\n",
      "Name: BDQ_MIC, dtype: int64\n",
      "<=0.06    3986\n",
      "0.12      2745\n",
      "0.06      2170\n",
      "<=0.03    1408\n",
      "0.25      1211\n",
      "0.5        339\n",
      "1          126\n",
      "2           37\n",
      "4            9\n",
      ">4           8\n",
      ">2           6\n",
      "Name: CFZ_MIC, dtype: int64\n",
      "<=0.015    4811\n",
      "<=0.008    2889\n",
      "0.015      1787\n",
      "0.03       1373\n",
      "0.06        639\n",
      "0.12        238\n",
      "0.25         53\n",
      ">1           51\n",
      "0.5          40\n",
      ">0.5         30\n",
      "1            12\n",
      "Name: DLM_MIC, dtype: int64\n",
      "1         4039\n",
      "2         2988\n",
      "4         1559\n",
      "8         1421\n",
      "0.5       1140\n",
      ">8         476\n",
      "16         270\n",
      "0.25        93\n",
      "32          80\n",
      "<=0.25      44\n",
      "<=0.06      18\n",
      ">32         14\n",
      "0.12        12\n",
      "Name: EMB_MIC, dtype: int64\n",
      "1         4454\n",
      "2         2874\n",
      "0.5       1835\n",
      ">8         974\n",
      "4          972\n",
      "8          753\n",
      "<=0.25     266\n",
      "Name: ETH_MIC, dtype: int64\n",
      "0.05       3426\n",
      "<=0.025    2458\n",
      ">1.6       1647\n",
      "1.6        1426\n",
      "3.2         890\n",
      "6.4         373\n",
      "0.2         366\n",
      "0.8         349\n",
      "0.4         307\n",
      ">12.8       294\n",
      "0.1         275\n",
      "12.8        255\n",
      "Name: INH_MIC, dtype: int64\n",
      "2      5761\n",
      "<=1    3540\n",
      "4      1705\n",
      ">16     740\n",
      "8       269\n",
      "16      111\n",
      "Name: KAN_MIC, dtype: int64\n",
      "0.5       5655\n",
      "0.25      3121\n",
      "1          803\n",
      "4          709\n",
      "8          694\n",
      "<=0.12     435\n",
      "2          425\n",
      ">8         317\n",
      "Name: LEV_MIC, dtype: int64\n",
      "0.5       5943\n",
      "0.25      3316\n",
      "1         1605\n",
      "0.12       857\n",
      "0.06       182\n",
      "2           76\n",
      "<=0.03      76\n",
      "<=0.06      50\n",
      ">2          46\n",
      "4           21\n",
      ">4          13\n",
      "Name: LZD_MIC, dtype: int64\n",
      "0.25      4055\n",
      "0.5       2674\n",
      "0.12      2199\n",
      "<=0.06     965\n",
      "4          624\n",
      ">4         592\n",
      "1          573\n",
      "2          508\n",
      "Name: MXF_MIC, dtype: int64\n",
      "<=0.06    2317\n",
      ">4        2243\n",
      "0.12      2105\n",
      ">8        1771\n",
      "0.06      1326\n",
      "<=0.03     753\n",
      "0.25       723\n",
      "8          229\n",
      "0.5        188\n",
      "4          169\n",
      "2          151\n",
      "1          120\n",
      "Name: RIF_MIC, dtype: int64\n",
      "<=0.06    7208\n",
      ">2        3097\n",
      "2          515\n",
      "0.12       474\n",
      "1          355\n",
      "0.25       287\n",
      "0.5        210\n",
      "Name: RFB_MIC, dtype: int64\n"
     ]
    }
   ],
   "source": [
    "for x in ['AMI_MIC', 'BDQ_MIC','CFZ_MIC', 'DLM_MIC', 'EMB_MIC', 'ETH_MIC', 'INH_MIC', 'KAN_MIC',\n",
    "       'LEV_MIC', 'LZD_MIC', 'MXF_MIC', 'RIF_MIC', 'RFB_MIC']:\n",
    "    print(df[x].value_counts())"
   ]
  },
  {
   "cell_type": "code",
   "execution_count": 9,
   "metadata": {},
   "outputs": [
    {
     "ename": "SyntaxError",
     "evalue": "invalid syntax (327152447.py, line 8)",
     "output_type": "error",
     "traceback": [
      "\u001b[0;36m  File \u001b[0;32m\"/tmp/ipykernel_23826/327152447.py\"\u001b[0;36m, line \u001b[0;32m8\u001b[0m\n\u001b[0;31m    df1 = pd.DataFrame(list(data.items()))\u001b[0m\n\u001b[0m    ^\u001b[0m\n\u001b[0;31mSyntaxError\u001b[0m\u001b[0;31m:\u001b[0m invalid syntax\n"
     ]
    }
   ],
   "source": [
    "# Data provided by the user\n",
    "data = {\n",
    "    'AMI_MIC': {'<=0.25': 7072, '0.5': 3510, '1': 604, '>8': 393, '>16': 286, '2': 94, '16': 42, '4': 35, '8': 32},\n",
    "    'BDQ_MIC': {'0.03': 4156, '0.06': 3815, '<=0.015': 1477, '0.015': 1053, '0.12': 790, '<=0.008': 420, '0.25': 244, '0.5': 65, '1': 28, '>2': 8, '>1': 5, '2': 3},\n",
    "    'CFZ_MIC': {'<=0.06': 3986, '0.12': 2745, '0.06': 2170, '<=0.03': 1408, '0.25': 1211, '0.5': 339, '1': 126, '2': 37, '4': 9, '>4': 8, '>2': 6},\n",
    "    'DLM_MIC': {'<=0.015': 4811, '<=0.008': 2889, '0.015': 1787, '0.03': 1373, '0.06': 639\n",
    "\n",
    "df1 = pd.DataFrame(list(data.items()))\n"
   ]
  },
  {
   "cell_type": "code",
   "execution_count": 8,
   "metadata": {},
   "outputs": [
    {
     "data": {
      "text/html": [
       "<div>\n",
       "<style scoped>\n",
       "    .dataframe tbody tr th:only-of-type {\n",
       "        vertical-align: middle;\n",
       "    }\n",
       "\n",
       "    .dataframe tbody tr th {\n",
       "        vertical-align: top;\n",
       "    }\n",
       "\n",
       "    .dataframe thead th {\n",
       "        text-align: right;\n",
       "    }\n",
       "</style>\n",
       "<table border=\"1\" class=\"dataframe\">\n",
       "  <thead>\n",
       "    <tr style=\"text-align: right;\">\n",
       "      <th></th>\n",
       "      <th>Key</th>\n",
       "      <th>Value</th>\n",
       "    </tr>\n",
       "  </thead>\n",
       "  <tbody>\n",
       "    <tr>\n",
       "      <th>0</th>\n",
       "      <td>0.5</td>\n",
       "      <td>21599</td>\n",
       "    </tr>\n",
       "    <tr>\n",
       "      <th>1</th>\n",
       "      <td>&lt;=0.06</td>\n",
       "      <td>14544</td>\n",
       "    </tr>\n",
       "    <tr>\n",
       "      <th>2</th>\n",
       "      <td>2</td>\n",
       "      <td>13432</td>\n",
       "    </tr>\n",
       "    <tr>\n",
       "      <th>3</th>\n",
       "      <td>0.25</td>\n",
       "      <td>13103</td>\n",
       "    </tr>\n",
       "    <tr>\n",
       "      <th>4</th>\n",
       "      <td>1</td>\n",
       "      <td>12719</td>\n",
       "    </tr>\n",
       "    <tr>\n",
       "      <th>5</th>\n",
       "      <td>0.12</td>\n",
       "      <td>9420</td>\n",
       "    </tr>\n",
       "    <tr>\n",
       "      <th>6</th>\n",
       "      <td>0.06</td>\n",
       "      <td>8132</td>\n",
       "    </tr>\n",
       "    <tr>\n",
       "      <th>7</th>\n",
       "      <td>&lt;=0.25</td>\n",
       "      <td>7382</td>\n",
       "    </tr>\n",
       "    <tr>\n",
       "      <th>8</th>\n",
       "      <td>&lt;=0.015</td>\n",
       "      <td>6288</td>\n",
       "    </tr>\n",
       "    <tr>\n",
       "      <th>9</th>\n",
       "      <td>4</td>\n",
       "      <td>5803</td>\n",
       "    </tr>\n",
       "    <tr>\n",
       "      <th>10</th>\n",
       "      <td>0.03</td>\n",
       "      <td>5529</td>\n",
       "    </tr>\n",
       "    <tr>\n",
       "      <th>11</th>\n",
       "      <td>&gt;8</td>\n",
       "      <td>3931</td>\n",
       "    </tr>\n",
       "    <tr>\n",
       "      <th>12</th>\n",
       "      <td>&lt;=1</td>\n",
       "      <td>3540</td>\n",
       "    </tr>\n",
       "    <tr>\n",
       "      <th>13</th>\n",
       "      <td>0.05</td>\n",
       "      <td>3426</td>\n",
       "    </tr>\n",
       "    <tr>\n",
       "      <th>14</th>\n",
       "      <td>8</td>\n",
       "      <td>3398</td>\n",
       "    </tr>\n",
       "    <tr>\n",
       "      <th>15</th>\n",
       "      <td>&lt;=0.008</td>\n",
       "      <td>3309</td>\n",
       "    </tr>\n",
       "    <tr>\n",
       "      <th>16</th>\n",
       "      <td>&gt;2</td>\n",
       "      <td>3157</td>\n",
       "    </tr>\n",
       "    <tr>\n",
       "      <th>17</th>\n",
       "      <td>&gt;4</td>\n",
       "      <td>2856</td>\n",
       "    </tr>\n",
       "    <tr>\n",
       "      <th>18</th>\n",
       "      <td>0.015</td>\n",
       "      <td>2840</td>\n",
       "    </tr>\n",
       "    <tr>\n",
       "      <th>19</th>\n",
       "      <td>&lt;=0.025</td>\n",
       "      <td>2458</td>\n",
       "    </tr>\n",
       "    <tr>\n",
       "      <th>20</th>\n",
       "      <td>nan</td>\n",
       "      <td>2356</td>\n",
       "    </tr>\n",
       "    <tr>\n",
       "      <th>21</th>\n",
       "      <td>&lt;=0.03</td>\n",
       "      <td>2237</td>\n",
       "    </tr>\n",
       "    <tr>\n",
       "      <th>22</th>\n",
       "      <td>&gt;1.6</td>\n",
       "      <td>1647</td>\n",
       "    </tr>\n",
       "    <tr>\n",
       "      <th>23</th>\n",
       "      <td>1.6</td>\n",
       "      <td>1426</td>\n",
       "    </tr>\n",
       "    <tr>\n",
       "      <th>24</th>\n",
       "      <td>&gt;16</td>\n",
       "      <td>1026</td>\n",
       "    </tr>\n",
       "    <tr>\n",
       "      <th>25</th>\n",
       "      <td>3.2</td>\n",
       "      <td>890</td>\n",
       "    </tr>\n",
       "    <tr>\n",
       "      <th>26</th>\n",
       "      <td>&lt;=0.12</td>\n",
       "      <td>435</td>\n",
       "    </tr>\n",
       "    <tr>\n",
       "      <th>27</th>\n",
       "      <td>16</td>\n",
       "      <td>423</td>\n",
       "    </tr>\n",
       "    <tr>\n",
       "      <th>28</th>\n",
       "      <td>6.4</td>\n",
       "      <td>373</td>\n",
       "    </tr>\n",
       "    <tr>\n",
       "      <th>29</th>\n",
       "      <td>0.2</td>\n",
       "      <td>366</td>\n",
       "    </tr>\n",
       "    <tr>\n",
       "      <th>30</th>\n",
       "      <td>0.8</td>\n",
       "      <td>349</td>\n",
       "    </tr>\n",
       "    <tr>\n",
       "      <th>31</th>\n",
       "      <td>0.4</td>\n",
       "      <td>307</td>\n",
       "    </tr>\n",
       "    <tr>\n",
       "      <th>32</th>\n",
       "      <td>&gt;12.8</td>\n",
       "      <td>294</td>\n",
       "    </tr>\n",
       "    <tr>\n",
       "      <th>33</th>\n",
       "      <td>0.1</td>\n",
       "      <td>275</td>\n",
       "    </tr>\n",
       "    <tr>\n",
       "      <th>34</th>\n",
       "      <td>12.8</td>\n",
       "      <td>255</td>\n",
       "    </tr>\n",
       "    <tr>\n",
       "      <th>35</th>\n",
       "      <td>32</td>\n",
       "      <td>80</td>\n",
       "    </tr>\n",
       "    <tr>\n",
       "      <th>36</th>\n",
       "      <td>&gt;1</td>\n",
       "      <td>56</td>\n",
       "    </tr>\n",
       "    <tr>\n",
       "      <th>37</th>\n",
       "      <td>&gt;0.5</td>\n",
       "      <td>30</td>\n",
       "    </tr>\n",
       "    <tr>\n",
       "      <th>38</th>\n",
       "      <td>&gt;32</td>\n",
       "      <td>14</td>\n",
       "    </tr>\n",
       "  </tbody>\n",
       "</table>\n",
       "</div>"
      ],
      "text/plain": [
       "        Key  Value\n",
       "0       0.5  21599\n",
       "1    <=0.06  14544\n",
       "2         2  13432\n",
       "3      0.25  13103\n",
       "4         1  12719\n",
       "5      0.12   9420\n",
       "6      0.06   8132\n",
       "7    <=0.25   7382\n",
       "8   <=0.015   6288\n",
       "9         4   5803\n",
       "10     0.03   5529\n",
       "11       >8   3931\n",
       "12      <=1   3540\n",
       "13     0.05   3426\n",
       "14        8   3398\n",
       "15  <=0.008   3309\n",
       "16       >2   3157\n",
       "17       >4   2856\n",
       "18    0.015   2840\n",
       "19  <=0.025   2458\n",
       "20      nan   2356\n",
       "21   <=0.03   2237\n",
       "22     >1.6   1647\n",
       "23      1.6   1426\n",
       "24      >16   1026\n",
       "25      3.2    890\n",
       "26   <=0.12    435\n",
       "27       16    423\n",
       "28      6.4    373\n",
       "29      0.2    366\n",
       "30      0.8    349\n",
       "31      0.4    307\n",
       "32    >12.8    294\n",
       "33      0.1    275\n",
       "34     12.8    255\n",
       "35       32     80\n",
       "36       >1     56\n",
       "37     >0.5     30\n",
       "38      >32     14"
      ]
     },
     "execution_count": 8,
     "metadata": {},
     "output_type": "execute_result"
    }
   ],
   "source": [
    "# Data provided by the user\n",
    "data = {\n",
    "    '0.5': 21599, '<=0.06': 14544, '2': 13432, '0.25': 13103, '1': 12719, '0.12': 9420,\n",
    "    '0.06': 8132, '<=0.25': 7382, '<=0.015': 6288, '4': 5803, '0.03': 5529, '>8': 3931,\n",
    "    '<=1': 3540, '0.05': 3426, '8': 3398, '<=0.008': 3309, '>2': 3157, '>4': 2856,\n",
    "    '0.015': 2840, '<=0.025': 2458, 'nan': 2356, '<=0.03': 2237, '>1.6': 1647, '1.6': 1426,\n",
    "    '>16': 1026, '3.2': 890, '<=0.12': 435, '16': 423, '6.4': 373, '0.2': 366, '0.8': 349,\n",
    "    '0.4': 307, '>12.8': 294, '0.1': 275, '12.8': 255, '32': 80, '>1': 56, '>0.5': 30, '>32': 14\n",
    "}\n",
    "\n",
    "# Import pandas and create a DataFrame\n",
    "import pandas as pd\n",
    "\n",
    "# Convert the dictionary to a DataFrame\n",
    "df = pd.DataFrame(list(data.items()), columns=['Key', 'Value'])\n",
    "\n",
    "df  # Display the first few rows of the DataFrame\n"
   ]
  },
  {
   "cell_type": "code",
   "execution_count": 7,
   "metadata": {},
   "outputs": [
    {
     "name": "stdout",
     "output_type": "stream",
     "text": [
      "['0.015' '0.03' '0.05' '0.06' '0.1' '0.12' '0.2' '0.25' '0.4' '0.5' '0.8'\n",
      " '1' '1.6' '12.8' '16' '2' '3.2' '32' '4' '6.4' '8' '<=0.008' '<=0.015'\n",
      " '<=0.025' '<=0.03' '<=0.06' '<=0.12' '<=0.25' '<=1' '>0.5' '>1' '>1.6'\n",
      " '>12.8' '>16' '>2' '>32' '>4' '>8' 'nan']\n",
      "{'0.5': 21599, '<=0.06': 14544, '2': 13432, '0.25': 13103, '1': 12719, '0.12': 9420, '0.06': 8132, '<=0.25': 7382, '<=0.015': 6288, '4': 5803, '0.03': 5529, '>8': 3931, '<=1': 3540, '0.05': 3426, '8': 3398, '<=0.008': 3309, '>2': 3157, '>4': 2856, '0.015': 2840, '<=0.025': 2458, nan: 2356, '<=0.03': 2237, '>1.6': 1647, '1.6': 1426, '>16': 1026, '3.2': 890, '<=0.12': 435, '16': 423, '6.4': 373, '0.2': 366, '0.8': 349, '0.4': 307, '>12.8': 294, '0.1': 275, '12.8': 255, '32': 80, '>1': 56, '>0.5': 30, '>32': 14}\n"
     ]
    }
   ],
   "source": [
    "ar = df[['AMI_MIC', 'BDQ_MIC','CFZ_MIC', 'DLM_MIC', 'EMB_MIC', 'ETH_MIC', 'INH_MIC', 'KAN_MIC',\n",
    "       'LEV_MIC', 'LZD_MIC', 'MXF_MIC', 'RIF_MIC', 'RFB_MIC']].values\n",
    "\n",
    "list_2d = [element for row in ar for element in row]\n",
    "print(np.unique(list_2d))\n",
    "print(value_counts_list(list_2d))"
   ]
  },
  {
   "attachments": {},
   "cell_type": "markdown",
   "metadata": {},
   "source": [
    "['<=0.008', '<=0.015', '0.015', '<=0.025', '0.03', '<=0.03', '0.05', '0.06', '<=0.06', '0.1', '0.12', '<=0.12', '0.2', '0.25', '<=0.25', '0.4', '<=1', '>0.5', '>1', '>1.6', '0.5', '0.8', '>4', '1', '>8', '1.6', '2', '3.2', '4', '6.4', '8', '12.8', '16', '>12.8', '>16', '>32', '>2', '32']\n"
   ]
  },
  {
   "cell_type": "code",
   "execution_count": 7,
   "metadata": {},
   "outputs": [],
   "source": [
    "# # below code removes values that are the edge cases of the MIC values\n",
    "# for i, row in df.iterrows():\n",
    "#     for x in ['AMI_MIC', 'BDQ_MIC', 'CFZ_MIC', 'DLM_MIC', 'EMB_MIC', 'ETH_MIC', 'INH_MIC', 'KAN_MIC', 'LEV_MIC', 'LZD_MIC', 'MXF_MIC', 'RIF_MIC', 'RFB_MIC']:\n",
    "#         if row[x] in ['<=0.008', '<=0.015', '<=0.025', '<=0.03', '<=0.06','<=0.12','<=0.25']:\n",
    "#             df.loc[i, f'{x}'] = '<=0.25'\n",
    "#         elif row[x] in ['>8', '12.8', '>12.8', '16', '>16', '32', '>32' ]:\n",
    "#             df.loc[i, f'{x}'] = '>32'\n",
    "#         elif row[x] in ['>0.5','<=1','>1','>1.6','>2','>4']:\n",
    "#             df.loc[i, f'{x}'] = float('nan')"
   ]
  },
  {
   "cell_type": "code",
   "execution_count": 8,
   "metadata": {},
   "outputs": [],
   "source": [
    "# below code removes values that are the edge cases of the MIC values\n",
    "\n",
    "for i, row in df.iterrows():\n",
    "    x = 'AMI_MIC'\n",
    "    if row[x] == '<=0.25' :\n",
    "        df.loc[i, f'{x}'] = '0.2'\n",
    "    elif row[x] == '>16':\n",
    "        df.loc[i, f'{x}'] = '20'\n",
    "    elif row[x] == '>8':\n",
    "        df.loc[i, f'{x}'] = float('nan')\n",
    "        \n",
    "    x = 'BDQ_MIC'\n",
    "    if row[x] == '<=0.015' :\n",
    "        df.loc[i, f'{x}'] = '0.005'\n",
    "    elif row[x] == '<=0.008' :\n",
    "        df.loc[i, f'{x}'] = '0.005'\n",
    "    elif row[x] == '>1':\n",
    "        df.loc[i, f'{x}'] = '3'    \n",
    "    elif row[x] == '>2':\n",
    "        df.loc[i, f'{x}'] = '3'\n",
    "        \n",
    "    x = 'CFZ_MIC'\n",
    "    if row[x] == '<=0.06' :\n",
    "        df.loc[i, f'{x}'] = '0.02'\n",
    "    elif row[x] == '<=0.03':\n",
    "        df.loc[i, f'{x}'] = '0.02'\n",
    "    elif row[x] == '>2': #! there is middle value between two ranges\n",
    "        df.loc[i, f'{x}'] = '5'\n",
    "    elif row[x] == '>4':\n",
    "        df.loc[i, f'{x}'] = '5'\n",
    "        \n",
    "    x = 'DLM_MIC'\n",
    "    if row[x] == '<=0.015' :\n",
    "        df.loc[i, f'{x}'] = '0.005'\n",
    "    elif row[x] == '<=0.008':\n",
    "        df.loc[i, f'{x}'] = '0.005'\n",
    "    elif row[x] == '>1':\n",
    "        df.loc[i, f'{x}'] = '1.5' #! there is middle value between two ranges, should i turn these range values in the middle into nan\n",
    "    elif row[x] == '>0.5':\n",
    "        df.loc[i, f'{x}'] = '1.5'\n",
    "    \n",
    "    x = 'EMB_MIC'\n",
    "    if row[x] == '<=0.25' :\n",
    "        df.loc[i, f'{x}'] = '0.05'\n",
    "    elif row[x] == '<=0.06' :\n",
    "        df.loc[i, f'{x}'] = '0.05'\n",
    "    elif row[x] == '>8':\n",
    "        df.loc[i, f'{x}'] = '35'\n",
    "    elif row[x] == '>32':\n",
    "        df.loc[i, f'{x}'] = '35'     \n",
    "           \n",
    "    x = 'ETH_MIC'\n",
    "    if row[x] == '<=0.25' :\n",
    "        df.loc[i, f'{x}'] = '0.2'\n",
    "    elif row[x] == '>8':\n",
    "        df.loc[i, f'{x}'] = '10'\n",
    "        \n",
    "    x = 'INH_MIC'\n",
    "    if row[x] == '<=0.025' :\n",
    "        df.loc[i, f'{x}'] = '0.02'\n",
    "    elif row[x] == '>12.8':\n",
    "        df.loc[i, f'{x}'] = '13'\n",
    "    elif row[x] == '>1.6':\n",
    "        df.loc[i, f'{x}'] = float('nan')         \n",
    "        \n",
    "    x = 'KAN_MIC'\n",
    "    if row[x] == '<=1' :\n",
    "        df.loc[i, f'{x}'] = '0.5'\n",
    "    elif row[x] == '>16':\n",
    "        df.loc[i, f'{x}'] = '20'   \n",
    "\n",
    "    x = 'LEV_MIC'\n",
    "    if row[x] == '<=0.12' :\n",
    "        df.loc[i, f'{x}'] = '0.05'\n",
    "    elif row[x] == '>8':\n",
    "        df.loc[i, f'{x}'] = '10'\n",
    "\n",
    "    x = 'LZD_MIC'\n",
    "    if row[x] == '<=0.03' :\n",
    "        df.loc[i, f'{x}'] = '0.03'\n",
    "    elif row[x] == '<=0.06' :\n",
    "        df.loc[i, f'{x}'] = '0.03'\n",
    "    elif row[x] == '>2':\n",
    "        df.loc[i, f'{x}'] = float('nan')\n",
    "    elif row[x] == '>4':\n",
    "        df.loc[i, f'{x}'] = 5                                                                                     \n",
    "\n",
    "    x = 'MXF_MIC'\n",
    "    if row[x] == '<=0.06' :\n",
    "        df.loc[i, f'{x}'] = '0.03'\n",
    "    elif row[x] == '>4':\n",
    "        df.loc[i, f'{x}'] = 5    \n",
    "    \n",
    "    x = 'RIF_MIC'\n",
    "    if row[x] == '<=0.06' :\n",
    "        df.loc[i, f'{x}'] = '0.02'\n",
    "    elif row[x] == '<=0.03':\n",
    "        df.loc[i, f'{x}'] = '0.02'    \n",
    "    elif row[x] == '>8':\n",
    "        df.loc[i, f'{x}'] = '10'    \n",
    "        \n",
    "    x = 'RFB_MIC'\n",
    "    if row[x] == '<=0.06' :\n",
    "        df.loc[i, f'{x}'] = '0.03'\n",
    "    elif row[x] == '>2':\n",
    "        df.loc[i, f'{x}'] = '3'    "
   ]
  },
  {
   "cell_type": "code",
   "execution_count": 9,
   "metadata": {},
   "outputs": [
    {
     "data": {
      "text/plain": [
       "array(['0.02', '0.12', '>4', '4', '2', '0.25', '0.5', nan, '1', '10',\n",
       "       '0.06', '8'], dtype=object)"
      ]
     },
     "execution_count": 9,
     "metadata": {},
     "output_type": "execute_result"
    }
   ],
   "source": [
    "df['RIF_MIC'].unique()"
   ]
  },
  {
   "cell_type": "code",
   "execution_count": 10,
   "metadata": {},
   "outputs": [
    {
     "name": "stdout",
     "output_type": "stream",
     "text": [
      "{'0.5': 25139, '0.03': 13828, '2': 13432, '0.25': 13103, '1': 12719, '0.02': 10922, '0.005': 9597, '0.12': 9420, '0.06': 8132, '0.2': 7704, '4': 5803, '0.05': 3923, '8': 3398, '3': 3110, '10': 3062, '0.015': 2840, nan: 2356, '>4': 2243, '1.6': 1426, '20': 1026, '3.2': 890, 5: 605, '35': 490, '16': 423, '6.4': 373, '0.8': 349, '0.4': 307, '13': 294, '0.1': 275, '12.8': 255, '1.5': 81, '32': 80, '5': 14, nan: 1, nan: 1, nan: 1, nan: 1, nan: 1, nan: 1, nan: 1, nan: 1, nan: 1, nan: 1, nan: 1, nan: 1, nan: 1, nan: 1, nan: 1, nan: 1, nan: 1, nan: 1, nan: 1, nan: 1, nan: 1, nan: 1, nan: 1, nan: 1, nan: 1, nan: 1, nan: 1, nan: 1, nan: 1, nan: 1, nan: 1, nan: 1, nan: 1, nan: 1, nan: 1, nan: 1, nan: 1, nan: 1, nan: 1, nan: 1, nan: 1, nan: 1, nan: 1, nan: 1, nan: 1, nan: 1, nan: 1, nan: 1, nan: 1, nan: 1, nan: 1, nan: 1, nan: 1, nan: 1, nan: 1, nan: 1, nan: 1, nan: 1, nan: 1, nan: 1, nan: 1, nan: 1, nan: 1, nan: 1, nan: 1, nan: 1, nan: 1, nan: 1, nan: 1, nan: 1, nan: 1, nan: 1, nan: 1, nan: 1, nan: 1, nan: 1, nan: 1, nan: 1, nan: 1, nan: 1, nan: 1, nan: 1, nan: 1, nan: 1, nan: 1, nan: 1, nan: 1, nan: 1, nan: 1, nan: 1, nan: 1, nan: 1, nan: 1, nan: 1, nan: 1, nan: 1, nan: 1, nan: 1, nan: 1, nan: 1, nan: 1, nan: 1, nan: 1, nan: 1, nan: 1, nan: 1, nan: 1, nan: 1, nan: 1, nan: 1, nan: 1, nan: 1, nan: 1, nan: 1, nan: 1, nan: 1, nan: 1, nan: 1, nan: 1, nan: 1, nan: 1, nan: 1, nan: 1, nan: 1, nan: 1, nan: 1, nan: 1, nan: 1, nan: 1, nan: 1, nan: 1, nan: 1, nan: 1, nan: 1, nan: 1, nan: 1, nan: 1, nan: 1, nan: 1, nan: 1, nan: 1, nan: 1, nan: 1, nan: 1, nan: 1, nan: 1, nan: 1, nan: 1, nan: 1, nan: 1, nan: 1, nan: 1, nan: 1, nan: 1, nan: 1, nan: 1, nan: 1, nan: 1, nan: 1, nan: 1, nan: 1, nan: 1, nan: 1, nan: 1, nan: 1, nan: 1, nan: 1, nan: 1, nan: 1, nan: 1, nan: 1, nan: 1, nan: 1, nan: 1, nan: 1, nan: 1, nan: 1, nan: 1, nan: 1, nan: 1, nan: 1, nan: 1, nan: 1, nan: 1, nan: 1, nan: 1, nan: 1, nan: 1, nan: 1, nan: 1, nan: 1, nan: 1, nan: 1, nan: 1, nan: 1, nan: 1, nan: 1, nan: 1, nan: 1, nan: 1, nan: 1, nan: 1, nan: 1, nan: 1, nan: 1, nan: 1, nan: 1, nan: 1, nan: 1, nan: 1, nan: 1, nan: 1, nan: 1, nan: 1, nan: 1, nan: 1, nan: 1, nan: 1, nan: 1, nan: 1, nan: 1, nan: 1, nan: 1, nan: 1, nan: 1, nan: 1, nan: 1, nan: 1, nan: 1, nan: 1, nan: 1, nan: 1, nan: 1, nan: 1, nan: 1, nan: 1, nan: 1, nan: 1, nan: 1, nan: 1, nan: 1, nan: 1, nan: 1, nan: 1, nan: 1, nan: 1, nan: 1, nan: 1, nan: 1, nan: 1, nan: 1, nan: 1, nan: 1, nan: 1, nan: 1, nan: 1, nan: 1, nan: 1, nan: 1, nan: 1, nan: 1, nan: 1, nan: 1, nan: 1, nan: 1, nan: 1, nan: 1, nan: 1, nan: 1, nan: 1, nan: 1, nan: 1, nan: 1, nan: 1, nan: 1, nan: 1, nan: 1, nan: 1, nan: 1, nan: 1, nan: 1, nan: 1, nan: 1, nan: 1, nan: 1, nan: 1, nan: 1, nan: 1, nan: 1, nan: 1, nan: 1, nan: 1, nan: 1, nan: 1, nan: 1, nan: 1, nan: 1, nan: 1, nan: 1, nan: 1, nan: 1, nan: 1, nan: 1, nan: 1, nan: 1, nan: 1, nan: 1, nan: 1, nan: 1, nan: 1, nan: 1, nan: 1, nan: 1, nan: 1, nan: 1, nan: 1, nan: 1, nan: 1, nan: 1, nan: 1, nan: 1, nan: 1, nan: 1, nan: 1, nan: 1, nan: 1, nan: 1, nan: 1, nan: 1, nan: 1, nan: 1, nan: 1, nan: 1, nan: 1, nan: 1, nan: 1, nan: 1, nan: 1, nan: 1, nan: 1, nan: 1, nan: 1, nan: 1, nan: 1, nan: 1, nan: 1, nan: 1, nan: 1, nan: 1, nan: 1, nan: 1, nan: 1, nan: 1, nan: 1, nan: 1, nan: 1, nan: 1, nan: 1, nan: 1, nan: 1, nan: 1, nan: 1, nan: 1, nan: 1, nan: 1, nan: 1, nan: 1, nan: 1, nan: 1, nan: 1, nan: 1, nan: 1, nan: 1, nan: 1, nan: 1, nan: 1, nan: 1, nan: 1, nan: 1, nan: 1, nan: 1, nan: 1, nan: 1, nan: 1, nan: 1, nan: 1, nan: 1, nan: 1, nan: 1, nan: 1, nan: 1, nan: 1, nan: 1, nan: 1, nan: 1, nan: 1, nan: 1, nan: 1, nan: 1, nan: 1, nan: 1, nan: 1, nan: 1, nan: 1, nan: 1, nan: 1, nan: 1, nan: 1, nan: 1, nan: 1, nan: 1, nan: 1, nan: 1, nan: 1, nan: 1, nan: 1, nan: 1, nan: 1, nan: 1, nan: 1, nan: 1, nan: 1, nan: 1, nan: 1, nan: 1, nan: 1, nan: 1, nan: 1, nan: 1, nan: 1, nan: 1, nan: 1, nan: 1, nan: 1, nan: 1, nan: 1, nan: 1, nan: 1, nan: 1, nan: 1, nan: 1, nan: 1, nan: 1, nan: 1, nan: 1, nan: 1, nan: 1, nan: 1, nan: 1, nan: 1, nan: 1, nan: 1, nan: 1, nan: 1, nan: 1, nan: 1, nan: 1, nan: 1, nan: 1, nan: 1, nan: 1, nan: 1, nan: 1, nan: 1, nan: 1, nan: 1, nan: 1, nan: 1, nan: 1, nan: 1, nan: 1, nan: 1, nan: 1, nan: 1, nan: 1, nan: 1, nan: 1, nan: 1, nan: 1, nan: 1, nan: 1, nan: 1, nan: 1, nan: 1, nan: 1, nan: 1, nan: 1, nan: 1, nan: 1, nan: 1, nan: 1, nan: 1, nan: 1, nan: 1, nan: 1, nan: 1, nan: 1, nan: 1, nan: 1, nan: 1, nan: 1, nan: 1, nan: 1, nan: 1, nan: 1, nan: 1, nan: 1, nan: 1, nan: 1, nan: 1, nan: 1, nan: 1, nan: 1, nan: 1, nan: 1, nan: 1, nan: 1, nan: 1, nan: 1, nan: 1, nan: 1, nan: 1, nan: 1, nan: 1, nan: 1, nan: 1, nan: 1, nan: 1, nan: 1, nan: 1, nan: 1, nan: 1, nan: 1, nan: 1, nan: 1, nan: 1, nan: 1, nan: 1, nan: 1, nan: 1, nan: 1, nan: 1, nan: 1, nan: 1, nan: 1, nan: 1, nan: 1, nan: 1, nan: 1, nan: 1, nan: 1, nan: 1, nan: 1, nan: 1, nan: 1, nan: 1, nan: 1, nan: 1, nan: 1, nan: 1, nan: 1, nan: 1, nan: 1, nan: 1, nan: 1, nan: 1, nan: 1, nan: 1, nan: 1, nan: 1, nan: 1, nan: 1, nan: 1, nan: 1, nan: 1, nan: 1, nan: 1, nan: 1, nan: 1, nan: 1, nan: 1, nan: 1, nan: 1, nan: 1, nan: 1, nan: 1, nan: 1, nan: 1, nan: 1, nan: 1, nan: 1, nan: 1, nan: 1, nan: 1, nan: 1, nan: 1, nan: 1, nan: 1, nan: 1, nan: 1, nan: 1, nan: 1, nan: 1, nan: 1, nan: 1, nan: 1, nan: 1, nan: 1, nan: 1, nan: 1, nan: 1, nan: 1, nan: 1, nan: 1, nan: 1, nan: 1, nan: 1, nan: 1, nan: 1, nan: 1, nan: 1, nan: 1, nan: 1, nan: 1, nan: 1, nan: 1, nan: 1, nan: 1, nan: 1, nan: 1, nan: 1, nan: 1, nan: 1, nan: 1, nan: 1, nan: 1, nan: 1, nan: 1, nan: 1, nan: 1, nan: 1, nan: 1, nan: 1, nan: 1, nan: 1, nan: 1, nan: 1, nan: 1, nan: 1, nan: 1, nan: 1, nan: 1, nan: 1, nan: 1, nan: 1, nan: 1, nan: 1, nan: 1, nan: 1, nan: 1, nan: 1, nan: 1, nan: 1, nan: 1, nan: 1, nan: 1, nan: 1, nan: 1, nan: 1, nan: 1, nan: 1, nan: 1, nan: 1, nan: 1, nan: 1, nan: 1, nan: 1, nan: 1, nan: 1, nan: 1, nan: 1, nan: 1, nan: 1, nan: 1, nan: 1, nan: 1, nan: 1, nan: 1, nan: 1, nan: 1, nan: 1, nan: 1, nan: 1, nan: 1, nan: 1, nan: 1, nan: 1, nan: 1, nan: 1, nan: 1, nan: 1, nan: 1, nan: 1, nan: 1, nan: 1, nan: 1, nan: 1, nan: 1, nan: 1, nan: 1, nan: 1, nan: 1, nan: 1, nan: 1, nan: 1, nan: 1, nan: 1, nan: 1, nan: 1, nan: 1, nan: 1, nan: 1, nan: 1, nan: 1, nan: 1, nan: 1, nan: 1, nan: 1, nan: 1, nan: 1, nan: 1, nan: 1, nan: 1, nan: 1, nan: 1, nan: 1, nan: 1, nan: 1, nan: 1, nan: 1, nan: 1, nan: 1, nan: 1, nan: 1, nan: 1, nan: 1, nan: 1, nan: 1, nan: 1, nan: 1, nan: 1, nan: 1, nan: 1, nan: 1, nan: 1, nan: 1, nan: 1, nan: 1, nan: 1, nan: 1, nan: 1, nan: 1, nan: 1, nan: 1, nan: 1, nan: 1, nan: 1, nan: 1, nan: 1, nan: 1, nan: 1, nan: 1, nan: 1, nan: 1, nan: 1, nan: 1, nan: 1, nan: 1, nan: 1, nan: 1, nan: 1, nan: 1, nan: 1, nan: 1, nan: 1, nan: 1, nan: 1, nan: 1, nan: 1, nan: 1, nan: 1, nan: 1, nan: 1, nan: 1, nan: 1, nan: 1, nan: 1, nan: 1, nan: 1, nan: 1, nan: 1, nan: 1, nan: 1, nan: 1, nan: 1, nan: 1, nan: 1, nan: 1, nan: 1, nan: 1, nan: 1, nan: 1, nan: 1, nan: 1, nan: 1, nan: 1, nan: 1, nan: 1, nan: 1, nan: 1, nan: 1, nan: 1, nan: 1, nan: 1, nan: 1, nan: 1, nan: 1, nan: 1, nan: 1, nan: 1, nan: 1, nan: 1, nan: 1, nan: 1, nan: 1, nan: 1, nan: 1, nan: 1, nan: 1, nan: 1, nan: 1, nan: 1, nan: 1, nan: 1, nan: 1, nan: 1, nan: 1, nan: 1, nan: 1, nan: 1, nan: 1, nan: 1, nan: 1, nan: 1, nan: 1, nan: 1, nan: 1, nan: 1, nan: 1, nan: 1, nan: 1, nan: 1, nan: 1, nan: 1, nan: 1, nan: 1, nan: 1, nan: 1, nan: 1, nan: 1, nan: 1, nan: 1, nan: 1, nan: 1, nan: 1, nan: 1, nan: 1, nan: 1, nan: 1, nan: 1, nan: 1, nan: 1, nan: 1, nan: 1, nan: 1, nan: 1, nan: 1, nan: 1, nan: 1, nan: 1, nan: 1, nan: 1, nan: 1, nan: 1, nan: 1, nan: 1, nan: 1, nan: 1, nan: 1, nan: 1, nan: 1, nan: 1, nan: 1, nan: 1, nan: 1, nan: 1, nan: 1, nan: 1, nan: 1, nan: 1, nan: 1, nan: 1, nan: 1, nan: 1, nan: 1, nan: 1, nan: 1, nan: 1, nan: 1, nan: 1, nan: 1, nan: 1, nan: 1, nan: 1, nan: 1, nan: 1, nan: 1, nan: 1, nan: 1, nan: 1, nan: 1, nan: 1, nan: 1, nan: 1, nan: 1, nan: 1, nan: 1, nan: 1, nan: 1, nan: 1, nan: 1, nan: 1, nan: 1, nan: 1, nan: 1, nan: 1, nan: 1, nan: 1, nan: 1, nan: 1, nan: 1, nan: 1, nan: 1, nan: 1, nan: 1, nan: 1, nan: 1, nan: 1, nan: 1, nan: 1, nan: 1, nan: 1, nan: 1, nan: 1, nan: 1, nan: 1, nan: 1, nan: 1, nan: 1, nan: 1, nan: 1, nan: 1, nan: 1, nan: 1, nan: 1, nan: 1, nan: 1, nan: 1, nan: 1, nan: 1, nan: 1, nan: 1, nan: 1, nan: 1, nan: 1, nan: 1, nan: 1, nan: 1, nan: 1, nan: 1, nan: 1, nan: 1, nan: 1, nan: 1, nan: 1, nan: 1, nan: 1, nan: 1, nan: 1, nan: 1, nan: 1, nan: 1, nan: 1, nan: 1, nan: 1, nan: 1, nan: 1, nan: 1, nan: 1, nan: 1, nan: 1, nan: 1, nan: 1, nan: 1, nan: 1, nan: 1, nan: 1, nan: 1, nan: 1, nan: 1, nan: 1, nan: 1, nan: 1, nan: 1, nan: 1, nan: 1, nan: 1, nan: 1, nan: 1, nan: 1, nan: 1, nan: 1, nan: 1, nan: 1, nan: 1, nan: 1, nan: 1, nan: 1, nan: 1, nan: 1, nan: 1, nan: 1, nan: 1, nan: 1, nan: 1, nan: 1, nan: 1, nan: 1, nan: 1, nan: 1, nan: 1, nan: 1, nan: 1, nan: 1, nan: 1, nan: 1, nan: 1, nan: 1, nan: 1, nan: 1, nan: 1, nan: 1, nan: 1, nan: 1, nan: 1, nan: 1, nan: 1, nan: 1, nan: 1, nan: 1, nan: 1, nan: 1, nan: 1, nan: 1, nan: 1, nan: 1, nan: 1, nan: 1, nan: 1, nan: 1, nan: 1, nan: 1, nan: 1, nan: 1, nan: 1, nan: 1, nan: 1, nan: 1, nan: 1, nan: 1, nan: 1, nan: 1, nan: 1, nan: 1, nan: 1, nan: 1, nan: 1, nan: 1, nan: 1, nan: 1, nan: 1, nan: 1, nan: 1, nan: 1, nan: 1, nan: 1, nan: 1, nan: 1, nan: 1, nan: 1, nan: 1, nan: 1, nan: 1, nan: 1, nan: 1, nan: 1, nan: 1, nan: 1, nan: 1, nan: 1, nan: 1, nan: 1, nan: 1, nan: 1, nan: 1, nan: 1, nan: 1, nan: 1, nan: 1, nan: 1, nan: 1, nan: 1, nan: 1, nan: 1, nan: 1, nan: 1, nan: 1, nan: 1, nan: 1, nan: 1, nan: 1, nan: 1, nan: 1, nan: 1, nan: 1, nan: 1, nan: 1, nan: 1, nan: 1, nan: 1, nan: 1, nan: 1, nan: 1, nan: 1, nan: 1, nan: 1, nan: 1, nan: 1, nan: 1, nan: 1, nan: 1, nan: 1, nan: 1, nan: 1, nan: 1, nan: 1, nan: 1, nan: 1, nan: 1, nan: 1, nan: 1, nan: 1, nan: 1, nan: 1, nan: 1, nan: 1, nan: 1, nan: 1, nan: 1, nan: 1, nan: 1, nan: 1, nan: 1, nan: 1, nan: 1, nan: 1, nan: 1, nan: 1, nan: 1, nan: 1, nan: 1, nan: 1, nan: 1, nan: 1, nan: 1, nan: 1, nan: 1, nan: 1, nan: 1, nan: 1, nan: 1, nan: 1, nan: 1, nan: 1, nan: 1, nan: 1, nan: 1, nan: 1, nan: 1, nan: 1, nan: 1, nan: 1, nan: 1, nan: 1, nan: 1, nan: 1, nan: 1, nan: 1, nan: 1, nan: 1, nan: 1, nan: 1, nan: 1, nan: 1, nan: 1, nan: 1, nan: 1, nan: 1, nan: 1, nan: 1, nan: 1, nan: 1, nan: 1, nan: 1, nan: 1, nan: 1, nan: 1, nan: 1, nan: 1, nan: 1, nan: 1, nan: 1, nan: 1, nan: 1, nan: 1, nan: 1, nan: 1, nan: 1, nan: 1, nan: 1, nan: 1, nan: 1, nan: 1, nan: 1, nan: 1, nan: 1, nan: 1, nan: 1, nan: 1, nan: 1, nan: 1, nan: 1, nan: 1, nan: 1, nan: 1, nan: 1, nan: 1, nan: 1, nan: 1, nan: 1, nan: 1, nan: 1, nan: 1, nan: 1, nan: 1, nan: 1, nan: 1, nan: 1, nan: 1, nan: 1, nan: 1, nan: 1, nan: 1, nan: 1, nan: 1, nan: 1, nan: 1, nan: 1, nan: 1, nan: 1, nan: 1, nan: 1, nan: 1, nan: 1, nan: 1, nan: 1, nan: 1, nan: 1, nan: 1, nan: 1, nan: 1, nan: 1, nan: 1, nan: 1, nan: 1, nan: 1, nan: 1, nan: 1, nan: 1, nan: 1, nan: 1, nan: 1, nan: 1, nan: 1, nan: 1, nan: 1, nan: 1, nan: 1, nan: 1, nan: 1, nan: 1, nan: 1, nan: 1, nan: 1, nan: 1, nan: 1, nan: 1, nan: 1, nan: 1, nan: 1, nan: 1, nan: 1, nan: 1, nan: 1, nan: 1, nan: 1, nan: 1, nan: 1, nan: 1, nan: 1, nan: 1, nan: 1, nan: 1, nan: 1, nan: 1, nan: 1, nan: 1, nan: 1, nan: 1, nan: 1, nan: 1, nan: 1, nan: 1, nan: 1, nan: 1, nan: 1, nan: 1, nan: 1, nan: 1, nan: 1, nan: 1, nan: 1, nan: 1, nan: 1, nan: 1, nan: 1, nan: 1, nan: 1, nan: 1, nan: 1, nan: 1, nan: 1, nan: 1, nan: 1, nan: 1, nan: 1, nan: 1, nan: 1, nan: 1, nan: 1, nan: 1, nan: 1, nan: 1, nan: 1, nan: 1, nan: 1, nan: 1, nan: 1, nan: 1, nan: 1, nan: 1, nan: 1, nan: 1, nan: 1, nan: 1, nan: 1, nan: 1, nan: 1, nan: 1, nan: 1, nan: 1, nan: 1, nan: 1, nan: 1, nan: 1, nan: 1, nan: 1, nan: 1, nan: 1, nan: 1, nan: 1, nan: 1, nan: 1, nan: 1, nan: 1, nan: 1, nan: 1, nan: 1, nan: 1, nan: 1, nan: 1, nan: 1, nan: 1, nan: 1, nan: 1, nan: 1, nan: 1, nan: 1, nan: 1, nan: 1, nan: 1, nan: 1, nan: 1, nan: 1, nan: 1, nan: 1, nan: 1, nan: 1, nan: 1, nan: 1, nan: 1, nan: 1, nan: 1, nan: 1, nan: 1, nan: 1, nan: 1, nan: 1, nan: 1, nan: 1, nan: 1, nan: 1, nan: 1, nan: 1, nan: 1, nan: 1, nan: 1, nan: 1, nan: 1, nan: 1, nan: 1, nan: 1, nan: 1, nan: 1, nan: 1, nan: 1, nan: 1, nan: 1, nan: 1, nan: 1, nan: 1, nan: 1, nan: 1, nan: 1, nan: 1, nan: 1, nan: 1, nan: 1, nan: 1, nan: 1, nan: 1, nan: 1, nan: 1, nan: 1, nan: 1, nan: 1, nan: 1, nan: 1, nan: 1, nan: 1, nan: 1, nan: 1, nan: 1, nan: 1, nan: 1, nan: 1, nan: 1, nan: 1, nan: 1, nan: 1, nan: 1, nan: 1, nan: 1, nan: 1, nan: 1, nan: 1, nan: 1, nan: 1, nan: 1, nan: 1, nan: 1, nan: 1, nan: 1, nan: 1, nan: 1, nan: 1, nan: 1, nan: 1, nan: 1, nan: 1, nan: 1, nan: 1, nan: 1, nan: 1, nan: 1, nan: 1, nan: 1, nan: 1, nan: 1, nan: 1, nan: 1, nan: 1, nan: 1, nan: 1, nan: 1, nan: 1, nan: 1, nan: 1, nan: 1, nan: 1, nan: 1, nan: 1, nan: 1, nan: 1, nan: 1, nan: 1, nan: 1, nan: 1, nan: 1, nan: 1, nan: 1, nan: 1, nan: 1, nan: 1, nan: 1, nan: 1, nan: 1, nan: 1, nan: 1, nan: 1, nan: 1, nan: 1, nan: 1, nan: 1, nan: 1, nan: 1, nan: 1, nan: 1, nan: 1, nan: 1, nan: 1, nan: 1, nan: 1, nan: 1, nan: 1, nan: 1, nan: 1, nan: 1, nan: 1, nan: 1, nan: 1, nan: 1, nan: 1, nan: 1, nan: 1, nan: 1, nan: 1, nan: 1, nan: 1, nan: 1, nan: 1, nan: 1, nan: 1, nan: 1, nan: 1, nan: 1, nan: 1, nan: 1, nan: 1, nan: 1, nan: 1, nan: 1, nan: 1, nan: 1, nan: 1, nan: 1, nan: 1, nan: 1, nan: 1, nan: 1, nan: 1, nan: 1, nan: 1, nan: 1, nan: 1, nan: 1, nan: 1, nan: 1, nan: 1, nan: 1, nan: 1, nan: 1, nan: 1, nan: 1, nan: 1, nan: 1, nan: 1, nan: 1, nan: 1, nan: 1, nan: 1, nan: 1, nan: 1, nan: 1, nan: 1, nan: 1, nan: 1, nan: 1, nan: 1, nan: 1, nan: 1, nan: 1, nan: 1, nan: 1, nan: 1, nan: 1, nan: 1, nan: 1, nan: 1, nan: 1, nan: 1, nan: 1, nan: 1, nan: 1, nan: 1, nan: 1, nan: 1, nan: 1, nan: 1, nan: 1, nan: 1, nan: 1, nan: 1, nan: 1, nan: 1, nan: 1, nan: 1, nan: 1, nan: 1, nan: 1, nan: 1, nan: 1, nan: 1, nan: 1, nan: 1, nan: 1, nan: 1, nan: 1, nan: 1, nan: 1, nan: 1, nan: 1, nan: 1, nan: 1, nan: 1, nan: 1, nan: 1, nan: 1, nan: 1, nan: 1, nan: 1, nan: 1, nan: 1, nan: 1, nan: 1, nan: 1, nan: 1, nan: 1, nan: 1, nan: 1, nan: 1, nan: 1, nan: 1, nan: 1, nan: 1, nan: 1, nan: 1, nan: 1, nan: 1, nan: 1, nan: 1, nan: 1, nan: 1, nan: 1, nan: 1, nan: 1, nan: 1, nan: 1, nan: 1, nan: 1, nan: 1, nan: 1, nan: 1, nan: 1, nan: 1, nan: 1, nan: 1, nan: 1, nan: 1, nan: 1, nan: 1, nan: 1, nan: 1, nan: 1, nan: 1, nan: 1, nan: 1, nan: 1, nan: 1, nan: 1, nan: 1, nan: 1, nan: 1, nan: 1, nan: 1, nan: 1, nan: 1, nan: 1, nan: 1, nan: 1, nan: 1, nan: 1, nan: 1, nan: 1, nan: 1, nan: 1, nan: 1, nan: 1, nan: 1, nan: 1, nan: 1, nan: 1, nan: 1, nan: 1, nan: 1, nan: 1, nan: 1, nan: 1, nan: 1, nan: 1, nan: 1, nan: 1, nan: 1, nan: 1, nan: 1, nan: 1, nan: 1, nan: 1, nan: 1, nan: 1, nan: 1, nan: 1, nan: 1, nan: 1, nan: 1, nan: 1, nan: 1, nan: 1, nan: 1, nan: 1, nan: 1, nan: 1, nan: 1, nan: 1, nan: 1, nan: 1, nan: 1, nan: 1, nan: 1, nan: 1, nan: 1, nan: 1, nan: 1, nan: 1, nan: 1, nan: 1, nan: 1, nan: 1, nan: 1, nan: 1, nan: 1, nan: 1, nan: 1, nan: 1, nan: 1, nan: 1, nan: 1, nan: 1, nan: 1, nan: 1, nan: 1, nan: 1, nan: 1, nan: 1, nan: 1, nan: 1, nan: 1, nan: 1, nan: 1, nan: 1, nan: 1, nan: 1, nan: 1, nan: 1, nan: 1, nan: 1, nan: 1, nan: 1, nan: 1, nan: 1, nan: 1, nan: 1, nan: 1, nan: 1, nan: 1, nan: 1, nan: 1, nan: 1, nan: 1, nan: 1, nan: 1, nan: 1, nan: 1, nan: 1, nan: 1, nan: 1, nan: 1, nan: 1, nan: 1, nan: 1, nan: 1, nan: 1, nan: 1, nan: 1, nan: 1, nan: 1, nan: 1, nan: 1, nan: 1, nan: 1, nan: 1, nan: 1, nan: 1, nan: 1, nan: 1, nan: 1, nan: 1, nan: 1, nan: 1, nan: 1, nan: 1, nan: 1, nan: 1, nan: 1, nan: 1, nan: 1, nan: 1, nan: 1, nan: 1, nan: 1, nan: 1, nan: 1, nan: 1, nan: 1, nan: 1, nan: 1, nan: 1, nan: 1, nan: 1, nan: 1, nan: 1, nan: 1, nan: 1, nan: 1, nan: 1, nan: 1, nan: 1, nan: 1, nan: 1, nan: 1, nan: 1, nan: 1, nan: 1, nan: 1, nan: 1, nan: 1, nan: 1, nan: 1, nan: 1, nan: 1, nan: 1, nan: 1, nan: 1, nan: 1, nan: 1, nan: 1, nan: 1, nan: 1, nan: 1, nan: 1, nan: 1, nan: 1, nan: 1, nan: 1, nan: 1, nan: 1, nan: 1, nan: 1, nan: 1, nan: 1, nan: 1, nan: 1, nan: 1, nan: 1, nan: 1, nan: 1, nan: 1, nan: 1, nan: 1, nan: 1, nan: 1, nan: 1, nan: 1, nan: 1, nan: 1, nan: 1, nan: 1, nan: 1, nan: 1, nan: 1, nan: 1, nan: 1, nan: 1, nan: 1, nan: 1, nan: 1, nan: 1, nan: 1, nan: 1, nan: 1, nan: 1, nan: 1, nan: 1, nan: 1, nan: 1, nan: 1, nan: 1, nan: 1, nan: 1, nan: 1, nan: 1, nan: 1, nan: 1, nan: 1, nan: 1, nan: 1, nan: 1, nan: 1, nan: 1, nan: 1, nan: 1, nan: 1, nan: 1, nan: 1, nan: 1, nan: 1, nan: 1, nan: 1, nan: 1, nan: 1, nan: 1, nan: 1, nan: 1, nan: 1, nan: 1, nan: 1, nan: 1, nan: 1, nan: 1, nan: 1, nan: 1, nan: 1, nan: 1, nan: 1, nan: 1, nan: 1, nan: 1, nan: 1, nan: 1, nan: 1, nan: 1, nan: 1, nan: 1, nan: 1, nan: 1, nan: 1, nan: 1, nan: 1, nan: 1, nan: 1, nan: 1, nan: 1, nan: 1, nan: 1, nan: 1, nan: 1, nan: 1, nan: 1, nan: 1, nan: 1, nan: 1, nan: 1, nan: 1, nan: 1, nan: 1, nan: 1, nan: 1, nan: 1, nan: 1, nan: 1, nan: 1, nan: 1, nan: 1, nan: 1, nan: 1, nan: 1, nan: 1, nan: 1, nan: 1, nan: 1, nan: 1, nan: 1, nan: 1, nan: 1, nan: 1, nan: 1, nan: 1, nan: 1, nan: 1, nan: 1, nan: 1, nan: 1, nan: 1, nan: 1, nan: 1, nan: 1, nan: 1, nan: 1, nan: 1, nan: 1, nan: 1, nan: 1, nan: 1, nan: 1, nan: 1, nan: 1}\n"
     ]
    }
   ],
   "source": [
    "ar = df[['AMI_MIC', 'BDQ_MIC','CFZ_MIC', 'DLM_MIC', 'EMB_MIC', 'ETH_MIC', 'INH_MIC', 'KAN_MIC', 'LEV_MIC', 'LZD_MIC', 'MXF_MIC', 'RIF_MIC', 'RFB_MIC']].values\n",
    "\n",
    "list_2d = [element for row in ar for element in row]\n",
    "print(value_counts_list(list_2d))"
   ]
  },
  {
   "cell_type": "code",
   "execution_count": 11,
   "metadata": {},
   "outputs": [],
   "source": [
    "drug_names = {\n",
    "    'AMI': 'Amikacin',\n",
    "    'BDQ': 'Bedaquiline',\n",
    "    'CFZ': 'Clofazimine',\n",
    "    'EMB': 'Ethambutol',\n",
    "    'ETH': 'Ethionamide',\n",
    "    'INH': 'Isoniazid', # the critical concentration would be 0.0312 mg/liter for low-level resistance and 0.125 mg/liter for high-level resistance\n",
    "    'KAN': 'Kanamycin',\n",
    "    'LEV': 'Levofloxacin',\n",
    "    'LZD': 'Linezolid',\n",
    "    'MXF': 'Moxifloxacin',\n",
    "    'RIF': 'Rifampicin',\n",
    "    'RFB': 'Rifabutin'\n",
    "}"
   ]
  },
  {
   "cell_type": "code",
   "execution_count": 12,
   "metadata": {},
   "outputs": [],
   "source": [
    "# below code removes all MIC values with low quality\n",
    "for i, row in df.iterrows():\n",
    "    for x in ['AMI', 'BDQ', 'CFZ', 'EMB', 'ETH', 'INH', 'KAN', 'LEV', 'LZD', 'MXF', 'RIF', 'RFB']:\n",
    "        if row[f'{x}_PHENOTYPE_QUALITY'] == 'LOW':\n",
    "            df.loc[i, f'{x}_MIC'] = float('nan')\n",
    "            # print(df.loc[i, f'{x}_MIC'])"
   ]
  },
  {
   "attachments": {},
   "cell_type": "markdown",
   "metadata": {},
   "source": [
    "### res data output"
   ]
  },
  {
   "cell_type": "code",
   "execution_count": 13,
   "metadata": {},
   "outputs": [
    {
     "name": "stdout",
     "output_type": "stream",
     "text": [
      "AMI_MIC\n",
      "['0.2' '0.5' '1' nan '4' '2' '8' '20' '16']\n",
      "BDQ_MIC\n",
      "[nan '0.06' '0.03' '0.25' '0.005' '0.5' '0.12' '3' '0.015' '2' '1']\n",
      "CFZ_MIC\n",
      "['0.02' '0.12' nan '0.25' '0.5' '1' '2' '5' '0.06']\n",
      "EMB_MIC\n",
      "['1' '2' nan '0.5' '4' '35' '8' '0.25' '0.05' '16' '0.12' '32']\n",
      "ETH_MIC\n",
      "['2' '1' '4' '10' nan '0.5' '8' '0.2']\n",
      "INH_MIC\n",
      "['0.05' '0.02' '0.2' '0.1' nan '1.6' '0.8' '0.4' '3.2' '12.8' '13' '6.4']\n",
      "KAN_MIC\n",
      "['2' '0.5' nan '20' '4' '8' '16']\n",
      "LEV_MIC\n",
      "['0.25' '1' '0.5' '0.05' nan '2' '8' '10' '4']\n",
      "LZD_MIC\n",
      "['0.25' '0.5' nan '1' '0.12' '0.03' '2' '0.06' '4' 5]\n",
      "MXF_MIC\n",
      "['0.25' nan '0.5' '0.12' '2' '4' '1' 5 '0.03']\n",
      "RIF_MIC\n",
      "['0.02' '0.12' '>4' nan '4' '2' '0.25' '0.5' '1' '10' '0.06' '8']\n",
      "RFB_MIC\n",
      "['0.03' '3' '0.12' '0.5' '2' '0.25' '1' nan]\n"
     ]
    }
   ],
   "source": [
    "# check if the range values are removed\n",
    "for x in ['AMI', 'BDQ', 'CFZ', 'EMB', 'ETH', 'INH', 'KAN', 'LEV', 'LZD', 'MXF', 'RIF', 'RFB']:\n",
    "    print(f'{x}_MIC')\n",
    "    print(df[f'{x}_MIC'].unique())"
   ]
  },
  {
   "cell_type": "code",
   "execution_count": 14,
   "metadata": {},
   "outputs": [
    {
     "data": {
      "text/plain": [
       "array(['0.005', '0.015', '0.02', '0.03', '0.05', '0.06', '0.1', '0.12',\n",
       "       '0.2', '0.25', '0.4', '0.5', '0.8', '1', '1.5', '1.6', '10',\n",
       "       '12.8', '13', '16', '2', '20', '3', '3.2', '32', '35', '4', '5',\n",
       "       '6.4', '8', '>4', 'nan'], dtype='<U32')"
      ]
     },
     "execution_count": 14,
     "metadata": {},
     "output_type": "execute_result"
    }
   ],
   "source": [
    "np.unique(df.iloc[:,14:27].values.tolist())"
   ]
  },
  {
   "cell_type": "code",
   "execution_count": 15,
   "metadata": {},
   "outputs": [],
   "source": [
    "df.sort_values(by=['wgs_id'], inplace=True)\n",
    "df.to_csv('CRyPTIC_reuse_table_20221019_cleaned.csv', index=False)"
   ]
  },
  {
   "cell_type": "code",
   "execution_count": null,
   "metadata": {},
   "outputs": [],
   "source": [
    "df"
   ]
  },
  {
   "cell_type": "code",
   "execution_count": null,
   "metadata": {},
   "outputs": [],
   "source": [
    "mic = df.iloc[:,14:27].astype('float')"
   ]
  },
  {
   "cell_type": "code",
   "execution_count": 18,
   "metadata": {},
   "outputs": [
    {
     "ename": "NameError",
     "evalue": "name 'mic' is not defined",
     "output_type": "error",
     "traceback": [
      "\u001b[0;31m---------------------------------------------------------------------------\u001b[0m",
      "\u001b[0;31mNameError\u001b[0m                                 Traceback (most recent call last)",
      "\u001b[0;32m/tmp/ipykernel_122568/1282668340.py\u001b[0m in \u001b[0;36m<module>\u001b[0;34m\u001b[0m\n\u001b[0;32m----> 1\u001b[0;31m \u001b[0mmic\u001b[0m\u001b[0;34m.\u001b[0m\u001b[0miloc\u001b[0m\u001b[0;34m[\u001b[0m\u001b[0;34m:\u001b[0m\u001b[0mint\u001b[0m\u001b[0;34m(\u001b[0m\u001b[0mmic\u001b[0m\u001b[0;34m.\u001b[0m\u001b[0mshape\u001b[0m\u001b[0;34m[\u001b[0m\u001b[0;36m0\u001b[0m\u001b[0;34m]\u001b[0m\u001b[0;34m*\u001b[0m\u001b[0;36m0.9\u001b[0m\u001b[0;34m)\u001b[0m\u001b[0;34m,\u001b[0m\u001b[0;34m:\u001b[0m\u001b[0;34m]\u001b[0m\u001b[0;34m.\u001b[0m\u001b[0mto_csv\u001b[0m\u001b[0;34m(\u001b[0m\u001b[0;34m'res_train.csv'\u001b[0m\u001b[0;34m,\u001b[0m \u001b[0mindex\u001b[0m\u001b[0;34m=\u001b[0m\u001b[0;32mFalse\u001b[0m\u001b[0;34m)\u001b[0m\u001b[0;34m\u001b[0m\u001b[0;34m\u001b[0m\u001b[0m\n\u001b[0m\u001b[1;32m      2\u001b[0m \u001b[0mmic\u001b[0m\u001b[0;34m.\u001b[0m\u001b[0miloc\u001b[0m\u001b[0;34m[\u001b[0m\u001b[0mint\u001b[0m\u001b[0;34m(\u001b[0m\u001b[0mmic\u001b[0m\u001b[0;34m.\u001b[0m\u001b[0mshape\u001b[0m\u001b[0;34m[\u001b[0m\u001b[0;36m0\u001b[0m\u001b[0;34m]\u001b[0m\u001b[0;34m*\u001b[0m\u001b[0;36m0.9\u001b[0m\u001b[0;34m)\u001b[0m\u001b[0;34m:\u001b[0m\u001b[0;34m,\u001b[0m\u001b[0;34m:\u001b[0m\u001b[0;34m]\u001b[0m\u001b[0;34m.\u001b[0m\u001b[0mto_csv\u001b[0m\u001b[0;34m(\u001b[0m\u001b[0;34m'res_test.csv'\u001b[0m\u001b[0;34m,\u001b[0m \u001b[0mindex\u001b[0m\u001b[0;34m=\u001b[0m\u001b[0;32mFalse\u001b[0m\u001b[0;34m)\u001b[0m\u001b[0;34m\u001b[0m\u001b[0;34m\u001b[0m\u001b[0m\n",
      "\u001b[0;31mNameError\u001b[0m: name 'mic' is not defined"
     ]
    }
   ],
   "source": [
    "mic.iloc[:int(mic.shape[0]*0.9),:].to_csv('res_train.csv', index=False)\n",
    "mic.iloc[int(mic.shape[0]*0.9):,:].to_csv('res_test.csv', index=False)"
   ]
  },
  {
   "cell_type": "code",
   "execution_count": 147,
   "metadata": {},
   "outputs": [
    {
     "data": {
      "image/png": "[encoded data removed]",
      "text/plain": [
       "<Figure size 432x288 with 1 Axes>"
      ]
     },
     "metadata": {
      "needs_background": "light"
     },
     "output_type": "display_data"
    }
   ],
   "source": [
    "import plotly.graph_objects as go\n",
    "from collections import Counter\n",
    "\n",
    "unique_strings, counts = np.unique(ar_list, return_counts=True)\n",
    "plt.bar(unique_strings, counts)\n",
    "plt.xlabel(\"Strings\")\n",
    "plt.ylabel(\"Count\")\n",
    "plt.title(\"Count of Strings\")\n",
    "plt.xticks(rotation=90)  # Rotate x-axis labels by 90 degrees\n",
    "plt.tight_layout()\n",
    "plt.show()"
   ]
  },
  {
   "cell_type": "code",
   "execution_count": 13,
   "metadata": {},
   "outputs": [
    {
     "ename": "TypeError",
     "evalue": "'<' not supported between instances of 'float' and 'str'",
     "output_type": "error",
     "traceback": [
      "\u001b[0;31m---------------------------------------------------------------------------\u001b[0m",
      "\u001b[0;31mTypeError\u001b[0m                                 Traceback (most recent call last)",
      "\u001b[0;32m/tmp/ipykernel_28813/3768355116.py\u001b[0m in \u001b[0;36m<module>\u001b[0;34m\u001b[0m\n\u001b[0;32m----> 1\u001b[0;31m np.unique(df[['CFZ_MIC', 'DLM_MIC', 'EMB_MIC', 'ETH_MIC', 'INH_MIC', 'KAN_MIC',\n\u001b[0m\u001b[1;32m      2\u001b[0m        'LEV_MIC', 'LZD_MIC', 'MXF_MIC', 'RIF_MIC', 'RFB_MIC']].values)\n",
      "\u001b[0;32m<__array_function__ internals>\u001b[0m in \u001b[0;36munique\u001b[0;34m(*args, **kwargs)\u001b[0m\n",
      "\u001b[0;32m/mnt/storageG1/lwang/miniconda3/envs/ml-g1/lib/python3.9/site-packages/numpy/lib/arraysetops.py\u001b[0m in \u001b[0;36munique\u001b[0;34m(ar, return_index, return_inverse, return_counts, axis)\u001b[0m\n\u001b[1;32m    270\u001b[0m     \u001b[0mar\u001b[0m \u001b[0;34m=\u001b[0m \u001b[0mnp\u001b[0m\u001b[0;34m.\u001b[0m\u001b[0masanyarray\u001b[0m\u001b[0;34m(\u001b[0m\u001b[0mar\u001b[0m\u001b[0;34m)\u001b[0m\u001b[0;34m\u001b[0m\u001b[0;34m\u001b[0m\u001b[0m\n\u001b[1;32m    271\u001b[0m     \u001b[0;32mif\u001b[0m \u001b[0maxis\u001b[0m \u001b[0;32mis\u001b[0m \u001b[0;32mNone\u001b[0m\u001b[0;34m:\u001b[0m\u001b[0;34m\u001b[0m\u001b[0;34m\u001b[0m\u001b[0m\n\u001b[0;32m--> 272\u001b[0;31m         \u001b[0mret\u001b[0m \u001b[0;34m=\u001b[0m \u001b[0m_unique1d\u001b[0m\u001b[0;34m(\u001b[0m\u001b[0mar\u001b[0m\u001b[0;34m,\u001b[0m \u001b[0mreturn_index\u001b[0m\u001b[0;34m,\u001b[0m \u001b[0mreturn_inverse\u001b[0m\u001b[0;34m,\u001b[0m \u001b[0mreturn_counts\u001b[0m\u001b[0;34m)\u001b[0m\u001b[0;34m\u001b[0m\u001b[0;34m\u001b[0m\u001b[0m\n\u001b[0m\u001b[1;32m    273\u001b[0m         \u001b[0;32mreturn\u001b[0m \u001b[0m_unpack_tuple\u001b[0m\u001b[0;34m(\u001b[0m\u001b[0mret\u001b[0m\u001b[0;34m)\u001b[0m\u001b[0;34m\u001b[0m\u001b[0;34m\u001b[0m\u001b[0m\n\u001b[1;32m    274\u001b[0m \u001b[0;34m\u001b[0m\u001b[0m\n",
      "\u001b[0;32m/mnt/storageG1/lwang/miniconda3/envs/ml-g1/lib/python3.9/site-packages/numpy/lib/arraysetops.py\u001b[0m in \u001b[0;36m_unique1d\u001b[0;34m(ar, return_index, return_inverse, return_counts)\u001b[0m\n\u001b[1;32m    331\u001b[0m         \u001b[0maux\u001b[0m \u001b[0;34m=\u001b[0m \u001b[0mar\u001b[0m\u001b[0;34m[\u001b[0m\u001b[0mperm\u001b[0m\u001b[0;34m]\u001b[0m\u001b[0;34m\u001b[0m\u001b[0;34m\u001b[0m\u001b[0m\n\u001b[1;32m    332\u001b[0m     \u001b[0;32melse\u001b[0m\u001b[0;34m:\u001b[0m\u001b[0;34m\u001b[0m\u001b[0;34m\u001b[0m\u001b[0m\n\u001b[0;32m--> 333\u001b[0;31m         \u001b[0mar\u001b[0m\u001b[0;34m.\u001b[0m\u001b[0msort\u001b[0m\u001b[0;34m(\u001b[0m\u001b[0;34m)\u001b[0m\u001b[0;34m\u001b[0m\u001b[0;34m\u001b[0m\u001b[0m\n\u001b[0m\u001b[1;32m    334\u001b[0m         \u001b[0maux\u001b[0m \u001b[0;34m=\u001b[0m \u001b[0mar\u001b[0m\u001b[0;34m\u001b[0m\u001b[0;34m\u001b[0m\u001b[0m\n\u001b[1;32m    335\u001b[0m     \u001b[0mmask\u001b[0m \u001b[0;34m=\u001b[0m \u001b[0mnp\u001b[0m\u001b[0;34m.\u001b[0m\u001b[0mempty\u001b[0m\u001b[0;34m(\u001b[0m\u001b[0maux\u001b[0m\u001b[0;34m.\u001b[0m\u001b[0mshape\u001b[0m\u001b[0;34m,\u001b[0m \u001b[0mdtype\u001b[0m\u001b[0;34m=\u001b[0m\u001b[0mnp\u001b[0m\u001b[0;34m.\u001b[0m\u001b[0mbool_\u001b[0m\u001b[0;34m)\u001b[0m\u001b[0;34m\u001b[0m\u001b[0;34m\u001b[0m\u001b[0m\n",
      "\u001b[0;31mTypeError\u001b[0m: '<' not supported between instances of 'float' and 'str'"
     ]
    }
   ],
   "source": [
    "np.unique(df[['CFZ_MIC', 'DLM_MIC', 'EMB_MIC', 'ETH_MIC', 'INH_MIC', 'KAN_MIC',\n",
    "       'LEV_MIC', 'LZD_MIC', 'MXF_MIC', 'RIF_MIC', 'RFB_MIC']].values)"
   ]
  },
  {
   "cell_type": "code",
   "execution_count": 24,
   "metadata": {},
   "outputs": [],
   "source": [
    "# File path to save the output\n",
    "file_path = \"sample_list.txt\"\n",
    "\n",
    "# Open the file in write mode\n",
    "with open(file_path, 'w') as file:\n",
    "    # Write each string from the list to a new line in the file\n",
    "    for string in df['wgs_id'].tolist():\n",
    "        file.write(string + '\\n')\n"
   ]
  },
  {
   "cell_type": "code",
   "execution_count": 21,
   "metadata": {},
   "outputs": [
    {
     "data": {
      "text/plain": [
       "0        ERR4810489\n",
       "1        ERR4810491\n",
       "2        ERR4810493\n",
       "3        ERR4810494\n",
       "4        ERR4810495\n",
       "            ...    \n",
       "12280    ERR8699231\n",
       "12281    ERR8699764\n",
       "12282    ERR8699789\n",
       "12283    ERR8699232\n",
       "12284    ERR8699267\n",
       "Name: wgs_id, Length: 12285, dtype: object"
      ]
     },
     "execution_count": 21,
     "metadata": {},
     "output_type": "execute_result"
    }
   ],
   "source": [
    "df['wgs_id']"
   ]
  },
  {
   "cell_type": "code",
   "execution_count": null,
   "metadata": {},
   "outputs": [],
   "source": [
    "for x in tqdm(df['wgs_id']):\n",
    "    print(x)\n",
    "    # break"
   ]
  },
  {
   "cell_type": "code",
   "execution_count": null,
   "metadata": {},
   "outputs": [],
   "source": [
    "import subprocess\n",
    "for x in df['wgs_id']:\n",
    "    fasta_file = \"/mnt/storageG1/lwang/Projects/tb_dr_MIC/MTB-h37rv_asm19595v2-eg18.fa\"\n",
    "    vcf_file = f\"/mnt/storage7/jody/tb_ena/per_sample/{x}.freebayes.vcf.gz\"\n",
    "    output_file = f\"/mnt/storageG1/lwang/Projects/tb_dr_MIC/fasta/{x}.fa\"\n",
    "    command = [\"bcftools\", \"consensus\", \"-f\", fasta_file, vcf_file, \"-o\", output_file]\n",
    "    # Run the command using subprocess\n",
    "    subprocess.run(command)\n",
    "    \n",
    "    #Run the command using subprocess\n",
    "    # subprocess.run(\n",
    "    #     f\"bcftools consensus -f\", fasta_file, vcf_file, \"-o\", output_file,\n",
    "    #     shell=False,\n",
    "    # )"
   ]
  },
  {
   "attachments": {},
   "cell_type": "markdown",
   "metadata": {},
   "source": [
    "# Generating Sequence data"
   ]
  },
  {
   "cell_type": "code",
   "execution_count": 66,
   "metadata": {},
   "outputs": [],
   "source": [
    "from Bio import SeqIO\n",
    "import csv\n",
    "from Bio.SeqUtils import six_frame_translations\n",
    "\n",
    "df_seq = pd.DataFrame(columns=['wgs_id','acpM-kasA', 'ethAR', 'aftB-ubiA', 'tlyA', 'embCAB', 'gid', 'panD',\n",
    "       'rpoBC', 'rpsA', 'katG', 'rpsL', 'pncA', 'clpC', 'gyrBA',\n",
    "       'oxyR-ahpC', 'eis', 'rrs-rrl', 'fabG1-inhA'])\n",
    "\n",
    "for x in df['wgs_id']:\n",
    "    fasta_file = '/mnt/storageG1/lwang/Projects/tb_dr_MIC/fasta/ERR2184202.fa'\n",
    "    bed_file = '/mnt/storageG1/lwang/Projects/tb_dr_MIC/gene_ordered.csv'\n",
    "    output_file = 'output.csv'\n",
    "\n",
    "    sequences = [x]\n",
    "    df_gene = pd.read_csv('gene_ordered.csv')\n",
    "    for i, row in df_gene.iterrows():\n",
    "        # print(row)\n",
    "        locus, start, end = row[0], int(row[1]), int(row[2])\n",
    "        \n",
    "        # Extract the sequence based on the range\n",
    "        with open(fasta_file, 'r') as fasta:\n",
    "            record_dict = SeqIO.to_dict(SeqIO.parse(fasta, 'fasta'))\n",
    "            sequence = record_dict['Chromosome'].seq[start:end]\n",
    "            sequences.append(str(sequence))\n",
    "            \n",
    "    df_seq.loc[df_seq.shape[0]] = sequences"
   ]
  },
  {
   "cell_type": "code",
   "execution_count": 105,
   "metadata": {},
   "outputs": [],
   "source": [
    "df_seq.sort_values(by=['wgs_id'], inplace=True)"
   ]
  },
  {
   "cell_type": "code",
   "execution_count": 106,
   "metadata": {},
   "outputs": [],
   "source": [
    "df_seq.to_csv('gene_seq.csv', index=False)"
   ]
  },
  {
   "cell_type": "code",
   "execution_count": 68,
   "metadata": {},
   "outputs": [],
   "source": [
    "df_seq = pd.read_csv('gene_seq.csv')"
   ]
  },
  {
   "attachments": {},
   "cell_type": "markdown",
   "metadata": {},
   "source": [
    "### seq data output"
   ]
  },
  {
   "cell_type": "code",
   "execution_count": 107,
   "metadata": {},
   "outputs": [],
   "source": [
    "df_seq.iloc[:int(df_seq.shape[0]*0.9),:].to_csv('gene_seq_train.csv', index=False)\n",
    "df_seq.iloc[int(df_seq.shape[0]*0.9):,:].to_csv('gene_seq_test.csv', index=False)"
   ]
  }
 ],
 "metadata": {
  "kernelspec": {
   "display_name": "ml-air",
   "language": "python",
   "name": "python3"
  },
  "language_info": {
   "codemirror_mode": {
    "name": "ipython",
    "version": 3
   },
   "file_extension": ".py",
   "mimetype": "text/x-python",
   "name": "python",
   "nbconvert_exporter": "python",
   "pygments_lexer": "ipython3",
   "version": "3.9.6"
  },
  "orig_nbformat": 4
 },
 "nbformat": 4,
 "nbformat_minor": 2
}
