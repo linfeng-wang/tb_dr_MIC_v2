{
 "cells": [
  {
   "cell_type": "code",
   "execution_count": 2,
   "metadata": {},
   "outputs": [],
   "source": [
    "import numpy as np\n",
    "import pandas as pd\n",
    "from sklearn.model_selection import train_test_split\n",
    "from sklearn.linear_model import LogisticRegression, LinearRegression\n",
    "from sklearn.metrics import accuracy_score\n",
    "import xgboost as xgb"
   ]
  },
  {
   "cell_type": "markdown",
   "metadata": {},
   "source": [
    "# ohe seq input"
   ]
  },
  {
   "cell_type": "code",
   "execution_count": 3,
   "metadata": {},
   "outputs": [],
   "source": [
    "train_data = pd.read_csv('/mnt/storageG1/lwang/Projects/tb_dr_MIC_v2/data1/gene_seq_train.csv')\n",
    "# train_target = pd.read_csv('/mnt/storageG1/lwang/Projects/tb_dr_MIC/data0/res_train.csv')\n",
    "\n",
    "train_target = pd.read_csv('/mnt/storageG1/lwang/Projects/tb_dr_MIC_v2/data1/res_train.csv')\n",
    "#don't touch test data, split out validation data from training data during training\n",
    "test_data = pd.read_csv('/mnt/storageG1/lwang/Projects/tb_dr_MIC_v2/data1/gene_seq_test.csv')\n",
    "# test_target = pd.read_csv('/mnt/storageG1/lwang/Projects/tb_dr_MIC/data0/res_test.csv')\n",
    "test_target = pd.read_csv('/mnt/storageG1/lwang/Projects/tb_dr_MIC_v2/data1/res_test.csv')"
   ]
  },
  {
   "cell_type": "markdown",
   "metadata": {},
   "source": [
    "## Data prep"
   ]
  },
  {
   "cell_type": "code",
   "execution_count": 4,
   "metadata": {},
   "outputs": [],
   "source": [
    "# train_data = train_data.drop(['wgs_id'], axis=1) \n",
    "# train_data['concatenated'] = train_data.apply(lambda row: ''.join(row), axis=1)\n",
    "\n",
    "# import pandas as pd\n",
    "# import numpy as np\n",
    "\n",
    "# # Example DataFrame with DNA sequences\n",
    "# train_data = pd.DataFrame({\n",
    "#     'sequence': ['ATCG']\n",
    "# })\n",
    "\n",
    "# # Nucleotide to one-hot encoding mapping\n",
    "# nt_map = {'A': [1, 0, 0, 0], 'C': [0, 1, 0, 0], 'G': [0, 0, 1, 0], 'T': [0, 0, 0, 1], 'N': [0, 0, 0, 0]}\n",
    "\n",
    "# def one_hot_encode_seq(sequence):\n",
    "#     \"\"\"Converts a DNA sequence into a one-hot encoded matrix.\"\"\"\n",
    "#     return np.array([nt_map[nt] for nt in sequence])\n",
    "\n",
    "# # Apply the one-hot encoding to each sequence and store the result in a new column\n",
    "# train_data['one_hot'] = train_data['concatenated'].apply(one_hot_encode_seq)\n",
    "\n",
    "# # Optional: Convert the list of matrices in the 'one_hot' column into a 3D numpy array\n",
    "# # The resulting array shape will be (number of sequences, sequence length, 4)\n",
    "# one_hot_array = np.stack(train_data['one_hot'].values)\n",
    "\n",
    "# # print(\"One-hot encoded array shape:\", one_hot_array.shape)\n",
    "# # print(\"One-hot encoded data for the first sequence:\\n\", one_hot_array[0])\n",
    "# one_hot_array = np.stack(train_data['one_hot'].values)"
   ]
  },
  {
   "cell_type": "code",
   "execution_count": 5,
   "metadata": {},
   "outputs": [],
   "source": [
    "one_hot_array = np.load('/mnt/storageG1/lwang/Projects/tb_dr_MIC_v2/data1/seq_ohe_array.npy')\n"
   ]
  },
  {
   "cell_type": "code",
   "execution_count": 6,
   "metadata": {},
   "outputs": [
    {
     "name": "stdout",
     "output_type": "stream",
     "text": [
      "Number of rows containing NaN: 1330\n"
     ]
    }
   ],
   "source": [
    "# np.savetxt('/mnt/storageG1/lwang/Projects/tb_dr_MIC_v2/data1/seq_ohe_array.csv', one_hot_array, delimiter=',')\n",
    "# np.save('/mnt/storageG1/lwang/Projects/tb_dr_MIC_v2/data1/seq_ohe_array.npy', one_hot_array)\n",
    "one_hot_array = np.load('/mnt/storageG1/lwang/Projects/tb_dr_MIC_v2/data1/seq_ohe_array.npy')\n",
    "X_reshaped = one_hot_array.reshape(one_hot_array.shape[0], -1)\n",
    "\n",
    "nan_rows_count = train_target.isnull().any(axis=1).sum()\n",
    "\n",
    "print(f\"Number of rows containing NaN: {nan_rows_count}\")\n",
    "\n",
    "for column in train_target.columns:\n",
    "    mode_value = train_target[column].mode()[0]  # Get the mode of each column\n",
    "    train_target[column].fillna(mode_value, inplace=True)  # Fill NaN with the mode"
   ]
  },
  {
   "cell_type": "markdown",
   "metadata": {},
   "source": [
    "### Model training"
   ]
  },
  {
   "cell_type": "code",
   "execution_count": 7,
   "metadata": {},
   "outputs": [
    {
     "name": "stdout",
     "output_type": "stream",
     "text": [
      "(10849, 227360)\n",
      "(10849, 13)\n"
     ]
    }
   ],
   "source": [
    "X = X_reshaped\n",
    "y = train_target.values\n",
    "y = np.log(y)\n",
    "print(X.shape)\n",
    "print(y.shape)"
   ]
  },
  {
   "cell_type": "code",
   "execution_count": null,
   "metadata": {},
   "outputs": [],
   "source": [
    "from sklearn.datasets import load_iris\n",
    "from sklearn.linear_model import LogisticRegression\n",
    "# X, y = load_iris(return_X_y=True)"
   ]
  },
  {
   "cell_type": "code",
   "execution_count": 7,
   "metadata": {},
   "outputs": [
    {
     "name": "stdout",
     "output_type": "stream",
     "text": [
      "(10849, 227360)\n",
      "(10849, 13)\n"
     ]
    },
    {
     "name": "stdout",
     "output_type": "stream",
     "text": [
      "XGB regression\n",
      "XGBoost RMSE: 13.66698289731201\n"
     ]
    }
   ],
   "source": [
    "# X = np.random.rand(4, 100).T  # Example data; replace with your actual data\n",
    "# y = np.random.randint(0, 2, 100)  # Example binary target; replace with your actual target\n",
    "X = X_reshaped\n",
    "y = train_target.values\n",
    "print(X.shape)\n",
    "print(y.shape)\n",
    "# Split the dataset into training and testing sets\n",
    "X_train, X_test, y_train, y_test = train_test_split(X, y, test_size=0.2, random_state=42)\n",
    "\n",
    "# # Logistic Regression\n",
    "# print('logistic regression')\n",
    "# lr_model = LinearRegression()\n",
    "# lr_model.fit(X_train, y_train)\n",
    "# lr_predictions = lr_model.predict(X_test)\n",
    "# lr_accuracy = accuracy_score(y_test, lr_predictions)\n",
    "# print(f\"Logistic Regression Accuracy: {lr_accuracy}\")\n",
    "\n",
    "# XGBoost\n",
    "print('XGB regression')\n",
    "xgb_model = xgb.XGBRegressor(use_label_encoder=False, eval_metric='rmse', multi_strategy=\"multi_output_tree\")\n",
    "# xgb_model = xgb.XGBRegressor(use_label_encoder=False, eval_metric='rmse', tree_method='gpu_hist', multi_strategy=\"multi_output_tree\")\n",
    "xgb_model.fit(X_train, y_train)\n",
    "xgb_predictions = xgb_model.predict(X_test)\n",
    "\n",
    "from sklearn.metrics import mean_squared_error\n",
    "mse = mean_squared_error(y_test, xgb_predictions)\n",
    "print(f\"XGBoost RMSE: {mse}\")"
   ]
  },
  {
   "cell_type": "markdown",
   "metadata": {},
   "source": [
    "### Grid search"
   ]
  },
  {
   "cell_type": "markdown",
   "metadata": {},
   "source": [
    "#### xgb"
   ]
  },
  {
   "cell_type": "code",
   "execution_count": 12,
   "metadata": {},
   "outputs": [
    {
     "name": "stdout",
     "output_type": "stream",
     "text": [
      "Fitting 5 folds for each of 27 candidates, totalling 135 fits\n"
     ]
    }
   ],
   "source": [
    "from sklearn.model_selection import GridSearchCV\n",
    "X_train, X_test, y_train, y_test = train_test_split(X, y, test_size=0.2, random_state=42)\n",
    "\n",
    "# Define parameter grid for XGBoost\n",
    "xgb_param_grid = {\n",
    "    'n_estimators': [50, 100, 200],  # Number of gradient boosted trees. Equivalent to number of boosting rounds\n",
    "    'max_depth': [3, 4, 5],  # Maximum tree depth for base learners\n",
    "    'learning_rate': [0.01, 0.1, 0.2],  # Boosting learning rate (xgb’s “eta”)\n",
    "}\n",
    "\n",
    "# Create grid search object\n",
    "# xgb_grid_search = GridSearchCV(xgb.XGBRegressor(use_label_encoder=False, eval_metric='rmse', multi_strategy=\"multi_output_tree\"), xgb_param_grid, cv=5, scoring='accuracy', verbose=1)\n",
    "xgb_grid_search = GridSearchCV(\n",
    "    # xgb.XGBRegressor(use_label_encoder=False, eval_metric='rmse', tree_method='hist', device = 'cuda', multi_strategy=\"multi_output_tree\"),\n",
    "    xgb.XGBRegressor(use_label_encoder=False, eval_metric='rmse', tree_method='hist', multi_strategy=\"multi_output_tree\"),\n",
    "    xgb_param_grid,\n",
    "    cv=5,\n",
    "    scoring='neg_mean_squared_error',  # Changed to a regression scoring metric\n",
    "    verbose=1\n",
    ")\n",
    "\n",
    "xgb_grid_search.fit(X_train, y_train)\n",
    "\n",
    "# Best parameters and best score\n",
    "print(\"Best Parameters for XGBoost:\", xgb_grid_search.best_params_)\n",
    "print(\"Best Score for XGBoost:\", xgb_grid_search.best_score_)"
   ]
  },
  {
   "cell_type": "markdown",
   "metadata": {},
   "source": [
    "### random forest"
   ]
  },
  {
   "cell_type": "code",
   "execution_count": null,
   "metadata": {},
   "outputs": [],
   "source": [
    "from sklearn.model_selection import GridSearchCV\n",
    "from sklearn.ensemble import RandomForestRegressor\n",
    "\n",
    "# Define parameter grid for Random Forest\n",
    "rf_param_grid = {\n",
    "    'n_estimators': [50, 100, 200],  # Number of trees in the forest\n",
    "    'max_depth': [3, 4, 5],  # Maximum depth of the tree\n",
    "    'min_samples_split': [2, 4, 6],  # Minimum number of samples required to split an internal node\n",
    "}\n",
    "\n",
    "# Create grid search object for Random Forest\n",
    "rf_grid_search = GridSearchCV(\n",
    "    RandomForestRegressor(),\n",
    "    rf_param_grid,\n",
    "    cv=5,\n",
    "    scoring='neg_mean_squared_error',  # Using MSE as the scoring metric\n",
    "    verbose=1\n",
    ")\n",
    "\n",
    "rf_grid_search.fit(X_train, y_train)\n",
    "\n",
    "# Output best parameters and best score\n",
    "print(\"Best Parameters for Random Forest:\", rf_grid_search.best_params_)\n",
    "print(\"Best Score for Random Forest:\", rf_grid_search.best_score_)\n"
   ]
  },
  {
   "cell_type": "markdown",
   "metadata": {},
   "source": [
    "# SNP freq input"
   ]
  },
  {
   "cell_type": "code",
   "execution_count": null,
   "metadata": {},
   "outputs": [],
   "source": [
    "train_aa_data = pd.read_csv('/mnt/storageG1/lwang/Projects/tb_dr_MIC_v2/data1/aa_data_train.csv',delimiter =',')\n",
    "# train_aa_target = pd.read_csv('/mnt/storageG1/lwang/Projects/tb_dr_MIC/data0/res_train.csv')\n",
    "\n",
    "train_aa_target = pd.read_csv('/mnt/storageG1/lwang/Projects/tb_dr_MIC_v2/data1/mic_aa_train.csv')\n",
    "#don't touch test data, split out validation data from training data during training\n",
    "test_aa_data = pd.read_csv('/mnt/storageG1/lwang/Projects/tb_dr_MIC_v2/data1/aa_data_test.csv',delimiter =',')\n",
    "# test_aa_target = pd.read_csv('/mnt/storageG1/lwang/Projects/tb_dr_MIC/data0/res_test.csv')\n",
    "test_aa_target = pd.read_csv('/mnt/storageG1/lwang/Projects/tb_dr_MIC_v2/data1/mic_aa_test.csv')"
   ]
  },
  {
   "cell_type": "markdown",
   "metadata": {},
   "source": [
    "## Model training"
   ]
  },
  {
   "cell_type": "code",
   "execution_count": null,
   "metadata": {},
   "outputs": [],
   "source": [
    "# Assuming `X` is your features array of shape (4, n) and `y` is your target array of shape (n,)\n",
    "# You might need to transpose `X` to get it into the shape (n, 4)\n",
    "# X = np.random.rand(4, 100).T  # Example data; replace with your actual data\n",
    "# y = np.random.randint(0, 2, 100)  # Example binary target; replace with your actual target\n",
    "X = train_aa_data\n",
    "y = train_aa_target.values\n",
    "print(X.shape)\n",
    "print(y.shape)\n",
    "# Split the dataset into training and testing sets\n",
    "X_train, X_test, y_train, y_test = train_test_split(X, y, test_size=0.2, random_state=42)\n",
    "\n",
    "# Logistic Regression\n",
    "\n",
    "# aa_XGBoost\n",
    "print('XGB regression')\n",
    "aa_xgb_model = xgb.XGBRegressor(use_label_encoder=False, eval_metric='rmse', multi_strategy=\"multi_output_tree\")\n",
    "aa_xgb_model.fit(X_train, y_train)\n",
    "aa_xgb_predictions = aa_xgb_model.predict(X_test)\n",
    "aa_xgb_accuracy = accuracy_score(y_test, aa_xgb_predictions)\n",
    "print(f\"aa_XGBoost Accuracy: {aa_xgb_accuracy}\")"
   ]
  },
  {
   "cell_type": "code",
   "execution_count": null,
   "metadata": {},
   "outputs": [],
   "source": [
    "from sklearn.model_selection import GridSearchCV\n",
    "\n",
    "# Define parameter grid for aa_XGBoost\n",
    "aa_xgb_param_grid = {\n",
    "    'n_estimators': [50, 100, 200],  # Number of gradient boosted trees. Equivalent to number of boosting rounds\n",
    "    'max_depth': [3, 4, 5],  # Maximum tree depth for base learners\n",
    "    'learning_rate': [0.01, 0.1, 0.2],  # Boosting learning rate (aa_xgb’s “eta”)\n",
    "}\n",
    "\n",
    "# Create grid search object\n",
    "aa_xgb_grid_search = GridSearchCV(xgb.XGBRegressor(use_label_encoder=False, eval_metric='rmse', multi_strategy=\"multi_output_tree\"), xgb_param_grid, cv=5, scoring='accuracy', verbose=1)\n",
    "xgb_grid_search.fit(X_train, y_train)\n",
    "\n",
    "# Best parameters and best score\n",
    "print(\"Best Parameters for aa_XGBoost:\", aa_xgb_grid_search.best_params_)\n",
    "print(\"Best Score for aa_XGBoost:\", aa_xgb_grid_search.best_score_)\n"
   ]
  },
  {
   "cell_type": "code",
   "execution_count": null,
   "metadata": {},
   "outputs": [
    {
     "data": {
      "text/plain": [
       "EMB_BINARY_PHENOTYPE\n",
       "S                       8334\n",
       "R                       2261\n",
       "I                       1559\n",
       "dtype: int64"
      ]
     },
     "metadata": {},
     "output_type": "display_data"
    }
   ],
   "source": []
  }
 ],
 "metadata": {
  "kernelspec": {
   "display_name": "ml-workshop",
   "language": "python",
   "name": "python3"
  },
  "language_info": {
   "codemirror_mode": {
    "name": "ipython",
    "version": 3
   },
   "file_extension": ".py",
   "mimetype": "text/x-python",
   "name": "python",
   "nbconvert_exporter": "python",
   "pygments_lexer": "ipython3",
   "version": "3.9.15"
  }
 },
 "nbformat": 4,
 "nbformat_minor": 2
}
