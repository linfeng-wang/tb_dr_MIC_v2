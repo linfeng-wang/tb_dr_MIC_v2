{
 "cells": [
  {
   "cell_type": "code",
   "execution_count": 1,
   "metadata": {},
   "outputs": [],
   "source": [
    "#env:ml-s7\n",
    "import numpy as np\n",
    "import pandas as pd\n",
    "# from icecream import ic\n",
    "import subprocess\n",
    "import json\n",
    "import os\n",
    "import plotly.graph_objects as go\n",
    "from matplotlib import pyplot as plt\n",
    "# import geopandas as gpd\n",
    "# from shapely.geometry import Polygon\n",
    "# from shapely.ops import cascaded_union, unary_union\n",
    "# from shapely import geometry\n",
    "# from geopy import distance\n",
    "%matplotlib inline\n",
    "import plotly.express as px \n",
    "from scipy import signal\n",
    "from tqdm import tqdm\n",
    "# from Bio import Phylo\n",
    "# import ete3\n",
    "import itertools\n",
    "import sklearn"
   ]
  },
  {
   "cell_type": "code",
   "execution_count": 2,
   "metadata": {},
   "outputs": [],
   "source": [
    "def value_counts_list(lst):\n",
    "    \"\"\"\n",
    "    Computes the frequency count of unique elements in a list and returns a dictionary, sorted by frequency count in\n",
    "    descending order.\n",
    "\n",
    "    Args:\n",
    "    - lst (list): List of elements\n",
    "\n",
    "    Returns:\n",
    "    - dict: Dictionary with unique elements as keys and their frequency count as values, sorted by frequency count\n",
    "    in descending order\n",
    "    \"\"\"\n",
    "    value_counts = {}\n",
    "    for item in lst:\n",
    "        if item in value_counts:\n",
    "            value_counts[item] += 1\n",
    "        else:\n",
    "            value_counts[item] = 1\n",
    "    sorted_value_counts = dict(sorted(value_counts.items(), key=lambda x: x[1], reverse=True))\n",
    "    return sorted_value_counts\n",
    "\n",
    "def print_full(x):\n",
    "    pd.set_option('display.max_rows', None)\n",
    "    pd.set_option('display.max_columns', None)\n",
    "    pd.set_option('display.width', 2000)\n",
    "    pd.set_option('display.float_format', '{:20,.2f}'.format)\n",
    "    pd.set_option('display.max_colwidth', None)\n",
    "    print(x)\n",
    "    pd.reset_option('display.max_rows')\n",
    "    pd.reset_option('display.max_columns')\n",
    "    pd.reset_option('display.width')\n",
    "    pd.reset_option('display.float_format')\n",
    "    pd.reset_option('display.max_colwidth')"
   ]
  },
  {
   "attachments": {},
   "cell_type": "markdown",
   "metadata": {},
   "source": [
    "# Data exploration the MIC"
   ]
  },
  {
   "cell_type": "markdown",
   "metadata": {},
   "source": [
    "## New 2023 data also using new sample selection"
   ]
  },
  {
   "cell_type": "markdown",
   "metadata": {},
   "source": [
    "### RIF"
   ]
  },
  {
   "cell_type": "code",
   "execution_count": null,
   "metadata": {},
   "outputs": [],
   "source": []
  },
  {
   "cell_type": "code",
   "execution_count": 167,
   "metadata": {},
   "outputs": [
    {
     "name": "stderr",
     "output_type": "stream",
     "text": [
      "/tmp/ipykernel_114410/665846634.py:8: SettingWithCopyWarning: \n",
      "A value is trying to be set on a copy of a slice from a DataFrame\n",
      "\n",
      "See the caveats in the documentation: https://pandas.pydata.org/pandas-docs/stable/user_guide/indexing.html#returning-a-view-versus-a-copy\n",
      "  df_rif.loc[i, f'{x}'] = '0.03'\n",
      "/tmp/ipykernel_114410/665846634.py:6: SettingWithCopyWarning: \n",
      "A value is trying to be set on a copy of a slice from a DataFrame\n",
      "\n",
      "See the caveats in the documentation: https://pandas.pydata.org/pandas-docs/stable/user_guide/indexing.html#returning-a-view-versus-a-copy\n",
      "  df_rif.loc[i, f'{x}'] = '8'\n"
     ]
    }
   ],
   "source": [
    "df = pd.read_csv('CRyPTIC_reuse_table_20231208.csv')\n",
    "df_rif = df[df['RIF_MIC'].isin(['>4','4.0', '2.0', '1.0', '0.5', '0.25', '0.12','<=0.06'])]\n",
    "for i, row in df_rif.iterrows():\n",
    "    x = 'RIF_MIC'\n",
    "    if row[x] == '>4' :\n",
    "        df_rif.loc[i, f'{x}'] = '8'\n",
    "    elif row[x] == '<=0.06':\n",
    "        df_rif.loc[i, f'{x}'] = '0.03'"
   ]
  },
  {
   "cell_type": "code",
   "execution_count": 164,
   "metadata": {},
   "outputs": [
    {
     "name": "stderr",
     "output_type": "stream",
     "text": [
      "0it [00:00, ?it/s]\n"
     ]
    }
   ],
   "source": [
    "variants = pd.read_csv('variants_full.csv')\n",
    "variants = variants[variants['type'] != 'synonymous_variant']\n",
    "cryptic = df_rif\n",
    "overlap = set(variants['sample_id']).intersection(set(cryptic['ENA_RUN'].to_list()))\n",
    "variants = variants[variants['sample_id'].isin(overlap)]\n",
    "variants['SNP'] = variants['gene'] + '-'+ variants['change']\n",
    "\n",
    "def compare_snp_lists_with_values_optimized(set_list, query_list, values_list):\n",
    "    # Create a dictionary from query_list and values_list for direct mapping\n",
    "    query_dict = dict(zip(query_list, values_list))\n",
    "    \n",
    "    # Use list comprehension to build the output list directly\n",
    "    output_list = [query_dict.get(snp, 0) for snp in set_list]\n",
    "    \n",
    "    return output_list\n",
    "\n",
    "# Example usage\n",
    "# set_list = ['SNP1', 'SNP2', 'SNP3', 'SNP4']\n",
    "# query_list = ['SNP2', 'SNP4']\n",
    "# values_list = [5, 10]  # Corresponding values for 'SNP2' and 'SNP4'\n",
    "# output_list = compare_snp_lists_with_values_optimized(set_list, query_list, values_list)\n",
    "# print(output_list)  # Expected output: [0, 5, 0, 10]# Getting all snp data\n",
    "\n",
    "aa = []\n",
    "all_snp = variants['SNP'].unique() # here is a list of all snps values title for the row in the final table \n",
    "for x in tqdm(variants['sample_id'].unique()):\n",
    "    aa.append(compare_snp_lists_with_values_optimized(all_snp, variants[variants['sample_id']==x]['SNP'].to_list(), variants[variants['sample_id']==x]['freq'].to_list()))\n",
    "    # print('SNP')\n",
    "aa_array = np.array(aa)\n",
    "aa_array[aa_array < 0.8] = 0\n",
    "aa_array[aa_array >= 0.8] = 1"
   ]
  },
  {
   "cell_type": "code",
   "execution_count": 19,
   "metadata": {},
   "outputs": [
    {
     "name": "stderr",
     "output_type": "stream",
     "text": [
      "/tmp/ipykernel_114410/465165320.py:4: SettingWithCopyWarning: \n",
      "A value is trying to be set on a copy of a slice from a DataFrame.\n",
      "Try using .loc[row_indexer,col_indexer] = value instead\n",
      "\n",
      "See the caveats in the documentation: https://pandas.pydata.org/pandas-docs/stable/user_guide/indexing.html#returning-a-view-versus-a-copy\n",
      "  mic_aa.ENA_RUN = mic_aa.ENA_RUN.astype('category')\n",
      "/tmp/ipykernel_114410/465165320.py:5: SettingWithCopyWarning: \n",
      "A value is trying to be set on a copy of a slice from a DataFrame.\n",
      "Try using .loc[row_indexer,col_indexer] = value instead\n",
      "\n",
      "See the caveats in the documentation: https://pandas.pydata.org/pandas-docs/stable/user_guide/indexing.html#returning-a-view-versus-a-copy\n",
      "  mic_aa.ENA_RUN = mic_aa.ENA_RUN.cat.set_categories(variants['sample_id'].unique().tolist())\n"
     ]
    }
   ],
   "source": [
    "mic_aa = cryptic[cryptic['ENA_RUN'].isin(variants['sample_id'].unique())]#.iloc[:,14:27]\n",
    "# mic_aa['wgs_id'] = pd.Categorical(mic_aa['ENA_RUN'], categories=variants['sample_id'].unique().tolist(), ordered=True)\n",
    "# mic_aa = mic_aa.sort_values('ENA_RUN')\n",
    "mic_aa.ENA_RUN = mic_aa.ENA_RUN.astype('category')\n",
    "mic_aa.ENA_RUN = mic_aa.ENA_RUN.cat.set_categories(variants['sample_id'].unique().tolist())\n",
    "mic_aa = mic_aa.sort_values([\"ENA_RUN\"])  ## 'sort' changed to 'sort_values'"
   ]
  },
  {
   "cell_type": "code",
   "execution_count": 103,
   "metadata": {},
   "outputs": [],
   "source": [
    "np.savetxt('data_new_rif/aa_data_train.csv', aa_array[:int(aa_array.shape[0]*0.9), :], delimiter=',', fmt='%s')\n",
    "# Save the remaining 10% of rows to another CSV file\n",
    "np.savetxt('data_new_rif/aa_data_test.csv', aa_array[int(aa_array.shape[0]*0.9):, :], delimiter=',', fmt='%s')\n",
    "\n",
    "np.savetxt('data_new_rif/aa_data_train.csv', aa_array[:int(aa_array.shape[0]*0.9), :], delimiter=',', fmt='%s')\n",
    "# Save the remaining 10% of rows to another CSV file\n",
    "np.savetxt('data_new_rif/aa_data_test.csv', aa_array[int(aa_array.shape[0]*0.9):, :], delimiter=',', fmt='%s')\n",
    "mic_aa = mic_aa[['RIF_MIC']].astype('float')\n",
    "\n",
    "mic_aa.iloc[:int(mic_aa.shape[0]*0.9),:].to_csv('data_new_rif/mic_aa_train.csv', index=False)\n",
    "mic_aa.iloc[int(mic_aa.shape[0]*0.9):,:].to_csv('data_new_rif/mic_aa_test.csv', index=False)"
   ]
  },
  {
   "cell_type": "markdown",
   "metadata": {},
   "source": [
    "# PCA"
   ]
  },
  {
   "cell_type": "code",
   "execution_count": 62,
   "metadata": {},
   "outputs": [
    {
     "data": {
      "image/png": "[encoded data removed]",
      "text/plain": [
       "<Figure size 432x288 with 1 Axes>"
      ]
     },
     "metadata": {
      "needs_background": "light"
     },
     "output_type": "display_data"
    }
   ],
   "source": [
    "from sklearn.decomposition import PCA\n",
    "import matplotlib.pyplot as plt\n",
    "import numpy as np\n",
    "\n",
    "X = aa_array  # Example data\n",
    "\n",
    "# Step 1: Standardize the dataset\n",
    "scaler = StandardScaler()\n",
    "X_scaled = scaler.fit_transform(X)\n",
    "\n",
    "# Assuming X_scaled is your standardized 14954-dimensional data\n",
    "pca = PCA().fit(X_scaled)\n",
    "\n",
    "# Plotting the Cumulative Summation of the Explained Variance\n",
    "plt.figure()\n",
    "plt.plot(np.cumsum(pca.explained_variance_ratio_))\n",
    "plt.xlabel('Number of Components')\n",
    "plt.ylabel('Variance (%)') # for each component\n",
    "plt.title('Explained Variance')\n",
    "plt.grid(True)\n",
    "plt.show()\n"
   ]
  },
  {
   "cell_type": "code",
   "execution_count": 20,
   "metadata": {},
   "outputs": [
    {
     "ename": "KeyboardInterrupt",
     "evalue": "",
     "output_type": "error",
     "traceback": [
      "\u001b[0;31m---------------------------------------------------------------------------\u001b[0m",
      "\u001b[0;31mKeyboardInterrupt\u001b[0m                         Traceback (most recent call last)",
      "\u001b[0;32m/tmp/ipykernel_114410/1505268419.py\u001b[0m in \u001b[0;36m<module>\u001b[0;34m\u001b[0m\n\u001b[1;32m      8\u001b[0m \u001b[0;31m# Step 1: Standardize the dataset\u001b[0m\u001b[0;34m\u001b[0m\u001b[0;34m\u001b[0m\u001b[0m\n\u001b[1;32m      9\u001b[0m \u001b[0mscaler\u001b[0m \u001b[0;34m=\u001b[0m \u001b[0mStandardScaler\u001b[0m\u001b[0;34m(\u001b[0m\u001b[0;34m)\u001b[0m\u001b[0;34m\u001b[0m\u001b[0;34m\u001b[0m\u001b[0m\n\u001b[0;32m---> 10\u001b[0;31m \u001b[0mX_scaled\u001b[0m \u001b[0;34m=\u001b[0m \u001b[0mscaler\u001b[0m\u001b[0;34m.\u001b[0m\u001b[0mfit_transform\u001b[0m\u001b[0;34m(\u001b[0m\u001b[0mX\u001b[0m\u001b[0;34m)\u001b[0m\u001b[0;34m\u001b[0m\u001b[0;34m\u001b[0m\u001b[0m\n\u001b[0m\u001b[1;32m     11\u001b[0m \u001b[0;34m\u001b[0m\u001b[0m\n\u001b[1;32m     12\u001b[0m \u001b[0;31m# Step 2: Apply PCA\u001b[0m\u001b[0;34m\u001b[0m\u001b[0;34m\u001b[0m\u001b[0m\n",
      "\u001b[0;32m/mnt/storageG1/lwang/miniconda3/envs/ml-workshop/lib/python3.9/site-packages/sklearn/base.py\u001b[0m in \u001b[0;36mfit_transform\u001b[0;34m(self, X, y, **fit_params)\u001b[0m\n\u001b[1;32m    865\u001b[0m         \u001b[0;32mif\u001b[0m \u001b[0my\u001b[0m \u001b[0;32mis\u001b[0m \u001b[0;32mNone\u001b[0m\u001b[0;34m:\u001b[0m\u001b[0;34m\u001b[0m\u001b[0;34m\u001b[0m\u001b[0m\n\u001b[1;32m    866\u001b[0m             \u001b[0;31m# fit method of arity 1 (unsupervised transformation)\u001b[0m\u001b[0;34m\u001b[0m\u001b[0;34m\u001b[0m\u001b[0m\n\u001b[0;32m--> 867\u001b[0;31m             \u001b[0;32mreturn\u001b[0m \u001b[0mself\u001b[0m\u001b[0;34m.\u001b[0m\u001b[0mfit\u001b[0m\u001b[0;34m(\u001b[0m\u001b[0mX\u001b[0m\u001b[0;34m,\u001b[0m \u001b[0;34m**\u001b[0m\u001b[0mfit_params\u001b[0m\u001b[0;34m)\u001b[0m\u001b[0;34m.\u001b[0m\u001b[0mtransform\u001b[0m\u001b[0;34m(\u001b[0m\u001b[0mX\u001b[0m\u001b[0;34m)\u001b[0m\u001b[0;34m\u001b[0m\u001b[0;34m\u001b[0m\u001b[0m\n\u001b[0m\u001b[1;32m    868\u001b[0m         \u001b[0;32melse\u001b[0m\u001b[0;34m:\u001b[0m\u001b[0;34m\u001b[0m\u001b[0;34m\u001b[0m\u001b[0m\n\u001b[1;32m    869\u001b[0m             \u001b[0;31m# fit method of arity 2 (supervised transformation)\u001b[0m\u001b[0;34m\u001b[0m\u001b[0;34m\u001b[0m\u001b[0m\n",
      "\u001b[0;32m/mnt/storageG1/lwang/miniconda3/envs/ml-workshop/lib/python3.9/site-packages/sklearn/preprocessing/_data.py\u001b[0m in \u001b[0;36mtransform\u001b[0;34m(self, X, copy)\u001b[0m\n\u001b[1;32m    973\u001b[0m \u001b[0;34m\u001b[0m\u001b[0m\n\u001b[1;32m    974\u001b[0m         \u001b[0mcopy\u001b[0m \u001b[0;34m=\u001b[0m \u001b[0mcopy\u001b[0m \u001b[0;32mif\u001b[0m \u001b[0mcopy\u001b[0m \u001b[0;32mis\u001b[0m \u001b[0;32mnot\u001b[0m \u001b[0;32mNone\u001b[0m \u001b[0;32melse\u001b[0m \u001b[0mself\u001b[0m\u001b[0;34m.\u001b[0m\u001b[0mcopy\u001b[0m\u001b[0;34m\u001b[0m\u001b[0;34m\u001b[0m\u001b[0m\n\u001b[0;32m--> 975\u001b[0;31m         X = self._validate_data(\n\u001b[0m\u001b[1;32m    976\u001b[0m             \u001b[0mX\u001b[0m\u001b[0;34m,\u001b[0m\u001b[0;34m\u001b[0m\u001b[0;34m\u001b[0m\u001b[0m\n\u001b[1;32m    977\u001b[0m             \u001b[0mreset\u001b[0m\u001b[0;34m=\u001b[0m\u001b[0;32mFalse\u001b[0m\u001b[0;34m,\u001b[0m\u001b[0;34m\u001b[0m\u001b[0;34m\u001b[0m\u001b[0m\n",
      "\u001b[0;32m/mnt/storageG1/lwang/miniconda3/envs/ml-workshop/lib/python3.9/site-packages/sklearn/base.py\u001b[0m in \u001b[0;36m_validate_data\u001b[0;34m(self, X, y, reset, validate_separately, **check_params)\u001b[0m\n\u001b[1;32m    575\u001b[0m             \u001b[0;32mraise\u001b[0m \u001b[0mValueError\u001b[0m\u001b[0;34m(\u001b[0m\u001b[0;34m\"Validation should be done on X, y or both.\"\u001b[0m\u001b[0;34m)\u001b[0m\u001b[0;34m\u001b[0m\u001b[0;34m\u001b[0m\u001b[0m\n\u001b[1;32m    576\u001b[0m         \u001b[0;32melif\u001b[0m \u001b[0;32mnot\u001b[0m \u001b[0mno_val_X\u001b[0m \u001b[0;32mand\u001b[0m \u001b[0mno_val_y\u001b[0m\u001b[0;34m:\u001b[0m\u001b[0;34m\u001b[0m\u001b[0;34m\u001b[0m\u001b[0m\n\u001b[0;32m--> 577\u001b[0;31m             \u001b[0mX\u001b[0m \u001b[0;34m=\u001b[0m \u001b[0mcheck_array\u001b[0m\u001b[0;34m(\u001b[0m\u001b[0mX\u001b[0m\u001b[0;34m,\u001b[0m \u001b[0minput_name\u001b[0m\u001b[0;34m=\u001b[0m\u001b[0;34m\"X\"\u001b[0m\u001b[0;34m,\u001b[0m \u001b[0;34m**\u001b[0m\u001b[0mcheck_params\u001b[0m\u001b[0;34m)\u001b[0m\u001b[0;34m\u001b[0m\u001b[0;34m\u001b[0m\u001b[0m\n\u001b[0m\u001b[1;32m    578\u001b[0m             \u001b[0mout\u001b[0m \u001b[0;34m=\u001b[0m \u001b[0mX\u001b[0m\u001b[0;34m\u001b[0m\u001b[0;34m\u001b[0m\u001b[0m\n\u001b[1;32m    579\u001b[0m         \u001b[0;32melif\u001b[0m \u001b[0mno_val_X\u001b[0m \u001b[0;32mand\u001b[0m \u001b[0;32mnot\u001b[0m \u001b[0mno_val_y\u001b[0m\u001b[0;34m:\u001b[0m\u001b[0;34m\u001b[0m\u001b[0;34m\u001b[0m\u001b[0m\n",
      "\u001b[0;32m/mnt/storageG1/lwang/miniconda3/envs/ml-workshop/lib/python3.9/site-packages/sklearn/utils/validation.py\u001b[0m in \u001b[0;36mcheck_array\u001b[0;34m(array, accept_sparse, accept_large_sparse, dtype, order, copy, force_all_finite, ensure_2d, allow_nd, ensure_min_samples, ensure_min_features, estimator, input_name)\u001b[0m\n\u001b[1;32m    923\u001b[0m \u001b[0;34m\u001b[0m\u001b[0m\n\u001b[1;32m    924\u001b[0m     \u001b[0;32mif\u001b[0m \u001b[0mcopy\u001b[0m \u001b[0;32mand\u001b[0m \u001b[0mnp\u001b[0m\u001b[0;34m.\u001b[0m\u001b[0mmay_share_memory\u001b[0m\u001b[0;34m(\u001b[0m\u001b[0marray\u001b[0m\u001b[0;34m,\u001b[0m \u001b[0marray_orig\u001b[0m\u001b[0;34m)\u001b[0m\u001b[0;34m:\u001b[0m\u001b[0;34m\u001b[0m\u001b[0;34m\u001b[0m\u001b[0m\n\u001b[0;32m--> 925\u001b[0;31m         \u001b[0marray\u001b[0m \u001b[0;34m=\u001b[0m \u001b[0mnp\u001b[0m\u001b[0;34m.\u001b[0m\u001b[0marray\u001b[0m\u001b[0;34m(\u001b[0m\u001b[0marray\u001b[0m\u001b[0;34m,\u001b[0m \u001b[0mdtype\u001b[0m\u001b[0;34m=\u001b[0m\u001b[0mdtype\u001b[0m\u001b[0;34m,\u001b[0m \u001b[0morder\u001b[0m\u001b[0;34m=\u001b[0m\u001b[0morder\u001b[0m\u001b[0;34m)\u001b[0m\u001b[0;34m\u001b[0m\u001b[0;34m\u001b[0m\u001b[0m\n\u001b[0m\u001b[1;32m    926\u001b[0m \u001b[0;34m\u001b[0m\u001b[0m\n\u001b[1;32m    927\u001b[0m     \u001b[0;32mreturn\u001b[0m \u001b[0marray\u001b[0m\u001b[0;34m\u001b[0m\u001b[0;34m\u001b[0m\u001b[0m\n",
      "\u001b[0;31mKeyboardInterrupt\u001b[0m: "
     ]
    }
   ],
   "source": [
    "from sklearn.preprocessing import StandardScaler\n",
    "from sklearn.decomposition import PCA\n",
    "import numpy as np\n",
    "\n",
    "# Assuming X is your data array where each row is a sample\n",
    "X = aa_array  # Example data\n",
    "\n",
    "# Step 1: Standardize the dataset\n",
    "scaler = StandardScaler()\n",
    "X_scaled = scaler.fit_transform(X)\n",
    "\n",
    "# Step 2: Apply PCA\n",
    "# Let's say you want to reduce the dataset to 2 dimensions\n",
    "pca = PCA(n_components=4000)\n",
    "X_pca = pca.fit_transform(X_scaled)\n",
    "\n",
    "print(\"Original shape:\", X.shape)\n",
    "print(\"Reduced shape:\", X_pca.shape)\n"
   ]
  },
  {
   "cell_type": "code",
   "execution_count": 70,
   "metadata": {},
   "outputs": [],
   "source": [
    "np.savetxt('data_new_rif/aa_data_train_pca4k.csv', X_pca[:int(X_pca.shape[0]*0.9), :], delimiter=',', fmt='%s')\n",
    "# Save the remaining 10% of rows to another CSV file\n",
    "np.savetxt('data_new_rif/aa_data_test_pca4k.csv', X_pca[int(X_pca.shape[0]*0.9):, :], delimiter=',', fmt='%s')"
   ]
  },
  {
   "cell_type": "code",
   "execution_count": 80,
   "metadata": {},
   "outputs": [
    {
     "name": "stdout",
     "output_type": "stream",
     "text": [
      "Original shape: (7605, 14954)\n",
      "Reduced shape: (7605, 3000)\n"
     ]
    }
   ],
   "source": [
    "from sklearn.preprocessing import StandardScaler\n",
    "from sklearn.decomposition import PCA\n",
    "import numpy as np\n",
    "\n",
    "# Assuming X is your data array where each row is a sample\n",
    "X = aa_array  # Example data\n",
    "\n",
    "# Step 1: Standardize the dataset\n",
    "scaler = StandardScaler()\n",
    "X_scaled = scaler.fit_transform(X)\n",
    "\n",
    "# Step 2: Apply PCA\n",
    "# Let's say you want to reduce the dataset to 2 dimensions\n",
    "pca = PCA(n_components=3000)\n",
    "X_pca = pca.fit_transform(X_scaled)\n",
    "\n",
    "print(\"Original shape:\", X.shape)\n",
    "print(\"Reduced shape:\", X_pca.shape)\n",
    "\n",
    "np.savetxt('data_new_rif/aa_data_train_pca3k.csv', X_pca[:int(X_pca.shape[0]*0.9), :], delimiter=',', fmt='%s')\n",
    "# Save the remaining 10% of rows to another CSV file\n",
    "np.savetxt('data_new_rif/aa_data_test_pca3k.csv', X_pca[int(X_pca.shape[0]*0.9):, :], delimiter=',', fmt='%s')"
   ]
  },
  {
   "cell_type": "code",
   "execution_count": 81,
   "metadata": {},
   "outputs": [
    {
     "name": "stdout",
     "output_type": "stream",
     "text": [
      "Original shape: (7605, 14954)\n",
      "Reduced shape: (7605, 2000)\n"
     ]
    }
   ],
   "source": [
    "from sklearn.preprocessing import StandardScaler\n",
    "from sklearn.decomposition import PCA\n",
    "import numpy as np\n",
    "\n",
    "# Assuming X is your data array where each row is a sample\n",
    "X = aa_array  # Example data\n",
    "\n",
    "# Step 1: Standardize the dataset\n",
    "scaler = StandardScaler()\n",
    "X_scaled = scaler.fit_transform(X)\n",
    "\n",
    "# Step 2: Apply PCA\n",
    "# Let's say you want to reduce the dataset to 2 dimensions\n",
    "pca = PCA(n_components=2000)\n",
    "X_pca = pca.fit_transform(X_scaled)\n",
    "\n",
    "print(\"Original shape:\", X.shape)\n",
    "print(\"Reduced shape:\", X_pca.shape)\n",
    "\n",
    "np.savetxt('data_new_rif/aa_data_train_pca2k.csv', X_pca[:int(X_pca.shape[0]*0.9), :], delimiter=',', fmt='%s')\n",
    "# Save the remaining 10% of rows to another CSV file\n",
    "np.savetxt('data_new_rif/aa_data_test_pca2k.csv', X_pca[int(X_pca.shape[0]*0.9):, :], delimiter=',', fmt='%s')"
   ]
  },
  {
   "cell_type": "markdown",
   "metadata": {},
   "source": [
    "# Binary binning"
   ]
  },
  {
   "cell_type": "code",
   "execution_count": null,
   "metadata": {},
   "outputs": [
    {
     "ename": "NameError",
     "evalue": "name 'mic_aa' is not defined",
     "output_type": "error",
     "traceback": [
      "\u001b[0;31m---------------------------------------------------------------------------\u001b[0m",
      "\u001b[0;31mNameError\u001b[0m                                 Traceback (most recent call last)",
      "\u001b[0;32m/tmp/ipykernel_114410/3857627611.py\u001b[0m in \u001b[0;36m<module>\u001b[0;34m\u001b[0m\n\u001b[0;32m----> 1\u001b[0;31m \u001b[0mdict\u001b[0m\u001b[0;34m(\u001b[0m\u001b[0mmic_aa\u001b[0m\u001b[0;34m[\u001b[0m\u001b[0;34m'RIF_MIC'\u001b[0m\u001b[0;34m]\u001b[0m\u001b[0;34m.\u001b[0m\u001b[0mvalue_counts\u001b[0m\u001b[0;34m(\u001b[0m\u001b[0;34m)\u001b[0m\u001b[0;34m)\u001b[0m\u001b[0;34m\u001b[0m\u001b[0;34m\u001b[0m\u001b[0m\n\u001b[0m\u001b[1;32m      2\u001b[0m \u001b[0;34m\u001b[0m\u001b[0m\n\u001b[1;32m      3\u001b[0m \u001b[0mencoded_mic\u001b[0m \u001b[0;34m=\u001b[0m \u001b[0;34m[\u001b[0m\u001b[0;34m]\u001b[0m\u001b[0;34m\u001b[0m\u001b[0;34m\u001b[0m\u001b[0m\n\u001b[1;32m      4\u001b[0m \u001b[0;32mfor\u001b[0m \u001b[0mvalue\u001b[0m \u001b[0;32min\u001b[0m \u001b[0mmic_aa\u001b[0m\u001b[0;34m[\u001b[0m\u001b[0;34m'RIF_MIC'\u001b[0m\u001b[0;34m]\u001b[0m\u001b[0;34m:\u001b[0m\u001b[0;34m\u001b[0m\u001b[0;34m\u001b[0m\u001b[0m\n\u001b[1;32m      5\u001b[0m     \u001b[0;32mif\u001b[0m \u001b[0mvalue\u001b[0m \u001b[0;34m<\u001b[0m \u001b[0;36m0.5\u001b[0m\u001b[0;34m:\u001b[0m\u001b[0;34m\u001b[0m\u001b[0;34m\u001b[0m\u001b[0m\n",
      "\u001b[0;31mNameError\u001b[0m: name 'mic_aa' is not defined"
     ]
    }
   ],
   "source": [
    "dict(mic_aa['RIF_MIC'].value_counts())\n",
    "\n",
    "encoded_mic = []\n",
    "for value in mic_aa['RIF_MIC']:\n",
    "    if value < 0.5:\n",
    "        encoded_mic.append(0)  # mic < 0.05\n",
    "    else:\n",
    "        encoded_mic.append(1)  # 0.05 <= mic < 0.12\n",
    "        \n",
    "mic_aa_cp = mic_aa.copy()\n",
    "mic_aa_cp['RIF_MIC'] = encoded_mic\n",
    "mic_aa_cp.iloc[:int(mic_aa_cp.shape[0]*0.9),:].to_csv('data_new_rif/mic_aa_train_bi.csv', index=False)\n",
    "mic_aa_cp.iloc[int(mic_aa_cp.shape[0]*0.9):,:].to_csv('data_new_rif/mic_aa_test_bi.csv', index=False)"
   ]
  },
  {
   "cell_type": "markdown",
   "metadata": {},
   "source": [
    "# high mid low binning"
   ]
  },
  {
   "cell_type": "code",
   "execution_count": 105,
   "metadata": {},
   "outputs": [
    {
     "data": {
      "text/plain": [
       "{0.03: 2273,\n",
       " 8.0: 2182,\n",
       " 0.12: 2087,\n",
       " 0.25: 717,\n",
       " 0.5: 185,\n",
       " 4.0: 161,\n",
       " 2.0: 149,\n",
       " 1.0: 114}"
      ]
     },
     "execution_count": 105,
     "metadata": {},
     "output_type": "execute_result"
    }
   ],
   "source": [
    "dict(mic_aa['RIF_MIC'].value_counts())"
   ]
  },
  {
   "cell_type": "code",
   "execution_count": 12,
   "metadata": {},
   "outputs": [
    {
     "ename": "NameError",
     "evalue": "name 'mic_aa' is not defined",
     "output_type": "error",
     "traceback": [
      "\u001b[0;31m---------------------------------------------------------------------------\u001b[0m",
      "\u001b[0;31mNameError\u001b[0m                                 Traceback (most recent call last)",
      "\u001b[0;32m/tmp/ipykernel_114410/1937356911.py\u001b[0m in \u001b[0;36m<module>\u001b[0;34m\u001b[0m\n\u001b[1;32m      2\u001b[0m \u001b[0;34m\u001b[0m\u001b[0m\n\u001b[1;32m      3\u001b[0m \u001b[0;31m# Extract the values from the 'RIF_MIC' column\u001b[0m\u001b[0;34m\u001b[0m\u001b[0;34m\u001b[0m\u001b[0m\n\u001b[0;32m----> 4\u001b[0;31m \u001b[0mrif_mic_values\u001b[0m \u001b[0;34m=\u001b[0m \u001b[0mmic_aa\u001b[0m\u001b[0;34m[\u001b[0m\u001b[0;34m'RIF_MIC'\u001b[0m\u001b[0;34m]\u001b[0m\u001b[0;34m.\u001b[0m\u001b[0mvalues\u001b[0m\u001b[0;34m\u001b[0m\u001b[0;34m\u001b[0m\u001b[0m\n\u001b[0m\u001b[1;32m      5\u001b[0m \u001b[0;34m\u001b[0m\u001b[0m\n\u001b[1;32m      6\u001b[0m \u001b[0;31m# Plot the histogram\u001b[0m\u001b[0;34m\u001b[0m\u001b[0;34m\u001b[0m\u001b[0m\n",
      "\u001b[0;31mNameError\u001b[0m: name 'mic_aa' is not defined"
     ]
    }
   ],
   "source": [
    "import matplotlib.pyplot as plt\n",
    "\n",
    "# Extract the values from the 'RIF_MIC' column\n",
    "rif_mic_values = mic_aa['RIF_MIC'].values\n",
    "\n",
    "# Plot the histogram\n",
    "plt.hist(rif_mic_values)\n",
    "\n",
    "# Add labels and title\n",
    "plt.xlabel('RIF_MIC')\n",
    "plt.ylabel('Frequency')\n",
    "plt.title('Histogram of RIF_MIC')\n",
    "\n",
    "# Display the plot\n",
    "plt.show()\n"
   ]
  },
  {
   "cell_type": "code",
   "execution_count": 13,
   "metadata": {},
   "outputs": [
    {
     "ename": "NameError",
     "evalue": "name 'mic_aa' is not defined",
     "output_type": "error",
     "traceback": [
      "\u001b[0;31m---------------------------------------------------------------------------\u001b[0m",
      "\u001b[0;31mNameError\u001b[0m                                 Traceback (most recent call last)",
      "\u001b[0;32m/tmp/ipykernel_114410/2468950957.py\u001b[0m in \u001b[0;36m<module>\u001b[0;34m\u001b[0m\n\u001b[1;32m      1\u001b[0m \u001b[0mencoded_mic\u001b[0m \u001b[0;34m=\u001b[0m \u001b[0;34m[\u001b[0m\u001b[0;34m]\u001b[0m\u001b[0;34m\u001b[0m\u001b[0;34m\u001b[0m\u001b[0m\n\u001b[0;32m----> 2\u001b[0;31m \u001b[0;32mfor\u001b[0m \u001b[0mvalue\u001b[0m \u001b[0;32min\u001b[0m \u001b[0mmic_aa\u001b[0m\u001b[0;34m[\u001b[0m\u001b[0;34m'RIF_MIC'\u001b[0m\u001b[0;34m]\u001b[0m\u001b[0;34m.\u001b[0m\u001b[0mvalues\u001b[0m\u001b[0;34m.\u001b[0m\u001b[0mastype\u001b[0m\u001b[0;34m(\u001b[0m\u001b[0mfloat\u001b[0m\u001b[0;34m)\u001b[0m\u001b[0;34m:\u001b[0m\u001b[0;34m\u001b[0m\u001b[0;34m\u001b[0m\u001b[0m\n\u001b[0m\u001b[1;32m      3\u001b[0m     \u001b[0;32mif\u001b[0m \u001b[0mvalue\u001b[0m \u001b[0;34m<=\u001b[0m \u001b[0;36m0.2\u001b[0m\u001b[0;34m:\u001b[0m\u001b[0;34m\u001b[0m\u001b[0;34m\u001b[0m\u001b[0m\n\u001b[1;32m      4\u001b[0m         \u001b[0mencoded_mic\u001b[0m\u001b[0;34m.\u001b[0m\u001b[0mappend\u001b[0m\u001b[0;34m(\u001b[0m\u001b[0;36m0\u001b[0m\u001b[0;34m)\u001b[0m  \u001b[0;31m# mic < 0.05\u001b[0m\u001b[0;34m\u001b[0m\u001b[0;34m\u001b[0m\u001b[0m\n\u001b[1;32m      5\u001b[0m     \u001b[0;32melif\u001b[0m \u001b[0;36m0.2\u001b[0m \u001b[0;34m<=\u001b[0m \u001b[0mvalue\u001b[0m \u001b[0;34m<\u001b[0m \u001b[0;36m0.5\u001b[0m\u001b[0;34m:\u001b[0m\u001b[0;34m\u001b[0m\u001b[0;34m\u001b[0m\u001b[0m\n",
      "\u001b[0;31mNameError\u001b[0m: name 'mic_aa' is not defined"
     ]
    }
   ],
   "source": [
    "encoded_mic = []\n",
    "for value in mic_aa['RIF_MIC'].values.astype(float):\n",
    "    if value <= 0.2:\n",
    "        encoded_mic.append(0)  # mic < 0.05\n",
    "    elif 0.2 <= value < 0.5:\n",
    "        encoded_mic.append(1)  # 0.05 <= mic < 0.12\n",
    "    elif 0.5 <= value < 8:\n",
    "        encoded_mic.append(2)  # 0.12 <= mic < 0.25\n",
    "    elif value >= 8:\n",
    "        encoded_mic.append(3)  # mic >= 8\n",
    "    else:\n",
    "        # print(value)\n",
    "        encoded_mic.append(np.nan)\n",
    "        \n",
    "        \n",
    "# encoded_mic = []\n",
    "# for value in mic_aa['RIF_MIC'].values.astype(float):\n",
    "#     if value <= 0.2:\n",
    "#         encoded_mic.append(0)  # mic < 0.05\n",
    "#     elif 0.2 <= value < 0.5:\n",
    "#         encoded_mic.append(1)  # 0.05 <= mic < 0.12\n",
    "#     elif 0.5 <= value < 8:\n",
    "#         encoded_mic.append(2)  # 0.12 <= mic < 0.25\n",
    "#     elif value >= 8:\n",
    "#         encoded_mic.append(3)  # mic >= 8\n",
    "#     else:\n",
    "#         # print(value)\n",
    "#         encoded_mic.append(np.nan)"
   ]
  },
  {
   "cell_type": "code",
   "execution_count": 14,
   "metadata": {},
   "outputs": [
    {
     "ename": "NameError",
     "evalue": "name 'mic_aa' is not defined",
     "output_type": "error",
     "traceback": [
      "\u001b[0;31m---------------------------------------------------------------------------\u001b[0m",
      "\u001b[0;31mNameError\u001b[0m                                 Traceback (most recent call last)",
      "\u001b[0;32m/tmp/ipykernel_114410/4226151145.py\u001b[0m in \u001b[0;36m<module>\u001b[0;34m\u001b[0m\n\u001b[0;32m----> 1\u001b[0;31m \u001b[0mmic_aa_cp\u001b[0m \u001b[0;34m=\u001b[0m \u001b[0mmic_aa\u001b[0m\u001b[0;34m.\u001b[0m\u001b[0mcopy\u001b[0m\u001b[0;34m(\u001b[0m\u001b[0;34m)\u001b[0m\u001b[0;34m\u001b[0m\u001b[0;34m\u001b[0m\u001b[0m\n\u001b[0m\u001b[1;32m      2\u001b[0m \u001b[0mmic_aa_cp\u001b[0m\u001b[0;34m[\u001b[0m\u001b[0;34m'RIF_MIC'\u001b[0m\u001b[0;34m]\u001b[0m \u001b[0;34m=\u001b[0m \u001b[0mencoded_mic\u001b[0m\u001b[0;34m\u001b[0m\u001b[0;34m\u001b[0m\u001b[0m\n\u001b[1;32m      3\u001b[0m \u001b[0mmic_aa_cp\u001b[0m\u001b[0;34m.\u001b[0m\u001b[0miloc\u001b[0m\u001b[0;34m[\u001b[0m\u001b[0;34m:\u001b[0m\u001b[0mint\u001b[0m\u001b[0;34m(\u001b[0m\u001b[0mmic_aa_cp\u001b[0m\u001b[0;34m.\u001b[0m\u001b[0mshape\u001b[0m\u001b[0;34m[\u001b[0m\u001b[0;36m0\u001b[0m\u001b[0;34m]\u001b[0m\u001b[0;34m*\u001b[0m\u001b[0;36m0.9\u001b[0m\u001b[0;34m)\u001b[0m\u001b[0;34m,\u001b[0m\u001b[0;34m:\u001b[0m\u001b[0;34m]\u001b[0m\u001b[0;34m.\u001b[0m\u001b[0mto_csv\u001b[0m\u001b[0;34m(\u001b[0m\u001b[0;34m'data_new_rif/mic_aa_train_hml.csv'\u001b[0m\u001b[0;34m,\u001b[0m \u001b[0mindex\u001b[0m\u001b[0;34m=\u001b[0m\u001b[0;32mFalse\u001b[0m\u001b[0;34m)\u001b[0m\u001b[0;34m\u001b[0m\u001b[0;34m\u001b[0m\u001b[0m\n\u001b[1;32m      4\u001b[0m \u001b[0mmic_aa_cp\u001b[0m\u001b[0;34m.\u001b[0m\u001b[0miloc\u001b[0m\u001b[0;34m[\u001b[0m\u001b[0mint\u001b[0m\u001b[0;34m(\u001b[0m\u001b[0mmic_aa_cp\u001b[0m\u001b[0;34m.\u001b[0m\u001b[0mshape\u001b[0m\u001b[0;34m[\u001b[0m\u001b[0;36m0\u001b[0m\u001b[0;34m]\u001b[0m\u001b[0;34m*\u001b[0m\u001b[0;36m0.9\u001b[0m\u001b[0;34m)\u001b[0m\u001b[0;34m:\u001b[0m\u001b[0;34m,\u001b[0m\u001b[0;34m:\u001b[0m\u001b[0;34m]\u001b[0m\u001b[0;34m.\u001b[0m\u001b[0mto_csv\u001b[0m\u001b[0;34m(\u001b[0m\u001b[0;34m'data_new_rif/mic_aa_test_hml.csv'\u001b[0m\u001b[0;34m,\u001b[0m \u001b[0mindex\u001b[0m\u001b[0;34m=\u001b[0m\u001b[0;32mFalse\u001b[0m\u001b[0;34m)\u001b[0m\u001b[0;34m\u001b[0m\u001b[0;34m\u001b[0m\u001b[0m\n",
      "\u001b[0;31mNameError\u001b[0m: name 'mic_aa' is not defined"
     ]
    }
   ],
   "source": [
    "mic_aa_cp = mic_aa.copy()\n",
    "mic_aa_cp['RIF_MIC'] = encoded_mic\n",
    "mic_aa_cp.iloc[:int(mic_aa_cp.shape[0]*0.9),:].to_csv('data_new_rif/mic_aa_train_hml.csv', index=False)\n",
    "mic_aa_cp.iloc[int(mic_aa_cp.shape[0]*0.9):,:].to_csv('data_new_rif/mic_aa_test_hml.csv', index=False)"
   ]
  },
  {
   "cell_type": "code",
   "execution_count": 15,
   "metadata": {},
   "outputs": [
    {
     "ename": "NameError",
     "evalue": "name 'mic_aa' is not defined",
     "output_type": "error",
     "traceback": [
      "\u001b[0;31m---------------------------------------------------------------------------\u001b[0m",
      "\u001b[0;31mNameError\u001b[0m                                 Traceback (most recent call last)",
      "\u001b[0;32m/tmp/ipykernel_114410/2475807697.py\u001b[0m in \u001b[0;36m<module>\u001b[0;34m\u001b[0m\n\u001b[1;32m      1\u001b[0m \u001b[0mencoded_mic\u001b[0m \u001b[0;34m=\u001b[0m \u001b[0;34m[\u001b[0m\u001b[0;34m]\u001b[0m\u001b[0;34m\u001b[0m\u001b[0;34m\u001b[0m\u001b[0m\n\u001b[0;32m----> 2\u001b[0;31m \u001b[0;32mfor\u001b[0m \u001b[0mvalue\u001b[0m \u001b[0;32min\u001b[0m \u001b[0mmic_aa\u001b[0m\u001b[0;34m[\u001b[0m\u001b[0;34m'RIF_MIC'\u001b[0m\u001b[0;34m]\u001b[0m\u001b[0;34m.\u001b[0m\u001b[0mvalues\u001b[0m\u001b[0;34m.\u001b[0m\u001b[0mastype\u001b[0m\u001b[0;34m(\u001b[0m\u001b[0mfloat\u001b[0m\u001b[0;34m)\u001b[0m\u001b[0;34m:\u001b[0m\u001b[0;34m\u001b[0m\u001b[0;34m\u001b[0m\u001b[0m\n\u001b[0m\u001b[1;32m      3\u001b[0m     \u001b[0;32mif\u001b[0m \u001b[0mvalue\u001b[0m \u001b[0;34m<=\u001b[0m \u001b[0;36m0.2\u001b[0m\u001b[0;34m:\u001b[0m\u001b[0;34m\u001b[0m\u001b[0;34m\u001b[0m\u001b[0m\n\u001b[1;32m      4\u001b[0m         \u001b[0mencoded_mic\u001b[0m\u001b[0;34m.\u001b[0m\u001b[0mappend\u001b[0m\u001b[0;34m(\u001b[0m\u001b[0;36m0\u001b[0m\u001b[0;34m)\u001b[0m  \u001b[0;31m# mic < 0.05\u001b[0m\u001b[0;34m\u001b[0m\u001b[0;34m\u001b[0m\u001b[0m\n\u001b[1;32m      5\u001b[0m     \u001b[0;32melif\u001b[0m \u001b[0;36m0.25\u001b[0m \u001b[0;34m<=\u001b[0m \u001b[0mvalue\u001b[0m \u001b[0;34m<=\u001b[0m \u001b[0;36m0.5\u001b[0m\u001b[0;34m:\u001b[0m\u001b[0;34m\u001b[0m\u001b[0;34m\u001b[0m\u001b[0m\n",
      "\u001b[0;31mNameError\u001b[0m: name 'mic_aa' is not defined"
     ]
    }
   ],
   "source": [
    "encoded_mic = []\n",
    "for value in mic_aa['RIF_MIC'].values.astype(float):\n",
    "    if value <= 0.2:\n",
    "        encoded_mic.append(0)  # mic < 0.05\n",
    "    elif 0.25 <= value <= 0.5:\n",
    "        encoded_mic.append(1)  # 0.05 <= mic < 0.12\n",
    "    elif value >= 0.5:\n",
    "        encoded_mic.append(2)  # mic >= 8\n",
    "    else:\n",
    "        # print(value)\n",
    "        encoded_mic.append(np.nan)"
   ]
  },
  {
   "cell_type": "code",
   "execution_count": 108,
   "metadata": {},
   "outputs": [],
   "source": [
    "mic_aa_cp = mic_aa.copy()\n",
    "mic_aa_cp['RIF_MIC'] = encoded_mic\n",
    "mic_aa_cp.iloc[:int(mic_aa_cp.shape[0]*0.9),:].to_csv('data_new_rif/mic_aa_train_hml3.csv', index=False)\n",
    "mic_aa_cp.iloc[int(mic_aa_cp.shape[0]*0.9):,:].to_csv('data_new_rif/mic_aa_test_hml3.csv', index=False)"
   ]
  },
  {
   "cell_type": "markdown",
   "metadata": {},
   "source": [
    "## sequence data"
   ]
  },
  {
   "cell_type": "code",
   "execution_count": 16,
   "metadata": {},
   "outputs": [],
   "source": [
    "df_seq= pd.read_csv('data1/gene_seq.csv')\n"
   ]
  },
  {
   "cell_type": "code",
   "execution_count": 17,
   "metadata": {},
   "outputs": [
    {
     "ename": "NameError",
     "evalue": "name 'variants' is not defined",
     "output_type": "error",
     "traceback": [
      "\u001b[0;31m---------------------------------------------------------------------------\u001b[0m",
      "\u001b[0;31mNameError\u001b[0m                                 Traceback (most recent call last)",
      "\u001b[0;32m/tmp/ipykernel_114410/456933813.py\u001b[0m in \u001b[0;36m<module>\u001b[0;34m\u001b[0m\n\u001b[0;32m----> 1\u001b[0;31m \u001b[0mdf_seq\u001b[0m \u001b[0;34m=\u001b[0m \u001b[0mdf_seq\u001b[0m\u001b[0;34m[\u001b[0m\u001b[0mdf_seq\u001b[0m\u001b[0;34m[\u001b[0m\u001b[0;34m'wgs_id'\u001b[0m\u001b[0;34m]\u001b[0m\u001b[0;34m.\u001b[0m\u001b[0misin\u001b[0m\u001b[0;34m(\u001b[0m\u001b[0mvariants\u001b[0m\u001b[0;34m[\u001b[0m\u001b[0;34m'sample_id'\u001b[0m\u001b[0;34m]\u001b[0m\u001b[0;34m.\u001b[0m\u001b[0munique\u001b[0m\u001b[0;34m(\u001b[0m\u001b[0;34m)\u001b[0m\u001b[0;34m)\u001b[0m\u001b[0;34m]\u001b[0m\u001b[0;31m#.iloc[:,14:27]\u001b[0m\u001b[0;34m\u001b[0m\u001b[0;34m\u001b[0m\u001b[0m\n\u001b[0m\u001b[1;32m      2\u001b[0m \u001b[0;31m# df_seq['wgs_id'] = pd.Categorical(df_seq['wgs_id'], categories=variants['sample_id'].unique().tolist(), ordered=True)\u001b[0m\u001b[0;34m\u001b[0m\u001b[0;34m\u001b[0m\u001b[0m\n\u001b[1;32m      3\u001b[0m \u001b[0;31m# df_seq = df_seq.sort_values('wgs_id')\u001b[0m\u001b[0;34m\u001b[0m\u001b[0;34m\u001b[0m\u001b[0m\n\u001b[1;32m      4\u001b[0m \u001b[0mdf_seq\u001b[0m\u001b[0;34m.\u001b[0m\u001b[0mwgs_id\u001b[0m \u001b[0;34m=\u001b[0m \u001b[0mdf_seq\u001b[0m\u001b[0;34m.\u001b[0m\u001b[0mwgs_id\u001b[0m\u001b[0;34m.\u001b[0m\u001b[0mastype\u001b[0m\u001b[0;34m(\u001b[0m\u001b[0;34m'category'\u001b[0m\u001b[0;34m)\u001b[0m\u001b[0;34m\u001b[0m\u001b[0;34m\u001b[0m\u001b[0m\n\u001b[1;32m      5\u001b[0m \u001b[0mdf_seq\u001b[0m\u001b[0;34m.\u001b[0m\u001b[0mwgs_id\u001b[0m \u001b[0;34m=\u001b[0m \u001b[0mdf_seq\u001b[0m\u001b[0;34m.\u001b[0m\u001b[0mwgs_id\u001b[0m\u001b[0;34m.\u001b[0m\u001b[0mcat\u001b[0m\u001b[0;34m.\u001b[0m\u001b[0mset_categories\u001b[0m\u001b[0;34m(\u001b[0m\u001b[0mvariants\u001b[0m\u001b[0;34m[\u001b[0m\u001b[0;34m'sample_id'\u001b[0m\u001b[0;34m]\u001b[0m\u001b[0;34m.\u001b[0m\u001b[0munique\u001b[0m\u001b[0;34m(\u001b[0m\u001b[0;34m)\u001b[0m\u001b[0;34m.\u001b[0m\u001b[0mtolist\u001b[0m\u001b[0;34m(\u001b[0m\u001b[0;34m)\u001b[0m\u001b[0;34m)\u001b[0m\u001b[0;34m\u001b[0m\u001b[0;34m\u001b[0m\u001b[0m\n",
      "\u001b[0;31mNameError\u001b[0m: name 'variants' is not defined"
     ]
    }
   ],
   "source": [
    "df_seq = df_seq[df_seq['wgs_id'].isin(variants['sample_id'].unique())]#.iloc[:,14:27]\n",
    "# df_seq['wgs_id'] = pd.Categorical(df_seq['wgs_id'], categories=variants['sample_id'].unique().tolist(), ordered=True)\n",
    "# df_seq = df_seq.sort_values('wgs_id')\n",
    "df_seq.wgs_id = df_seq.wgs_id.astype('category')\n",
    "df_seq.wgs_id = df_seq.wgs_id.cat.set_categories(variants['sample_id'].unique().tolist())\n",
    "df_seq = df_seq.sort_values([\"wgs_id\"])  ## 'sort' changed to 'sort_values'\n",
    "\n",
    "df_seq.iloc[:int(df_seq.shape[0]*0.9),:].to_csv('data_new_rif/gene_seq_train.csv', index=False)\n",
    "df_seq.iloc[int(df_seq.shape[0]*0.9):,:].to_csv('data_new_rif/gene_seq_test.csv', index=False)"
   ]
  },
  {
   "cell_type": "code",
   "execution_count": 100,
   "metadata": {},
   "outputs": [
    {
     "name": "stderr",
     "output_type": "stream",
     "text": [
      "/tmp/ipykernel_12566/1637526391.py:4: SettingWithCopyWarning: \n",
      "A value is trying to be set on a copy of a slice from a DataFrame.\n",
      "Try using .loc[row_indexer,col_indexer] = value instead\n",
      "\n",
      "See the caveats in the documentation: https://pandas.pydata.org/pandas-docs/stable/user_guide/indexing.html#returning-a-view-versus-a-copy\n",
      "  mic_aa.ENA_RUN = mic_aa.ENA_RUN.astype('category')\n",
      "/tmp/ipykernel_12566/1637526391.py:5: SettingWithCopyWarning: \n",
      "A value is trying to be set on a copy of a slice from a DataFrame.\n",
      "Try using .loc[row_indexer,col_indexer] = value instead\n",
      "\n",
      "See the caveats in the documentation: https://pandas.pydata.org/pandas-docs/stable/user_guide/indexing.html#returning-a-view-versus-a-copy\n",
      "  mic_aa.ENA_RUN = mic_aa.ENA_RUN.cat.set_categories(df_seq['wgs_id'].unique().tolist())\n"
     ]
    }
   ],
   "source": [
    "mic_aa = cryptic[cryptic['ENA_RUN'].isin(df_seq['wgs_id'].unique())]#.iloc[:,14:27]\n",
    "# mic_aa['wgs_id'] = pd.Categorical(mic_aa['ENA_RUN'], categories=variants['sample_id'].unique().tolist(), ordered=True)\n",
    "# mic_aa = mic_aa.sort_values('ENA_RUN')\n",
    "mic_aa.ENA_RUN = mic_aa.ENA_RUN.astype('category')\n",
    "mic_aa.ENA_RUN = mic_aa.ENA_RUN.cat.set_categories(df_seq['wgs_id'].unique().tolist())\n",
    "mic_aa = mic_aa.sort_values([\"ENA_RUN\"])  ## 'sort' changed to 'sort_values'\n",
    "\n",
    "mic_aa.iloc[:int(mic_aa.shape[0]*0.9),:].to_csv('data_new_rif/mic_seq_train.csv', index=False)\n",
    "mic_aa.iloc[int(mic_aa.shape[0]*0.9):,:].to_csv('data_new_rif/mic_seq_test.csv', index=False)"
   ]
  },
  {
   "cell_type": "markdown",
   "metadata": {},
   "source": [
    "## EMB"
   ]
  },
  {
   "cell_type": "markdown",
   "metadata": {},
   "source": [
    "Susceptible Conc.\t| Intermediate Conc. | \tResistant Conc.\n",
    "\n",
    "<=2\t|  4\t| >=8"
   ]
  },
  {
   "cell_type": "code",
   "execution_count": 274,
   "metadata": {},
   "outputs": [],
   "source": [
    "df_emb = df[df['EMB_MIC'].isin(['>8','8.0', '4.0', '2.0', '1.0', '0.5', '0.25', '<=0.25'])]\n",
    "df_emb = df_emb[~df_emb['ENA_RUN'].isin(to_be_dropped)]\n",
    "for i, row in df_emb.iterrows():\n",
    "    x = 'EMB_MIC'\n",
    "    if row[x] == '>8' :\n",
    "        df_emb.loc[i, f'{x}'] = '16'\n",
    "    elif row[x] == '<=0.25':\n",
    "        df_emb.loc[i, f'{x}'] = '0.125'\n",
    "        \n",
    "df_emb['EMB_MIC'] = df_emb['EMB_MIC'].astype('float') "
   ]
  },
  {
   "cell_type": "code",
   "execution_count": 171,
   "metadata": {},
   "outputs": [
    {
     "data": {
      "text/plain": [
       "0        1.0\n",
       "1        1.0\n",
       "2        2.0\n",
       "3        1.0\n",
       "4        2.0\n",
       "        ... \n",
       "12281    2.0\n",
       "12282    2.0\n",
       "12283    1.0\n",
       "12285    2.0\n",
       "12286    2.0\n",
       "Name: EMB_MIC, Length: 11762, dtype: float64"
      ]
     },
     "execution_count": 171,
     "metadata": {},
     "output_type": "execute_result"
    }
   ],
   "source": [
    "df_emb['EMB_MIC']"
   ]
  },
  {
   "cell_type": "code",
   "execution_count": 172,
   "metadata": {},
   "outputs": [
    {
     "data": {
      "image/png": "[encoded data removed]",
      "text/plain": [
       "<Figure size 432x288 with 1 Axes>"
      ]
     },
     "metadata": {
      "needs_background": "light"
     },
     "output_type": "display_data"
    }
   ],
   "source": [
    "import matplotlib.pyplot as plt\n",
    "\n",
    "# Extract the values from the 'RIF_MIC' column\n",
    "emb_mic_values = df_emb['EMB_MIC'].values\n",
    "\n",
    "# Plot the histogram\n",
    "plt.hist(emb_mic_values)\n",
    "\n",
    "# Add labels and title\n",
    "plt.xlabel('EMB_MIC')\n",
    "plt.ylabel('Frequency')\n",
    "plt.title('Histogram of EMB_MIC')\n",
    "\n",
    "# Display the plot\n",
    "plt.show()"
   ]
  },
  {
   "cell_type": "code",
   "execution_count": 158,
   "metadata": {},
   "outputs": [
    {
     "data": {
      "text/html": [
       "<div>\n",
       "<style scoped>\n",
       "    .dataframe tbody tr th:only-of-type {\n",
       "        vertical-align: middle;\n",
       "    }\n",
       "\n",
       "    .dataframe tbody tr th {\n",
       "        vertical-align: top;\n",
       "    }\n",
       "\n",
       "    .dataframe thead th {\n",
       "        text-align: right;\n",
       "    }\n",
       "</style>\n",
       "<table border=\"1\" class=\"dataframe\">\n",
       "  <thead>\n",
       "    <tr style=\"text-align: right;\">\n",
       "      <th></th>\n",
       "      <th>ENA_RUN</th>\n",
       "      <th>UNIQUEID</th>\n",
       "      <th>AMI_BINARY_PHENOTYPE</th>\n",
       "      <th>BDQ_BINARY_PHENOTYPE</th>\n",
       "      <th>CFZ_BINARY_PHENOTYPE</th>\n",
       "      <th>DLM_BINARY_PHENOTYPE</th>\n",
       "      <th>EMB_BINARY_PHENOTYPE</th>\n",
       "      <th>ETH_BINARY_PHENOTYPE</th>\n",
       "      <th>INH_BINARY_PHENOTYPE</th>\n",
       "      <th>KAN_BINARY_PHENOTYPE</th>\n",
       "      <th>...</th>\n",
       "      <th>INH_PHENOTYPE_QUALITY</th>\n",
       "      <th>KAN_PHENOTYPE_QUALITY</th>\n",
       "      <th>LEV_PHENOTYPE_QUALITY</th>\n",
       "      <th>LZD_PHENOTYPE_QUALITY</th>\n",
       "      <th>MXF_PHENOTYPE_QUALITY</th>\n",
       "      <th>RIF_PHENOTYPE_QUALITY</th>\n",
       "      <th>RFB_PHENOTYPE_QUALITY</th>\n",
       "      <th>ENA_SAMPLE</th>\n",
       "      <th>VCF</th>\n",
       "      <th>REGENOTYPED_VCF</th>\n",
       "    </tr>\n",
       "  </thead>\n",
       "  <tbody>\n",
       "    <tr>\n",
       "      <th>0</th>\n",
       "      <td>ERR4810489</td>\n",
       "      <td>site.02.subj.0001.lab.2014222001.iso.1</td>\n",
       "      <td>S</td>\n",
       "      <td>NaN</td>\n",
       "      <td>S</td>\n",
       "      <td>S</td>\n",
       "      <td>S</td>\n",
       "      <td>S</td>\n",
       "      <td>S</td>\n",
       "      <td>S</td>\n",
       "      <td>...</td>\n",
       "      <td>HIGH</td>\n",
       "      <td>HIGH</td>\n",
       "      <td>HIGH</td>\n",
       "      <td>HIGH</td>\n",
       "      <td>HIGH</td>\n",
       "      <td>HIGH</td>\n",
       "      <td>HIGH</td>\n",
       "      <td>ERS5298516</td>\n",
       "      <td>00/01/08/61/10861/site.02.iso.1.subject.0001.l...</td>\n",
       "      <td>00/01/08/61/10861/site.02.iso.1.subject.0001.l...</td>\n",
       "    </tr>\n",
       "    <tr>\n",
       "      <th>1</th>\n",
       "      <td>ERR4810491</td>\n",
       "      <td>site.02.subj.0002.lab.2014222005.iso.1</td>\n",
       "      <td>S</td>\n",
       "      <td>S</td>\n",
       "      <td>S</td>\n",
       "      <td>S</td>\n",
       "      <td>S</td>\n",
       "      <td>S</td>\n",
       "      <td>S</td>\n",
       "      <td>S</td>\n",
       "      <td>...</td>\n",
       "      <td>HIGH</td>\n",
       "      <td>HIGH</td>\n",
       "      <td>HIGH</td>\n",
       "      <td>HIGH</td>\n",
       "      <td>LOW</td>\n",
       "      <td>HIGH</td>\n",
       "      <td>HIGH</td>\n",
       "      <td>ERS5298518</td>\n",
       "      <td>00/01/08/63/10863/site.02.iso.1.subject.0002.l...</td>\n",
       "      <td>00/01/08/63/10863/site.02.iso.1.subject.0002.l...</td>\n",
       "    </tr>\n",
       "    <tr>\n",
       "      <th>2</th>\n",
       "      <td>ERR4810493</td>\n",
       "      <td>site.02.subj.0004.lab.2014222010.iso.1</td>\n",
       "      <td>S</td>\n",
       "      <td>S</td>\n",
       "      <td>S</td>\n",
       "      <td>NaN</td>\n",
       "      <td>S</td>\n",
       "      <td>I</td>\n",
       "      <td>S</td>\n",
       "      <td>S</td>\n",
       "      <td>...</td>\n",
       "      <td>HIGH</td>\n",
       "      <td>HIGH</td>\n",
       "      <td>HIGH</td>\n",
       "      <td>HIGH</td>\n",
       "      <td>HIGH</td>\n",
       "      <td>HIGH</td>\n",
       "      <td>HIGH</td>\n",
       "      <td>ERS5298520</td>\n",
       "      <td>00/01/08/67/10867/site.02.iso.1.subject.0004.l...</td>\n",
       "      <td>00/01/08/67/10867/site.02.iso.1.subject.0004.l...</td>\n",
       "    </tr>\n",
       "    <tr>\n",
       "      <th>3</th>\n",
       "      <td>ERR4810494</td>\n",
       "      <td>site.02.subj.0005.lab.2014222011.iso.1</td>\n",
       "      <td>S</td>\n",
       "      <td>S</td>\n",
       "      <td>S</td>\n",
       "      <td>S</td>\n",
       "      <td>S</td>\n",
       "      <td>S</td>\n",
       "      <td>S</td>\n",
       "      <td>S</td>\n",
       "      <td>...</td>\n",
       "      <td>HIGH</td>\n",
       "      <td>HIGH</td>\n",
       "      <td>HIGH</td>\n",
       "      <td>HIGH</td>\n",
       "      <td>HIGH</td>\n",
       "      <td>HIGH</td>\n",
       "      <td>HIGH</td>\n",
       "      <td>ERS5298521</td>\n",
       "      <td>00/01/08/68/10868/site.02.iso.1.subject.0005.l...</td>\n",
       "      <td>00/01/08/68/10868/site.02.iso.1.subject.0005.l...</td>\n",
       "    </tr>\n",
       "    <tr>\n",
       "      <th>4</th>\n",
       "      <td>ERR4810495</td>\n",
       "      <td>site.02.subj.0006.lab.2014222013.iso.1</td>\n",
       "      <td>S</td>\n",
       "      <td>S</td>\n",
       "      <td>S</td>\n",
       "      <td>S</td>\n",
       "      <td>S</td>\n",
       "      <td>S</td>\n",
       "      <td>S</td>\n",
       "      <td>S</td>\n",
       "      <td>...</td>\n",
       "      <td>HIGH</td>\n",
       "      <td>HIGH</td>\n",
       "      <td>HIGH</td>\n",
       "      <td>HIGH</td>\n",
       "      <td>HIGH</td>\n",
       "      <td>HIGH</td>\n",
       "      <td>HIGH</td>\n",
       "      <td>ERS5298522</td>\n",
       "      <td>00/01/08/69/10869/site.02.iso.1.subject.0006.l...</td>\n",
       "      <td>00/01/08/69/10869/site.02.iso.1.subject.0006.l...</td>\n",
       "    </tr>\n",
       "    <tr>\n",
       "      <th>...</th>\n",
       "      <td>...</td>\n",
       "      <td>...</td>\n",
       "      <td>...</td>\n",
       "      <td>...</td>\n",
       "      <td>...</td>\n",
       "      <td>...</td>\n",
       "      <td>...</td>\n",
       "      <td>...</td>\n",
       "      <td>...</td>\n",
       "      <td>...</td>\n",
       "      <td>...</td>\n",
       "      <td>...</td>\n",
       "      <td>...</td>\n",
       "      <td>...</td>\n",
       "      <td>...</td>\n",
       "      <td>...</td>\n",
       "      <td>...</td>\n",
       "      <td>...</td>\n",
       "      <td>...</td>\n",
       "      <td>...</td>\n",
       "      <td>...</td>\n",
       "    </tr>\n",
       "    <tr>\n",
       "      <th>12281</th>\n",
       "      <td>ERR8699805</td>\n",
       "      <td>site.20.subj.SCH8601357.lab.YA00134970.iso.1</td>\n",
       "      <td>S</td>\n",
       "      <td>S</td>\n",
       "      <td>S</td>\n",
       "      <td>S</td>\n",
       "      <td>S</td>\n",
       "      <td>I</td>\n",
       "      <td>R</td>\n",
       "      <td>S</td>\n",
       "      <td>...</td>\n",
       "      <td>HIGH</td>\n",
       "      <td>HIGH</td>\n",
       "      <td>LOW</td>\n",
       "      <td>LOW</td>\n",
       "      <td>LOW</td>\n",
       "      <td>HIGH</td>\n",
       "      <td>HIGH</td>\n",
       "      <td>ERS6421705</td>\n",
       "      <td>00/02/91/38/29138/site.20.iso.1.subject.SCH860...</td>\n",
       "      <td>00/02/91/38/29138/site.20.iso.1.subject.SCH860...</td>\n",
       "    </tr>\n",
       "    <tr>\n",
       "      <th>12282</th>\n",
       "      <td>ERR8699231</td>\n",
       "      <td>site.20.subj.SCH8604398.lab.YA00134621.iso.1</td>\n",
       "      <td>S</td>\n",
       "      <td>S</td>\n",
       "      <td>S</td>\n",
       "      <td>S</td>\n",
       "      <td>S</td>\n",
       "      <td>S</td>\n",
       "      <td>S</td>\n",
       "      <td>S</td>\n",
       "      <td>...</td>\n",
       "      <td>HIGH</td>\n",
       "      <td>HIGH</td>\n",
       "      <td>LOW</td>\n",
       "      <td>HIGH</td>\n",
       "      <td>LOW</td>\n",
       "      <td>HIGH</td>\n",
       "      <td>HIGH</td>\n",
       "      <td>ERS6421619</td>\n",
       "      <td>00/02/83/85/28385/site.20.iso.1.subject.SCH860...</td>\n",
       "      <td>00/02/83/85/28385/site.20.iso.1.subject.SCH860...</td>\n",
       "    </tr>\n",
       "    <tr>\n",
       "      <th>12283</th>\n",
       "      <td>ERR8699764</td>\n",
       "      <td>site.20.subj.SCH8604399.lab.YA00134971.iso.1</td>\n",
       "      <td>S</td>\n",
       "      <td>S</td>\n",
       "      <td>S</td>\n",
       "      <td>S</td>\n",
       "      <td>S</td>\n",
       "      <td>S</td>\n",
       "      <td>S</td>\n",
       "      <td>S</td>\n",
       "      <td>...</td>\n",
       "      <td>HIGH</td>\n",
       "      <td>LOW</td>\n",
       "      <td>HIGH</td>\n",
       "      <td>HIGH</td>\n",
       "      <td>LOW</td>\n",
       "      <td>LOW</td>\n",
       "      <td>HIGH</td>\n",
       "      <td>ERS6421664</td>\n",
       "      <td>00/02/84/35/28435/site.20.iso.1.subject.SCH860...</td>\n",
       "      <td>00/02/84/35/28435/site.20.iso.1.subject.SCH860...</td>\n",
       "    </tr>\n",
       "    <tr>\n",
       "      <th>12285</th>\n",
       "      <td>ERR8699232</td>\n",
       "      <td>site.20.subj.SCH8608295.lab.YA00134623.iso.1</td>\n",
       "      <td>S</td>\n",
       "      <td>S</td>\n",
       "      <td>S</td>\n",
       "      <td>S</td>\n",
       "      <td>S</td>\n",
       "      <td>S</td>\n",
       "      <td>S</td>\n",
       "      <td>S</td>\n",
       "      <td>...</td>\n",
       "      <td>HIGH</td>\n",
       "      <td>HIGH</td>\n",
       "      <td>LOW</td>\n",
       "      <td>HIGH</td>\n",
       "      <td>LOW</td>\n",
       "      <td>HIGH</td>\n",
       "      <td>HIGH</td>\n",
       "      <td>ERS6421620</td>\n",
       "      <td>00/02/83/86/28386/site.20.iso.1.subject.SCH860...</td>\n",
       "      <td>00/02/83/86/28386/site.20.iso.1.subject.SCH860...</td>\n",
       "    </tr>\n",
       "    <tr>\n",
       "      <th>12286</th>\n",
       "      <td>ERR8699267</td>\n",
       "      <td>site.20.subj.SCH8612323.lab.YA00134624.iso.1</td>\n",
       "      <td>S</td>\n",
       "      <td>S</td>\n",
       "      <td>S</td>\n",
       "      <td>S</td>\n",
       "      <td>S</td>\n",
       "      <td>S</td>\n",
       "      <td>S</td>\n",
       "      <td>S</td>\n",
       "      <td>...</td>\n",
       "      <td>LOW</td>\n",
       "      <td>HIGH</td>\n",
       "      <td>LOW</td>\n",
       "      <td>LOW</td>\n",
       "      <td>LOW</td>\n",
       "      <td>HIGH</td>\n",
       "      <td>HIGH</td>\n",
       "      <td>ERS6421621</td>\n",
       "      <td>00/02/83/87/28387/site.20.iso.1.subject.SCH861...</td>\n",
       "      <td>00/02/83/87/28387/site.20.iso.1.subject.SCH861...</td>\n",
       "    </tr>\n",
       "  </tbody>\n",
       "</table>\n",
       "<p>11762 rows × 44 columns</p>\n",
       "</div>"
      ],
      "text/plain": [
       "          ENA_RUN                                      UNIQUEID   \n",
       "0      ERR4810489        site.02.subj.0001.lab.2014222001.iso.1  \\\n",
       "1      ERR4810491        site.02.subj.0002.lab.2014222005.iso.1   \n",
       "2      ERR4810493        site.02.subj.0004.lab.2014222010.iso.1   \n",
       "3      ERR4810494        site.02.subj.0005.lab.2014222011.iso.1   \n",
       "4      ERR4810495        site.02.subj.0006.lab.2014222013.iso.1   \n",
       "...           ...                                           ...   \n",
       "12281  ERR8699805  site.20.subj.SCH8601357.lab.YA00134970.iso.1   \n",
       "12282  ERR8699231  site.20.subj.SCH8604398.lab.YA00134621.iso.1   \n",
       "12283  ERR8699764  site.20.subj.SCH8604399.lab.YA00134971.iso.1   \n",
       "12285  ERR8699232  site.20.subj.SCH8608295.lab.YA00134623.iso.1   \n",
       "12286  ERR8699267  site.20.subj.SCH8612323.lab.YA00134624.iso.1   \n",
       "\n",
       "      AMI_BINARY_PHENOTYPE BDQ_BINARY_PHENOTYPE CFZ_BINARY_PHENOTYPE   \n",
       "0                        S                  NaN                    S  \\\n",
       "1                        S                    S                    S   \n",
       "2                        S                    S                    S   \n",
       "3                        S                    S                    S   \n",
       "4                        S                    S                    S   \n",
       "...                    ...                  ...                  ...   \n",
       "12281                    S                    S                    S   \n",
       "12282                    S                    S                    S   \n",
       "12283                    S                    S                    S   \n",
       "12285                    S                    S                    S   \n",
       "12286                    S                    S                    S   \n",
       "\n",
       "      DLM_BINARY_PHENOTYPE EMB_BINARY_PHENOTYPE ETH_BINARY_PHENOTYPE   \n",
       "0                        S                    S                    S  \\\n",
       "1                        S                    S                    S   \n",
       "2                      NaN                    S                    I   \n",
       "3                        S                    S                    S   \n",
       "4                        S                    S                    S   \n",
       "...                    ...                  ...                  ...   \n",
       "12281                    S                    S                    I   \n",
       "12282                    S                    S                    S   \n",
       "12283                    S                    S                    S   \n",
       "12285                    S                    S                    S   \n",
       "12286                    S                    S                    S   \n",
       "\n",
       "      INH_BINARY_PHENOTYPE KAN_BINARY_PHENOTYPE  ... INH_PHENOTYPE_QUALITY   \n",
       "0                        S                    S  ...                  HIGH  \\\n",
       "1                        S                    S  ...                  HIGH   \n",
       "2                        S                    S  ...                  HIGH   \n",
       "3                        S                    S  ...                  HIGH   \n",
       "4                        S                    S  ...                  HIGH   \n",
       "...                    ...                  ...  ...                   ...   \n",
       "12281                    R                    S  ...                  HIGH   \n",
       "12282                    S                    S  ...                  HIGH   \n",
       "12283                    S                    S  ...                  HIGH   \n",
       "12285                    S                    S  ...                  HIGH   \n",
       "12286                    S                    S  ...                   LOW   \n",
       "\n",
       "      KAN_PHENOTYPE_QUALITY LEV_PHENOTYPE_QUALITY LZD_PHENOTYPE_QUALITY   \n",
       "0                      HIGH                  HIGH                  HIGH  \\\n",
       "1                      HIGH                  HIGH                  HIGH   \n",
       "2                      HIGH                  HIGH                  HIGH   \n",
       "3                      HIGH                  HIGH                  HIGH   \n",
       "4                      HIGH                  HIGH                  HIGH   \n",
       "...                     ...                   ...                   ...   \n",
       "12281                  HIGH                   LOW                   LOW   \n",
       "12282                  HIGH                   LOW                  HIGH   \n",
       "12283                   LOW                  HIGH                  HIGH   \n",
       "12285                  HIGH                   LOW                  HIGH   \n",
       "12286                  HIGH                   LOW                   LOW   \n",
       "\n",
       "      MXF_PHENOTYPE_QUALITY RIF_PHENOTYPE_QUALITY RFB_PHENOTYPE_QUALITY   \n",
       "0                      HIGH                  HIGH                  HIGH  \\\n",
       "1                       LOW                  HIGH                  HIGH   \n",
       "2                      HIGH                  HIGH                  HIGH   \n",
       "3                      HIGH                  HIGH                  HIGH   \n",
       "4                      HIGH                  HIGH                  HIGH   \n",
       "...                     ...                   ...                   ...   \n",
       "12281                   LOW                  HIGH                  HIGH   \n",
       "12282                   LOW                  HIGH                  HIGH   \n",
       "12283                   LOW                   LOW                  HIGH   \n",
       "12285                   LOW                  HIGH                  HIGH   \n",
       "12286                   LOW                  HIGH                  HIGH   \n",
       "\n",
       "       ENA_SAMPLE                                                VCF   \n",
       "0      ERS5298516  00/01/08/61/10861/site.02.iso.1.subject.0001.l...  \\\n",
       "1      ERS5298518  00/01/08/63/10863/site.02.iso.1.subject.0002.l...   \n",
       "2      ERS5298520  00/01/08/67/10867/site.02.iso.1.subject.0004.l...   \n",
       "3      ERS5298521  00/01/08/68/10868/site.02.iso.1.subject.0005.l...   \n",
       "4      ERS5298522  00/01/08/69/10869/site.02.iso.1.subject.0006.l...   \n",
       "...           ...                                                ...   \n",
       "12281  ERS6421705  00/02/91/38/29138/site.20.iso.1.subject.SCH860...   \n",
       "12282  ERS6421619  00/02/83/85/28385/site.20.iso.1.subject.SCH860...   \n",
       "12283  ERS6421664  00/02/84/35/28435/site.20.iso.1.subject.SCH860...   \n",
       "12285  ERS6421620  00/02/83/86/28386/site.20.iso.1.subject.SCH860...   \n",
       "12286  ERS6421621  00/02/83/87/28387/site.20.iso.1.subject.SCH861...   \n",
       "\n",
       "                                         REGENOTYPED_VCF  \n",
       "0      00/01/08/61/10861/site.02.iso.1.subject.0001.l...  \n",
       "1      00/01/08/63/10863/site.02.iso.1.subject.0002.l...  \n",
       "2      00/01/08/67/10867/site.02.iso.1.subject.0004.l...  \n",
       "3      00/01/08/68/10868/site.02.iso.1.subject.0005.l...  \n",
       "4      00/01/08/69/10869/site.02.iso.1.subject.0006.l...  \n",
       "...                                                  ...  \n",
       "12281  00/02/91/38/29138/site.20.iso.1.subject.SCH860...  \n",
       "12282  00/02/83/85/28385/site.20.iso.1.subject.SCH860...  \n",
       "12283  00/02/84/35/28435/site.20.iso.1.subject.SCH860...  \n",
       "12285  00/02/83/86/28386/site.20.iso.1.subject.SCH860...  \n",
       "12286  00/02/83/87/28387/site.20.iso.1.subject.SCH861...  \n",
       "\n",
       "[11762 rows x 44 columns]"
      ]
     },
     "execution_count": 158,
     "metadata": {},
     "output_type": "execute_result"
    }
   ],
   "source": [
    "df_emb"
   ]
  },
  {
   "cell_type": "code",
   "execution_count": 35,
   "metadata": {},
   "outputs": [
    {
     "data": {
      "text/plain": [
       "(7420996, 9)"
      ]
     },
     "execution_count": 35,
     "metadata": {},
     "output_type": "execute_result"
    }
   ],
   "source": [
    "variants = pd.read_csv('variants_full.csv')\n",
    "variants.shape"
   ]
  },
  {
   "cell_type": "markdown",
   "metadata": {},
   "source": [
    "### Testing the MIC for new threshold"
   ]
  },
  {
   "cell_type": "code",
   "execution_count": null,
   "metadata": {},
   "outputs": [],
   "source": []
  },
  {
   "cell_type": "code",
   "execution_count": 3,
   "metadata": {},
   "outputs": [
    {
     "ename": "NameError",
     "evalue": "name 'variants' is not defined",
     "output_type": "error",
     "traceback": [
      "\u001b[0;31m---------------------------------------------------------------------------\u001b[0m",
      "\u001b[0;31mNameError\u001b[0m                                 Traceback (most recent call last)",
      "\u001b[0;32m/tmp/ipykernel_10719/3175884998.py\u001b[0m in \u001b[0;36m<module>\u001b[0;34m\u001b[0m\n\u001b[1;32m     12\u001b[0m \u001b[0;34m\u001b[0m\u001b[0m\n\u001b[1;32m     13\u001b[0m \u001b[0;31m# variants[~variants['drugs'].isna()]\u001b[0m\u001b[0;34m\u001b[0m\u001b[0;34m\u001b[0m\u001b[0m\n\u001b[0;32m---> 14\u001b[0;31m \u001b[0memb_val\u001b[0m \u001b[0;34m=\u001b[0m \u001b[0mvariants\u001b[0m\u001b[0;34m[\u001b[0m\u001b[0mvariants\u001b[0m\u001b[0;34m[\u001b[0m\u001b[0;34m'drugs'\u001b[0m\u001b[0;34m]\u001b[0m\u001b[0;34m==\u001b[0m\u001b[0;34m'ethambutol'\u001b[0m\u001b[0;34m]\u001b[0m\u001b[0;34m\u001b[0m\u001b[0;34m\u001b[0m\u001b[0m\n\u001b[0m\u001b[1;32m     15\u001b[0m \u001b[0;34m\u001b[0m\u001b[0m\n\u001b[1;32m     16\u001b[0m \u001b[0memb_val\u001b[0m \u001b[0;34m=\u001b[0m \u001b[0mvariants\u001b[0m\u001b[0;34m[\u001b[0m\u001b[0mvariants\u001b[0m\u001b[0;34m[\u001b[0m\u001b[0;34m'drugs'\u001b[0m\u001b[0;34m]\u001b[0m\u001b[0;34m==\u001b[0m\u001b[0;34m'ethambutol'\u001b[0m\u001b[0;34m]\u001b[0m\u001b[0;34m\u001b[0m\u001b[0;34m\u001b[0m\u001b[0m\n",
      "\u001b[0;31mNameError\u001b[0m: name 'variants' is not defined"
     ]
    }
   ],
   "source": [
    "# test = pd.read_csv('/mnt/storageG1/lwang/Projects/tb_dr_MIC_v2/CRyPTIC_reuse_table_20221019_cleaned.csv')\n",
    "# test['RIF_MIC'] = np.where(test['RIF_MIC'] == '>4', 8, test['RIF_MIC'])\n",
    "# test['RIF_MIC'] = test['RIF_MIC'].dropna().astype(float)\n",
    "# test['RFB_MIC'] = test['RFB_MIC'].dropna().astype(float)\n",
    "\n",
    "# # variants[~variants['drugs'].isna()]\n",
    "\n",
    "df_emb = pd.read_csv('/mnt/storageG1/lwang/Projects/tb_dr_MIC_v2/CRyPTIC_reuse_table_20221019_cleaned.csv')\n",
    "df_emb['RIF_MIC'] = np.where(df_emb['RIF_MIC'] == '>4', 8, df_emb['RIF_MIC'])\n",
    "df_emb['RIF_MIC'] = df_emb['RIF_MIC'].dropna().astype(float)\n",
    "df_emb['RFB_MIC'] = df_emb['RFB_MIC'].dropna().astype(float)\n",
    "\n",
    "# variants[~variants['drugs'].isna()]\n",
    "emb_val = variants[variants['drugs']=='ethambutol']\n",
    "\n",
    "emb_val = variants[variants['drugs']=='ethambutol']"
   ]
  },
  {
   "cell_type": "code",
   "execution_count": 162,
   "metadata": {},
   "outputs": [
    {
     "data": {
      "text/plain": [
       "EMB_MIC\n",
       "1.00     3008\n",
       "2.00     1847\n",
       "4.00     1163\n",
       "8.00     1083\n",
       "0.50      933\n",
       "35.00     471\n",
       "16.00     180\n",
       "0.25       63\n",
       "32.00      57\n",
       "0.05       48\n",
       "0.12        5\n",
       "Name: count, dtype: int64"
      ]
     },
     "execution_count": 162,
     "metadata": {},
     "output_type": "execute_result"
    }
   ],
   "source": [
    "df_emb['EMB_MIC'].value_counts()"
   ]
  },
  {
   "cell_type": "code",
   "execution_count": 161,
   "metadata": {},
   "outputs": [
    {
     "data": {
      "image/png": "[encoded data removed]",
      "text/plain": [
       "<Figure size 432x2880 with 11 Axes>"
      ]
     },
     "metadata": {
      "needs_background": "light"
     },
     "output_type": "display_data"
    },
    {
     "data": {
      "text/plain": [
       "<Figure size 432x288 with 0 Axes>"
      ]
     },
     "metadata": {},
     "output_type": "display_data"
    }
   ],
   "source": [
    "import matplotlib.pyplot as plt\n",
    "\n",
    "# List of columns to plot\n",
    "columns = ['CFZ_MIC', 'DLM_MIC', 'EMB_MIC', 'ETH_MIC', 'INH_MIC', 'KAN_MIC', \n",
    "           'LEV_MIC', 'LZD_MIC', 'MXF_MIC', 'RIF_MIC', 'RFB_MIC']\n",
    "\n",
    "# Define the bin width\n",
    "bin_width = 0.5  # Adjust the bin width as needed\n",
    "\n",
    "# Create subplots\n",
    "fig, axes = plt.subplots(nrows=len(columns), ncols=1, figsize=(6, 40))\n",
    "\n",
    "for ax, col in zip(axes, columns):\n",
    "    # Extract the values from the current column\n",
    "    values = df_emb[col].values\n",
    "\n",
    "    # Plot the histogram with specified bin size and log scale on y-axis\n",
    "    ax.hist(values, bins=30, log=True)\n",
    "\n",
    "    # Add labels and title\n",
    "    ax.set_xlabel(col)\n",
    "    ax.set_ylabel('Frequency')\n",
    "    ax.set_title(f'Histogram of {col}')\n",
    "\n",
    "plt.subplots_adjust(hspace=0.5)  # Increase the hspace value as needed\n",
    "\n",
    "# Adjust layout to prevent overlap\n",
    "plt.tight_layout()\n",
    "\n",
    "# Display the plot\n",
    "plt.show()\n",
    "plt.savefig('plot.png')\n"
   ]
  },
  {
   "cell_type": "code",
   "execution_count": 183,
   "metadata": {},
   "outputs": [
    {
     "data": {
      "text/plain": [
       "EMB_MIC\n",
       "1.000     3941\n",
       "2.000     2935\n",
       "4.000     1492\n",
       "8.000     1366\n",
       "0.500     1115\n",
       "16.000     461\n",
       "0.250       91\n",
       "0.125       44\n",
       "Name: count, dtype: int64"
      ]
     },
     "execution_count": 183,
     "metadata": {},
     "output_type": "execute_result"
    }
   ],
   "source": [
    "mic_aa = cryptic[cryptic['ENA_RUN'].isin(variants['sample_id'].unique())]#.iloc[:,14:27]\n",
    "\n",
    "mic_aa['EMB_MIC'].value_counts()"
   ]
  },
  {
   "cell_type": "code",
   "execution_count": 234,
   "metadata": {},
   "outputs": [],
   "source": [
    "# mic_aa = mic_aa_ori[~mic_aa_ori['EMB_PHENOTYPE_QUALITY'].isin(['LOW'])]\n",
    "mic_aa = mic_aa_ori"
   ]
  },
  {
   "cell_type": "code",
   "execution_count": 5,
   "metadata": {},
   "outputs": [
    {
     "ename": "NameError",
     "evalue": "name 'mic_aa' is not defined",
     "output_type": "error",
     "traceback": [
      "\u001b[0;31m---------------------------------------------------------------------------\u001b[0m",
      "\u001b[0;31mNameError\u001b[0m                                 Traceback (most recent call last)",
      "\u001b[0;32m/tmp/ipykernel_10719/3572109556.py\u001b[0m in \u001b[0;36m<module>\u001b[0;34m\u001b[0m\n\u001b[1;32m      4\u001b[0m \u001b[0m_4_without_resistance\u001b[0m \u001b[0;34m=\u001b[0m \u001b[0;36m0\u001b[0m\u001b[0;34m\u001b[0m\u001b[0;34m\u001b[0m\u001b[0m\n\u001b[1;32m      5\u001b[0m \u001b[0mto_be_dropped\u001b[0m \u001b[0;34m=\u001b[0m \u001b[0;34m[\u001b[0m\u001b[0;34m]\u001b[0m\u001b[0;34m\u001b[0m\u001b[0;34m\u001b[0m\u001b[0m\n\u001b[0;32m----> 6\u001b[0;31m \u001b[0;32mfor\u001b[0m \u001b[0mi\u001b[0m\u001b[0;34m,\u001b[0m \u001b[0mrow\u001b[0m \u001b[0;32min\u001b[0m \u001b[0mtqdm\u001b[0m\u001b[0;34m(\u001b[0m\u001b[0mmic_aa\u001b[0m\u001b[0;34m.\u001b[0m\u001b[0miterrows\u001b[0m\u001b[0;34m(\u001b[0m\u001b[0;34m)\u001b[0m\u001b[0;34m)\u001b[0m\u001b[0;34m:\u001b[0m\u001b[0;34m\u001b[0m\u001b[0;34m\u001b[0m\u001b[0m\n\u001b[0m\u001b[1;32m      7\u001b[0m     \u001b[0mx\u001b[0m \u001b[0;34m=\u001b[0m \u001b[0;34m'EMB_MIC'\u001b[0m\u001b[0;34m\u001b[0m\u001b[0;34m\u001b[0m\u001b[0m\n\u001b[1;32m      8\u001b[0m     \u001b[0;31m# print(row[x])\u001b[0m\u001b[0;34m\u001b[0m\u001b[0;34m\u001b[0m\u001b[0m\n",
      "\u001b[0;31mNameError\u001b[0m: name 'mic_aa' is not defined"
     ]
    }
   ],
   "source": [
    "discordance = []\n",
    "discordance_values = []\n",
    "_4_with_resistance = 0\n",
    "_4_without_resistance = 0\n",
    "to_be_dropped = []\n",
    "for i, row in tqdm(mic_aa.iterrows()):\n",
    "    x = 'EMB_MIC'\n",
    "    # print(row[x])\n",
    "    if row[x] <= 16 :\n",
    "        if row['ENA_RUN'] in emb_val['sample_id'].to_list():\n",
    "            # print('<4', row['ENA_RUN'], row[x])\n",
    "            # discordance.append(row['ENA_RUN'])\n",
    "            discordance_values.append(row[x])            \n",
    "    if row[x] ==0.25 or row[x] ==0.125  :\n",
    "        if row['ENA_RUN'] in emb_val['sample_id'].to_list():\n",
    "            # print('=4', row['ENA_RUN'], row[x])\n",
    "            _4_with_resistance += 1\n",
    "            to_be_dropped.append(row['ENA_RUN'])\n",
    "        else:\n",
    "            _4_without_resistance += 1\n",
    "    # elif pd.isna(row[x]):\n",
    "    #     if row['ENA_RUN'] in emb_val['sample_id'].to_list():\n",
    "    #         print('NaN', row['ENA_RUN'], row[x])  \n",
    "    else:\n",
    "        if row['ENA_RUN'] in emb_val['sample_id'].to_list():\n",
    "            # print('>4', row['ENA_RUN'], row[x])\n",
    "            pass\n",
    "print(_4_with_resistance, '/', _4_without_resistance+ _4_with_resistance)"
   ]
  },
  {
   "cell_type": "code",
   "execution_count": 229,
   "metadata": {},
   "outputs": [],
   "source": [
    "mic_count = mic_aa['EMB_MIC'].value_counts().to_dict()\n",
    "discordance_count = value_counts_list(discordance_values)"
   ]
  },
  {
   "cell_type": "code",
   "execution_count": 231,
   "metadata": {},
   "outputs": [
    {
     "name": "stdout",
     "output_type": "stream",
     "text": [
      "8.0 | 0.95\n",
      "4.0 | 0.8\n",
      "16.0 | 0.94\n",
      "2.0 | 0.13\n",
      "1.0 | 0.03\n",
      "0.5 | 0.06\n",
      "0.25 | 0.16\n",
      "0.125 | 0.2\n"
     ]
    }
   ],
   "source": [
    "for x in discordance_count.keys():\n",
    "    # print(x, discordance_count[x], mic_count[x], round(discordance_count[x]/mic_count[x],2))\n",
    "    print(x,\"|\", round(discordance_count[x]/mic_count[x],2))"
   ]
  },
  {
   "cell_type": "markdown",
   "metadata": {},
   "source": [
    "### Testing the MIC for new threshold finished"
   ]
  },
  {
   "cell_type": "code",
   "execution_count": 4,
   "metadata": {},
   "outputs": [
    {
     "ename": "ParserError",
     "evalue": "Error tokenizing data. C error: Calling read(nbytes) on source failed. Try engine='python'.",
     "output_type": "error",
     "traceback": [
      "\u001b[0;31m---------------------------------------------------------------------------\u001b[0m",
      "\u001b[0;31mParserError\u001b[0m                               Traceback (most recent call last)",
      "\u001b[0;32m/tmp/ipykernel_10719/4230338528.py\u001b[0m in \u001b[0;36m<module>\u001b[0;34m\u001b[0m\n\u001b[0;32m----> 1\u001b[0;31m \u001b[0mvariants\u001b[0m \u001b[0;34m=\u001b[0m \u001b[0mpd\u001b[0m\u001b[0;34m.\u001b[0m\u001b[0mread_csv\u001b[0m\u001b[0;34m(\u001b[0m\u001b[0;34m'variants_full.csv'\u001b[0m\u001b[0;34m)\u001b[0m\u001b[0;34m\u001b[0m\u001b[0;34m\u001b[0m\u001b[0m\n\u001b[0m\u001b[1;32m      2\u001b[0m \u001b[0mvariants\u001b[0m \u001b[0;34m=\u001b[0m \u001b[0mvariants\u001b[0m\u001b[0;34m[\u001b[0m\u001b[0mvariants\u001b[0m\u001b[0;34m[\u001b[0m\u001b[0;34m'type'\u001b[0m\u001b[0;34m]\u001b[0m \u001b[0;34m!=\u001b[0m \u001b[0;34m'synonymous_variant'\u001b[0m\u001b[0;34m]\u001b[0m\u001b[0;34m\u001b[0m\u001b[0;34m\u001b[0m\u001b[0m\n\u001b[1;32m      3\u001b[0m \u001b[0mcryptic\u001b[0m \u001b[0;34m=\u001b[0m \u001b[0mdf_emb\u001b[0m\u001b[0;34m\u001b[0m\u001b[0;34m\u001b[0m\u001b[0m\n\u001b[1;32m      4\u001b[0m \u001b[0moverlap\u001b[0m \u001b[0;34m=\u001b[0m \u001b[0mset\u001b[0m\u001b[0;34m(\u001b[0m\u001b[0mvariants\u001b[0m\u001b[0;34m[\u001b[0m\u001b[0;34m'sample_id'\u001b[0m\u001b[0;34m]\u001b[0m\u001b[0;34m)\u001b[0m\u001b[0;34m.\u001b[0m\u001b[0mintersection\u001b[0m\u001b[0;34m(\u001b[0m\u001b[0mset\u001b[0m\u001b[0;34m(\u001b[0m\u001b[0mcryptic\u001b[0m\u001b[0;34m[\u001b[0m\u001b[0;34m'ENA_RUN'\u001b[0m\u001b[0;34m]\u001b[0m\u001b[0;34m.\u001b[0m\u001b[0mto_list\u001b[0m\u001b[0;34m(\u001b[0m\u001b[0;34m)\u001b[0m\u001b[0;34m)\u001b[0m\u001b[0;34m)\u001b[0m\u001b[0;34m\u001b[0m\u001b[0;34m\u001b[0m\u001b[0m\n\u001b[1;32m      5\u001b[0m \u001b[0;31m# variants = variants[variants['drugs'].isin(['ethambutol'])]\u001b[0m\u001b[0;34m\u001b[0m\u001b[0;34m\u001b[0m\u001b[0m\n",
      "\u001b[0;32m/mnt/storageG1/lwang/miniconda3/envs/ml-workshop/lib/python3.9/site-packages/pandas/io/parsers/readers.py\u001b[0m in \u001b[0;36mread_csv\u001b[0;34m(filepath_or_buffer, sep, delimiter, header, names, index_col, usecols, dtype, engine, converters, true_values, false_values, skipinitialspace, skiprows, skipfooter, nrows, na_values, keep_default_na, na_filter, verbose, skip_blank_lines, parse_dates, infer_datetime_format, keep_date_col, date_parser, date_format, dayfirst, cache_dates, iterator, chunksize, compression, thousands, decimal, lineterminator, quotechar, quoting, doublequote, escapechar, comment, encoding, encoding_errors, dialect, on_bad_lines, delim_whitespace, low_memory, memory_map, float_precision, storage_options, dtype_backend)\u001b[0m\n\u001b[1;32m    910\u001b[0m     \u001b[0mkwds\u001b[0m\u001b[0;34m.\u001b[0m\u001b[0mupdate\u001b[0m\u001b[0;34m(\u001b[0m\u001b[0mkwds_defaults\u001b[0m\u001b[0;34m)\u001b[0m\u001b[0;34m\u001b[0m\u001b[0;34m\u001b[0m\u001b[0m\n\u001b[1;32m    911\u001b[0m \u001b[0;34m\u001b[0m\u001b[0m\n\u001b[0;32m--> 912\u001b[0;31m     \u001b[0;32mreturn\u001b[0m \u001b[0m_read\u001b[0m\u001b[0;34m(\u001b[0m\u001b[0mfilepath_or_buffer\u001b[0m\u001b[0;34m,\u001b[0m \u001b[0mkwds\u001b[0m\u001b[0;34m)\u001b[0m\u001b[0;34m\u001b[0m\u001b[0;34m\u001b[0m\u001b[0m\n\u001b[0m\u001b[1;32m    913\u001b[0m \u001b[0;34m\u001b[0m\u001b[0m\n\u001b[1;32m    914\u001b[0m \u001b[0;34m\u001b[0m\u001b[0m\n",
      "\u001b[0;32m/mnt/storageG1/lwang/miniconda3/envs/ml-workshop/lib/python3.9/site-packages/pandas/io/parsers/readers.py\u001b[0m in \u001b[0;36m_read\u001b[0;34m(filepath_or_buffer, kwds)\u001b[0m\n\u001b[1;32m    581\u001b[0m \u001b[0;34m\u001b[0m\u001b[0m\n\u001b[1;32m    582\u001b[0m     \u001b[0;32mwith\u001b[0m \u001b[0mparser\u001b[0m\u001b[0;34m:\u001b[0m\u001b[0;34m\u001b[0m\u001b[0;34m\u001b[0m\u001b[0m\n\u001b[0;32m--> 583\u001b[0;31m         \u001b[0;32mreturn\u001b[0m \u001b[0mparser\u001b[0m\u001b[0;34m.\u001b[0m\u001b[0mread\u001b[0m\u001b[0;34m(\u001b[0m\u001b[0mnrows\u001b[0m\u001b[0;34m)\u001b[0m\u001b[0;34m\u001b[0m\u001b[0;34m\u001b[0m\u001b[0m\n\u001b[0m\u001b[1;32m    584\u001b[0m \u001b[0;34m\u001b[0m\u001b[0m\n\u001b[1;32m    585\u001b[0m \u001b[0;34m\u001b[0m\u001b[0m\n",
      "\u001b[0;32m/mnt/storageG1/lwang/miniconda3/envs/ml-workshop/lib/python3.9/site-packages/pandas/io/parsers/readers.py\u001b[0m in \u001b[0;36mread\u001b[0;34m(self, nrows)\u001b[0m\n\u001b[1;32m   1702\u001b[0m                     \u001b[0mcolumns\u001b[0m\u001b[0;34m,\u001b[0m\u001b[0;34m\u001b[0m\u001b[0;34m\u001b[0m\u001b[0m\n\u001b[1;32m   1703\u001b[0m                     \u001b[0mcol_dict\u001b[0m\u001b[0;34m,\u001b[0m\u001b[0;34m\u001b[0m\u001b[0;34m\u001b[0m\u001b[0m\n\u001b[0;32m-> 1704\u001b[0;31m                 \u001b[0;34m)\u001b[0m \u001b[0;34m=\u001b[0m \u001b[0mself\u001b[0m\u001b[0;34m.\u001b[0m\u001b[0m_engine\u001b[0m\u001b[0;34m.\u001b[0m\u001b[0mread\u001b[0m\u001b[0;34m(\u001b[0m  \u001b[0;31m# type: ignore[attr-defined]\u001b[0m\u001b[0;34m\u001b[0m\u001b[0;34m\u001b[0m\u001b[0m\n\u001b[0m\u001b[1;32m   1705\u001b[0m                     \u001b[0mnrows\u001b[0m\u001b[0;34m\u001b[0m\u001b[0;34m\u001b[0m\u001b[0m\n\u001b[1;32m   1706\u001b[0m                 )\n",
      "\u001b[0;32m/mnt/storageG1/lwang/miniconda3/envs/ml-workshop/lib/python3.9/site-packages/pandas/io/parsers/c_parser_wrapper.py\u001b[0m in \u001b[0;36mread\u001b[0;34m(self, nrows)\u001b[0m\n\u001b[1;32m    232\u001b[0m         \u001b[0;32mtry\u001b[0m\u001b[0;34m:\u001b[0m\u001b[0;34m\u001b[0m\u001b[0;34m\u001b[0m\u001b[0m\n\u001b[1;32m    233\u001b[0m             \u001b[0;32mif\u001b[0m \u001b[0mself\u001b[0m\u001b[0;34m.\u001b[0m\u001b[0mlow_memory\u001b[0m\u001b[0;34m:\u001b[0m\u001b[0;34m\u001b[0m\u001b[0;34m\u001b[0m\u001b[0m\n\u001b[0;32m--> 234\u001b[0;31m                 \u001b[0mchunks\u001b[0m \u001b[0;34m=\u001b[0m \u001b[0mself\u001b[0m\u001b[0;34m.\u001b[0m\u001b[0m_reader\u001b[0m\u001b[0;34m.\u001b[0m\u001b[0mread_low_memory\u001b[0m\u001b[0;34m(\u001b[0m\u001b[0mnrows\u001b[0m\u001b[0;34m)\u001b[0m\u001b[0;34m\u001b[0m\u001b[0;34m\u001b[0m\u001b[0m\n\u001b[0m\u001b[1;32m    235\u001b[0m                 \u001b[0;31m# destructive to chunks\u001b[0m\u001b[0;34m\u001b[0m\u001b[0;34m\u001b[0m\u001b[0m\n\u001b[1;32m    236\u001b[0m                 \u001b[0mdata\u001b[0m \u001b[0;34m=\u001b[0m \u001b[0m_concatenate_chunks\u001b[0m\u001b[0;34m(\u001b[0m\u001b[0mchunks\u001b[0m\u001b[0;34m)\u001b[0m\u001b[0;34m\u001b[0m\u001b[0;34m\u001b[0m\u001b[0m\n",
      "\u001b[0;32m/mnt/storageG1/lwang/miniconda3/envs/ml-workshop/lib/python3.9/site-packages/pandas/_libs/parsers.pyx\u001b[0m in \u001b[0;36mpandas._libs.parsers.TextReader.read_low_memory\u001b[0;34m()\u001b[0m\n",
      "\u001b[0;32m/mnt/storageG1/lwang/miniconda3/envs/ml-workshop/lib/python3.9/site-packages/pandas/_libs/parsers.pyx\u001b[0m in \u001b[0;36mpandas._libs.parsers.TextReader._read_rows\u001b[0;34m()\u001b[0m\n",
      "\u001b[0;32m/mnt/storageG1/lwang/miniconda3/envs/ml-workshop/lib/python3.9/site-packages/pandas/_libs/parsers.pyx\u001b[0m in \u001b[0;36mpandas._libs.parsers.TextReader._tokenize_rows\u001b[0;34m()\u001b[0m\n",
      "\u001b[0;32m/mnt/storageG1/lwang/miniconda3/envs/ml-workshop/lib/python3.9/site-packages/pandas/_libs/parsers.pyx\u001b[0m in \u001b[0;36mpandas._libs.parsers.TextReader._check_tokenize_status\u001b[0;34m()\u001b[0m\n",
      "\u001b[0;32m/mnt/storageG1/lwang/miniconda3/envs/ml-workshop/lib/python3.9/site-packages/pandas/_libs/parsers.pyx\u001b[0m in \u001b[0;36mpandas._libs.parsers.raise_parser_error\u001b[0;34m()\u001b[0m\n",
      "\u001b[0;31mParserError\u001b[0m: Error tokenizing data. C error: Calling read(nbytes) on source failed. Try engine='python'."
     ]
    }
   ],
   "source": [
    "variants = pd.read_csv('variants_full.csv')\n",
    "variants = variants[variants['type'] != 'synonymous_variant']\n",
    "cryptic = df_emb\n",
    "overlap = set(variants['sample_id']).intersection(set(cryptic['ENA_RUN'].to_list()))\n",
    "# variants = variants[variants['drugs'].isin(['ethambutol'])]\n",
    "variants = variants[variants['gene'].isin(['embB', 'embA', 'embC'])]\n",
    "variants = variants[variants['sample_id'].isin(overlap)]\n",
    "variants['SNP'] = variants['gene'] + '-'+ variants['change']\n",
    "\n",
    "def compare_snp_lists_with_values_optimized(set_list, query_list, values_list):\n",
    "    # Create a dictionary from query_list and values_list for direct mapping\n",
    "    query_dict = dict(zip(query_list, values_list))\n",
    "    \n",
    "    # Use list comprehension to build the output list directly\n",
    "    output_list = [query_dict.get(snp, 0) for snp in set_list]\n",
    "    \n",
    "    return output_list\n",
    "\n",
    "# Example usage\n",
    "# set_list = ['SNP1', 'SNP2', 'SNP3', 'SNP4']\n",
    "# query_list = ['SNP2', 'SNP4']\n",
    "# values_list = [5, 10]  # Corresponding values for 'SNP2' and 'SNP4'\n",
    "# output_list = compare_snp_lists_with_values_optimized(set_list, query_list, values_list)\n",
    "# print(output_list)  # Expected output: [0, 5, 0, 10]# Getting all snp data\n",
    "\n",
    "aa = []\n",
    "all_snp = variants['SNP'].unique() # here is a list of all snps values title for the row in the final table \n",
    "for x in tqdm(variants['sample_id'].unique()):\n",
    "    aa.append(compare_snp_lists_with_values_optimized(all_snp, variants[variants['sample_id']==x]['SNP'].to_list(), variants[variants['sample_id']==x]['freq'].to_list()))\n",
    "    # print('SNP')\n",
    "    \n",
    "aa_array = np.array(aa)\n",
    "aa_array[aa_array < 0.8] = 0\n",
    "aa_array[aa_array >= 0.8] = 1\n",
    "\n",
    "mic_aa = cryptic[cryptic['ENA_RUN'].isin(variants['sample_id'].unique())]#.iloc[:,14:27]\n",
    "# mic_aa['wgs_id'] = pd.Categorical(mic_aa['ENA_RUN'], categories=variants['sample_id'].unique().tolist(), ordered=True)\n",
    "# mic_aa = mic_aa.sort_values('ENA_RUN')\n",
    "mic_aa.ENA_RUN = mic_aa.ENA_RUN.astype('category')\n",
    "mic_aa.ENA_RUN = mic_aa.ENA_RUN.cat.set_categories(variants['sample_id'].unique().tolist())\n",
    "mic_aa = mic_aa.sort_values([\"ENA_RUN\"])  ## 'sort' changed to 'sort_values'"
   ]
  },
  {
   "cell_type": "markdown",
   "metadata": {},
   "source": [
    "### Testing the effect of quality on model performance"
   ]
  },
  {
   "cell_type": "code",
   "execution_count": null,
   "metadata": {},
   "outputs": [],
   "source": [
    "# train_data = aa_array[:int(aa_array.shape[0]*0.9), :]\n",
    "# test_data = aa_array[int(aa_array.shape[0]*0.9):, :]\n",
    "# encoded_mic = np.array()\n",
    "# for value in mic_aa['EMB_MIC'].to_list():\n",
    "#     if value <4 :\n",
    "#         encoded_mic.append(0)  # mic < 0.05\n",
    "#     else:\n",
    "#         encoded_mic.append(1)\n",
    "# train_target = encoded_mic[:int(len(encoded_mic)*0.9)]\n",
    "# test_target = encoded_mic[int(len(encoded_mic)*0.9):]"
   ]
  },
  {
   "cell_type": "code",
   "execution_count": 280,
   "metadata": {},
   "outputs": [
    {
     "data": {
      "text/plain": [
       "(11421,)"
      ]
     },
     "execution_count": 280,
     "metadata": {},
     "output_type": "execute_result"
    }
   ],
   "source": [
    "encoded_mic.shape"
   ]
  },
  {
   "cell_type": "code",
   "execution_count": 277,
   "metadata": {},
   "outputs": [
    {
     "name": "stdout",
     "output_type": "stream",
     "text": [
      "Train data shape: (10278, 1731)\n",
      "Test data shape: (1143, 1731)\n",
      "Train target distribution: [7291 2987]\n",
      "Test target distribution: [811 332]\n"
     ]
    }
   ],
   "source": [
    "import numpy as np\n",
    "import pandas as pd\n",
    "from sklearn.model_selection import train_test_split\n",
    "from sklearn.ensemble import RandomForestClassifier\n",
    "from sklearn.metrics import accuracy_score, confusion_matrix\n",
    "import matplotlib.pyplot as plt\n",
    "from sklearn.metrics import accuracy_score, confusion_matrix, f1_score, roc_auc_score\n",
    "\n",
    "\n",
    "# Assuming aa_array is a numpy array and mic_aa['EMB_MIC'] is a pandas Series\n",
    "\n",
    "# Encode the target variable\n",
    "encoded_mic = np.array([0 if value < 4 else 1 for value in mic_aa['EMB_MIC'].to_list()])\n",
    "\n",
    "# Perform stratified train-test split\n",
    "train_data, test_data, train_target, test_target = train_test_split(\n",
    "    aa_array,\n",
    "    encoded_mic,\n",
    "    test_size=0.1,  # 10% for testing\n",
    "    stratify=encoded_mic,  # Ensures the proportion of each class is preserved\n",
    "    random_state=42  # For reproducibility\n",
    ")\n",
    "\n",
    "# The train_data and test_data now have the same proportion of target values as the original data\n",
    "print(\"Train data shape:\", train_data.shape)\n",
    "print(\"Test data shape:\", test_data.shape)\n",
    "print(\"Train target distribution:\", np.bincount(train_target))\n",
    "print(\"Test target distribution:\", np.bincount(test_target))\n"
   ]
  },
  {
   "cell_type": "code",
   "execution_count": 282,
   "metadata": {},
   "outputs": [
    {
     "data": {
      "text/plain": [
       "MXF_MIC\n",
       "0.25    2667\n",
       "0.12    1714\n",
       "0.50    1286\n",
       "0.03     855\n",
       "5.00     581\n",
       "4.00     412\n",
       "2.00     331\n",
       "1.00     289\n",
       "Name: count, dtype: int64"
      ]
     },
     "execution_count": 282,
     "metadata": {},
     "output_type": "execute_result"
    }
   ],
   "source": [
    "test['MXF_MIC'].value_counts()"
   ]
  },
  {
   "cell_type": "markdown",
   "metadata": {},
   "source": [
    "#### All data"
   ]
  },
  {
   "cell_type": "code",
   "execution_count": 278,
   "metadata": {},
   "outputs": [
    {
     "name": "stdout",
     "output_type": "stream",
     "text": [
      "Accuracy: 0.916010498687664\n",
      "Sensitivity (Recall): 0.8493975903614458\n",
      "Specificity: 0.9432799013563502\n",
      "F1 Score: 0.8545454545454546\n",
      "AUC: 0.9102179370998174\n"
     ]
    },
    {
     "data": {
      "image/png": "[encoded data removed]",
      "text/plain": [
       "<Figure size 576x432 with 2 Axes>"
      ]
     },
     "metadata": {
      "needs_background": "light"
     },
     "output_type": "display_data"
    }
   ],
   "source": [
    "\n",
    "# Initialize and train the RandomForestClassifier\n",
    "clf = RandomForestClassifier(max_depth=100, random_state=0, n_estimators=1000, class_weight=\"balanced\")\n",
    "clf.fit(train_data, train_target)\n",
    "\n",
    "# Predict on the test data\n",
    "test_predictions = clf.predict(test_data)\n",
    "\n",
    "# Calculate accuracy\n",
    "accuracy = accuracy_score(test_target, test_predictions)\n",
    "print(\"Accuracy:\", accuracy)\n",
    "\n",
    "# Compute confusion matrix\n",
    "conf_matrix = confusion_matrix(test_target, test_predictions)\n",
    "\n",
    "# Calculate sensitivity, specificity, and F1 score\n",
    "tp = conf_matrix[1, 1]  # True Positive\n",
    "tn = conf_matrix[0, 0]  # True Negative\n",
    "fp = conf_matrix[0, 1]  # False Positive\n",
    "fn = conf_matrix[1, 0]  # False Negative\n",
    "\n",
    "sensitivity = tp / (tp + fn)  # Sensitivity (Recall)\n",
    "specificity = tn / (tn + fp)  # Specificity\n",
    "f1 = f1_score(test_target, test_predictions)  # F1 Score\n",
    "auc = roc_auc_score(test_target, clf.predict_proba(test_data)[:, 1])  # AUC\n",
    "\n",
    "print(\"Sensitivity (Recall):\", sensitivity)\n",
    "print(\"Specificity:\", specificity)\n",
    "print(\"F1 Score:\", f1)\n",
    "print(\"AUC:\", auc)\n",
    "\n",
    "# Plot confusion matrix using Matplotlib\n",
    "plt.figure(figsize=(8, 6))\n",
    "plt.imshow(conf_matrix, interpolation='nearest', cmap=plt.cm.Blues)\n",
    "plt.title('Confusion Matrix')\n",
    "plt.colorbar()\n",
    "tick_marks = np.arange(2)\n",
    "plt.xticks(tick_marks, ['sus', 'res'])\n",
    "plt.yticks(tick_marks, ['sus', 'res'])\n",
    "\n",
    "# Labeling the plot\n",
    "plt.xlabel('Predicted Label')\n",
    "plt.ylabel('True Label')\n",
    "\n",
    "# Loop over data dimensions and create text annotations.\n",
    "thresh = conf_matrix.max() / 2.\n",
    "for i in range(conf_matrix.shape[0]):\n",
    "    for j in range(conf_matrix.shape[1]):\n",
    "        plt.text(j, i, format(conf_matrix[i, j], 'd'),\n",
    "                 ha=\"center\", va=\"center\",\n",
    "                 color=\"white\" if conf_matrix[i, j] > thresh else \"black\")\n",
    "\n",
    "plt.tight_layout()\n",
    "plt.show()"
   ]
  },
  {
   "cell_type": "markdown",
   "metadata": {},
   "source": [
    "#### LOW qual removed"
   ]
  },
  {
   "cell_type": "code",
   "execution_count": 269,
   "metadata": {},
   "outputs": [
    {
     "name": "stdout",
     "output_type": "stream",
     "text": [
      "Accuracy: 0.90625\n",
      "Sensitivity (Recall): 0.8449612403100775\n",
      "Specificity: 0.9337979094076655\n",
      "F1 Score: 0.8482490272373541\n",
      "AUC: 0.9304250060773032\n"
     ]
    },
    {
     "data": {
      "image/png": "[encoded data removed]",
      "text/plain": [
       "<Figure size 576x432 with 2 Axes>"
      ]
     },
     "metadata": {
      "needs_background": "light"
     },
     "output_type": "display_data"
    }
   ],
   "source": [
    "\n",
    "# Initialize and train the RandomForestClassifier\n",
    "clf = RandomForestClassifier(max_depth=100, random_state=0, n_estimators=1000, class_weight=\"balanced\")\n",
    "clf.fit(train_data, train_target)\n",
    "\n",
    "# Predict on the test data\n",
    "test_predictions = clf.predict(test_data)\n",
    "\n",
    "# Calculate accuracy\n",
    "accuracy = accuracy_score(test_target, test_predictions)\n",
    "print(\"Accuracy:\", accuracy)\n",
    "\n",
    "# Compute confusion matrix\n",
    "conf_matrix = confusion_matrix(test_target, test_predictions)\n",
    "\n",
    "# Calculate sensitivity, specificity, and F1 score\n",
    "tp = conf_matrix[1, 1]  # True Positive\n",
    "tn = conf_matrix[0, 0]  # True Negative\n",
    "fp = conf_matrix[0, 1]  # False Positive\n",
    "fn = conf_matrix[1, 0]  # False Negative\n",
    "\n",
    "sensitivity = tp / (tp + fn)  # Sensitivity (Recall)\n",
    "specificity = tn / (tn + fp)  # Specificity\n",
    "f1 = f1_score(test_target, test_predictions)  # F1 Score\n",
    "auc = roc_auc_score(test_target, clf.predict_proba(test_data)[:, 1])  # AUC\n",
    "\n",
    "print(\"Sensitivity (Recall):\", sensitivity)\n",
    "print(\"Specificity:\", specificity)\n",
    "print(\"F1 Score:\", f1)\n",
    "print(\"AUC:\", auc)\n",
    "\n",
    "\n",
    "# Plot confusion matrix using Matplotlib\n",
    "plt.figure(figsize=(8, 6))\n",
    "plt.imshow(conf_matrix, interpolation='nearest', cmap=plt.cm.Blues)\n",
    "plt.title('Confusion Matrix')\n",
    "plt.colorbar()\n",
    "tick_marks = np.arange(2)\n",
    "plt.xticks(tick_marks, ['sus', 'res'])\n",
    "plt.yticks(tick_marks, ['sus', 'res'])\n",
    "\n",
    "# Labeling the plot\n",
    "plt.xlabel('Predicted Label')\n",
    "plt.ylabel('True Label')\n",
    "\n",
    "# Loop over data dimensions and create text annotations.\n",
    "thresh = conf_matrix.max() / 2.\n",
    "for i in range(conf_matrix.shape[0]):\n",
    "    for j in range(conf_matrix.shape[1]):\n",
    "        plt.text(j, i, format(conf_matrix[i, j], 'd'),\n",
    "                 ha=\"center\", va=\"center\",\n",
    "                 color=\"white\" if conf_matrix[i, j] > thresh else \"black\")\n",
    "\n",
    "plt.tight_layout()\n",
    "plt.show()"
   ]
  },
  {
   "cell_type": "markdown",
   "metadata": {},
   "source": [
    "#### MID & LOW qual removed"
   ]
  },
  {
   "cell_type": "code",
   "execution_count": 273,
   "metadata": {},
   "outputs": [
    {
     "name": "stdout",
     "output_type": "stream",
     "text": [
      "Accuracy: 0.926490984743412\n",
      "Sensitivity (Recall): 0.8709677419354839\n",
      "Specificity: 0.9503968253968254\n",
      "F1 Score: 0.877030162412993\n",
      "AUC: 0.9441015653573258\n"
     ]
    },
    {
     "data": {
      "image/png": "[encoded data removed]",
      "text/plain": [
       "<Figure size 576x432 with 2 Axes>"
      ]
     },
     "metadata": {
      "needs_background": "light"
     },
     "output_type": "display_data"
    }
   ],
   "source": [
    "\n",
    "# Initialize and train the RandomForestClassifier\n",
    "clf = RandomForestClassifier(max_depth=100, random_state=0, n_estimators=1000, class_weight=\"balanced\")\n",
    "clf.fit(train_data, train_target)\n",
    "\n",
    "# Predict on the test data\n",
    "test_predictions = clf.predict(test_data)\n",
    "\n",
    "# Calculate accuracy\n",
    "accuracy = accuracy_score(test_target, test_predictions)\n",
    "print(\"Accuracy:\", accuracy)\n",
    "\n",
    "# Compute confusion matrix\n",
    "conf_matrix = confusion_matrix(test_target, test_predictions)\n",
    "\n",
    "# Calculate sensitivity, specificity, and F1 score\n",
    "tp = conf_matrix[1, 1]  # True Positive\n",
    "tn = conf_matrix[0, 0]  # True Negative\n",
    "fp = conf_matrix[0, 1]  # False Positive\n",
    "fn = conf_matrix[1, 0]  # False Negative\n",
    "\n",
    "sensitivity = tp / (tp + fn)  # Sensitivity (Recall)\n",
    "specificity = tn / (tn + fp)  # Specificity\n",
    "f1 = f1_score(test_target, test_predictions)  # F1 Score\n",
    "auc = roc_auc_score(test_target, clf.predict_proba(test_data)[:, 1])  # AUC\n",
    "\n",
    "print(\"Sensitivity (Recall):\", sensitivity)\n",
    "print(\"Specificity:\", specificity)\n",
    "print(\"F1 Score:\", f1)\n",
    "print(\"AUC:\", auc)\n",
    "\n",
    "\n",
    "# Plot confusion matrix using Matplotlib\n",
    "plt.figure(figsize=(8, 6))\n",
    "plt.imshow(conf_matrix, interpolation='nearest', cmap=plt.cm.Blues)\n",
    "plt.title('Confusion Matrix')\n",
    "plt.colorbar()\n",
    "tick_marks = np.arange(2)\n",
    "plt.xticks(tick_marks, ['sus', 'res'])\n",
    "plt.yticks(tick_marks, ['sus', 'res'])\n",
    "\n",
    "# Labeling the plot\n",
    "plt.xlabel('Predicted Label')\n",
    "plt.ylabel('True Label')\n",
    "\n",
    "# Loop over data dimensions and create text annotations.\n",
    "thresh = conf_matrix.max() / 2.\n",
    "for i in range(conf_matrix.shape[0]):\n",
    "    for j in range(conf_matrix.shape[1]):\n",
    "        plt.text(j, i, format(conf_matrix[i, j], 'd'),\n",
    "                 ha=\"center\", va=\"center\",\n",
    "                 color=\"white\" if conf_matrix[i, j] > thresh else \"black\")\n",
    "\n",
    "plt.tight_layout()\n",
    "plt.show()"
   ]
  },
  {
   "cell_type": "markdown",
   "metadata": {},
   "source": [
    "### Ending of the testing the effect of quality on model performance"
   ]
  },
  {
   "cell_type": "code",
   "execution_count": 178,
   "metadata": {},
   "outputs": [],
   "source": [
    "# np.savetxt('data_new_emb/aa_data_train.csv', aa_array[:int(aa_array.shape[0]*0.9), :], delimiter=',', fmt='%s')\n",
    "# # Save the remaining 10% of rows to another CSV file\n",
    "# np.savetxt('data_new_emb/aa_data_test.csv', aa_array[int(aa_array.shape[0]*0.9):, :], delimiter=',', fmt='%s')\n",
    "\n",
    "np.savetxt('data_new_emb/aa_data_train_gene.csv', aa_array[:int(aa_array.shape[0]*0.9), :], delimiter=',', fmt='%s')\n",
    "# Save the remaining 10% of rows to another CSV file\n",
    "np.savetxt('data_new_emb/aa_data_test_gene.csv', aa_array[int(aa_array.shape[0]*0.9):, :], delimiter=',', fmt='%s')\n",
    "mic_aa = mic_aa[['EMB_MIC']].astype('float')\n",
    "\n",
    "mic_aa.iloc[:int(mic_aa.shape[0]*0.9),:].to_csv('data_new_emb/mic_aa_train.csv', index=False)\n",
    "mic_aa.iloc[int(mic_aa.shape[0]*0.9):,:].to_csv('data_new_emb/mic_aa_test.csv', index=False)"
   ]
  },
  {
   "cell_type": "code",
   "execution_count": 179,
   "metadata": {},
   "outputs": [
    {
     "data": {
      "text/plain": [
       "EMB_MIC\n",
       "1.000     3941\n",
       "2.000     2935\n",
       "4.000     1492\n",
       "8.000     1366\n",
       "0.500     1115\n",
       "16.000     461\n",
       "0.250       91\n",
       "0.125       44\n",
       "Name: count, dtype: int64"
      ]
     },
     "execution_count": 179,
     "metadata": {},
     "output_type": "execute_result"
    }
   ],
   "source": [
    "mic_aa['EMB_MIC'].value_counts()"
   ]
  },
  {
   "cell_type": "code",
   "execution_count": 129,
   "metadata": {},
   "outputs": [
    {
     "ename": "TypeError",
     "evalue": "'<' not supported between instances of 'str' and 'int'",
     "output_type": "error",
     "traceback": [
      "\u001b[0;31m---------------------------------------------------------------------------\u001b[0m",
      "\u001b[0;31mTypeError\u001b[0m                                 Traceback (most recent call last)",
      "\u001b[0;32m/tmp/ipykernel_114410/3652712645.py\u001b[0m in \u001b[0;36m<module>\u001b[0;34m\u001b[0m\n\u001b[1;32m      1\u001b[0m \u001b[0mencoded_mic\u001b[0m \u001b[0;34m=\u001b[0m \u001b[0;34m[\u001b[0m\u001b[0;34m]\u001b[0m\u001b[0;34m\u001b[0m\u001b[0;34m\u001b[0m\u001b[0m\n\u001b[1;32m      2\u001b[0m \u001b[0;32mfor\u001b[0m \u001b[0mvalue\u001b[0m \u001b[0;32min\u001b[0m \u001b[0mmic_aa\u001b[0m\u001b[0;34m[\u001b[0m\u001b[0;34m'EMB_MIC'\u001b[0m\u001b[0;34m]\u001b[0m\u001b[0;34m.\u001b[0m\u001b[0mto_list\u001b[0m\u001b[0;34m(\u001b[0m\u001b[0;34m)\u001b[0m\u001b[0;34m:\u001b[0m\u001b[0;34m\u001b[0m\u001b[0;34m\u001b[0m\u001b[0m\n\u001b[0;32m----> 3\u001b[0;31m     \u001b[0;32mif\u001b[0m \u001b[0mvalue\u001b[0m \u001b[0;34m<\u001b[0m\u001b[0;36m2\u001b[0m \u001b[0;34m:\u001b[0m\u001b[0;34m\u001b[0m\u001b[0;34m\u001b[0m\u001b[0m\n\u001b[0m\u001b[1;32m      4\u001b[0m         \u001b[0mencoded_mic\u001b[0m\u001b[0;34m.\u001b[0m\u001b[0mappend\u001b[0m\u001b[0;34m(\u001b[0m\u001b[0;36m0\u001b[0m\u001b[0;34m)\u001b[0m  \u001b[0;31m# mic < 0.05\u001b[0m\u001b[0;34m\u001b[0m\u001b[0;34m\u001b[0m\u001b[0m\n\u001b[1;32m      5\u001b[0m     \u001b[0;32melif\u001b[0m \u001b[0mvalue\u001b[0m \u001b[0;34m>\u001b[0m \u001b[0;36m8\u001b[0m\u001b[0;34m:\u001b[0m\u001b[0;34m\u001b[0m\u001b[0;34m\u001b[0m\u001b[0m\n",
      "\u001b[0;31mTypeError\u001b[0m: '<' not supported between instances of 'str' and 'int'"
     ]
    }
   ],
   "source": [
    "encoded_mic = []\n",
    "for value in mic_aa['EMB_MIC'].to_list():\n",
    "    if value <2 :\n",
    "        encoded_mic.append(0)  # mic < 0.05\n",
    "    elif value > 4:\n",
    "        encoded_mic.append(2)\n",
    "    else:# 0.05 <= mic < 0.12\n",
    "        encoded_mic.append(1)  # 0.05 <= mic < 0.12\n",
    "\n",
    "# mic_aa['EMB_MIC'] = encoded_mic\n"
   ]
  },
  {
   "cell_type": "code",
   "execution_count": 57,
   "metadata": {},
   "outputs": [],
   "source": [
    "mic_aa_cp = mic_aa.copy()\n",
    "mic_aa_cp['EMB_MIC'] = encoded_mic\n",
    "mic_aa_cp.iloc[:int(mic_aa_cp.shape[0]*0.9),:].to_csv('data_new_emb/mic_aa_train_hml.csv', index=False)\n",
    "mic_aa_cp.iloc[int(mic_aa_cp.shape[0]*0.9):,:].to_csv('data_new_emb/mic_aa_test_hml.csv', index=False)"
   ]
  },
  {
   "cell_type": "code",
   "execution_count": 56,
   "metadata": {},
   "outputs": [
    {
     "data": {
      "text/plain": [
       "(11445, 1)"
      ]
     },
     "execution_count": 56,
     "metadata": {},
     "output_type": "execute_result"
    }
   ],
   "source": [
    "mic_aa_cp.shape"
   ]
  },
  {
   "cell_type": "markdown",
   "metadata": {},
   "source": [
    "## ETH"
   ]
  },
  {
   "cell_type": "code",
   "execution_count": 25,
   "metadata": {},
   "outputs": [
    {
     "name": "stderr",
     "output_type": "stream",
     "text": [
      "/tmp/ipykernel_125163/3011970045.py:5: SettingWithCopyWarning: \n",
      "A value is trying to be set on a copy of a slice from a DataFrame\n",
      "\n",
      "See the caveats in the documentation: https://pandas.pydata.org/pandas-docs/stable/user_guide/indexing.html#returning-a-view-versus-a-copy\n",
      "  df_eth.loc[i, f'{x}'] = '16'\n",
      "/tmp/ipykernel_125163/3011970045.py:7: SettingWithCopyWarning: \n",
      "A value is trying to be set on a copy of a slice from a DataFrame\n",
      "\n",
      "See the caveats in the documentation: https://pandas.pydata.org/pandas-docs/stable/user_guide/indexing.html#returning-a-view-versus-a-copy\n",
      "  df_eth.loc[i, f'{x}'] = '0.125'\n"
     ]
    }
   ],
   "source": [
    "df_eth = df[df['ETH_MIC'].isin(['>8','8.0', '4.0', '2.0', '1.0', '0.5', '0.25', '<=0.25'])]\n",
    "for i, row in df_eth.iterrows():\n",
    "    x = 'ETH_MIC'\n",
    "    if row[x] == '>8' :\n",
    "        df_eth.loc[i, f'{x}'] = '16'\n",
    "    elif row[x] == '<=0.25':\n",
    "        df_eth.loc[i, f'{x}'] = '0.125'"
   ]
  },
  {
   "cell_type": "code",
   "execution_count": 26,
   "metadata": {},
   "outputs": [
    {
     "name": "stderr",
     "output_type": "stream",
     "text": [
      "/tmp/ipykernel_125163/3484501634.py:1: SettingWithCopyWarning: \n",
      "A value is trying to be set on a copy of a slice from a DataFrame.\n",
      "Try using .loc[row_indexer,col_indexer] = value instead\n",
      "\n",
      "See the caveats in the documentation: https://pandas.pydata.org/pandas-docs/stable/user_guide/indexing.html#returning-a-view-versus-a-copy\n",
      "  df_eth['ETH_MIC'] = df_eth['ETH_MIC'].astype('float')\n",
      "100%|██████████| 2465/2465 [00:02<00:00, 879.00it/s]\n",
      "/tmp/ipykernel_125163/3484501634.py:40: SettingWithCopyWarning: \n",
      "A value is trying to be set on a copy of a slice from a DataFrame.\n",
      "Try using .loc[row_indexer,col_indexer] = value instead\n",
      "\n",
      "See the caveats in the documentation: https://pandas.pydata.org/pandas-docs/stable/user_guide/indexing.html#returning-a-view-versus-a-copy\n",
      "  mic_aa.ENA_RUN = mic_aa.ENA_RUN.astype('category')\n",
      "/tmp/ipykernel_125163/3484501634.py:41: SettingWithCopyWarning: \n",
      "A value is trying to be set on a copy of a slice from a DataFrame.\n",
      "Try using .loc[row_indexer,col_indexer] = value instead\n",
      "\n",
      "See the caveats in the documentation: https://pandas.pydata.org/pandas-docs/stable/user_guide/indexing.html#returning-a-view-versus-a-copy\n",
      "  mic_aa.ENA_RUN = mic_aa.ENA_RUN.cat.set_categories(variants['sample_id'].unique().tolist())\n"
     ]
    }
   ],
   "source": [
    "df_eth['ETH_MIC'] = df_eth['ETH_MIC'].astype('float')\n",
    "\n",
    "variants = pd.read_csv('variants_full.csv')\n",
    "variants = variants[variants['type'] != 'synonymous_variant']\n",
    "cryptic = df_eth\n",
    "overlap = set(variants['sample_id']).intersection(set(cryptic['ENA_RUN'].to_list()))\n",
    "variants = variants[variants['drugs'].isin(['isoniazid,ethionamide', 'ethionamide', 'ethionamide,ethionamide'])]\n",
    "variants = variants[variants['sample_id'].isin(overlap)]\n",
    "variants['SNP'] = variants['gene'] + '-'+ variants['change']\n",
    "\n",
    "def compare_snp_lists_with_values_optimized(set_list, query_list, values_list):\n",
    "    # Create a dictionary from query_list and values_list for direct mapping\n",
    "    query_dict = dict(zip(query_list, values_list))\n",
    "    \n",
    "    # Use list comprehension to build the output list directly\n",
    "    output_list = [query_dict.get(snp, 0) for snp in set_list]\n",
    "    \n",
    "    return output_list\n",
    "\n",
    "# Example usage\n",
    "# set_list = ['SNP1', 'SNP2', 'SNP3', 'SNP4']\n",
    "# query_list = ['SNP2', 'SNP4']\n",
    "# values_list = [5, 10]  # Corresponding values for 'SNP2' and 'SNP4'\n",
    "# output_list = compare_snp_lists_with_values_optimized(set_list, query_list, values_list)\n",
    "# print(output_list)  # Expected output: [0, 5, 0, 10]# Getting all snp data\n",
    "\n",
    "aa = []\n",
    "all_snp = variants['SNP'].unique() # here is a list of all snps values title for the row in the final table \n",
    "for x in tqdm(variants['sample_id'].unique()):\n",
    "    aa.append(compare_snp_lists_with_values_optimized(all_snp, variants[variants['sample_id']==x]['SNP'].to_list(), variants[variants['sample_id']==x]['freq'].to_list()))\n",
    "    # print('SNP')\n",
    "    \n",
    "aa_array = np.array(aa)\n",
    "aa_array[aa_array < 0.8] = 0\n",
    "aa_array[aa_array >= 0.8] = 1\n",
    "\n",
    "mic_aa = cryptic[cryptic['ENA_RUN'].isin(variants['sample_id'].unique())]#.iloc[:,14:27]\n",
    "# mic_aa['wgs_id'] = pd.Categorical(mic_aa['ENA_RUN'], categories=variants['sample_id'].unique().tolist(), ordered=True)\n",
    "# mic_aa = mic_aa.sort_values('ENA_RUN')\n",
    "mic_aa.ENA_RUN = mic_aa.ENA_RUN.astype('category')\n",
    "mic_aa.ENA_RUN = mic_aa.ENA_RUN.cat.set_categories(variants['sample_id'].unique().tolist())\n",
    "mic_aa = mic_aa.sort_values([\"ENA_RUN\"])  ## 'sort' changed to 'sort_values'\n",
    "\n",
    "\n",
    "np.savetxt('data_new_eth/aa_data_train_gene.csv', aa_array[:int(aa_array.shape[0]*0.9), :], delimiter=',', fmt='%s')\n",
    "# Save the remaining 10% of rows to another CSV file\n",
    "np.savetxt('data_new_eth/aa_data_test_gene.csv', aa_array[int(aa_array.shape[0]*0.9):, :], delimiter=',', fmt='%s')\n",
    "\n",
    "# np.savetxt('data_new_eth/aa_data_train.csv', aa_array[:int(aa_array.shape[0]*0.9), :], delimiter=',', fmt='%s')\n",
    "# # Save the remaining 10% of rows to another CSV file\n",
    "# np.savetxt('data_new_eth/aa_data_test.csv', aa_array[int(aa_array.shape[0]*0.9):, :], delimiter=',', fmt='%s')\n",
    "mic_aa = mic_aa[['ETH_MIC']].astype('float')\n",
    "\n",
    "mic_aa.iloc[:int(mic_aa.shape[0]*0.9),:].to_csv('data_new_eth/mic_aa_train.csv', index=False)\n",
    "mic_aa.iloc[int(mic_aa.shape[0]*0.9):,:].to_csv('data_new_eth/mic_aa_test.csv', index=False)\n",
    "\n",
    "encoded_mic = []\n",
    "for value in mic_aa['ETH_MIC']:\n",
    "    if value <=2 :\n",
    "        encoded_mic.append(0)  # mic < 0.05\n",
    "    elif value >= 8:\n",
    "        encoded_mic.append(2)\n",
    "    else:# 0.05 <= mic < 0.12\n",
    "        encoded_mic.append(1)  # 0.05 <= mic < 0.12\n",
    "\n",
    "# mic_aa['ETH_MIC'] = encoded_mic\n",
    "mic_aa_cp = mic_aa.copy()\n",
    "mic_aa_cp['ETH_MIC'] = encoded_mic\n",
    "mic_aa_cp.iloc[:int(mic_aa_cp.shape[0]*0.9),:].to_csv('data_new_eth/mic_aa_train_hml.csv', index=False)\n",
    "mic_aa_cp.iloc[int(mic_aa_cp.shape[0]*0.9):,:].to_csv('data_new_eth/mic_aa_test_hml.csv', index=False)"
   ]
  },
  {
   "cell_type": "markdown",
   "metadata": {},
   "source": [
    "## INH"
   ]
  },
  {
   "cell_type": "code",
   "execution_count": 27,
   "metadata": {},
   "outputs": [
    {
     "name": "stderr",
     "output_type": "stream",
     "text": [
      "/tmp/ipykernel_125163/3008021392.py:7: SettingWithCopyWarning: \n",
      "A value is trying to be set on a copy of a slice from a DataFrame\n",
      "\n",
      "See the caveats in the documentation: https://pandas.pydata.org/pandas-docs/stable/user_guide/indexing.html#returning-a-view-versus-a-copy\n",
      "  df_inh.loc[i, f'{x}'] = '0.0125'\n",
      "/tmp/ipykernel_125163/3008021392.py:5: SettingWithCopyWarning: \n",
      "A value is trying to be set on a copy of a slice from a DataFrame\n",
      "\n",
      "See the caveats in the documentation: https://pandas.pydata.org/pandas-docs/stable/user_guide/indexing.html#returning-a-view-versus-a-copy\n",
      "  df_inh.loc[i, f'{x}'] = '3.2'\n"
     ]
    }
   ],
   "source": [
    "df_inh = df[df['INH_MIC'].isin(['>1.6','1.6', '0.8', '0.4', '0.2', '0.1', '0.05', '<=0.025'])]\n",
    "for i, row in df_inh.iterrows():\n",
    "    x = 'INH_MIC'\n",
    "    if row[x] == '>1.6' :\n",
    "        df_inh.loc[i, f'{x}'] = '3.2'\n",
    "    elif row[x] == '<=0.025':\n",
    "        df_inh.loc[i, f'{x}'] = '0.0125'\n",
    "        \n"
   ]
  },
  {
   "cell_type": "code",
   "execution_count": 28,
   "metadata": {},
   "outputs": [
    {
     "name": "stderr",
     "output_type": "stream",
     "text": [
      "/tmp/ipykernel_125163/2080128498.py:1: SettingWithCopyWarning: \n",
      "A value is trying to be set on a copy of a slice from a DataFrame.\n",
      "Try using .loc[row_indexer,col_indexer] = value instead\n",
      "\n",
      "See the caveats in the documentation: https://pandas.pydata.org/pandas-docs/stable/user_guide/indexing.html#returning-a-view-versus-a-copy\n",
      "  df_inh['INH_MIC'] = df_inh['INH_MIC'].astype('float')\n",
      "100%|██████████| 3959/3959 [00:05<00:00, 738.81it/s]\n",
      "/tmp/ipykernel_125163/2080128498.py:40: SettingWithCopyWarning: \n",
      "A value is trying to be set on a copy of a slice from a DataFrame.\n",
      "Try using .loc[row_indexer,col_indexer] = value instead\n",
      "\n",
      "See the caveats in the documentation: https://pandas.pydata.org/pandas-docs/stable/user_guide/indexing.html#returning-a-view-versus-a-copy\n",
      "  mic_aa.ENA_RUN = mic_aa.ENA_RUN.astype('category')\n",
      "/tmp/ipykernel_125163/2080128498.py:41: SettingWithCopyWarning: \n",
      "A value is trying to be set on a copy of a slice from a DataFrame.\n",
      "Try using .loc[row_indexer,col_indexer] = value instead\n",
      "\n",
      "See the caveats in the documentation: https://pandas.pydata.org/pandas-docs/stable/user_guide/indexing.html#returning-a-view-versus-a-copy\n",
      "  mic_aa.ENA_RUN = mic_aa.ENA_RUN.cat.set_categories(variants['sample_id'].unique().tolist())\n"
     ]
    }
   ],
   "source": [
    "df_inh['INH_MIC'] = df_inh['INH_MIC'].astype('float')\n",
    "\n",
    "variants = pd.read_csv('variants_full.csv')\n",
    "variants = variants[variants['type'] != 'synonymous_variant']\n",
    "cryptic = df_inh\n",
    "overlap = set(variants['sample_id']).intersection(set(cryptic['ENA_RUN'].to_list()))\n",
    "variants = variants[variants['drugs'].isin(['isoniazid,ethionamide', 'isoniazid', 'isoniazid,isoniazid'])]\n",
    "variants = variants[variants['sample_id'].isin(overlap)]\n",
    "variants['SNP'] = variants['gene'] + '-'+ variants['change']\n",
    "\n",
    "def compare_snp_lists_with_values_optimized(set_list, query_list, values_list):\n",
    "    # Create a dictionary from query_list and values_list for direct mapping\n",
    "    query_dict = dict(zip(query_list, values_list))\n",
    "    \n",
    "    # Use list comprehension to build the output list directly\n",
    "    output_list = [query_dict.get(snp, 0) for snp in set_list]\n",
    "    \n",
    "    return output_list\n",
    "\n",
    "# Example usage\n",
    "# set_list = ['SNP1', 'SNP2', 'SNP3', 'SNP4']\n",
    "# query_list = ['SNP2', 'SNP4']\n",
    "# values_list = [5, 10]  # Corresponding values for 'SNP2' and 'SNP4'\n",
    "# output_list = compare_snp_lists_with_values_optimized(set_list, query_list, values_list)\n",
    "# print(output_list)  # Expected output: [0, 5, 0, 10]# Getting all snp data\n",
    "\n",
    "aa = []\n",
    "all_snp = variants['SNP'].unique() # here is a list of all snps values title for the row in the final table \n",
    "for x in tqdm(variants['sample_id'].unique()):\n",
    "    aa.append(compare_snp_lists_with_values_optimized(all_snp, variants[variants['sample_id']==x]['SNP'].to_list(), variants[variants['sample_id']==x]['freq'].to_list()))\n",
    "    # print('SNP')\n",
    "    \n",
    "aa_array = np.array(aa)\n",
    "aa_array[aa_array < 0.8] = 0\n",
    "aa_array[aa_array >= 0.8] = 1\n",
    "\n",
    "mic_aa = cryptic[cryptic['ENA_RUN'].isin(variants['sample_id'].unique())]#.iloc[:,14:27]\n",
    "# mic_aa['wgs_id'] = pd.Categorical(mic_aa['ENA_RUN'], categories=variants['sample_id'].unique().tolist(), ordered=True)\n",
    "# mic_aa = mic_aa.sort_values('ENA_RUN')\n",
    "mic_aa.ENA_RUN = mic_aa.ENA_RUN.astype('category')\n",
    "mic_aa.ENA_RUN = mic_aa.ENA_RUN.cat.set_categories(variants['sample_id'].unique().tolist())\n",
    "mic_aa = mic_aa.sort_values([\"ENA_RUN\"])  ## 'sort' changed to 'sort_values'\n",
    "\n",
    "\n",
    "np.savetxt('data_new_inh/aa_data_train_gene.csv', aa_array[:int(aa_array.shape[0]*0.9), :], delimiter=',', fmt='%s')\n",
    "# Save the remaining 10% of rows to another CSV file\n",
    "np.savetxt('data_new_inh/aa_data_test_gene.csv', aa_array[int(aa_array.shape[0]*0.9):, :], delimiter=',', fmt='%s')\n",
    "\n",
    "# np.savetxt('data_new_inh/aa_data_train.csv', aa_array[:int(aa_array.shape[0]*0.9), :], delimiter=',', fmt='%s')\n",
    "# # Save the remaining 10% of rows to another CSV file\n",
    "# np.savetxt('data_new_inh/aa_data_test.csv', aa_array[int(aa_array.shape[0]*0.9):, :], delimiter=',', fmt='%s')\n",
    "mic_aa = mic_aa[['INH_MIC']].astype('float')\n",
    "\n",
    "mic_aa.iloc[:int(mic_aa.shape[0]*0.9),:].to_csv('data_new_inh/mic_aa_train.csv', index=False)\n",
    "mic_aa.iloc[int(mic_aa.shape[0]*0.9):,:].to_csv('data_new_inh/mic_aa_test.csv', index=False)\n",
    "\n",
    "encoded_mic = []\n",
    "for value in mic_aa['INH_MIC']:\n",
    "    if value <=0.1 :\n",
    "        encoded_mic.append(0)  # mic < 0.05\n",
    "    elif value >= 0.8:\n",
    "        encoded_mic.append(2)\n",
    "    else:# 0.05 <= mic < 0.12\n",
    "        encoded_mic.append(1)  # 0.05 <= mic < 0.12\n",
    "\n",
    "# mic_aa['INH_MIC'] = encoded_mic\n",
    "mic_aa_cp = mic_aa.copy()\n",
    "mic_aa_cp['INH_MIC'] = encoded_mic\n",
    "mic_aa_cp.iloc[:int(mic_aa_cp.shape[0]*0.9),:].to_csv('data_new_inh/mic_aa_train_hml.csv', index=False)\n",
    "mic_aa_cp.iloc[int(mic_aa_cp.shape[0]*0.9):,:].to_csv('data_new_inh/mic_aa_test_hml.csv', index=False)"
   ]
  },
  {
   "cell_type": "markdown",
   "metadata": {},
   "source": [
    "# Previous"
   ]
  },
  {
   "cell_type": "code",
   "execution_count": 4,
   "metadata": {},
   "outputs": [
    {
     "name": "stdout",
     "output_type": "stream",
     "text": [
      "['0.015' '0.03' '0.05' '0.06' '0.1' '0.12' '0.2' '0.25' '0.4' '0.5' '0.8'\n",
      " '1' '1.6' '12.8' '16' '2' '3.2' '32' '4' '6.4' '8' '<=0.008' '<=0.015'\n",
      " '<=0.025' '<=0.03' '<=0.06' '<=0.12' '<=0.25' '<=1' '>0.5' '>1' '>1.6'\n",
      " '>12.8' '>16' '>2' '>32' '>4' '>8' 'nan']\n",
      "{'0.5': 21599, '<=0.06': 14544, '2': 13432, '0.25': 13103, '1': 12719, '0.12': 9420, '0.06': 8132, '<=0.25': 7382, '<=0.015': 6288, '4': 5803, '0.03': 5529, '>8': 3931, '<=1': 3540, '0.05': 3426, '8': 3398, '<=0.008': 3309, '>2': 3157, '>4': 2856, '0.015': 2840, '<=0.025': 2458, nan: 2356, '<=0.03': 2237, '>1.6': 1647, '1.6': 1426, '>16': 1026, '3.2': 890, '<=0.12': 435, '16': 423, '6.4': 373, '0.2': 366, '0.8': 349, '0.4': 307, '>12.8': 294, '0.1': 275, '12.8': 255, '32': 80, '>1': 56, '>0.5': 30, '>32': 14}\n"
     ]
    }
   ],
   "source": [
    "ar = df[['AMI_MIC', 'BDQ_MIC','CFZ_MIC', 'DLM_MIC', 'EMB_MIC', 'ETH_MIC', 'INH_MIC', 'KAN_MIC', 'LEV_MIC', 'LZD_MIC', 'MXF_MIC', 'RIF_MIC', 'RFB_MIC']].values\n",
    "\n",
    "list_2d = [element for row in ar for element in row]\n",
    "print(np.unique(list_2d))\n",
    "print(value_counts_list(list_2d))"
   ]
  },
  {
   "attachments": {},
   "cell_type": "markdown",
   "metadata": {},
   "source": [
    "['<=0.008', '<=0.015', '0.015', '<=0.025', '0.03', '<=0.03', '0.05', '0.06', '<=0.06', '0.1', '0.12', '<=0.12', '0.2', '0.25', '<=0.25', '0.4', '<=1', '>0.5', '>1', '>1.6', '0.5', '0.8', '>4', '1', '>8', '1.6', '2', '3.2', '4', '6.4', '8', '12.8', '16', '>12.8', '>16', '>32', '>2', '32']\n"
   ]
  },
  {
   "cell_type": "code",
   "execution_count": 5,
   "metadata": {},
   "outputs": [],
   "source": [
    "# # below code removes values that are the edge cases of the MIC values\n",
    "# for i, row in df.iterrows():\n",
    "#     for x in ['AMI_MIC', 'BDQ_MIC', 'CFZ_MIC', 'DLM_MIC', 'EMB_MIC', 'ETH_MIC', 'INH_MIC', 'KAN_MIC', 'LEV_MIC', 'LZD_MIC', 'MXF_MIC', 'RIF_MIC', 'RFB_MIC']:\n",
    "#         if row[x] in ['<=0.008', '<=0.015', '<=0.025', '<=0.03', '<=0.06','<=0.12','<=0.25']:\n",
    "#             df.loc[i, f'{x}'] = '<=0.25'\n",
    "#         elif row[x] in ['>8', '12.8', '>12.8', '16', '>16', '32', '>32' ]:\n",
    "#             df.loc[i, f'{x}'] = '>32'\n",
    "#         elif row[x] in ['>0.5','<=1','>1','>1.6','>2','>4']:\n",
    "#             df.loc[i, f'{x}'] = float('nan')"
   ]
  },
  {
   "cell_type": "code",
   "execution_count": 6,
   "metadata": {},
   "outputs": [
    {
     "data": {
      "text/plain": [
       "Index(['UNIQUEID', 'AMI_BINARY_PHENOTYPE', 'BDQ_BINARY_PHENOTYPE',\n",
       "       'CFZ_BINARY_PHENOTYPE', 'DLM_BINARY_PHENOTYPE', 'EMB_BINARY_PHENOTYPE',\n",
       "       'ETH_BINARY_PHENOTYPE', 'INH_BINARY_PHENOTYPE', 'KAN_BINARY_PHENOTYPE',\n",
       "       'LEV_BINARY_PHENOTYPE', 'LZD_BINARY_PHENOTYPE', 'MXF_BINARY_PHENOTYPE',\n",
       "       'RIF_BINARY_PHENOTYPE', 'RFB_BINARY_PHENOTYPE', 'AMI_MIC', 'BDQ_MIC',\n",
       "       'CFZ_MIC', 'DLM_MIC', 'EMB_MIC', 'ETH_MIC', 'INH_MIC', 'KAN_MIC',\n",
       "       'LEV_MIC', 'LZD_MIC', 'MXF_MIC', 'RIF_MIC', 'RFB_MIC',\n",
       "       'AMI_PHENOTYPE_QUALITY', 'BDQ_PHENOTYPE_QUALITY',\n",
       "       'CFZ_PHENOTYPE_QUALITY', 'EMB_PHENOTYPE_QUALITY',\n",
       "       'ETH_PHENOTYPE_QUALITY', 'INH_PHENOTYPE_QUALITY',\n",
       "       'KAN_PHENOTYPE_QUALITY', 'LEV_PHENOTYPE_QUALITY',\n",
       "       'LZD_PHENOTYPE_QUALITY', 'MXF_PHENOTYPE_QUALITY',\n",
       "       'RIF_PHENOTYPE_QUALITY', 'RFB_PHENOTYPE_QUALITY', 'ENA_SAMPLE', 'VCF',\n",
       "       'REGENOTYPED_VCF', 'wgs_id'],\n",
       "      dtype='object')"
      ]
     },
     "execution_count": 6,
     "metadata": {},
     "output_type": "execute_result"
    }
   ],
   "source": [
    "df.columns"
   ]
  },
  {
   "cell_type": "code",
   "execution_count": 19,
   "metadata": {},
   "outputs": [
    {
     "name": "stdout",
     "output_type": "stream",
     "text": [
      "AMI_MIC\n",
      "['<=0.25' '0.5' '1' '>8' '4' '2' '8' nan '>16' '16']\n",
      "BDQ_MIC\n",
      "[nan '0.06' '0.03' '0.25' '<=0.015' '0.5' '0.12' '2' '>2' '0.015'\n",
      " '<=0.008' '>1' '1']\n",
      "CFZ_MIC\n",
      "['<=0.06' '0.12' '0.25' '0.5' '2' '1' '4' nan '>4' '<=0.03' '0.06' '>2']\n",
      "DLM_MIC\n",
      "['<=0.015' nan '0.03' '0.06' '0.12' '>1' '0.5' '0.25' '1' '<=0.008'\n",
      " '0.015' '>0.5']\n",
      "EMB_MIC\n",
      "['1' '2' '0.5' '4' '>8' '8' nan '0.25' '<=0.06' '0.12' '16' '>32' '32'\n",
      " '<=0.25']\n",
      "ETH_MIC\n",
      "['2' '1' '4' '>8' '0.5' '8' '<=0.25' nan]\n",
      "INH_MIC\n",
      "['0.05' '<=0.025' '0.2' '0.1' '>1.6' '1.6' nan '0.8' '0.4' '3.2' '12.8'\n",
      " '>12.8' '6.4']\n",
      "KAN_MIC\n",
      "['2' '<=1' '>16' '16' '4' nan '8']\n",
      "LEV_MIC\n",
      "['0.25' '1' '0.5' '<=0.12' '2' '8' '>8' '4' nan]\n",
      "LZD_MIC\n",
      "['0.25' '0.5' '1' '2' '>2' '0.12' nan '<=0.03' '0.06' '<=0.06' '4' '>4']\n",
      "MXF_MIC\n",
      "['0.25' '0.5' '0.12' '2' '4' '1' '>4' '<=0.06' nan]\n",
      "RIF_MIC\n",
      "['<=0.06' '0.12' '>4' '4' '2' '0.25' '0.5' nan '1' '>8' '0.06' '<=0.03'\n",
      " '8']\n",
      "RFB_MIC\n",
      "['<=0.06' '>2' '0.12' '0.5' '2' '0.25' '1' nan]\n"
     ]
    }
   ],
   "source": [
    "for x in ['AMI_MIC', 'BDQ_MIC',\n",
    "       'CFZ_MIC', 'DLM_MIC', 'EMB_MIC', 'ETH_MIC', 'INH_MIC', 'KAN_MIC',\n",
    "       'LEV_MIC', 'LZD_MIC', 'MXF_MIC', 'RIF_MIC', 'RFB_MIC']:\n",
    "    print(x)\n",
    "    # print(df[x].value_counts())\n",
    "    print(df[x].unique())"
   ]
  },
  {
   "cell_type": "code",
   "execution_count": 20,
   "metadata": {},
   "outputs": [],
   "source": [
    "df_ori = df.copy()"
   ]
  },
  {
   "cell_type": "code",
   "execution_count": 23,
   "metadata": {},
   "outputs": [
    {
     "data": {
      "text/plain": [
       "<=0.06    2317\n",
       ">4        2243\n",
       "0.12      2105\n",
       ">8        1771\n",
       "0.06      1326\n",
       "<=0.03     753\n",
       "0.25       723\n",
       "8          229\n",
       "0.5        188\n",
       "4          169\n",
       "2          151\n",
       "1          120\n",
       "Name: RIF_MIC, dtype: int64"
      ]
     },
     "execution_count": 23,
     "metadata": {},
     "output_type": "execute_result"
    }
   ],
   "source": [
    "df_ori['RIF_MIC'].value_counts()"
   ]
  },
  {
   "cell_type": "code",
   "execution_count": 25,
   "metadata": {},
   "outputs": [
    {
     "data": {
      "text/plain": [
       "8        2472\n",
       "0.03     2317\n",
       "0.12     2105\n",
       "16       1771\n",
       "0.06     1326\n",
       "0.015     753\n",
       "0.25      723\n",
       "0.5       188\n",
       "4         169\n",
       "2         151\n",
       "1         120\n",
       "Name: RIF_MIC, dtype: int64"
      ]
     },
     "execution_count": 25,
     "metadata": {},
     "output_type": "execute_result"
    }
   ],
   "source": [
    "df['RIF_MIC'].value_counts()"
   ]
  },
  {
   "cell_type": "code",
   "execution_count": 22,
   "metadata": {},
   "outputs": [
    {
     "name": "stdout",
     "output_type": "stream",
     "text": [
      "AMI_MIC\n",
      "['0.125' '0.5' '1' '16' '4' '2' '8' nan '32']\n",
      "BDQ_MIC\n",
      "[nan '0.06' '0.03' '0.25' '0.0075' '0.5' '0.12' '2' '4' '0.015' '0.004'\n",
      " '1']\n",
      "CFZ_MIC\n",
      "['0.03' '0.12' '0.25' '0.5' '2' '1' '4' nan '8' '0.015' '0.06']\n",
      "DLM_MIC\n",
      "['0.0075' nan '0.03' '0.06' '0.12' '2' '0.5' '0.25' '1' '0.004' '0.015'\n",
      " '1.0']\n",
      "EMB_MIC\n",
      "['1' '2' '0.5' '4' '16' '8' nan '0.25' '0.03' '0.12' '64' '32' '0.125']\n",
      "ETH_MIC\n",
      "['2' '1' '4' '16' '0.5' '8' '0.125' nan]\n",
      "INH_MIC\n",
      "['0.05' '0.01125' '0.2' '0.1' '3.2' '1.6' nan '0.8' '0.4' '12.8' '25.6'\n",
      " '6.4']\n",
      "KAN_MIC\n",
      "['2' '0.5' '32' '16' '4' nan '8']\n",
      "LEV_MIC\n",
      "['0.25' '1' '0.5' '0.06' '2' '8' '16' '4' nan]\n",
      "LZD_MIC\n",
      "['0.25' '0.5' '1' '2' '4' '0.12' nan '0.15' '0.06' '0.03' '8']\n",
      "MXF_MIC\n",
      "['0.25' '0.5' '0.12' '2' '4' '1' '8' '0.03' nan]\n",
      "RIF_MIC\n",
      "['0.03' '0.12' '8' '4' '2' '0.25' '0.5' nan '1' '16' '0.06' '0.015']\n",
      "RFB_MIC\n",
      "['0.03' '4' '0.12' '0.5' '2' '0.25' '1' nan]\n"
     ]
    }
   ],
   "source": [
    "for x in ['AMI_MIC', 'BDQ_MIC',\n",
    "       'CFZ_MIC', 'DLM_MIC', 'EMB_MIC', 'ETH_MIC', 'INH_MIC', 'KAN_MIC',\n",
    "       'LEV_MIC', 'LZD_MIC', 'MXF_MIC', 'RIF_MIC', 'RFB_MIC']:\n",
    "    print(x)\n",
    "    # print(df[x].value_counts())\n",
    "    print(df[x].unique())"
   ]
  },
  {
   "cell_type": "code",
   "execution_count": 21,
   "metadata": {},
   "outputs": [],
   "source": [
    "# below code removes values that are the edge cases of the MIC values\n",
    "\n",
    "for i, row in df.iterrows():\n",
    "    x = 'AMI_MIC'\n",
    "    if row[x] == '<=0.25' :\n",
    "        df.loc[i, f'{x}'] = '0.125'\n",
    "    elif row[x] == '>16':\n",
    "        df.loc[i, f'{x}'] = '32'\n",
    "    elif row[x] == '>8':\n",
    "        df.loc[i, f'{x}'] = '16'    \n",
    "\n",
    "    x = 'BDQ_MIC'\n",
    "    if row[x] == '<=0.015' :\n",
    "        df.loc[i, f'{x}'] = '0.0075'\n",
    "    elif row[x] == '<=0.008' :\n",
    "        df.loc[i, f'{x}'] = '0.004'\n",
    "    elif row[x] == '>1':\n",
    "        df.loc[i, f'{x}'] = '2'  \n",
    "    elif row[x] == '>2':\n",
    "        df.loc[i, f'{x}'] = '4'\n",
    "        \n",
    "    x = 'CFZ_MIC'\n",
    "    if row[x] == '<=0.06' :\n",
    "        df.loc[i, f'{x}'] = '0.03'\n",
    "    elif row[x] == '<=0.03':\n",
    "        df.loc[i, f'{x}'] = '0.015'\n",
    "    elif row[x] == '>2': #! there is middle value between two ranges\n",
    "        df.loc[i, f'{x}'] = '4'\n",
    "    elif row[x] == '>4':\n",
    "        df.loc[i, f'{x}'] = '8'\n",
    "        \n",
    "    x = 'DLM_MIC'\n",
    "    if row[x] == '<=0.015' :\n",
    "        df.loc[i, f'{x}'] = '0.0075'\n",
    "    elif row[x] == '<=0.008':\n",
    "        df.loc[i, f'{x}'] = '0.004'\n",
    "    elif row[x] == '>1':\n",
    "        df.loc[i, f'{x}'] = '2' #! there is middle value between two ranges, should i turn these range values in the middle into nan\n",
    "    elif row[x] == '>0.5':\n",
    "        df.loc[i, f'{x}'] = '1.0'\n",
    "\n",
    "    \n",
    "    x = 'EMB_MIC'\n",
    "    if row[x] == '<=0.25' :\n",
    "        df.loc[i, f'{x}'] = '0.125'\n",
    "    elif row[x] == '<=0.06' :\n",
    "        df.loc[i, f'{x}'] = '0.03'\n",
    "    elif row[x] == '>8':\n",
    "        df.loc[i, f'{x}'] = '16'\n",
    "    elif row[x] == '>32':\n",
    "        df.loc[i, f'{x}'] = '64'     \n",
    "           \n",
    "    x = 'ETH_MIC'\n",
    "    if row[x] == '<=0.25' :\n",
    "        df.loc[i, f'{x}'] = '0.125'\n",
    "    elif row[x] == '>8':\n",
    "        df.loc[i, f'{x}'] = '16'\n",
    "        \n",
    "    x = 'INH_MIC'\n",
    "    if row[x] == '<=0.025' :\n",
    "        df.loc[i, f'{x}'] = '0.01125'\n",
    "    elif row[x] == '>12.8':\n",
    "        df.loc[i, f'{x}'] = '25.6'\n",
    "    elif row[x] == '>1.6':\n",
    "        df.loc[i, f'{x}'] = '3.2'         \n",
    "        \n",
    "    x = 'KAN_MIC'\n",
    "    if row[x] == '<=1' :\n",
    "        df.loc[i, f'{x}'] = '0.5'\n",
    "    elif row[x] == '>16':\n",
    "        df.loc[i, f'{x}'] = '32'   \n",
    "\n",
    "    x = 'LEV_MIC'\n",
    "    if row[x] == '<=0.12' :\n",
    "        df.loc[i, f'{x}'] = '0.06'\n",
    "    elif row[x] == '>8':\n",
    "        df.loc[i, f'{x}'] = '16'\n",
    "\n",
    "    x = 'LZD_MIC'\n",
    "    if row[x] == '<=0.03' :\n",
    "        df.loc[i, f'{x}'] = '0.15'\n",
    "    elif row[x] == '<=0.06' :\n",
    "        df.loc[i, f'{x}'] = '0.03'\n",
    "    elif row[x] == '>2':\n",
    "        df.loc[i, f'{x}'] = '4'\n",
    "    elif row[x] == '>4':\n",
    "        df.loc[i, f'{x}'] = '8'                                                                                     \n",
    "\n",
    "    x = 'MXF_MIC'\n",
    "    if row[x] == '<=0.06' :\n",
    "        df.loc[i, f'{x}'] = '0.03'\n",
    "    elif row[x] == '>4':\n",
    "        df.loc[i, f'{x}'] = '8'    \n",
    "    \n",
    "    x = 'RIF_MIC'\n",
    "    if row[x] == '<=0.06' :\n",
    "        df.loc[i, f'{x}'] = '0.03'\n",
    "    elif row[x] == '<=0.03':\n",
    "        df.loc[i, f'{x}'] = '0.015'    \n",
    "    elif row[x] == '>8':\n",
    "        df.loc[i, f'{x}'] = '16'   \n",
    "    elif row[x] == '>4':\n",
    "        df.loc[i, f'{x}'] = '8'\n",
    "        \n",
    "        \n",
    "    x = 'RFB_MIC'\n",
    "    if row[x] == '<=0.06' :\n",
    "        df.loc[i, f'{x}'] = '0.03'\n",
    "    elif row[x] == '>2':\n",
    "        df.loc[i, f'{x}'] = '4'    "
   ]
  },
  {
   "cell_type": "code",
   "execution_count": 20,
   "metadata": {},
   "outputs": [],
   "source": [
    "# below code removes values that are the edge cases of the MIC values\n",
    "\n",
    "for i, row in df.iterrows():\n",
    "    x = 'AMI_MIC'\n",
    "    if row[x] == '<=0.25' :\n",
    "        df.loc[i, f'{x}'] = '0.125'\n",
    "    elif row[x] == '>16':\n",
    "        df.loc[i, f'{x}'] = '32'\n",
    "    # elif row[x] == '>8':\n",
    "        # df.loc[i, f'{x}'] = '16'\n",
    "    elif row[x] == '>8':\n",
    "        df.loc[i, f'{x}'] = '32'    \n",
    "\n",
    "    x = 'BDQ_MIC'\n",
    "    if row[x] == '<=0.015' :\n",
    "        df.loc[i, f'{x}'] = '0.0075'\n",
    "    elif row[x] == '<=0.008' :\n",
    "        df.loc[i, f'{x}'] = '0.004'\n",
    "    # elif row[x] == '>1':\n",
    "        # df.loc[i, f'{x}'] = '2'  \n",
    "    elif row[x] == '>1':\n",
    "        df.loc[i, f'{x}'] = '4'    \n",
    "    elif row[x] == '>2':\n",
    "        df.loc[i, f'{x}'] = '4'\n",
    "        \n",
    "    x = 'CFZ_MIC'\n",
    "    if row[x] == '<=0.06' :\n",
    "        df.loc[i, f'{x}'] = '0.03'\n",
    "    elif row[x] == '<=0.03':\n",
    "        df.loc[i, f'{x}'] = '0.015'\n",
    "    # elif row[x] == '>2': #! there is middle value between two ranges\n",
    "    #     df.loc[i, f'{x}'] = '4'\n",
    "    elif row[x] == '>2': #! there is middle value between two ranges\n",
    "        df.loc[i, f'{x}'] = '8'\n",
    "    elif row[x] == '>4':\n",
    "        df.loc[i, f'{x}'] = '8'\n",
    "        \n",
    "    x = 'DLM_MIC'\n",
    "    if row[x] == '<=0.015' :\n",
    "        df.loc[i, f'{x}'] = '0.0075'\n",
    "    elif row[x] == '<=0.008':\n",
    "        df.loc[i, f'{x}'] = '0.004'\n",
    "    elif row[x] == '>1':\n",
    "        df.loc[i, f'{x}'] = '2' #! there is middle value between two ranges, should i turn these range values in the middle into nan\n",
    "    # elif row[x] == '>0.5':\n",
    "    #     df.loc[i, f'{x}'] = '1.0'\n",
    "    elif row[x] == '>0.5':\n",
    "        df.loc[i, f'{x}'] = '2'\n",
    "    \n",
    "    x = 'EMB_MIC'\n",
    "    if row[x] == '<=0.25' :\n",
    "        df.loc[i, f'{x}'] = '0.125'\n",
    "    elif row[x] == '<=0.06' :\n",
    "        df.loc[i, f'{x}'] = '0.03'\n",
    "    elif row[x] == '>8':\n",
    "        df.loc[i, f'{x}'] = '16'\n",
    "    elif row[x] == '>32':\n",
    "        df.loc[i, f'{x}'] = '64'     \n",
    "           \n",
    "    x = 'ETH_MIC'\n",
    "    if row[x] == '<=0.25' :\n",
    "        df.loc[i, f'{x}'] = '0.125'\n",
    "    elif row[x] == '>8':\n",
    "        df.loc[i, f'{x}'] = '16'\n",
    "        \n",
    "    x = 'INH_MIC'\n",
    "    if row[x] == '<=0.025' :\n",
    "        df.loc[i, f'{x}'] = '0.01125'\n",
    "    elif row[x] == '>12.8':\n",
    "        df.loc[i, f'{x}'] = '25.6'\n",
    "    elif row[x] == '>1.6':\n",
    "        df.loc[i, f'{x}'] = '3.2'         \n",
    "        \n",
    "    x = 'KAN_MIC'\n",
    "    if row[x] == '<=1' :\n",
    "        df.loc[i, f'{x}'] = '0.5'\n",
    "    elif row[x] == '>16':\n",
    "        df.loc[i, f'{x}'] = '32'   \n",
    "\n",
    "    x = 'LEV_MIC'\n",
    "    if row[x] == '<=0.12' :\n",
    "        df.loc[i, f'{x}'] = '0.06'\n",
    "    elif row[x] == '>8':\n",
    "        df.loc[i, f'{x}'] = '16'\n",
    "\n",
    "    x = 'LZD_MIC'\n",
    "    if row[x] == '<=0.03' :\n",
    "        df.loc[i, f'{x}'] = '0.15'\n",
    "    elif row[x] == '<=0.06' :\n",
    "        df.loc[i, f'{x}'] = '0.03'\n",
    "    elif row[x] == '>2':\n",
    "        df.loc[i, f'{x}'] = '4'\n",
    "    elif row[x] == '>4':\n",
    "        df.loc[i, f'{x}'] = '8'                                                                                     \n",
    "\n",
    "    x = 'MXF_MIC'\n",
    "    if row[x] == '<=0.06' :\n",
    "        df.loc[i, f'{x}'] = '0.03'\n",
    "    elif row[x] == '>4':\n",
    "        df.loc[i, f'{x}'] = '8'    \n",
    "    \n",
    "    x = 'RIF_MIC'\n",
    "    if row[x] == '<=0.06' :\n",
    "        df.loc[i, f'{x}'] = '0.03'\n",
    "    elif row[x] == '<=0.03':\n",
    "        df.loc[i, f'{x}'] = '0.015'    \n",
    "    elif row[x] == '>8':\n",
    "        df.loc[i, f'{x}'] = '16'   \n",
    "    elif row[x] == '>4':\n",
    "        df.loc[i, f'{x}'] = '8'\n",
    "        \n",
    "        \n",
    "    x = 'RFB_MIC'\n",
    "    if row[x] == '<=0.06' :\n",
    "        df.loc[i, f'{x}'] = '0.03'\n",
    "    elif row[x] == '>2':\n",
    "        df.loc[i, f'{x}'] = '4'    "
   ]
  },
  {
   "cell_type": "code",
   "execution_count": 23,
   "metadata": {},
   "outputs": [
    {
     "name": "stdout",
     "output_type": "stream",
     "text": [
      "['0.125' '0.5' '1' '16' '4' '2' '8' nan '32']\n",
      "[nan '0.06' '0.03' '0.25' '0.0075' '0.5' '0.12' '2' '4' '0.015' '0.004'\n",
      " '1']\n",
      "['0.03' '0.12' '0.25' '0.5' '2' '1' '4' nan '8' '0.015' '0.06']\n",
      "['0.0075' nan '0.03' '0.06' '0.12' '2' '0.5' '0.25' '1' '0.004' '0.015'\n",
      " '1.0']\n",
      "['1' '2' '0.5' '4' '16' '8' nan '0.25' '0.03' '0.12' '64' '32' '0.125']\n",
      "['2' '1' '4' '16' '0.5' '8' '0.125' nan]\n",
      "['0.05' '0.01125' '0.2' '0.1' '3.2' '1.6' nan '0.8' '0.4' '12.8' '25.6'\n",
      " '6.4']\n",
      "['2' '0.5' '32' '16' '4' nan '8']\n",
      "['0.25' '1' '0.5' '0.06' '2' '8' '16' '4' nan]\n",
      "['0.25' '0.5' '1' '2' '4' '0.12' nan '0.15' '0.06' '0.03' '8']\n",
      "['0.25' '0.5' '0.12' '2' '4' '1' '8' '0.03' nan]\n",
      "['0.03' '0.12' '8' '4' '2' '0.25' '0.5' nan '1' '16' '0.06' '0.015']\n",
      "['0.03' '4' '0.12' '0.5' '2' '0.25' '1' nan]\n"
     ]
    }
   ],
   "source": [
    "for x in ['AMI_MIC', 'BDQ_MIC',\n",
    "       'CFZ_MIC', 'DLM_MIC', 'EMB_MIC', 'ETH_MIC', 'INH_MIC', 'KAN_MIC',\n",
    "       'LEV_MIC', 'LZD_MIC', 'MXF_MIC', 'RIF_MIC', 'RFB_MIC']:\n",
    "    print(df[x].unique())\n",
    "# df['RIF_MIC'].unique()"
   ]
  },
  {
   "cell_type": "code",
   "execution_count": 24,
   "metadata": {},
   "outputs": [
    {
     "name": "stdout",
     "output_type": "stream",
     "text": [
      "{'0.5': 25139, '0.03': 20073, '2': 13488, '0.25': 13103, '1': 12719, '0.12': 9420, '4': 8960, '0.06': 8567, '0.125': 7382, '0.0075': 6288, '8': 6254, '0.015': 5001, '16': 4354, '0.05': 3426, '0.004': 3309, '3.2': 2537, '0.01125': 2458, nan: 2356, '1.6': 1426, '32': 1106, '6.4': 373, '0.2': 366, '0.8': 349, '0.4': 307, '25.6': 294, '0.1': 275, '12.8': 255, '0.15': 76, '1.0': 30, '64': 14}\n"
     ]
    }
   ],
   "source": [
    "ar = df[['AMI_MIC', 'BDQ_MIC','CFZ_MIC', 'DLM_MIC', 'EMB_MIC', 'ETH_MIC', 'INH_MIC', 'KAN_MIC', 'LEV_MIC', 'LZD_MIC', 'MXF_MIC', 'RIF_MIC', 'RFB_MIC']].values\n",
    "\n",
    "list_2d = [element for row in ar for element in row]\n",
    "print(value_counts_list(list_2d))"
   ]
  },
  {
   "cell_type": "code",
   "execution_count": 25,
   "metadata": {},
   "outputs": [],
   "source": [
    "drug_names = {\n",
    "    'AMI': 'Amikacin',\n",
    "    'BDQ': 'Bedaquiline',\n",
    "    'CFZ': 'Clofazimine',\n",
    "    'EMB': 'Ethambutol',\n",
    "    'ETH': 'Ethionamide',\n",
    "    'INH': 'Isoniazid', # the critical concentration would be 0.0312 mg/liter for low-level resistance and 0.125 mg/liter for high-level resistance\n",
    "    'KAN': 'Kanamycin',\n",
    "    'LEV': 'Levofloxacin',\n",
    "    'LZD': 'Linezolid',\n",
    "    'MXF': 'Moxifloxacin',\n",
    "    'RIF': 'Rifampicin',\n",
    "    'RFB': 'Rifabutin'\n",
    "}"
   ]
  },
  {
   "cell_type": "code",
   "execution_count": 12,
   "metadata": {},
   "outputs": [],
   "source": [
    "# # below code removes all MIC values with low quality\n",
    "# for i, row in df.iterrows():\n",
    "#     for x in ['AMI', 'BDQ', 'CFZ', 'EMB', 'ETH', 'INH', 'KAN', 'LEV', 'LZD', 'MXF', 'RIF', 'RFB']:\n",
    "#         if row[f'{x}_PHENOTYPE_QUALITY'] == 'LOW':\n",
    "#             df.loc[i, f'{x}_MIC'] = float('nan')\n",
    "#             # print(df.loc[i, f'{x}_MIC'])"
   ]
  },
  {
   "attachments": {},
   "cell_type": "markdown",
   "metadata": {},
   "source": [
    "### res data output"
   ]
  },
  {
   "cell_type": "code",
   "execution_count": 27,
   "metadata": {},
   "outputs": [
    {
     "name": "stdout",
     "output_type": "stream",
     "text": [
      "AMI_MIC\n",
      "['0.25' '0.5' '1' '8' '4' '2' nan '16']\n",
      "BDQ_MIC\n",
      "[nan '0.06' '0.03' '0.25' '0.005' '0.5' '0.12' '2' '0.015' '0.008' '1']\n",
      "CFZ_MIC\n",
      "['0.06' '0.12' '0.25' '0.5' '2' '1' '4' nan '0.03']\n",
      "EMB_MIC\n",
      "['1' '2' '0.5' '4' '8' nan '0.25' '0.06' '0.12' '16' '32']\n",
      "ETH_MIC\n",
      "['2' '1' '4' '8' '0.5' '0.25' nan]\n",
      "INH_MIC\n",
      "['0.05' '0.025' '0.2' '0.1' '1.6' nan '0.8' '0.4' '3.2' '12.8' '6.4']\n",
      "KAN_MIC\n",
      "['2' '1' '16' '4' nan '8']\n",
      "LEV_MIC\n",
      "['0.25' '1' '0.5' '0.12' '2' '8' '4' nan]\n",
      "LZD_MIC\n",
      "['0.25' '0.5' '1' '2' '0.12' nan '0.03' '0.06' '4' 5]\n",
      "MXF_MIC\n",
      "['0.25' '0.5' '0.12' '2' '4' '1' 5 '0.06' nan]\n",
      "RIF_MIC\n",
      "['0.06' '0.12' '4' '2' '0.25' '0.5' nan '1' '8' '0.03']\n",
      "RFB_MIC\n",
      "['0.06' '3' '0.12' '0.5' '2' '0.25' '1' nan]\n"
     ]
    }
   ],
   "source": [
    "# check if the range values are removed\n",
    "for x in ['AMI', 'BDQ', 'CFZ', 'EMB', 'ETH', 'INH', 'KAN', 'LEV', 'LZD', 'MXF', 'RIF', 'RFB']:\n",
    "    print(f'{x}_MIC')\n",
    "    print(df[f'{x}_MIC'].unique())"
   ]
  },
  {
   "cell_type": "code",
   "execution_count": 27,
   "metadata": {},
   "outputs": [],
   "source": [
    "df.sort_values(by=['wgs_id'], inplace=True)\n",
    "df.to_csv('data1/CRyPTIC_reuse_table_20221019_cleaned.csv', index=False)"
   ]
  },
  {
   "cell_type": "code",
   "execution_count": 28,
   "metadata": {},
   "outputs": [],
   "source": [
    "mic = df.iloc[:,14:27].astype('float')"
   ]
  },
  {
   "cell_type": "code",
   "execution_count": 29,
   "metadata": {},
   "outputs": [
    {
     "data": {
      "text/html": [
       "<div>\n",
       "<style scoped>\n",
       "    .dataframe tbody tr th:only-of-type {\n",
       "        vertical-align: middle;\n",
       "    }\n",
       "\n",
       "    .dataframe tbody tr th {\n",
       "        vertical-align: top;\n",
       "    }\n",
       "\n",
       "    .dataframe thead th {\n",
       "        text-align: right;\n",
       "    }\n",
       "</style>\n",
       "<table border=\"1\" class=\"dataframe\">\n",
       "  <thead>\n",
       "    <tr style=\"text-align: right;\">\n",
       "      <th></th>\n",
       "      <th>AMI_MIC</th>\n",
       "      <th>BDQ_MIC</th>\n",
       "      <th>CFZ_MIC</th>\n",
       "      <th>DLM_MIC</th>\n",
       "      <th>EMB_MIC</th>\n",
       "      <th>ETH_MIC</th>\n",
       "      <th>INH_MIC</th>\n",
       "      <th>KAN_MIC</th>\n",
       "      <th>LEV_MIC</th>\n",
       "      <th>LZD_MIC</th>\n",
       "      <th>MXF_MIC</th>\n",
       "      <th>RIF_MIC</th>\n",
       "      <th>RFB_MIC</th>\n",
       "    </tr>\n",
       "  </thead>\n",
       "  <tbody>\n",
       "    <tr>\n",
       "      <th>5839</th>\n",
       "      <td>0.500</td>\n",
       "      <td>0.060</td>\n",
       "      <td>0.120</td>\n",
       "      <td>0.0300</td>\n",
       "      <td>2.0</td>\n",
       "      <td>2.0</td>\n",
       "      <td>0.05</td>\n",
       "      <td>2.0</td>\n",
       "      <td>0.50</td>\n",
       "      <td>0.50</td>\n",
       "      <td>0.50</td>\n",
       "      <td>0.12</td>\n",
       "      <td>0.03</td>\n",
       "    </tr>\n",
       "    <tr>\n",
       "      <th>5840</th>\n",
       "      <td>0.500</td>\n",
       "      <td>0.060</td>\n",
       "      <td>0.030</td>\n",
       "      <td>0.0075</td>\n",
       "      <td>2.0</td>\n",
       "      <td>1.0</td>\n",
       "      <td>0.05</td>\n",
       "      <td>2.0</td>\n",
       "      <td>0.50</td>\n",
       "      <td>0.50</td>\n",
       "      <td>0.25</td>\n",
       "      <td>0.12</td>\n",
       "      <td>0.03</td>\n",
       "    </tr>\n",
       "    <tr>\n",
       "      <th>5841</th>\n",
       "      <td>0.125</td>\n",
       "      <td>0.060</td>\n",
       "      <td>0.030</td>\n",
       "      <td>0.0075</td>\n",
       "      <td>2.0</td>\n",
       "      <td>2.0</td>\n",
       "      <td>0.05</td>\n",
       "      <td>2.0</td>\n",
       "      <td>0.25</td>\n",
       "      <td>0.50</td>\n",
       "      <td>0.25</td>\n",
       "      <td>0.03</td>\n",
       "      <td>0.03</td>\n",
       "    </tr>\n",
       "    <tr>\n",
       "      <th>5842</th>\n",
       "      <td>0.500</td>\n",
       "      <td>0.060</td>\n",
       "      <td>0.120</td>\n",
       "      <td>0.0075</td>\n",
       "      <td>1.0</td>\n",
       "      <td>NaN</td>\n",
       "      <td>0.05</td>\n",
       "      <td>4.0</td>\n",
       "      <td>1.00</td>\n",
       "      <td>1.00</td>\n",
       "      <td>0.50</td>\n",
       "      <td>0.12</td>\n",
       "      <td>0.03</td>\n",
       "    </tr>\n",
       "    <tr>\n",
       "      <th>5843</th>\n",
       "      <td>0.125</td>\n",
       "      <td>0.060</td>\n",
       "      <td>0.120</td>\n",
       "      <td>0.0075</td>\n",
       "      <td>2.0</td>\n",
       "      <td>1.0</td>\n",
       "      <td>0.10</td>\n",
       "      <td>2.0</td>\n",
       "      <td>0.25</td>\n",
       "      <td>0.50</td>\n",
       "      <td>0.25</td>\n",
       "      <td>0.03</td>\n",
       "      <td>0.03</td>\n",
       "    </tr>\n",
       "    <tr>\n",
       "      <th>...</th>\n",
       "      <td>...</td>\n",
       "      <td>...</td>\n",
       "      <td>...</td>\n",
       "      <td>...</td>\n",
       "      <td>...</td>\n",
       "      <td>...</td>\n",
       "      <td>...</td>\n",
       "      <td>...</td>\n",
       "      <td>...</td>\n",
       "      <td>...</td>\n",
       "      <td>...</td>\n",
       "      <td>...</td>\n",
       "      <td>...</td>\n",
       "    </tr>\n",
       "    <tr>\n",
       "      <th>11394</th>\n",
       "      <td>0.125</td>\n",
       "      <td>0.015</td>\n",
       "      <td>0.015</td>\n",
       "      <td>0.0040</td>\n",
       "      <td>8.0</td>\n",
       "      <td>16.0</td>\n",
       "      <td>25.60</td>\n",
       "      <td>2.0</td>\n",
       "      <td>2.00</td>\n",
       "      <td>0.25</td>\n",
       "      <td>0.50</td>\n",
       "      <td>16.00</td>\n",
       "      <td>4.00</td>\n",
       "    </tr>\n",
       "    <tr>\n",
       "      <th>11395</th>\n",
       "      <td>0.125</td>\n",
       "      <td>0.030</td>\n",
       "      <td>0.060</td>\n",
       "      <td>0.0040</td>\n",
       "      <td>4.0</td>\n",
       "      <td>4.0</td>\n",
       "      <td>6.40</td>\n",
       "      <td>2.0</td>\n",
       "      <td>8.00</td>\n",
       "      <td>0.25</td>\n",
       "      <td>8.00</td>\n",
       "      <td>16.00</td>\n",
       "      <td>4.00</td>\n",
       "    </tr>\n",
       "    <tr>\n",
       "      <th>11397</th>\n",
       "      <td>1.000</td>\n",
       "      <td>0.030</td>\n",
       "      <td>0.060</td>\n",
       "      <td>0.0150</td>\n",
       "      <td>4.0</td>\n",
       "      <td>8.0</td>\n",
       "      <td>12.80</td>\n",
       "      <td>16.0</td>\n",
       "      <td>0.50</td>\n",
       "      <td>0.50</td>\n",
       "      <td>0.25</td>\n",
       "      <td>16.00</td>\n",
       "      <td>4.00</td>\n",
       "    </tr>\n",
       "    <tr>\n",
       "      <th>11398</th>\n",
       "      <td>0.500</td>\n",
       "      <td>0.015</td>\n",
       "      <td>0.060</td>\n",
       "      <td>0.0150</td>\n",
       "      <td>0.5</td>\n",
       "      <td>8.0</td>\n",
       "      <td>0.20</td>\n",
       "      <td>2.0</td>\n",
       "      <td>0.25</td>\n",
       "      <td>0.12</td>\n",
       "      <td>0.12</td>\n",
       "      <td>0.06</td>\n",
       "      <td>4.00</td>\n",
       "    </tr>\n",
       "    <tr>\n",
       "      <th>11399</th>\n",
       "      <td>0.125</td>\n",
       "      <td>0.060</td>\n",
       "      <td>0.120</td>\n",
       "      <td>0.0040</td>\n",
       "      <td>4.0</td>\n",
       "      <td>4.0</td>\n",
       "      <td>6.40</td>\n",
       "      <td>4.0</td>\n",
       "      <td>2.00</td>\n",
       "      <td>0.50</td>\n",
       "      <td>2.00</td>\n",
       "      <td>16.00</td>\n",
       "      <td>4.00</td>\n",
       "    </tr>\n",
       "  </tbody>\n",
       "</table>\n",
       "<p>12285 rows × 13 columns</p>\n",
       "</div>"
      ],
      "text/plain": [
       "       AMI_MIC  BDQ_MIC  CFZ_MIC  DLM_MIC  EMB_MIC  ETH_MIC  INH_MIC  KAN_MIC  \\\n",
       "5839     0.500    0.060    0.120   0.0300      2.0      2.0     0.05      2.0   \n",
       "5840     0.500    0.060    0.030   0.0075      2.0      1.0     0.05      2.0   \n",
       "5841     0.125    0.060    0.030   0.0075      2.0      2.0     0.05      2.0   \n",
       "5842     0.500    0.060    0.120   0.0075      1.0      NaN     0.05      4.0   \n",
       "5843     0.125    0.060    0.120   0.0075      2.0      1.0     0.10      2.0   \n",
       "...        ...      ...      ...      ...      ...      ...      ...      ...   \n",
       "11394    0.125    0.015    0.015   0.0040      8.0     16.0    25.60      2.0   \n",
       "11395    0.125    0.030    0.060   0.0040      4.0      4.0     6.40      2.0   \n",
       "11397    1.000    0.030    0.060   0.0150      4.0      8.0    12.80     16.0   \n",
       "11398    0.500    0.015    0.060   0.0150      0.5      8.0     0.20      2.0   \n",
       "11399    0.125    0.060    0.120   0.0040      4.0      4.0     6.40      4.0   \n",
       "\n",
       "       LEV_MIC  LZD_MIC  MXF_MIC  RIF_MIC  RFB_MIC  \n",
       "5839      0.50     0.50     0.50     0.12     0.03  \n",
       "5840      0.50     0.50     0.25     0.12     0.03  \n",
       "5841      0.25     0.50     0.25     0.03     0.03  \n",
       "5842      1.00     1.00     0.50     0.12     0.03  \n",
       "5843      0.25     0.50     0.25     0.03     0.03  \n",
       "...        ...      ...      ...      ...      ...  \n",
       "11394     2.00     0.25     0.50    16.00     4.00  \n",
       "11395     8.00     0.25     8.00    16.00     4.00  \n",
       "11397     0.50     0.50     0.25    16.00     4.00  \n",
       "11398     0.25     0.12     0.12     0.06     4.00  \n",
       "11399     2.00     0.50     2.00    16.00     4.00  \n",
       "\n",
       "[12285 rows x 13 columns]"
      ]
     },
     "execution_count": 29,
     "metadata": {},
     "output_type": "execute_result"
    }
   ],
   "source": [
    "mic"
   ]
  },
  {
   "cell_type": "code",
   "execution_count": 34,
   "metadata": {},
   "outputs": [
    {
     "data": {
      "text/plain": [
       "(12285, 13)"
      ]
     },
     "execution_count": 34,
     "metadata": {},
     "output_type": "execute_result"
    }
   ],
   "source": [
    "mic.shape"
   ]
  },
  {
   "cell_type": "code",
   "execution_count": 31,
   "metadata": {},
   "outputs": [
    {
     "data": {
      "text/plain": [
       "(11056, 13)"
      ]
     },
     "execution_count": 31,
     "metadata": {},
     "output_type": "execute_result"
    }
   ],
   "source": [
    "mic.iloc[:int(mic.shape[0]*0.9),:].shape"
   ]
  },
  {
   "cell_type": "code",
   "execution_count": 32,
   "metadata": {},
   "outputs": [],
   "source": [
    "mic.iloc[:int(mic.shape[0]*0.9),:].to_csv('data1/res_train.csv', index=False)\n",
    "mic.iloc[int(mic.shape[0]*0.9):,:].to_csv('data1/res_test.csv', index=False)"
   ]
  },
  {
   "cell_type": "code",
   "execution_count": null,
   "metadata": {},
   "outputs": [],
   "source": [
    "import numpy as np\n",
    "import pandas as pd\n",
    "\n",
    "# Assuming 'mic' is your DataFrame\n",
    "# Shuffle the indices\n",
    "indices = np.arange(mic.shape[0])\n",
    "np.random.shuffle(indices)\n",
    "\n",
    "# Calculate the split index\n",
    "split_idx = int(len(indices) * 0.9)\n",
    "\n",
    "# Split the indices into training and testing parts\n",
    "train_indices = indices[:split_idx]\n",
    "test_indices = indices[split_idx:]\n",
    "\n",
    "# Use iloc to create training and testing sets based on the shuffled indices\n",
    "train_set = mic.iloc[train_indices]\n",
    "test_set = mic.iloc[test_indices]\n",
    "\n",
    "# Save the sets to CSV files\n",
    "train_set.to_csv('data1/res_train.csv', index=False)\n",
    "test_set.to_csv('data1/res_test.csv', index=False)\n"
   ]
  },
  {
   "cell_type": "code",
   "execution_count": 147,
   "metadata": {},
   "outputs": [
    {
     "data": {
      "image/png": "[encoded data removed]",
      "text/plain": [
       "<Figure size 432x288 with 1 Axes>"
      ]
     },
     "metadata": {
      "needs_background": "light"
     },
     "output_type": "display_data"
    }
   ],
   "source": [
    "import plotly.graph_objects as go\n",
    "from collections import Counter\n",
    "\n",
    "unique_strings, counts = np.unique(ar_list, return_counts=True)\n",
    "plt.bar(unique_strings, counts)\n",
    "plt.xlabel(\"Strings\")\n",
    "plt.ylabel(\"Count\")\n",
    "plt.title(\"Count of Strings\")\n",
    "plt.xticks(rotation=90)  # Rotate x-axis labels by 90 degrees\n",
    "plt.tight_layout()\n",
    "plt.show()"
   ]
  },
  {
   "cell_type": "code",
   "execution_count": 13,
   "metadata": {},
   "outputs": [
    {
     "ename": "TypeError",
     "evalue": "'<' not supported between instances of 'float' and 'str'",
     "output_type": "error",
     "traceback": [
      "\u001b[0;31m---------------------------------------------------------------------------\u001b[0m",
      "\u001b[0;31mTypeError\u001b[0m                                 Traceback (most recent call last)",
      "\u001b[0;32m/tmp/ipykernel_28813/3768355116.py\u001b[0m in \u001b[0;36m<module>\u001b[0;34m\u001b[0m\n\u001b[0;32m----> 1\u001b[0;31m np.unique(df[['CFZ_MIC', 'DLM_MIC', 'EMB_MIC', 'ETH_MIC', 'INH_MIC', 'KAN_MIC',\n\u001b[0m\u001b[1;32m      2\u001b[0m        'LEV_MIC', 'LZD_MIC', 'MXF_MIC', 'RIF_MIC', 'RFB_MIC']].values)\n",
      "\u001b[0;32m<__array_function__ internals>\u001b[0m in \u001b[0;36munique\u001b[0;34m(*args, **kwargs)\u001b[0m\n",
      "\u001b[0;32m/mnt/storageG1/lwang/miniconda3/envs/ml-g1/lib/python3.9/site-packages/numpy/lib/arraysetops.py\u001b[0m in \u001b[0;36munique\u001b[0;34m(ar, return_index, return_inverse, return_counts, axis)\u001b[0m\n\u001b[1;32m    270\u001b[0m     \u001b[0mar\u001b[0m \u001b[0;34m=\u001b[0m \u001b[0mnp\u001b[0m\u001b[0;34m.\u001b[0m\u001b[0masanyarray\u001b[0m\u001b[0;34m(\u001b[0m\u001b[0mar\u001b[0m\u001b[0;34m)\u001b[0m\u001b[0;34m\u001b[0m\u001b[0;34m\u001b[0m\u001b[0m\n\u001b[1;32m    271\u001b[0m     \u001b[0;32mif\u001b[0m \u001b[0maxis\u001b[0m \u001b[0;32mis\u001b[0m \u001b[0;32mNone\u001b[0m\u001b[0;34m:\u001b[0m\u001b[0;34m\u001b[0m\u001b[0;34m\u001b[0m\u001b[0m\n\u001b[0;32m--> 272\u001b[0;31m         \u001b[0mret\u001b[0m \u001b[0;34m=\u001b[0m \u001b[0m_unique1d\u001b[0m\u001b[0;34m(\u001b[0m\u001b[0mar\u001b[0m\u001b[0;34m,\u001b[0m \u001b[0mreturn_index\u001b[0m\u001b[0;34m,\u001b[0m \u001b[0mreturn_inverse\u001b[0m\u001b[0;34m,\u001b[0m \u001b[0mreturn_counts\u001b[0m\u001b[0;34m)\u001b[0m\u001b[0;34m\u001b[0m\u001b[0;34m\u001b[0m\u001b[0m\n\u001b[0m\u001b[1;32m    273\u001b[0m         \u001b[0;32mreturn\u001b[0m \u001b[0m_unpack_tuple\u001b[0m\u001b[0;34m(\u001b[0m\u001b[0mret\u001b[0m\u001b[0;34m)\u001b[0m\u001b[0;34m\u001b[0m\u001b[0;34m\u001b[0m\u001b[0m\n\u001b[1;32m    274\u001b[0m \u001b[0;34m\u001b[0m\u001b[0m\n",
      "\u001b[0;32m/mnt/storageG1/lwang/miniconda3/envs/ml-g1/lib/python3.9/site-packages/numpy/lib/arraysetops.py\u001b[0m in \u001b[0;36m_unique1d\u001b[0;34m(ar, return_index, return_inverse, return_counts)\u001b[0m\n\u001b[1;32m    331\u001b[0m         \u001b[0maux\u001b[0m \u001b[0;34m=\u001b[0m \u001b[0mar\u001b[0m\u001b[0;34m[\u001b[0m\u001b[0mperm\u001b[0m\u001b[0;34m]\u001b[0m\u001b[0;34m\u001b[0m\u001b[0;34m\u001b[0m\u001b[0m\n\u001b[1;32m    332\u001b[0m     \u001b[0;32melse\u001b[0m\u001b[0;34m:\u001b[0m\u001b[0;34m\u001b[0m\u001b[0;34m\u001b[0m\u001b[0m\n\u001b[0;32m--> 333\u001b[0;31m         \u001b[0mar\u001b[0m\u001b[0;34m.\u001b[0m\u001b[0msort\u001b[0m\u001b[0;34m(\u001b[0m\u001b[0;34m)\u001b[0m\u001b[0;34m\u001b[0m\u001b[0;34m\u001b[0m\u001b[0m\n\u001b[0m\u001b[1;32m    334\u001b[0m         \u001b[0maux\u001b[0m \u001b[0;34m=\u001b[0m \u001b[0mar\u001b[0m\u001b[0;34m\u001b[0m\u001b[0;34m\u001b[0m\u001b[0m\n\u001b[1;32m    335\u001b[0m     \u001b[0mmask\u001b[0m \u001b[0;34m=\u001b[0m \u001b[0mnp\u001b[0m\u001b[0;34m.\u001b[0m\u001b[0mempty\u001b[0m\u001b[0;34m(\u001b[0m\u001b[0maux\u001b[0m\u001b[0;34m.\u001b[0m\u001b[0mshape\u001b[0m\u001b[0;34m,\u001b[0m \u001b[0mdtype\u001b[0m\u001b[0;34m=\u001b[0m\u001b[0mnp\u001b[0m\u001b[0;34m.\u001b[0m\u001b[0mbool_\u001b[0m\u001b[0;34m)\u001b[0m\u001b[0;34m\u001b[0m\u001b[0;34m\u001b[0m\u001b[0m\n",
      "\u001b[0;31mTypeError\u001b[0m: '<' not supported between instances of 'float' and 'str'"
     ]
    }
   ],
   "source": [
    "np.unique(df[['CFZ_MIC', 'DLM_MIC', 'EMB_MIC', 'ETH_MIC', 'INH_MIC', 'KAN_MIC',\n",
    "       'LEV_MIC', 'LZD_MIC', 'MXF_MIC', 'RIF_MIC', 'RFB_MIC']].values)"
   ]
  },
  {
   "cell_type": "code",
   "execution_count": 24,
   "metadata": {},
   "outputs": [],
   "source": [
    "# File path to save the output\n",
    "file_path = \"sample_list.txt\"\n",
    "\n",
    "# Open the file in write mode\n",
    "with open(file_path, 'w') as file:\n",
    "    # Write each string from the list to a new line in the file\n",
    "    for string in df['wgs_id'].tolist():\n",
    "        file.write(string + '\\n')\n"
   ]
  },
  {
   "cell_type": "code",
   "execution_count": null,
   "metadata": {},
   "outputs": [],
   "source": [
    "for x in tqdm(df['wgs_id']):\n",
    "    print(x)\n",
    "    # break"
   ]
  },
  {
   "cell_type": "code",
   "execution_count": null,
   "metadata": {},
   "outputs": [],
   "source": [
    "import subprocess\n",
    "for x in df['wgs_id']:\n",
    "    fasta_file = \"/mnt/storageG1/lwang/Projects/tb_dr_MIC/MTB-h37rv_asm19595v2-eg18.fa\"\n",
    "    vcf_file = f\"/mnt/storage7/jody/tb_ena/per_sample/{x}.freebayes.vcf.gz\"\n",
    "    output_file = f\"/mnt/storageG1/lwang/Projects/tb_dr_MIC/fasta/{x}.fa\"\n",
    "    command = [\"bcftools\", \"consensus\", \"-f\", fasta_file, vcf_file, \"-o\", output_file]\n",
    "    # Run the command using subprocess\n",
    "    subprocess.run(command)\n",
    "    \n",
    "    #Run the command using subprocess\n",
    "    # subprocess.run(\n",
    "    #     f\"bcftools consensus -f\", fasta_file, vcf_file, \"-o\", output_file,\n",
    "    #     shell=False,\n",
    "    # )"
   ]
  },
  {
   "cell_type": "markdown",
   "metadata": {},
   "source": [
    "# Classification target"
   ]
  },
  {
   "cell_type": "code",
   "execution_count": 5,
   "metadata": {},
   "outputs": [],
   "source": [
    "train_target = pd.read_csv('/mnt/storageG1/lwang/Projects/tb_dr_MIC_v2/data1/res_train.csv')\n",
    "test_target = pd.read_csv('/mnt/storageG1/lwang/Projects/tb_dr_MIC_v2/data1/res_test.csv')"
   ]
  },
  {
   "cell_type": "code",
   "execution_count": 10,
   "metadata": {},
   "outputs": [
    {
     "data": {
      "text/plain": [
       "array([1.5e-02, 3.0e-02, 6.0e-02, 1.2e-01, 2.5e-01, 5.0e-01, 1.0e+00,\n",
       "       2.0e+00, 4.0e+00, 8.0e+00, 1.6e+01,     nan])"
      ]
     },
     "execution_count": 10,
     "metadata": {},
     "output_type": "execute_result"
    }
   ],
   "source": [
    "np.unique(train_target['RIF_MIC'].values)"
   ]
  },
  {
   "attachments": {},
   "cell_type": "markdown",
   "metadata": {},
   "source": [
    "# Generating Sequence data"
   ]
  },
  {
   "cell_type": "code",
   "execution_count": 17,
   "metadata": {},
   "outputs": [
    {
     "name": "stdout",
     "output_type": "stream",
     "text": [
      "12055\n"
     ]
    }
   ],
   "source": [
    "import os\n",
    "\n",
    "def get_filenames_without_fa_extension(directory):\n",
    "    # List all files in the directory\n",
    "    filenames = os.listdir(directory)\n",
    "    \n",
    "    # Remove '.fa' extension from file names\n",
    "    filenames_without_fa = [filename.replace('.fa', '') for filename in filenames]\n",
    "    \n",
    "    return filenames_without_fa\n",
    "\n",
    "# Specify the directory to search\n",
    "directory_path = '/mnt/storageG1/lwang/Projects/tb_dr_MIC_v2/fasta/'\n",
    "\n",
    "# Get the processed list of file names\n",
    "file_names = get_filenames_without_fa_extension(directory_path)\n",
    "print(len(file_names))\n",
    "\n"
   ]
  },
  {
   "cell_type": "code",
   "execution_count": 168,
   "metadata": {},
   "outputs": [],
   "source": [
    "df = pd.read_csv('/mnt/storageG1/lwang/Projects/tb_dr_MIC_v2/CRyPTIC_reuse_table_20231208.csv')\n",
    "\n",
    "# df = df[df['wgs_id'].isin(file_names)]"
   ]
  },
  {
   "cell_type": "code",
   "execution_count": 32,
   "metadata": {},
   "outputs": [],
   "source": [
    "df['wgs_id'] = pd.Categorical(df['wgs_id'], categories=file_names, ordered=True)\n",
    "df_sorted = df.sort_values('wgs_id')\n",
    "\n"
   ]
  },
  {
   "cell_type": "code",
   "execution_count": 38,
   "metadata": {},
   "outputs": [
    {
     "data": {
      "text/plain": [
       "True"
      ]
     },
     "execution_count": 38,
     "metadata": {},
     "output_type": "execute_result"
    }
   ],
   "source": [
    "df_sorted['wgs_id'].tolist() == file_names"
   ]
  },
  {
   "cell_type": "code",
   "execution_count": 45,
   "metadata": {},
   "outputs": [],
   "source": [
    "df.to_csv('data1/CRyPTIC_reuse_table_20221019_cleaned_ordered.csv')"
   ]
  },
  {
   "cell_type": "code",
   "execution_count": 47,
   "metadata": {},
   "outputs": [
    {
     "name": "stderr",
     "output_type": "stream",
     "text": [
      "100%|██████████| 12055/12055 [1:43:43<00:00,  1.94it/s]\n"
     ]
    }
   ],
   "source": [
    "from Bio import SeqIO\n",
    "import csv\n",
    "from Bio.SeqUtils import six_frame_translations\n",
    "\n",
    "df_seq = pd.DataFrame(columns=['wgs_id','acpM-kasA', 'ethAR', 'aftB-ubiA', 'tlyA', 'embCAB', 'gid', 'panD',\n",
    "       'rpoBC', 'rpsA', 'katG', 'rpsL', 'pncA', 'clpC', 'gyrBA',\n",
    "       'oxyR-ahpC', 'eis', 'rrs-rrl', 'fabG1-inhA'])\n",
    "\n",
    "for x in tqdm(df_sorted['wgs_id']):\n",
    "    fasta_file = f'/mnt/storageG1/lwang/Projects/tb_dr_MIC_v2/fasta/{x}.fa'\n",
    "    bed_file = '/mnt/storageG1/lwang/Projects/tb_dr_MIC_v2/gene_ordered.csv'\n",
    "    # output_file = 'output.csv'\n",
    "\n",
    "    sequences = [x]\n",
    "    df_gene = pd.read_csv('gene_ordered.csv')\n",
    "    for i, row in df_gene.iterrows():\n",
    "        # print(row)\n",
    "        locus, start, end = row[0], int(row[1]), int(row[2])\n",
    "        \n",
    "        # Extract the sequence based on the range\n",
    "        with open(fasta_file, 'r') as fasta:\n",
    "            record_dict = SeqIO.to_dict(SeqIO.parse(fasta, 'fasta'))\n",
    "            sequence = record_dict['Chromosome'].seq[start:end]\n",
    "            sequences.append(str(sequence))\n",
    "            \n",
    "    df_seq.loc[df_seq.shape[0]] = sequences"
   ]
  },
  {
   "cell_type": "code",
   "execution_count": 105,
   "metadata": {},
   "outputs": [],
   "source": [
    "# df_seq.sort_values(by=['wgs_id'], inplace=True)"
   ]
  },
  {
   "cell_type": "code",
   "execution_count": 48,
   "metadata": {},
   "outputs": [],
   "source": [
    "df_seq.to_csv('data1/gene_seq.csv', index=False)\n",
    "df_seq = pd.read_csv('data1/gene_seq.csv')\n",
    "df_seq.iloc[:int(df_seq.shape[0]*0.9),:].to_csv('data1/gene_seq_train.csv', index=False)\n",
    "df_seq.iloc[int(df_seq.shape[0]*0.9):,:].to_csv('data1/gene_seq_test.csv', index=False)"
   ]
  },
  {
   "cell_type": "code",
   "execution_count": 49,
   "metadata": {},
   "outputs": [],
   "source": [
    "df_seq.to_csv('data0/gene_seq.csv', index=False)\n",
    "df_seq = pd.read_csv('data0/gene_seq.csv')\n",
    "df_seq.iloc[:int(df_seq.shape[0]*0.9),:].to_csv('data0/gene_seq_train.csv', index=False)\n",
    "df_seq.iloc[int(df_seq.shape[0]*0.9):,:].to_csv('data0/gene_seq_test.csv', index=False)"
   ]
  },
  {
   "cell_type": "code",
   "execution_count": 52,
   "metadata": {},
   "outputs": [
    {
     "data": {
      "text/html": [
       "<div>\n",
       "<style scoped>\n",
       "    .dataframe tbody tr th:only-of-type {\n",
       "        vertical-align: middle;\n",
       "    }\n",
       "\n",
       "    .dataframe tbody tr th {\n",
       "        vertical-align: top;\n",
       "    }\n",
       "\n",
       "    .dataframe thead th {\n",
       "        text-align: right;\n",
       "    }\n",
       "</style>\n",
       "<table border=\"1\" class=\"dataframe\">\n",
       "  <thead>\n",
       "    <tr style=\"text-align: right;\">\n",
       "      <th></th>\n",
       "      <th>UNIQUEID</th>\n",
       "      <th>AMI_BINARY_PHENOTYPE</th>\n",
       "      <th>BDQ_BINARY_PHENOTYPE</th>\n",
       "      <th>CFZ_BINARY_PHENOTYPE</th>\n",
       "      <th>DLM_BINARY_PHENOTYPE</th>\n",
       "      <th>EMB_BINARY_PHENOTYPE</th>\n",
       "      <th>ETH_BINARY_PHENOTYPE</th>\n",
       "      <th>INH_BINARY_PHENOTYPE</th>\n",
       "      <th>KAN_BINARY_PHENOTYPE</th>\n",
       "      <th>LEV_BINARY_PHENOTYPE</th>\n",
       "      <th>...</th>\n",
       "      <th>KAN_PHENOTYPE_QUALITY</th>\n",
       "      <th>LEV_PHENOTYPE_QUALITY</th>\n",
       "      <th>LZD_PHENOTYPE_QUALITY</th>\n",
       "      <th>MXF_PHENOTYPE_QUALITY</th>\n",
       "      <th>RIF_PHENOTYPE_QUALITY</th>\n",
       "      <th>RFB_PHENOTYPE_QUALITY</th>\n",
       "      <th>ENA_SAMPLE</th>\n",
       "      <th>VCF</th>\n",
       "      <th>REGENOTYPED_VCF</th>\n",
       "      <th>wgs_id</th>\n",
       "    </tr>\n",
       "  </thead>\n",
       "  <tbody>\n",
       "    <tr>\n",
       "      <th>0</th>\n",
       "      <td>site.05.subj.PTAN-0001.lab.TAN-001.iso.1</td>\n",
       "      <td>S</td>\n",
       "      <td>S</td>\n",
       "      <td>S</td>\n",
       "      <td>S</td>\n",
       "      <td>S</td>\n",
       "      <td>S</td>\n",
       "      <td>S</td>\n",
       "      <td>S</td>\n",
       "      <td>S</td>\n",
       "      <td>...</td>\n",
       "      <td>HIGH</td>\n",
       "      <td>LOW</td>\n",
       "      <td>HIGH</td>\n",
       "      <td>HIGH</td>\n",
       "      <td>HIGH</td>\n",
       "      <td>HIGH</td>\n",
       "      <td>ERS1987021</td>\n",
       "      <td>00/00/04/90/490/site.05.iso.1.subject.PTAN-000...</td>\n",
       "      <td>00/00/04/90/490/site.05.iso.1.subject.PTAN-000...</td>\n",
       "      <td>ERR2184202</td>\n",
       "    </tr>\n",
       "    <tr>\n",
       "      <th>1</th>\n",
       "      <td>site.05.subj.PTAN-0002.lab.TAN-004.iso.1</td>\n",
       "      <td>S</td>\n",
       "      <td>S</td>\n",
       "      <td>S</td>\n",
       "      <td>S</td>\n",
       "      <td>S</td>\n",
       "      <td>S</td>\n",
       "      <td>S</td>\n",
       "      <td>S</td>\n",
       "      <td>S</td>\n",
       "      <td>...</td>\n",
       "      <td>HIGH</td>\n",
       "      <td>HIGH</td>\n",
       "      <td>LOW</td>\n",
       "      <td>LOW</td>\n",
       "      <td>LOW</td>\n",
       "      <td>HIGH</td>\n",
       "      <td>ERS1987022</td>\n",
       "      <td>00/00/04/91/491/site.05.iso.1.subject.PTAN-000...</td>\n",
       "      <td>00/00/04/91/491/site.05.iso.1.subject.PTAN-000...</td>\n",
       "      <td>ERR2184203</td>\n",
       "    </tr>\n",
       "    <tr>\n",
       "      <th>2</th>\n",
       "      <td>site.05.subj.PTAN-0003.lab.TAN-006.iso.1</td>\n",
       "      <td>S</td>\n",
       "      <td>S</td>\n",
       "      <td>S</td>\n",
       "      <td>S</td>\n",
       "      <td>S</td>\n",
       "      <td>S</td>\n",
       "      <td>S</td>\n",
       "      <td>S</td>\n",
       "      <td>S</td>\n",
       "      <td>...</td>\n",
       "      <td>HIGH</td>\n",
       "      <td>HIGH</td>\n",
       "      <td>HIGH</td>\n",
       "      <td>LOW</td>\n",
       "      <td>HIGH</td>\n",
       "      <td>HIGH</td>\n",
       "      <td>ERS1987023</td>\n",
       "      <td>00/00/04/92/492/site.05.iso.1.subject.PTAN-000...</td>\n",
       "      <td>00/00/04/92/492/site.05.iso.1.subject.PTAN-000...</td>\n",
       "      <td>ERR2184204</td>\n",
       "    </tr>\n",
       "    <tr>\n",
       "      <th>3</th>\n",
       "      <td>site.05.subj.PTAN-0004.lab.TAN-007.iso.1</td>\n",
       "      <td>S</td>\n",
       "      <td>S</td>\n",
       "      <td>S</td>\n",
       "      <td>S</td>\n",
       "      <td>S</td>\n",
       "      <td>NaN</td>\n",
       "      <td>S</td>\n",
       "      <td>S</td>\n",
       "      <td>S</td>\n",
       "      <td>...</td>\n",
       "      <td>HIGH</td>\n",
       "      <td>HIGH</td>\n",
       "      <td>LOW</td>\n",
       "      <td>HIGH</td>\n",
       "      <td>HIGH</td>\n",
       "      <td>HIGH</td>\n",
       "      <td>ERS1987024</td>\n",
       "      <td>00/00/04/93/493/site.05.iso.1.subject.PTAN-000...</td>\n",
       "      <td>00/00/04/93/493/site.05.iso.1.subject.PTAN-000...</td>\n",
       "      <td>ERR2184205</td>\n",
       "    </tr>\n",
       "    <tr>\n",
       "      <th>4</th>\n",
       "      <td>site.05.subj.PTAN-0005.lab.TAN-010.iso.1</td>\n",
       "      <td>S</td>\n",
       "      <td>S</td>\n",
       "      <td>S</td>\n",
       "      <td>S</td>\n",
       "      <td>S</td>\n",
       "      <td>S</td>\n",
       "      <td>S</td>\n",
       "      <td>S</td>\n",
       "      <td>S</td>\n",
       "      <td>...</td>\n",
       "      <td>HIGH</td>\n",
       "      <td>HIGH</td>\n",
       "      <td>LOW</td>\n",
       "      <td>HIGH</td>\n",
       "      <td>HIGH</td>\n",
       "      <td>HIGH</td>\n",
       "      <td>ERS1987025</td>\n",
       "      <td>00/00/04/94/494/site.05.iso.1.subject.PTAN-000...</td>\n",
       "      <td>00/00/04/94/494/site.05.iso.1.subject.PTAN-000...</td>\n",
       "      <td>ERR2184206</td>\n",
       "    </tr>\n",
       "    <tr>\n",
       "      <th>...</th>\n",
       "      <td>...</td>\n",
       "      <td>...</td>\n",
       "      <td>...</td>\n",
       "      <td>...</td>\n",
       "      <td>...</td>\n",
       "      <td>...</td>\n",
       "      <td>...</td>\n",
       "      <td>...</td>\n",
       "      <td>...</td>\n",
       "      <td>...</td>\n",
       "      <td>...</td>\n",
       "      <td>...</td>\n",
       "      <td>...</td>\n",
       "      <td>...</td>\n",
       "      <td>...</td>\n",
       "      <td>...</td>\n",
       "      <td>...</td>\n",
       "      <td>...</td>\n",
       "      <td>...</td>\n",
       "      <td>...</td>\n",
       "      <td>...</td>\n",
       "    </tr>\n",
       "    <tr>\n",
       "      <th>12121</th>\n",
       "      <td>site.10.subj.YA00121669.lab.YA00121669.iso.1</td>\n",
       "      <td>S</td>\n",
       "      <td>S</td>\n",
       "      <td>R</td>\n",
       "      <td>S</td>\n",
       "      <td>S</td>\n",
       "      <td>S</td>\n",
       "      <td>S</td>\n",
       "      <td>R</td>\n",
       "      <td>S</td>\n",
       "      <td>...</td>\n",
       "      <td>LOW</td>\n",
       "      <td>LOW</td>\n",
       "      <td>LOW</td>\n",
       "      <td>LOW</td>\n",
       "      <td>LOW</td>\n",
       "      <td>HIGH</td>\n",
       "      <td>ERS6403690</td>\n",
       "      <td>00/02/96/81/29681/site.10.iso.1.subject.YA0012...</td>\n",
       "      <td>00/02/96/81/29681/site.10.iso.1.subject.YA0012...</td>\n",
       "      <td>ERR8976118</td>\n",
       "    </tr>\n",
       "    <tr>\n",
       "      <th>12122</th>\n",
       "      <td>site.10.subj.YA00122414.lab.YA00122414.iso.1</td>\n",
       "      <td>S</td>\n",
       "      <td>S</td>\n",
       "      <td>S</td>\n",
       "      <td>S</td>\n",
       "      <td>S</td>\n",
       "      <td>S</td>\n",
       "      <td>S</td>\n",
       "      <td>S</td>\n",
       "      <td>S</td>\n",
       "      <td>...</td>\n",
       "      <td>HIGH</td>\n",
       "      <td>HIGH</td>\n",
       "      <td>HIGH</td>\n",
       "      <td>LOW</td>\n",
       "      <td>HIGH</td>\n",
       "      <td>HIGH</td>\n",
       "      <td>ERS6403691</td>\n",
       "      <td>00/02/96/82/29682/site.10.iso.1.subject.YA0012...</td>\n",
       "      <td>00/02/96/82/29682/site.10.iso.1.subject.YA0012...</td>\n",
       "      <td>ERR8976119</td>\n",
       "    </tr>\n",
       "    <tr>\n",
       "      <th>12123</th>\n",
       "      <td>site.10.subj.YA00122415.lab.YA00122415.iso.1</td>\n",
       "      <td>S</td>\n",
       "      <td>S</td>\n",
       "      <td>S</td>\n",
       "      <td>S</td>\n",
       "      <td>S</td>\n",
       "      <td>S</td>\n",
       "      <td>S</td>\n",
       "      <td>S</td>\n",
       "      <td>S</td>\n",
       "      <td>...</td>\n",
       "      <td>LOW</td>\n",
       "      <td>LOW</td>\n",
       "      <td>LOW</td>\n",
       "      <td>LOW</td>\n",
       "      <td>HIGH</td>\n",
       "      <td>HIGH</td>\n",
       "      <td>ERS6403692</td>\n",
       "      <td>00/02/96/83/29683/site.10.iso.1.subject.YA0012...</td>\n",
       "      <td>00/02/96/83/29683/site.10.iso.1.subject.YA0012...</td>\n",
       "      <td>ERR8976120</td>\n",
       "    </tr>\n",
       "    <tr>\n",
       "      <th>12125</th>\n",
       "      <td>site.10.subj.YA00129008.lab.YA00129008.iso.1</td>\n",
       "      <td>S</td>\n",
       "      <td>S</td>\n",
       "      <td>S</td>\n",
       "      <td>S</td>\n",
       "      <td>S</td>\n",
       "      <td>S</td>\n",
       "      <td>R</td>\n",
       "      <td>S</td>\n",
       "      <td>S</td>\n",
       "      <td>...</td>\n",
       "      <td>LOW</td>\n",
       "      <td>LOW</td>\n",
       "      <td>LOW</td>\n",
       "      <td>LOW</td>\n",
       "      <td>LOW</td>\n",
       "      <td>HIGH</td>\n",
       "      <td>ERS6403694</td>\n",
       "      <td>00/02/96/85/29685/site.10.iso.1.subject.YA0012...</td>\n",
       "      <td>00/02/96/85/29685/site.10.iso.1.subject.YA0012...</td>\n",
       "      <td>ERR8976122</td>\n",
       "    </tr>\n",
       "    <tr>\n",
       "      <th>12126</th>\n",
       "      <td>site.10.subj.YA00126787.lab.YA00126787.iso.1</td>\n",
       "      <td>S</td>\n",
       "      <td>S</td>\n",
       "      <td>S</td>\n",
       "      <td>S</td>\n",
       "      <td>S</td>\n",
       "      <td>I</td>\n",
       "      <td>R</td>\n",
       "      <td>S</td>\n",
       "      <td>S</td>\n",
       "      <td>...</td>\n",
       "      <td>HIGH</td>\n",
       "      <td>HIGH</td>\n",
       "      <td>HIGH</td>\n",
       "      <td>HIGH</td>\n",
       "      <td>HIGH</td>\n",
       "      <td>HIGH</td>\n",
       "      <td>ERS6403696</td>\n",
       "      <td>00/02/96/92/29692/site.10.iso.1.subject.YA0012...</td>\n",
       "      <td>00/02/96/92/29692/site.10.iso.1.subject.YA0012...</td>\n",
       "      <td>ERR8976123</td>\n",
       "    </tr>\n",
       "  </tbody>\n",
       "</table>\n",
       "<p>12055 rows × 43 columns</p>\n",
       "</div>"
      ],
      "text/plain": [
       "                                           UNIQUEID AMI_BINARY_PHENOTYPE  \\\n",
       "0          site.05.subj.PTAN-0001.lab.TAN-001.iso.1                    S   \n",
       "1          site.05.subj.PTAN-0002.lab.TAN-004.iso.1                    S   \n",
       "2          site.05.subj.PTAN-0003.lab.TAN-006.iso.1                    S   \n",
       "3          site.05.subj.PTAN-0004.lab.TAN-007.iso.1                    S   \n",
       "4          site.05.subj.PTAN-0005.lab.TAN-010.iso.1                    S   \n",
       "...                                             ...                  ...   \n",
       "12121  site.10.subj.YA00121669.lab.YA00121669.iso.1                    S   \n",
       "12122  site.10.subj.YA00122414.lab.YA00122414.iso.1                    S   \n",
       "12123  site.10.subj.YA00122415.lab.YA00122415.iso.1                    S   \n",
       "12125  site.10.subj.YA00129008.lab.YA00129008.iso.1                    S   \n",
       "12126  site.10.subj.YA00126787.lab.YA00126787.iso.1                    S   \n",
       "\n",
       "      BDQ_BINARY_PHENOTYPE CFZ_BINARY_PHENOTYPE DLM_BINARY_PHENOTYPE  \\\n",
       "0                        S                    S                    S   \n",
       "1                        S                    S                    S   \n",
       "2                        S                    S                    S   \n",
       "3                        S                    S                    S   \n",
       "4                        S                    S                    S   \n",
       "...                    ...                  ...                  ...   \n",
       "12121                    S                    R                    S   \n",
       "12122                    S                    S                    S   \n",
       "12123                    S                    S                    S   \n",
       "12125                    S                    S                    S   \n",
       "12126                    S                    S                    S   \n",
       "\n",
       "      EMB_BINARY_PHENOTYPE ETH_BINARY_PHENOTYPE INH_BINARY_PHENOTYPE  \\\n",
       "0                        S                    S                    S   \n",
       "1                        S                    S                    S   \n",
       "2                        S                    S                    S   \n",
       "3                        S                  NaN                    S   \n",
       "4                        S                    S                    S   \n",
       "...                    ...                  ...                  ...   \n",
       "12121                    S                    S                    S   \n",
       "12122                    S                    S                    S   \n",
       "12123                    S                    S                    S   \n",
       "12125                    S                    S                    R   \n",
       "12126                    S                    I                    R   \n",
       "\n",
       "      KAN_BINARY_PHENOTYPE LEV_BINARY_PHENOTYPE  ... KAN_PHENOTYPE_QUALITY  \\\n",
       "0                        S                    S  ...                  HIGH   \n",
       "1                        S                    S  ...                  HIGH   \n",
       "2                        S                    S  ...                  HIGH   \n",
       "3                        S                    S  ...                  HIGH   \n",
       "4                        S                    S  ...                  HIGH   \n",
       "...                    ...                  ...  ...                   ...   \n",
       "12121                    R                    S  ...                   LOW   \n",
       "12122                    S                    S  ...                  HIGH   \n",
       "12123                    S                    S  ...                   LOW   \n",
       "12125                    S                    S  ...                   LOW   \n",
       "12126                    S                    S  ...                  HIGH   \n",
       "\n",
       "      LEV_PHENOTYPE_QUALITY LZD_PHENOTYPE_QUALITY MXF_PHENOTYPE_QUALITY  \\\n",
       "0                       LOW                  HIGH                  HIGH   \n",
       "1                      HIGH                   LOW                   LOW   \n",
       "2                      HIGH                  HIGH                   LOW   \n",
       "3                      HIGH                   LOW                  HIGH   \n",
       "4                      HIGH                   LOW                  HIGH   \n",
       "...                     ...                   ...                   ...   \n",
       "12121                   LOW                   LOW                   LOW   \n",
       "12122                  HIGH                  HIGH                   LOW   \n",
       "12123                   LOW                   LOW                   LOW   \n",
       "12125                   LOW                   LOW                   LOW   \n",
       "12126                  HIGH                  HIGH                  HIGH   \n",
       "\n",
       "       RIF_PHENOTYPE_QUALITY  RFB_PHENOTYPE_QUALITY  ENA_SAMPLE  \\\n",
       "0                       HIGH                   HIGH  ERS1987021   \n",
       "1                        LOW                   HIGH  ERS1987022   \n",
       "2                       HIGH                   HIGH  ERS1987023   \n",
       "3                       HIGH                   HIGH  ERS1987024   \n",
       "4                       HIGH                   HIGH  ERS1987025   \n",
       "...                      ...                    ...         ...   \n",
       "12121                    LOW                   HIGH  ERS6403690   \n",
       "12122                   HIGH                   HIGH  ERS6403691   \n",
       "12123                   HIGH                   HIGH  ERS6403692   \n",
       "12125                    LOW                   HIGH  ERS6403694   \n",
       "12126                   HIGH                   HIGH  ERS6403696   \n",
       "\n",
       "                                                     VCF  \\\n",
       "0      00/00/04/90/490/site.05.iso.1.subject.PTAN-000...   \n",
       "1      00/00/04/91/491/site.05.iso.1.subject.PTAN-000...   \n",
       "2      00/00/04/92/492/site.05.iso.1.subject.PTAN-000...   \n",
       "3      00/00/04/93/493/site.05.iso.1.subject.PTAN-000...   \n",
       "4      00/00/04/94/494/site.05.iso.1.subject.PTAN-000...   \n",
       "...                                                  ...   \n",
       "12121  00/02/96/81/29681/site.10.iso.1.subject.YA0012...   \n",
       "12122  00/02/96/82/29682/site.10.iso.1.subject.YA0012...   \n",
       "12123  00/02/96/83/29683/site.10.iso.1.subject.YA0012...   \n",
       "12125  00/02/96/85/29685/site.10.iso.1.subject.YA0012...   \n",
       "12126  00/02/96/92/29692/site.10.iso.1.subject.YA0012...   \n",
       "\n",
       "                                         REGENOTYPED_VCF      wgs_id  \n",
       "0      00/00/04/90/490/site.05.iso.1.subject.PTAN-000...  ERR2184202  \n",
       "1      00/00/04/91/491/site.05.iso.1.subject.PTAN-000...  ERR2184203  \n",
       "2      00/00/04/92/492/site.05.iso.1.subject.PTAN-000...  ERR2184204  \n",
       "3      00/00/04/93/493/site.05.iso.1.subject.PTAN-000...  ERR2184205  \n",
       "4      00/00/04/94/494/site.05.iso.1.subject.PTAN-000...  ERR2184206  \n",
       "...                                                  ...         ...  \n",
       "12121  00/02/96/81/29681/site.10.iso.1.subject.YA0012...  ERR8976118  \n",
       "12122  00/02/96/82/29682/site.10.iso.1.subject.YA0012...  ERR8976119  \n",
       "12123  00/02/96/83/29683/site.10.iso.1.subject.YA0012...  ERR8976120  \n",
       "12125  00/02/96/85/29685/site.10.iso.1.subject.YA0012...  ERR8976122  \n",
       "12126  00/02/96/92/29692/site.10.iso.1.subject.YA0012...  ERR8976123  \n",
       "\n",
       "[12055 rows x 43 columns]"
      ]
     },
     "execution_count": 52,
     "metadata": {},
     "output_type": "execute_result"
    }
   ],
   "source": [
    "df"
   ]
  },
  {
   "cell_type": "markdown",
   "metadata": {},
   "source": [
    "# generating corresponding MIC data for the seq data as somehow not all data have fasta"
   ]
  },
  {
   "cell_type": "code",
   "execution_count": 55,
   "metadata": {},
   "outputs": [
    {
     "data": {
      "text/plain": [
       "True"
      ]
     },
     "execution_count": 55,
     "metadata": {},
     "output_type": "execute_result"
    }
   ],
   "source": [
    "df_sorted['wgs_id'].tolist() == df_seq['wgs_id'].tolist()\n"
   ]
  },
  {
   "cell_type": "code",
   "execution_count": 58,
   "metadata": {},
   "outputs": [],
   "source": [
    "mic = df_sorted.iloc[:,14:27].astype('float')\n",
    "mic.iloc[:int(mic.shape[0]*0.9),:].to_csv('data1/res_train.csv', index=False)\n",
    "mic.iloc[int(mic.shape[0]*0.9):,:].to_csv('data1/res_test.csv', index=False)"
   ]
  },
  {
   "attachments": {},
   "cell_type": "markdown",
   "metadata": {},
   "source": [
    "### seq data output"
   ]
  },
  {
   "cell_type": "code",
   "execution_count": 60,
   "metadata": {},
   "outputs": [
    {
     "data": {
      "text/html": [
       "<div>\n",
       "<style scoped>\n",
       "    .dataframe tbody tr th:only-of-type {\n",
       "        vertical-align: middle;\n",
       "    }\n",
       "\n",
       "    .dataframe tbody tr th {\n",
       "        vertical-align: top;\n",
       "    }\n",
       "\n",
       "    .dataframe thead th {\n",
       "        text-align: right;\n",
       "    }\n",
       "</style>\n",
       "<table border=\"1\" class=\"dataframe\">\n",
       "  <thead>\n",
       "    <tr style=\"text-align: right;\">\n",
       "      <th></th>\n",
       "      <th>AMI_MIC</th>\n",
       "      <th>BDQ_MIC</th>\n",
       "      <th>CFZ_MIC</th>\n",
       "      <th>DLM_MIC</th>\n",
       "      <th>EMB_MIC</th>\n",
       "      <th>ETH_MIC</th>\n",
       "      <th>INH_MIC</th>\n",
       "      <th>KAN_MIC</th>\n",
       "      <th>LEV_MIC</th>\n",
       "      <th>LZD_MIC</th>\n",
       "      <th>MXF_MIC</th>\n",
       "      <th>RIF_MIC</th>\n",
       "      <th>RFB_MIC</th>\n",
       "    </tr>\n",
       "  </thead>\n",
       "  <tbody>\n",
       "    <tr>\n",
       "      <th>7627</th>\n",
       "      <td>0.125</td>\n",
       "      <td>0.030</td>\n",
       "      <td>0.030</td>\n",
       "      <td>0.0075</td>\n",
       "      <td>1.0</td>\n",
       "      <td>1.000</td>\n",
       "      <td>0.05000</td>\n",
       "      <td>4.0</td>\n",
       "      <td>0.25</td>\n",
       "      <td>0.50</td>\n",
       "      <td>0.25</td>\n",
       "      <td>0.120</td>\n",
       "      <td>0.03</td>\n",
       "    </tr>\n",
       "    <tr>\n",
       "      <th>9758</th>\n",
       "      <td>0.125</td>\n",
       "      <td>0.030</td>\n",
       "      <td>0.030</td>\n",
       "      <td>0.0075</td>\n",
       "      <td>2.0</td>\n",
       "      <td>2.000</td>\n",
       "      <td>1.60000</td>\n",
       "      <td>0.5</td>\n",
       "      <td>4.00</td>\n",
       "      <td>0.25</td>\n",
       "      <td>0.50</td>\n",
       "      <td>2.000</td>\n",
       "      <td>0.03</td>\n",
       "    </tr>\n",
       "    <tr>\n",
       "      <th>10564</th>\n",
       "      <td>1.000</td>\n",
       "      <td>0.030</td>\n",
       "      <td>0.060</td>\n",
       "      <td>0.0040</td>\n",
       "      <td>16.0</td>\n",
       "      <td>16.000</td>\n",
       "      <td>12.80000</td>\n",
       "      <td>16.0</td>\n",
       "      <td>16.00</td>\n",
       "      <td>0.25</td>\n",
       "      <td>8.00</td>\n",
       "      <td>16.000</td>\n",
       "      <td>4.00</td>\n",
       "    </tr>\n",
       "    <tr>\n",
       "      <th>5667</th>\n",
       "      <td>0.125</td>\n",
       "      <td>0.004</td>\n",
       "      <td>0.015</td>\n",
       "      <td>0.0040</td>\n",
       "      <td>8.0</td>\n",
       "      <td>0.500</td>\n",
       "      <td>1.60000</td>\n",
       "      <td>2.0</td>\n",
       "      <td>0.50</td>\n",
       "      <td>0.25</td>\n",
       "      <td>0.12</td>\n",
       "      <td>8.000</td>\n",
       "      <td>0.12</td>\n",
       "    </tr>\n",
       "    <tr>\n",
       "      <th>4745</th>\n",
       "      <td>0.125</td>\n",
       "      <td>0.004</td>\n",
       "      <td>0.015</td>\n",
       "      <td>0.0040</td>\n",
       "      <td>1.0</td>\n",
       "      <td>0.125</td>\n",
       "      <td>NaN</td>\n",
       "      <td>0.5</td>\n",
       "      <td>0.25</td>\n",
       "      <td>0.12</td>\n",
       "      <td>0.03</td>\n",
       "      <td>0.120</td>\n",
       "      <td>0.03</td>\n",
       "    </tr>\n",
       "    <tr>\n",
       "      <th>...</th>\n",
       "      <td>...</td>\n",
       "      <td>...</td>\n",
       "      <td>...</td>\n",
       "      <td>...</td>\n",
       "      <td>...</td>\n",
       "      <td>...</td>\n",
       "      <td>...</td>\n",
       "      <td>...</td>\n",
       "      <td>...</td>\n",
       "      <td>...</td>\n",
       "      <td>...</td>\n",
       "      <td>...</td>\n",
       "      <td>...</td>\n",
       "    </tr>\n",
       "    <tr>\n",
       "      <th>4314</th>\n",
       "      <td>0.125</td>\n",
       "      <td>0.060</td>\n",
       "      <td>0.250</td>\n",
       "      <td>0.0075</td>\n",
       "      <td>2.0</td>\n",
       "      <td>1.000</td>\n",
       "      <td>3.20000</td>\n",
       "      <td>2.0</td>\n",
       "      <td>0.50</td>\n",
       "      <td>1.00</td>\n",
       "      <td>0.25</td>\n",
       "      <td>8.000</td>\n",
       "      <td>0.25</td>\n",
       "    </tr>\n",
       "    <tr>\n",
       "      <th>9502</th>\n",
       "      <td>0.125</td>\n",
       "      <td>0.030</td>\n",
       "      <td>0.060</td>\n",
       "      <td>0.0040</td>\n",
       "      <td>1.0</td>\n",
       "      <td>2.000</td>\n",
       "      <td>0.05000</td>\n",
       "      <td>2.0</td>\n",
       "      <td>0.25</td>\n",
       "      <td>0.50</td>\n",
       "      <td>0.25</td>\n",
       "      <td>0.120</td>\n",
       "      <td>0.03</td>\n",
       "    </tr>\n",
       "    <tr>\n",
       "      <th>4755</th>\n",
       "      <td>0.125</td>\n",
       "      <td>0.015</td>\n",
       "      <td>0.015</td>\n",
       "      <td>0.0150</td>\n",
       "      <td>2.0</td>\n",
       "      <td>0.500</td>\n",
       "      <td>0.01125</td>\n",
       "      <td>2.0</td>\n",
       "      <td>0.25</td>\n",
       "      <td>0.50</td>\n",
       "      <td>0.25</td>\n",
       "      <td>0.015</td>\n",
       "      <td>0.03</td>\n",
       "    </tr>\n",
       "    <tr>\n",
       "      <th>14</th>\n",
       "      <td>0.125</td>\n",
       "      <td>0.060</td>\n",
       "      <td>0.030</td>\n",
       "      <td>0.0075</td>\n",
       "      <td>1.0</td>\n",
       "      <td>2.000</td>\n",
       "      <td>0.05000</td>\n",
       "      <td>2.0</td>\n",
       "      <td>0.25</td>\n",
       "      <td>1.00</td>\n",
       "      <td>0.25</td>\n",
       "      <td>0.030</td>\n",
       "      <td>0.03</td>\n",
       "    </tr>\n",
       "    <tr>\n",
       "      <th>2498</th>\n",
       "      <td>0.125</td>\n",
       "      <td>NaN</td>\n",
       "      <td>0.120</td>\n",
       "      <td>0.1200</td>\n",
       "      <td>2.0</td>\n",
       "      <td>0.500</td>\n",
       "      <td>0.01125</td>\n",
       "      <td>0.5</td>\n",
       "      <td>0.50</td>\n",
       "      <td>0.25</td>\n",
       "      <td>0.12</td>\n",
       "      <td>0.030</td>\n",
       "      <td>0.03</td>\n",
       "    </tr>\n",
       "  </tbody>\n",
       "</table>\n",
       "<p>12055 rows × 13 columns</p>\n",
       "</div>"
      ],
      "text/plain": [
       "       AMI_MIC  BDQ_MIC  CFZ_MIC  DLM_MIC  EMB_MIC  ETH_MIC   INH_MIC  \\\n",
       "7627     0.125    0.030    0.030   0.0075      1.0    1.000   0.05000   \n",
       "9758     0.125    0.030    0.030   0.0075      2.0    2.000   1.60000   \n",
       "10564    1.000    0.030    0.060   0.0040     16.0   16.000  12.80000   \n",
       "5667     0.125    0.004    0.015   0.0040      8.0    0.500   1.60000   \n",
       "4745     0.125    0.004    0.015   0.0040      1.0    0.125       NaN   \n",
       "...        ...      ...      ...      ...      ...      ...       ...   \n",
       "4314     0.125    0.060    0.250   0.0075      2.0    1.000   3.20000   \n",
       "9502     0.125    0.030    0.060   0.0040      1.0    2.000   0.05000   \n",
       "4755     0.125    0.015    0.015   0.0150      2.0    0.500   0.01125   \n",
       "14       0.125    0.060    0.030   0.0075      1.0    2.000   0.05000   \n",
       "2498     0.125      NaN    0.120   0.1200      2.0    0.500   0.01125   \n",
       "\n",
       "       KAN_MIC  LEV_MIC  LZD_MIC  MXF_MIC  RIF_MIC  RFB_MIC  \n",
       "7627       4.0     0.25     0.50     0.25    0.120     0.03  \n",
       "9758       0.5     4.00     0.25     0.50    2.000     0.03  \n",
       "10564     16.0    16.00     0.25     8.00   16.000     4.00  \n",
       "5667       2.0     0.50     0.25     0.12    8.000     0.12  \n",
       "4745       0.5     0.25     0.12     0.03    0.120     0.03  \n",
       "...        ...      ...      ...      ...      ...      ...  \n",
       "4314       2.0     0.50     1.00     0.25    8.000     0.25  \n",
       "9502       2.0     0.25     0.50     0.25    0.120     0.03  \n",
       "4755       2.0     0.25     0.50     0.25    0.015     0.03  \n",
       "14         2.0     0.25     1.00     0.25    0.030     0.03  \n",
       "2498       0.5     0.50     0.25     0.12    0.030     0.03  \n",
       "\n",
       "[12055 rows x 13 columns]"
      ]
     },
     "execution_count": 60,
     "metadata": {},
     "output_type": "execute_result"
    }
   ],
   "source": [
    "mic"
   ]
  },
  {
   "cell_type": "code",
   "execution_count": null,
   "metadata": {},
   "outputs": [],
   "source": []
  }
 ],
 "metadata": {
  "kernelspec": {
   "display_name": "ml-air",
   "language": "python",
   "name": "python3"
  },
  "language_info": {
   "codemirror_mode": {
    "name": "ipython",
    "version": 3
   },
   "file_extension": ".py",
   "mimetype": "text/x-python",
   "name": "python",
   "nbconvert_exporter": "python",
   "pygments_lexer": "ipython3",
   "version": "3.9.-1"
  },
  "orig_nbformat": 4
 },
 "nbformat": 4,
 "nbformat_minor": 2
}
