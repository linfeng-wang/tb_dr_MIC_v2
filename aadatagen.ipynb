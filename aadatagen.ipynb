{
 "cells": [
  {
   "cell_type": "code",
   "execution_count": 2,
   "metadata": {},
   "outputs": [],
   "source": [
    "import numpy as np\n",
    "import pandas as pd\n",
    "# from icecream import ic\n",
    "import subprocess\n",
    "import json\n",
    "import os\n",
    "import plotly.graph_objects as go\n",
    "from matplotlib import pyplot as plt\n",
    "# import geopandas as gpd\n",
    "# from shapely.geometry import Polygon\n",
    "# from shapely.ops import cascaded_union, unary_union\n",
    "# from shapely import geometry\n",
    "# from geopy import distance\n",
    "%matplotlib inline\n",
    "import plotly.express as px \n",
    "from scipy import signal\n",
    "from tqdm import tqdm\n",
    "# from Bio import Phylo\n",
    "# import ete3\n",
    "import itertools\n",
    "import sklearn"
   ]
  },
  {
   "cell_type": "code",
   "execution_count": 19,
   "metadata": {},
   "outputs": [],
   "source": [
    "variants = pd.read_csv('variants_full.csv')\n"
   ]
  },
  {
   "cell_type": "code",
   "execution_count": 8,
   "metadata": {},
   "outputs": [],
   "source": [
    "cryptic = pd.read_csv('/mnt/storageG1/lwang/Projects/tb_dr_MIC/CRyPTIC_reuse_table_20221019.csv')"
   ]
  },
  {
   "cell_type": "code",
   "execution_count": 22,
   "metadata": {},
   "outputs": [],
   "source": [
    "overlap = set(variants['sample_id']).intersection(set(cryptic['wgs_id'].to_list()))"
   ]
  },
  {
   "cell_type": "code",
   "execution_count": 23,
   "metadata": {},
   "outputs": [],
   "source": [
    "variants = variants[variants['sample_id'].isin(overlap)]"
   ]
  },
  {
   "cell_type": "code",
   "execution_count": 45,
   "metadata": {},
   "outputs": [
    {
     "data": {
      "text/plain": [
       "(11920,)"
      ]
     },
     "execution_count": 45,
     "metadata": {},
     "output_type": "execute_result"
    }
   ],
   "source": [
    "variants['sample_id'].unique().shape"
   ]
  },
  {
   "cell_type": "code",
   "execution_count": 25,
   "metadata": {},
   "outputs": [],
   "source": [
    "variants['SNP'] = variants['gene'] + '-'+ variants['change']"
   ]
  },
  {
   "cell_type": "code",
   "execution_count": 27,
   "metadata": {},
   "outputs": [],
   "source": [
    "# variants_unique = variants.drop_duplicates(subset='SNP')"
   ]
  },
  {
   "cell_type": "code",
   "execution_count": 32,
   "metadata": {},
   "outputs": [
    {
     "name": "stdout",
     "output_type": "stream",
     "text": [
      "[0, 1, 0, 1]\n"
     ]
    }
   ],
   "source": [
    "def compare_snp_lists(set_list, query_list):\n",
    "    # Convert query_list to a set for O(1) lookup time\n",
    "    query_set = query_list\n",
    "\n",
    "    # Use numpy for efficient array operations\n",
    "    import numpy as np\n",
    "    # Convert set_list to a NumPy array for vectorized operations\n",
    "    set_array = np.array(set_list)\n",
    "    # Create an array of zeros with the same length as set_list\n",
    "    output_array = np.zeros(len(set_list), dtype=int)\n",
    "    # Update positions in output_array to 1 where elements of set_array are in query_set\n",
    "    output_array[np.isin(set_array, query_set)] = 1\n",
    "\n",
    "    return output_array.tolist()\n",
    "\n",
    "# Example usage\n",
    "set_list = ['SNP1', 'SNP2', 'SNP3', 'SNP4']\n",
    "query_list = ['SNP2', 'SNP4']\n",
    "output_list = compare_snp_lists(set_list, query_list)\n",
    "print(output_list)  # Expected Output: [0, 1, 0, 1]\n"
   ]
  },
  {
   "cell_type": "code",
   "execution_count": 67,
   "metadata": {},
   "outputs": [
    {
     "name": "stdout",
     "output_type": "stream",
     "text": [
      "[0, 5, 0, 10]\n",
      "[0, 5, 0, 10]\n"
     ]
    }
   ],
   "source": [
    "def compare_snp_lists_with_values(set_list, query_list, values_list):\n",
    "    # Create a dictionary from query_list and values_list for faster lookups\n",
    "    query_dict = dict(zip(query_list, values_list))\n",
    "    \n",
    "    # Initialize output list with zeros\n",
    "    output_list = [0] * len(set_list)\n",
    "    \n",
    "    # Iterate through the set list and update the output list\n",
    "    for i, snp in enumerate(set_list):\n",
    "        if snp in query_dict:\n",
    "            # Use the corresponding value from values_list instead of 1\n",
    "            output_list[i] = query_dict[snp]\n",
    "    \n",
    "    return output_list\n",
    "\n",
    "# Example usage:\n",
    "set_list = ['SNP1', 'SNP2', 'SNP3', 'SNP4']\n",
    "query_list = ['SNP2', 'SNP4']\n",
    "values_list = [5, 10]  # Corresponding values for 'SNP2' and 'SNP4'\n",
    "output_list = compare_snp_lists_with_values(set_list, query_list, values_list)\n",
    "print(output_list)  # Expected output: [0, 5, 0, 10]\n",
    "\n",
    "\n",
    "def compare_snp_lists_with_values_optimized(set_list, query_list, values_list):\n",
    "    # Create a dictionary from query_list and values_list for direct mapping\n",
    "    query_dict = dict(zip(query_list, values_list))\n",
    "    \n",
    "    # Use list comprehension to build the output list directly\n",
    "    output_list = [query_dict.get(snp, 0) for snp in set_list]\n",
    "    \n",
    "    return output_list\n",
    "\n",
    "# Example usage\n",
    "set_list = ['SNP1', 'SNP2', 'SNP3', 'SNP4']\n",
    "query_list = ['SNP2', 'SNP4']\n",
    "values_list = [5, 10]  # Corresponding values for 'SNP2' and 'SNP4'\n",
    "output_list = compare_snp_lists_with_values_optimized(set_list, query_list, values_list)\n",
    "print(output_list)  # Expected output: [0, 5, 0, 10]\n"
   ]
  },
  {
   "cell_type": "code",
   "execution_count": 139,
   "metadata": {},
   "outputs": [
    {
     "data": {
      "text/plain": [
       "46"
      ]
     },
     "execution_count": 139,
     "metadata": {},
     "output_type": "execute_result"
    }
   ],
   "source": [
    "len(variants[variants['sample_id']==x]['SNP'].to_list())"
   ]
  },
  {
   "cell_type": "code",
   "execution_count": 141,
   "metadata": {},
   "outputs": [
    {
     "data": {
      "text/plain": [
       "46"
      ]
     },
     "execution_count": 141,
     "metadata": {},
     "output_type": "execute_result"
    }
   ],
   "source": [
    "len(variants[variants['sample_id']==x]['freq'].to_list())"
   ]
  },
  {
   "cell_type": "code",
   "execution_count": 68,
   "metadata": {},
   "outputs": [
    {
     "name": "stderr",
     "output_type": "stream",
     "text": [
      "100%|██████████| 11920/11920 [11:16<00:00, 17.63it/s]\n"
     ]
    }
   ],
   "source": [
    "aa = []\n",
    "all_snp = variants['SNP'].unique()\n",
    "for x in tqdm(variants['sample_id'].unique()):\n",
    "    aa.append(compare_snp_lists_with_values(all_snp, variants[variants['sample_id']==x]['SNP'].to_list(), variants[variants['sample_id']==x]['freq'].to_list()))"
   ]
  },
  {
   "cell_type": "code",
   "execution_count": null,
   "metadata": {},
   "outputs": [],
   "source": [
    "variants[variants['sample_id']==x]['SNP'].to_list()"
   ]
  },
  {
   "cell_type": "code",
   "execution_count": null,
   "metadata": {},
   "outputs": [],
   "source": [
    "aa_array = np.array(aa)\n",
    "np.savetxt('data_aa/aa_data.csv', aa_array, delimiter=',')   # X is an array"
   ]
  },
  {
   "cell_type": "code",
   "execution_count": 106,
   "metadata": {},
   "outputs": [],
   "source": [
    "cryptic_mic = pd.read_csv('/mnt/storageG1/lwang/Projects/tb_dr_MIC/data1/CRyPTIC_reuse_table_20221019_cleaned.csv')"
   ]
  },
  {
   "cell_type": "code",
   "execution_count": 133,
   "metadata": {},
   "outputs": [],
   "source": [
    "variants_ind = variants[variants['gene']=='rpoB']\n",
    "all_snp = variants_ind['SNP'].unique()"
   ]
  },
  {
   "cell_type": "code",
   "execution_count": 136,
   "metadata": {},
   "outputs": [
    {
     "data": {
      "text/plain": [
       "869"
      ]
     },
     "execution_count": 136,
     "metadata": {},
     "output_type": "execute_result"
    }
   ],
   "source": [
    "len(all_snp)"
   ]
  },
  {
   "cell_type": "markdown",
   "metadata": {},
   "source": [
    "# Getting rpob aa snp data"
   ]
  },
  {
   "cell_type": "code",
   "execution_count": 151,
   "metadata": {},
   "outputs": [
    {
     "data": {
      "text/plain": [
       "array(['rpoB-c.309C>T', 'rpoB-c.1482G>A', 'rpoB-p.Ser450Leu',\n",
       "       'rpoB-p.Glu250Gly', 'rpoB-p.Asp435Val', 'rpoB-p.Ser450Phe',\n",
       "       'rpoB-p.Thr400Ala', 'rpoB-p.His445Tyr', 'rpoB-c.-61C>T',\n",
       "       'rpoB-p.Val359Ala', 'rpoB-c.1683G>A', 'rpoB-c.684C>T',\n",
       "       'rpoB-p.Ile751Val', 'rpoB-p.Lys944Asn', 'rpoB-c.-113C>T',\n",
       "       'rpoB-p.His445Leu', 'rpoB-p.His445Asp', 'rpoB-p.Lys891Glu',\n",
       "       'rpoB-p.Asp435Tyr', 'rpoB-p.Gln432Lys', 'rpoB-p.Glu761Asp',\n",
       "       'rpoB-p.Val695Leu', 'rpoB-p.His445Arg', 'rpoB-p.Arg827Leu',\n",
       "       'rpoB-c.1299C>T', 'rpoB-p.Ala286Val', 'rpoB-c.1297_1299dupTTC',\n",
       "       'rpoB-p.Leu449Met', 'rpoB-p.Leu554Pro', 'rpoB-c.138A>C',\n",
       "       'rpoB-p.Leu430Pro', 'rpoB-p.Arg552His', 'rpoB-c.1292_1294dupGCC',\n",
       "       'rpoB-p.Asp634Gly', 'rpoB-c.1410C>T', 'rpoB-c.-49C>T',\n",
       "       'rpoB-p.Ile488Val', 'rpoB-p.Asp531Glu', 'rpoB-p.Thr399Ile',\n",
       "       'rpoB-p.Pro768Leu', 'rpoB-p.Leu452Pro', 'rpoB-c.2025C>A',\n",
       "       'rpoB-p.His445Asn', 'rpoB-p.Arg219Cys', 'rpoB-c.1659G>A',\n",
       "       'rpoB-c.1300_1305delATGGAC', 'rpoB-p.Gly46Val', 'rpoB-c.300G>A',\n",
       "       'rpoB-p.Pro45Ser', 'rpoB-p.Asp435Phe', 'rpoB-p.Ala692Thr',\n",
       "       'rpoB-c.-199C>T', 'rpoB-c.1788C>T', 'rpoB-p.Ser450Met',\n",
       "       'rpoB-p.Gln409Arg', 'rpoB-p.Pro802Arg', 'rpoB-p.His445Cys',\n",
       "       'rpoB-p.Pro45Leu', 'rpoB-c.-6T>C', 'rpoB-p.Met434Ile',\n",
       "       'rpoB-c.2058G>A', 'rpoB-c.-134T>G', 'rpoB-p.Pro45Thr',\n",
       "       'rpoB-p.Gln432Pro', 'rpoB-c.1853delC', 'rpoB-p.Cys116Phe',\n",
       "       'rpoB-p.Thr756Ala', 'rpoB-p.Leu731Pro', 'rpoB-c.-80A>G',\n",
       "       'rpoB-p.Gly28Val', 'rpoB-p.Gly95Trp', 'rpoB-p.Arg827Cys',\n",
       "       'rpoB-c.-169T>C', 'rpoB-p.Asp435Asn', 'rpoB-c.2361T>C',\n",
       "       'rpoB-p.Val170Ala', 'rpoB-p.Phe1062Cys', 'rpoB-p.Asp435Gly',\n",
       "       'rpoB-p.Ile1106Thr', 'rpoB-p.Ser450Trp', 'rpoB-p.Asp103Glu',\n",
       "       'rpoB-p.Met601Ile', 'rpoB-p.Val970Met', 'rpoB-p.Phe669Leu',\n",
       "       'rpoB-c.375T>C', 'rpoB-c.378A>G', 'rpoB-c.387C>G', 'rpoB-c.390C>G',\n",
       "       'rpoB-p.Asn539Lys', 'rpoB-c.-83A>G', 'rpoB-p.Ile491Phe',\n",
       "       'rpoB-c.-187A>C', 'rpoB-p.Gly46Arg', 'rpoB-p.Tyr308Asp',\n",
       "       'rpoB-p.Tyr474His', 'rpoB-p.Met434Lys', 'rpoB-c.204C>T',\n",
       "       'rpoB-p.Glu291*', 'rpoB-p.Phe1013Leu', 'rpoB-c.1116G>C',\n",
       "       'rpoB-c.1236C>A', 'rpoB-p.Gln436Arg', 'rpoB-p.Ser431Arg',\n",
       "       'rpoB-p.Phe503Ser', 'rpoB-p.Ile491Thr', 'rpoB-p.Val496Met',\n",
       "       'rpoB-p.Tyr1015Cys', 'rpoB-p.Gln975His', 'rpoB-p.Asp265Gly',\n",
       "       'rpoB-p.His674Arg', 'rpoB-p.Ser22Thr', 'rpoB-p.Glu639Gly',\n",
       "       'rpoB-p.Leu48Phe', 'rpoB-p.Asp545Glu', 'rpoB-c.-13G>A',\n",
       "       'rpoB-p.Gln1080Arg', 'rpoB-p.His835Arg', 'rpoB-p.Val113Ile',\n",
       "       'rpoB-p.His445Gly', 'rpoB-p.Arg827His', 'rpoB-c.2031C>T',\n",
       "       'rpoB-p.Thr427Ala', 'rpoB-c.1884G>C', 'rpoB-c.1312_1314delAAC',\n",
       "       'rpoB-p.Glu1011Ala', 'rpoB-p.Val357Leu', 'rpoB-p.Met587Ile',\n",
       "       'rpoB-p.Met121Ile', 'rpoB-p.Ile491Leu', 'rpoB-c.-137C>T',\n",
       "       'rpoB-p.Ser672Pro', 'rpoB-p.Pro152Leu', 'rpoB-p.Ala686Thr',\n",
       "       'rpoB-c.-192A>C', 'rpoB-c.-173A>T', 'rpoB-p.Val262Gly',\n",
       "       'rpoB-c.2065C>A', 'rpoB-p.Asp897Gly', 'rpoB-p.Leu1030Arg',\n",
       "       'rpoB-p.Arg167Cys', 'rpoB-p.Gln432Leu', 'rpoB-p.His445Gln',\n",
       "       'rpoB-c.114G>A', 'rpoB-c.801G>A', 'rpoB-p.Ala934Thr',\n",
       "       'rpoB-p.Leu778Val', 'rpoB-p.Glu821Val', 'rpoB-p.Ala451Val',\n",
       "       'rpoB-p.Gln432Glu', 'rpoB-p.Glu481Ala', 'rpoB-p.Arg791Cys',\n",
       "       'rpoB-p.Ile480Val', 'rpoB-p.Ala951Asp', 'rpoB-p.Asp574Glu',\n",
       "       'rpoB-p.Asp571Ala', 'rpoB-p.Val305Ile', 'rpoB-p.Val562Ala',\n",
       "       'rpoB-p.Val170Phe', 'rpoB-p.Leu430Arg', 'rpoB-p.Glu207Lys',\n",
       "       'rpoB-p.Val833Met', 'rpoB-p.Ser441Leu', 'rpoB-p.Lys446Arg',\n",
       "       'rpoB-p.Ser428Gly', 'rpoB-p.Glu320Asp', 'rpoB-p.Lys944Thr',\n",
       "       'rpoB-c.-115delT', 'rpoB-p.Thr52Pro', 'rpoB-p.His445Ser',\n",
       "       'rpoB-p.Asp92Gly', 'rpoB-p.Asn437Ser', 'rpoB-p.Ser582Ala',\n",
       "       'rpoB-p.Ser428Thr', 'rpoB-p.Phe151Leu', 'rpoB-p.Pro454Leu',\n",
       "       'rpoB-p.Asn437Ile', 'rpoB-p.Thr400Asn', 'rpoB-p.Ser874Tyr',\n",
       "       'rpoB-p.Leu778Met', 'rpoB-p.Asn437Asp', 'rpoB-p.Gly79Ser',\n",
       "       'rpoB-c.231G>A', 'rpoB-c.1182C>G', 'rpoB-p.Ala527Val',\n",
       "       'rpoB-c.-110A>G', 'rpoB-p.Ile491Val', 'rpoB-p.Val496Ala',\n",
       "       'rpoB-p.Gln429Leu', 'rpoB-c.1173G>A', 'rpoB-p.Gly1000Cys',\n",
       "       'rpoB-c.336C>T', 'rpoB-c.2238C>T', 'rpoB-c.1698C>A',\n",
       "       'rpoB-c.1725C>A', 'rpoB-p.Tyr564His', 'rpoB-p.Thr288Lys',\n",
       "       'rpoB-p.Leu327Pro', 'rpoB-p.Ile480Thr', 'rpoB-p.Phe424Val',\n",
       "       'rpoB-p.Thr159Pro', 'rpoB-p.His723Asp', 'rpoB-p.Ile59Asn',\n",
       "       'rpoB-p.Arg552Leu', 'rpoB-p.Met390Thr', 'rpoB-p.His1028Tyr',\n",
       "       'rpoB-p.Asn381Thr', 'rpoB-p.Glu750Gly', 'rpoB-c.-159C>T',\n",
       "       'rpoB-p.Ser254Pro', 'rpoB-p.Val1101Ala', 'rpoB-p.Ser98Ala',\n",
       "       'rpoB-p.Asp435His', 'rpoB-c.1401C>A', 'rpoB-p.Pro768Gln',\n",
       "       'rpoB-p.Gly633Asp', 'rpoB-c.12C>T', 'rpoB-p.Ser195Arg',\n",
       "       'rpoB-p.Met1070Thr', 'rpoB-p.Glu550Gly', 'rpoB-p.His445Pro',\n",
       "       'rpoB-p.Lys446Gln', 'rpoB-c.1332C>G', 'rpoB-p.Leu452Arg',\n",
       "       'rpoB-p.Ile491Met', 'rpoB-p.Asp435Leu', 'rpoB-c.1155C>G',\n",
       "       'rpoB-p.Gln401Arg', 'rpoB-p.Ile90Leu', 'rpoB-p.Met434Val',\n",
       "       'rpoB-p.Gln1056Arg', 'rpoB-c.1980C>T', 'rpoB-p.His749Tyr',\n",
       "       'rpoB-p.Val534Met', 'rpoB-p.Val970Ala', 'rpoB-c.1242C>T',\n",
       "       'rpoB-p.Glu156Gly', 'rpoB-p.Ala538Pro', 'rpoB-p.Asp543Gly',\n",
       "       'rpoB-p.Gln432His', 'rpoB-p.Ser188Phe',\n",
       "       'rpoB-c.1279_1284delACCAGC', 'rpoB-p.Pro45Ala', 'rpoB-p.Leu378Arg',\n",
       "       'rpoB-p.Gln1060His', 'rpoB-c.1572C>T', 'rpoB-p.Thr410Arg',\n",
       "       'rpoB-p.Ala1075Thr', 'rpoB-p.Leu1149Gln', 'rpoB-p.Arg219Leu',\n",
       "       'rpoB-c.-122C>T', 'rpoB-p.Pro483Ser', 'rpoB-p.Thr676Pro',\n",
       "       'rpoB-p.Ile925Val', 'rpoB-c.1254C>T', 'rpoB-p.Gln429Pro',\n",
       "       'rpoB-p.Ile488Leu', 'rpoB-p.Lys110Arg', 'rpoB-c.2004G>A',\n",
       "       'rpoB-p.Ile588Val', 'rpoB-p.His343Gln', 'rpoB-p.Asp53Val',\n",
       "       'rpoB-p.Cys681Arg', 'rpoB-p.Pro416Ala', 'rpoB-p.Thr482Ile',\n",
       "       'rpoB-p.Ala753Thr', 'rpoB-p.Thr350Ile', 'rpoB-p.Ser388Leu',\n",
       "       'rpoB-p.Glu639Asp', 'rpoB-p.Ala584Gly', 'rpoB-p.Phe424Leu',\n",
       "       'rpoB-p.Pro45Arg', 'rpoB-p.Gln172Arg', 'rpoB-p.Lys891Arg',\n",
       "       'rpoB-p.Ile892Phe', 'rpoB-p.Ile910Val', 'rpoB-p.Gly945Glu',\n",
       "       'rpoB-p.Leu127Met', 'rpoB-p.Asn136Lys', 'rpoB-p.Ala753Val',\n",
       "       'rpoB-p.Asp108Glu', 'rpoB-p.Glu1150Asp', 'rpoB-p.Thr676Ile',\n",
       "       'rpoB-p.Pro15Leu', 'rpoB-c.1017G>C', 'rpoB-p.His343Tyr',\n",
       "       'rpoB-c.1323G>T', 'rpoB-c.1365C>T', 'rpoB-p.Ser458Thr',\n",
       "       'rpoB-p.Glu460Asp', 'rpoB-c.1383T>C', 'rpoB-c.1389G>C',\n",
       "       'rpoB-c.1392G>C', 'rpoB-c.1413G>C', 'rpoB-c.1428G>C',\n",
       "       'rpoB-c.1437G>A', 'rpoB-c.1539G>A', 'rpoB-p.Met605Thr',\n",
       "       'rpoB-c.1869G>T', 'rpoB-p.Met898Ile', 'rpoB-c.1524G>T',\n",
       "       'rpoB-c.1884G>A', 'rpoB-p.Arg1008Cys', 'rpoB-p.Val1131Glu',\n",
       "       'rpoB-p.Ser450Val', 'rpoB-p.Asn163Lys', 'rpoB-c.-169_-168insA',\n",
       "       'rpoB-c.12C>A', 'rpoB-p.Glu86Asp', 'rpoB-p.Gln537*',\n",
       "       'rpoB-p.Cys701Tyr', 'rpoB-p.Gly722Cys', 'rpoB-p.Ala942Thr',\n",
       "       'rpoB-c.-152C>T', 'rpoB-p.Gly675Asp', 'rpoB-p.Ser493Leu',\n",
       "       'rpoB-p.Pro27Thr', 'rpoB-p.Asp766His', 'rpoB-c.183G>T',\n",
       "       'rpoB-c.834C>T', 'rpoB-p.Lys1054Arg', 'rpoB-p.Tyr308Cys',\n",
       "       'rpoB-c.2136C>T', 'rpoB-c.423C>T', 'rpoB-p.Ser428Arg',\n",
       "       'rpoB-c.798G>A', 'rpoB-c.855A>C', 'rpoB-c.1608A>G',\n",
       "       'rpoB-p.Arg222His', 'rpoB-c.942C>G', 'rpoB-c.1179G>A',\n",
       "       'rpoB-c.1623G>A', 'rpoB-p.Arg627His', 'rpoB-c.2109C>T',\n",
       "       'rpoB-p.Val736Leu', 'rpoB-p.Gln869Pro', 'rpoB-p.Ile873Phe',\n",
       "       'rpoB-c.-54C>A', 'rpoB-p.Arg224Cys', 'rpoB-p.Thr676Ala',\n",
       "       'rpoB-p.Ala599Thr', 'rpoB-p.Thr399Pro', 'rpoB-p.Asp301Asn',\n",
       "       'rpoB-p.Met1070Ile', 'rpoB-p.Phe424Cys', 'rpoB-p.Glu356*',\n",
       "       'rpoB-c.495C>T', 'rpoB-p.Thr444Ile', 'rpoB-p.Glu460Gly',\n",
       "       'rpoB-p.Asn1155Ser', 'rpoB-c.210G>A', 'rpoB-p.Tyr564Cys',\n",
       "       'rpoB-p.Asp435Ser', 'rpoB-c.703C>T', 'rpoB-p.Thr508Ala',\n",
       "       'rpoB-p.Gln429His', 'rpoB-p.Ser450Ala', 'rpoB-p.Glu738Ala',\n",
       "       'rpoB-p.Glu706Lys', 'rpoB-c.-38G>A', 'rpoB-c.15C>A',\n",
       "       'rpoB-p.Ile922Asn', 'rpoB-c.-131A>C', 'rpoB-p.Val496Leu',\n",
       "       'rpoB-p.Val518Ile', 'rpoB-p.Ser1009Ile', 'rpoB-p.Ala960Glu',\n",
       "       'rpoB-p.Gly442Glu', 'rpoB-c.2175C>T', 'rpoB-c.2406G>A',\n",
       "       'rpoB-p.Asp435Ala', 'rpoB-p.Ile491Ser', 'rpoB-p.Gly642Ser',\n",
       "       'rpoB-c.804_805delGT', 'rpoB-c.30C>G', 'rpoB-c.-173A>G',\n",
       "       'rpoB-c.-26C>T', 'rpoB-p.Phe971Leu', 'rpoB-p.Val216Ile',\n",
       "       'rpoB-p.Ile1106Met', 'rpoB-c.705G>A', 'rpoB-p.Arg225Gly',\n",
       "       'rpoB-p.Ser450Gly', 'rpoB-p.Gln51Pro', 'rpoB-p.Ile162Val',\n",
       "       'rpoB-c.1839C>G', 'rpoB-c.1941G>C', 'rpoB-p.Ala977Asp',\n",
       "       'rpoB-c.36T>C', 'rpoB-p.Val50Ala', 'rpoB-c.2553C>T',\n",
       "       'rpoB-p.Glu1150Lys', 'rpoB-p.His1028Arg', 'rpoB-p.Glu807Gly',\n",
       "       'rpoB-c.-21G>C', 'rpoB-p.Gly463Trp', 'rpoB-p.Gln226His',\n",
       "       'rpoB-p.Asn260Asp', 'rpoB-p.His914Tyr', 'rpoB-p.Glu1066Ala',\n",
       "       'rpoB-p.Lys832Glu', 'rpoB-p.Ser1134Arg', 'rpoB-p.Pro439Leu',\n",
       "       'rpoB-p.Lys274Asn', 'rpoB-c.606C>T', 'rpoB-p.Leu758Pro',\n",
       "       'rpoB-p.Pro856Leu', 'rpoB-p.Lys944Glu', 'rpoB-p.Thr968Lys',\n",
       "       'rpoB-c.1306_1308delCAG', 'rpoB-p.Ile491Tyr', 'rpoB-p.Arg225Pro',\n",
       "       'rpoB-c.-46C>G', 'rpoB-c.2427G>C', 'rpoB-p.Arg552Cys',\n",
       "       'rpoB-c.-161G>A', 'rpoB-p.Val583Met', 'rpoB-p.Asn24Lys',\n",
       "       'rpoB-p.Ser102Pro', 'rpoB-p.Pro1014Arg', 'rpoB-c.702G>A',\n",
       "       'rpoB-p.Ala943Thr', 'rpoB-p.Gly884Ala', 'rpoB-p.Gly973Asp',\n",
       "       'rpoB-p.Met587Thr', 'rpoB-p.Arg224His', 'rpoB-c.708C>T',\n",
       "       'rpoB-p.Val44Gly', 'rpoB-p.Ile744Thr', 'rpoB-p.Thr361Asn',\n",
       "       'rpoB-p.Ile406Phe', 'rpoB-p.Leu42Val', 'rpoB-p.Asn437His',\n",
       "       'rpoB-p.Asp520Ala', 'rpoB-p.Asp515Tyr', 'rpoB-c.-123G>T',\n",
       "       'rpoB-c.1806G>A', 'rpoB-p.Val33Leu', 'rpoB-p.Asp435Glu',\n",
       "       'rpoB-c.108T>C', 'rpoB-p.Asp631Gly', 'rpoB-p.Leu80Met',\n",
       "       'rpoB-p.Phe133Leu', 'rpoB-p.Arg32Leu', 'rpoB-p.Ala1055Pro',\n",
       "       'rpoB-p.Asn487Ser', 'rpoB-p.Gln980His', 'rpoB-p.Ala584Asp',\n",
       "       'rpoB-c.279C>T', 'rpoB-p.Arg734His', 'rpoB-p.Gly376Val',\n",
       "       'rpoB-p.Arg824His', 'rpoB-p.Asp545His', 'rpoB-p.Val50Leu',\n",
       "       'rpoB-p.Lys886Glu', 'rpoB-c.2058G>C', 'rpoB-p.Val534Gly',\n",
       "       'rpoB-p.Val394Leu', 'rpoB-p.Asp1033Glu', 'rpoB-c.96G>T',\n",
       "       'rpoB-p.Lys37Asn', 'rpoB-c.201C>G', 'rpoB-c.2364C>G',\n",
       "       'rpoB-c.2361T>G', 'rpoB-p.Pro280Leu', 'rpoB-c.-87C>T',\n",
       "       'rpoB-c.1025delT', 'rpoB-c.-56G>T', 'rpoB-p.Glu738*',\n",
       "       'rpoB-p.Ala628Glu', 'rpoB-p.His445Phe', 'rpoB-p.Leu235Met',\n",
       "       'rpoB-p.Glu240Gly', 'rpoB-c.-190C>T', 'rpoB-p.His674Asp',\n",
       "       'rpoB-p.Ser441Gln', 'rpoB-c.1291_1302delAGCCAATTCATG',\n",
       "       'rpoB-p.Val129Gly', 'rpoB-p.Arg224Leu', 'rpoB-c.-53A>T',\n",
       "       'rpoB-c.-25G>A', 'rpoB-p.Arg448Gln', 'rpoB-c.213G>A',\n",
       "       'rpoB-c.2427G>A', 'rpoB-p.Ser441Ala', 'rpoB-c.-62C>T',\n",
       "       'rpoB-p.Pro27Leu', 'rpoB-p.Arg824Cys', 'rpoB-p.Asp531Gly',\n",
       "       'rpoB-c.691C>T', 'rpoB-c.1059C>T', 'rpoB-p.Thr660Asn',\n",
       "       'rpoB-c.2184G>C', 'rpoB-p.His445Val', 'rpoB-p.Phe433Leu',\n",
       "       'rpoB-c.1290_1298delGAGCCAATT', 'rpoB-p.Pro577Ala',\n",
       "       'rpoB-p.Ser441Val', 'rpoB-p.Val1094Asp', 'rpoB-p.Lys822Thr',\n",
       "       'rpoB-p.Val168Ala', 'rpoB-p.Glu639Lys', 'rpoB-c.-159_-158insT',\n",
       "       'rpoB-p.Arg871Leu', 'rpoB-p.Ala599Val', 'rpoB-p.His674Tyr',\n",
       "       'rpoB-p.Val867Met', 'rpoB-p.Asp214Asn', 'rpoB-p.Phe433Ser',\n",
       "       'rpoB-p.Arg1162Ser', 'rpoB-p.Gly836Cys', 'rpoB-p.Met477Arg',\n",
       "       'rpoB-p.Pro104His', 'rpoB-p.Gly453Ala', 'rpoB-p.Leu525Pro',\n",
       "       'rpoB-p.Arg781Trp', 'rpoB-c.390C>T', 'rpoB-c.-160T>C',\n",
       "       'rpoB-p.Ala670Thr', 'rpoB-p.Glu978Lys', 'rpoB-p.Val168Gly',\n",
       "       'rpoB-p.His835Gln', 'rpoB-p.Glu592Asp', 'rpoB-p.Gly60Arg',\n",
       "       'rpoB-c.2158_2159delTG', 'rpoB-c.1294_1296delCAA',\n",
       "       'rpoB-c.-180A>C', 'rpoB-p.Ser34Pro', 'rpoB-p.Ser239Asn',\n",
       "       'rpoB-c.726T>C', 'rpoB-c.735G>C', 'rpoB-p.Phe246Leu',\n",
       "       'rpoB-p.Asp259His', 'rpoB-c.780C>T', 'rpoB-c.802C>T',\n",
       "       'rpoB-c.805T>C', 'rpoB-c.828T>C', 'rpoB-c.840C>G', 'rpoB-c.849A>G',\n",
       "       'rpoB-p.Asp402Glu', 'rpoB-p.His445*', 'rpoB-c.1497G>C',\n",
       "       'rpoB-c.1512G>T', 'rpoB-c.1521A>G', 'rpoB-c.1527G>T',\n",
       "       'rpoB-c.1533C>G', 'rpoB-p.Gly516Cys', 'rpoB-c.1944G>A',\n",
       "       'rpoB-c.2352G>C', 'rpoB-c.2370T>C', 'rpoB-c.2379G>C',\n",
       "       'rpoB-c.2388G>C', 'rpoB-c.2430G>C', 'rpoB-p.His883Gln',\n",
       "       'rpoB-p.Gly890Cys', 'rpoB-p.Lys446Glu', 'rpoB-p.Pro177Ala',\n",
       "       'rpoB-p.Ser441Met', 'rpoB-c.1921delA', 'rpoB-p.Pro177Ser',\n",
       "       'rpoB-p.Gly1092Cys', 'rpoB-c.-70C>T', 'rpoB-c.865C>T',\n",
       "       'rpoB-p.Leu778Gln', 'rpoB-p.His593Tyr', 'rpoB-c.-66C>T',\n",
       "       'rpoB-p.Thr9Ile', 'rpoB-p.Asp265Glu', 'rpoB-p.Glu563Ala',\n",
       "       'rpoB-p.Pro700Leu', 'rpoB-p.Ser441Trp', 'rpoB-p.His533Asn',\n",
       "       'rpoB-p.Ser493Arg', 'rpoB-p.Lys891Thr', 'rpoB-p.Ser176Leu',\n",
       "       'rpoB-c.-70C>A', 'rpoB-p.Pro454His', 'rpoB-p.Leu775Pro',\n",
       "       'rpoB-c.396G>A', 'rpoB-c.1326G>T', 'rpoB-p.Arg167His',\n",
       "       'rpoB-c.1725C>T', 'rpoB-p.Ser493Thr', 'rpoB-c.39_44dupTAGTCC',\n",
       "       'rpoB-c.1281C>T', 'rpoB-p.Leu709Gln', 'rpoB-p.Asn989Asp',\n",
       "       'rpoB-p.Lys37Arg', 'rpoB-p.Tyr510His', 'rpoB-p.Ala1153Val',\n",
       "       'rpoB-p.Glu896Lys', 'rpoB-c.1510_1512dupGGG', 'rpoB-p.Ala902Pro',\n",
       "       'rpoB-p.Glu721Asp', 'rpoB-p.Val351Ala', 'rpoB-c.1056G>C',\n",
       "       'rpoB-p.Glu360Asp', 'rpoB-p.Thr361Ala', 'rpoB-c.2208C>G',\n",
       "       'rpoB-c.2232C>T', 'rpoB-c.-88C>T', 'rpoB-p.Leu1132Val',\n",
       "       'rpoB-c.1893C>T', 'rpoB-c.-195C>A', 'rpoB-p.Gly836Ser',\n",
       "       'rpoB-c.-154C>A', 'rpoB-p.Thr159Lys', 'rpoB-p.Ala960Pro',\n",
       "       'rpoB-p.Tyr1097Cys', 'rpoB-c.3305delA', 'rpoB-p.Met573Thr',\n",
       "       'rpoB-p.His674Gln', 'rpoB-c.-132T>C', 'rpoB-p.Phe1115Leu',\n",
       "       'rpoB-c.1443A>G', 'rpoB-p.Leu452Val', 'rpoB-p.Ala951Thr',\n",
       "       'rpoB-p.Arg607Ser', 'rpoB-c.939G>A', 'rpoB-c.1353G>A',\n",
       "       'rpoB-p.Asn597Ile', 'rpoB-p.Pro719Thr', 'rpoB-p.Ala964Thr',\n",
       "       'rpoB-c.-112G>A', 'rpoB-p.Thr444Ser', 'rpoB-p.Val355Ile',\n",
       "       'rpoB-p.Pro682Ala', 'rpoB-p.Val996Ala', 'rpoB-p.Pro502Leu',\n",
       "       'rpoB-p.Cys701Trp', 'rpoB-c.215delG', 'rpoB-p.Thr928Asn',\n",
       "       'rpoB-c.-163T>C', 'rpoB-c.1829delT', 'rpoB-p.Glu465Gln',\n",
       "       'rpoB-p.Thr1084Pro', 'rpoB-p.Glu1113Gly',\n",
       "       'rpoB-c.1302_1310delGGACCAGAA', 'rpoB-p.Asn163Asp',\n",
       "       'rpoB-c.243A>G', 'rpoB-p.Leu490Pro', 'rpoB-p.Thr427Gly',\n",
       "       'rpoB-c.1692C>T', 'rpoB-p.His366Pro', 'rpoB-p.Arg397Gly',\n",
       "       'rpoB-c.1390C>T', 'rpoB-p.Asp528His', 'rpoB-c.1593C>T',\n",
       "       'rpoB-p.Pro589Ala', 'rpoB-p.Ala632Asp', 'rpoB-p.Gly843Arg',\n",
       "       'rpoB-p.Pro906Ala', 'rpoB-c.1488G>A', 'rpoB-p.Ala638Gly',\n",
       "       'rpoB-p.Ile965Val', 'rpoB-c.2557_2562dupGACGAG', 'rpoB-c.84A>T',\n",
       "       'rpoB-c.1297_1305delTTCATGGAC', 'rpoB-c.2142G>A', 'rpoB-c.-162A>G',\n",
       "       'rpoB-p.Glu56*', 'rpoB-p.Leu48Ile', 'rpoB-c.870G>A',\n",
       "       'rpoB-c.606C>A', 'rpoB-c.39T>C', 'rpoB-c.1500C>T',\n",
       "       'rpoB-p.Thr508Lys', 'rpoB-p.Val1131Ala', 'rpoB-c.495C>G',\n",
       "       'rpoB-p.Gly699Ser', 'rpoB-p.Thr742Ala', 'rpoB-p.His343Arg',\n",
       "       'rpoB-p.Val198Met', 'rpoB-p.Ile542Lys', 'rpoB-p.Arg448Lys',\n",
       "       'rpoB-p.Ser96Leu', 'rpoB-p.Ser16Cys', 'rpoB-p.Thr159Met',\n",
       "       'rpoB-p.Pro177Leu', 'rpoB-p.Lys939Gln', 'rpoB-p.Ser672Phe',\n",
       "       'rpoB-c.1728G>A', 'rpoB-c.2484C>T', 'rpoB-p.Cys1126Phe',\n",
       "       'rpoB-c.45G>A', 'rpoB-p.His1028Asp', 'rpoB-p.Leu84Pro',\n",
       "       'rpoB-p.Lys119Asn', 'rpoB-c.-4C>T', 'rpoB-c.2247T>C',\n",
       "       'rpoB-p.Arg552Ser', 'rpoB-c.381G>T', 'rpoB-p.Val562Met',\n",
       "       'rpoB-c.1086C>T', 'rpoB-p.Gln436Pro', 'rpoB-p.Asn487Thr',\n",
       "       'rpoB-c.1557C>T', 'rpoB-p.Val800Ala', 'rpoB-p.Asn673Ser',\n",
       "       'rpoB-p.Asp1148Glu', 'rpoB-c.504G>A', 'rpoB-c.757_758delCG',\n",
       "       'rpoB-p.Ser254Trp', 'rpoB-c.2439G>C',\n",
       "       'rpoB-c.1303_1317delGACCAGAACAACCCG', 'rpoB-c.1341C>T',\n",
       "       'rpoB-c.1344A>T', 'rpoB-c.1359G>C', 'rpoB-p.Gly787Arg',\n",
       "       'rpoB-p.Glu896Gly', 'rpoB-c.1050C>G', 'rpoB-p.Val534Leu',\n",
       "       'rpoB-c.1149C>T', 'rpoB-p.Ala334Val', 'rpoB-c.312T>G',\n",
       "       'rpoB-p.Val581Met', 'rpoB-p.Ala29Val', 'rpoB-p.Arg397Leu',\n",
       "       'rpoB-c.1807dupG', 'rpoB-p.Met920Val', 'rpoB-c.-66_-65insG',\n",
       "       'rpoB-p.Ala131Asp', 'rpoB-p.Ser428Ile', 'rpoB-p.Met349Lys',\n",
       "       'rpoB-c.1356G>T', 'rpoB-c.1303_1305delGAC', 'rpoB-c.-4delC',\n",
       "       'rpoB-p.Thr508Pro', 'rpoB-c.1569G>C', 'rpoB-p.Ser16Asn',\n",
       "       'rpoB-p.Asp186Gly', 'rpoB-c.-9G>T', 'rpoB-c.1773G>A',\n",
       "       'rpoB-c.2055C>T', 'rpoB-p.Asp792Glu', 'rpoB-p.Asp993Asn',\n",
       "       'rpoB-p.Thr1047Ile', 'rpoB-p.Ser493Trp', 'rpoB-p.Asn438Ser',\n",
       "       'rpoB-p.Thr427Asn', 'rpoB-p.Gln436Leu', 'rpoB-p.Leu206Ile',\n",
       "       'rpoB-c.1425C>T', 'rpoB-c.3213_3214delGG', 'rpoB-p.Val970Gly',\n",
       "       'rpoB-c.-137C>A', 'rpoB-p.Asn963Ser', 'rpoB-p.Pro280Ser',\n",
       "       'rpoB-p.Ala708Ser', 'rpoB-p.Gly887Ala', 'rpoB-p.Ala405Glu',\n",
       "       'rpoB-p.Leu979Met', 'rpoB-p.Leu268Arg', 'rpoB-p.Met398Thr',\n",
       "       'rpoB-p.Glu484Gly', 'rpoB-p.Glu40*', 'rpoB-p.Ser450Gln',\n",
       "       'rpoB-p.Leu452Gln', 'rpoB-p.Met434Thr', 'rpoB-c.768G>C',\n",
       "       'rpoB-c.2010C>T', 'rpoB-c.-141T>C', 'rpoB-c.1605G>C',\n",
       "       'rpoB-p.Thr427Ile', 'rpoB-c.-179C>T', 'rpoB-p.Phe106Leu',\n",
       "       'rpoB-c.1914C>T', 'rpoB-p.Thr1018Lys', 'rpoB-p.Pro483Leu',\n",
       "       'rpoB-p.Arg17Cys', 'rpoB-c.13delC', 'rpoB-c.1566C>T',\n",
       "       'rpoB-p.Glu811*', 'rpoB-p.Asp877His', 'rpoB-p.Phe424Gly',\n",
       "       'rpoB-p.Lys512Glu', 'rpoB-p.Pro358Leu', 'rpoB-p.His674Asn',\n",
       "       'rpoB-p.Phe1005Val', 'rpoB-c.687C>A', 'rpoB-p.Asp993Glu',\n",
       "       'rpoB-p.Leu591Pro', 'rpoB-c.2627_2629dupGTG', 'rpoB-p.Gly915Ser',\n",
       "       'rpoB-c.597C>T', 'rpoB-p.Pro988Ala', 'rpoB-p.Gly319Asp',\n",
       "       'rpoB-p.Gly79Asp', 'rpoB-c.231G>T', 'rpoB-p.Met655Val',\n",
       "       'rpoB-p.Asp875Glu', 'rpoB-p.Ile873Asn', 'rpoB-c.-184C>A',\n",
       "       'rpoB-c.-182delC', 'rpoB-p.Ala29Thr', 'rpoB-p.Leu173Pro',\n",
       "       'rpoB-p.Pro454Ser', 'rpoB-p.Val636Phe', 'rpoB-c.132T>A',\n",
       "       'rpoB-p.Asp752Asn', 'rpoB-p.Leu957Val', 'rpoB-p.Ala498Val',\n",
       "       'rpoB-p.Tyr651His', 'rpoB-p.Arg63Ser', 'rpoB-p.Ala68Ser',\n",
       "       'rpoB-c.957C>A', 'rpoB-p.Ile696Val', 'rpoB-p.Thr1090Ala',\n",
       "       'rpoB-p.Val198Glu', 'rpoB-p.Ser201Asn', 'rpoB-c.1923C>T',\n",
       "       'rpoB-c.1296_1307delATTCATGGACCA', 'rpoB-p.Pro439Ala',\n",
       "       'rpoB-c.1005C>T', 'rpoB-p.Ile1046Val', 'rpoB-c.2140C>T',\n",
       "       'rpoB-p.His194Tyr', 'rpoB-p.Val797Leu', 'rpoB-c.-77A>G',\n",
       "       'rpoB-p.Ala950Ser', 'rpoB-p.Glu978*', 'rpoB-p.Pro834Thr',\n",
       "       'rpoB-c.2196C>T', 'rpoB-p.Gln961His', 'rpoB-c.-171C>A',\n",
       "       'rpoB-p.Val613Phe', 'rpoB-p.Asn487His', 'rpoB-c.327C>T',\n",
       "       'rpoB-p.Thr400Ser', 'rpoB-c.1024T>C', 'rpoB-c.1035T>C',\n",
       "       'rpoB-p.Thr361Val', 'rpoB-c.1104C>T', 'rpoB-p.Ala617Ser',\n",
       "       'rpoB-p.Pro618Gln', 'rpoB-c.1983G>T', 'rpoB-c.2451C>A',\n",
       "       'rpoB-p.Gly881Val', 'rpoB-c.1327T>C', 'rpoB-p.His366Asn',\n",
       "       'rpoB-p.Arg532Leu', 'rpoB-c.-8G>T', 'rpoB-c.9T>C',\n",
       "       'rpoB-c.2052G>C', 'rpoB-c.-180_-179insCTTGACACCGTGGTCTTAGTC',\n",
       "       'rpoB-p.Glu360Gln', 'rpoB-c.1533C>T', 'rpoB-p.Glu1121Asp',\n",
       "       'rpoB-c.1710G>A', 'rpoB-p.Gln975Lys', 'rpoB-p.Val228Ile',\n",
       "       'rpoB-p.Asp1146Gly', 'rpoB-c.195C>A', 'rpoB-c.447T>C',\n",
       "       'rpoB-p.Val534Ala', 'rpoB-c.255C>T', 'rpoB-c.-3A>G',\n",
       "       'rpoB-c.-102T>A', 'rpoB-p.Gly263Val', 'rpoB-p.Asn437Tyr',\n",
       "       'rpoB-p.Ala1166Gly', 'rpoB-p.Ser431Gly', 'rpoB-c.1899C>A',\n",
       "       'rpoB-p.Asp3Gly', 'rpoB-p.Cys681Gly', 'rpoB-c.1284C>T',\n",
       "       'rpoB-p.Val523Leu', 'rpoB-p.Asp265Ala', 'rpoB-p.Gln537Arg',\n",
       "       'rpoB-p.Pro483Thr'], dtype=object)"
      ]
     },
     "execution_count": 151,
     "metadata": {},
     "output_type": "execute_result"
    }
   ],
   "source": [
    "all_snp"
   ]
  },
  {
   "cell_type": "code",
   "execution_count": 84,
   "metadata": {},
   "outputs": [
    {
     "name": "stderr",
     "output_type": "stream",
     "text": [
      "100%|██████████| 11920/11920 [00:31<00:00, 373.60it/s]\n"
     ]
    }
   ],
   "source": [
    "variants_ind = variants[variants['gene']=='rpoB']\n",
    "aa_rpoB = []\n",
    "all_snp = variants_ind['SNP'].unique()\n",
    "\n",
    "for x in tqdm(variants['sample_id'].unique()):\n",
    "    if x in variants_ind['sample_id'].unique():\n",
    "        aa_rpoB.append(compare_snp_lists_with_values(all_snp, variants_ind[variants_ind['sample_id']==x]['SNP'].to_list(), variants_ind[variants_ind['sample_id']==x]['freq'].to_list()))\n",
    "    else:\n",
    "        aa_rpoB.append([0]*len(all_snp))\n",
    "aa_rpoB_array = np.array(aa_rpoB)\n",
    "np.savetxt('data_aa/aa_rpoB.csv', aa_rpoB_array, delimiter=',')   # X is an array"
   ]
  },
  {
   "cell_type": "code",
   "execution_count": 131,
   "metadata": {},
   "outputs": [],
   "source": [
    "np.savetxt('data_aa/train_aa_rpoB.csv', aa_rpoB_array[:int(0.9*aa_rpoB_array.shape[0])], delimiter=',')   # X \n",
    "np.savetxt('data_aa/test_aa_rpoB.csv', aa_rpoB_array[int(0.9*aa_rpoB_array.shape[0]):], delimiter=',')   # X "
   ]
  },
  {
   "cell_type": "code",
   "execution_count": null,
   "metadata": {},
   "outputs": [],
   "source": [
    "np.savetxt('data_aa/aa_rpoB.csv', aa_rpoB_array, delimiter=',')   # X is an array"
   ]
  },
  {
   "cell_type": "markdown",
   "metadata": {},
   "source": [
    "# Getting eth aa snp data"
   ]
  },
  {
   "cell_type": "code",
   "execution_count": 87,
   "metadata": {},
   "outputs": [
    {
     "name": "stderr",
     "output_type": "stream",
     "text": [
      "100%|██████████| 11920/11920 [02:10<00:00, 91.03it/s]\n"
     ]
    }
   ],
   "source": [
    "variants_ind = variants[variants['gene'].isin(['embA','embB','embC'])]\n",
    "aa_emb = []\n",
    "all_snp = variants_ind['SNP'].unique()\n",
    "\n",
    "for x in tqdm(variants['sample_id'].unique()):\n",
    "    if x in variants_ind['sample_id'].unique():\n",
    "        aa_emb.append(compare_snp_lists_with_values(all_snp, variants_ind[variants_ind['sample_id']==x]['SNP'].to_list(), variants_ind[variants_ind['sample_id']==x]['freq'].to_list()))\n",
    "    else:\n",
    "        aa_emb.append([0]*len(all_snp))\n",
    "aa_emb_array = np.array(aa_emb)\n",
    "np.savetxt('data_aa/aa_emb.csv', aa_emb_array, delimiter=',')   # X is an array"
   ]
  },
  {
   "cell_type": "code",
   "execution_count": 132,
   "metadata": {},
   "outputs": [],
   "source": [
    "np.savetxt('data_aa/aa_emb.csv', aa_emb_array, delimiter=',')   # X is an array\n",
    "np.savetxt('data_aa/train_aa_emb.csv', aa_emb_array[:int(0.9*aa_emb_array.shape[0])], delimiter=',')   # X \n",
    "np.savetxt('data_aa/test_aa_emb.csv', aa_emb_array[int(0.9*aa_emb_array.shape[0]):], delimiter=',')   # X "
   ]
  },
  {
   "cell_type": "markdown",
   "metadata": {},
   "source": [
    "# Getting corresponding mic snp dataset for the above"
   ]
  },
  {
   "cell_type": "code",
   "execution_count": 145,
   "metadata": {},
   "outputs": [],
   "source": [
    "cryptic_mic['wgs_id'] = pd.Categorical(cryptic_mic['wgs_id'], categories=variants['sample_id'].unique().tolist(), ordered=True)\n",
    "# Sort the DataFrame by the 'wgs_id' column\n",
    "\n",
    "cryptic_mic_ordered = cryptic_mic.sort_values('wgs_id')\n",
    "overlap = set(variants['sample_id']).intersection(set(cryptic['wgs_id'].to_list()))\n",
    "cryptic_mic_ordered = cryptic_mic_ordered[cryptic_mic_ordered['wgs_id'].isin(overlap)]"
   ]
  },
  {
   "cell_type": "code",
   "execution_count": 146,
   "metadata": {},
   "outputs": [],
   "source": [
    "np.savetxt('data_aa/ETH_MIC.csv', np.array([float(x) for x in cryptic_mic_ordered['ETH_MIC']]), delimiter=',')   # X is an array\n",
    "np.savetxt('data_aa/train_ETH_MIC.csv', np.array([float(x) for x in cryptic_mic_ordered['ETH_MIC']])[:int(0.9*cryptic_mic_ordered.shape[0])], delimiter=',')   # X is an array\n",
    "np.savetxt('data_aa/test_ETH_MIC.csv', np.array([float(x) for x in cryptic_mic_ordered['ETH_MIC']])[int(0.9*cryptic_mic_ordered.shape[0]):], delimiter=',')   # X is an array\n",
    "\n",
    "np.savetxt('data_aa/RIF_MIC.csv', np.array([float(x) for x in cryptic_mic_ordered['RIF_MIC']]), delimiter=',')   # X is an array\n",
    "np.savetxt('data_aa/train_RIF_MIC.csv', np.array([float(x) for x in cryptic_mic_ordered['RIF_MIC']])[:int(0.9*cryptic_mic_ordered.shape[0])], delimiter=',')   # X is an array\n",
    "np.savetxt('data_aa/test_RIF_MIC.csv', np.array([float(x) for x in cryptic_mic_ordered['RIF_MIC']])[int(0.9*cryptic_mic_ordered.shape[0]):], delimiter=',')   # X is an array"
   ]
  },
  {
   "cell_type": "code",
   "execution_count": 92,
   "metadata": {},
   "outputs": [
    {
     "data": {
      "text/plain": [
       "Index(['UNIQUEID', 'AMI_BINARY_PHENOTYPE', 'BDQ_BINARY_PHENOTYPE',\n",
       "       'CFZ_BINARY_PHENOTYPE', 'DLM_BINARY_PHENOTYPE', 'EMB_BINARY_PHENOTYPE',\n",
       "       'ETH_BINARY_PHENOTYPE', 'INH_BINARY_PHENOTYPE', 'KAN_BINARY_PHENOTYPE',\n",
       "       'LEV_BINARY_PHENOTYPE', 'LZD_BINARY_PHENOTYPE', 'MXF_BINARY_PHENOTYPE',\n",
       "       'RIF_BINARY_PHENOTYPE', 'RFB_BINARY_PHENOTYPE', 'AMI_MIC', 'BDQ_MIC',\n",
       "       'CFZ_MIC', 'DLM_MIC', 'EMB_MIC', 'ETH_MIC', 'INH_MIC', 'KAN_MIC',\n",
       "       'LEV_MIC', 'LZD_MIC', 'MXF_MIC', 'RIF_MIC', 'RFB_MIC',\n",
       "       'AMI_PHENOTYPE_QUALITY', 'BDQ_PHENOTYPE_QUALITY',\n",
       "       'CFZ_PHENOTYPE_QUALITY', 'EMB_PHENOTYPE_QUALITY',\n",
       "       'ETH_PHENOTYPE_QUALITY', 'INH_PHENOTYPE_QUALITY',\n",
       "       'KAN_PHENOTYPE_QUALITY', 'LEV_PHENOTYPE_QUALITY',\n",
       "       'LZD_PHENOTYPE_QUALITY', 'MXF_PHENOTYPE_QUALITY',\n",
       "       'RIF_PHENOTYPE_QUALITY', 'RFB_PHENOTYPE_QUALITY', 'ENA_SAMPLE', 'VCF',\n",
       "       'REGENOTYPED_VCF', 'wgs_id'],\n",
       "      dtype='object')"
      ]
     },
     "execution_count": 92,
     "metadata": {},
     "output_type": "execute_result"
    }
   ],
   "source": [
    "cryptic_mic['ETH_MIC']"
   ]
  },
  {
   "cell_type": "code",
   "execution_count": null,
   "metadata": {},
   "outputs": [],
   "source": []
  },
  {
   "cell_type": "code",
   "execution_count": null,
   "metadata": {},
   "outputs": [],
   "source": []
  },
  {
   "cell_type": "code",
   "execution_count": null,
   "metadata": {},
   "outputs": [],
   "source": [
    "from tqdm import tqdm\n",
    "import numpy as np\n",
    "\n",
    "def convert_to_coordinate_value(input_list):\n",
    "    return [(i, val) for i, val in enumerate(input_list) if val != 0]\n",
    "\n",
    "# Generate coordinate values\n",
    "aa_coord = [convert_to_coordinate_value(x) for x in tqdm(aa_data_freq)]\n",
    "\n",
    "# Find the length of the longest list\n",
    "max_length = max(len(item) for item in aa_coord)\n",
    "\n",
    "# Pad the lists to have uniform length\n",
    "padded_aa_coord = [item + [(0, 0)] * (max_length - len(item)) for item in aa_coord]\n",
    "\n",
    "# Convert to a high-dimensional NumPy array\n",
    "aa_coord_array = np.array(padded_aa_coord)\n",
    "\n",
    "# The result is a high-dimensional NumPy array\n",
    "print(aa_coord_array.shape)\n"
   ]
  },
  {
   "cell_type": "code",
   "execution_count": null,
   "metadata": {},
   "outputs": [],
   "source": [
    "from tqdm import tqdm\n",
    "import numpy as np\n",
    "\n",
    "def convert_to_coordinate_value(input_list):\n",
    "    return [(i, val) for i, val in enumerate(input_list) if val != 0]\n",
    "\n",
    "# Generate coordinate values\n",
    "aa_coord = [convert_to_coordinate_value(x) for x in tqdm(aa_data_freq)]\n",
    "\n",
    "# Find the length of the longest list\n",
    "max_length = max(len(item) for item in aa_coord)\n",
    "\n",
    "# Pad the lists to have uniform length\n",
    "padded_aa_coord = [item + [(0, 0)] * (max_length - len(item)) for item in aa_coord]\n",
    "\n",
    "# Convert to a high-dimensional NumPy array\n",
    "aa_coord_array = np.array(padded_aa_coord)\n",
    "\n",
    "# The result is a high-dimensional NumPy array\n",
    "print(aa_coord_array.shape)\n"
   ]
  },
  {
   "cell_type": "code",
   "execution_count": null,
   "metadata": {},
   "outputs": [],
   "source": [
    "for x in np.unique(variants['sample_id']):\n",
    "     print(variants[variants['sample_id'] == 'ERR9787047'].shape)"
   ]
  },
  {
   "cell_type": "code",
   "execution_count": 7,
   "metadata": {},
   "outputs": [
    {
     "data": {
      "text/plain": [
       "n.-187C>T               135403\n",
       "p.Glu21Gln              133939\n",
       "c.33A>G                 133602\n",
       "c.-165T>C               133108\n",
       "p.Ile948Val             133064\n",
       "                         ...  \n",
       "c.-4164_*1837del             1\n",
       "p.Ala876Ser                  1\n",
       "c.2192_2193insGCCTAG         1\n",
       "c.536_537insGCCCG            1\n",
       "n.1011T>G                    1\n",
       "Name: change, Length: 109920, dtype: int64"
      ]
     },
     "execution_count": 7,
     "metadata": {},
     "output_type": "execute_result"
    }
   ],
   "source": [
    "variants['change'].value_counts()"
   ]
  },
  {
   "cell_type": "code",
   "execution_count": null,
   "metadata": {},
   "outputs": [],
   "source": []
  }
 ],
 "metadata": {
  "kernelspec": {
   "display_name": "ml-g1",
   "language": "python",
   "name": "python3"
  },
  "language_info": {
   "codemirror_mode": {
    "name": "ipython",
    "version": 3
   },
   "file_extension": ".py",
   "mimetype": "text/x-python",
   "name": "python",
   "nbconvert_exporter": "python",
   "pygments_lexer": "ipython3",
   "version": "3.9.6"
  }
 },
 "nbformat": 4,
 "nbformat_minor": 2
}
